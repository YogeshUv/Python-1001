{
 "cells": [
  {
   "cell_type": "code",
   "execution_count": 1,
   "metadata": {},
   "outputs": [
    {
     "data": {
      "text/plain": [
       "[]"
      ]
     },
     "execution_count": 1,
     "metadata": {},
     "output_type": "execute_result"
    }
   ],
   "source": [
    "listObj = []\n",
    "listObj"
   ]
  },
  {
   "cell_type": "code",
   "execution_count": 2,
   "metadata": {},
   "outputs": [
    {
     "data": {
      "text/plain": [
       "0"
      ]
     },
     "execution_count": 2,
     "metadata": {},
     "output_type": "execute_result"
    }
   ],
   "source": [
    "len(listObj)"
   ]
  },
  {
   "cell_type": "code",
   "execution_count": 3,
   "metadata": {},
   "outputs": [
    {
     "data": {
      "text/plain": [
       "list"
      ]
     },
     "execution_count": 3,
     "metadata": {},
     "output_type": "execute_result"
    }
   ],
   "source": [
    "type(listObj)"
   ]
  },
  {
   "cell_type": "code",
   "execution_count": 15,
   "metadata": {},
   "outputs": [
    {
     "data": {
      "text/plain": [
       "['1', '2', '3', 'a', 'b', 'c']"
      ]
     },
     "execution_count": 15,
     "metadata": {},
     "output_type": "execute_result"
    }
   ],
   "source": [
    "l1 = list('123abc')\n",
    "type(l1)\n",
    "l1"
   ]
  },
  {
   "cell_type": "code",
   "execution_count": 16,
   "metadata": {},
   "outputs": [
    {
     "data": {
      "text/plain": [
       "[1, 2, 3, 4, -23, -90]"
      ]
     },
     "execution_count": 16,
     "metadata": {},
     "output_type": "execute_result"
    }
   ],
   "source": [
    "l2 = [1,2,3,4,-23,-90]\n",
    "l2"
   ]
  },
  {
   "cell_type": "code",
   "execution_count": 17,
   "metadata": {},
   "outputs": [
    {
     "data": {
      "text/plain": [
       "2248017693312"
      ]
     },
     "execution_count": 17,
     "metadata": {},
     "output_type": "execute_result"
    }
   ],
   "source": [
    "id(l2)"
   ]
  },
  {
   "cell_type": "code",
   "execution_count": 19,
   "metadata": {},
   "outputs": [
    {
     "name": "stdout",
     "output_type": "stream",
     "text": [
      "Built-in mutable sequence.\n",
      "\n",
      "If no argument is given, the constructor creates a new empty list.\n",
      "The argument must be an iterable if specified.\n"
     ]
    }
   ],
   "source": [
    "print(l2.__doc__)"
   ]
  },
  {
   "cell_type": "code",
   "execution_count": 21,
   "metadata": {},
   "outputs": [
    {
     "data": {
      "text/plain": [
       "[5, 6, 7, 8, 9]"
      ]
     },
     "execution_count": 21,
     "metadata": {},
     "output_type": "execute_result"
    }
   ],
   "source": [
    "l3 = list(range(5,10))\n",
    "l3"
   ]
  },
  {
   "cell_type": "code",
   "execution_count": 22,
   "metadata": {},
   "outputs": [
    {
     "data": {
      "text/plain": [
       "'Append object to the end of the list.'"
      ]
     },
     "execution_count": 22,
     "metadata": {},
     "output_type": "execute_result"
    }
   ],
   "source": [
    "l3.append.__doc__"
   ]
  },
  {
   "cell_type": "code",
   "execution_count": 23,
   "metadata": {},
   "outputs": [
    {
     "name": "stdout",
     "output_type": "stream",
     "text": [
      "__add__:\n",
      "Return self+value.\n",
      "----------------------------------------\n",
      "__class__:\n",
      "type(object) -> the object's type\n",
      "type(name, bases, dict, **kwds) -> a new type\n",
      "----------------------------------------\n",
      "__class_getitem__:\n",
      "See PEP 585\n",
      "----------------------------------------\n",
      "__contains__:\n",
      "Return key in self.\n",
      "----------------------------------------\n",
      "__delattr__:\n",
      "Implement delattr(self, name).\n",
      "----------------------------------------\n",
      "__delitem__:\n",
      "Delete self[key].\n",
      "----------------------------------------\n",
      "__dir__:\n",
      "Default dir() implementation.\n",
      "----------------------------------------\n",
      "__eq__:\n",
      "Return self==value.\n",
      "----------------------------------------\n",
      "__format__:\n",
      "Default object formatter.\n",
      "----------------------------------------\n",
      "__ge__:\n",
      "Return self>=value.\n",
      "----------------------------------------\n",
      "__getattribute__:\n",
      "Return getattr(self, name).\n",
      "----------------------------------------\n",
      "__getitem__:\n",
      "x.__getitem__(y) <==> x[y]\n",
      "----------------------------------------\n",
      "__getstate__:\n",
      "Helper for pickle.\n",
      "----------------------------------------\n",
      "__gt__:\n",
      "Return self>value.\n",
      "----------------------------------------\n",
      "__iadd__:\n",
      "Implement self+=value.\n",
      "----------------------------------------\n",
      "__imul__:\n",
      "Implement self*=value.\n",
      "----------------------------------------\n",
      "__init__:\n",
      "Initialize self.  See help(type(self)) for accurate signature.\n",
      "----------------------------------------\n",
      "__init_subclass__:\n",
      "This method is called when a class is subclassed.\n",
      "\n",
      "The default implementation does nothing. It may be\n",
      "overridden to extend subclasses.\n",
      "\n",
      "----------------------------------------\n",
      "__iter__:\n",
      "Implement iter(self).\n",
      "----------------------------------------\n",
      "__le__:\n",
      "Return self<=value.\n",
      "----------------------------------------\n",
      "__len__:\n",
      "Return len(self).\n",
      "----------------------------------------\n",
      "__lt__:\n",
      "Return self<value.\n",
      "----------------------------------------\n",
      "__mul__:\n",
      "Return self*value.\n",
      "----------------------------------------\n",
      "__ne__:\n",
      "Return self!=value.\n",
      "----------------------------------------\n",
      "__new__:\n",
      "Create and return a new object.  See help(type) for accurate signature.\n",
      "----------------------------------------\n",
      "__reduce__:\n",
      "Helper for pickle.\n",
      "----------------------------------------\n",
      "__reduce_ex__:\n",
      "Helper for pickle.\n",
      "----------------------------------------\n",
      "__repr__:\n",
      "Return repr(self).\n",
      "----------------------------------------\n",
      "__reversed__:\n",
      "Return a reverse iterator over the list.\n",
      "----------------------------------------\n",
      "__rmul__:\n",
      "Return value*self.\n",
      "----------------------------------------\n",
      "__setattr__:\n",
      "Implement setattr(self, name, value).\n",
      "----------------------------------------\n",
      "__setitem__:\n",
      "Set self[key] to value.\n",
      "----------------------------------------\n",
      "__sizeof__:\n",
      "Return the size of the list in memory, in bytes.\n",
      "----------------------------------------\n",
      "__str__:\n",
      "Return str(self).\n",
      "----------------------------------------\n",
      "__subclasshook__:\n",
      "Abstract classes can override this to customize issubclass().\n",
      "\n",
      "This is invoked early on by abc.ABCMeta.__subclasscheck__().\n",
      "It should return True, False or NotImplemented.  If it returns\n",
      "NotImplemented, the normal algorithm is used.  Otherwise, it\n",
      "overrides the normal algorithm (and the outcome is cached).\n",
      "\n",
      "----------------------------------------\n",
      "append:\n",
      "Append object to the end of the list.\n",
      "----------------------------------------\n",
      "clear:\n",
      "Remove all items from list.\n",
      "----------------------------------------\n",
      "copy:\n",
      "Return a shallow copy of the list.\n",
      "----------------------------------------\n",
      "count:\n",
      "Return number of occurrences of value.\n",
      "----------------------------------------\n",
      "extend:\n",
      "Extend list by appending elements from the iterable.\n",
      "----------------------------------------\n",
      "index:\n",
      "Return first index of value.\n",
      "\n",
      "Raises ValueError if the value is not present.\n",
      "----------------------------------------\n",
      "insert:\n",
      "Insert object before index.\n",
      "----------------------------------------\n",
      "pop:\n",
      "Remove and return item at index (default last).\n",
      "\n",
      "Raises IndexError if list is empty or index is out of range.\n",
      "----------------------------------------\n",
      "remove:\n",
      "Remove first occurrence of value.\n",
      "\n",
      "Raises ValueError if the value is not present.\n",
      "----------------------------------------\n",
      "reverse:\n",
      "Reverse *IN PLACE*.\n",
      "----------------------------------------\n",
      "sort:\n",
      "Sort the list in ascending order and return None.\n",
      "\n",
      "The sort is in-place (i.e. the list itself is modified) and stable (i.e. the\n",
      "order of two equal elements is maintained).\n",
      "\n",
      "If a key function is given, apply it once to each list item and sort them,\n",
      "ascending or descending, according to their function values.\n",
      "\n",
      "The reverse flag can be set to sort in descending order.\n",
      "----------------------------------------\n"
     ]
    }
   ],
   "source": [
    "# Get all methods of a list object\n",
    "methods = dir(list)\n",
    "\n",
    "# Iterate through the methods and print their __doc__\n",
    "for method in methods:\n",
    "    # Get the attribute from the list class\n",
    "    attr = getattr(list, method, None)\n",
    "    if callable(attr):  # Check if it's callable (a function/method)\n",
    "        print(f\"{method}:\\n{attr.__doc__}\\n{'-'*40}\")\n"
   ]
  },
  {
   "cell_type": "code",
   "execution_count": 24,
   "metadata": {},
   "outputs": [
    {
     "data": {
      "text/plain": [
       "['__add__',\n",
       " '__class__',\n",
       " '__class_getitem__',\n",
       " '__contains__',\n",
       " '__delattr__',\n",
       " '__delitem__',\n",
       " '__dir__',\n",
       " '__doc__',\n",
       " '__eq__',\n",
       " '__format__',\n",
       " '__ge__',\n",
       " '__getattribute__',\n",
       " '__getitem__',\n",
       " '__getstate__',\n",
       " '__gt__',\n",
       " '__hash__',\n",
       " '__iadd__',\n",
       " '__imul__',\n",
       " '__init__',\n",
       " '__init_subclass__',\n",
       " '__iter__',\n",
       " '__le__',\n",
       " '__len__',\n",
       " '__lt__',\n",
       " '__mul__',\n",
       " '__ne__',\n",
       " '__new__',\n",
       " '__reduce__',\n",
       " '__reduce_ex__',\n",
       " '__repr__',\n",
       " '__reversed__',\n",
       " '__rmul__',\n",
       " '__setattr__',\n",
       " '__setitem__',\n",
       " '__sizeof__',\n",
       " '__str__',\n",
       " '__subclasshook__',\n",
       " 'append',\n",
       " 'clear',\n",
       " 'copy',\n",
       " 'count',\n",
       " 'extend',\n",
       " 'index',\n",
       " 'insert',\n",
       " 'pop',\n",
       " 'remove',\n",
       " 'reverse',\n",
       " 'sort']"
      ]
     },
     "execution_count": 24,
     "metadata": {},
     "output_type": "execute_result"
    }
   ],
   "source": [
    "methods"
   ]
  },
  {
   "cell_type": "code",
   "execution_count": 25,
   "metadata": {},
   "outputs": [
    {
     "name": "stdout",
     "output_type": "stream",
     "text": [
      "__add__: Method\n",
      "__class__: Method\n",
      "__class_getitem__: Method\n",
      "__contains__: Method\n",
      "__delattr__: Method\n",
      "__delitem__: Method\n",
      "__dir__: Method\n",
      "__doc__: Attribute\n",
      "__eq__: Method\n",
      "__format__: Method\n",
      "__ge__: Method\n",
      "__getattribute__: Method\n",
      "__getitem__: Method\n",
      "__getstate__: Method\n",
      "__gt__: Method\n",
      "__hash__: Attribute\n",
      "__iadd__: Method\n",
      "__imul__: Method\n",
      "__init__: Method\n",
      "__init_subclass__: Method\n",
      "__iter__: Method\n",
      "__le__: Method\n",
      "__len__: Method\n",
      "__lt__: Method\n",
      "__mul__: Method\n",
      "__ne__: Method\n",
      "__new__: Method\n",
      "__reduce__: Method\n",
      "__reduce_ex__: Method\n",
      "__repr__: Method\n",
      "__reversed__: Method\n",
      "__rmul__: Method\n",
      "__setattr__: Method\n",
      "__setitem__: Method\n",
      "__sizeof__: Method\n",
      "__str__: Method\n",
      "__subclasshook__: Method\n",
      "append: Method\n",
      "clear: Method\n",
      "copy: Method\n",
      "count: Method\n",
      "extend: Method\n",
      "index: Method\n",
      "insert: Method\n",
      "pop: Method\n",
      "remove: Method\n",
      "reverse: Method\n",
      "sort: Method\n"
     ]
    }
   ],
   "source": [
    "methods = dir(list)\n",
    "for method in methods:\n",
    "    attr = getattr(list, method)\n",
    "    print(f\"{method}: {'Method' if callable(attr) else 'Attribute'}\")\n"
   ]
  },
  {
   "cell_type": "code",
   "execution_count": null,
   "metadata": {},
   "outputs": [],
   "source": []
  }
 ],
 "metadata": {
  "kernelspec": {
   "display_name": "base",
   "language": "python",
   "name": "python3"
  },
  "language_info": {
   "codemirror_mode": {
    "name": "ipython",
    "version": 3
   },
   "file_extension": ".py",
   "mimetype": "text/x-python",
   "name": "python",
   "nbconvert_exporter": "python",
   "pygments_lexer": "ipython3",
   "version": "3.11.5"
  }
 },
 "nbformat": 4,
 "nbformat_minor": 2
}
