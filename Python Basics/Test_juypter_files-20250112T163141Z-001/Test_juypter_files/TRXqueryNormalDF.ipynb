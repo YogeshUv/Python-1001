{
 "cells": [
  {
   "cell_type": "code",
   "execution_count": null,
   "id": "10d898a8",
   "metadata": {},
   "outputs": [],
   "source": [
    "import cx_Oracle\n",
    "import pandas as pd\n",
    "import os\n",
    "# import pyarrow.parquet as pq\n",
    "# Source database connection\n",
    "source_conn = cx_Oracle.connect(\n",
    "    user=\"apps\",\n",
    "    password=\"apps\",\n",
    "    dsn=\"csebsd2db.cswg.com:1521/csebsd2_int\"\n",
    ")\n",
    "source_cursor = source_conn.cursor()\n",
    "TRX_query = \"\"\"SELECT\n",
    "          TRX_DATE, SHIP_TO_SITE_USE_ID\n",
    "    FROM APPS.RA_CUSTOMER_TRX_ALL\"\"\"\n",
    "# %%time\n",
    "source_cursor.execute(TRX_query)\n",
    "TRX_df = source_cursor.fetchall()\n",
    "TRX_df"
   ]
  },
  {
   "cell_type": "code",
   "execution_count": 8,
   "id": "b457f7b8",
   "metadata": {},
   "outputs": [],
   "source": []
  },
  {
   "cell_type": "code",
   "execution_count": 5,
   "id": "980e8cde",
   "metadata": {},
   "outputs": [],
   "source": []
  },
  {
   "cell_type": "code",
   "execution_count": null,
   "id": "1d34703c",
   "metadata": {},
   "outputs": [],
   "source": [
    "%%time\n",
    "source_cursor.execute(TRX_query)\n",
    "TRX_df = source_cursor.fetchall()\n",
    "TRX_df"
   ]
  }
 ],
 "metadata": {
  "kernelspec": {
   "display_name": "Python 3",
   "language": "python",
   "name": "python3"
  },
  "language_info": {
   "codemirror_mode": {
    "name": "ipython",
    "version": 3
   },
   "file_extension": ".py",
   "mimetype": "text/x-python",
   "name": "python",
   "nbconvert_exporter": "python",
   "pygments_lexer": "ipython3",
   "version": "3.8.8"
  }
 },
 "nbformat": 4,
 "nbformat_minor": 5
}
