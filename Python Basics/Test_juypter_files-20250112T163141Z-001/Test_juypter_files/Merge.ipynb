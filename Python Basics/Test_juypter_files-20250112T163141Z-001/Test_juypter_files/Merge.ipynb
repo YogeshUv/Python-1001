{
 "cells": [
  {
   "cell_type": "code",
   "execution_count": 3,
   "id": "21bbc4ae",
   "metadata": {},
   "outputs": [
    {
     "ename": "TypeError",
     "evalue": "'NoneType' object is not iterable",
     "output_type": "error",
     "traceback": [
      "\u001b[1;31m---------------------------------------------------------------------------\u001b[0m",
      "\u001b[1;31mTypeError\u001b[0m                                 Traceback (most recent call last)",
      "\u001b[1;32m<timed exec>\u001b[0m in \u001b[0;36m<module>\u001b[1;34m\u001b[0m\n",
      "\u001b[1;32m~\\anaconda3\\lib\\site-packages\\pandas\\io\\sql.py\u001b[0m in \u001b[0;36mread_sql_query\u001b[1;34m(sql, con, index_col, coerce_float, params, parse_dates, chunksize)\u001b[0m\n\u001b[0;32m    386\u001b[0m     \"\"\"\n\u001b[0;32m    387\u001b[0m     \u001b[0mpandas_sql\u001b[0m \u001b[1;33m=\u001b[0m \u001b[0mpandasSQL_builder\u001b[0m\u001b[1;33m(\u001b[0m\u001b[0mcon\u001b[0m\u001b[1;33m)\u001b[0m\u001b[1;33m\u001b[0m\u001b[1;33m\u001b[0m\u001b[0m\n\u001b[1;32m--> 388\u001b[1;33m     return pandas_sql.read_query(\n\u001b[0m\u001b[0;32m    389\u001b[0m         \u001b[0msql\u001b[0m\u001b[1;33m,\u001b[0m\u001b[1;33m\u001b[0m\u001b[1;33m\u001b[0m\u001b[0m\n\u001b[0;32m    390\u001b[0m         \u001b[0mindex_col\u001b[0m\u001b[1;33m=\u001b[0m\u001b[0mindex_col\u001b[0m\u001b[1;33m,\u001b[0m\u001b[1;33m\u001b[0m\u001b[1;33m\u001b[0m\u001b[0m\n",
      "\u001b[1;32m~\\anaconda3\\lib\\site-packages\\pandas\\io\\sql.py\u001b[0m in \u001b[0;36mread_query\u001b[1;34m(self, sql, index_col, coerce_float, params, parse_dates, chunksize)\u001b[0m\n\u001b[0;32m   1770\u001b[0m         \u001b[0margs\u001b[0m \u001b[1;33m=\u001b[0m \u001b[0m_convert_params\u001b[0m\u001b[1;33m(\u001b[0m\u001b[0msql\u001b[0m\u001b[1;33m,\u001b[0m \u001b[0mparams\u001b[0m\u001b[1;33m)\u001b[0m\u001b[1;33m\u001b[0m\u001b[1;33m\u001b[0m\u001b[0m\n\u001b[0;32m   1771\u001b[0m         \u001b[0mcursor\u001b[0m \u001b[1;33m=\u001b[0m \u001b[0mself\u001b[0m\u001b[1;33m.\u001b[0m\u001b[0mexecute\u001b[0m\u001b[1;33m(\u001b[0m\u001b[1;33m*\u001b[0m\u001b[0margs\u001b[0m\u001b[1;33m)\u001b[0m\u001b[1;33m\u001b[0m\u001b[1;33m\u001b[0m\u001b[0m\n\u001b[1;32m-> 1772\u001b[1;33m         \u001b[0mcolumns\u001b[0m \u001b[1;33m=\u001b[0m \u001b[1;33m[\u001b[0m\u001b[0mcol_desc\u001b[0m\u001b[1;33m[\u001b[0m\u001b[1;36m0\u001b[0m\u001b[1;33m]\u001b[0m \u001b[1;32mfor\u001b[0m \u001b[0mcol_desc\u001b[0m \u001b[1;32min\u001b[0m \u001b[0mcursor\u001b[0m\u001b[1;33m.\u001b[0m\u001b[0mdescription\u001b[0m\u001b[1;33m]\u001b[0m\u001b[1;33m\u001b[0m\u001b[1;33m\u001b[0m\u001b[0m\n\u001b[0m\u001b[0;32m   1773\u001b[0m \u001b[1;33m\u001b[0m\u001b[0m\n\u001b[0;32m   1774\u001b[0m         \u001b[1;32mif\u001b[0m \u001b[0mchunksize\u001b[0m \u001b[1;32mis\u001b[0m \u001b[1;32mnot\u001b[0m \u001b[1;32mNone\u001b[0m\u001b[1;33m:\u001b[0m\u001b[1;33m\u001b[0m\u001b[1;33m\u001b[0m\u001b[0m\n",
      "\u001b[1;31mTypeError\u001b[0m: 'NoneType' object is not iterable"
     ]
    }
   ],
   "source": [
    "%%time\n",
    "import cx_Oracle\n",
    "import pandas as pd\n",
    "# Source database connection\n",
    "source_conn = cx_Oracle.connect(\n",
    "    user=\"apps\",\n",
    "    password=\"apps\",\n",
    "    dsn=\"csebsd2db.cswg.com:1521/csebsd2_int\"\n",
    ")\n",
    "\n",
    "# Create a cursor\n",
    "cursor = source_conn.cursor()\n",
    "\n",
    "# SQL query\n",
    "merge_query = \"\"\"\n",
    "MERGE INTO xxfin.xxar_customer_master a\n",
    "USING (\n",
    "    SELECT MAX(TRX_DATE) AS TRX_DATE,\n",
    "           SHIP_TO_SITE_USE_ID\n",
    "    FROM APPS.RA_CUSTOMER_TRX_ALL\n",
    "    WHERE SHIP_TO_SITE_USE_ID IS NOT NULL\n",
    "    AND LAST_UPDATE_DATE > (SYSDATE - 30)\n",
    "    GROUP BY SHIP_TO_SITE_USE_ID\n",
    ") b\n",
    "ON (a.ship_to_site_use_id = b.ship_to_site_use_id)\n",
    "WHEN MATCHED THEN\n",
    "    UPDATE\n",
    "    SET a.last_bill_date = b.trx_date\n",
    "\"\"\"\n",
    "\n",
    "try:\n",
    "#     # Execute the query\n",
    "#     cursor.execute(merge_query)\n",
    "# #     cur_gtt= pd.read_sql_query(query, source_conn)\n",
    "#     # Get the number of rows affected\n",
    "#     rows_affected = cursor.rowcount\n",
    "#     print(f\"Rows affected: {rows_affected}\")\n",
    "    merge_df = pd.read_sql_query(merge_query, source_conn)\n",
    "    # Rows affected will be the number of rows in the DataFrame\n",
    "    rows_affected = len(merge_df)\n",
    "    print(f\"Rows affected in Merge : {rows_affected}\")\n",
    "\n",
    "except cx_Oracle.DatabaseError as e:\n",
    "    # If an error occurs, print the error message\n",
    "    print(f\"Error: {e}\")\n",
    "\n",
    "finally:\n",
    "    # Close the cursor and connection\n",
    "    cursor.close()\n",
    "    source_conn.close()\n"
   ]
  },
  {
   "cell_type": "code",
   "execution_count": 3,
   "id": "b0329548",
   "metadata": {},
   "outputs": [
    {
     "name": "stdout",
     "output_type": "stream",
     "text": [
      "User ID: -1\n",
      "Concurrent Request ID: -1\n"
     ]
    },
    {
     "ename": "NameError",
     "evalue": "name 'conn' is not defined",
     "output_type": "error",
     "traceback": [
      "\u001b[1;31m---------------------------------------------------------------------------\u001b[0m",
      "\u001b[1;31mNameError\u001b[0m                                 Traceback (most recent call last)",
      "\u001b[1;32m<timed exec>\u001b[0m in \u001b[0;36m<module>\u001b[1;34m\u001b[0m\n",
      "\u001b[1;31mNameError\u001b[0m: name 'conn' is not defined"
     ]
    }
   ],
   "source": [
    "%%time\n",
    "import cx_Oracle\n",
    "\n",
    "# Source database connection\n",
    "source_conn = cx_Oracle.connect(\n",
    "    user=\"apps\",\n",
    "    password=\"apps\",\n",
    "    dsn=\"csebsd2db.cswg.com:1521/csebsd2_int\"\n",
    ")\n",
    "\n",
    "# Connect to the Oracle EBS database\n",
    "\n",
    "\n",
    "# Create a cursor\n",
    "cursor = source_conn.cursor()\n",
    "\n",
    "# Call FND_GLOBAL to get USER_ID and CONC_REQUEST_ID\n",
    "cursor.execute(\"SELECT FND_GLOBAL.USER_ID, FND_GLOBAL.CONC_REQUEST_ID FROM DUAL\")\n",
    "result = cursor.fetchone()\n",
    "\n",
    "# Fetch the values\n",
    "user_id, conc_request_id = result\n",
    "\n",
    "# Print or use the values as needed\n",
    "print(\"User ID:\", user_id)\n",
    "print(\"Concurrent Request ID:\", conc_request_id)\n",
    "\n",
    "# Close the cursor and connection\n",
    "cursor.close()\n",
    "conn.close()"
   ]
  },
  {
   "cell_type": "code",
   "execution_count": 4,
   "id": "751a4c13",
   "metadata": {},
   "outputs": [
    {
     "name": "stdout",
     "output_type": "stream",
     "text": [
      "Batch ID: eb312c48-878a-46bb-9913-cefe2520ded1\n"
     ]
    }
   ],
   "source": [
    "import uuid\n",
    "\n",
    "# Generate a unique identifier (UID) or batch ID\n",
    "batch_id = str(uuid.uuid4())\n",
    "\n",
    "# Use the generated batch_id wherever it is required in your job\n",
    "\n",
    "# Example: Print the batch_id\n",
    "print(\"Batch ID:\", batch_id)"
   ]
  },
  {
   "cell_type": "code",
   "execution_count": 5,
   "id": "fda4e47d",
   "metadata": {},
   "outputs": [
    {
     "name": "stdout",
     "output_type": "stream",
     "text": [
      "Request ID: 1699547166981001\n",
      "Request ID: 1699547166982002\n",
      "Request ID: 1699547166982003\n",
      "Request ID: 1699547166982004\n",
      "Request ID: 1699547166982005\n"
     ]
    }
   ],
   "source": [
    "import time\n",
    "import uuid\n",
    "\n",
    "class RequestIDGenerator:\n",
    "    def __init__(self):\n",
    "        self.counter = 0\n",
    "\n",
    "    def generate_request_id(self):\n",
    "        timestamp = int(time.time() * 1000)  # Convert current time to milliseconds\n",
    "        self.counter += 1\n",
    "        request_id = int(f\"{timestamp:013d}{self.counter:03d}\")\n",
    "        return request_id\n",
    "\n",
    "# Example usage\n",
    "id_generator = RequestIDGenerator()\n",
    "\n",
    "# Generate request IDs\n",
    "for _ in range(5):\n",
    "    request_id = id_generator.generate_request_id()\n",
    "    print(\"Request ID:\", request_id)\n"
   ]
  },
  {
   "cell_type": "code",
   "execution_count": 6,
   "id": "8612537c",
   "metadata": {},
   "outputs": [
    {
     "name": "stdout",
     "output_type": "stream",
     "text": [
      "Numeric ID: 116906467688004487161951582906790172185\n"
     ]
    }
   ],
   "source": [
    "import uuid\n",
    "\n",
    "# Generate a unique identifier (UID) or batch ID\n",
    "batch_id = uuid.uuid4()\n",
    "\n",
    "# Convert UUID to an integer (hashing)\n",
    "numeric_id = int(batch_id.int)\n",
    "\n",
    "# Use the generated numeric_id wherever it is required in your job\n",
    "\n",
    "# Example: Print the numeric_id\n",
    "print(\"Numeric ID:\", numeric_id)\n"
   ]
  },
  {
   "cell_type": "code",
   "execution_count": 8,
   "id": "589e04d4",
   "metadata": {
    "scrolled": true
   },
   "outputs": [
    {
     "data": {
      "text/plain": [
       "16"
      ]
     },
     "execution_count": 8,
     "metadata": {},
     "output_type": "execute_result"
    }
   ],
   "source": [
    "len('1699547166981001')"
   ]
  },
  {
   "cell_type": "code",
   "execution_count": 7,
   "id": "1f7da5e8",
   "metadata": {
    "scrolled": true
   },
   "outputs": [
    {
     "data": {
      "text/plain": [
       "39"
      ]
     },
     "execution_count": 7,
     "metadata": {},
     "output_type": "execute_result"
    }
   ],
   "source": [
    "len('116906467688004487161951582906790172185')"
   ]
  },
  {
   "cell_type": "code",
   "execution_count": 9,
   "id": "3de95e58",
   "metadata": {},
   "outputs": [
    {
     "ename": "SyntaxError",
     "evalue": "invalid syntax (<ipython-input-9-65f61d8d055c>, line 2)",
     "output_type": "error",
     "traceback": [
      "\u001b[1;36m  File \u001b[1;32m\"<ipython-input-9-65f61d8d055c>\"\u001b[1;36m, line \u001b[1;32m2\u001b[0m\n\u001b[1;33m    how to add few more columns form this dict additional_columns_dict = {\u001b[0m\n\u001b[1;37m        ^\u001b[0m\n\u001b[1;31mSyntaxError\u001b[0m\u001b[1;31m:\u001b[0m invalid syntax\n"
     ]
    }
   ],
   "source": [
    "\n",
    "    columns_str = ', '.join(column_names)\n",
    "how to add few more columns form this dict additional_columns_dict = {\n",
    "    'request_id': -999,\n",
    "    'creation_date': 'SYSDATE',\n",
    "    'created_by': -999,\n",
    "    'last_update_date': 'SYSDATE',\n",
    "    'last_updated_by': -999,\n",
    "    'last_update_login': -999\n",
    "}"
   ]
  },
  {
   "cell_type": "code",
   "execution_count": 21,
   "id": "e1422896",
   "metadata": {},
   "outputs": [
    {
     "name": "stdout",
     "output_type": "stream",
     "text": [
      "col1, col2, col3, request_id, creation_date, created_by, last_update_date, last_updated_by, last_update_login\n",
      "5\n"
     ]
    }
   ],
   "source": [
    "column_names = ['col1', 'col2', 'col3']  # replace with your actual column names\n",
    "additional_columns_dict = {\n",
    "    'request_id': -999,\n",
    "    'creation_date': 'SYSDATE',\n",
    "    'created_by': -999,\n",
    "    'last_update_date': 'SYSDATE',\n",
    "    'last_updated_by': -999,\n",
    "    'last_update_login': -999\n",
    "}\n",
    "\n",
    "the_value = 5\n",
    "\n",
    "bill_date = {\n",
    "    'last_bill_date' : the_value\n",
    "}\n",
    "\n",
    "# Add columns from additional_columns_dict\n",
    "column_names.extend(additional_columns_dict.keys())\n",
    "# column_names.extend(bill_date.keys())\n",
    "\n",
    "# Create a comma-separated string of column names\n",
    "columns_str = ', '.join(column_names)\n",
    "\n",
    "print(columns_str)\n",
    "a = bill_date.values()\n",
    "value_from_dict = list(a)[0]\n",
    "print(value_from_dict)\n"
   ]
  },
  {
   "cell_type": "code",
   "execution_count": 4,
   "id": "715fbed1",
   "metadata": {},
   "outputs": [
    {
     "ename": "NameError",
     "evalue": "name 'insert_cur_gtt' is not defined",
     "output_type": "error",
     "traceback": [
      "\u001b[1;31m---------------------------------------------------------------------------\u001b[0m",
      "\u001b[1;31mNameError\u001b[0m                                 Traceback (most recent call last)",
      "\u001b[1;32m<ipython-input-4-732537e4b4b6>\u001b[0m in \u001b[0;36m<module>\u001b[1;34m\u001b[0m\n\u001b[0;32m      1\u001b[0m \u001b[1;31m# Create an empty DataFrame with the same columns as insert_cur_gtt\u001b[0m\u001b[1;33m\u001b[0m\u001b[1;33m\u001b[0m\u001b[1;33m\u001b[0m\u001b[0m\n\u001b[1;32m----> 2\u001b[1;33m \u001b[0mempty_df\u001b[0m \u001b[1;33m=\u001b[0m \u001b[0mpd\u001b[0m\u001b[1;33m.\u001b[0m\u001b[0mDataFrame\u001b[0m\u001b[1;33m(\u001b[0m\u001b[0mcolumns\u001b[0m\u001b[1;33m=\u001b[0m\u001b[0minsert_cur_gtt\u001b[0m\u001b[1;33m.\u001b[0m\u001b[0mcolumns\u001b[0m\u001b[1;33m)\u001b[0m\u001b[1;33m\u001b[0m\u001b[1;33m\u001b[0m\u001b[0m\n\u001b[0m\u001b[0;32m      3\u001b[0m \u001b[1;33m\u001b[0m\u001b[0m\n\u001b[0;32m      4\u001b[0m \u001b[1;31m# Now print the shape of the empty DataFrame\u001b[0m\u001b[1;33m\u001b[0m\u001b[1;33m\u001b[0m\u001b[1;33m\u001b[0m\u001b[0m\n\u001b[0;32m      5\u001b[0m \u001b[0mprint\u001b[0m\u001b[1;33m(\u001b[0m\u001b[1;34mf\"Number of rows in empty DataFrame: {empty_df.shape[0]}\"\u001b[0m\u001b[1;33m)\u001b[0m\u001b[1;33m\u001b[0m\u001b[1;33m\u001b[0m\u001b[0m\n",
      "\u001b[1;31mNameError\u001b[0m: name 'insert_cur_gtt' is not defined"
     ]
    }
   ],
   "source": [
    "# Create an empty DataFrame with the same columns as insert_cur_gtt\n",
    "empty_df = pd.DataFrame(columns=insert_cur_gtt.columns)\n",
    "\n",
    "# Now print the shape of the empty DataFrame\n",
    "print(f\"Number of rows in empty DataFrame: {empty_df.shape[0]}\")\n"
   ]
  },
  {
   "cell_type": "code",
   "execution_count": 25,
   "id": "fb1da8ce",
   "metadata": {},
   "outputs": [
    {
     "data": {
      "text/plain": [
       "'col1, col2, col3, request_id, creation_date, created_by, last_update_date, last_updated_by, last_update_login, last_bill_date'"
      ]
     },
     "execution_count": 25,
     "metadata": {},
     "output_type": "execute_result"
    }
   ],
   "source": [
    "audit_columns_str =columns_str + ', last_bill_date'\n",
    "audit_columns_str"
   ]
  }
 ],
 "metadata": {
  "kernelspec": {
   "display_name": "Python 3",
   "language": "python",
   "name": "python3"
  },
  "language_info": {
   "codemirror_mode": {
    "name": "ipython",
    "version": 3
   },
   "file_extension": ".py",
   "mimetype": "text/x-python",
   "name": "python",
   "nbconvert_exporter": "python",
   "pygments_lexer": "ipython3",
   "version": "3.8.8"
  }
 },
 "nbformat": 4,
 "nbformat_minor": 5
}
