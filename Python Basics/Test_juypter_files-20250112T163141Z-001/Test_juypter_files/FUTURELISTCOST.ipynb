{
 "cells": [
  {
   "cell_type": "code",
   "execution_count": 3,
   "id": "fcc5d31b",
   "metadata": {
    "scrolled": true
   },
   "outputs": [
    {
     "name": "stdout",
     "output_type": "stream",
     "text": [
      "<LIST_COST_MAINT><BICEPSITEM>250473199</BICEPSITEM> <FIRSTORDERDATE>120723</FIRSTORDERDATE> <LASTORDERDATE>010624</LASTORDERDATE> <ITEMLISTFUTURE>00046.1800</ITEMLISTFUTURE> <DATESELLEFF>010724</DATESELLEFF> <DEALMANUFACTURENUMBER>120730106ORA4618</DEALMANUFACTURENUMBER> <LISTCOSTADD></LISTCOSTADD>       <TRANSACTIONID>L120623000000000000001<TRANSACTIONID> </LIST_COST_MAINT>                                                                                                                            \n",
      "<LIST_COST_MAINT><BICEPSITEM>250494237</BICEPSITEM> <FIRSTORDERDATE>120723</FIRSTORDERDATE> <LASTORDERDATE>010624</LASTORDERDATE> <ITEMLISTFUTURE>00024.2600</ITEMLISTFUTURE> <DATESELLEFF>010724</DATESELLEFF> <DEALMANUFACTURENUMBER>120730106ORA2426</DEALMANUFACTURENUMBER> <LISTCOSTADD></LISTCOSTADD>       <TRANSACTIONID>L120623000000000000002<TRANSACTIONID> </LIST_COST_MAINT>                                                                                                                            \n",
      "<LIST_COST_MAINT><BICEPSITEM>250091739</BICEPSITEM> <FIRSTORDERDATE>030824</FIRSTORDERDATE> <LASTORDERDATE>040724</LASTORDERDATE> <ITEMLISTFUTURE>00014.2000</ITEMLISTFUTURE> <DATESELLEFF>040824</DATESELLEFF> <DEALMANUFACTURENUMBER>030840407ORA1420</DEALMANUFACTURENUMBER> <LISTCOSTADD></LISTCOSTADD>       <TRANSACTIONID>L120623000000000000003<TRANSACTIONID> </LIST_COST_MAINT>                                                                                                                            \n",
      "<LIST_COST_MAINT><BICEPSITEM>250952159</BICEPSITEM> <FIRSTORDERDATE>030824</FIRSTORDERDATE> <LASTORDERDATE>040724</LASTORDERDATE> <ITEMLISTFUTURE>00013.5200</ITEMLISTFUTURE> <DATESELLEFF>040824</DATESELLEFF> <DEALMANUFACTURENUMBER>030840407ORA1352</DEALMANUFACTURENUMBER> <LISTCOSTADD></LISTCOSTADD>       <TRANSACTIONID>L120623000000000000004<TRANSACTIONID> </LIST_COST_MAINT>                                                                                                                            \n",
      "<LIST_COST_MAINT><BICEPSITEM>250494237</BICEPSITEM> <FIRSTORDERDATE>030824</FIRSTORDERDATE> <LASTORDERDATE>040724</LASTORDERDATE> <ITEMLISTFUTURE>00022.6500</ITEMLISTFUTURE> <DATESELLEFF>040824</DATESELLEFF> <DEALMANUFACTURENUMBER>030840407ORA2265</DEALMANUFACTURENUMBER> <LISTCOSTADD></LISTCOSTADD>       <TRANSACTIONID>L120623000000000000005<TRANSACTIONID> </LIST_COST_MAINT>                                                                                                                            \n",
      "<LIST_COST_MAINT><BICEPSITEM>250473199</BICEPSITEM> <FIRSTORDERDATE>030824</FIRSTORDERDATE> <LASTORDERDATE>040724</LASTORDERDATE> <ITEMLISTFUTURE>00040.9300</ITEMLISTFUTURE> <DATESELLEFF>040824</DATESELLEFF> <DEALMANUFACTURENUMBER>030840407ORA4093</DEALMANUFACTURENUMBER> <LISTCOSTADD></LISTCOSTADD>       <TRANSACTIONID>L120623000000000000006<TRANSACTIONID> </LIST_COST_MAINT>                                                                                                                            \n",
      "<LIST_COST_MAINT><BICEPSITEM>251582038</BICEPSITEM> <FIRSTORDERDATE>010524</FIRSTORDERDATE> <LASTORDERDATE>020424</LASTORDERDATE> <ITEMLISTFUTURE>00187.2000</ITEMLISTFUTURE> <DATESELLEFF>020524</DATESELLEFF> <DEALMANUFACTURENUMBER>010540204ORA1820</DEALMANUFACTURENUMBER> <LISTCOSTADD></LISTCOSTADD>       <TRANSACTIONID>L120623000000000000007<TRANSACTIONID> </LIST_COST_MAINT>                                                                                                                            \n",
      "<LIST_COST_MAINT><BICEPSITEM>251580418</BICEPSITEM> <FIRSTORDERDATE>010524</FIRSTORDERDATE> <LASTORDERDATE>020424</LASTORDERDATE> <ITEMLISTFUTURE>00019.9200</ITEMLISTFUTURE> <DATESELLEFF>020524</DATESELLEFF> <DEALMANUFACTURENUMBER>010540204ORA1992</DEALMANUFACTURENUMBER> <LISTCOSTADD></LISTCOSTADD>       <TRANSACTIONID>L120623000000000000008<TRANSACTIONID> </LIST_COST_MAINT>                                                                                                                            \n",
      "\n"
     ]
    },
    {
     "ename": "ParseError",
     "evalue": "mismatched tag: line 1, column 361 (<string>)",
     "output_type": "error",
     "traceback": [
      "Traceback \u001b[1;36m(most recent call last)\u001b[0m:\n",
      "  File \u001b[0;32m\"C:\\Users\\User\\anaconda3\\lib\\site-packages\\IPython\\core\\interactiveshell.py\"\u001b[0m, line \u001b[0;32m3437\u001b[0m, in \u001b[0;35mrun_code\u001b[0m\n    exec(code_obj, self.user_global_ns, self.user_ns)\n",
      "  File \u001b[0;32m\"<ipython-input-3-a271c77bc499>\"\u001b[0m, line \u001b[0;32m13\u001b[0m, in \u001b[0;35m<module>\u001b[0m\n    root = ET.fromstring(xml_data)\n",
      "\u001b[1;36m  File \u001b[1;32m\"C:\\Users\\User\\anaconda3\\lib\\xml\\etree\\ElementTree.py\"\u001b[1;36m, line \u001b[1;32m1320\u001b[1;36m, in \u001b[1;35mXML\u001b[1;36m\u001b[0m\n\u001b[1;33m    parser.feed(text)\u001b[0m\n",
      "\u001b[1;36m  File \u001b[1;32m\"<string>\"\u001b[1;36m, line \u001b[1;32munknown\u001b[0m\n\u001b[1;31mParseError\u001b[0m\u001b[1;31m:\u001b[0m mismatched tag: line 1, column 361\n"
     ]
    }
   ],
   "source": [
    "import xml.etree.ElementTree as ET\n",
    "import psycopg2\n",
    "from datetime import datetime\n",
    "import re\n",
    "\n",
    "# XML file path\n",
    "xml_file_path = f'D:\\W\\RELEX\\RELEX\\Future_List_Cost\\FUTRLIST.IN07.20231206100039 (Oracle File)'\n",
    "# Open the XML file\n",
    "with open(xml_file_path, 'r', encoding='utf-8') as file:\n",
    "    xml_data = file.read()\n",
    "print(xml_data)\n",
    "# Parse the XML data\n",
    "root = ET.fromstring(xml_data)\n",
    "print(root)"
   ]
  },
  {
   "cell_type": "code",
   "execution_count": 4,
   "id": "0fa6aa0c",
   "metadata": {},
   "outputs": [
    {
     "name": "stdout",
     "output_type": "stream",
     "text": [
      "<LIST_COST_MAINT><BICEPSITEM>250473199</BICEPSITEM> <FIRSTORDERDATE>120723</FIRSTORDERDATE> <LASTORDERDATE>010624</LASTORDERDATE> <ITEMLISTFUTURE>00046.1800</ITEMLISTFUTURE> <DATESELLEFF>010724</DATESELLEFF> <DEALMANUFACTURENUMBER>120730106ORA4618</DEALMANUFACTURENUMBER> <LISTCOSTADD></LISTCOSTADD>       <TRANSACTIONID>L120623000000000000001<TRANSACTIONID> </LIST_COST_MAINT>                                                                                                                            \n",
      "<LIST_COST_MAINT><BICEPSITEM>250494237</BICEPSITEM> <FIRSTORDERDATE>120723</FIRSTORDERDATE> <LASTORDERDATE>010624</LASTORDERDATE> <ITEMLISTFUTURE>00024.2600</ITEMLISTFUTURE> <DATESELLEFF>010724</DATESELLEFF> <DEALMANUFACTURENUMBER>120730106ORA2426</DEALMANUFACTURENUMBER> <LISTCOSTADD></LISTCOSTADD>       <TRANSACTIONID>L120623000000000000002<TRANSACTIONID> </LIST_COST_MAINT>                                                                                                                            \n",
      "<LIST_COST_MAINT><BICEPSITEM>250091739</BICEPSITEM> <FIRSTORDERDATE>030824</FIRSTORDERDATE> <LASTORDERDATE>040724</LASTORDERDATE> <ITEMLISTFUTURE>00014.2000</ITEMLISTFUTURE> <DATESELLEFF>040824</DATESELLEFF> <DEALMANUFACTURENUMBER>030840407ORA1420</DEALMANUFACTURENUMBER> <LISTCOSTADD></LISTCOSTADD>       <TRANSACTIONID>L120623000000000000003<TRANSACTIONID> </LIST_COST_MAINT>                                                                                                                            \n",
      "<LIST_COST_MAINT><BICEPSITEM>250952159</BICEPSITEM> <FIRSTORDERDATE>030824</FIRSTORDERDATE> <LASTORDERDATE>040724</LASTORDERDATE> <ITEMLISTFUTURE>00013.5200</ITEMLISTFUTURE> <DATESELLEFF>040824</DATESELLEFF> <DEALMANUFACTURENUMBER>030840407ORA1352</DEALMANUFACTURENUMBER> <LISTCOSTADD></LISTCOSTADD>       <TRANSACTIONID>L120623000000000000004<TRANSACTIONID> </LIST_COST_MAINT>                                                                                                                            \n",
      "<LIST_COST_MAINT><BICEPSITEM>250494237</BICEPSITEM> <FIRSTORDERDATE>030824</FIRSTORDERDATE> <LASTORDERDATE>040724</LASTORDERDATE> <ITEMLISTFUTURE>00022.6500</ITEMLISTFUTURE> <DATESELLEFF>040824</DATESELLEFF> <DEALMANUFACTURENUMBER>030840407ORA2265</DEALMANUFACTURENUMBER> <LISTCOSTADD></LISTCOSTADD>       <TRANSACTIONID>L120623000000000000005<TRANSACTIONID> </LIST_COST_MAINT>                                                                                                                            \n",
      "<LIST_COST_MAINT><BICEPSITEM>250473199</BICEPSITEM> <FIRSTORDERDATE>030824</FIRSTORDERDATE> <LASTORDERDATE>040724</LASTORDERDATE> <ITEMLISTFUTURE>00040.9300</ITEMLISTFUTURE> <DATESELLEFF>040824</DATESELLEFF> <DEALMANUFACTURENUMBER>030840407ORA4093</DEALMANUFACTURENUMBER> <LISTCOSTADD></LISTCOSTADD>       <TRANSACTIONID>L120623000000000000006<TRANSACTIONID> </LIST_COST_MAINT>                                                                                                                            \n",
      "<LIST_COST_MAINT><BICEPSITEM>251582038</BICEPSITEM> <FIRSTORDERDATE>010524</FIRSTORDERDATE> <LASTORDERDATE>020424</LASTORDERDATE> <ITEMLISTFUTURE>00187.2000</ITEMLISTFUTURE> <DATESELLEFF>020524</DATESELLEFF> <DEALMANUFACTURENUMBER>010540204ORA1820</DEALMANUFACTURENUMBER> <LISTCOSTADD></LISTCOSTADD>       <TRANSACTIONID>L120623000000000000007<TRANSACTIONID> </LIST_COST_MAINT>                                                                                                                            \n",
      "<LIST_COST_MAINT><BICEPSITEM>251580418</BICEPSITEM> <FIRSTORDERDATE>010524</FIRSTORDERDATE> <LASTORDERDATE>020424</LASTORDERDATE> <ITEMLISTFUTURE>00019.9200</ITEMLISTFUTURE> <DATESELLEFF>020524</DATESELLEFF> <DEALMANUFACTURENUMBER>010540204ORA1992</DEALMANUFACTURENUMBER> <LISTCOSTADD></LISTCOSTADD>       <TRANSACTIONID>L120623000000000000008<TRANSACTIONID> </LIST_COST_MAINT>                                                                                                                            \n",
      "\n",
      "Error parsing XML: mismatched tag: line 1, column 361\n"
     ]
    }
   ],
   "source": [
    "import xml.etree.ElementTree as ET\n",
    "\n",
    "# Print the XML data\n",
    "print(xml_data)\n",
    "\n",
    "# Try to parse the XML data\n",
    "try:\n",
    "    root = ET.fromstring(xml_data)\n",
    "    print(root)\n",
    "except ET.ParseError as e:\n",
    "    print(f\"Error parsing XML: {e}\")\n"
   ]
  },
  {
   "cell_type": "code",
   "execution_count": 5,
   "id": "cdb22cb9",
   "metadata": {},
   "outputs": [
    {
     "data": {
      "text/plain": [
       "['LIST_COST_MAINT>',\n",
       " 'BICEPSITEM>251580418',\n",
       " '/BICEPSITEM>',\n",
       " 'FIRSTORDERDATE>010524',\n",
       " '/FIRSTORDERDATE>',\n",
       " 'LASTORDERDATE>020424',\n",
       " '/LASTORDERDATE>',\n",
       " 'ITEMLISTFUTURE>00019.9200',\n",
       " '/ITEMLISTFUTURE>',\n",
       " 'DATESELLEFF>020524',\n",
       " '/DATESELLEFF>',\n",
       " 'DEALMANUFACTURENUMBER>010540204ORA1992',\n",
       " '/DEALMANUFACTURENUMBER>',\n",
       " 'LISTCOSTADD>',\n",
       " '/LISTCOSTADD>',\n",
       " 'TRANSACTIONID>L120623000000000000008',\n",
       " 'TRANSACTIONID>']"
      ]
     },
     "execution_count": 5,
     "metadata": {},
     "output_type": "execute_result"
    }
   ],
   "source": [
    "file_path = f'D:\\W\\RELEX\\RELEX\\Future_List_Cost\\FUTRLIST.IN07.20231206100039 (Oracle File)'\n",
    "with open(file_path, 'r', encoding='utf-8') as file:\n",
    "    lines = file.readlines()\n",
    "\n",
    "# Iterate over each line and insert into the PostgreSQL table\n",
    "for line in lines:\n",
    "    # Extract values between angle brackets\n",
    "    values = [value.strip() for value in line.split('<')[1:-1]]\n",
    "values"
   ]
  },
  {
   "cell_type": "code",
   "execution_count": 7,
   "id": "21f7b360",
   "metadata": {},
   "outputs": [
    {
     "name": "stdout",
     "output_type": "stream",
     "text": [
      "element_values:############ {'BICEPSITEM': '250473199', 'FIRSTORDERDATE': '120723', 'LASTORDERDATE': '010624', 'ITEMLISTFUTURE': '00046.1800', 'DATESELLEFF': '010724', 'DEALMANUFACTURENUMBER': '120730106ORA4618'}\n"
     ]
    },
    {
     "ename": "NameError",
     "evalue": "name 'tag_to_column' is not defined",
     "output_type": "error",
     "traceback": [
      "\u001b[1;31m---------------------------------------------------------------------------\u001b[0m",
      "\u001b[1;31mNameError\u001b[0m                                 Traceback (most recent call last)",
      "\u001b[1;32m<ipython-input-7-ed63b860f2fa>\u001b[0m in \u001b[0;36m<module>\u001b[1;34m\u001b[0m\n\u001b[0;32m     52\u001b[0m     \u001b[1;31m# Now 'BIC_VENDOR_FACILITY' and updated 'BICEPSVENDOR' are present in element_values\u001b[0m\u001b[1;33m\u001b[0m\u001b[1;33m\u001b[0m\u001b[1;33m\u001b[0m\u001b[0m\n\u001b[0;32m     53\u001b[0m     \u001b[1;31m# Replace column names with the ones from tag_to_column\u001b[0m\u001b[1;33m\u001b[0m\u001b[1;33m\u001b[0m\u001b[1;33m\u001b[0m\u001b[0m\n\u001b[1;32m---> 54\u001b[1;33m     \u001b[0mmapped_values\u001b[0m \u001b[1;33m=\u001b[0m \u001b[1;33m{\u001b[0m\u001b[0mtag_to_column\u001b[0m\u001b[1;33m[\u001b[0m\u001b[0mkey\u001b[0m\u001b[1;33m]\u001b[0m\u001b[1;33m:\u001b[0m \u001b[0mvalue\u001b[0m \u001b[1;32mfor\u001b[0m \u001b[0mkey\u001b[0m\u001b[1;33m,\u001b[0m \u001b[0mvalue\u001b[0m \u001b[1;32min\u001b[0m \u001b[0melement_values\u001b[0m\u001b[1;33m.\u001b[0m\u001b[0mitems\u001b[0m\u001b[1;33m(\u001b[0m\u001b[1;33m)\u001b[0m \u001b[1;32mif\u001b[0m \u001b[0mkey\u001b[0m \u001b[1;32min\u001b[0m \u001b[0mtag_to_column\u001b[0m\u001b[1;33m}\u001b[0m\u001b[1;33m\u001b[0m\u001b[1;33m\u001b[0m\u001b[0m\n\u001b[0m\u001b[0;32m     55\u001b[0m     \u001b[0mprint\u001b[0m\u001b[1;33m(\u001b[0m\u001b[1;34m'mapped_values:########'\u001b[0m\u001b[1;33m,\u001b[0m\u001b[0mmapped_values\u001b[0m\u001b[1;33m)\u001b[0m\u001b[1;33m\u001b[0m\u001b[1;33m\u001b[0m\u001b[0m\n\u001b[0;32m     56\u001b[0m     \u001b[1;31m# Generate SQL INSERT statement\u001b[0m\u001b[1;33m\u001b[0m\u001b[1;33m\u001b[0m\u001b[1;33m\u001b[0m\u001b[0m\n",
      "\u001b[1;32m<ipython-input-7-ed63b860f2fa>\u001b[0m in \u001b[0;36m<dictcomp>\u001b[1;34m(.0)\u001b[0m\n\u001b[0;32m     52\u001b[0m     \u001b[1;31m# Now 'BIC_VENDOR_FACILITY' and updated 'BICEPSVENDOR' are present in element_values\u001b[0m\u001b[1;33m\u001b[0m\u001b[1;33m\u001b[0m\u001b[1;33m\u001b[0m\u001b[0m\n\u001b[0;32m     53\u001b[0m     \u001b[1;31m# Replace column names with the ones from tag_to_column\u001b[0m\u001b[1;33m\u001b[0m\u001b[1;33m\u001b[0m\u001b[1;33m\u001b[0m\u001b[0m\n\u001b[1;32m---> 54\u001b[1;33m     \u001b[0mmapped_values\u001b[0m \u001b[1;33m=\u001b[0m \u001b[1;33m{\u001b[0m\u001b[0mtag_to_column\u001b[0m\u001b[1;33m[\u001b[0m\u001b[0mkey\u001b[0m\u001b[1;33m]\u001b[0m\u001b[1;33m:\u001b[0m \u001b[0mvalue\u001b[0m \u001b[1;32mfor\u001b[0m \u001b[0mkey\u001b[0m\u001b[1;33m,\u001b[0m \u001b[0mvalue\u001b[0m \u001b[1;32min\u001b[0m \u001b[0melement_values\u001b[0m\u001b[1;33m.\u001b[0m\u001b[0mitems\u001b[0m\u001b[1;33m(\u001b[0m\u001b[1;33m)\u001b[0m \u001b[1;32mif\u001b[0m \u001b[0mkey\u001b[0m \u001b[1;32min\u001b[0m \u001b[0mtag_to_column\u001b[0m\u001b[1;33m}\u001b[0m\u001b[1;33m\u001b[0m\u001b[1;33m\u001b[0m\u001b[0m\n\u001b[0m\u001b[0;32m     55\u001b[0m     \u001b[0mprint\u001b[0m\u001b[1;33m(\u001b[0m\u001b[1;34m'mapped_values:########'\u001b[0m\u001b[1;33m,\u001b[0m\u001b[0mmapped_values\u001b[0m\u001b[1;33m)\u001b[0m\u001b[1;33m\u001b[0m\u001b[1;33m\u001b[0m\u001b[0m\n\u001b[0;32m     56\u001b[0m     \u001b[1;31m# Generate SQL INSERT statement\u001b[0m\u001b[1;33m\u001b[0m\u001b[1;33m\u001b[0m\u001b[1;33m\u001b[0m\u001b[0m\n",
      "\u001b[1;31mNameError\u001b[0m: name 'tag_to_column' is not defined"
     ]
    }
   ],
   "source": [
    "import xml.etree.ElementTree as ET\n",
    "import psycopg2\n",
    "from datetime import datetime\n",
    "import re\n",
    "\n",
    "\n",
    "# XML file path\n",
    "xml_file_path = f'D:\\W\\RELEX\\RELEX\\Future_List_Cost\\FUTRLIST.IN07.20231206100039 (Oracle File)'\n",
    "# Open the XML file\n",
    "with open(xml_file_path, 'r', encoding='utf-8') as file:\n",
    "    xml_data = file.read()\n",
    "# Database connection parameters\n",
    "db_params = {\n",
    "    \"host\": \"gc-ue4-psql-cspo-dev01.nonprod.gcp.cswg.com\",\n",
    "    \"database\": \"CSPODB\",\n",
    "    \"port\": 5432,\n",
    "    \"user\": \"cspoms\",\n",
    "    \"password\": \"cspoms\",\n",
    "    \"sslmode\": \"verify-ca\",\n",
    "    \"sslcert\": \"D:\\\\W\\\\RELEX\\\\RELEX\\\\CSPOMS_DEV_Conn\\\\client-cert.pem\",\n",
    "    \"sslkey\": \"D:\\\\W\\\\RELEX\\\\RELEX\\\\CSPOMS_DEV_Conn\\\\client-key.pem\",\n",
    "    \"sslrootcert\": \"D:\\\\W\\\\RELEX\\\\RELEX\\\\CSPOMS_DEV_Conn\\\\server-ca.pem\"\n",
    "}\n",
    "\n",
    "# Table name\n",
    "table_name = \"cspoms.XXPO_ORCL2CSPOMS_VEND_STG\".upper()\n",
    "\n",
    "# Split the XML data into lines\n",
    "lines = xml_data.splitlines()\n",
    "\n",
    "# Regular expression pattern to match the elements\n",
    "pattern = re.compile(r\"<([^>]+)>([^<]+)</\\1>\")\n",
    "\n",
    "# print('tag_to_column : ',len(tag_to_column))\n",
    "# Loop through each line in the XML data\n",
    "for line in lines:\n",
    "    # Skip empty lines or lines containing only whitespace\n",
    "    if not line.strip():\n",
    "        continue\n",
    "\n",
    "    # Define a dictionary to store values\n",
    "    element_values = {}\n",
    "\n",
    "    # Find all matches in the text data\n",
    "    matches = re.findall(pattern, line)\n",
    "\n",
    "    # Store the matches in the dictionary\n",
    "    for tag, value in matches:\n",
    "        element_values[tag] = value.strip()\n",
    "   \n",
    "    print('element_values:############',element_values)\n",
    "    # Now 'BIC_VENDOR_FACILITY' and updated 'BICEPSVENDOR' are present in element_values\n",
    "    # Replace column names with the ones from tag_to_column\n",
    "    mapped_values = {tag_to_column[key]: value for key, value in element_values.items() if key in tag_to_column}\n",
    "    print('mapped_values:########',mapped_values)\n",
    "    # Generate SQL INSERT statement\n",
    "    columns_str = \",\".join(mapped_values.keys())\n",
    "    values_str = \",\".join(f\"'{v}'\" for v in mapped_values.values())\n",
    "\n",
    "    insert_query = f\"INSERT INTO {table_name} ({columns_str}) VALUES ({values_str});\"\n",
    "    print(insert_query)\n",
    "\n"
   ]
  },
  {
   "cell_type": "code",
   "execution_count": 14,
   "id": "c72a919d",
   "metadata": {},
   "outputs": [
    {
     "name": "stdout",
     "output_type": "stream",
     "text": [
      "conn establisted\n",
      "<LIST_COST_MAINT><BICEPSITEM>250473199</BICEPSITEM> <FIRSTORDERDATE>120723</FIRSTORDERDATE> <LASTORDERDATE>010624</LASTORDERDATE> <ITEMLISTFUTURE>00046.1800</ITEMLISTFUTURE> <DATESELLEFF>010724</DATESELLEFF> <DEALMANUFACTURENUMBER>120730106ORA4618</DEALMANUFACTURENUMBER> <LISTCOSTADD></LISTCOSTADD>       <TRANSACTIONID>L120623000000000000001<TRANSACTIONID> </LIST_COST_MAINT>                                                                                                                            \n",
      "\n",
      "<LIST_COST_MAINT><BICEPSITEM>250494237</BICEPSITEM> <FIRSTORDERDATE>120723</FIRSTORDERDATE> <LASTORDERDATE>010624</LASTORDERDATE> <ITEMLISTFUTURE>00024.2600</ITEMLISTFUTURE> <DATESELLEFF>010724</DATESELLEFF> <DEALMANUFACTURENUMBER>120730106ORA2426</DEALMANUFACTURENUMBER> <LISTCOSTADD></LISTCOSTADD>       <TRANSACTIONID>L120623000000000000002<TRANSACTIONID> </LIST_COST_MAINT>                                                                                                                            \n",
      "\n",
      "<LIST_COST_MAINT><BICEPSITEM>250091739</BICEPSITEM> <FIRSTORDERDATE>030824</FIRSTORDERDATE> <LASTORDERDATE>040724</LASTORDERDATE> <ITEMLISTFUTURE>00014.2000</ITEMLISTFUTURE> <DATESELLEFF>040824</DATESELLEFF> <DEALMANUFACTURENUMBER>030840407ORA1420</DEALMANUFACTURENUMBER> <LISTCOSTADD></LISTCOSTADD>       <TRANSACTIONID>L120623000000000000003<TRANSACTIONID> </LIST_COST_MAINT>                                                                                                                            \n",
      "\n",
      "<LIST_COST_MAINT><BICEPSITEM>250952159</BICEPSITEM> <FIRSTORDERDATE>030824</FIRSTORDERDATE> <LASTORDERDATE>040724</LASTORDERDATE> <ITEMLISTFUTURE>00013.5200</ITEMLISTFUTURE> <DATESELLEFF>040824</DATESELLEFF> <DEALMANUFACTURENUMBER>030840407ORA1352</DEALMANUFACTURENUMBER> <LISTCOSTADD></LISTCOSTADD>       <TRANSACTIONID>L120623000000000000004<TRANSACTIONID> </LIST_COST_MAINT>                                                                                                                            \n",
      "\n",
      "<LIST_COST_MAINT><BICEPSITEM>250494237</BICEPSITEM> <FIRSTORDERDATE>030824</FIRSTORDERDATE> <LASTORDERDATE>040724</LASTORDERDATE> <ITEMLISTFUTURE>00022.6500</ITEMLISTFUTURE> <DATESELLEFF>040824</DATESELLEFF> <DEALMANUFACTURENUMBER>030840407ORA2265</DEALMANUFACTURENUMBER> <LISTCOSTADD></LISTCOSTADD>       <TRANSACTIONID>L120623000000000000005<TRANSACTIONID> </LIST_COST_MAINT>                                                                                                                            \n",
      "\n",
      "<LIST_COST_MAINT><BICEPSITEM>250473199</BICEPSITEM> <FIRSTORDERDATE>030824</FIRSTORDERDATE> <LASTORDERDATE>040724</LASTORDERDATE> <ITEMLISTFUTURE>00040.9300</ITEMLISTFUTURE> <DATESELLEFF>040824</DATESELLEFF> <DEALMANUFACTURENUMBER>030840407ORA4093</DEALMANUFACTURENUMBER> <LISTCOSTADD></LISTCOSTADD>       <TRANSACTIONID>L120623000000000000006<TRANSACTIONID> </LIST_COST_MAINT>                                                                                                                            \n",
      "\n",
      "<LIST_COST_MAINT><BICEPSITEM>251582038</BICEPSITEM> <FIRSTORDERDATE>010524</FIRSTORDERDATE> <LASTORDERDATE>020424</LASTORDERDATE> <ITEMLISTFUTURE>00187.2000</ITEMLISTFUTURE> <DATESELLEFF>020524</DATESELLEFF> <DEALMANUFACTURENUMBER>010540204ORA1820</DEALMANUFACTURENUMBER> <LISTCOSTADD></LISTCOSTADD>       <TRANSACTIONID>L120623000000000000007<TRANSACTIONID> </LIST_COST_MAINT>                                                                                                                            \n",
      "\n",
      "<LIST_COST_MAINT><BICEPSITEM>251580418</BICEPSITEM> <FIRSTORDERDATE>010524</FIRSTORDERDATE> <LASTORDERDATE>020424</LASTORDERDATE> <ITEMLISTFUTURE>00019.9200</ITEMLISTFUTURE> <DATESELLEFF>020524</DATESELLEFF> <DEALMANUFACTURENUMBER>010540204ORA1992</DEALMANUFACTURENUMBER> <LISTCOSTADD></LISTCOSTADD>       <TRANSACTIONID>L120623000000000000008<TRANSACTIONID> </LIST_COST_MAINT>                                                                                                                            \n",
      "\n",
      "end of program\n"
     ]
    }
   ],
   "source": [
    "import psycopg2\n",
    "\n",
    "file_path = f'D:\\W\\RELEX\\RELEX\\Future_List_Cost\\FUTRLIST.IN07.20231206100039 (Oracle File)'\n",
    "with open(file_path, 'r', encoding='utf-8') as file:\n",
    "    lines = file.readlines()\n",
    "\n",
    "db_params = {\n",
    "    \"host\": \"gc-ue4-psql-cspo-dev01.nonprod.gcp.cswg.com\",\n",
    "    \"database\": \"CSPODB\",\n",
    "    \"port\": 5432,\n",
    "    \"user\": \"cspoms\",\n",
    "    \"password\": \"cspoms\",\n",
    "    \"sslmode\": \"verify-ca\",\n",
    "    \"sslcert\": \"D:\\\\W\\\\RELEX\\\\RELEX\\\\CSPOMS_DEV_Conn\\\\client-cert.pem\",\n",
    "    \"sslkey\": \"D:\\\\W\\\\RELEX\\\\RELEX\\\\CSPOMS_DEV_Conn\\\\client-key.pem\",\n",
    "    \"sslrootcert\": \"D:\\\\W\\\\RELEX\\\\RELEX\\\\CSPOMS_DEV_Conn\\\\server-ca.pem\"\n",
    "}\n",
    "\n",
    "# Establish a connection to the PostgreSQL database\n",
    "conn = psycopg2.connect(**db_params)\n",
    "\n",
    "# Create a cursor\n",
    "cursor = conn.cursor()\n",
    "print('conn establisted')\n",
    "# Function to extract values from a multiline element\n",
    "def extract_values(element_text):\n",
    "    values = {}\n",
    "    for line in element_text.splitlines():\n",
    "        if '<' in line and '>' in line:\n",
    "            tag_start = line.index('<') + 1\n",
    "            tag_end = line.index('>')\n",
    "            tag = line[tag_start:tag_end]\n",
    "            value_start = tag_end + 1\n",
    "            value = line[value_start:].strip()\n",
    "            values[tag] = value\n",
    "    return values\n",
    "\n",
    "# Iterate over each line and insert into the PostgreSQL table\n",
    "current_element_text = \"\"\n",
    "for line in lines:\n",
    "    if \"<LIST_COST_MAINT>\" in line:\n",
    "        current_element_text = line\n",
    "        print(line)\n",
    "    elif \"<LIST_COST_MAINT>\" in line:\n",
    "        current_element_text += line\n",
    "        element_values = extract_values(current_element_text)\n",
    "        print(element_values)\n",
    "        # Example SQL insert query (replace \"your_table\" and column names with your actual table and columns)\n",
    "        sql_insert = f\"\"\"\n",
    "        INSERT INTO your_table (bicepsitem, firstorderdate, lastorderdate, itemlistfuture, dateselleff, dealmanufacturenumber, listcostadd, transactionid)\n",
    "        VALUES (%s, %s, %s, %s, %s, %s, %s, %s);\n",
    "        \"\"\"\n",
    "        print(sql_insert)\n",
    "\n",
    "        # Execute the insert query\n",
    "        cursor.execute(sql_insert, (\n",
    "            element_values.get('BICEPSITEM', ''),\n",
    "            element_values.get('FIRSTORDERDATE', ''),\n",
    "            element_values.get('LASTORDERDATE', ''),\n",
    "            element_values.get('ITEMLISTFUTURE', ''),\n",
    "            element_values.get('DATESELLEFF', ''),\n",
    "            element_values.get('DEALMANUFACTURENUMBER', ''),\n",
    "            element_values.get('LISTCOSTADD', ''),\n",
    "            element_values.get('TRANSACTIONID', '')\n",
    "        ))\n",
    "        print(current_element_text)\n",
    "        current_element_text = \"\"\n",
    "    else:\n",
    "        current_element_text += line\n",
    "        print(current_element_text)\n",
    "print('end of program')\n",
    "# Commit the changes and close the connection\n",
    "# conn.commit()\n",
    "# cursor.close()\n",
    "# conn.close()\n"
   ]
  },
  {
   "cell_type": "code",
   "execution_count": 15,
   "id": "424e0694",
   "metadata": {
    "scrolled": true
   },
   "outputs": [
    {
     "name": "stdout",
     "output_type": "stream",
     "text": [
      "{'LIST_COST_MAINT': '<BICEPSITEM>251580418</BICEPSITEM> <FIRSTORDERDATE>010524</FIRSTORDERDATE> <LASTORDERDATE>020424</LASTORDERDATE> <ITEMLISTFUTURE>00019.9200</ITEMLISTFUTURE> <DATESELLEFF>020524</DATESELLEFF> <DEALMANUFACTURENUMBER>010540204ORA1992</DEALMANUFACTURENUMBER> <LISTCOSTADD></LISTCOSTADD>       <TRANSACTIONID>L120623000000000000008<TRANSACTIONID> </LIST_COST_MAINT>', 'BICEPSITEM': '251580418</BICEPSITEM> <FIRSTORDERDATE>010524</FIRSTORDERDATE> <LASTORDERDATE>020424</LASTORDERDATE> <ITEMLISTFUTURE>00019.9200</ITEMLISTFUTURE> <DATESELLEFF>020524</DATESELLEFF> <DEALMANUFACTURENUMBER>010540204ORA1992</DEALMANUFACTURENUMBER> <LISTCOSTADD></LISTCOSTADD>       <TRANSACTIONID>L120623000000000000008<TRANSACTIONID> </LIST_COST_MAINT>', '/BICEPSITEM': '<FIRSTORDERDATE>010524</FIRSTORDERDATE> <LASTORDERDATE>020424</LASTORDERDATE> <ITEMLISTFUTURE>00019.9200</ITEMLISTFUTURE> <DATESELLEFF>020524</DATESELLEFF> <DEALMANUFACTURENUMBER>010540204ORA1992</DEALMANUFACTURENUMBER> <LISTCOSTADD></LISTCOSTADD>       <TRANSACTIONID>L120623000000000000008<TRANSACTIONID> </LIST_COST_MAINT>', 'FIRSTORDERDATE': '010524</FIRSTORDERDATE> <LASTORDERDATE>020424</LASTORDERDATE> <ITEMLISTFUTURE>00019.9200</ITEMLISTFUTURE> <DATESELLEFF>020524</DATESELLEFF> <DEALMANUFACTURENUMBER>010540204ORA1992</DEALMANUFACTURENUMBER> <LISTCOSTADD></LISTCOSTADD>       <TRANSACTIONID>L120623000000000000008<TRANSACTIONID> </LIST_COST_MAINT>', '/FIRSTORDERDATE': '<LASTORDERDATE>020424</LASTORDERDATE> <ITEMLISTFUTURE>00019.9200</ITEMLISTFUTURE> <DATESELLEFF>020524</DATESELLEFF> <DEALMANUFACTURENUMBER>010540204ORA1992</DEALMANUFACTURENUMBER> <LISTCOSTADD></LISTCOSTADD>       <TRANSACTIONID>L120623000000000000008<TRANSACTIONID> </LIST_COST_MAINT>', 'LASTORDERDATE': '020424</LASTORDERDATE> <ITEMLISTFUTURE>00019.9200</ITEMLISTFUTURE> <DATESELLEFF>020524</DATESELLEFF> <DEALMANUFACTURENUMBER>010540204ORA1992</DEALMANUFACTURENUMBER> <LISTCOSTADD></LISTCOSTADD>       <TRANSACTIONID>L120623000000000000008<TRANSACTIONID> </LIST_COST_MAINT>', '/LASTORDERDATE': '<ITEMLISTFUTURE>00019.9200</ITEMLISTFUTURE> <DATESELLEFF>020524</DATESELLEFF> <DEALMANUFACTURENUMBER>010540204ORA1992</DEALMANUFACTURENUMBER> <LISTCOSTADD></LISTCOSTADD>       <TRANSACTIONID>L120623000000000000008<TRANSACTIONID> </LIST_COST_MAINT>', 'ITEMLISTFUTURE': '00019.9200</ITEMLISTFUTURE> <DATESELLEFF>020524</DATESELLEFF> <DEALMANUFACTURENUMBER>010540204ORA1992</DEALMANUFACTURENUMBER> <LISTCOSTADD></LISTCOSTADD>       <TRANSACTIONID>L120623000000000000008<TRANSACTIONID> </LIST_COST_MAINT>', '/ITEMLISTFUTURE': '<DATESELLEFF>020524</DATESELLEFF> <DEALMANUFACTURENUMBER>010540204ORA1992</DEALMANUFACTURENUMBER> <LISTCOSTADD></LISTCOSTADD>       <TRANSACTIONID>L120623000000000000008<TRANSACTIONID> </LIST_COST_MAINT>', 'DATESELLEFF': '020524</DATESELLEFF> <DEALMANUFACTURENUMBER>010540204ORA1992</DEALMANUFACTURENUMBER> <LISTCOSTADD></LISTCOSTADD>       <TRANSACTIONID>L120623000000000000008<TRANSACTIONID> </LIST_COST_MAINT>', '/DATESELLEFF': '<DEALMANUFACTURENUMBER>010540204ORA1992</DEALMANUFACTURENUMBER> <LISTCOSTADD></LISTCOSTADD>       <TRANSACTIONID>L120623000000000000008<TRANSACTIONID> </LIST_COST_MAINT>', 'DEALMANUFACTURENUMBER': '010540204ORA1992</DEALMANUFACTURENUMBER> <LISTCOSTADD></LISTCOSTADD>       <TRANSACTIONID>L120623000000000000008<TRANSACTIONID> </LIST_COST_MAINT>', '/DEALMANUFACTURENUMBER': '<LISTCOSTADD></LISTCOSTADD>       <TRANSACTIONID>L120623000000000000008<TRANSACTIONID> </LIST_COST_MAINT>', 'LISTCOSTADD': '</LISTCOSTADD>       <TRANSACTIONID>L120623000000000000008<TRANSACTIONID> </LIST_COST_MAINT>', '/LISTCOSTADD': '<TRANSACTIONID>L120623000000000000008<TRANSACTIONID> </LIST_COST_MAINT>', 'TRANSACTIONID': '</LIST_COST_MAINT>', '/LIST_COST_MAINT': ''}\n"
     ]
    }
   ],
   "source": [
    "file_path = f'D:\\W\\RELEX\\RELEX\\Future_List_Cost\\FUTRLIST.IN07.20231206100039 (Oracle File)'\n",
    "with open(file_path, 'r', encoding='utf-8') as file:\n",
    "    lines = file.readlines()\n",
    "\n",
    "# Function to extract values from a multiline element\n",
    "def extract_values(element_text):\n",
    "    values = {}\n",
    "    lines = element_text.splitlines()\n",
    "    for line in lines:\n",
    "        while '<' in line and '>' in line:\n",
    "            tag_start = line.index('<') + 1\n",
    "            tag_end = line.index('>')\n",
    "            tag = line[tag_start:tag_end]\n",
    "            value_start = tag_end + 1\n",
    "            value = line[value_start:].strip()\n",
    "            values[tag] = value\n",
    "            line = line[tag_end + 1:]\n",
    "    return values\n",
    "\n",
    "# Iterate over each line and insert into the PostgreSQL table\n",
    "current_element_text = \"\"\n",
    "for line in lines:\n",
    "    current_element_text += line\n",
    "    if \"</LIST_COST_MAINT>\" in line:\n",
    "        element_values = extract_values(current_element_text)\n",
    "print(element_values)\n",
    "\n"
   ]
  },
  {
   "cell_type": "code",
   "execution_count": 21,
   "id": "3bc6b562",
   "metadata": {},
   "outputs": [
    {
     "ename": "FileNotFoundError",
     "evalue": "[Errno 2] No such file or directory: 'D:\\\\W\\\\RELEX\\\\RELEX\\\\Future_List_Cost\\\\FUTRLIST.IN07.20231206100039 (Oracle File)'",
     "output_type": "error",
     "traceback": [
      "\u001b[1;31m---------------------------------------------------------------------------\u001b[0m",
      "\u001b[1;31mFileNotFoundError\u001b[0m                         Traceback (most recent call last)",
      "\u001b[1;32m<ipython-input-21-2828e8349992>\u001b[0m in \u001b[0;36m<module>\u001b[1;34m\u001b[0m\n\u001b[0;32m      1\u001b[0m \u001b[0mfile_path\u001b[0m \u001b[1;33m=\u001b[0m \u001b[1;34mf'D:\\W\\RELEX\\RELEX\\Future_List_Cost\\FUTRLIST.IN07.20231206100039 (Oracle File)'\u001b[0m\u001b[1;33m\u001b[0m\u001b[1;33m\u001b[0m\u001b[0m\n\u001b[1;32m----> 2\u001b[1;33m \u001b[1;32mwith\u001b[0m \u001b[0mopen\u001b[0m\u001b[1;33m(\u001b[0m\u001b[0mfile_path\u001b[0m\u001b[1;33m,\u001b[0m \u001b[1;34m'r'\u001b[0m\u001b[1;33m,\u001b[0m \u001b[0mencoding\u001b[0m\u001b[1;33m=\u001b[0m\u001b[1;34m'utf-8'\u001b[0m\u001b[1;33m)\u001b[0m \u001b[1;32mas\u001b[0m \u001b[0mfile\u001b[0m\u001b[1;33m:\u001b[0m\u001b[1;33m\u001b[0m\u001b[1;33m\u001b[0m\u001b[0m\n\u001b[0m\u001b[0;32m      3\u001b[0m     \u001b[0mlines\u001b[0m \u001b[1;33m=\u001b[0m \u001b[0mfile\u001b[0m\u001b[1;33m.\u001b[0m\u001b[0mreadlines\u001b[0m\u001b[1;33m(\u001b[0m\u001b[1;33m)\u001b[0m\u001b[1;33m\u001b[0m\u001b[1;33m\u001b[0m\u001b[0m\n\u001b[0;32m      4\u001b[0m \u001b[0mlines\u001b[0m\u001b[1;33m\u001b[0m\u001b[1;33m\u001b[0m\u001b[0m\n",
      "\u001b[1;31mFileNotFoundError\u001b[0m: [Errno 2] No such file or directory: 'D:\\\\W\\\\RELEX\\\\RELEX\\\\Future_List_Cost\\\\FUTRLIST.IN07.20231206100039 (Oracle File)'"
     ]
    }
   ],
   "source": [
    "file_path = f'D:\\W\\RELEX\\RELEX\\Future_List_Cost\\FUTRLIST.IN07.20231206100039 (Oracle File)'\n",
    "with open(file_path, 'r', encoding='utf-8') as file:\n",
    "    lines = file.readlines()\n",
    "lines"
   ]
  },
  {
   "cell_type": "code",
   "execution_count": 18,
   "id": "611281f6",
   "metadata": {},
   "outputs": [
    {
     "name": "stdout",
     "output_type": "stream",
     "text": [
      "XML Validation Error: Element 'TRANSACTIONID': Element content is not allowed, because the content type is a simple type definition. (<string>, line 0)\n"
     ]
    }
   ],
   "source": [
    "from lxml import etree\n",
    "\n",
    "schema = etree.XMLSchema(etree.parse('D:\\W\\RELEX\\RELEX\\Future_List_Cost\\Inbound_files\\Future.xsd'))\n",
    "parser = etree.XMLParser(schema=schema)\n",
    "\n",
    "try:\n",
    "    tree = etree.parse('D:\\W\\RELEX\\RELEX\\Future_List_Cost\\Inbound_files\\FUTRLIST.IN07.20231206100039 (Oracle File)', parser)\n",
    "except etree.XMLSyntaxError as e:\n",
    "    print(f\"XML Validation Error: {e}\")\n"
   ]
  },
  {
   "cell_type": "code",
   "execution_count": 20,
   "id": "1a536454",
   "metadata": {
    "scrolled": true
   },
   "outputs": [
    {
     "ename": "ParseError",
     "evalue": "mismatched tag: line 1, column 363 (<string>)",
     "output_type": "error",
     "traceback": [
      "Traceback \u001b[1;36m(most recent call last)\u001b[0m:\n",
      "  File \u001b[0;32m\"C:\\Users\\User\\anaconda3\\lib\\site-packages\\IPython\\core\\interactiveshell.py\"\u001b[0m, line \u001b[0;32m3437\u001b[0m, in \u001b[0;35mrun_code\u001b[0m\n    exec(code_obj, self.user_global_ns, self.user_ns)\n",
      "  File \u001b[0;32m\"<ipython-input-20-9d1241e73cee>\"\u001b[0m, line \u001b[0;32m20\u001b[0m, in \u001b[0;35m<module>\u001b[0m\n    root = ET.fromstring(xml_data)\n",
      "\u001b[1;36m  File \u001b[1;32m\"C:\\Users\\User\\anaconda3\\lib\\xml\\etree\\ElementTree.py\"\u001b[1;36m, line \u001b[1;32m1320\u001b[1;36m, in \u001b[1;35mXML\u001b[1;36m\u001b[0m\n\u001b[1;33m    parser.feed(text)\u001b[0m\n",
      "\u001b[1;36m  File \u001b[1;32m\"<string>\"\u001b[1;36m, line \u001b[1;32munknown\u001b[0m\n\u001b[1;31mParseError\u001b[0m\u001b[1;31m:\u001b[0m mismatched tag: line 1, column 363\n"
     ]
    }
   ],
   "source": [
    "import xml.etree.ElementTree as ET\n",
    "\n",
    "def parse_list_cost_maint(element):\n",
    "    data = {}\n",
    "    for child in element:\n",
    "        data[child.tag] = child.text\n",
    "    return data\n",
    "\n",
    "xml_data = \"\"\"  <LIST_COST_MAINT><BICEPSITEM>250473199</BICEPSITEM> <FIRSTORDERDATE>120723</FIRSTORDERDATE> <LASTORDERDATE>010624</LASTORDERDATE> <ITEMLISTFUTURE>00046.1800</ITEMLISTFUTURE> <DATESELLEFF>010724</DATESELLEFF> <DEALMANUFACTURENUMBER>120730106ORA4618</DEALMANUFACTURENUMBER> <LISTCOSTADD></LISTCOSTADD>       <TRANSACTIONID>L120623000000000000001<TRANSACTIONID> </LIST_COST_MAINT>                                                                                                                            \n",
    "<LIST_COST_MAINT><BICEPSITEM>250494237</BICEPSITEM> <FIRSTORDERDATE>120723</FIRSTORDERDATE> <LASTORDERDATE>010624</LASTORDERDATE> <ITEMLISTFUTURE>00024.2600</ITEMLISTFUTURE> <DATESELLEFF>010724</DATESELLEFF> <DEALMANUFACTURENUMBER>120730106ORA2426</DEALMANUFACTURENUMBER> <LISTCOSTADD></LISTCOSTADD>       <TRANSACTIONID>L120623000000000000002<TRANSACTIONID> </LIST_COST_MAINT>                                                                                                                            \n",
    "<LIST_COST_MAINT><BICEPSITEM>250091739</BICEPSITEM> <FIRSTORDERDATE>030824</FIRSTORDERDATE> <LASTORDERDATE>040724</LASTORDERDATE> <ITEMLISTFUTURE>00014.2000</ITEMLISTFUTURE> <DATESELLEFF>040824</DATESELLEFF> <DEALMANUFACTURENUMBER>030840407ORA1420</DEALMANUFACTURENUMBER> <LISTCOSTADD></LISTCOSTADD>       <TRANSACTIONID>L120623000000000000003<TRANSACTIONID> </LIST_COST_MAINT>                                                                                                                            \n",
    "<LIST_COST_MAINT><BICEPSITEM>250952159</BICEPSITEM> <FIRSTORDERDATE>030824</FIRSTORDERDATE> <LASTORDERDATE>040724</LASTORDERDATE> <ITEMLISTFUTURE>00013.5200</ITEMLISTFUTURE> <DATESELLEFF>040824</DATESELLEFF> <DEALMANUFACTURENUMBER>030840407ORA1352</DEALMANUFACTURENUMBER> <LISTCOSTADD></LISTCOSTADD>       <TRANSACTIONID>L120623000000000000004<TRANSACTIONID> </LIST_COST_MAINT>                                                                                                                            \n",
    "<LIST_COST_MAINT><BICEPSITEM>250494237</BICEPSITEM> <FIRSTORDERDATE>030824</FIRSTORDERDATE> <LASTORDERDATE>040724</LASTORDERDATE> <ITEMLISTFUTURE>00022.6500</ITEMLISTFUTURE> <DATESELLEFF>040824</DATESELLEFF> <DEALMANUFACTURENUMBER>030840407ORA2265</DEALMANUFACTURENUMBER> <LISTCOSTADD></LISTCOSTADD>       <TRANSACTIONID>L120623000000000000005<TRANSACTIONID> </LIST_COST_MAINT>                                                                                                                            \n",
    "<LIST_COST_MAINT><BICEPSITEM>250473199</BICEPSITEM> <FIRSTORDERDATE>030824</FIRSTORDERDATE> <LASTORDERDATE>040724</LASTORDERDATE> <ITEMLISTFUTURE>00040.9300</ITEMLISTFUTURE> <DATESELLEFF>040824</DATESELLEFF> <DEALMANUFACTURENUMBER>030840407ORA4093</DEALMANUFACTURENUMBER> <LISTCOSTADD></LISTCOSTADD>       <TRANSACTIONID>L120623000000000000006<TRANSACTIONID> </LIST_COST_MAINT>                                                                                                                            \n",
    "<LIST_COST_MAINT><BICEPSITEM>251582038</BICEPSITEM> <FIRSTORDERDATE>010524</FIRSTORDERDATE> <LASTORDERDATE>020424</LASTORDERDATE> <ITEMLISTFUTURE>00187.2000</ITEMLISTFUTURE> <DATESELLEFF>020524</DATESELLEFF> <DEALMANUFACTURENUMBER>010540204ORA1820</DEALMANUFACTURENUMBER> <LISTCOSTADD></LISTCOSTADD>       <TRANSACTIONID>L120623000000000000007<TRANSACTIONID> </LIST_COST_MAINT>                                                                                                                            \n",
    "<LIST_COST_MAINT><BICEPSITEM>251580418</BICEPSITEM> <FIRSTORDERDATE>010524</FIRSTORDERDATE> <LASTORDERDATE>020424</LASTORDERDATE> <ITEMLISTFUTURE>00019.9200</ITEMLISTFUTURE> <DATESELLEFF>020524</DATESELLEFF> <DEALMANUFACTURENUMBER>010540204ORA1992</DEALMANUFACTURENUMBER> <LISTCOSTADD></LISTCOSTADD>       <TRANSACTIONID>L120623000000000000008<TRANSACTIONID> </LIST_COST_MAINT>                                                                                                                            \n",
    "\n",
    "\"\"\"\n",
    "\n",
    "root = ET.fromstring(xml_data)\n",
    "\n",
    "for list_cost_maint_element in root.findall('LIST_COST_MAINT'):\n",
    "    data = parse_list_cost_maint(list_cost_maint_element)\n",
    "    print(data)\n"
   ]
  },
  {
   "cell_type": "code",
   "execution_count": 23,
   "id": "12fbeb07",
   "metadata": {},
   "outputs": [
    {
     "name": "stdout",
     "output_type": "stream",
     "text": [
      "Error parsing line: <LIST_COST_MAINT><BICEPSITEM>250473199</BICEPSITEM> <FIRSTORDERDATE>120723</FIRSTORDERDATE> <LASTORDERDATE>010624</LASTORDERDATE> <ITEMLISTFUTURE>00046.1800</ITEMLISTFUTURE> <DATESELLEFF>010724</DATESELLEFF> <DEALMANUFACTURENUMBER>120730106ORA4618</DEALMANUFACTURENUMBER> <LISTCOSTADD></LISTCOSTADD>       <TRANSACTIONID>L120623000000000000001<TRANSACTIONID> </LIST_COST_MAINT>\n",
      "ParseError: mismatched tag: line 1, column 361\n",
      "Error parsing line: <LIST_COST_MAINT><BICEPSITEM>250494237</BICEPSITEM> <FIRSTORDERDATE>120723</FIRSTORDERDATE> <LASTORDERDATE>010624</LASTORDERDATE> <ITEMLISTFUTURE>00024.2600</ITEMLISTFUTURE> <DATESELLEFF>010724</DATESELLEFF> <DEALMANUFACTURENUMBER>120730106ORA2426</DEALMANUFACTURENUMBER> <LISTCOSTADD></LISTCOSTADD>       <TRANSACTIONID>L120623000000000000002<TRANSACTIONID> </LIST_COST_MAINT>\n",
      "ParseError: mismatched tag: line 1, column 361\n",
      "Error parsing line: <LIST_COST_MAINT><BICEPSITEM>250091739</BICEPSITEM> <FIRSTORDERDATE>030824</FIRSTORDERDATE> <LASTORDERDATE>040724</LASTORDERDATE> <ITEMLISTFUTURE>00014.2000</ITEMLISTFUTURE> <DATESELLEFF>040824</DATESELLEFF> <DEALMANUFACTURENUMBER>030840407ORA1420</DEALMANUFACTURENUMBER> <LISTCOSTADD></LISTCOSTADD>       <TRANSACTIONID>L120623000000000000003<TRANSACTIONID> </LIST_COST_MAINT>\n",
      "ParseError: mismatched tag: line 1, column 361\n",
      "Error parsing line: <LIST_COST_MAINT><BICEPSITEM>250952159</BICEPSITEM> <FIRSTORDERDATE>030824</FIRSTORDERDATE> <LASTORDERDATE>040724</LASTORDERDATE> <ITEMLISTFUTURE>00013.5200</ITEMLISTFUTURE> <DATESELLEFF>040824</DATESELLEFF> <DEALMANUFACTURENUMBER>030840407ORA1352</DEALMANUFACTURENUMBER> <LISTCOSTADD></LISTCOSTADD>       <TRANSACTIONID>L120623000000000000004<TRANSACTIONID> </LIST_COST_MAINT>\n",
      "ParseError: mismatched tag: line 1, column 361\n",
      "Error parsing line: <LIST_COST_MAINT><BICEPSITEM>250494237</BICEPSITEM> <FIRSTORDERDATE>030824</FIRSTORDERDATE> <LASTORDERDATE>040724</LASTORDERDATE> <ITEMLISTFUTURE>00022.6500</ITEMLISTFUTURE> <DATESELLEFF>040824</DATESELLEFF> <DEALMANUFACTURENUMBER>030840407ORA2265</DEALMANUFACTURENUMBER> <LISTCOSTADD></LISTCOSTADD>       <TRANSACTIONID>L120623000000000000005<TRANSACTIONID> </LIST_COST_MAINT>\n",
      "ParseError: mismatched tag: line 1, column 361\n",
      "Error parsing line: <LIST_COST_MAINT><BICEPSITEM>250473199</BICEPSITEM> <FIRSTORDERDATE>030824</FIRSTORDERDATE> <LASTORDERDATE>040724</LASTORDERDATE> <ITEMLISTFUTURE>00040.9300</ITEMLISTFUTURE> <DATESELLEFF>040824</DATESELLEFF> <DEALMANUFACTURENUMBER>030840407ORA4093</DEALMANUFACTURENUMBER> <LISTCOSTADD></LISTCOSTADD>       <TRANSACTIONID>L120623000000000000006<TRANSACTIONID> </LIST_COST_MAINT>\n",
      "ParseError: mismatched tag: line 1, column 361\n",
      "Error parsing line: <LIST_COST_MAINT><BICEPSITEM>251582038</BICEPSITEM> <FIRSTORDERDATE>010524</FIRSTORDERDATE> <LASTORDERDATE>020424</LASTORDERDATE> <ITEMLISTFUTURE>00187.2000</ITEMLISTFUTURE> <DATESELLEFF>020524</DATESELLEFF> <DEALMANUFACTURENUMBER>010540204ORA1820</DEALMANUFACTURENUMBER> <LISTCOSTADD></LISTCOSTADD>       <TRANSACTIONID>L120623000000000000007<TRANSACTIONID> </LIST_COST_MAINT>\n",
      "ParseError: mismatched tag: line 1, column 361\n",
      "Error parsing line: <LIST_COST_MAINT><BICEPSITEM>251580418</BICEPSITEM> <FIRSTORDERDATE>010524</FIRSTORDERDATE> <LASTORDERDATE>020424</LASTORDERDATE> <ITEMLISTFUTURE>00019.9200</ITEMLISTFUTURE> <DATESELLEFF>020524</DATESELLEFF> <DEALMANUFACTURENUMBER>010540204ORA1992</DEALMANUFACTURENUMBER> <LISTCOSTADD></LISTCOSTADD>       <TRANSACTIONID>L120623000000000000008<TRANSACTIONID> </LIST_COST_MAINT>\n",
      "ParseError: mismatched tag: line 1, column 361\n"
     ]
    }
   ],
   "source": [
    "import os\n",
    "import xml.etree.ElementTree as ET\n",
    "import psycopg2\n",
    "\n",
    "# Define the PostgreSQL connection parameters\n",
    "db_params = {\n",
    "    \"host\": \"gc-ue4-psql-cspo-dev01.nonprod.gcp.cswg.com\",\n",
    "    \"database\": \"CSPODB\",\n",
    "    \"port\": 5432,\n",
    "    \"user\": \"cspoms\",\n",
    "    \"password\": \"cspoms\",\n",
    "    \"sslmode\": \"verify-ca\",\n",
    "    \"sslcert\": \"D:\\\\W\\\\RELEX\\\\RELEX\\\\CSPOMS_DEV_Conn\\\\client-cert.pem\",\n",
    "    \"sslkey\": \"D:\\\\W\\\\RELEX\\\\RELEX\\\\CSPOMS_DEV_Conn\\\\client-key.pem\",\n",
    "    \"sslrootcert\": \"D:\\\\W\\\\RELEX\\\\RELEX\\\\CSPOMS_DEV_Conn\\\\server-ca.pem\"\n",
    "}\n",
    "\n",
    "# Define the root directory path\n",
    "root_directory = r'D:\\W\\RELEX\\RELEX\\Future_List_Cost\\Inbound_files'\n",
    "\n",
    "# Specify the file name\n",
    "# file_name = 'future.xml'\n",
    "file_name = f'FUTRLIST.IN07.20231206100039 (Oracle File)'\n",
    "\n",
    "# Join the root directory path and the file name\n",
    "file_path = os.path.join(root_directory, file_name)\n",
    "\n",
    "# Open the file and parse each line\n",
    "with open(file_path, 'r', encoding='utf-8') as file:\n",
    "    # Establish a database connection and execute the INSERT statement\n",
    "    with psycopg2.connect(**db_params) as conn:\n",
    "        with conn.cursor() as cursor:\n",
    "            for line in file:\n",
    "                try:\n",
    "                    # Parse each line as XML\n",
    "                    root = ET.fromstring(line.strip())\n",
    "\n",
    "                    # Access the elements within each <LIST_COST_MAINT>\n",
    "                    BICEPSITEM = root.find('BICEPSITEM').text\n",
    "                    FIRSTORDERDATE = root.find('FIRSTORDERDATE').text\n",
    "                    LASTORDERDATE = root.find('LASTORDERDATE').text\n",
    "                    ITEMLISTFUTURE = root.find('ITEMLISTFUTURE').text\n",
    "                    DATESELLEFF = root.find('DATESELLEFF').text\n",
    "                    DEALMANUFACTURENUMBER = root.find('DEALMANUFACTURENUMBER').text\n",
    "                    LISTCOSTADD = root.find('LISTCOSTADD').text\n",
    "                    TRANSACTIONID = root.find('TRANSACTIONID').text\n",
    "\n",
    "                    # Execute the INSERT statement for each line\n",
    "                    cursor.execute(\"\"\"\n",
    "                        INSERT INTO LIST_COST_MAINT_STG (\n",
    "                            BICEPSITEM, FIRSTORDERDATE, LASTORDERDATE,\n",
    "                            ITEMLISTFUTURE, DATESELLEFF, DEALMANUFACTURENUMBER,\n",
    "                            LISTCOSTADD, TRANSACTIONID\n",
    "                        ) VALUES (%s, %s, %s, %s, %s, %s, %s, %s)\n",
    "                    \"\"\", (\n",
    "                        BICEPSITEM, FIRSTORDERDATE, LASTORDERDATE,\n",
    "                        ITEMLISTFUTURE, DATESELLEFF, DEALMANUFACTURENUMBER,\n",
    "                        LISTCOSTADD, TRANSACTIONID\n",
    "                    ))\n",
    "\n",
    "                except ET.ParseError as e:\n",
    "                    print(f\"Error parsing line: {line.strip()}\")\n",
    "                    print(f\"ParseError: {e}\")\n",
    "\n",
    "# Commit the changes to the database\n",
    "conn.commit()\n"
   ]
  }
 ],
 "metadata": {
  "kernelspec": {
   "display_name": "Python 3",
   "language": "python",
   "name": "python3"
  },
  "language_info": {
   "codemirror_mode": {
    "name": "ipython",
    "version": 3
   },
   "file_extension": ".py",
   "mimetype": "text/x-python",
   "name": "python",
   "nbconvert_exporter": "python",
   "pygments_lexer": "ipython3",
   "version": "3.8.8"
  }
 },
 "nbformat": 4,
 "nbformat_minor": 5
}
