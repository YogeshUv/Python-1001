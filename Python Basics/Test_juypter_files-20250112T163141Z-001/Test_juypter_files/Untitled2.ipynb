{
 "cells": [
  {
   "cell_type": "code",
   "execution_count": 3,
   "id": "9cbcabe0",
   "metadata": {},
   "outputs": [
    {
     "name": "stdout",
     "output_type": "stream",
     "text": [
      "Column 'column1' size: 152 bytes\n",
      "Column 'column2' size: 302 bytes\n",
      "Column 'column3' size: 152 bytes\n"
     ]
    }
   ],
   "source": [
    "import pandas as pd\n",
    "\n",
    "# Create or load your DataFrame\n",
    "data = {\n",
    "    'column1': [1, 2, 3],\n",
    "    'column2': ['a', 'b', 'c'],\n",
    "    'column3': [10.5, 20.2, 30.7]\n",
    "}\n",
    "\n",
    "df = pd.DataFrame(data)\n",
    "\n",
    "# Print column names and their sizes\n",
    "for column in df.columns:\n",
    "    column_size = df[column].memory_usage(deep=True)\n",
    "    print(f\"Column '{column}' size: {column_size} bytes\")\n"
   ]
  },
  {
   "cell_type": "code",
   "execution_count": 5,
   "id": "261b75db",
   "metadata": {},
   "outputs": [
    {
     "name": "stdout",
     "output_type": "stream",
     "text": [
      "Column 'Index': Memory Usage = 128.00 bytes\n",
      "Column 'column1': Memory Usage = 24.00 bytes\n",
      "Column 'column2': Memory Usage = 174.00 bytes\n",
      "Column 'column3': Memory Usage = 24.00 bytes\n"
     ]
    }
   ],
   "source": [
    "import pandas as pd\n",
    "\n",
    "# Create or load your DataFrame\n",
    "data = {\n",
    "    'column1': [1, 2, 3],\n",
    "    'column2': ['a', 'b', 'c'],\n",
    "    'column3': [10.5, 20.2, 30.7]\n",
    "}\n",
    "df = pd.DataFrame(data)\n",
    "\n",
    "# Calculate memory usage for each column\n",
    "column_sizes = df.memory_usage(deep=True)\n",
    "\n",
    "# Print the calculated memory sizes\n",
    "for column_name, size in column_sizes.iteritems():\n",
    "    print(f\"Column '{column_name}': Memory Usage = {size:.2f} bytes\")\n"
   ]
  }
 ],
 "metadata": {
  "kernelspec": {
   "display_name": "Python 3",
   "language": "python",
   "name": "python3"
  },
  "language_info": {
   "codemirror_mode": {
    "name": "ipython",
    "version": 3
   },
   "file_extension": ".py",
   "mimetype": "text/x-python",
   "name": "python",
   "nbconvert_exporter": "python",
   "pygments_lexer": "ipython3",
   "version": "3.8.8"
  }
 },
 "nbformat": 4,
 "nbformat_minor": 5
}
