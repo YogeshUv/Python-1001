{
 "cells": [
  {
   "cell_type": "code",
   "execution_count": null,
   "id": "593dab27",
   "metadata": {},
   "outputs": [],
   "source": [
    "%%time\n",
    "import cx_Oracle\n",
    "import pandas as pd\n",
    "\n",
    "source_conn = cx_Oracle.connect(\n",
    "    user=\"apps\",\n",
    "    password=\"apps\",\n",
    "    dsn=\"csebsd2db.cswg.com:1521/csebsd2_int\"\n",
    ")\n",
    "source_cursor = source_conn.cursor()\n",
    "\n",
    "TRX_query = \"\"\"SELECT TRX_DATE, SHIP_TO_SITE_USE_ID FROM APPS.RA_CUSTOMER_TRX_ALL\"\"\"\n",
    "\n",
    "chunk_size = 10000  # Adjust the chunk size based on your system's capacity\n",
    "chunks = []\n",
    "\n",
    "for chunk_start in range(0, 180357928, chunk_size):\n",
    "    chunk_end = chunk_start + chunk_size\n",
    "    query = f\"{TRX_query} WHERE ROWNUM >= {chunk_start} AND ROWNUM < {chunk_end}\"\n",
    "    source_cursor.execute(query)\n",
    "    chunk = pd.DataFrame(source_cursor.fetchall(), columns=['TRX_DATE', 'SHIP_TO_SITE_USE_ID'])\n",
    "    chunks.append(chunk)\n",
    "\n",
    "TRX_df = pd.concat(chunks, ignore_index=True)\n"
   ]
  }
 ],
 "metadata": {
  "kernelspec": {
   "display_name": "Python 3",
   "language": "python",
   "name": "python3"
  },
  "language_info": {
   "codemirror_mode": {
    "name": "ipython",
    "version": 3
   },
   "file_extension": ".py",
   "mimetype": "text/x-python",
   "name": "python",
   "nbconvert_exporter": "python",
   "pygments_lexer": "ipython3",
   "version": "3.8.8"
  }
 },
 "nbformat": 4,
 "nbformat_minor": 5
}
