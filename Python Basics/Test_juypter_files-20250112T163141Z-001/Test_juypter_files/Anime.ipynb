{
 "cells": [
  {
   "cell_type": "code",
   "execution_count": 3,
   "id": "692ad28f",
   "metadata": {},
   "outputs": [
    {
     "data": {
      "text/plain": [
       "'C:/Users/User/OneDrive/Pictures/Screenshots/Anime_V.png'"
      ]
     },
     "execution_count": 3,
     "metadata": {},
     "output_type": "execute_result"
    }
   ],
   "source": [
    "from PIL import Image, ImageFilter, ImageEnhance\n",
    "\n",
    "# Open the uploaded image\n",
    "image_path = \"C:/Users/User/OneDrive/Pictures/Screenshots/Screenshot 2023-06-18 210628.png\"\n",
    "original_image = Image.open(image_path)\n",
    "\n",
    "# Apply a filter to give it an \"anime\" look\n",
    "# Enhancing the color\n",
    "enhancer = ImageEnhance.Color(original_image)\n",
    "anime_image = enhancer.enhance(2.0)\n",
    "\n",
    "# Applying an edge enhancement filter\n",
    "anime_image = anime_image.filter(ImageFilter.EDGE_ENHANCE_MORE)\n",
    "\n",
    "# Apply additional filters to create a cartoon/anime effect\n",
    "anime_image = anime_image.filter(ImageFilter.SMOOTH)\n",
    "anime_image = anime_image.filter(ImageFilter.SMOOTH_MORE)\n",
    "\n",
    "# Save the edited image\n",
    "anime_image_path = \"C:/Users/User/OneDrive/Pictures/Screenshots/Anime_V.png\"\n",
    "anime_image.save(anime_image_path)\n",
    "\n",
    "anime_image.show()\n",
    "anime_image_path\n"
   ]
  },
  {
   "cell_type": "code",
   "execution_count": null,
   "id": "073741a4",
   "metadata": {},
   "outputs": [],
   "source": []
  },
  {
   "cell_type": "code",
   "execution_count": null,
   "id": "48622f32",
   "metadata": {},
   "outputs": [],
   "source": []
  }
 ],
 "metadata": {
  "kernelspec": {
   "display_name": "Python 3",
   "language": "python",
   "name": "python3"
  },
  "language_info": {
   "codemirror_mode": {
    "name": "ipython",
    "version": 3
   },
   "file_extension": ".py",
   "mimetype": "text/x-python",
   "name": "python",
   "nbconvert_exporter": "python",
   "pygments_lexer": "ipython3",
   "version": "3.8.8"
  }
 },
 "nbformat": 4,
 "nbformat_minor": 5
}
