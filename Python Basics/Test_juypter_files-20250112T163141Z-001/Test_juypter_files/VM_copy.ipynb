{
 "cells": [
  {
   "cell_type": "markdown",
   "id": "17de4abd",
   "metadata": {},
   "source": [
    "# Task to Copy Value Map Tables from Different Instances"
   ]
  },
  {
   "cell_type": "code",
   "execution_count": null,
   "id": "9d3232b1",
   "metadata": {},
   "outputs": [],
   "source": [
    "# there are two tables \n",
    "XXCMN.XXCMN_GLB_VALUE_MAP \n",
    "XXCMN.XXCMN_GLB_VALUE_MAP_DEF"
   ]
  },
  {
   "cell_type": "code",
   "execution_count": 1,
   "id": "a64258b6",
   "metadata": {
    "scrolled": true
   },
   "outputs": [
    {
     "name": "stdout",
     "output_type": "stream",
     "text": [
      "Requirement already satisfied: cx_Oracle in c:\\users\\user\\anaconda3\\lib\\site-packages (8.3.0)\n",
      "Note: you may need to restart the kernel to use updated packages.\n"
     ]
    },
    {
     "name": "stderr",
     "output_type": "stream",
     "text": [
      "DEPRECATION: pyodbc 4.0.0-unsupported has a non-standard version number. pip 23.3 will enforce this behaviour change. A possible replacement is to upgrade to a newer version of pyodbc or contact the author to suggest that they release a version with a conforming version number. Discussion can be found at https://github.com/pypa/pip/issues/12063\n"
     ]
    }
   ],
   "source": [
    "pip install cx_Oracle"
   ]
  },
  {
   "cell_type": "code",
   "execution_count": 2,
   "id": "261af667",
   "metadata": {},
   "outputs": [],
   "source": [
    "import cx_Oracle\n"
   ]
  },
  {
   "cell_type": "code",
   "execution_count": 3,
   "id": "ae27a8b9",
   "metadata": {},
   "outputs": [],
   "source": [
    "# Source database connection\n",
    "source_conn = cx_Oracle.connect(\n",
    "    user=\"apps\",\n",
    "    password=\"apps\",\n",
    "    dsn=\"edp4-scan.cswg.com:1521/EBSF1_USR\"\n",
    ")\n",
    "\n",
    "# Target database connection\n",
    "target_conn = cx_Oracle.connect(\n",
    "    user=\"apps\",\n",
    "    password=\"apps\",\n",
    "    dsn=\"csebsd2db.cswg.com:1521/csebsd2_int\"\n",
    ")\n"
   ]
  },
  {
   "cell_type": "code",
   "execution_count": 4,
   "id": "94e06eb6",
   "metadata": {},
   "outputs": [
    {
     "ename": "IntegrityError",
     "evalue": "ORA-00001: unique constraint (XXCMN.XXCMN_GLB_VALUE_MAP_DEF_U01) violated",
     "output_type": "error",
     "traceback": [
      "\u001b[1;31m---------------------------------------------------------------------------\u001b[0m",
      "\u001b[1;31mIntegrityError\u001b[0m                            Traceback (most recent call last)",
      "\u001b[1;32m<ipython-input-4-66d7004699d9>\u001b[0m in \u001b[0;36m<module>\u001b[1;34m\u001b[0m\n\u001b[0;32m     14\u001b[0m \u001b[1;31m# Insert data into the target table\u001b[0m\u001b[1;33m\u001b[0m\u001b[1;33m\u001b[0m\u001b[1;33m\u001b[0m\u001b[0m\n\u001b[0;32m     15\u001b[0m \u001b[1;32mfor\u001b[0m \u001b[0mrow\u001b[0m \u001b[1;32min\u001b[0m \u001b[0mdata_to_copy\u001b[0m\u001b[1;33m:\u001b[0m\u001b[1;33m\u001b[0m\u001b[1;33m\u001b[0m\u001b[0m\n\u001b[1;32m---> 16\u001b[1;33m     \u001b[0mtarget_cursor\u001b[0m\u001b[1;33m.\u001b[0m\u001b[0mexecute\u001b[0m\u001b[1;33m(\u001b[0m\u001b[1;34mf\"INSERT INTO {target_table} VALUES ({','.join([':1']*len(row))})\"\u001b[0m\u001b[1;33m,\u001b[0m \u001b[0mrow\u001b[0m\u001b[1;33m)\u001b[0m\u001b[1;33m\u001b[0m\u001b[1;33m\u001b[0m\u001b[0m\n\u001b[0m\u001b[0;32m     17\u001b[0m \u001b[1;33m\u001b[0m\u001b[0m\n\u001b[0;32m     18\u001b[0m \u001b[1;31m# Commit changes to the target database\u001b[0m\u001b[1;33m\u001b[0m\u001b[1;33m\u001b[0m\u001b[1;33m\u001b[0m\u001b[0m\n",
      "\u001b[1;31mIntegrityError\u001b[0m: ORA-00001: unique constraint (XXCMN.XXCMN_GLB_VALUE_MAP_DEF_U01) violated"
     ]
    }
   ],
   "source": [
    "# Source and target table names\n",
    "source_table = \"XXCMN.XXCMN_GLB_VALUE_MAP_DEF\"\n",
    "\n",
    "target_table = \"XXCMN.XXCMN_GLB_VALUE_MAP_DEF_Y\"\n",
    "\n",
    "# Create cursors for both connections\n",
    "source_cursor = source_conn.cursor()\n",
    "target_cursor = target_conn.cursor()\n",
    "\n",
    "# Select data from the source table\n",
    "source_cursor.execute(f\"SELECT * FROM XXCMN.XXCMN_GLB_VALUE_MAP_DEF where map_code = ''\")\n",
    "data_to_copy = source_cursor.fetchall()\n",
    "\n",
    "# Insert data into the target table\n",
    "for row in data_to_copy:\n",
    "    target_cursor.execute(f\"INSERT INTO XXCMN.XXCMN_GLB_VALUE_MAP_DEF VALUES ({','.join([':1']*len(row))})\", row)\n",
    "\n",
    "# Commit changes to the target database\n",
    "target_conn.commit()\n"
   ]
  },
  {
   "cell_type": "code",
   "execution_count": null,
   "id": "949ae9f3",
   "metadata": {},
   "outputs": [],
   "source": [
    "source_cursor.close()\n",
    "target_cursor.close()\n",
    "source_conn.close()\n",
    "target_conn.close()"
   ]
  },
  {
   "cell_type": "code",
   "execution_count": 2,
   "id": "5dd54142",
   "metadata": {},
   "outputs": [
    {
     "name": "stdout",
     "output_type": "stream",
     "text": [
      "DELETE FROM XXCMN_GLB_VALUE_MAP_DEF WHERE map_code = 'Dummy_Code'\n"
     ]
    }
   ],
   "source": [
    "copy_map_code = 'Dummy_Code'        \n",
    "del_sql = f\"DELETE FROM XXCMN.XXCMN_GLB_VALUE_MAP_DEF WHERE map_code = '{copy_map_code}'\"\n",
    "print(del_sql)\n"
   ]
  },
  {
   "cell_type": "code",
   "execution_count": null,
   "id": "9ca961d8",
   "metadata": {},
   "outputs": [],
   "source": [
    "item_master_select = \"SELECT * FROM OMS_ORD_DATA.OMS_ITEM_MASTER \"\n",
    "\n",
    "self.ebs_cur.execute(del_sql)\n",
    "print('Data Delete for mapcode : {copy_map_code} successfully ')\n",
    "item_master_df= pd.read_sql_query(item_master_select, self.oms_conn)\n",
    "\n",
    "item_master_df.replace({np.nan: None}, inplace = True)\n",
    "\n",
    "item_master_df.fillna('',inplace=True)\n",
    "\n",
    "item_master_df = item_master_df.astype(str)\n",
    "\n",
    "print('size of data item_master_df ', item_master_df.shape[0])\n",
    "\n",
    "item_master_insert = CSReadUtils.read_sql_from_file('oms/interfaces/item_master_details_interface_oms2ebs/scripts/item_master_insert.sql')\n",
    "CSQueryUtils.execute_sql_on_db('Insert into table XXFIN.OMS_ITEM_MASTER', self.ebs_hook, item_master_insert, item_master_df,batch_mode=True, raise_error=True, print_sql=True)\n",
    "\n",
    "self.oms_conn.commit()"
   ]
  },
  {
   "cell_type": "code",
   "execution_count": null,
   "id": "3dabc9b6",
   "metadata": {},
   "outputs": [],
   "source": [
    "#Testing Block for DEV to Dev\n",
    "# Source and target table names\n",
    "source_table = \"XXCMN.XXCMN_GLB_VALUE_MAP_DEF\"\n",
    "target_table = \"XXCMN.XXCMN_GLB_VALUE_MAP_DEF\"\n",
    "copy_map_code = 'Dummy_Code'        \n",
    "# Create cursors for both connections\n",
    "source_cursor = source_conn.cursor()\n",
    "# target_cursor = target_conn.cursor()\n",
    "target_cursor = source_conn.cursor()\n",
    "\n",
    "# Select data from the source table\n",
    "source_cursor.execute(f\"SELECT * FROM XXCMN.XXCMN_GLB_VALUE_MAP_DEF where map_code = ''\")\n",
    "data_to_copy = source_cursor.fetchall()\n",
    "\n",
    "# Insert data into the target table\n",
    "for row in data_to_copy:\n",
    "    target_cursor.execute(f\"INSERT INTO XXCMN.XXCMN_GLB_VALUE_MAP_DEF VALUES ({','.join([':1']*len(row))})\", row)\n",
    "\n",
    "# Commit changes to the target database\n",
    "target_conn.commit()"
   ]
  }
 ],
 "metadata": {
  "kernelspec": {
   "display_name": "Python 3",
   "language": "python",
   "name": "python3"
  },
  "language_info": {
   "codemirror_mode": {
    "name": "ipython",
    "version": 3
   },
   "file_extension": ".py",
   "mimetype": "text/x-python",
   "name": "python",
   "nbconvert_exporter": "python",
   "pygments_lexer": "ipython3",
   "version": "3.8.8"
  }
 },
 "nbformat": 4,
 "nbformat_minor": 5
}
