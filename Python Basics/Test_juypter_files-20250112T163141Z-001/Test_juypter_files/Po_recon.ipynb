{
 "cells": [
  {
   "cell_type": "code",
   "execution_count": 16,
   "id": "4ffd9d48",
   "metadata": {},
   "outputs": [
    {
     "name": "stdout",
     "output_type": "stream",
     "text": [
      "['PO_NUM', 'FACILITY', 'ORDER_DATE', 'VENDOR_NUM', 'DUE_DATE', 'PERISH_PO', 'PO_TYPE', 'BIC_BUYER_ID', 'PO_RECEIVED', 'PULLBACK_FLAG', 'PO_OSS_DEST', 'SECONDARY_PO', 'RECON_ORIGIN', 'FILLER', 'file_name', 'created_by', 'creation_date', 'last_updated_by', 'last_update_date', 'request_id', 'process_status', 'INBOUND_SOURCE']\n",
      "query_stg:: INSERT INTO cspoms.XXPO_PO_RECON_INBOUND_STG (PO_NUM, FACILITY, ORDER_DATE, VENDOR_NUM, DUE_DATE, PERISH_PO, PO_TYPE, BIC_BUYER_ID, PO_RECEIVED, PULLBACK_FLAG, PO_OSS_DEST, SECONDARY_PO, RECON_ORIGIN, FILLER, file_name, created_by, creation_date, last_updated_by, last_update_date, request_id, process_status, INBOUND_SOURCE) VALUES (%s, %s, %s, %s, %s, %s, %s, %s, %s, %s, %s, %s, %s, %s, %s, %s, %s, %s, %s, %s, %s, %s)\n",
      "[('815966', '904', '220801', '137693', '230228', 'N', '', 'JZ', '', 'N', '', '94187636', 'O', '', 'MainframeIN600', 'CSPOMS', '2024-03-18 06:21:37', 'CSPOMS', '2024-03-18 06:21:37', 999, 'N', 'Oracle'), ('245345', '252', '221010', '4282', '230316', 'N', '', 'IH', '', 'N', '', '20076575', 'O', '', 'MainframeIN600', 'CSPOMS', '2024-03-18 06:21:37', 'CSPOMS', '2024-03-18 06:21:37', 999, 'N', 'Oracle'), ('251735', '905', '221012', '101046', '230308', 'N', '', 'KB', '', 'N', '', '94192285', 'O', '', 'MainframeIN600', 'CSPOMS', '2024-03-18 06:21:37', 'CSPOMS', '2024-03-18 06:21:37', 999, 'N', 'Oracle'), ('255347', '252', '221014', '3780', '230303', 'N', '', 'IH', '', 'N', '', '20076823', 'O', '', 'MainframeIN600', 'CSPOMS', '2024-03-18 06:21:37', 'CSPOMS', '2024-03-18 06:21:37', 999, 'N', 'Oracle'), ('258466', '252', '221017', '3067', '230302', 'N', '', 'IH', '', 'N', '', '20076907', 'O', '', 'MainframeIN600', 'CSPOMS', '2024-03-18 06:21:37', 'CSPOMS', '2024-03-18 06:21:37', 999, 'N', 'Oracle')]\n",
      "INSERTED 5 EXCEL RECORDS TO cspoms.XXPO_PO_RECON_INBOUND_STG TABLE\n"
     ]
    }
   ],
   "source": [
    "import pandas as pd\n",
    "import xml.etree.ElementTree as ET\n",
    "import psycopg2\n",
    "from datetime import datetime\n",
    "import re\n",
    "import cx_Oracle\n",
    "import datetime \n",
    "import pytz\n",
    "import numpy as np\n",
    "\n",
    "# Database connection parameters\n",
    "db_params = {\n",
    "    \"host\": \"gc-ue4-psql-cspo-dev01.nonprod.gcp.cswg.com\",\n",
    "    \"database\": \"CSPODB\",\n",
    "    \"port\": 5432,\n",
    "    \"user\": \"cspoms\",\n",
    "    \"password\": \"cspoms\",\n",
    "    \"sslmode\": \"verify-ca\",\n",
    "    \"sslcert\": \"D:\\\\W\\\\RELEX\\\\RELEX\\\\CSPOMS_DEV_Conn\\\\client-cert.pem\",\n",
    "    \"sslkey\": \"D:\\\\W\\\\RELEX\\\\RELEX\\\\CSPOMS_DEV_Conn\\\\client-key.pem\",\n",
    "    \"sslrootcert\": \"D:\\\\W\\\\RELEX\\\\RELEX\\\\CSPOMS_DEV_Conn\\\\server-ca.pem\"\n",
    "}\n",
    "\n",
    "post_conn = psycopg2.connect(**db_params)\n",
    "post_cur = post_conn.cursor()\n",
    "\n",
    "text_data_path = 'D:\\\\W\\\\RELEX\\\\RELEX\\\\I1674 - Po recon\\\\RECON_PO.IN600.20230227230124'\n",
    "# text_data_path = 'D:\\\\W\\\\RELEX\\\\RELEX\\\\I1674 - Po recon\\\\MFPORECON.IN600.20240312000434641'\n",
    "# Define positions for slicing each line into tuples\n",
    "positions = [(0, 6), (6, 9), (9, 15), (15, 21), (21, 27), (27, 28), (28, 30), (30, 32), (32, 33), (33, 34), (34, 37), (37, 45), (45, 46), (46, 80)]\n",
    "# Open the file and read its content\n",
    "with open(text_data_path, 'r', encoding='utf-8') as file:\n",
    "    text_data = file.read()\n",
    "def process_text_data(text_data, positions):\n",
    "    # List to store extracted data as tuples\n",
    "    extracted_data = []\n",
    "\n",
    "    try:\n",
    "        for line in text_data.split('\\n'):\n",
    "            try:\n",
    "                # Slice each line based on positions and create a tuple\n",
    "                line_data = tuple(line[start:end].strip() for start, end in positions)\n",
    "\n",
    "                # Check if the tuple is not empty (contains at least one non-blank element)\n",
    "                if any(field for field in line_data):\n",
    "                    # Append the tuple to the list\n",
    "                    extracted_data.append(line_data)\n",
    "\n",
    "            except Exception as e:\n",
    "                print(f\"Error processing line: {line}. Exception: {e}\")\n",
    "\n",
    "    except Exception as e:\n",
    "        print(f\"Error processing text data. Error: {str(e)}\")\n",
    "\n",
    "    # Return the list of tuples\n",
    "    return extracted_data\n",
    "\n",
    "\n",
    "result = process_text_data(text_data, positions)\n",
    "# Convert the list of tuples to a DataFrame with custom column names\n",
    "df = pd.DataFrame(result, columns=[\n",
    "    'PO_NUM', 'FACILITY', 'ORDER_DATE', 'VENDOR_NUM', 'DUE_DATE',\n",
    "    'PERISH_PO', 'PO_TYPE', 'BIC_BUYER_ID', 'PO_RECEIVED', 'PULLBACK_FLAG',\n",
    "    'PO_OSS_DEST', 'SECONDARY_PO', 'RECON_ORIGIN', 'FILLER'\n",
    "])\n",
    "df = df.iloc[:5]\n",
    "# Specify the table name\n",
    "table_name = 'cspoms.XXPO_PO_RECON_INBOUND_STG'\n",
    "\n",
    "request_id = 999\n",
    "\n",
    "file_name = 'MainframeIN600'\n",
    "utc_now = datetime.datetime.now(datetime.timezone.utc)\n",
    "# Convert UTC time to EST\n",
    "est = pytz.timezone('America/New_York')\n",
    "est_time = utc_now.astimezone(est).strftime(\"%Y-%m-%d %H:%M:%S\")\n",
    "df['file_name'] = file_name\n",
    "df['created_by'] = \"CSPOMS\"\n",
    "df['creation_date'] = est_time\n",
    "df['last_updated_by'] = \"CSPOMS\"\n",
    "df['last_update_date'] = est_time\n",
    "df['request_id'] = request_id\n",
    "df['process_status'] = \"N\"\n",
    "df['INBOUND_SOURCE'] = ''\n",
    "df['FILLER'] = df['FILLER'].apply(lambda x: '' if '\\x00' in x else x)\n",
    "# Define conditions for updating 'INBOUND_SOURCE' based on the value of 'RECON_ORIGIN'\n",
    "mainframe_condition = df['RECON_ORIGIN'] == 'M'\n",
    "oracle_condition = df['RECON_ORIGIN'] == 'O'\n",
    "\n",
    "# Update 'INBOUND_SOURCE' column based on conditions using numpy.where()\n",
    "df['INBOUND_SOURCE'] = np.where(mainframe_condition, 'Mainframe', np.where(oracle_condition, 'Oracle', ''))\n",
    "\n",
    "fields = [col for col in df.columns]\n",
    "print(fields)\n",
    "str_sub = ', '.join(['%s'] * len(fields))\n",
    "insert_query = f\"INSERT INTO {table_name} ({', '.join(fields)}) VALUES ({str_sub})\"\n",
    "print(\"query_stg::\", insert_query)\n",
    "data_tuples = [tuple(row) for row in df.itertuples(index=False, name=None)]\n",
    "print(data_tuples)\n",
    "\n",
    "\n",
    "# Execute the INSERT statement with the data\n",
    "post_cur.executemany(insert_query, data_tuples)\n",
    "count = post_cur.rowcount\n",
    "post_conn.commit()\n",
    "print(f'INSERTED {count} EXCEL RECORDS TO {table_name} TABLE')"
   ]
  },
  {
   "cell_type": "code",
   "execution_count": 18,
   "id": "c011eca7",
   "metadata": {},
   "outputs": [
    {
     "name": "stdout",
     "output_type": "stream",
     "text": [
      "Total number of records interted into STG cspoms.XXPO_PO_RECON_INBOUND_STG from files ::  15\n",
      "Records are not there for BB Deal and OI Deal in CSPOMS : 7\n"
     ]
    }
   ],
   "source": [
    "#total number of records inserted in STG table\n",
    "ins_rcd = f\"\"\"select count(*) from {table_name} where request_id = {request_id}\"\"\"\n",
    "post_cur.execute(ins_rcd)\n",
    "inserted_records_count = post_cur.fetchone()[0]\n",
    "print(f\"Total number of records interted into STG {table_name} from files ::  {inserted_records_count}\")\n",
    "cspoms_table = 'XXPO_HEADERS_ALL' \n",
    "bb_deal_check = f\"\"\"\n",
    "                    UPDATE XXPO_PO_RECON_INBOUND_STG\n",
    "                    SET \n",
    "                        process_status = 'C',\n",
    "                        error_message = \n",
    "                            CASE \n",
    "                                WHEN recon_origin = 'O' THEN 'PO in Oracle but NOT in CSPOMS'\n",
    "                                WHEN recon_origin = 'M' THEN 'PO in MF but NOT in CSPOMS'\n",
    "                                ELSE 'not in CSPOMS' -- Default error message if recon_origin is neither 'O' nor 'M'\n",
    "                            END\n",
    "                    WHERE \n",
    "                        po_num::varchar NOT IN (\n",
    "                            SELECT ha.po_num\n",
    "                            FROM cspoms.XXPO_HEADERS_ALL ha\n",
    "                            WHERE po_status = 'OPEN' AND received_date IS NULL\n",
    "\n",
    "                        )\n",
    "                \"\"\"\n",
    "try:\n",
    "    post_cur.execute(bb_deal_check)\n",
    "    bb_records_count = post_cur.rowcount\n",
    "    print(f\"Records are not there in CSPOMS : {bb_records_count}\")\n",
    "    post_conn.commit()\n",
    "except Exception as e:\n",
    "    print(\"An error occurred while executing the query:\", str(e))\n"
   ]
  },
  {
   "cell_type": "code",
   "execution_count": 5,
   "id": "5fd881c5",
   "metadata": {
    "scrolled": true
   },
   "outputs": [
    {
     "name": "stdout",
     "output_type": "stream",
     "text": [
      "['PO_NUM', 'FACILITY', 'ORDER_DATE', 'VENDOR_NUM', 'DUE_DATE', 'PERISH_PO', 'PO_TYPE', 'BIC_BUYER_ID', 'PO_RECEIVED', 'PULLBACK_FLAG', 'PO_OSS_DEST', 'SECONDARY_PO', 'RECON_ORIGIN', 'FILLER', 'file_name', 'created_by', 'creation_date', 'last_updated_by', 'last_update_date', 'request_id', 'process_status']\n",
      "query_stg:: INSERT INTO cspoms.XXPO_PO_RECON_INBOUND_STG (PO_NUM, FACILITY, ORDER_DATE, VENDOR_NUM, DUE_DATE, PERISH_PO, PO_TYPE, BIC_BUYER_ID, PO_RECEIVED, PULLBACK_FLAG, PO_OSS_DEST, SECONDARY_PO, RECON_ORIGIN, FILLER, file_name, created_by, creation_date, last_updated_by, last_update_date, request_id, process_status) VALUES (%s, %s, %s, %s, %s, %s, %s, %s, %s, %s, %s, %s, %s, %s, %s, %s, %s, %s, %s, %s, %s)\n",
      "[('815966', '904', '220801', '137693', '230228', 'N', '', 'JZ', '', 'N', '', '94187636', 'O', '', 'OracleIN600', 'CSPOMS', '2024-04-02 08:16:41', 'CSPOMS', '2024-04-02 08:16:41', 111, 'N'), ('245345', '252', '221010', '4282', '230316', 'N', '', 'IH', '', 'N', '', '20076575', 'O', '', 'OracleIN600', 'CSPOMS', '2024-04-02 08:16:41', 'CSPOMS', '2024-04-02 08:16:41', 111, 'N'), ('251735', '905', '221012', '101046', '230308', 'N', '', 'KB', '', 'N', '', '94192285', 'O', '', 'OracleIN600', 'CSPOMS', '2024-04-02 08:16:41', 'CSPOMS', '2024-04-02 08:16:41', 111, 'N'), ('255347', '252', '221014', '3780', '230303', 'N', '', 'IH', '', 'N', '', '20076823', 'O', '', 'OracleIN600', 'CSPOMS', '2024-04-02 08:16:41', 'CSPOMS', '2024-04-02 08:16:41', 111, 'N'), ('258466', '252', '221017', '3067', '230302', 'N', '', 'IH', '', 'N', '', '20076907', 'O', '', 'OracleIN600', 'CSPOMS', '2024-04-02 08:16:41', 'CSPOMS', '2024-04-02 08:16:41', 111, 'N')]\n"
     ]
    }
   ],
   "source": [
    "import datetime \n",
    "import pytz\n",
    "import pandas as pd\n",
    "\n",
    "text_data_path = 'D:\\\\W\\\\RELEX\\\\RELEX\\\\I1674 - Po recon\\\\RECON_PO.IN600.20230227230124'\n",
    "\n",
    "# Define positions for slicing each line into tuples\n",
    "positions = [(0, 6), (6, 9), (9, 15), (15, 21), (21, 27), (27, 28), (28, 30), (30, 32), (32, 33), (33, 34), (34, 37), (37, 45), (45, 46), (46, 80)]\n",
    "# Open the file and read its content\n",
    "with open(text_data_path, 'r', encoding='utf-8') as file:\n",
    "    text_data = file.read()\n",
    "def process_text_data(text_data, positions):\n",
    "    # List to store extracted data as tuples\n",
    "    extracted_data = []\n",
    "\n",
    "    try:\n",
    "        for line in text_data.split('\\n'):\n",
    "            try:\n",
    "                # Slice each line based on positions and create a tuple\n",
    "                line_data = tuple(line[start:end].strip() for start, end in positions)\n",
    "\n",
    "                # Check if the tuple is not empty (contains at least one non-blank element)\n",
    "                if any(field for field in line_data):\n",
    "                    # Append the tuple to the list\n",
    "                    extracted_data.append(line_data)\n",
    "\n",
    "            except Exception as e:\n",
    "                print(f\"Error processing line: {line}. Exception: {e}\")\n",
    "\n",
    "    except Exception as e:\n",
    "        print(f\"Error processing text data. Error: {str(e)}\")\n",
    "\n",
    "    # Return the list of tuples\n",
    "    return extracted_data\n",
    "\n",
    "\n",
    "result = process_text_data(text_data, positions)\n",
    "# print(result)\n",
    "# Convert the list of tuples to a DataFrame with custom column names\n",
    "df = pd.DataFrame(result,\n",
    "                  columns=\n",
    "                  [\n",
    "                    'PO_NUM', 'FACILITY', 'ORDER_DATE', 'VENDOR_NUM', 'DUE_DATE',\n",
    "                    'PERISH_PO', 'PO_TYPE', 'BIC_BUYER_ID', 'PO_RECEIVED', 'PULLBACK_FLAG',\n",
    "                    'PO_OSS_DEST', 'SECONDARY_PO', 'RECON_ORIGIN', 'FILLER'\n",
    "                  ])\n",
    "\n",
    "# Display the DataFrame\n",
    "# print(df)\n",
    "df = df.iloc[:5]\n",
    "df\n",
    "# Specify the table name\n",
    "table_name = 'cspoms.XXPO_PO_RECON_INBOUND_STG'\n",
    "\n",
    "request_id = 111\n",
    "\n",
    "file_name = 'OracleIN600'\n",
    "utc_now = datetime.datetime.now(datetime.timezone.utc)\n",
    "# Convert UTC time to EST\n",
    "est = pytz.timezone('America/New_York')\n",
    "est_time = utc_now.astimezone(est).strftime(\"%Y-%m-%d %H:%M:%S\")\n",
    "df['file_name'] = file_name\n",
    "df['created_by'] = \"CSPOMS\"\n",
    "df['creation_date'] = est_time\n",
    "df['last_updated_by'] = \"CSPOMS\"\n",
    "df['last_update_date'] = est_time\n",
    "df['request_id'] = request_id\n",
    "df['process_status'] = \"N\"\n",
    "\n",
    "fields = [col for col in df.columns]\n",
    "print(fields)\n",
    "str_sub = ', '.join(['%s'] * len(fields))\n",
    "insert_query = f\"INSERT INTO {table_name} ({', '.join(fields)}) VALUES ({str_sub})\"\n",
    "print(\"query_stg::\", insert_query)\n",
    "# Convert the DataFrame to a list of tuples for bulk insertion\n",
    "df.replace('', None, inplace=True)\n",
    "\n",
    "# df['PO_OSS_DEST'].replace('',None,inplace=True)\n",
    "# df['PO_OSS_DEST'] = pd.to_numeric(df['PO_OSS_DEST'], errors='coerce')\n",
    "\n",
    "# PO_NUM, FACILITY, ORDER_DATE, VENDOR_NUM, DUE_DATE, PERISH_PO, PO_TYPE, BIC_BUYER_ID, PO_RECEIVED, PULLBACK_FLAG, PO_OSS_DEST, SECONDARY_PO, RECON_ORIGIN, FILLER, file_name, created_by, creation_date, last_updated_by, last_update_date, request_id, process_status) VALUES (%s, %s, %s, %s, %s, %s, %s, %s, %s, %s, %s, %s, %s, %s, %s, %s, %s, %s, %s, %s, %s)\n",
    "data_tuples = [tuple(row) for row in df.itertuples(index=False, name=None)]\n",
    "print(data_tuples)\n",
    "\n",
    "\n",
    "# # Execute the INSERT statement with the data\n",
    "# post_cur.executemany(insert_query, data_tuples)\n",
    "# count = post_cur.rowcount\n",
    "\n",
    "# print(f'INSERTED {count} EXCEL RECORDS TO {table_name} TABLE')\n"
   ]
  },
  {
   "cell_type": "code",
   "execution_count": 6,
   "id": "48b12f7b",
   "metadata": {},
   "outputs": [
    {
     "name": "stdout",
     "output_type": "stream",
     "text": [
      "['PO_NUM', 'FACILITY', 'ORDER_DATE', 'VENDOR_NUM', 'DUE_DATE', 'PERISH_PO', 'PO_TYPE', 'BIC_BUYER_ID', 'PO_RECEIVED', 'PULLBACK_FLAG', 'PO_OSS_DEST', 'SECONDARY_PO', 'RECON_ORIGIN', 'FILLER', 'file_name', 'created_by', 'creation_date', 'last_updated_by', 'last_update_date', 'request_id', 'process_status']\n"
     ]
    }
   ],
   "source": [
    "fields = [col for col in df.columns]\n",
    "print(fields)"
   ]
  },
  {
   "cell_type": "code",
   "execution_count": null,
   "id": "09896ff3",
   "metadata": {},
   "outputs": [],
   "source": [
    "try:\n",
    "    # Intentionally provide an incorrect file path\n",
    "    incorrect_path = 'D:\\\\W\\\\RELEX\\\\RELEX\\\\I1674 - Po recon\\\\nonexistent_file.txt'\n",
    "    with open(incorrect_path, 'r', encoding='utf-8') as file:\n",
    "        text_data = file.read()\n",
    "\n",
    "    result = process_text_data(text_data, positions)\n",
    "    # Continue with the rest of your code\n",
    "    df = pd.DataFrame(result, columns=[\n",
    "        'PO_NUM', 'FACILITY', 'ORDER_DATE', 'VENDOR_NUM', 'DUE_DATE',\n",
    "        'PERISH_PO', 'PO_TYPE', 'BIC_BUYER_ID', 'PO_RECEIVED', 'PULLBACK_FLAG',\n",
    "        'PO_OSS_DEST', 'SECONDARY_PO', 'RECON_ORIGIN', 'FILLER'\n",
    "    ])\n",
    "    # Rest of the code...\n",
    "except FileNotFoundError as e:\n",
    "    print(f\"File not found. Exception: {e}\")\n",
    "except Exception as e:\n",
    "    print(f\"An unexpected error occurred: {e}\")\n"
   ]
  },
  {
   "cell_type": "code",
   "execution_count": 4,
   "id": "1b5c0427",
   "metadata": {},
   "outputs": [
    {
     "ename": "NameError",
     "evalue": "name 'data_tuples' is not defined",
     "output_type": "error",
     "traceback": [
      "\u001b[1;31m---------------------------------------------------------------------------\u001b[0m",
      "\u001b[1;31mNameError\u001b[0m                                 Traceback (most recent call last)",
      "\u001b[1;32m<ipython-input-4-6f45378fe19d>\u001b[0m in \u001b[0;36m<module>\u001b[1;34m\u001b[0m\n\u001b[1;32m----> 1\u001b[1;33m \u001b[0mdata_tuples\u001b[0m\u001b[1;33m\u001b[0m\u001b[1;33m\u001b[0m\u001b[0m\n\u001b[0m\u001b[0;32m      2\u001b[0m \u001b[0mdf\u001b[0m \u001b[1;33m=\u001b[0m \u001b[0mdf\u001b[0m\u001b[1;33m[\u001b[0m\u001b[1;33m[\u001b[0m\u001b[1;34m'PO_NUM'\u001b[0m\u001b[1;33m,\u001b[0m\u001b[1;34m'FACILITY'\u001b[0m\u001b[1;33m]\u001b[0m\u001b[1;33m]\u001b[0m\u001b[1;33m.\u001b[0m\u001b[0miloc\u001b[0m\u001b[1;33m[\u001b[0m\u001b[1;36m5\u001b[0m\u001b[1;33m]\u001b[0m\u001b[1;33m\u001b[0m\u001b[1;33m\u001b[0m\u001b[0m\n\u001b[0;32m      3\u001b[0m \u001b[0mdf\u001b[0m \u001b[1;33m=\u001b[0m \u001b[0mpd\u001b[0m\u001b[1;33m.\u001b[0m\u001b[0mDataFrame\u001b[0m\u001b[1;33m(\u001b[0m\u001b[0mdf\u001b[0m\u001b[1;33m)\u001b[0m\u001b[1;33m\u001b[0m\u001b[1;33m\u001b[0m\u001b[0m\n\u001b[0;32m      4\u001b[0m \u001b[0mdf\u001b[0m\u001b[1;33m\u001b[0m\u001b[1;33m\u001b[0m\u001b[0m\n",
      "\u001b[1;31mNameError\u001b[0m: name 'data_tuples' is not defined"
     ]
    }
   ],
   "source": [
    "\n",
    "data_tuples\n",
    "df = df[['PO_NUM','FACILITY']].iloc[5]\n",
    "df = pd.DataFrame(df)\n",
    "df"
   ]
  },
  {
   "cell_type": "code",
   "execution_count": 13,
   "id": "0c65ecb2",
   "metadata": {
    "scrolled": true
   },
   "outputs": [
    {
     "ename": "KeyboardInterrupt",
     "evalue": "",
     "output_type": "error",
     "traceback": [
      "\u001b[1;31m---------------------------------------------------------------------------\u001b[0m",
      "\u001b[1;31mKeyboardInterrupt\u001b[0m                         Traceback (most recent call last)",
      "\u001b[1;32m<ipython-input-13-d1034a1f4eb1>\u001b[0m in \u001b[0;36m<module>\u001b[1;34m\u001b[0m\n\u001b[0;32m      1\u001b[0m \u001b[1;32mtry\u001b[0m\u001b[1;33m:\u001b[0m\u001b[1;33m\u001b[0m\u001b[1;33m\u001b[0m\u001b[0m\n\u001b[0;32m      2\u001b[0m     \u001b[1;31m# Execute the INSERT statement with the data\u001b[0m\u001b[1;33m\u001b[0m\u001b[1;33m\u001b[0m\u001b[1;33m\u001b[0m\u001b[0m\n\u001b[1;32m----> 3\u001b[1;33m     \u001b[0mpost_cur\u001b[0m\u001b[1;33m.\u001b[0m\u001b[0mexecutemany\u001b[0m\u001b[1;33m(\u001b[0m\u001b[0minsert_query\u001b[0m\u001b[1;33m,\u001b[0m \u001b[0mdata_tuples\u001b[0m\u001b[1;33m)\u001b[0m\u001b[1;33m\u001b[0m\u001b[1;33m\u001b[0m\u001b[0m\n\u001b[0m\u001b[0;32m      4\u001b[0m     \u001b[0mcount\u001b[0m \u001b[1;33m=\u001b[0m \u001b[0mpost_cur\u001b[0m\u001b[1;33m.\u001b[0m\u001b[0mrowcount\u001b[0m\u001b[1;33m\u001b[0m\u001b[1;33m\u001b[0m\u001b[0m\n\u001b[0;32m      5\u001b[0m     \u001b[0mprint\u001b[0m\u001b[1;33m(\u001b[0m\u001b[1;34mf'INSERTED {count} EXCEL RECORDS TO {table_name} TABLE'\u001b[0m\u001b[1;33m)\u001b[0m\u001b[1;33m\u001b[0m\u001b[1;33m\u001b[0m\u001b[0m\n",
      "\u001b[1;32m~\\anaconda3\\lib\\encodings\\utf_8.py\u001b[0m in \u001b[0;36mdecode\u001b[1;34m(input, errors)\u001b[0m\n\u001b[0;32m     13\u001b[0m \u001b[0mencode\u001b[0m \u001b[1;33m=\u001b[0m \u001b[0mcodecs\u001b[0m\u001b[1;33m.\u001b[0m\u001b[0mutf_8_encode\u001b[0m\u001b[1;33m\u001b[0m\u001b[1;33m\u001b[0m\u001b[0m\n\u001b[0;32m     14\u001b[0m \u001b[1;33m\u001b[0m\u001b[0m\n\u001b[1;32m---> 15\u001b[1;33m \u001b[1;32mdef\u001b[0m \u001b[0mdecode\u001b[0m\u001b[1;33m(\u001b[0m\u001b[0minput\u001b[0m\u001b[1;33m,\u001b[0m \u001b[0merrors\u001b[0m\u001b[1;33m=\u001b[0m\u001b[1;34m'strict'\u001b[0m\u001b[1;33m)\u001b[0m\u001b[1;33m:\u001b[0m\u001b[1;33m\u001b[0m\u001b[1;33m\u001b[0m\u001b[0m\n\u001b[0m\u001b[0;32m     16\u001b[0m     \u001b[1;32mreturn\u001b[0m \u001b[0mcodecs\u001b[0m\u001b[1;33m.\u001b[0m\u001b[0mutf_8_decode\u001b[0m\u001b[1;33m(\u001b[0m\u001b[0minput\u001b[0m\u001b[1;33m,\u001b[0m \u001b[0merrors\u001b[0m\u001b[1;33m,\u001b[0m \u001b[1;32mTrue\u001b[0m\u001b[1;33m)\u001b[0m\u001b[1;33m\u001b[0m\u001b[1;33m\u001b[0m\u001b[0m\n\u001b[0;32m     17\u001b[0m \u001b[1;33m\u001b[0m\u001b[0m\n",
      "\u001b[1;31mKeyboardInterrupt\u001b[0m: "
     ]
    }
   ],
   "source": [
    "try:\n",
    "    # Execute the INSERT statement with the data\n",
    "    post_cur.executemany(insert_query, data_tuples)\n",
    "    count = post_cur.rowcount\n",
    "    print(f'INSERTED {count} EXCEL RECORDS TO {table_name} TABLE')\n",
    "\n",
    "except Exception as e:\n",
    "    # Print a general error message\n",
    "    print(f'Error inserting data into the database. Exception: {e}')\n",
    "\n",
    "    # Iterate over the data tuples to find the problematic row\n",
    "    for index, row in enumerate(data_tuples):\n",
    "        try:\n",
    "            # Attempt to execute the INSERT statement for the current row\n",
    "            post_cur.execute(insert_query, row)\n",
    "        except Exception as inner_e:\n",
    "            # Print the specific error for the current row\n",
    "            print(f'Error inserting data for row {index + 1}. Exception: {inner_e}')\n"
   ]
  },
  {
   "cell_type": "code",
   "execution_count": 25,
   "id": "5424bed1",
   "metadata": {},
   "outputs": [
    {
     "name": "stdout",
     "output_type": "stream",
     "text": [
      "   PO_NUM FACILITY ORDER_DATE VENDOR_NUM DUE_DATE PERISH_PO PO_TYPE  \\\n",
      "0  815966      904     220801     137693   230228         N           \n",
      "1  245345      252     221010       4282   230316         N           \n",
      "2  251735      905     221012     101046   230308         N           \n",
      "3  255347      252     221014       3780   230303         N           \n",
      "4  258466      252     221017       3067   230302         N           \n",
      "\n",
      "  BIC_BUYER_ID PO_RECEIVED PULLBACK_FLAG  ... SECONDARY_PO RECON_ORIGIN  \\\n",
      "0           JZ                         N  ...     94187636            O   \n",
      "1           IH                         N  ...     20076575            O   \n",
      "2           KB                         N  ...     94192285            O   \n",
      "3           IH                         N  ...     20076823            O   \n",
      "4           IH                         N  ...     20076907            O   \n",
      "\n",
      "  FILLER    file_name created_by        creation_date last_updated_by  \\\n",
      "0         OracleIN600     CSPOMS  2024-03-11 05:51:53          CSPOMS   \n",
      "1         OracleIN600     CSPOMS  2024-03-11 05:51:53          CSPOMS   \n",
      "2         OracleIN600     CSPOMS  2024-03-11 05:51:53          CSPOMS   \n",
      "3         OracleIN600     CSPOMS  2024-03-11 05:51:53          CSPOMS   \n",
      "4         OracleIN600     CSPOMS  2024-03-11 05:51:53          CSPOMS   \n",
      "\n",
      "      last_update_date request_id  process_status  \n",
      "0  2024-03-11 05:51:53        111               N  \n",
      "1  2024-03-11 05:51:53        111               N  \n",
      "2  2024-03-11 05:51:53        111               N  \n",
      "3  2024-03-11 05:51:53        111               N  \n",
      "4  2024-03-11 05:51:53        111               N  \n",
      "\n",
      "[5 rows x 21 columns]\n",
      "INSERTED 5 EXCEL RECORDS TO cspoms.XXPO_PO_RECON_INBOUND_STG TABLE\n"
     ]
    }
   ],
   "source": [
    "# Replace empty strings with None\n",
    "df.replace('', None, inplace=True)\n",
    "print(df)\n",
    "# Convert the DataFrame to a list of tuples for bulk insertion\n",
    "data_tuples = [tuple(row) for row in df.itertuples(index=False, name=None)]\n",
    "# Execute the INSERT statement with the data\n",
    "post_cur.executemany(insert_query, data_tuples)\n",
    "post_conn.commit()\n",
    "count = post_cur.rowcount\n",
    "print(f'INSERTED {count} EXCEL RECORDS TO {table_name} TABLE')"
   ]
  },
  {
   "cell_type": "code",
   "execution_count": 1,
   "id": "a6639e95",
   "metadata": {
    "scrolled": true
   },
   "outputs": [
    {
     "name": "stdout",
     "output_type": "stream",
     "text": [
      "Requirement already satisfied: reportlab in c:\\users\\user\\anaconda3\\lib\\site-packages (4.1.0)\n",
      "Requirement already satisfied: pillow>=9.0.0 in c:\\users\\user\\anaconda3\\lib\\site-packages (from reportlab) (10.2.0)\n",
      "Requirement already satisfied: chardet in c:\\users\\user\\anaconda3\\lib\\site-packages (from reportlab) (4.0.0)\n",
      "Note: you may need to restart the kernel to use updated packages.\n"
     ]
    },
    {
     "name": "stderr",
     "output_type": "stream",
     "text": [
      "DEPRECATION: pyodbc 4.0.0-unsupported has a non-standard version number. pip 24.0 will enforce this behaviour change. A possible replacement is to upgrade to a newer version of pyodbc or contact the author to suggest that they release a version with a conforming version number. Discussion can be found at https://github.com/pypa/pip/issues/12063\n",
      "WARNING: There was an error checking the latest version of pip.\n"
     ]
    }
   ],
   "source": [
    "pip install reportlab\n"
   ]
  },
  {
   "cell_type": "code",
   "execution_count": 9,
   "id": "d2fb7e16",
   "metadata": {},
   "outputs": [
    {
     "name": "stdout",
     "output_type": "stream",
     "text": [
      "PDF report generated successfully.\n"
     ]
    }
   ],
   "source": [
    "from reportlab.lib.pagesizes import letter\n",
    "from reportlab.platypus import SimpleDocTemplate, Table, TableStyle\n",
    "from reportlab.lib import colors\n",
    "\n",
    "# Function to create a PDF report for error records\n",
    "def create_pdf_error_report(data, filename):\n",
    "    doc = SimpleDocTemplate(filename, pagesize=letter)\n",
    "    elements = []\n",
    "\n",
    "    # Define table data\n",
    "    table_data = [\n",
    "        [\"ORDER\", \"SECONDARY\", \"ORIGIN\", \"DST\", \"TP\", \"ORDERED\", \"ARRIVAL\", \"APPT\", \"BYR\", \"MESSAGE\"]\n",
    "    ]\n",
    "    for row in data:\n",
    "        if \"ERROR\" in row[9]:\n",
    "            table_data.append(row[:9] + [row[9]])\n",
    "\n",
    "    # Create table\n",
    "    table = Table(table_data)\n",
    "\n",
    "    # Add style to table\n",
    "    style = TableStyle([('BACKGROUND', (0, 0), (-1, 0), colors.gray),\n",
    "                        ('TEXTCOLOR', (0, 0), (-1, 0), colors.whitesmoke),\n",
    "                        ('ALIGN', (0, 0), (-1, -1), 'CENTER'),\n",
    "                        ('FONTNAME', (0, 0), (-1, 0), 'Helvetica-Bold'),\n",
    "                        ('BOTTOMPADDING', (0, 0), (-1, 0), 12),\n",
    "                        ('BACKGROUND', (0, 1), (-1, -1), colors.beige),\n",
    "                        ('GRID', (0, 0), (-1, -1), 1, colors.black)])\n",
    "\n",
    "    table.setStyle(style)\n",
    "    elements.append(table)\n",
    "\n",
    "    # Build PDF\n",
    "    doc.build(elements)\n",
    "\n",
    "# Generate the error report\n",
    "data_tuples = [\n",
    "    ('815966', '904', '220801', '137693', '230228', 'N', '', 'JZ', '', 'N', '', '94187636', 'O', '', 'OracleIN600', 'CSPOMS', '2024-04-02 08:16:41', 'CSPOMS', '2024-04-02 08:16:41', 111, 'N'), \n",
    "    ('245345', '252', '221010', '4282', '230316', 'N', '', 'IH', '', 'N', '', '20076575', 'O', '', 'OracleIN600', 'CSPOMS', '2024-04-02 08:16:41', 'CSPOMS', '2024-04-02 08:16:41', 111, 'N'), \n",
    "    ('251735', '905', '221012', '101046', '230308', 'N', '', 'KB', '', 'N', '', '94192285', 'O', '', 'OracleIN600', 'CSPOMS', '2024-04-02 08:16:41', 'CSPOMS', '2024-04-02 08:16:41', 111, 'N'), \n",
    "    ('255347', '252', '221014', '3780', '230303', 'N', '', 'IH', '', 'N', '', '20076823', 'O', '', 'OracleIN600', 'CSPOMS', '2024-04-02 08:16:41', 'CSPOMS', '2024-04-02 08:16:41', 111, 'N'), \n",
    "    ('258466', '252', '221017', '3067', '230302', 'N', '', 'IH', '', 'N', '', '20076907', 'O', '', 'OracleIN600', 'CSPOMS', '2024-04-02 08:16:41', 'CSPOMS', '2024-04-02 08:16:41', 111, 'N')\n",
    "]\n",
    "\n",
    "# Create PDF report\n",
    "create_pdf_error_report(data_tuples, \"error_report.pdf\")\n",
    "print(\"PDF report generated successfully.\")\n"
   ]
  }
 ],
 "metadata": {
  "kernelspec": {
   "display_name": "Python 3",
   "language": "python",
   "name": "python3"
  },
  "language_info": {
   "codemirror_mode": {
    "name": "ipython",
    "version": 3
   },
   "file_extension": ".py",
   "mimetype": "text/x-python",
   "name": "python",
   "nbconvert_exporter": "python",
   "pygments_lexer": "ipython3",
   "version": "3.8.8"
  }
 },
 "nbformat": 4,
 "nbformat_minor": 5
}
