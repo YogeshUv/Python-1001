{
 "cells": [
  {
   "cell_type": "code",
   "execution_count": 2,
   "id": "cb35754d",
   "metadata": {
    "scrolled": true
   },
   "outputs": [
    {
     "name": "stdout",
     "output_type": "stream",
     "text": [
      "   VENDOR_FOODLINK_FLG VENDOR_FREIGHT_FLG  VENDOR_HOME_LOC_DEST VENDOR_TYPE\n",
      "0                    1                  N                    20           A\n",
      "1                    2                  Y                    21           B\n",
      "3                    1                  N                    21           D\n",
      "4                    0                  Y                    23           E\n"
     ]
    },
    {
     "data": {
      "text/html": [
       "<div>\n",
       "<style scoped>\n",
       "    .dataframe tbody tr th:only-of-type {\n",
       "        vertical-align: middle;\n",
       "    }\n",
       "\n",
       "    .dataframe tbody tr th {\n",
       "        vertical-align: top;\n",
       "    }\n",
       "\n",
       "    .dataframe thead th {\n",
       "        text-align: right;\n",
       "    }\n",
       "</style>\n",
       "<table border=\"1\" class=\"dataframe\">\n",
       "  <thead>\n",
       "    <tr style=\"text-align: right;\">\n",
       "      <th></th>\n",
       "      <th>VENDOR_FOODLINK_FLG</th>\n",
       "      <th>VENDOR_FREIGHT_FLG</th>\n",
       "      <th>VENDOR_HOME_LOC_DEST</th>\n",
       "      <th>VENDOR_TYPE</th>\n",
       "    </tr>\n",
       "  </thead>\n",
       "  <tbody>\n",
       "    <tr>\n",
       "      <th>0</th>\n",
       "      <td>1</td>\n",
       "      <td>N</td>\n",
       "      <td>20</td>\n",
       "      <td>A</td>\n",
       "    </tr>\n",
       "    <tr>\n",
       "      <th>1</th>\n",
       "      <td>2</td>\n",
       "      <td>Y</td>\n",
       "      <td>21</td>\n",
       "      <td>B</td>\n",
       "    </tr>\n",
       "    <tr>\n",
       "      <th>2</th>\n",
       "      <td>3</td>\n",
       "      <td>N</td>\n",
       "      <td>22</td>\n",
       "      <td>C</td>\n",
       "    </tr>\n",
       "    <tr>\n",
       "      <th>3</th>\n",
       "      <td>1</td>\n",
       "      <td>N</td>\n",
       "      <td>21</td>\n",
       "      <td>D</td>\n",
       "    </tr>\n",
       "    <tr>\n",
       "      <th>4</th>\n",
       "      <td>0</td>\n",
       "      <td>Y</td>\n",
       "      <td>23</td>\n",
       "      <td>E</td>\n",
       "    </tr>\n",
       "  </tbody>\n",
       "</table>\n",
       "</div>"
      ],
      "text/plain": [
       "   VENDOR_FOODLINK_FLG VENDOR_FREIGHT_FLG  VENDOR_HOME_LOC_DEST VENDOR_TYPE\n",
       "0                    1                  N                    20           A\n",
       "1                    2                  Y                    21           B\n",
       "2                    3                  N                    22           C\n",
       "3                    1                  N                    21           D\n",
       "4                    0                  Y                    23           E"
      ]
     },
     "execution_count": 2,
     "metadata": {},
     "output_type": "execute_result"
    }
   ],
   "source": [
    "\n",
    "\n",
    "# Condition 1: VENDOR_FOODLINK_FLG is 1 or 2\n",
    "condition1 = (merged_df['VENDOR_FOODLINK_FLG'] == 1) | (merged_df['VENDOR_FOODLINK_FLG'] == 2)\n",
    "\n",
    "# Condition 2: VENDOR_FREIGHT_FLG is 'Y'\n",
    "condition2 = merged_df['VENDOR_FREIGHT_FLG'] == 'Y'\n",
    "\n",
    "# Condition 3: VENDOR_HOME_LOC_DEST is 21\n",
    "condition3 = merged_df['VENDOR_HOME_LOC_DEST'] == 21\n",
    "\n",
    "# Combine the conditions using OR (|) as per your logic\n",
    "final_condition = condition1 | condition2 | condition3\n",
    "\n",
    "# Apply the final condition to filter the rows\n",
    "filtered_rows = merged_df[final_condition].copy()\n",
    "\n",
    "# Display the filtered rows\n",
    "print(filtered_rows)\n",
    "\n",
    "# Now you can create input_df from filtered_rows and pass it to your function\n",
    "input_df = filtered_rows.copy()\n",
    "merged_df"
   ]
  },
  {
   "cell_type": "code",
   "execution_count": 20,
   "id": "562b9e9f",
   "metadata": {},
   "outputs": [
    {
     "name": "stdout",
     "output_type": "stream",
     "text": [
      "  FOOD_LINK_FLAG VENDOR_FREIGHT_FLG  VENDOR_FACILITY\n",
      "0              1                  Y               21\n",
      "2              1                  Y               23\n"
     ]
    }
   ],
   "source": [
    "import pandas as pd\n",
    "\n",
    "# Example DataFrame\n",
    "data = {\n",
    "    'FOOD_LINK_FLAG': ['1', 2, 1],\n",
    "    'VENDOR_FREIGHT_FLG': ['Y'\n",
    "                           , 'N', 'Y'],\n",
    "    'VENDOR_FACILITY': [21, 22, 23]\n",
    "}\n",
    "\n",
    "merged_df = pd.DataFrame(data)\n",
    "\n",
    "# Condition 1: FOOD_LINK_FLAG is '1' or '2'\n",
    "condition1 = merged_df['FOOD_LINK_FLAG'].isin(['1', '2'])\n",
    "\n",
    "# Condition 2: VENDOR_FREIGHT_FLG is 'Y'\n",
    "condition2 = merged_df['VENDOR_FREIGHT_FLG'] == 'Y'\n",
    "\n",
    "# Condition 3: VENDOR_HOME_LOC_DEST is '21'\n",
    "condition3 = merged_df['VENDOR_FACILITY'].astype(str) == '21'\n",
    "\n",
    "# Apply conditions to filter the DataFrame\n",
    "filtered_df = merged_df[condition1 | condition2 | condition3]\n",
    "\n",
    "# Display the filtered DataFrame\n",
    "print(filtered_df)\n"
   ]
  },
  {
   "cell_type": "code",
   "execution_count": null,
   "id": "8d8b3069",
   "metadata": {},
   "outputs": [],
   "source": []
  }
 ],
 "metadata": {
  "kernelspec": {
   "display_name": "Python 3",
   "language": "python",
   "name": "python3"
  },
  "language_info": {
   "codemirror_mode": {
    "name": "ipython",
    "version": 3
   },
   "file_extension": ".py",
   "mimetype": "text/x-python",
   "name": "python",
   "nbconvert_exporter": "python",
   "pygments_lexer": "ipython3",
   "version": "3.8.8"
  }
 },
 "nbformat": 4,
 "nbformat_minor": 5
}
