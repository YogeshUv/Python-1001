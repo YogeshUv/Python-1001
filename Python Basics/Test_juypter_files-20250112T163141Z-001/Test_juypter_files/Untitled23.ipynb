{
 "cells": [
  {
   "cell_type": "code",
   "execution_count": 53,
   "id": "ddd9197b",
   "metadata": {},
   "outputs": [
    {
     "ename": "DatabaseError",
     "evalue": "ORA-28547: connection to server failed, probable Oracle Net admin error",
     "output_type": "error",
     "traceback": [
      "\u001b[1;31m---------------------------------------------------------------------------\u001b[0m",
      "\u001b[1;31mDatabaseError\u001b[0m                             Traceback (most recent call last)",
      "\u001b[1;32m<ipython-input-53-4148a911578f>\u001b[0m in \u001b[0;36m<module>\u001b[1;34m\u001b[0m\n\u001b[0;32m      5\u001b[0m \u001b[1;33m\u001b[0m\u001b[0m\n\u001b[0;32m      6\u001b[0m \u001b[1;33m\u001b[0m\u001b[0m\n\u001b[1;32m----> 7\u001b[1;33m source_conn = cx_Oracle.connect(\n\u001b[0m\u001b[0;32m      8\u001b[0m     \u001b[0muser\u001b[0m\u001b[1;33m=\u001b[0m\u001b[1;34m\"apps\"\u001b[0m\u001b[1;33m,\u001b[0m\u001b[1;33m\u001b[0m\u001b[1;33m\u001b[0m\u001b[0m\n\u001b[0;32m      9\u001b[0m     \u001b[0mpassword\u001b[0m\u001b[1;33m=\u001b[0m\u001b[1;34m\"apps\"\u001b[0m\u001b[1;33m,\u001b[0m\u001b[1;33m\u001b[0m\u001b[1;33m\u001b[0m\u001b[0m\n",
      "\u001b[1;31mDatabaseError\u001b[0m: ORA-28547: connection to server failed, probable Oracle Net admin error"
     ]
    }
   ],
   "source": [
    "import pandas as pd\n",
    "import numpy as np\n",
    "import cx_Oracle\n",
    "\n",
    "\n",
    "    \n",
    "source_conn = cx_Oracle.connect(\n",
    "    user=\"apps\",\n",
    "    password=\"apps\",\n",
    "    dsn=\"csebsd2db.cswg.com:1521/csebsd2_int\"\n",
    ")\n",
    "source_cursor = source_conn.cursor()\n",
    "\n",
    "with open('CM_full_cursor.sql', 'r') as file:\n",
    "    curr_gtt_query = file.read()\n",
    "\n",
    "cur_gttdf = pd.read_sql_query(curr_gtt_query, source_conn)\n"
   ]
  },
  {
   "cell_type": "code",
   "execution_count": 44,
   "id": "33bc5fd6",
   "metadata": {},
   "outputs": [
    {
     "name": "stdout",
     "output_type": "stream",
     "text": [
      "Request ID: 20231113194955974001\n"
     ]
    }
   ],
   "source": [
    "# Example usage\n",
    "id_generator = RequestIDGenerator()\n",
    "\n",
    "\n",
    "request_id = id_generator.generate_request_id()\n",
    "print(\"Request ID:\", request_id)"
   ]
  },
  {
   "cell_type": "code",
   "execution_count": 20,
   "id": "70e65944",
   "metadata": {},
   "outputs": [
    {
     "name": "stdout",
     "output_type": "stream",
     "text": [
      "  PARTY_SITE_ID STORE_NBR                 STORE_NAME STORE_STATUS  \\\n",
      "0         25275     20054  BLACKIE'S FARM FRESH PROD       Active   \n",
      "1        376902     25317         FAIRWAY E-COMMERCE       Active   \n",
      "2        376998     25401     IMPERIAL BAGS PAPER CO       Active   \n",
      "3        376999     25403     N & P FOOD SERVICES IN       Active   \n",
      "4        377000     25415     PLAINFIELD TOB & CANDY       Active   \n",
      "\n",
      "  STORE_BILL_TO_FLAG STORE_SHIP_TO_FLAG ACCT_ID ACCT_NBR  \\\n",
      "0                  Y                  Y    6638    20054   \n",
      "1                  N                  Y  269082       79   \n",
      "2                  Y                  Y  248132    25401   \n",
      "3                  Y                  Y  278045    25403   \n",
      "4                  Y                  Y  278057    25415   \n",
      "\n",
      "                   ACCT_NAME ACCT_STATUS  ... GS_SUPER_SERVE GS_NABISCO  \\\n",
      "0  BLACKIE'S FARM FRESH PROD           A  ...                             \n",
      "1                    FAIRWAY           A  ...                             \n",
      "2     IMPERIAL BAGS PAPER CO           A  ...                             \n",
      "3     N & P FOOD SERVICES IN           A  ...                             \n",
      "4     PLAINFIELD TOB & CANDY           A  ...                             \n",
      "\n",
      "  GS_WILL_CALL SWELL HQ_FLAG GS_PRIMARY_SHIP_FLAG GS_FUEL_ZONE  \\\n",
      "0                                                                \n",
      "1                                                                \n",
      "2                                                                \n",
      "3                                                                \n",
      "4                                                                \n",
      "\n",
      "  GS_FUEL_ZONE_DESC GS_AD_GROUP_DESC GS_PRICING_ZONE_DESC  \n",
      "0                                                          \n",
      "1                                                          \n",
      "2                                                          \n",
      "3                                                          \n",
      "4                                                          \n",
      "\n",
      "[5 rows x 316 columns]\n"
     ]
    }
   ],
   "source": [
    "cur_gttdf.replace({np.nan: None}, inplace=True)\n",
    "cur_gttdf.fillna('', inplace=True)\n",
    "cur_gtt = cur_gttdf.astype(str)\n",
    "cur_gtt = cur_gtt.head(5)\n",
    "print(cur_gtt)"
   ]
  },
  {
   "cell_type": "code",
   "execution_count": 52,
   "id": "d7397c6c",
   "metadata": {},
   "outputs": [
    {
     "name": "stdout",
     "output_type": "stream",
     "text": [
      "  STORE_NBR                 STORE_NAME STORE_STATUS STORE_BILL_TO_FLAG  \\\n",
      "0     20054  BLACKIE'S FARM FRESH PROD       Active                  Y   \n",
      "1     25317         FAIRWAY E-COMMERCE       Active                  N   \n",
      "2     25401     IMPERIAL BAGS PAPER CO       Active                  Y   \n",
      "3     25403     N & P FOOD SERVICES IN       Active                  Y   \n",
      "4     25415     PLAINFIELD TOB & CANDY       Active                  Y   \n",
      "\n",
      "  STORE_SHIP_TO_FLAG ACCT_ID ACCT_NBR                  ACCT_NAME ACCT_STATUS  \\\n",
      "0                  Y    6638    20054  BLACKIE'S FARM FRESH PROD           A   \n",
      "1                  Y  269082       79                    FAIRWAY           A   \n",
      "2                  Y  248132    25401     IMPERIAL BAGS PAPER CO           A   \n",
      "3                  Y  278045    25403     N & P FOOD SERVICES IN           A   \n",
      "4                  Y  278057    25415     PLAINFIELD TOB & CANDY           A   \n",
      "\n",
      "  ACCT_CUST_CLASS_CODE  ... GS_NABISCO GS_WILL_CALL SWELL HQ_FLAG  \\\n",
      "0         Independents  ...                                         \n",
      "1                Chain  ...                                         \n",
      "2         Independents  ...                                         \n",
      "3         Independents  ...                                         \n",
      "4         Independents  ...                                         \n",
      "\n",
      "  GS_PRIMARY_SHIP_FLAG GS_FUEL_ZONE GS_FUEL_ZONE_DESC GS_AD_GROUP_DESC  \\\n",
      "0                                                                        \n",
      "1                                                                        \n",
      "2                                                                        \n",
      "3                                                                        \n",
      "4                                                                        \n",
      "\n",
      "  GS_PRICING_ZONE_DESC PARTY_SITE_ID  \n",
      "0                              25275  \n",
      "1                             376902  \n",
      "2                             376998  \n",
      "3                             376999  \n",
      "4                             377000  \n",
      "\n",
      "[5 rows x 316 columns]\n",
      "[('20054', \"BLACKIE'S FARM FRESH PROD\", 'Active', 'Y', 'Y', '6638', '20054', \"BLACKIE'S FARM FRESH PROD\", 'A', 'Independents', '1997-04-17 00:00:00', '98.0', 'EAST COAST INDEPENDENTS', 'IND', '', '1', '0', '9999', '0', '0', '0', '1', '100.0', '1', '', '', '1106', 'WHOLESALE PRODUCE', '98001', 'INDEPENDENTS STORE GRP', '0.0', '2013-10-20 14:47:07', '', '2020-08-09 22:50:41', '9962', '966 MINOT AVE.', '', '', '', 'AUBURN', '042100000', 'ME', '', 'ANDROSCOGGIN', 'US', '207-786-0005', 'HQ', '12839.0', '20 NET SAT', '20 Days Net from Saturday Billing Date', '2005-01-01 00:00:00', '', 'Default Collector', '', '000000000000000', '20054', 'ZR617', 'N', '', '0.0', '0.0', '', 'RICH THERRIEN', '20054', \"BLACKIE'S FARM FRESH PROD\", 'CONTACT  ', '207-786-0005', 'jeannecarpenter19@gmail.com', '1106', '', 'N', '', '', '', '', '', '', '', '', '', '2017/02/03 00:00:00', 'EAST COAST INDEPENDENTS', 'INDEPENDENTS / OWNER GROUPS', 'CS MAINFRAME', '', '', '', 'RICH THERRIEN', '', '', '', '', '', '', '', '', '', '', 'Y', '', '', '', '', '', '', '', '', '', '', '', '', '', '', '', '', '', '', '', '', '', '', '', '', '', 'N/A', '', '', '', '', '', '', '', '', '', '', '', '', '', '', '', '', '', '', '', '', '', '', '', '', '', '', '', '', '', '', '', '', '', '', '', '', '', '', '', '', '', '', '', '', '', '', '', '', '', '', '', '', '', '', '', '', '', '', '', '', '', '', '', '', '', '', '', '', '', '', '', '', '', '', '', '', '', '', '', '', '', '', '', '', '', '', '', '', '', '', '', '', '', '', '', '', '', '', '', '', '', '', '', '', '', '', '', '20054', '', '12901.0', '12902.0', '', '', '', '', '', '', '', '', '', '', 'N', '', '', '', '', '', '', '', '', '', '', '', '', '', '', '', '', '', '', '', '', '', '', '', '3201', '', '', '', '', '', '', '', '', '', '', '', '', '', '', '', '', '', '', '', '', '', '', '', '', '2077822353', '', '16000.0', '', '', '', '', '', '', '', '', '', '', '', '', '', '', '', '', '', '25275'), ('25317', 'FAIRWAY E-COMMERCE', 'Active', 'N', 'Y', '269082', '79', 'FAIRWAY', 'A', 'Chain', '2015-03-23 00:00:00', '79.0', 'FAIRWAY', 'FRW', '', '', '', '', '', '', '', '', '100.0', '25300', '', '', '1052', 'FAIRWAY', '79001', 'FAIRWAY', '25301.0', '2015-03-23 14:24:59', '', '2020-02-24 11:14:57', '51209', '2350 12TH AVENUE', '', '', '', 'NEW YORK', '10027', 'NY', '', '', 'US', '111-111-1111', '50032', '', '', '', '', '', '', '', '25317', '25317', 'ZR617', '', '', '', '317.0', '', 'ANDY RUSSEM', '25300', 'FAIRWAY STORES HQ', '', '111-111-1111', '', '1052', 'WR', 'Y', '12', '3', '365', '', '', '', '', '', '', '2017/02/03 00:00:00', 'FAIRWAY', 'WR - FAIRWAY', 'CS MAINFRAME', '', '', '', 'ANDY RUSSEM', 'TIER1', '', '', '', '', '', '', '', '', '', 'Y', '', '', '', '', '', '', '', '', '', '', '', '', '', '', '', '', '', '', '', '', '', '', '', '', '', 'N/A', '', '', '', '', '', '', '', '', '', '', '', '', '', '', '', '', '', '', '', '', '', '', '', '', '', '', '', '', '', '', '', '', '', '', '', '', '', '', '', '', '', '', '', '', '', '', '', '', '', '', '', '', '', '', '', '', '', '', '', '', '', '', '', '', '', '', '', '', '', '', '', '', '', '', '', '', '', '', '', '', '', '', '', '', '', '', '', '', '', '', '', '', '', '', '', '', '', '', '', '', '', '', '', '', '', '', '', '25317', '', '', '38104.0', '', '', '', '', '', '', '', '', '', '', 'N', '', '', '', '', '', '', '', '', '', '', '', '', '', '', '', '', '', '', '', '', '', '', '', '', '', '', '', '', '', '', '', '', '', '', '', '', '', '', '', '', '', '', '', '', '', '', '', '', '', '', '', '', '', '', '', '', '', '', '', '', '', '', '', '', '', '', '', '', '376902'), ('25401', 'IMPERIAL BAGS PAPER CO', 'Active', 'Y', 'Y', '248132', '25401', 'IMPERIAL BAGS PAPER CO', 'A', 'Independents', '2015-03-27 00:00:00', '82.0', 'METRO WHOLESALE', 'MEW', '', '', '', '', '', '', '', '', '100.0', '25400', '', '', '1054', 'METRO WHS', '82001', 'HERITAGE WHLSLE', '25449.0', '2015-03-27 18:07:48', '', '2020-07-06 13:48:21', '51493', '255 ROUTE 1 & 9', '', '', '', 'JERSEY CITY', '07305', 'NJ', '', '', 'US', '201-437-7440', '10287', '283168.0', '13 NET SAT', '13 Days Net from Saturday Billing Date', '2005-01-01 00:00:00', '', 'Marli Baker', '', '25401', '25401', 'ZR717', '', '', '', '401.0', '', '', '25401', 'IMPERIAL BAGS PAPER CO', '', '201-437-7440', 'jgiangrande@imperialbag.com', '1054', 'WR', 'Y', '8.25', '3', '365', '', '', '', '', '', '', '2017/02/03 00:00:00', 'EAST COAST INDEPENDENTS', 'WR - INDEPENDENTS', 'CS MAINFRAME', '', '', '', '', '', '', '', '', '', '', '', '', '', '', 'Y', '', '', '', '', '', '', '', '', '', '', '', '', '', '', '', '', '', '', '', '', '', '', '', '', '', 'N/A', '', '', '', '', '', '', '', '', '', '', '', '', '', '', '', '', '', '', '', '', '', '', '', '', '', '', '', '', '', '', '', '', '', '', '', '', '', '', '', '', '', '', '', '', '', '', '', '', '', '', '', '', '', '', '', '', '', '', '', '', '', '', '', '', '', '', '', '', '', '', '', '', '', '', '', '', '', '', '', '', '', '', '', '', '', '', '', '', '', '', '', '', '', '', '', '', '', '', '', '', '', '', '', '', '', '', '', '25401', '', '38380.0', '38381.0', '', '', '', '', '', '', '', '', '', '', 'N', '', '', '', '', '', '', '', '', '', '', '', '', '', '', '', '', '', '', '', '', '', '', '', '', '', '', '', '', '', '', '', '', '', '', '', '', '', '', '', '', '', '', '', '', '', '', '', '', '2014377442', '', '', '', '', '', '', '', '', '', '', '', '', '', '', '', '', '', '', '', '376998'), ('25403', 'N & P FOOD SERVICES IN', 'Active', 'Y', 'Y', '278045', '25403', 'N & P FOOD SERVICES IN', 'A', 'Independents', '2015-03-27 00:00:00', '82.0', 'METRO WHOLESALE', 'MEW', '', '', '', '', '', '', '', '', '100.0', '25400', '', '', '1054', 'METRO WHS', '82001', 'HERITAGE WHLSLE', '25449.0', '2015-03-27 18:07:54', '', '2019-07-29 10:35:26', '51494', 'PO BOX 860414', '', '', '', 'RIDGEWOOD', '11386', 'NY', '', '', 'US', '718-416-1222', '30494', '290049.0', '20 NET SAT', '20 Days Net from Saturday Billing Date', '2005-01-01 00:00:00', '', 'Marli Baker', '', '25403', '25403', 'ZR717', '', '', '', '403.0', '', '', '25403', 'N & P FOOD SERVICES IN', 'PEDRO PERALTA', '718-416-1222', 'nycshop@aol.com', '1054', 'WR', 'N', '8.5', '3', '365', '', '', '', '', '', '', '2017/02/03 00:00:00', 'EAST COAST INDEPENDENTS', 'WR - INDEPENDENTS', 'CS MAINFRAME', '', '', '', '', '', '', '', '', '', '', '', '', '', '', 'Y', '', '', '', '', '', '', '', '', '', '', '', '', '', '', '', '', '', '', '', '', '', '', '', '', '', 'N/A', '', '', '', '', '', '', '', '', '', '', '', '', '', '', '', '', '', '', '', '', '', '', '', '', '', '', '', '', '', '', '', '', '', '', '', '', '', '', '', '', '', '', '', '', '', '', '', '', '', '', '', '', '', '', '', '', '', '', '', '', '', '', '', '', '', '', '', '', '', '', '', '', '', '', '', '', '', '', '', '', '', '', '', '', '', '', '', '', '', '', '', '', '', '', '', '', '', '', '', '', '', '', '', '', '', '', '', '25403', '', '38382.0', '38383.0', '', '', '', '', '', '', '', '', '', '', 'N', '', '', '', '', '', '', '', '', '', '', '', '', '', '', '', '', '', '', '', '', '', '', '', '', '', '', '', '', '', '', '', '', '', '', '', '', '', '', '', '', '', '', '', '', '', '', '', '', '7184160812', '', '', '', '', '', '', '', '', '', '', '', '', '', '', '', '', '', '', '', '376999'), ('25415', 'PLAINFIELD TOB & CANDY', 'Active', 'Y', 'Y', '278057', '25415', 'PLAINFIELD TOB & CANDY', 'A', 'Independents', '2015-03-27 00:00:00', '82.0', 'METRO WHOLESALE', 'MEW', '', '', '', '', '', '', '', '', '100.0', '25400', '', '', '1054', 'METRO WHS', '82001', 'HERITAGE WHLSLE', '25449.0', '2015-03-27 18:08:25', '', '2021-09-16 07:42:57', '51495', '25 VAN DYKE AVE', '', '', '', 'NEW BRUNSWICK', '08901', 'NJ', '', '', 'US', '732-296-8900', '62380', '283130.0', '13 NET SAT', '13 Days Net from Saturday Billing Date', '2005-01-01 00:00:00', '', 'Kevin Cancellieri', '', '25415', '25415', 'ZR617', '', '', '', '415.0', '', 'JOE SMITH', '25415', 'PLAINFIELD TOB & CANDY', '', '732-296-8900', 'ap@resnickdistributors.com', '1054', 'WR', 'Y', '12', '3', '365', '', '', '', '', '', '', '2017/02/03 00:00:00', 'EAST COAST INDEPENDENTS', 'WR - INDEPENDENTS', 'CS MAINFRAME', '', '', '', 'JOE SMITH', '', '', '', '', '', '', '', '', '', '', 'N', '', '', '', '', '', '', '', '', '', '', '', '', '', '', '', '', '', '', '', '', '', '', '', '', '', 'N/A', '', '', '', '', '', '', '', '', '', '', '', '', '', '', '', '', '', '', '', '', '', '', '', '', '', '', '', '', '', '', '', '', '', '', '', '', '', '', '', '', '', '', '', '', '', '', '', '', '', '', '', '', '', '', '', '', '', '', '', '', '', '', '', '', '', '', '', '', '', '', '', '', '', '', '', '', '', '', '', '', '', '', '', '', '', '', '', '', '', '', '', '', '', '', '', '', '', '', '', '', '', '', '', '', '', '', '', '25415', '', '38384.0', '38565.0', '', '', '', '', '', '', '', '', '', '', 'N', '', 'RETAIL', '', '', '', '', '', '', '', '', '', '', '', '', '', '', '', '', '', '', '', '', '', '3215', '', '', '', '', '', '', '', '', '', '', '', '', '', '', '', '', '', '', '', '', '', '', '', '', '7322968919', '', '', '', '', '', '', '', '', '', '', '', '', '', '', '', '', '', '', '', '377000')]\n",
      "\n",
      "UPDATE xxfin.xxar_customer_master a\n",
      "SET a.STORE_NBR = :2, a.STORE_NAME = :3, a.STORE_STATUS = :4, a.STORE_BILL_TO_FLAG = :5, a.STORE_SHIP_TO_FLAG = :6, a.ACCT_ID = TO_NUMBER(:7), a.ACCT_NBR = :8, a.ACCT_NAME = :9, a.ACCT_STATUS = :10, a.ACCT_CUST_CLASS_CODE = :11, a.ACCT_CREATION_DATE = TO_DATE(:12, 'YYYY-MM-DD HH24:MI:SS'), a.CHAIN_NBR = TO_NUMBER(:13), a.CHAIN_NAME = :14, a.CHAIN_SHORT_NAME = :15, a.CHAIN_INACTIVE_DATE = :16, a.START_CUST_NBR = :17, a.STRT_CUST_NBR2 = :18, a.END_CUST_NBR = :19, a.END_CUST_NBR2 = :20, a.PRIVATE_LABEL_OFFSET = :21, a.SUB_AUTH_OFFST = :22, a.AD_START_DAY_OF_WEEK = :23, a.COMPANY_CODE = TO_NUMBER(:24), a.HQ_CUST_NBR = :25, a.DIVISION_NBR = TO_NUMBER(:26), a.DIVISION_NAME = :27, a.EBS_GL_CUST_GROUP_NBR = :28, a.EBS_GL_CUST_GROUP_NAME = :29, a.STORE_GROUP_NBR = :30, a.STORE_GROUP_NAME = :31, a.GROUP_BUY_NBR = TO_NUMBER(:32), a.STORE_CREATION_DATE = TO_DATE(:33, 'YYYY-MM-DD HH24:MI:SS'), a.STORE_INACTIVE_DATE = TO_DATE(:34, 'YYYY-MM-DD HH24:MI:SS'), a.STORE_LAST_UPDATE_DATE = TO_DATE(:35, 'YYYY-MM-DD HH24:MI:SS'), a.LOCATION_ID = TO_NUMBER(:36), a.STORE_ADDRESS1 = :37, a.STORE_ADDRESS2 = :38, a.STORE_ADDRESS3 = :39, a.STORE_ADDRESS4 = :40, a.STORE_CITY = :41, a.STORE_POSTAL_CODE = :42, a.STORE_STATE = :43, a.STORE_PROVINCE = :44, a.STORE_COUNTY = :45, a.STORE_COUNTRY = :46, a.STORE_TELEPHONE_NBR = :47, a.CUST_STORE_NBR = :48, a.CUST_ACCT_PROFILE_ID = TO_NUMBER(:49), a.PAY_TERMS = :50, a.PAY_TERM_DESC = :51, a.PAY_TERM_START_DATE = TO_DATE(:52, 'YYYY-MM-DD HH24:MI:SS'), a.PAY_TERM_END_DATE = TO_DATE(:53, 'YYYY-MM-DD HH24:MI:SS'), a.COLLECTOR_NAME = :54, a.STATEMENT_CYCLE_NAME = :55, a.ALT_CUST_NBR = :56, a.BASE_CUST_NBR = :57, a.CUST_STATEMENT_FORMAT = :58, a.PACA_FLAG = :59, a.TOBACCO_BILLABLE_FLAG = :60, a.TOBACCO_REBATE = TO_NUMBER(:61), a.ZONE_NBR = TO_NUMBER(:62), a.MILITARY_DODAAC = :63, a.SALES_REPRESENTATIVE = :64, a.BILL_TO_STORE_NBR = :65, a.BILL_TO_STORE_NAME = :66, a.PRIMARY_CONTACT_NAME = :67, a.PRIMARY_CONTACT_PHONE_NBR = :68, a.PRIMARY_CONTACT_EMAIL_ADDR = :69, a.CUSTOMER_GROUP = :70, a.STORE_GROUP = :71, a.FINANCE_CHARGES = :72, a.INTEREST_RATE = :73, a.PAYMENT_GRACE_DAYS = :74, a.INTEREST_PERIOD_DAYS = :75, a.STATEMENT_ADDRESS1 = :76, a.STATEMENT_CITY = :77, a.STATEMENT_STATE = :78, a.STATEMENT_ZIP = :79, a.FINANCE_CHARGE_EFFECTIVE_DATE = :80, a.SUMMARY_STMT_FORMAT = :81, a.DELINQUENT_START_DATE = :82, a.AR_SEGMENT_GROUP = :83, a.AR_GROUP_NAME = :84, a.IMPORTED_SOURCE = :85, a.REMITTANCE_ADDR = :86, a.STATEMENT_TOLRNCE = :87, a.INVOICE_TOLRNCE = :88, a.SALES_REP = :89, a.RISK_TIER = :90, a.GS_RETAIL_ACCTNG_REPORT = :91, a.STATEMENT_LEVEL = :92, a.RELATED_CUST_LOCKBOX_APPLLY = :93, a.SEND_ACH_NOTIFTN = :94, a.STOCK_NAME = :95, a.MULTI_STORE = :96, a.EFT = :97, a.PICKUP_DAY = :98, a.PAY_DUE_DAY = :99, a.CREDIT_HOLD = :100, a.PAYMENT_TERMS = :101, a.CREDIT_GROUP = :102, a.BLANK_CHECK_CUSTOMER = :103, a.AD_PLAN_GROUP = :104, a.AWI_PARTY_SITE_ID = :105, a.AWI_MULTI_STORE_NBR = :106, a.PATRONAGE_NBR = :107, a.PRINT_STATEMENTS = :108, a.STATEMENT_INSTRUCTIONS = :109, a.SEND_TO_AWI_CDH_FLG = :110, a.CM_BILLING_CYCLE = :111, a.CM_TERMS = :112, a.CM_NP_XFER_FLAG = :113, a.CM_PRINT_STMT = :114, a.CM_RET_ACCT_STMT = :115, a.CM_STMT_COPIES = :116, a.CM_GROUP_CODE = :117, a.CM_PAYMENT_METHOD = :118, a.CM_STMT_LABELS = :119, a.CM_PAYMENT_DUE_DAYS = :120, a.CM_SUB_STORE = :121, a.CM_CUST_XREF_NO = :122, a.STMT_ADJ_GROUP_CODE = :123, a.PSUEDOEPHEDRINE_FLAG = :124, a.CALL_FOR_CUSTOMER = :125, a.CIGARETTE_LICENSE = :126, a.SMALL_PACK = :127, a.CIGARETTE_VALIDATION = :128, a.AWI_CDH_CUSTOMER_CLASS = :129, a.GAS_REWARDS = :130, a.MILES = TO_NUMBER(:131), a.PRINT_STMTS = :132, a.AWI_CDH_RACK_SERVICE = :133, a.RETAIL_TYPE = :134, a.TAX_EXEMPT = :135, a.ADV_FLAG_7 = TO_NUMBER(:136), a.ADV_FLAG6 = :137, a.BB_AD_PLAN = :138, a.AD_COMMENTS = :139, a.ADV_FLAG5 = :140, a.CONFO_AD_PLAN = :141, a.DEFAULT_TRIP = :142, a.CATALOG10 = :143, a.AWI_PRINT_BULLETIN = :144, a.AWI_SIGN_KIT = :145, a.SURVEYS = TO_NUMBER(:146), a.ADV_FLAG8 = :147, a.AWI_AD_OFFSET = TO_NUMBER(:148), a.AGNE_CUSTOMER = :149, a.CONFO = :150, a.HBA_GM_FLAG = :151, a.HBA_GM_DISC_OVERIDE = TO_NUMBER(:152), a.HBA_GM_DISC = TO_NUMBER(:153), a.ITEM_ALLOWANCE = :154, a.COD = :155, a.SERV_CHARGE = TO_NUMBER(:156), a.SINGLE_PICK = :157, a.AWI_CUSTOMER_TYPE = :158, a.MULTI_STORE_NUMBER = TO_NUMBER(:159), a.EIGHT_WEEK_BB = :160, a.BB_MOD_PROGRAM = TO_NUMBER(:161), a.KPC_END = TO_DATE(:162, 'YYYY-MM-DD HH24:MI:SS'), a.KPC_RETAIL_ZONE = TO_NUMBER(:163), a.KPC_START = TO_DATE(:164, 'YYYY-MM-DD HH24:MI:SS'), a.AWI_PRODUCT = :165, a.SPECIALTY_FOODS = :166, a.D_COST_PLUS_BRACKET_FLAG = :167, a.D_COST_PLUS_BRACKET_NUMBER = TO_NUMBER(:168), a.D_MERCHANDISER = :169, a.D_PRICING_FLAG = :170, a.D_SALESMAN = :171, a.D_SKID_ROUNDING_FLAG = :172, a.SY_COST_PLUS_BRACKET_FLAG = :173, a.SY_COST_PLUS_BRACKET_NUMBER = TO_NUMBER(:174), a.SY_MERCHANDISER = :175, a.SY_PRICING_FLAG = :176, a.SY_SALESMAN = :177, a.SY_SKID_ROUNDING_FLAG = :178, a.M_COST_PLUS_BRACKET_FLAG = :179, a.M_COST_PLUS_BRACKET_NUMBER = TO_NUMBER(:180), a.M_MERCHANDISER = :181, a.M_PRICING_FLAG = :182, a.M_SALESMAN = :183, a.M_SKID_ROUNDING_FLAG = :184, a.P_COST_PLUS_BRACKET_FLAG = :185, a.P_COST_PLUS_BRACKET_NUMBER = TO_NUMBER(:186), a.P_MERCHANDISER = :187, a.P_PRICING_FLAG = :188, a.P_SALESMAN = :189, a.P_SKID_ROUNDING_FLAG = :190, a.GM_COST_PLUS_BRACKET_FLAG = :191, a.GM_COST_PLUS_BRACKET_NUMBER = TO_NUMBER(:192), a.GM_MERCHANDISER = :193, a.GM_PRICING_FLAG = :194, a.GM_SALESMAN = :195, a.GM_SKID_ROUNDING_FLAG = :196, a.C_COST_PLUS_BRACKET_FLAG = :197, a.C_COST_PLUS_BRACKET_NUMBER = TO_NUMBER(:198), a.C_MERCHANDISER = :199, a.C_PRICING_FLAG = :200, a.C_SALESMAN = :201, a.C_SKID_ROUNDING_FLAG = :202, a.F_COST_PLUS_BRACKET_FLAG = :203, a.F_COST_PLUS_BRACKET_NUMBER = TO_NUMBER(:204), a.F_MERCHANDISER = :205, a.F_PRICING_FLAG = :206, a.F_SALESMAN = :207, a.F_SKID_ROUNDING_FLAG = :208, a.RG_COST_PLUS_BRACKET_FLAG = :209, a.RG_COST_PLUS_BRACKET_NUMBER = TO_NUMBER(:210), a.RG_MERCHANDISER = :211, a.RG_PRICING_FLAG = :212, a.RG_SALESMAN = :213, a.RG_SKID_ROUNDING_FLAG = :214, a.DSD_VENDOR = TO_NUMBER(:215), a.CUST_CODE_XREF = :216, a.SITE_PICK_SLIP_REQ = :217, a.SITE_PICK_SLIP_REQ_DISP = :218, a.SITE_RANK = :219, a.ACC_SUBS = :220, a.REJ_REASON = :221, a.MAX_VOL_PALL = :222, a.ITEM_PAL_ROUND = :223, a.LOG_ORD_QTY = :224, a.MIN_ORD_QTY = :225, a.ENFORCE_DEPT = :226, a.MAX_ORD_QTY = :227, a.PO_REQ = :228, a.PO_REQ_DISP = :229, a.RET_PRC_REQ = :230, a.RET_PRC_REQ_DISP = :231, a.CUST_XREF = :232, a.CUST_XREF_DISP = :233, a.LEGACY_CUST_NBR = :234, a.LEGACY_COMPANY = :235, a.BILL_TO_SITE_USE_ID = TO_NUMBER(:236), a.SHIP_TO_SITE_USE_ID = TO_NUMBER(:237), a.HOSTING_DEPT = :238, a.RETAILER_DEPT = TO_NUMBER(:239), a.CONTACT_INFO = :240, a.STORE_MANAGER = :241, a.STORE_OWNER = :242, a.STORE_TYPE = :243, a.ACCEPT_SUBS = :244, a.INT_PO_REQ = :245, a.DIVISION_ID = TO_NUMBER(:246), a.REGION = :247, a.DELEGATE_AUTRIZTN_FLG = :248, a.AISLE_LIMIT = TO_NUMBER(:249), a.ACCT_TYPE = :250, a.OLD_STORE_NBR = :251, a.GS_DASH_0 = :252, a.GS_DASH_0_DESCRIPTION = :253, a.GS_DASH_1 = :254, a.GS_DASH_1_DESCRIPTION = :255, a.GS_DASH_2 = :256, a.GS_DASH_2_DESCRIPTION = :257, a.GS_DASH_3 = :258, a.GS_DASH_3_DESCRIPTION = :259, a.GS_DASH_4 = :260, a.GS_DASH_4_DESCRIPTION = :261, a.GS_DASH_5 = :262, a.GS_DASH_5_DESCRIPTION = :263, a.GS_DASH_6 = :264, a.GS_DASH_6_DESCRIPTION = :265, a.GS_DASH_7 = :266, a.GS_DASH_7_DESCRIPTION = :267, a.GS_DASH_8 = :268, a.GS_DASH_8_DESCRIPTION = :269, a.GS_DASH_9 = :270, a.GS_DASH_9_DESCRIPTION = :271, a.PLATINUM_DEPT = :272, a.EXCLUDE_PDF_BKP = :273, a.GS_ADV_CRD_GROC_RPK_CAYU_PCT = TO_NUMBER(:274), a.GS_ADV_CRD_MEAT_BULK_PCT = TO_NUMBER(:275), a.GS_ADV_CRD_CORDER_REPACK_PCT = TO_NUMBER(:276), a.GS_ADV_CRD_FROZEN_PCT = TO_NUMBER(:277), a.GS_ADV_CRD_BAKERY_PCT = TO_NUMBER(:278), a.GS_ADV_CRD_REFRIG_PCT = TO_NUMBER(:279), a.GS_ADV_CRD_ICREAM_PCT = TO_NUMBER(:280), a.GS_SALESMAN_NBR = :281, a.GS_SALESMAN_NAME = :282, a.GS_CM_DROP_SHIP_FLAG = :283, a.GS_CM_PAYMENT_METHOD = :284, a.GS_SELECTION_SERVICE_FEE_FLAG = :285, a.GS_FRZ_RBT_FLAG = :286, a.GS_STMT_FROZ_ADJ_FACTOR = TO_NUMBER(:287), a.GS_STMT_MEAT_ADJ_FACTOR = TO_NUMBER(:288), a.GS_STMT_GROC_ADJ_FACTOR = TO_NUMBER(:289), a.GS_NOTE_PAYOFF_CREDIT_RATE = TO_NUMBER(:290), a.GS_SALES_ADJ_REBATE_RATE = TO_NUMBER(:291), a.GS_TRANSFER_BAL_DASH_NBR = :292, a.GS_CUST_CROSS_REF_DASH_NBR = :293, a.GS_REBATE_CHECK = :294, a.GS_GROUP_CODE_DESC = :295, a.GS_PORTAL_FOLDER_NBR = :296, a.STORE_FAX_NBR = :297, a.GS_AUD_GROUP = :298, a.CREDIT_LIMIT = TO_NUMBER(:299), a.GS_MAP_CD = :300, a.GS_MAP_CD_LTR = :301, a.GS_VENDOR_PACK_IND = :302, a.GS_AD_GROUP = :303, a.GS_TPR_GROUP = :304, a.GS_GBY_GROUP = :305, a.GS_PRICING_ZONE = :306, a.GS_SUPER_SERVE = :307, a.GS_NABISCO = :308, a.GS_WILL_CALL = :309, a.SWELL = :310, a.HQ_FLAG = :311, a.GS_PRIMARY_SHIP_FLAG = :312, a.GS_FUEL_ZONE = :313, a.GS_FUEL_ZONE_DESC = :314, a.GS_AD_GROUP_DESC = :315, a.GS_PRICING_ZONE_DESC = :316\n",
      "{}\n",
      "--, a.LAST_UPDATE_DATE = SYSDATE+1, a.LAST_UPDATED_BY = -777, a.REQUEST_ID = 93007155\n",
      "WHERE a.PARTY_SITE_ID = :1\n",
      "\n"
     ]
    },
    {
     "name": "stdout",
     "output_type": "stream",
     "text": [
      "Number of rows updated: 5\n"
     ]
    }
   ],
   "source": [
    "import sys\n",
    "sys.path.append(r'D:\\W\\EBS\\Customer Denorm\\Utils')\n",
    "import queries as q\n",
    "\n",
    "# Assuming your DataFrame is named 'cur_gtt'\n",
    "party_site_id = cur_gtt.iloc[:, 0]  # Extract the first column\n",
    "\n",
    "# Create a copy of the original DataFrame\n",
    "cur_gtt_updated = cur_gtt.copy()\n",
    "\n",
    "# Drop the first column from the copied DataFrame\n",
    "cur_gtt_updated = cur_gtt_updated.iloc[:, 1:]\n",
    "\n",
    "# Add the first column as the last column in the copied DataFrame\n",
    "cur_gtt_updated['PARTY_SITE_ID'] = party_site_id\n",
    "# Print the updated DataFrame\n",
    "print(cur_gtt_updated)\n",
    "\n",
    "# If you want to use the original column name, you can replace 'New_Last_Column_Name'\n",
    "# with the actual name of your first column\n",
    "\n",
    "# Convert DataFrame to a list of tuples\n",
    "data_to_update = [tuple(row) for row in cur_gtt_updated.values]\n",
    "print(data_to_update)\n",
    "print(q.update_test)\n",
    "# Execute the update query using the cursor\n",
    "source_cursor.executemany(full_update_query, data_to_update)\n",
    "\n",
    "# Get the number of rows updated\n",
    "num_rows_updated = source_cursor.rowcount\n",
    "print(f\"Number of rows updated: {num_rows_updated}\")\n",
    "\n",
    "# Commit the changes\n",
    "source_conn.commit()\n",
    "\n",
    "# Close the cursor and connection\n",
    "# source_cursor.close()\n",
    "# source_conn.close()\n"
   ]
  },
  {
   "cell_type": "code",
   "execution_count": 51,
   "id": "0789a880",
   "metadata": {
    "scrolled": true
   },
   "outputs": [
    {
     "name": "stdout",
     "output_type": "stream",
     "text": [
      "\n",
      "UPDATE xxfin.xxar_customer_master a\n",
      "SET a.STORE_NBR = :2, a.STORE_NAME = :3, a.STORE_STATUS = :4, a.STORE_BILL_TO_FLAG = :5, a.STORE_SHIP_TO_FLAG = :6, a.ACCT_ID = TO_NUMBER(:7), a.ACCT_NBR = :8, a.ACCT_NAME = :9, a.ACCT_STATUS = :10, a.ACCT_CUST_CLASS_CODE = :11, a.ACCT_CREATION_DATE = TO_DATE(:12, 'YYYY-MM-DD HH24:MI:SS'), a.CHAIN_NBR = TO_NUMBER(:13), a.CHAIN_NAME = :14, a.CHAIN_SHORT_NAME = :15, a.CHAIN_INACTIVE_DATE = :16, a.START_CUST_NBR = :17, a.STRT_CUST_NBR2 = :18, a.END_CUST_NBR = :19, a.END_CUST_NBR2 = :20, a.PRIVATE_LABEL_OFFSET = :21, a.SUB_AUTH_OFFST = :22, a.AD_START_DAY_OF_WEEK = :23, a.COMPANY_CODE = TO_NUMBER(:24), a.HQ_CUST_NBR = :25, a.DIVISION_NBR = TO_NUMBER(:26), a.DIVISION_NAME = :27, a.EBS_GL_CUST_GROUP_NBR = :28, a.EBS_GL_CUST_GROUP_NAME = :29, a.STORE_GROUP_NBR = :30, a.STORE_GROUP_NAME = :31, a.GROUP_BUY_NBR = TO_NUMBER(:32), a.STORE_CREATION_DATE = TO_DATE(:33, 'YYYY-MM-DD HH24:MI:SS'), a.STORE_INACTIVE_DATE = TO_DATE(:34, 'YYYY-MM-DD HH24:MI:SS'), a.STORE_LAST_UPDATE_DATE = TO_DATE(:35, 'YYYY-MM-DD HH24:MI:SS'), a.LOCATION_ID = TO_NUMBER(:36), a.STORE_ADDRESS1 = :37, a.STORE_ADDRESS2 = :38, a.STORE_ADDRESS3 = :39, a.STORE_ADDRESS4 = :40, a.STORE_CITY = :41, a.STORE_POSTAL_CODE = :42, a.STORE_STATE = :43, a.STORE_PROVINCE = :44, a.STORE_COUNTY = :45, a.STORE_COUNTRY = :46, a.STORE_TELEPHONE_NBR = :47, a.CUST_STORE_NBR = :48, a.CUST_ACCT_PROFILE_ID = TO_NUMBER(:49), a.PAY_TERMS = :50, a.PAY_TERM_DESC = :51, a.PAY_TERM_START_DATE = TO_DATE(:52, 'YYYY-MM-DD HH24:MI:SS'), a.PAY_TERM_END_DATE = TO_DATE(:53, 'YYYY-MM-DD HH24:MI:SS'), a.COLLECTOR_NAME = :54, a.STATEMENT_CYCLE_NAME = :55, a.ALT_CUST_NBR = :56, a.BASE_CUST_NBR = :57, a.CUST_STATEMENT_FORMAT = :58, a.PACA_FLAG = :59, a.TOBACCO_BILLABLE_FLAG = :60, a.TOBACCO_REBATE = TO_NUMBER(:61), a.ZONE_NBR = TO_NUMBER(:62), a.MILITARY_DODAAC = :63, a.SALES_REPRESENTATIVE = :64, a.BILL_TO_STORE_NBR = :65, a.BILL_TO_STORE_NAME = :66, a.PRIMARY_CONTACT_NAME = :67, a.PRIMARY_CONTACT_PHONE_NBR = :68, a.PRIMARY_CONTACT_EMAIL_ADDR = :69, a.CUSTOMER_GROUP = :70, a.STORE_GROUP = :71, a.FINANCE_CHARGES = :72, a.INTEREST_RATE = :73, a.PAYMENT_GRACE_DAYS = :74, a.INTEREST_PERIOD_DAYS = :75, a.STATEMENT_ADDRESS1 = :76, a.STATEMENT_CITY = :77, a.STATEMENT_STATE = :78, a.STATEMENT_ZIP = :79, a.FINANCE_CHARGE_EFFECTIVE_DATE = :80, a.SUMMARY_STMT_FORMAT = :81, a.DELINQUENT_START_DATE = :82, a.AR_SEGMENT_GROUP = :83, a.AR_GROUP_NAME = :84, a.IMPORTED_SOURCE = :85, a.REMITTANCE_ADDR = :86, a.STATEMENT_TOLRNCE = :87, a.INVOICE_TOLRNCE = :88, a.SALES_REP = :89, a.RISK_TIER = :90, a.GS_RETAIL_ACCTNG_REPORT = :91, a.STATEMENT_LEVEL = :92, a.RELATED_CUST_LOCKBOX_APPLLY = :93, a.SEND_ACH_NOTIFTN = :94, a.STOCK_NAME = :95, a.MULTI_STORE = :96, a.EFT = :97, a.PICKUP_DAY = :98, a.PAY_DUE_DAY = :99, a.CREDIT_HOLD = :100, a.PAYMENT_TERMS = :101, a.CREDIT_GROUP = :102, a.BLANK_CHECK_CUSTOMER = :103, a.AD_PLAN_GROUP = :104, a.AWI_PARTY_SITE_ID = :105, a.AWI_MULTI_STORE_NBR = :106, a.PATRONAGE_NBR = :107, a.PRINT_STATEMENTS = :108, a.STATEMENT_INSTRUCTIONS = :109, a.SEND_TO_AWI_CDH_FLG = :110, a.CM_BILLING_CYCLE = :111, a.CM_TERMS = :112, a.CM_NP_XFER_FLAG = :113, a.CM_PRINT_STMT = :114, a.CM_RET_ACCT_STMT = :115, a.CM_STMT_COPIES = :116, a.CM_GROUP_CODE = :117, a.CM_PAYMENT_METHOD = :118, a.CM_STMT_LABELS = :119, a.CM_PAYMENT_DUE_DAYS = :120, a.CM_SUB_STORE = :121, a.CM_CUST_XREF_NO = :122, a.STMT_ADJ_GROUP_CODE = :123, a.PSUEDOEPHEDRINE_FLAG = :124, a.CALL_FOR_CUSTOMER = :125, a.CIGARETTE_LICENSE = :126, a.SMALL_PACK = :127, a.CIGARETTE_VALIDATION = :128, a.AWI_CDH_CUSTOMER_CLASS = :129, a.GAS_REWARDS = :130, a.MILES = TO_NUMBER(:131), a.PRINT_STMTS = :132, a.AWI_CDH_RACK_SERVICE = :133, a.RETAIL_TYPE = :134, a.TAX_EXEMPT = :135, a.ADV_FLAG_7 = TO_NUMBER(:136), a.ADV_FLAG6 = :137, a.BB_AD_PLAN = :138, a.AD_COMMENTS = :139, a.ADV_FLAG5 = :140, a.CONFO_AD_PLAN = :141, a.DEFAULT_TRIP = :142, a.CATALOG10 = :143, a.AWI_PRINT_BULLETIN = :144, a.AWI_SIGN_KIT = :145, a.SURVEYS = TO_NUMBER(:146), a.ADV_FLAG8 = :147, a.AWI_AD_OFFSET = TO_NUMBER(:148), a.AGNE_CUSTOMER = :149, a.CONFO = :150, a.HBA_GM_FLAG = :151, a.HBA_GM_DISC_OVERIDE = TO_NUMBER(:152), a.HBA_GM_DISC = TO_NUMBER(:153), a.ITEM_ALLOWANCE = :154, a.COD = :155, a.SERV_CHARGE = TO_NUMBER(:156), a.SINGLE_PICK = :157, a.AWI_CUSTOMER_TYPE = :158, a.MULTI_STORE_NUMBER = TO_NUMBER(:159), a.EIGHT_WEEK_BB = :160, a.BB_MOD_PROGRAM = TO_NUMBER(:161), a.KPC_END = TO_DATE(:162, 'YYYY-MM-DD HH24:MI:SS'), a.KPC_RETAIL_ZONE = TO_NUMBER(:163), a.KPC_START = TO_DATE(:164, 'YYYY-MM-DD HH24:MI:SS'), a.AWI_PRODUCT = :165, a.SPECIALTY_FOODS = :166, a.D_COST_PLUS_BRACKET_FLAG = :167, a.D_COST_PLUS_BRACKET_NUMBER = TO_NUMBER(:168), a.D_MERCHANDISER = :169, a.D_PRICING_FLAG = :170, a.D_SALESMAN = :171, a.D_SKID_ROUNDING_FLAG = :172, a.SY_COST_PLUS_BRACKET_FLAG = :173, a.SY_COST_PLUS_BRACKET_NUMBER = TO_NUMBER(:174), a.SY_MERCHANDISER = :175, a.SY_PRICING_FLAG = :176, a.SY_SALESMAN = :177, a.SY_SKID_ROUNDING_FLAG = :178, a.M_COST_PLUS_BRACKET_FLAG = :179, a.M_COST_PLUS_BRACKET_NUMBER = TO_NUMBER(:180), a.M_MERCHANDISER = :181, a.M_PRICING_FLAG = :182, a.M_SALESMAN = :183, a.M_SKID_ROUNDING_FLAG = :184, a.P_COST_PLUS_BRACKET_FLAG = :185, a.P_COST_PLUS_BRACKET_NUMBER = TO_NUMBER(:186), a.P_MERCHANDISER = :187, a.P_PRICING_FLAG = :188, a.P_SALESMAN = :189, a.P_SKID_ROUNDING_FLAG = :190, a.GM_COST_PLUS_BRACKET_FLAG = :191, a.GM_COST_PLUS_BRACKET_NUMBER = TO_NUMBER(:192), a.GM_MERCHANDISER = :193, a.GM_PRICING_FLAG = :194, a.GM_SALESMAN = :195, a.GM_SKID_ROUNDING_FLAG = :196, a.C_COST_PLUS_BRACKET_FLAG = :197, a.C_COST_PLUS_BRACKET_NUMBER = TO_NUMBER(:198), a.C_MERCHANDISER = :199, a.C_PRICING_FLAG = :200, a.C_SALESMAN = :201, a.C_SKID_ROUNDING_FLAG = :202, a.F_COST_PLUS_BRACKET_FLAG = :203, a.F_COST_PLUS_BRACKET_NUMBER = TO_NUMBER(:204), a.F_MERCHANDISER = :205, a.F_PRICING_FLAG = :206, a.F_SALESMAN = :207, a.F_SKID_ROUNDING_FLAG = :208, a.RG_COST_PLUS_BRACKET_FLAG = :209, a.RG_COST_PLUS_BRACKET_NUMBER = TO_NUMBER(:210), a.RG_MERCHANDISER = :211, a.RG_PRICING_FLAG = :212, a.RG_SALESMAN = :213, a.RG_SKID_ROUNDING_FLAG = :214, a.DSD_VENDOR = TO_NUMBER(:215), a.CUST_CODE_XREF = :216, a.SITE_PICK_SLIP_REQ = :217, a.SITE_PICK_SLIP_REQ_DISP = :218, a.SITE_RANK = :219, a.ACC_SUBS = :220, a.REJ_REASON = :221, a.MAX_VOL_PALL = :222, a.ITEM_PAL_ROUND = :223, a.LOG_ORD_QTY = :224, a.MIN_ORD_QTY = :225, a.ENFORCE_DEPT = :226, a.MAX_ORD_QTY = :227, a.PO_REQ = :228, a.PO_REQ_DISP = :229, a.RET_PRC_REQ = :230, a.RET_PRC_REQ_DISP = :231, a.CUST_XREF = :232, a.CUST_XREF_DISP = :233, a.LEGACY_CUST_NBR = :234, a.LEGACY_COMPANY = :235, a.BILL_TO_SITE_USE_ID = TO_NUMBER(:236), a.SHIP_TO_SITE_USE_ID = TO_NUMBER(:237), a.HOSTING_DEPT = :238, a.RETAILER_DEPT = TO_NUMBER(:239), a.CONTACT_INFO = :240, a.STORE_MANAGER = :241, a.STORE_OWNER = :242, a.STORE_TYPE = :243, a.ACCEPT_SUBS = :244, a.INT_PO_REQ = :245, a.DIVISION_ID = TO_NUMBER(:246), a.REGION = :247, a.DELEGATE_AUTRIZTN_FLG = :248, a.AISLE_LIMIT = TO_NUMBER(:249), a.ACCT_TYPE = :250, a.OLD_STORE_NBR = :251, a.GS_DASH_0 = :252, a.GS_DASH_0_DESCRIPTION = :253, a.GS_DASH_1 = :254, a.GS_DASH_1_DESCRIPTION = :255, a.GS_DASH_2 = :256, a.GS_DASH_2_DESCRIPTION = :257, a.GS_DASH_3 = :258, a.GS_DASH_3_DESCRIPTION = :259, a.GS_DASH_4 = :260, a.GS_DASH_4_DESCRIPTION = :261, a.GS_DASH_5 = :262, a.GS_DASH_5_DESCRIPTION = :263, a.GS_DASH_6 = :264, a.GS_DASH_6_DESCRIPTION = :265, a.GS_DASH_7 = :266, a.GS_DASH_7_DESCRIPTION = :267, a.GS_DASH_8 = :268, a.GS_DASH_8_DESCRIPTION = :269, a.GS_DASH_9 = :270, a.GS_DASH_9_DESCRIPTION = :271, a.PLATINUM_DEPT = :272, a.EXCLUDE_PDF_BKP = :273, a.GS_ADV_CRD_GROC_RPK_CAYU_PCT = TO_NUMBER(:274), a.GS_ADV_CRD_MEAT_BULK_PCT = TO_NUMBER(:275), a.GS_ADV_CRD_CORDER_REPACK_PCT = TO_NUMBER(:276), a.GS_ADV_CRD_FROZEN_PCT = TO_NUMBER(:277), a.GS_ADV_CRD_BAKERY_PCT = TO_NUMBER(:278), a.GS_ADV_CRD_REFRIG_PCT = TO_NUMBER(:279), a.GS_ADV_CRD_ICREAM_PCT = TO_NUMBER(:280), a.GS_SALESMAN_NBR = :281, a.GS_SALESMAN_NAME = :282, a.GS_CM_DROP_SHIP_FLAG = :283, a.GS_CM_PAYMENT_METHOD = :284, a.GS_SELECTION_SERVICE_FEE_FLAG = :285, a.GS_FRZ_RBT_FLAG = :286, a.GS_STMT_FROZ_ADJ_FACTOR = TO_NUMBER(:287), a.GS_STMT_MEAT_ADJ_FACTOR = TO_NUMBER(:288), a.GS_STMT_GROC_ADJ_FACTOR = TO_NUMBER(:289), a.GS_NOTE_PAYOFF_CREDIT_RATE = TO_NUMBER(:290), a.GS_SALES_ADJ_REBATE_RATE = TO_NUMBER(:291), a.GS_TRANSFER_BAL_DASH_NBR = :292, a.GS_CUST_CROSS_REF_DASH_NBR = :293, a.GS_REBATE_CHECK = :294, a.GS_GROUP_CODE_DESC = :295, a.GS_PORTAL_FOLDER_NBR = :296, a.STORE_FAX_NBR = :297, a.GS_AUD_GROUP = :298, a.CREDIT_LIMIT = TO_NUMBER(:299), a.GS_MAP_CD = :300, a.GS_MAP_CD_LTR = :301, a.GS_VENDOR_PACK_IND = :302, a.GS_AD_GROUP = :303, a.GS_TPR_GROUP = :304, a.GS_GBY_GROUP = :305, a.GS_PRICING_ZONE = :306, a.GS_SUPER_SERVE = :307, a.GS_NABISCO = :308, a.GS_WILL_CALL = :309, a.SWELL = :310, a.HQ_FLAG = :311, a.GS_PRIMARY_SHIP_FLAG = :312, a.GS_FUEL_ZONE = :313, a.GS_FUEL_ZONE_DESC = :314, a.GS_AD_GROUP_DESC = :315, a.GS_PRICING_ZONE_DESC = :316\n",
      ", a.last_update_date = SYSDATE, a.last_updated_by = -999,last_update_login = -999, a.request_id = 20231113194955974001\n",
      "--, a.LAST_UPDATE_DATE = SYSDATE+1, a.LAST_UPDATED_BY = -777, a.REQUEST_ID = 93007155\n",
      "WHERE a.PARTY_SITE_ID = :1\n",
      "\n"
     ]
    }
   ],
   "source": [
    "import sys\n",
    "import importlib\n",
    "sys.path.append(r'D:\\W\\EBS\\Customer Denorm\\Utils')\n",
    "import queries as q\n",
    "importlib.reload(q)\n",
    "user_id = -999\n",
    "# Add additional columns with constant values (if needed)\n",
    "set_clause = f\", a.last_update_date = SYSDATE, a.last_updated_by = {user_id},last_update_login = {user_id}, a.request_id = {request_id}\"\n",
    "full_update_query = q.update_test.format(set_clause)\n",
    "print(full_update_query)\n"
   ]
  },
  {
   "cell_type": "code",
   "execution_count": 45,
   "id": "999c091f",
   "metadata": {},
   "outputs": [
    {
     "name": "stdout",
     "output_type": "stream",
     "text": [
      "\n",
      "UPDATE xxfin.xxar_customer_master a\n",
      "SET a.STORE_NBR = :2, a.STORE_NAME = :3, a.STORE_STATUS = :4, a.STORE_BILL_TO_FLAG = :5, a.STORE_SHIP_TO_FLAG = :6, a.ACCT_ID = :7, a.ACCT_NBR = :8, a.ACCT_NAME = :9, a.ACCT_STATUS = :10, a.ACCT_CUST_CLASS_CODE = :11, a.ACCT_CREATION_DATE = :12, a.CHAIN_NBR = :13, a.CHAIN_NAME = :14, a.CHAIN_SHORT_NAME = :15, a.CHAIN_INACTIVE_DATE = :16, a.START_CUST_NBR = :17, a.STRT_CUST_NBR2 = :18, a.END_CUST_NBR = :19, a.END_CUST_NBR2 = :20, a.PRIVATE_LABEL_OFFSET = :21, a.SUB_AUTH_OFFST = :22, a.AD_START_DAY_OF_WEEK = :23, a.COMPANY_CODE = :24, a.HQ_CUST_NBR = :25, a.DIVISION_NBR = :26, a.DIVISION_NAME = :27, a.EBS_GL_CUST_GROUP_NBR = :28, a.EBS_GL_CUST_GROUP_NAME = :29, a.STORE_GROUP_NBR = :30, a.STORE_GROUP_NAME = :31, a.GROUP_BUY_NBR = :32, a.STORE_CREATION_DATE = :33, a.STORE_INACTIVE_DATE = :34, a.STORE_LAST_UPDATE_DATE = :35, a.LOCATION_ID = :36, a.STORE_ADDRESS1 = :37, a.STORE_ADDRESS2 = :38, a.STORE_ADDRESS3 = :39, a.STORE_ADDRESS4 = :40, a.STORE_CITY = :41, a.STORE_POSTAL_CODE = :42, a.STORE_STATE = :43, a.STORE_PROVINCE = :44, a.STORE_COUNTY = :45, a.STORE_COUNTRY = :46, a.STORE_TELEPHONE_NBR = :47, a.CUST_STORE_NBR = :48, a.CUST_ACCT_PROFILE_ID = :49, a.PAY_TERMS = :50, a.PAY_TERM_DESC = :51, a.PAY_TERM_START_DATE = :52, a.PAY_TERM_END_DATE = :53, a.COLLECTOR_NAME = :54, a.STATEMENT_CYCLE_NAME = :55, a.ALT_CUST_NBR = :56, a.BASE_CUST_NBR = :57, a.CUST_STATEMENT_FORMAT = :58, a.PACA_FLAG = :59, a.TOBACCO_BILLABLE_FLAG = :60, a.TOBACCO_REBATE = :61, a.ZONE_NBR = :62, a.MILITARY_DODAAC = :63, a.SALES_REPRESENTATIVE = :64, a.BILL_TO_STORE_NBR = :65, a.BILL_TO_STORE_NAME = :66, a.PRIMARY_CONTACT_NAME = :67, a.PRIMARY_CONTACT_PHONE_NBR = :68, a.PRIMARY_CONTACT_EMAIL_ADDR = :69, a.CUSTOMER_GROUP = :70, a.STORE_GROUP = :71, a.FINANCE_CHARGES = :72, a.INTEREST_RATE = :73, a.PAYMENT_GRACE_DAYS = :74, a.INTEREST_PERIOD_DAYS = :75, a.STATEMENT_ADDRESS1 = :76, a.STATEMENT_CITY = :77, a.STATEMENT_STATE = :78, a.STATEMENT_ZIP = :79, a.FINANCE_CHARGE_EFFECTIVE_DATE = :80, a.SUMMARY_STMT_FORMAT = :81, a.DELINQUENT_START_DATE = :82, a.AR_SEGMENT_GROUP = :83, a.AR_GROUP_NAME = :84, a.IMPORTED_SOURCE = :85, a.REMITTANCE_ADDR = :86, a.STATEMENT_TOLRNCE = :87, a.INVOICE_TOLRNCE = :88, a.SALES_REP = :89, a.RISK_TIER = :90, a.GS_RETAIL_ACCTNG_REPORT = :91, a.STATEMENT_LEVEL = :92, a.RELATED_CUST_LOCKBOX_APPLLY = :93, a.SEND_ACH_NOTIFTN = :94, a.STOCK_NAME = :95, a.MULTI_STORE = :96, a.EFT = :97, a.PICKUP_DAY = :98, a.PAY_DUE_DAY = :99, a.CREDIT_HOLD = :100, a.PAYMENT_TERMS = :101, a.CREDIT_GROUP = :102, a.BLANK_CHECK_CUSTOMER = :103, a.AD_PLAN_GROUP = :104, a.AWI_PARTY_SITE_ID = :105, a.AWI_MULTI_STORE_NBR = :106, a.PATRONAGE_NBR = :107, a.PRINT_STATEMENTS = :108, a.STATEMENT_INSTRUCTIONS = :109, a.SEND_TO_AWI_CDH_FLG = :110, a.CM_BILLING_CYCLE = :111, a.CM_TERMS = :112, a.CM_NP_XFER_FLAG = :113, a.CM_PRINT_STMT = :114, a.CM_RET_ACCT_STMT = :115, a.CM_STMT_COPIES = :116, a.CM_GROUP_CODE = :117, a.CM_PAYMENT_METHOD = :118, a.CM_STMT_LABELS = :119, a.CM_PAYMENT_DUE_DAYS = :120, a.CM_SUB_STORE = :121, a.CM_CUST_XREF_NO = :122, a.STMT_ADJ_GROUP_CODE = :123, a.PSUEDOEPHEDRINE_FLAG = :124, a.CALL_FOR_CUSTOMER = :125, a.CIGARETTE_LICENSE = :126, a.SMALL_PACK = :127, a.CIGARETTE_VALIDATION = :128, a.AWI_CDH_CUSTOMER_CLASS = :129, a.GAS_REWARDS = :130, a.MILES = :131, a.PRINT_STMTS = :132, a.AWI_CDH_RACK_SERVICE = :133, a.RETAIL_TYPE = :134, a.TAX_EXEMPT = :135, a.ADV_FLAG_7 = :136, a.ADV_FLAG6 = :137, a.BB_AD_PLAN = :138, a.AD_COMMENTS = :139, a.ADV_FLAG5 = :140, a.CONFO_AD_PLAN = :141, a.DEFAULT_TRIP = :142, a.CATALOG10 = :143, a.AWI_PRINT_BULLETIN = :144, a.AWI_SIGN_KIT = :145, a.SURVEYS = :146, a.ADV_FLAG8 = :147, a.AWI_AD_OFFSET = :148, a.AGNE_CUSTOMER = :149, a.CONFO = :150, a.HBA_GM_FLAG = :151, a.HBA_GM_DISC_OVERIDE = :152, a.HBA_GM_DISC = :153, a.ITEM_ALLOWANCE = :154, a.COD = :155, a.SERV_CHARGE = :156, a.SINGLE_PICK = :157, a.AWI_CUSTOMER_TYPE = :158, a.MULTI_STORE_NUMBER = :159, a.EIGHT_WEEK_BB = :160, a.BB_MOD_PROGRAM = :161, a.KPC_END = :162, a.KPC_RETAIL_ZONE = :163, a.KPC_START = :164, a.AWI_PRODUCT = :165, a.SPECIALTY_FOODS = :166, a.D_COST_PLUS_BRACKET_FLAG = :167, a.D_COST_PLUS_BRACKET_NUMBER = :168, a.D_MERCHANDISER = :169, a.D_PRICING_FLAG = :170, a.D_SALESMAN = :171, a.D_SKID_ROUNDING_FLAG = :172, a.SY_COST_PLUS_BRACKET_FLAG = :173, a.SY_COST_PLUS_BRACKET_NUMBER = :174, a.SY_MERCHANDISER = :175, a.SY_PRICING_FLAG = :176, a.SY_SALESMAN = :177, a.SY_SKID_ROUNDING_FLAG = :178, a.M_COST_PLUS_BRACKET_FLAG = :179, a.M_COST_PLUS_BRACKET_NUMBER = :180, a.M_MERCHANDISER = :181, a.M_PRICING_FLAG = :182, a.M_SALESMAN = :183, a.M_SKID_ROUNDING_FLAG = :184, a.P_COST_PLUS_BRACKET_FLAG = :185, a.P_COST_PLUS_BRACKET_NUMBER = :186, a.P_MERCHANDISER = :187, a.P_PRICING_FLAG = :188, a.P_SALESMAN = :189, a.P_SKID_ROUNDING_FLAG = :190, a.GM_COST_PLUS_BRACKET_FLAG = :191, a.GM_COST_PLUS_BRACKET_NUMBER = :192, a.GM_MERCHANDISER = :193, a.GM_PRICING_FLAG = :194, a.GM_SALESMAN = :195, a.GM_SKID_ROUNDING_FLAG = :196, a.C_COST_PLUS_BRACKET_FLAG = :197, a.C_COST_PLUS_BRACKET_NUMBER = :198, a.C_MERCHANDISER = :199, a.C_PRICING_FLAG = :200, a.C_SALESMAN = :201, a.C_SKID_ROUNDING_FLAG = :202, a.F_COST_PLUS_BRACKET_FLAG = :203, a.F_COST_PLUS_BRACKET_NUMBER = :204, a.F_MERCHANDISER = :205, a.F_PRICING_FLAG = :206, a.F_SALESMAN = :207, a.F_SKID_ROUNDING_FLAG = :208, a.RG_COST_PLUS_BRACKET_FLAG = :209, a.RG_COST_PLUS_BRACKET_NUMBER = :210, a.RG_MERCHANDISER = :211, a.RG_PRICING_FLAG = :212, a.RG_SALESMAN = :213, a.RG_SKID_ROUNDING_FLAG = :214, a.DSD_VENDOR = :215, a.CUST_CODE_XREF = :216, a.SITE_PICK_SLIP_REQ = :217, a.SITE_PICK_SLIP_REQ_DISP = :218, a.SITE_RANK = :219, a.ACC_SUBS = :220, a.REJ_REASON = :221, a.MAX_VOL_PALL = :222, a.ITEM_PAL_ROUND = :223, a.LOG_ORD_QTY = :224, a.MIN_ORD_QTY = :225, a.ENFORCE_DEPT = :226, a.MAX_ORD_QTY = :227, a.PO_REQ = :228, a.PO_REQ_DISP = :229, a.RET_PRC_REQ = :230, a.RET_PRC_REQ_DISP = :231, a.CUST_XREF = :232, a.CUST_XREF_DISP = :233, a.LEGACY_CUST_NBR = :234, a.LEGACY_COMPANY = :235, a.BILL_TO_SITE_USE_ID = :236, a.SHIP_TO_SITE_USE_ID = :237, a.HOSTING_DEPT = :238, a.RETAILER_DEPT = :239, a.CONTACT_INFO = :240, a.STORE_MANAGER = :241, a.STORE_OWNER = :242, a.STORE_TYPE = :243, a.ACCEPT_SUBS = :244, a.INT_PO_REQ = :245, a.DIVISION_ID = :246, a.REGION = :247, a.DELEGATE_AUTRIZTN_FLG = :248, a.AISLE_LIMIT = :249, a.ACCT_TYPE = :250, a.OLD_STORE_NBR = :251, a.GS_DASH_0 = :252, a.GS_DASH_0_DESCRIPTION = :253, a.GS_DASH_1 = :254, a.GS_DASH_1_DESCRIPTION = :255, a.GS_DASH_2 = :256, a.GS_DASH_2_DESCRIPTION = :257, a.GS_DASH_3 = :258, a.GS_DASH_3_DESCRIPTION = :259, a.GS_DASH_4 = :260, a.GS_DASH_4_DESCRIPTION = :261, a.GS_DASH_5 = :262, a.GS_DASH_5_DESCRIPTION = :263, a.GS_DASH_6 = :264, a.GS_DASH_6_DESCRIPTION = :265, a.GS_DASH_7 = :266, a.GS_DASH_7_DESCRIPTION = :267, a.GS_DASH_8 = :268, a.GS_DASH_8_DESCRIPTION = :269, a.GS_DASH_9 = :270, a.GS_DASH_9_DESCRIPTION = :271, a.PLATINUM_DEPT = :272, a.EXCLUDE_PDF_BKP = :273, a.GS_ADV_CRD_GROC_RPK_CAYU_PCT = :274, a.GS_ADV_CRD_MEAT_BULK_PCT = :275, a.GS_ADV_CRD_CORDER_REPACK_PCT = :276, a.GS_ADV_CRD_FROZEN_PCT = :277, a.GS_ADV_CRD_BAKERY_PCT = :278, a.GS_ADV_CRD_REFRIG_PCT = :279, a.GS_ADV_CRD_ICREAM_PCT = :280, a.GS_SALESMAN_NBR = :281, a.GS_SALESMAN_NAME = :282, a.GS_CM_DROP_SHIP_FLAG = :283, a.GS_CM_PAYMENT_METHOD = :284, a.GS_SELECTION_SERVICE_FEE_FLAG = :285, a.GS_FRZ_RBT_FLAG = :286, a.GS_STMT_FROZ_ADJ_FACTOR = :287, a.GS_STMT_MEAT_ADJ_FACTOR = :288, a.GS_STMT_GROC_ADJ_FACTOR = :289, a.GS_NOTE_PAYOFF_CREDIT_RATE = :290, a.GS_SALES_ADJ_REBATE_RATE = :291, a.GS_TRANSFER_BAL_DASH_NBR = :292, a.GS_CUST_CROSS_REF_DASH_NBR = :293, a.GS_REBATE_CHECK = :294, a.GS_GROUP_CODE_DESC = :295, a.GS_PORTAL_FOLDER_NBR = :296, a.STORE_FAX_NBR = :297, a.GS_AUD_GROUP = :298, a.CREDIT_LIMIT = :299, a.GS_MAP_CD = :300, a.GS_MAP_CD_LTR = :301, a.GS_VENDOR_PACK_IND = :302, a.GS_AD_GROUP = :303, a.GS_TPR_GROUP = :304, a.GS_GBY_GROUP = :305, a.GS_PRICING_ZONE = :306, a.GS_SUPER_SERVE = :307, a.GS_NABISCO = :308, a.GS_WILL_CALL = :309, a.SWELL = :310, a.HQ_FLAG = :311, a.GS_PRIMARY_SHIP_FLAG = :312, a.GS_FUEL_ZONE = :313, a.GS_FUEL_ZONE_DESC = :314, a.GS_AD_GROUP_DESC = :315, a.GS_PRICING_ZONE_DESC = :316, a.last_update_date = SYSDATE, a.last_updated_by = -999, a.request_id = 20231113194955974001\n",
      "WHERE a.PARTY_SITE_ID = :1\n",
      "\n"
     ]
    }
   ],
   "source": [
    "update_query = \"\"\"\n",
    "UPDATE xxfin.xxar_customer_master a\n",
    "SET {}\n",
    "WHERE a.PARTY_SITE_ID = :1\n",
    "\"\"\"\n",
    "\n",
    "# Generate the SET clause dynamically for all columns (starting from the second column)\n",
    "set_clause = \", \".join(f\"a.{column} = :{i+2}\" for i, column in enumerate(cur_gtt.columns[1:]))\n",
    "\n",
    "# Add additional columns with constant values (if needed)\n",
    "set_clause += f\", a.last_update_date = SYSDATE, a.last_updated_by = -999, a.request_id = {request_id}\"\n",
    "\n",
    "# Format the complete update query\n",
    "full_update_query = update_query.format(set_clause)\n",
    "print(full_update_query)"
   ]
  },
  {
   "cell_type": "code",
   "execution_count": 43,
   "id": "5907cee8",
   "metadata": {},
   "outputs": [],
   "source": [
    "from datetime import datetime, timezone, timedelta\n",
    "\n",
    "class RequestIDGenerator:\n",
    "    def __init__(self):\n",
    "        self.counter = 0\n",
    "\n",
    "    def generate_request_id(self):\n",
    "        est = timezone(timedelta(hours=-5))  # Eastern Standard Time (EST)\n",
    "        timestamp = int(datetime.now(est).timestamp() * 1000)  # Convert current time in EST to milliseconds\n",
    "        self.counter += 1\n",
    "        human_readable_format = datetime.fromtimestamp(timestamp / 1000, est).strftime('%Y%m%d%H%M%S%f')[:-3]\n",
    "        request_id = int(f\"{human_readable_format}{self.counter:03d}\")\n",
    "        return request_id\n",
    "\n",
    "\n"
   ]
  }
 ],
 "metadata": {
  "kernelspec": {
   "display_name": "Python 3",
   "language": "python",
   "name": "python3"
  },
  "language_info": {
   "codemirror_mode": {
    "name": "ipython",
    "version": 3
   },
   "file_extension": ".py",
   "mimetype": "text/x-python",
   "name": "python",
   "nbconvert_exporter": "python",
   "pygments_lexer": "ipython3",
   "version": "3.8.8"
  }
 },
 "nbformat": 4,
 "nbformat_minor": 5
}
