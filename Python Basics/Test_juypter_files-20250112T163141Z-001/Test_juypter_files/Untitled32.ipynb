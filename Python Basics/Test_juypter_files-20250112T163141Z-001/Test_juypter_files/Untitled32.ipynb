{
 "cells": [
  {
   "cell_type": "code",
   "execution_count": null,
   "id": "7626aa7e",
   "metadata": {},
   "outputs": [],
   "source": [
    "file_path = f'D:\\W\\RELEX\\RELEX\\Future_List_Cost\\Inbound_files\\FUTRLIST.IN07.20231206100039 (Oracle File)'"
   ]
  },
  {
   "cell_type": "code",
   "execution_count": 38,
   "id": "466ccdb5",
   "metadata": {},
   "outputs": [
    {
     "name": "stdout",
     "output_type": "stream",
     "text": [
      "<Element 'LIST_COST_MAINT' at 0x0000028EF7596F90>\n",
      "BICEPSITEM: 250473199, FIRSTORDERDATE: 120723\n",
      "<Element 'LIST_COST_MAINT' at 0x0000028EF32BD5E0>\n",
      "BICEPSITEM: 250494237, FIRSTORDERDATE: 120723\n"
     ]
    }
   ],
   "source": [
    "import os\n",
    "\n",
    "# Define the root directory path\n",
    "root_directory = f'D:\\W\\RELEX\\RELEX\\Future_List_Cost\\Inbound_files'\n",
    "\n",
    "# Specify the file name\n",
    "# file_name = f'FUTRLIST.IN07.20231206100039 (Oracle File)'\n",
    "file_name = 'future.xml'\n",
    "\n",
    "# Join the root directory path and the file name\n",
    "file_path = os.path.join(root_directory, file_name)\n",
    "\n",
    "\n",
    "# Open the file and parse each line\n",
    "with open(file_path, 'r', encoding='utf-8') as file:\n",
    "    for line in file:\n",
    "        try:\n",
    "            # Parse each line as XML\n",
    "            root = ET.fromstring(line.strip())\n",
    "            print(root)\n",
    "            # Access the elements within each <LIST_COST_MAINT>\n",
    "            BICEPSITEM = root.find('BICEPSITEM').text\n",
    "            FIRSTORDERDATE = root.find('FIRSTORDERDATE').text\n",
    "            LASTORDERDATE = root.find('LASTORDERDATE').text\n",
    "            ITEMLISTFUTURE = root.find('ITEMLISTFUTURE').text\n",
    "            DATESELLEFF = root.find('DATESELLEFF').text\n",
    "            DEALMANUFACTURENUMBER = root.find('DEALMANUFACTURENUMBER').text\n",
    "            LISTCOSTADD = root.find('LISTCOSTADD').text\n",
    "            TRANSACTIONID = root.find('TRANSACTIONID').text\n",
    "            # Process the data as needed\n",
    "            print(f\"BICEPSITEM: {biceps_item}, FIRSTORDERDATE: {first_order_date}\")\n",
    "            \n",
    "        except ET.ParseError as e:\n",
    "            print(f\"Error parsing line: {line.strip()}\")\n",
    "            print(f\"ParseError: {e}\")\n"
   ]
  },
  {
   "cell_type": "code",
   "execution_count": 18,
   "id": "b3c56bd2",
   "metadata": {},
   "outputs": [
    {
     "ename": "ParseError",
     "evalue": "junk after document element: line 2, column 0 (<string>)",
     "output_type": "error",
     "traceback": [
      "Traceback \u001b[1;36m(most recent call last)\u001b[0m:\n",
      "  File \u001b[0;32m\"C:\\Users\\User\\anaconda3\\lib\\site-packages\\IPython\\core\\interactiveshell.py\"\u001b[0m, line \u001b[0;32m3437\u001b[0m, in \u001b[0;35mrun_code\u001b[0m\n    exec(code_obj, self.user_global_ns, self.user_ns)\n",
      "  File \u001b[0;32m\"<ipython-input-18-ed8455b86973>\"\u001b[0m, line \u001b[0;32m4\u001b[0m, in \u001b[0;35m<module>\u001b[0m\n    tree = ET.parse(file_path)\n",
      "  File \u001b[0;32m\"C:\\Users\\User\\anaconda3\\lib\\xml\\etree\\ElementTree.py\"\u001b[0m, line \u001b[0;32m1202\u001b[0m, in \u001b[0;35mparse\u001b[0m\n    tree.parse(source, parser)\n",
      "\u001b[1;36m  File \u001b[1;32m\"C:\\Users\\User\\anaconda3\\lib\\xml\\etree\\ElementTree.py\"\u001b[1;36m, line \u001b[1;32m595\u001b[1;36m, in \u001b[1;35mparse\u001b[1;36m\u001b[0m\n\u001b[1;33m    self._root = parser._parse_whole(source)\u001b[0m\n",
      "\u001b[1;36m  File \u001b[1;32m\"<string>\"\u001b[1;36m, line \u001b[1;32munknown\u001b[0m\n\u001b[1;31mParseError\u001b[0m\u001b[1;31m:\u001b[0m junk after document element: line 2, column 0\n"
     ]
    }
   ],
   "source": [
    "\n",
    "import xml.etree.ElementTree as ET\n",
    "\n",
    "# Parse the XML data\n",
    "tree = ET.parse(file_path)\n",
    "root = tree.getroot()\n",
    "# Now you can work with the XML structure\n",
    "# For example, print the tag and text content of each element\n",
    "for element in root.iter():\n",
    "    print(f\"Tag: {element.tag}, Text: {element.text}\")\n"
   ]
  },
  {
   "cell_type": "code",
   "execution_count": 20,
   "id": "06ba2921",
   "metadata": {},
   "outputs": [
    {
     "name": "stdout",
     "output_type": "stream",
     "text": [
      "<Element 'LIST_COST_MAINT' at 0x0000028EF755EB30>\n",
      "BICEPSITEM: 250473199, FIRSTORDERDATE: 120723\n",
      "<Element 'LIST_COST_MAINT' at 0x0000028EF7583EF0>\n",
      "BICEPSITEM: 250494237, FIRSTORDERDATE: 120723\n"
     ]
    }
   ],
   "source": []
  },
  {
   "cell_type": "code",
   "execution_count": 32,
   "id": "1d12c68b",
   "metadata": {},
   "outputs": [
    {
     "name": "stdout",
     "output_type": "stream",
     "text": [
      "D:\\W\\RELEX\\RELEX\\Future_List_Cost\\Inbound_files\\FUTRLIST.IN07.20231206100039 (Oracle File)\n",
      "['<LIST_COST_MAINT><BICEPSITEM>250473199</BICEPSITEM> <FIRSTORDERDATE>120723</FIRSTORDERDATE> <LASTORDERDATE>010624</LASTORDERDATE> <ITEMLISTFUTURE>00046.1800</ITEMLISTFUTURE> <DATESELLEFF>010724</DATESELLEFF> <DEALMANUFACTURENUMBER>120730106ORA4618</DEALMANUFACTURENUMBER> <LISTCOSTADD></LISTCOSTADD>       <TRANSACTIONID>L120623000000000000001<TRANSACTIONID> </LIST_COST_MAINT>                                                                                                                            \\n', '<LIST_COST_MAINT><BICEPSITEM>250494237</BICEPSITEM> <FIRSTORDERDATE>120723</FIRSTORDERDATE> <LASTORDERDATE>010624</LASTORDERDATE> <ITEMLISTFUTURE>00024.2600</ITEMLISTFUTURE> <DATESELLEFF>010724</DATESELLEFF> <DEALMANUFACTURENUMBER>120730106ORA2426</DEALMANUFACTURENUMBER> <LISTCOSTADD></LISTCOSTADD>       <TRANSACTIONID>L120623000000000000002<TRANSACTIONID> </LIST_COST_MAINT>                                                                                                                            \\n', '<LIST_COST_MAINT><BICEPSITEM>250091739</BICEPSITEM> <FIRSTORDERDATE>030824</FIRSTORDERDATE> <LASTORDERDATE>040724</LASTORDERDATE> <ITEMLISTFUTURE>00014.2000</ITEMLISTFUTURE> <DATESELLEFF>040824</DATESELLEFF> <DEALMANUFACTURENUMBER>030840407ORA1420</DEALMANUFACTURENUMBER> <LISTCOSTADD></LISTCOSTADD>       <TRANSACTIONID>L120623000000000000003<TRANSACTIONID> </LIST_COST_MAINT>                                                                                                                            \\n', '<LIST_COST_MAINT><BICEPSITEM>250952159</BICEPSITEM> <FIRSTORDERDATE>030824</FIRSTORDERDATE> <LASTORDERDATE>040724</LASTORDERDATE> <ITEMLISTFUTURE>00013.5200</ITEMLISTFUTURE> <DATESELLEFF>040824</DATESELLEFF> <DEALMANUFACTURENUMBER>030840407ORA1352</DEALMANUFACTURENUMBER> <LISTCOSTADD></LISTCOSTADD>       <TRANSACTIONID>L120623000000000000004<TRANSACTIONID> </LIST_COST_MAINT>                                                                                                                            \\n', '<LIST_COST_MAINT><BICEPSITEM>250494237</BICEPSITEM> <FIRSTORDERDATE>030824</FIRSTORDERDATE> <LASTORDERDATE>040724</LASTORDERDATE> <ITEMLISTFUTURE>00022.6500</ITEMLISTFUTURE> <DATESELLEFF>040824</DATESELLEFF> <DEALMANUFACTURENUMBER>030840407ORA2265</DEALMANUFACTURENUMBER> <LISTCOSTADD></LISTCOSTADD>       <TRANSACTIONID>L120623000000000000005<TRANSACTIONID> </LIST_COST_MAINT>                                                                                                                            \\n', '<LIST_COST_MAINT><BICEPSITEM>250473199</BICEPSITEM> <FIRSTORDERDATE>030824</FIRSTORDERDATE> <LASTORDERDATE>040724</LASTORDERDATE> <ITEMLISTFUTURE>00040.9300</ITEMLISTFUTURE> <DATESELLEFF>040824</DATESELLEFF> <DEALMANUFACTURENUMBER>030840407ORA4093</DEALMANUFACTURENUMBER> <LISTCOSTADD></LISTCOSTADD>       <TRANSACTIONID>L120623000000000000006<TRANSACTIONID> </LIST_COST_MAINT>                                                                                                                            \\n', '<LIST_COST_MAINT><BICEPSITEM>251582038</BICEPSITEM> <FIRSTORDERDATE>010524</FIRSTORDERDATE> <LASTORDERDATE>020424</LASTORDERDATE> <ITEMLISTFUTURE>00187.2000</ITEMLISTFUTURE> <DATESELLEFF>020524</DATESELLEFF> <DEALMANUFACTURENUMBER>010540204ORA1820</DEALMANUFACTURENUMBER> <LISTCOSTADD></LISTCOSTADD>       <TRANSACTIONID>L120623000000000000007<TRANSACTIONID> </LIST_COST_MAINT>                                                                                                                            \\n', '<LIST_COST_MAINT><BICEPSITEM>251580418</BICEPSITEM> <FIRSTORDERDATE>010524</FIRSTORDERDATE> <LASTORDERDATE>020424</LASTORDERDATE> <ITEMLISTFUTURE>00019.9200</ITEMLISTFUTURE> <DATESELLEFF>020524</DATESELLEFF> <DEALMANUFACTURENUMBER>010540204ORA1992</DEALMANUFACTURENUMBER> <LISTCOSTADD></LISTCOSTADD>       <TRANSACTIONID>L120623000000000000008<TRANSACTIONID> </LIST_COST_MAINT>                                                                                                                            \\n']\n",
      "<LIST_COST_MAINT><BICEPSITEM>250473199</BICEPSITEM> <FIRSTORDERDATE>120723</FIRSTORDERDATE> <LASTORDERDATE>010624</LASTORDERDATE> <ITEMLISTFUTURE>00046.1800</ITEMLISTFUTURE> <DATESELLEFF>010724</DATESELLEFF> <DEALMANUFACTURENUMBER>120730106ORA4618</DEALMANUFACTURENUMBER> <LISTCOSTADD></LISTCOSTADD>       </TRANSACTIONID>L120623000000000000001</TRANSACTIONID> </LIST_COST_MAINT>                                                                                                                            \n",
      "\n",
      "<LIST_COST_MAINT><BICEPSITEM>250494237</BICEPSITEM> <FIRSTORDERDATE>120723</FIRSTORDERDATE> <LASTORDERDATE>010624</LASTORDERDATE> <ITEMLISTFUTURE>00024.2600</ITEMLISTFUTURE> <DATESELLEFF>010724</DATESELLEFF> <DEALMANUFACTURENUMBER>120730106ORA2426</DEALMANUFACTURENUMBER> <LISTCOSTADD></LISTCOSTADD>       </TRANSACTIONID>L120623000000000000002</TRANSACTIONID> </LIST_COST_MAINT>                                                                                                                            \n",
      "\n",
      "<LIST_COST_MAINT><BICEPSITEM>250091739</BICEPSITEM> <FIRSTORDERDATE>030824</FIRSTORDERDATE> <LASTORDERDATE>040724</LASTORDERDATE> <ITEMLISTFUTURE>00014.2000</ITEMLISTFUTURE> <DATESELLEFF>040824</DATESELLEFF> <DEALMANUFACTURENUMBER>030840407ORA1420</DEALMANUFACTURENUMBER> <LISTCOSTADD></LISTCOSTADD>       </TRANSACTIONID>L120623000000000000003</TRANSACTIONID> </LIST_COST_MAINT>                                                                                                                            \n",
      "\n",
      "<LIST_COST_MAINT><BICEPSITEM>250952159</BICEPSITEM> <FIRSTORDERDATE>030824</FIRSTORDERDATE> <LASTORDERDATE>040724</LASTORDERDATE> <ITEMLISTFUTURE>00013.5200</ITEMLISTFUTURE> <DATESELLEFF>040824</DATESELLEFF> <DEALMANUFACTURENUMBER>030840407ORA1352</DEALMANUFACTURENUMBER> <LISTCOSTADD></LISTCOSTADD>       </TRANSACTIONID>L120623000000000000004</TRANSACTIONID> </LIST_COST_MAINT>                                                                                                                            \n",
      "\n",
      "<LIST_COST_MAINT><BICEPSITEM>250494237</BICEPSITEM> <FIRSTORDERDATE>030824</FIRSTORDERDATE> <LASTORDERDATE>040724</LASTORDERDATE> <ITEMLISTFUTURE>00022.6500</ITEMLISTFUTURE> <DATESELLEFF>040824</DATESELLEFF> <DEALMANUFACTURENUMBER>030840407ORA2265</DEALMANUFACTURENUMBER> <LISTCOSTADD></LISTCOSTADD>       </TRANSACTIONID>L120623000000000000005</TRANSACTIONID> </LIST_COST_MAINT>                                                                                                                            \n",
      "\n",
      "<LIST_COST_MAINT><BICEPSITEM>250473199</BICEPSITEM> <FIRSTORDERDATE>030824</FIRSTORDERDATE> <LASTORDERDATE>040724</LASTORDERDATE> <ITEMLISTFUTURE>00040.9300</ITEMLISTFUTURE> <DATESELLEFF>040824</DATESELLEFF> <DEALMANUFACTURENUMBER>030840407ORA4093</DEALMANUFACTURENUMBER> <LISTCOSTADD></LISTCOSTADD>       </TRANSACTIONID>L120623000000000000006</TRANSACTIONID> </LIST_COST_MAINT>                                                                                                                            \n",
      "\n",
      "<LIST_COST_MAINT><BICEPSITEM>251582038</BICEPSITEM> <FIRSTORDERDATE>010524</FIRSTORDERDATE> <LASTORDERDATE>020424</LASTORDERDATE> <ITEMLISTFUTURE>00187.2000</ITEMLISTFUTURE> <DATESELLEFF>020524</DATESELLEFF> <DEALMANUFACTURENUMBER>010540204ORA1820</DEALMANUFACTURENUMBER> <LISTCOSTADD></LISTCOSTADD>       </TRANSACTIONID>L120623000000000000007</TRANSACTIONID> </LIST_COST_MAINT>                                                                                                                            \n",
      "\n",
      "<LIST_COST_MAINT><BICEPSITEM>251580418</BICEPSITEM> <FIRSTORDERDATE>010524</FIRSTORDERDATE> <LASTORDERDATE>020424</LASTORDERDATE> <ITEMLISTFUTURE>00019.9200</ITEMLISTFUTURE> <DATESELLEFF>020524</DATESELLEFF> <DEALMANUFACTURENUMBER>010540204ORA1992</DEALMANUFACTURENUMBER> <LISTCOSTADD></LISTCOSTADD>       </TRANSACTIONID>L120623000000000000008</TRANSACTIONID> </LIST_COST_MAINT>                                                                                                                            \n",
      "\n"
     ]
    }
   ],
   "source": [
    "# Define the root directory path\n",
    "root_directory = f'D:\\W\\RELEX\\RELEX\\Future_List_Cost\\Inbound_files'\n",
    "\n",
    "# Specify the file name\n",
    "file_name = f'FUTRLIST.IN07.20231206100039 (Oracle File)'\n",
    "# file_name = 'future.xml'\n",
    "# Join the root directory path and the file name\n",
    "file_path = os.path.join(root_directory, file_name)\n",
    "print(file_path)\n",
    "with open(file_path, 'r', encoding='utf-8') as file:\n",
    "    lines = file.readlines()\n",
    "print(lines)\n",
    "for line in lines:\n",
    "#     print(line)\n",
    "    corrected_line = line.replace(\"<TRANSACTIONID>\", \"</TRANSACTIONID>\")\n",
    "    print(corrected_line)\n"
   ]
  },
  {
   "cell_type": "code",
   "execution_count": 34,
   "id": "f775bc8d",
   "metadata": {},
   "outputs": [
    {
     "data": {
      "text/plain": [
       "'</TRANSACTIONID>L120623000000000000001</TRANSACTIONID>'"
      ]
     },
     "execution_count": 34,
     "metadata": {},
     "output_type": "execute_result"
    }
   ],
   "source": [
    "strd = \"\"\"<TRANSACTIONID>L120623000000000000001<TRANSACTIONID>\"\"\"\n",
    "corrected_line = strd.replace(\"<TRANSACTIONID>\", \"</TRANSACTIONID>\")\n",
    "corrected_line"
   ]
  },
  {
   "cell_type": "code",
   "execution_count": 36,
   "id": "23fc3d2c",
   "metadata": {},
   "outputs": [
    {
     "name": "stdout",
     "output_type": "stream",
     "text": [
      "</TRANSACTIONID>L120623000000000000001</TRANSACTIONID>\n"
     ]
    }
   ],
   "source": [
    "strd = \"\"\"<TRANSACTIONID>L120623000000000000001<TRANSACTIONID>\"\"\"\n",
    "\n",
    "# Replace only the second occurrence of <TRANSACTIONID>\n",
    "corrected_line = strd.replace(\"<TRANSACTIONID>\", \"</TRANSACTIONID>\", 2)\n",
    "\n",
    "print(corrected_line)\n"
   ]
  },
  {
   "cell_type": "code",
   "execution_count": 37,
   "id": "177d49c4",
   "metadata": {},
   "outputs": [
    {
     "name": "stdout",
     "output_type": "stream",
     "text": [
      "<TRANSACTIONID>L120623000000000000001</TRANSACTIONID>\n"
     ]
    }
   ],
   "source": [
    "strd = \"\"\"<TRANSACTIONID>L120623000000000000001<TRANSACTIONID>\"\"\"\n",
    "\n",
    "# Find the index of the second occurrence of <TRANSACTIONID>\n",
    "second_occurrence_index = strd.find(\"<TRANSACTIONID>\", strd.find(\"<TRANSACTIONID>\") + 1)\n",
    "\n",
    "# Replace only the second occurrence of <TRANSACTIONID>\n",
    "corrected_line = strd[:second_occurrence_index] + \"</TRANSACTIONID>\" + strd[second_occurrence_index + len(\"<TRANSACTIONID>\"):]\n",
    "\n",
    "print(corrected_line)\n"
   ]
  },
  {
   "cell_type": "code",
   "execution_count": 13,
   "id": "0146444e",
   "metadata": {},
   "outputs": [
    {
     "ename": "FileNotFoundError",
     "evalue": "[Errno 2] No such file or directory: 'future.xml'",
     "output_type": "error",
     "traceback": [
      "\u001b[1;31m---------------------------------------------------------------------------\u001b[0m",
      "\u001b[1;31mFileNotFoundError\u001b[0m                         Traceback (most recent call last)",
      "\u001b[1;32m<ipython-input-13-5c0d6706367f>\u001b[0m in \u001b[0;36m<module>\u001b[1;34m\u001b[0m\n\u001b[1;32m----> 1\u001b[1;33m \u001b[1;32mwith\u001b[0m \u001b[0mopen\u001b[0m\u001b[1;33m(\u001b[0m\u001b[1;34m'future.xml'\u001b[0m\u001b[1;33m,\u001b[0m \u001b[1;34m'r'\u001b[0m\u001b[1;33m,\u001b[0m \u001b[0mencoding\u001b[0m\u001b[1;33m=\u001b[0m\u001b[1;34m'utf-8'\u001b[0m\u001b[1;33m)\u001b[0m \u001b[1;32mas\u001b[0m \u001b[0mfile\u001b[0m\u001b[1;33m:\u001b[0m\u001b[1;33m\u001b[0m\u001b[1;33m\u001b[0m\u001b[0m\n\u001b[0m\u001b[0;32m      2\u001b[0m     \u001b[0mlines\u001b[0m \u001b[1;33m=\u001b[0m \u001b[0mfile\u001b[0m\u001b[1;33m.\u001b[0m\u001b[0mreadlines\u001b[0m\u001b[1;33m(\u001b[0m\u001b[1;33m)\u001b[0m\u001b[1;33m\u001b[0m\u001b[1;33m\u001b[0m\u001b[0m\n\u001b[0;32m      3\u001b[0m \u001b[1;33m\u001b[0m\u001b[0m\n\u001b[0;32m      4\u001b[0m \u001b[0mlines\u001b[0m\u001b[1;33m\u001b[0m\u001b[1;33m\u001b[0m\u001b[0m\n",
      "\u001b[1;31mFileNotFoundError\u001b[0m: [Errno 2] No such file or directory: 'future.xml'"
     ]
    }
   ],
   "source": [
    "with open('future.xml', 'r', encoding='utf-8') as file:\n",
    "    lines = file.readlines()\n",
    "\n",
    "lines"
   ]
  }
 ],
 "metadata": {
  "kernelspec": {
   "display_name": "Python 3",
   "language": "python",
   "name": "python3"
  },
  "language_info": {
   "codemirror_mode": {
    "name": "ipython",
    "version": 3
   },
   "file_extension": ".py",
   "mimetype": "text/x-python",
   "name": "python",
   "nbconvert_exporter": "python",
   "pygments_lexer": "ipython3",
   "version": "3.8.8"
  }
 },
 "nbformat": 4,
 "nbformat_minor": 5
}
