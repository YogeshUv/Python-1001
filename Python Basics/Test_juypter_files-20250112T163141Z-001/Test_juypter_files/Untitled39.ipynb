{
 "cells": [
  {
   "cell_type": "code",
   "execution_count": 4,
   "id": "7598c336",
   "metadata": {},
   "outputs": [
    {
     "name": "stdout",
     "output_type": "stream",
     "text": [
      "Day 31 Yogi's Weight : 2024-01-31: 68.5 KGs\n",
      "Day 32 Yogi's Weight : 2024-02-01: 68.6 KGs\n",
      "Day 33 Yogi's Weight : 2024-02-02: 68.7 KGs\n",
      "Day 34 Yogi's Weight : 2024-02-03: 68.8 KGs\n",
      "Day 35 Yogi's Weight : 2024-02-04: 68.9 KGs\n",
      "Day 36 Yogi's Weight : 2024-02-05: 69.0 KGs\n",
      "Day 37 Yogi's Weight : 2024-02-06: 69.1 KGs\n",
      "Day 38 Yogi's Weight : 2024-02-07: 69.2 KGs\n",
      "Day 39 Yogi's Weight : 2024-02-08: 69.3 KGs\n",
      "Day 40 Yogi's Weight : 2024-02-09: 69.4 KGs\n",
      "Day 41 Yogi's Weight : 2024-02-10: 69.5 KGs\n",
      "Day 42 Yogi's Weight : 2024-02-11: 69.6 KGs\n",
      "Day 43 Yogi's Weight : 2024-02-12: 69.7 KGs\n",
      "Day 44 Yogi's Weight : 2024-02-13: 69.8 KGs\n",
      "Day 45 Yogi's Weight : 2024-02-14: 69.9 KGs\n",
      "Day 46 Yogi's Weight : 2024-02-15: 70.0 KGs\n",
      "Day 47 Yogi's Weight : 2024-02-16: 70.1 KGs\n",
      "Day 48 Yogi's Weight : 2024-02-17: 70.2 KGs\n",
      "Day 49 Yogi's Weight : 2024-02-18: 70.3 KGs\n",
      "Day 50 Yogi's Weight : 2024-02-19: 70.4 KGs\n",
      "Day 51 Yogi's Weight : 2024-02-20: 70.5 KGs\n",
      "Day 52 Yogi's Weight : 2024-02-21: 70.6 KGs\n",
      "Day 53 Yogi's Weight : 2024-02-22: 70.7 KGs\n",
      "Day 54 Yogi's Weight : 2024-02-23: 70.8 KGs\n",
      "Day 55 Yogi's Weight : 2024-02-24: 70.9 KGs\n",
      "Day 56 Yogi's Weight : 2024-02-25: 71.0 KGs\n",
      "Day 57 Yogi's Weight : 2024-02-26: 71.1 KGs\n",
      "Day 58 Yogi's Weight : 2024-02-27: 71.2 KGs\n",
      "Day 59 Yogi's Weight : 2024-02-28: 71.3 KGs\n",
      "Day 60 Yogi's Weight : 2024-02-29: 71.4 KGs\n",
      "Day 61 Yogi's Weight : 2024-03-01: 71.5 KGs\n",
      "Day 62 Yogi's Weight : 2024-03-02: 71.6 KGs\n",
      "Day 63 Yogi's Weight : 2024-03-03: 71.7 KGs\n",
      "Day 64 Yogi's Weight : 2024-03-04: 71.8 KGs\n",
      "Day 65 Yogi's Weight : 2024-03-05: 71.9 KGs\n",
      "Day 66 Yogi's Weight : 2024-03-06: 72.0 KGs\n",
      "Day 67 Yogi's Weight : 2024-03-07: 72.1 KGs\n",
      "Day 68 Yogi's Weight : 2024-03-08: 72.2 KGs\n",
      "Day 69 Yogi's Weight : 2024-03-09: 72.3 KGs\n",
      "Day 70 Yogi's Weight : 2024-03-10: 72.4 KGs\n",
      "Day 71 Yogi's Weight : 2024-03-11: 72.5 KGs\n",
      "Day 72 Yogi's Weight : 2024-03-12: 72.6 KGs\n",
      "Day 73 Yogi's Weight : 2024-03-13: 72.7 KGs\n",
      "Day 74 Yogi's Weight : 2024-03-14: 72.8 KGs\n",
      "Day 75 Yogi's Weight : 2024-03-15: 72.9 KGs\n",
      "Day 76 Yogi's Weight : 2024-03-16: 73.0 KGs\n",
      "Day 77 Yogi's Weight : 2024-03-17: 73.1 KGs\n",
      "Day 78 Yogi's Weight : 2024-03-18: 73.2 KGs\n",
      "Day 79 Yogi's Weight : 2024-03-19: 73.3 KGs\n",
      "Day 80 Yogi's Weight : 2024-03-20: 73.4 KGs\n",
      "Day 81 Yogi's Weight : 2024-03-21: 73.5 KGs\n",
      "Day 82 Yogi's Weight : 2024-03-22: 73.6 KGs\n",
      "Day 83 Yogi's Weight : 2024-03-23: 73.7 KGs\n",
      "Day 84 Yogi's Weight : 2024-03-24: 73.8 KGs\n",
      "Day 85 Yogi's Weight : 2024-03-25: 73.9 KGs\n",
      "Day 86 Yogi's Weight : 2024-03-26: 74.0 KGs\n",
      "Day 87 Yogi's Weight : 2024-03-27: 74.1 KGs\n",
      "Day 88 Yogi's Weight : 2024-03-28: 74.2 KGs\n",
      "Day 89 Yogi's Weight : 2024-03-29: 74.3 KGs\n",
      "Day 90 Yogi's Weight : 2024-03-30: 74.4 KGs\n",
      "Day 91 Yogi's Weight : 2024-03-31: 74.5 KGs\n",
      "Day 92 Yogi's Weight : 2024-04-01: 74.6 KGs\n",
      "Day 93 Yogi's Weight : 2024-04-02: 74.7 KGs\n",
      "Day 94 Yogi's Weight : 2024-04-03: 74.8 KGs\n",
      "Day 95 Yogi's Weight : 2024-04-04: 74.9 KGs\n",
      "Day 96 Yogi's Weight : 2024-04-05: 75.0 KGs\n",
      "Day 97 Yogi's Weight : 2024-04-06: 75.1 KGs\n",
      "Day 98 Yogi's Weight : 2024-04-07: 75.2 KGs\n",
      "Day 99 Yogi's Weight : 2024-04-08: 75.3 KGs\n"
     ]
    }
   ],
   "source": [
    "import datetime\n",
    "\n",
    "# Define the initial date and weight\n",
    "start_date = datetime.date(2024, 1, 1)\n",
    "current_weight = 68.4  # Replace with the last known weight\n",
    "\n",
    "# Generate weights for the next 10 days\n",
    "for day in range(31, 100):\n",
    "    next_date = start_date + datetime.timedelta(days=day - 1)\n",
    "    current_weight += 0.1  # Increase weight by 0.1 kg each day\n",
    "    print(f\"Day {day} Yogi's Weight : {next_date}: {current_weight:.1f} KGs\")\n"
   ]
  },
  {
   "cell_type": "code",
   "execution_count": 13,
   "id": "3cd13082",
   "metadata": {},
   "outputs": [
    {
     "name": "stdout",
     "output_type": "stream",
     "text": [
      "         Date  Weight_x  Height  Weight_y\n",
      "0  2023-09-19      65.5     170       NaN\n",
      "1  2023-09-20      65.6     171       NaN\n",
      "2  2023-09-21      65.7     172       NaN\n"
     ]
    }
   ],
   "source": [
    "import pandas as pd\n",
    "\n",
    "# Assuming df1 and df2 are your DataFrames\n",
    "df1 = pd.DataFrame({\n",
    "    'Date': ['2023-09-19', '2023-09-20', '2023-09-21'],\n",
    "    'Weight': [65.5, 65.6, 65.7],\n",
    "    'Height': [170, 171, 172]\n",
    "})\n",
    "\n",
    "df2 = pd.DataFrame({\n",
    "    'Date': ['2023-09-22', '2023-09-23', '2023-09-24'],\n",
    "    'Weight': [65.8, 65.9, 66.0]\n",
    "})\n",
    "\n",
    "# Merge DataFrames based on the 'Date' column\n",
    "result_df = pd.merge(df1, df2[['Date', 'Weight']], on='Date', how='left')\n",
    "\n",
    "# Display the result\n",
    "print(result_df)\n"
   ]
  },
  {
   "cell_type": "code",
   "execution_count": null,
   "id": "9cb3c92d",
   "metadata": {},
   "outputs": [],
   "source": []
  }
 ],
 "metadata": {
  "kernelspec": {
   "display_name": "Python 3",
   "language": "python",
   "name": "python3"
  },
  "language_info": {
   "codemirror_mode": {
    "name": "ipython",
    "version": 3
   },
   "file_extension": ".py",
   "mimetype": "text/x-python",
   "name": "python",
   "nbconvert_exporter": "python",
   "pygments_lexer": "ipython3",
   "version": "3.8.8"
  }
 },
 "nbformat": 4,
 "nbformat_minor": 5
}
