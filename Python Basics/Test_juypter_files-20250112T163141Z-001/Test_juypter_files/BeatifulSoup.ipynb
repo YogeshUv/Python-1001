{
 "cells": [
  {
   "cell_type": "code",
   "execution_count": null,
   "id": "5d68d876",
   "metadata": {},
   "outputs": [],
   "source": [
    "pip install requests beautifulsoup4 pillow\n"
   ]
  },
  {
   "cell_type": "code",
   "execution_count": null,
   "id": "e6034ad2",
   "metadata": {},
   "outputs": [],
   "source": [
    "pip install --upgrade pip"
   ]
  },
  {
   "cell_type": "code",
   "execution_count": null,
   "id": "b1d6ffa8",
   "metadata": {},
   "outputs": [],
   "source": [
    "import requests\n",
    "from bs4 import BeautifulSoup\n",
    "from PIL import Image\n",
    "from io import BytesIO\n",
    "from urllib.parse import urljoin  # Import urljoin function\n",
    "\n",
    "def fetch_and_display_image(keyword):\n",
    "    # Set the Google search URL with the keyword\n",
    "    search_url = f\"https://www.google.com/search?q={keyword}&tbm=isch\"\n",
    "\n",
    "    # Send an HTTP GET request to Google Images\n",
    "    response = requests.get(search_url)\n",
    "\n",
    "    # Parse the HTML content of the response\n",
    "    soup = BeautifulSoup(response.text, 'html.parser')\n",
    "\n",
    "    # Find the first image in the search results\n",
    "    img_tags = soup.find_all('img')\n",
    "    if img_tags:\n",
    "        first_img_url = img_tags[0]['src']\n",
    "\n",
    "        # Check if the URL is relative and construct the complete URL\n",
    "        if not first_img_url.startswith('http'):\n",
    "            first_img_url = urljoin(search_url, first_img_url)\n",
    "    else:\n",
    "        print(\"No images found for the given keyword.\")\n",
    "        return\n",
    "\n",
    "    # Send an HTTP GET request to the image URL\n",
    "    img_response = requests.get(first_img_url)\n",
    "\n",
    "    # Open the image using Pillow\n",
    "    img = Image.open(BytesIO(img_response.content))\n",
    "\n",
    "    # Display the image\n",
    "    img.show()\n",
    "\n",
    "if __name__ == \"__main__\":\n",
    "    keyword = input(\"Enter a keyword to search for an image: \")\n",
    "    fetch_and_display_image(keyword)\n"
   ]
  },
  {
   "cell_type": "code",
   "execution_count": null,
   "id": "724c19b2",
   "metadata": {},
   "outputs": [],
   "source": [
    "pip install googlesearch-python"
   ]
  },
  {
   "cell_type": "code",
   "execution_count": 1,
   "id": "ad93389c",
   "metadata": {},
   "outputs": [
    {
     "name": "stdout",
     "output_type": "stream",
     "text": [
      "Enter a keyword to search for an image: cat\n"
     ]
    },
    {
     "ename": "TypeError",
     "evalue": "search() got an unexpected keyword argument 'stop'",
     "output_type": "error",
     "traceback": [
      "\u001b[1;31m---------------------------------------------------------------------------\u001b[0m",
      "\u001b[1;31mTypeError\u001b[0m                                 Traceback (most recent call last)",
      "\u001b[1;32m<ipython-input-1-86d65d711a5f>\u001b[0m in \u001b[0;36m<module>\u001b[1;34m\u001b[0m\n\u001b[0;32m     30\u001b[0m \u001b[1;32mif\u001b[0m \u001b[0m__name__\u001b[0m \u001b[1;33m==\u001b[0m \u001b[1;34m\"__main__\"\u001b[0m\u001b[1;33m:\u001b[0m\u001b[1;33m\u001b[0m\u001b[1;33m\u001b[0m\u001b[0m\n\u001b[0;32m     31\u001b[0m     \u001b[0mkeyword\u001b[0m \u001b[1;33m=\u001b[0m \u001b[0minput\u001b[0m\u001b[1;33m(\u001b[0m\u001b[1;34m\"Enter a keyword to search for an image: \"\u001b[0m\u001b[1;33m)\u001b[0m\u001b[1;33m\u001b[0m\u001b[1;33m\u001b[0m\u001b[0m\n\u001b[1;32m---> 32\u001b[1;33m     \u001b[0mfetch_and_display_image\u001b[0m\u001b[1;33m(\u001b[0m\u001b[0mkeyword\u001b[0m\u001b[1;33m)\u001b[0m\u001b[1;33m\u001b[0m\u001b[1;33m\u001b[0m\u001b[0m\n\u001b[0m",
      "\u001b[1;32m<ipython-input-1-86d65d711a5f>\u001b[0m in \u001b[0;36mfetch_and_display_image\u001b[1;34m(keyword)\u001b[0m\n\u001b[0;32m      9\u001b[0m \u001b[1;33m\u001b[0m\u001b[0m\n\u001b[0;32m     10\u001b[0m     \u001b[1;31m# Perform a Google search for the keyword and get the URLs\u001b[0m\u001b[1;33m\u001b[0m\u001b[1;33m\u001b[0m\u001b[1;33m\u001b[0m\u001b[0m\n\u001b[1;32m---> 11\u001b[1;33m     \u001b[0msearch_results\u001b[0m \u001b[1;33m=\u001b[0m \u001b[0msearch\u001b[0m\u001b[1;33m(\u001b[0m\u001b[0mkeyword\u001b[0m\u001b[1;33m,\u001b[0m \u001b[0mnum_results\u001b[0m\u001b[1;33m=\u001b[0m\u001b[0mnum_results\u001b[0m\u001b[1;33m,\u001b[0m \u001b[0mstop\u001b[0m\u001b[1;33m=\u001b[0m\u001b[0mnum_results\u001b[0m\u001b[1;33m)\u001b[0m\u001b[1;33m\u001b[0m\u001b[1;33m\u001b[0m\u001b[0m\n\u001b[0m\u001b[0;32m     12\u001b[0m \u001b[1;33m\u001b[0m\u001b[0m\n\u001b[0;32m     13\u001b[0m     \u001b[1;31m# Check if any search results were found\u001b[0m\u001b[1;33m\u001b[0m\u001b[1;33m\u001b[0m\u001b[1;33m\u001b[0m\u001b[0m\n",
      "\u001b[1;31mTypeError\u001b[0m: search() got an unexpected keyword argument 'stop'"
     ]
    }
   ],
   "source": [
    "from googlesearch import search\n",
    "import requests\n",
    "from PIL import Image\n",
    "from io import BytesIO\n",
    "\n",
    "def fetch_and_display_image(keyword):\n",
    "    # Set the number of results you want (1 in this case)\n",
    "    num_results = 1\n",
    "\n",
    "    # Perform a Google search for the keyword and get the URLs\n",
    "    search_results = search(keyword, num_results=num_results, stop=num_results)\n",
    "\n",
    "    # Check if any search results were found\n",
    "    if not search_results:\n",
    "        print(\"No images found for the given keyword.\")\n",
    "        return\n",
    "\n",
    "    # Get the first result URL\n",
    "    first_img_url = next(iter(search_results))\n",
    "\n",
    "    # Send an HTTP GET request to the image URL\n",
    "    img_response = requests.get(first_img_url)\n",
    "\n",
    "    # Open the image using Pillow\n",
    "    img = Image.open(BytesIO(img_response.content))\n",
    "\n",
    "    # Display the image\n",
    "    img.show()\n",
    "\n",
    "if __name__ == \"__main__\":\n",
    "    keyword = input(\"Enter a keyword to search for an image: \")\n",
    "    fetch_and_display_image(keyword)\n"
   ]
  },
  {
   "cell_type": "code",
   "execution_count": 2,
   "id": "c5289ce8",
   "metadata": {},
   "outputs": [
    {
     "name": "stdout",
     "output_type": "stream",
     "text": [
      "Enter a keyword to search for an image: cat\n"
     ]
    },
    {
     "ename": "UnidentifiedImageError",
     "evalue": "cannot identify image file <_io.BytesIO object at 0x000001EA952724F0>",
     "output_type": "error",
     "traceback": [
      "\u001b[1;31m---------------------------------------------------------------------------\u001b[0m",
      "\u001b[1;31mUnidentifiedImageError\u001b[0m                    Traceback (most recent call last)",
      "\u001b[1;32m<ipython-input-2-81b69fb78e75>\u001b[0m in \u001b[0;36m<module>\u001b[1;34m\u001b[0m\n\u001b[0;32m     27\u001b[0m \u001b[1;32mif\u001b[0m \u001b[0m__name__\u001b[0m \u001b[1;33m==\u001b[0m \u001b[1;34m\"__main__\"\u001b[0m\u001b[1;33m:\u001b[0m\u001b[1;33m\u001b[0m\u001b[1;33m\u001b[0m\u001b[0m\n\u001b[0;32m     28\u001b[0m     \u001b[0mkeyword\u001b[0m \u001b[1;33m=\u001b[0m \u001b[0minput\u001b[0m\u001b[1;33m(\u001b[0m\u001b[1;34m\"Enter a keyword to search for an image: \"\u001b[0m\u001b[1;33m)\u001b[0m\u001b[1;33m\u001b[0m\u001b[1;33m\u001b[0m\u001b[0m\n\u001b[1;32m---> 29\u001b[1;33m     \u001b[0mfetch_and_display_image\u001b[0m\u001b[1;33m(\u001b[0m\u001b[0mkeyword\u001b[0m\u001b[1;33m)\u001b[0m\u001b[1;33m\u001b[0m\u001b[1;33m\u001b[0m\u001b[0m\n\u001b[0m",
      "\u001b[1;32m<ipython-input-2-81b69fb78e75>\u001b[0m in \u001b[0;36mfetch_and_display_image\u001b[1;34m(keyword, num_results)\u001b[0m\n\u001b[0;32m     20\u001b[0m \u001b[1;33m\u001b[0m\u001b[0m\n\u001b[0;32m     21\u001b[0m     \u001b[1;31m# Open the image using Pillow\u001b[0m\u001b[1;33m\u001b[0m\u001b[1;33m\u001b[0m\u001b[1;33m\u001b[0m\u001b[0m\n\u001b[1;32m---> 22\u001b[1;33m     \u001b[0mimg\u001b[0m \u001b[1;33m=\u001b[0m \u001b[0mImage\u001b[0m\u001b[1;33m.\u001b[0m\u001b[0mopen\u001b[0m\u001b[1;33m(\u001b[0m\u001b[0mBytesIO\u001b[0m\u001b[1;33m(\u001b[0m\u001b[0mimg_response\u001b[0m\u001b[1;33m.\u001b[0m\u001b[0mcontent\u001b[0m\u001b[1;33m)\u001b[0m\u001b[1;33m)\u001b[0m\u001b[1;33m\u001b[0m\u001b[1;33m\u001b[0m\u001b[0m\n\u001b[0m\u001b[0;32m     23\u001b[0m \u001b[1;33m\u001b[0m\u001b[0m\n\u001b[0;32m     24\u001b[0m     \u001b[1;31m# Display the image\u001b[0m\u001b[1;33m\u001b[0m\u001b[1;33m\u001b[0m\u001b[1;33m\u001b[0m\u001b[0m\n",
      "\u001b[1;32m~\\anaconda3\\lib\\site-packages\\PIL\\Image.py\u001b[0m in \u001b[0;36mopen\u001b[1;34m(fp, mode, formats)\u001b[0m\n\u001b[0;32m   2965\u001b[0m     \u001b[1;32mfor\u001b[0m \u001b[0mmessage\u001b[0m \u001b[1;32min\u001b[0m \u001b[0maccept_warnings\u001b[0m\u001b[1;33m:\u001b[0m\u001b[1;33m\u001b[0m\u001b[1;33m\u001b[0m\u001b[0m\n\u001b[0;32m   2966\u001b[0m         \u001b[0mwarnings\u001b[0m\u001b[1;33m.\u001b[0m\u001b[0mwarn\u001b[0m\u001b[1;33m(\u001b[0m\u001b[0mmessage\u001b[0m\u001b[1;33m)\u001b[0m\u001b[1;33m\u001b[0m\u001b[1;33m\u001b[0m\u001b[0m\n\u001b[1;32m-> 2967\u001b[1;33m     raise UnidentifiedImageError(\n\u001b[0m\u001b[0;32m   2968\u001b[0m         \u001b[1;34m\"cannot identify image file %r\"\u001b[0m \u001b[1;33m%\u001b[0m \u001b[1;33m(\u001b[0m\u001b[0mfilename\u001b[0m \u001b[1;32mif\u001b[0m \u001b[0mfilename\u001b[0m \u001b[1;32melse\u001b[0m \u001b[0mfp\u001b[0m\u001b[1;33m)\u001b[0m\u001b[1;33m\u001b[0m\u001b[1;33m\u001b[0m\u001b[0m\n\u001b[0;32m   2969\u001b[0m     )\n",
      "\u001b[1;31mUnidentifiedImageError\u001b[0m: cannot identify image file <_io.BytesIO object at 0x000001EA952724F0>"
     ]
    }
   ],
   "source": [
    "from googlesearch import search\n",
    "import requests\n",
    "from PIL import Image\n",
    "from io import BytesIO\n",
    "\n",
    "def fetch_and_display_image(keyword, num_results=1):\n",
    "    # Perform a Google search for the keyword and get the URLs\n",
    "    search_results = search(keyword, num_results=num_results)\n",
    "\n",
    "    # Check if any search results were found\n",
    "    if not search_results:\n",
    "        print(\"No images found for the given keyword.\")\n",
    "        return\n",
    "\n",
    "    # Get the first result URL\n",
    "    first_img_url = next(iter(search_results))\n",
    "\n",
    "    # Send an HTTP GET request to the image URL\n",
    "    img_response = requests.get(first_img_url)\n",
    "\n",
    "    # Open the image using Pillow\n",
    "    img = Image.open(BytesIO(img_response.content))\n",
    "\n",
    "    # Display the image\n",
    "    img.show()\n",
    "\n",
    "if __name__ == \"__main__\":\n",
    "    keyword = input(\"Enter a keyword to search for an image: \")\n",
    "    fetch_and_display_image(keyword)\n"
   ]
  },
  {
   "cell_type": "code",
   "execution_count": 3,
   "id": "57754118",
   "metadata": {},
   "outputs": [
    {
     "name": "stdout",
     "output_type": "stream",
     "text": [
      "Enter a keyword to search for an image: cat\n",
      "Error occurred: cannot identify image file <_io.BytesIO object at 0x000001EA9554ED10>\n"
     ]
    }
   ],
   "source": [
    "from googlesearch import search\n",
    "import requests\n",
    "from PIL import Image\n",
    "from io import BytesIO\n",
    "\n",
    "def fetch_and_display_image(keyword, num_results=1):\n",
    "    # Perform a Google search for the keyword and get the URLs\n",
    "    search_results = search(keyword, num_results=num_results)\n",
    "\n",
    "    # Check if any search results were found\n",
    "    if not search_results:\n",
    "        print(\"No images found for the given keyword.\")\n",
    "        return\n",
    "\n",
    "    # Get the first result URL\n",
    "    first_img_url = next(iter(search_results))\n",
    "\n",
    "    try:\n",
    "        # Send an HTTP GET request to the image URL\n",
    "        img_response = requests.get(first_img_url)\n",
    "        img_response.raise_for_status()  # Check for any request errors\n",
    "\n",
    "        # Check if the content is a valid image\n",
    "        img = Image.open(BytesIO(img_response.content))\n",
    "        img.show()\n",
    "    except requests.exceptions.HTTPError as http_err:\n",
    "        print(f\"HTTP error occurred: {http_err}\")\n",
    "    except Exception as err:\n",
    "        print(f\"Error occurred: {err}\")\n",
    "\n",
    "if __name__ == \"__main__\":\n",
    "    keyword = input(\"Enter a keyword to search for an image: \")\n",
    "    fetch_and_display_image(keyword)\n"
   ]
  },
  {
   "cell_type": "code",
   "execution_count": 4,
   "id": "47128b08",
   "metadata": {},
   "outputs": [
    {
     "name": "stdout",
     "output_type": "stream",
     "text": [
      "Enter a keyword to search for an image: cat\n",
      "The fetched content is not a valid image.\n"
     ]
    }
   ],
   "source": [
    "from googlesearch import search\n",
    "import requests\n",
    "from PIL import Image\n",
    "from io import BytesIO\n",
    "\n",
    "def fetch_and_display_image(keyword, num_results=1):\n",
    "    # Perform a Google search for the keyword and get the URLs\n",
    "    search_results = search(keyword, num_results=num_results)\n",
    "\n",
    "    # Check if any search results were found\n",
    "    if not search_results:\n",
    "        print(\"No images found for the given keyword.\")\n",
    "        return\n",
    "\n",
    "    # Get the first result URL\n",
    "    first_img_url = next(iter(search_results))\n",
    "\n",
    "    try:\n",
    "        # Send an HTTP GET request to the image URL\n",
    "        img_response = requests.get(first_img_url)\n",
    "        img_response.raise_for_status()  # Check for any request errors\n",
    "\n",
    "        # Check if the content is a valid image (based on content type)\n",
    "        if img_response.headers.get('content-type', '').startswith('image'):\n",
    "            # Open the image using Pillow\n",
    "            img = Image.open(BytesIO(img_response.content))\n",
    "            img.show()\n",
    "        else:\n",
    "            print(\"The fetched content is not a valid image.\")\n",
    "    except requests.exceptions.HTTPError as http_err:\n",
    "        print(f\"HTTP error occurred: {http_err}\")\n",
    "    except Exception as err:\n",
    "        print(f\"Error occurred: {err}\")\n",
    "\n",
    "if __name__ == \"__main__\":\n",
    "    keyword = input(\"Enter a keyword to search for an image: \")\n",
    "    fetch_and_display_image(keyword)\n"
   ]
  },
  {
   "cell_type": "code",
   "execution_count": 5,
   "id": "743789ef",
   "metadata": {},
   "outputs": [
    {
     "name": "stdout",
     "output_type": "stream",
     "text": [
      "Enter a keyword to search for an image: cat\n",
      "No valid image links found for the given keyword.\n"
     ]
    }
   ],
   "source": [
    "from googlesearch import search\n",
    "import requests\n",
    "from PIL import Image\n",
    "from io import BytesIO\n",
    "from urllib.parse import urlparse\n",
    "\n",
    "def fetch_and_display_image(keyword, num_results=10):\n",
    "    # Perform a Google search for the keyword and get the URLs\n",
    "    search_results = search(keyword, num_results=num_results)\n",
    "\n",
    "    # Check if any search results were found\n",
    "    if not search_results:\n",
    "        print(\"No images found for the given keyword.\")\n",
    "        return\n",
    "\n",
    "    # Find the first result that appears to be an image link\n",
    "    for result in search_results:\n",
    "        if result.endswith(('.jpg', '.jpeg', '.png', '.gif', '.bmp', '.webp')):\n",
    "            img_url = result\n",
    "            break\n",
    "    else:\n",
    "        print(\"No valid image links found for the given keyword.\")\n",
    "        return\n",
    "\n",
    "    try:\n",
    "        # Send an HTTP GET request to the image URL\n",
    "        img_response = requests.get(img_url)\n",
    "        img_response.raise_for_status()  # Check for any request errors\n",
    "\n",
    "        # Open the image using Pillow\n",
    "        img = Image.open(BytesIO(img_response.content))\n",
    "        img.show()\n",
    "    except requests.exceptions.HTTPError as http_err:\n",
    "        print(f\"HTTP error occurred: {http_err}\")\n",
    "    except Exception as err:\n",
    "        print(f\"Error occurred: {err}\")\n",
    "\n",
    "if __name__ == \"__main__\":\n",
    "    keyword = input(\"Enter a keyword to search for an image: \")\n",
    "    fetch_and_display_image(keyword)\n"
   ]
  },
  {
   "cell_type": "code",
   "execution_count": 6,
   "id": "4d319c24",
   "metadata": {},
   "outputs": [
    {
     "name": "stdout",
     "output_type": "stream",
     "text": [
      "Collecting google_images_download\n",
      "  Downloading google_images_download-2.8.0.tar.gz (14 kB)\n",
      "  Preparing metadata (setup.py): started\n",
      "  Preparing metadata (setup.py): finished with status 'done'\n",
      "Collecting selenium (from google_images_download)\n",
      "  Obtaining dependency information for selenium from https://files.pythonhosted.org/packages/55/56/faf2aa238a0a8fbb7d5c11345a0f5e96358b7a3e144ba17b8b1c64f0b19a/selenium-4.13.0-py3-none-any.whl.metadata\n",
      "  Downloading selenium-4.13.0-py3-none-any.whl.metadata (6.9 kB)\n",
      "Requirement already satisfied: urllib3[socks]<3,>=1.26 in c:\\users\\user\\anaconda3\\lib\\site-packages (from selenium->google_images_download) (1.26.4)\n",
      "Collecting trio~=0.17 (from selenium->google_images_download)\n",
      "  Obtaining dependency information for trio~=0.17 from https://files.pythonhosted.org/packages/a3/dd/b61fa61b186d3267ef3903048fbee29132963ae762fb70b08d4a3cd6f7aa/trio-0.22.2-py3-none-any.whl.metadata\n",
      "  Downloading trio-0.22.2-py3-none-any.whl.metadata (4.7 kB)\n",
      "Collecting trio-websocket~=0.9 (from selenium->google_images_download)\n",
      "  Obtaining dependency information for trio-websocket~=0.9 from https://files.pythonhosted.org/packages/f2/25/868488d8b05104e3d1bf162565bbadd5fe6d62bf903710e6402c3aaceb1e/trio_websocket-0.10.4-py3-none-any.whl.metadata\n",
      "  Downloading trio_websocket-0.10.4-py3-none-any.whl.metadata (4.6 kB)\n",
      "Collecting certifi>=2021.10.8 (from selenium->google_images_download)\n",
      "  Obtaining dependency information for certifi>=2021.10.8 from https://files.pythonhosted.org/packages/4c/dd/2234eab22353ffc7d94e8d13177aaa050113286e93e7b40eae01fbf7c3d9/certifi-2023.7.22-py3-none-any.whl.metadata\n",
      "  Downloading certifi-2023.7.22-py3-none-any.whl.metadata (2.2 kB)\n",
      "Requirement already satisfied: attrs>=20.1.0 in c:\\users\\user\\anaconda3\\lib\\site-packages (from trio~=0.17->selenium->google_images_download) (20.3.0)\n",
      "Requirement already satisfied: sortedcontainers in c:\\users\\user\\anaconda3\\lib\\site-packages (from trio~=0.17->selenium->google_images_download) (2.3.0)\n",
      "Requirement already satisfied: idna in c:\\users\\user\\anaconda3\\lib\\site-packages (from trio~=0.17->selenium->google_images_download) (2.10)\n",
      "Collecting outcome (from trio~=0.17->selenium->google_images_download)\n",
      "  Using cached outcome-1.2.0-py2.py3-none-any.whl (9.7 kB)\n",
      "Requirement already satisfied: sniffio in c:\\users\\user\\anaconda3\\lib\\site-packages (from trio~=0.17->selenium->google_images_download) (1.2.0)\n",
      "Requirement already satisfied: cffi>=1.14 in c:\\users\\user\\anaconda3\\lib\\site-packages (from trio~=0.17->selenium->google_images_download) (1.14.5)\n",
      "Collecting exceptiongroup>=1.0.0rc9 (from trio~=0.17->selenium->google_images_download)\n",
      "  Obtaining dependency information for exceptiongroup>=1.0.0rc9 from https://files.pythonhosted.org/packages/ad/83/b71e58666f156a39fb29417e4c8ca4bc7400c0dd4ed9e8842ab54dc8c344/exceptiongroup-1.1.3-py3-none-any.whl.metadata\n",
      "  Downloading exceptiongroup-1.1.3-py3-none-any.whl.metadata (6.1 kB)\n",
      "Collecting wsproto>=0.14 (from trio-websocket~=0.9->selenium->google_images_download)\n",
      "  Using cached wsproto-1.2.0-py3-none-any.whl (24 kB)\n",
      "Requirement already satisfied: PySocks!=1.5.7,<2.0,>=1.5.6 in c:\\users\\user\\anaconda3\\lib\\site-packages (from urllib3[socks]<3,>=1.26->selenium->google_images_download) (1.7.1)\n",
      "Requirement already satisfied: pycparser in c:\\users\\user\\anaconda3\\lib\\site-packages (from cffi>=1.14->trio~=0.17->selenium->google_images_download) (2.20)\n",
      "Collecting h11<1,>=0.9.0 (from wsproto>=0.14->trio-websocket~=0.9->selenium->google_images_download)\n",
      "  Using cached h11-0.14.0-py3-none-any.whl (58 kB)\n",
      "Downloading selenium-4.13.0-py3-none-any.whl (9.5 MB)\n",
      "   ---------------------------------------- 9.5/9.5 MB 4.0 MB/s eta 0:00:00\n",
      "Using cached certifi-2023.7.22-py3-none-any.whl (158 kB)\n",
      "Using cached trio-0.22.2-py3-none-any.whl (400 kB)\n",
      "Downloading trio_websocket-0.10.4-py3-none-any.whl (17 kB)\n",
      "Downloading exceptiongroup-1.1.3-py3-none-any.whl (14 kB)\n",
      "Building wheels for collected packages: google_images_download\n",
      "  Building wheel for google_images_download (setup.py): started\n",
      "  Building wheel for google_images_download (setup.py): finished with status 'done'\n",
      "  Created wheel for google_images_download: filename=google_images_download-2.8.0-py2.py3-none-any.whl size=14549 sha256=ae674b63a3387f5b2c54b157a66d78b2668b18c0935cd2f57599835729060c13\n",
      "  Stored in directory: c:\\users\\user\\appdata\\local\\pip\\cache\\wheels\\09\\09\\00\\7a4b1a816f726438cb51067db23c7f9efedf009b6a1bfa027a\n",
      "Successfully built google_images_download\n",
      "Installing collected packages: outcome, h11, exceptiongroup, certifi, wsproto, trio, trio-websocket, selenium, google_images_download\n",
      "  Attempting uninstall: certifi\n",
      "    Found existing installation: certifi 2020.12.5\n",
      "    Uninstalling certifi-2020.12.5:\n",
      "      Successfully uninstalled certifi-2020.12.5\n",
      "Successfully installed certifi-2023.7.22 exceptiongroup-1.1.3 google_images_download-2.8.0 h11-0.14.0 outcome-1.2.0 selenium-4.13.0 trio-0.22.2 trio-websocket-0.10.4 wsproto-1.2.0\n",
      "Note: you may need to restart the kernel to use updated packages.\n"
     ]
    },
    {
     "name": "stderr",
     "output_type": "stream",
     "text": [
      "DEPRECATION: pyodbc 4.0.0-unsupported has a non-standard version number. pip 23.3 will enforce this behaviour change. A possible replacement is to upgrade to a newer version of pyodbc or contact the author to suggest that they release a version with a conforming version number. Discussion can be found at https://github.com/pypa/pip/issues/12063\n"
     ]
    }
   ],
   "source": [
    "pip install google_images_download"
   ]
  },
  {
   "cell_type": "code",
   "execution_count": 7,
   "id": "e9d6b7a2",
   "metadata": {},
   "outputs": [
    {
     "name": "stdout",
     "output_type": "stream",
     "text": [
      "Enter a keyword to search for an image: cat\n",
      "\n",
      "Item no.: 1 --> Item name = cat\n",
      "Evaluating...\n",
      "Starting Download...\n",
      "\n",
      "Errors: 0\n",
      "\n"
     ]
    },
    {
     "ename": "TypeError",
     "evalue": "tuple indices must be integers or slices, not str",
     "output_type": "error",
     "traceback": [
      "\u001b[1;31m---------------------------------------------------------------------------\u001b[0m",
      "\u001b[1;31mTypeError\u001b[0m                                 Traceback (most recent call last)",
      "\u001b[1;32m<ipython-input-7-d22847a71b63>\u001b[0m in \u001b[0;36m<module>\u001b[1;34m\u001b[0m\n\u001b[0;32m     27\u001b[0m \u001b[1;32mif\u001b[0m \u001b[0m__name__\u001b[0m \u001b[1;33m==\u001b[0m \u001b[1;34m\"__main__\"\u001b[0m\u001b[1;33m:\u001b[0m\u001b[1;33m\u001b[0m\u001b[1;33m\u001b[0m\u001b[0m\n\u001b[0;32m     28\u001b[0m     \u001b[0mkeyword\u001b[0m \u001b[1;33m=\u001b[0m \u001b[0minput\u001b[0m\u001b[1;33m(\u001b[0m\u001b[1;34m\"Enter a keyword to search for an image: \"\u001b[0m\u001b[1;33m)\u001b[0m\u001b[1;33m\u001b[0m\u001b[1;33m\u001b[0m\u001b[0m\n\u001b[1;32m---> 29\u001b[1;33m     \u001b[0mfetch_and_display_image\u001b[0m\u001b[1;33m(\u001b[0m\u001b[0mkeyword\u001b[0m\u001b[1;33m)\u001b[0m\u001b[1;33m\u001b[0m\u001b[1;33m\u001b[0m\u001b[0m\n\u001b[0m",
      "\u001b[1;32m<ipython-input-7-d22847a71b63>\u001b[0m in \u001b[0;36mfetch_and_display_image\u001b[1;34m(keyword)\u001b[0m\n\u001b[0;32m     14\u001b[0m     \u001b[0mimage_paths\u001b[0m \u001b[1;33m=\u001b[0m \u001b[0mresponse\u001b[0m\u001b[1;33m.\u001b[0m\u001b[0mdownload\u001b[0m\u001b[1;33m(\u001b[0m\u001b[0msearch_params\u001b[0m\u001b[1;33m)\u001b[0m\u001b[1;33m\u001b[0m\u001b[1;33m\u001b[0m\u001b[0m\n\u001b[0;32m     15\u001b[0m \u001b[1;33m\u001b[0m\u001b[0m\n\u001b[1;32m---> 16\u001b[1;33m     \u001b[1;32mif\u001b[0m \u001b[0mimage_paths\u001b[0m\u001b[1;33m[\u001b[0m\u001b[0mkeyword\u001b[0m\u001b[1;33m]\u001b[0m\u001b[1;33m:\u001b[0m\u001b[1;33m\u001b[0m\u001b[1;33m\u001b[0m\u001b[0m\n\u001b[0m\u001b[0;32m     17\u001b[0m         \u001b[0mfirst_image_path\u001b[0m \u001b[1;33m=\u001b[0m \u001b[0mimage_paths\u001b[0m\u001b[1;33m[\u001b[0m\u001b[0mkeyword\u001b[0m\u001b[1;33m]\u001b[0m\u001b[1;33m[\u001b[0m\u001b[1;36m0\u001b[0m\u001b[1;33m]\u001b[0m\u001b[1;33m\u001b[0m\u001b[1;33m\u001b[0m\u001b[0m\n\u001b[0;32m     18\u001b[0m         \u001b[0mprint\u001b[0m\u001b[1;33m(\u001b[0m\u001b[1;34m\"Downloaded image:\"\u001b[0m\u001b[1;33m,\u001b[0m \u001b[0mfirst_image_path\u001b[0m\u001b[1;33m)\u001b[0m\u001b[1;33m\u001b[0m\u001b[1;33m\u001b[0m\u001b[0m\n",
      "\u001b[1;31mTypeError\u001b[0m: tuple indices must be integers or slices, not str"
     ]
    }
   ],
   "source": [
    "from google_images_download import google_images_download\n",
    "\n",
    "def fetch_and_display_image(keyword):\n",
    "    response = google_images_download.googleimagesdownload()\n",
    "\n",
    "    # Define search parameters\n",
    "    search_params = {\n",
    "        \"keywords\": keyword,\n",
    "        \"limit\": 1,  # Limit to 1 image\n",
    "        \"print_urls\": True,\n",
    "    }\n",
    "\n",
    "    # Perform the Google Images search\n",
    "    image_paths = response.download(search_params)\n",
    "\n",
    "    if image_paths[keyword]:\n",
    "        first_image_path = image_paths[keyword][0]\n",
    "        print(\"Downloaded image:\", first_image_path)\n",
    "\n",
    "        # Display the downloaded image (optional)\n",
    "        from PIL import Image\n",
    "        img = Image.open(first_image_path)\n",
    "        img.show()\n",
    "    else:\n",
    "        print(\"No images found for the given keyword.\")\n",
    "\n",
    "if __name__ == \"__main__\":\n",
    "    keyword = input(\"Enter a keyword to search for an image: \")\n",
    "    fetch_and_display_image(keyword)\n"
   ]
  },
  {
   "cell_type": "code",
   "execution_count": 8,
   "id": "ca95fea8",
   "metadata": {},
   "outputs": [
    {
     "name": "stdout",
     "output_type": "stream",
     "text": [
      "Enter a keyword to search for an image: cat\n",
      "\n",
      "Item no.: 1 --> Item name = cat\n",
      "Evaluating...\n",
      "Starting Download...\n",
      "\n",
      "Errors: 0\n",
      "\n"
     ]
    },
    {
     "ename": "AttributeError",
     "evalue": "'tuple' object has no attribute 'get'",
     "output_type": "error",
     "traceback": [
      "\u001b[1;31m---------------------------------------------------------------------------\u001b[0m",
      "\u001b[1;31mAttributeError\u001b[0m                            Traceback (most recent call last)",
      "\u001b[1;32m<ipython-input-8-bf487935116e>\u001b[0m in \u001b[0;36m<module>\u001b[1;34m\u001b[0m\n\u001b[0;32m     28\u001b[0m \u001b[1;32mif\u001b[0m \u001b[0m__name__\u001b[0m \u001b[1;33m==\u001b[0m \u001b[1;34m\"__main__\"\u001b[0m\u001b[1;33m:\u001b[0m\u001b[1;33m\u001b[0m\u001b[1;33m\u001b[0m\u001b[0m\n\u001b[0;32m     29\u001b[0m     \u001b[0mkeyword\u001b[0m \u001b[1;33m=\u001b[0m \u001b[0minput\u001b[0m\u001b[1;33m(\u001b[0m\u001b[1;34m\"Enter a keyword to search for an image: \"\u001b[0m\u001b[1;33m)\u001b[0m\u001b[1;33m\u001b[0m\u001b[1;33m\u001b[0m\u001b[0m\n\u001b[1;32m---> 30\u001b[1;33m     \u001b[0mfetch_and_display_image\u001b[0m\u001b[1;33m(\u001b[0m\u001b[0mkeyword\u001b[0m\u001b[1;33m)\u001b[0m\u001b[1;33m\u001b[0m\u001b[1;33m\u001b[0m\u001b[0m\n\u001b[0m",
      "\u001b[1;32m<ipython-input-8-bf487935116e>\u001b[0m in \u001b[0;36mfetch_and_display_image\u001b[1;34m(keyword)\u001b[0m\n\u001b[0;32m     13\u001b[0m     \u001b[1;31m# Perform the Google Images search and get the result paths\u001b[0m\u001b[1;33m\u001b[0m\u001b[1;33m\u001b[0m\u001b[1;33m\u001b[0m\u001b[0m\n\u001b[0;32m     14\u001b[0m     \u001b[0mresult\u001b[0m \u001b[1;33m=\u001b[0m \u001b[0mresponse\u001b[0m\u001b[1;33m.\u001b[0m\u001b[0mdownload\u001b[0m\u001b[1;33m(\u001b[0m\u001b[0msearch_params\u001b[0m\u001b[1;33m)\u001b[0m\u001b[1;33m\u001b[0m\u001b[1;33m\u001b[0m\u001b[0m\n\u001b[1;32m---> 15\u001b[1;33m     \u001b[0mimage_paths\u001b[0m \u001b[1;33m=\u001b[0m \u001b[0mresult\u001b[0m\u001b[1;33m.\u001b[0m\u001b[0mget\u001b[0m\u001b[1;33m(\u001b[0m\u001b[0mkeyword\u001b[0m\u001b[1;33m,\u001b[0m \u001b[1;33m[\u001b[0m\u001b[1;33m]\u001b[0m\u001b[1;33m)\u001b[0m\u001b[1;33m\u001b[0m\u001b[1;33m\u001b[0m\u001b[0m\n\u001b[0m\u001b[0;32m     16\u001b[0m \u001b[1;33m\u001b[0m\u001b[0m\n\u001b[0;32m     17\u001b[0m     \u001b[1;32mif\u001b[0m \u001b[0mimage_paths\u001b[0m\u001b[1;33m:\u001b[0m\u001b[1;33m\u001b[0m\u001b[1;33m\u001b[0m\u001b[0m\n",
      "\u001b[1;31mAttributeError\u001b[0m: 'tuple' object has no attribute 'get'"
     ]
    }
   ],
   "source": [
    "from google_images_download import google_images_download\n",
    "\n",
    "def fetch_and_display_image(keyword):\n",
    "    response = google_images_download.googleimagesdownload()\n",
    "\n",
    "    # Define search parameters\n",
    "    search_params = {\n",
    "        \"keywords\": keyword,\n",
    "        \"limit\": 1,  # Limit to 1 image\n",
    "        \"print_urls\": True,\n",
    "    }\n",
    "\n",
    "    # Perform the Google Images search and get the result paths\n",
    "    result = response.download(search_params)\n",
    "    image_paths = result.get(keyword, [])\n",
    "\n",
    "    if image_paths:\n",
    "        first_image_path = image_paths[0]\n",
    "        print(\"Downloaded image:\", first_image_path)\n",
    "\n",
    "        # Display the downloaded image (optional)\n",
    "        from PIL import Image\n",
    "        img = Image.open(first_image_path)\n",
    "        img.show()\n",
    "    else:\n",
    "        print(\"No images found for the given keyword.\")\n",
    "\n",
    "if __name__ == \"__main__\":\n",
    "    keyword = input(\"Enter a keyword to search for an image: \")\n",
    "    fetch_and_display_image(keyword)\n"
   ]
  },
  {
   "cell_type": "code",
   "execution_count": 9,
   "id": "4d80b08c",
   "metadata": {},
   "outputs": [
    {
     "name": "stdout",
     "output_type": "stream",
     "text": [
      "Enter a keyword to search for an image: cat\n",
      "\n",
      "Item no.: 1 --> Item name = cat\n",
      "Evaluating...\n",
      "Starting Download...\n",
      "\n",
      "Errors: 0\n",
      "\n"
     ]
    },
    {
     "ename": "TypeError",
     "evalue": "tuple indices must be integers or slices, not str",
     "output_type": "error",
     "traceback": [
      "\u001b[1;31m---------------------------------------------------------------------------\u001b[0m",
      "\u001b[1;31mTypeError\u001b[0m                                 Traceback (most recent call last)",
      "\u001b[1;32m<ipython-input-9-88752212da6a>\u001b[0m in \u001b[0;36m<module>\u001b[1;34m\u001b[0m\n\u001b[0;32m     28\u001b[0m \u001b[1;32mif\u001b[0m \u001b[0m__name__\u001b[0m \u001b[1;33m==\u001b[0m \u001b[1;34m\"__main__\"\u001b[0m\u001b[1;33m:\u001b[0m\u001b[1;33m\u001b[0m\u001b[1;33m\u001b[0m\u001b[0m\n\u001b[0;32m     29\u001b[0m     \u001b[0mkeyword\u001b[0m \u001b[1;33m=\u001b[0m \u001b[0minput\u001b[0m\u001b[1;33m(\u001b[0m\u001b[1;34m\"Enter a keyword to search for an image: \"\u001b[0m\u001b[1;33m)\u001b[0m\u001b[1;33m\u001b[0m\u001b[1;33m\u001b[0m\u001b[0m\n\u001b[1;32m---> 30\u001b[1;33m     \u001b[0mfetch_and_display_image\u001b[0m\u001b[1;33m(\u001b[0m\u001b[0mkeyword\u001b[0m\u001b[1;33m)\u001b[0m\u001b[1;33m\u001b[0m\u001b[1;33m\u001b[0m\u001b[0m\n\u001b[0m",
      "\u001b[1;32m<ipython-input-9-88752212da6a>\u001b[0m in \u001b[0;36mfetch_and_display_image\u001b[1;34m(keyword)\u001b[0m\n\u001b[0;32m     15\u001b[0m \u001b[1;33m\u001b[0m\u001b[0m\n\u001b[0;32m     16\u001b[0m     \u001b[1;31m# Check if any images were downloaded\u001b[0m\u001b[1;33m\u001b[0m\u001b[1;33m\u001b[0m\u001b[1;33m\u001b[0m\u001b[0m\n\u001b[1;32m---> 17\u001b[1;33m     \u001b[1;32mif\u001b[0m \u001b[0mresult\u001b[0m\u001b[1;33m[\u001b[0m\u001b[0mkeyword\u001b[0m\u001b[1;33m]\u001b[0m\u001b[1;33m:\u001b[0m\u001b[1;33m\u001b[0m\u001b[1;33m\u001b[0m\u001b[0m\n\u001b[0m\u001b[0;32m     18\u001b[0m         \u001b[0mfirst_image_path\u001b[0m \u001b[1;33m=\u001b[0m \u001b[0mresult\u001b[0m\u001b[1;33m[\u001b[0m\u001b[0mkeyword\u001b[0m\u001b[1;33m]\u001b[0m\u001b[1;33m[\u001b[0m\u001b[1;36m0\u001b[0m\u001b[1;33m]\u001b[0m\u001b[1;33m\u001b[0m\u001b[1;33m\u001b[0m\u001b[0m\n\u001b[0;32m     19\u001b[0m         \u001b[0mprint\u001b[0m\u001b[1;33m(\u001b[0m\u001b[1;34m\"Downloaded image:\"\u001b[0m\u001b[1;33m,\u001b[0m \u001b[0mfirst_image_path\u001b[0m\u001b[1;33m)\u001b[0m\u001b[1;33m\u001b[0m\u001b[1;33m\u001b[0m\u001b[0m\n",
      "\u001b[1;31mTypeError\u001b[0m: tuple indices must be integers or slices, not str"
     ]
    }
   ],
   "source": [
    "from google_images_download import google_images_download\n",
    "\n",
    "def fetch_and_display_image(keyword):\n",
    "    response = google_images_download.googleimagesdownload()\n",
    "\n",
    "    # Define search parameters\n",
    "    search_params = {\n",
    "        \"keywords\": keyword,\n",
    "        \"limit\": 1,  # Limit to 1 image\n",
    "        \"print_urls\": True,\n",
    "    }\n",
    "\n",
    "    # Perform the Google Images search\n",
    "    result = response.download(search_params)\n",
    "\n",
    "    # Check if any images were downloaded\n",
    "    if result[keyword]:\n",
    "        first_image_path = result[keyword][0]\n",
    "        print(\"Downloaded image:\", first_image_path)\n",
    "\n",
    "        # Display the downloaded image (optional)\n",
    "        from PIL import Image\n",
    "        img = Image.open(first_image_path)\n",
    "        img.show()\n",
    "    else:\n",
    "        print(\"No images found for the given keyword.\")\n",
    "\n",
    "if __name__ == \"__main__\":\n",
    "    keyword = input(\"Enter a keyword to search for an image: \")\n",
    "    fetch_and_display_image(keyword)\n"
   ]
  },
  {
   "cell_type": "code",
   "execution_count": 10,
   "id": "f4a416c8",
   "metadata": {},
   "outputs": [
    {
     "name": "stdout",
     "output_type": "stream",
     "text": [
      "Enter a keyword to search for an image: cat\n",
      "\n",
      "Item no.: 1 --> Item name = cat\n",
      "Evaluating...\n",
      "Starting Download...\n",
      "\n",
      "Errors: 0\n",
      "\n"
     ]
    },
    {
     "ename": "IndexError",
     "evalue": "list index out of range",
     "output_type": "error",
     "traceback": [
      "\u001b[1;31m---------------------------------------------------------------------------\u001b[0m",
      "\u001b[1;31mIndexError\u001b[0m                                Traceback (most recent call last)",
      "\u001b[1;32m<ipython-input-10-ed589d1d747b>\u001b[0m in \u001b[0;36m<module>\u001b[1;34m\u001b[0m\n\u001b[0;32m     40\u001b[0m \u001b[1;32mif\u001b[0m \u001b[0m__name__\u001b[0m \u001b[1;33m==\u001b[0m \u001b[1;34m\"__main__\"\u001b[0m\u001b[1;33m:\u001b[0m\u001b[1;33m\u001b[0m\u001b[1;33m\u001b[0m\u001b[0m\n\u001b[0;32m     41\u001b[0m     \u001b[0mkeyword\u001b[0m \u001b[1;33m=\u001b[0m \u001b[0minput\u001b[0m\u001b[1;33m(\u001b[0m\u001b[1;34m\"Enter a keyword to search for an image: \"\u001b[0m\u001b[1;33m)\u001b[0m\u001b[1;33m\u001b[0m\u001b[1;33m\u001b[0m\u001b[0m\n\u001b[1;32m---> 42\u001b[1;33m     \u001b[0mfetch_and_display_image\u001b[0m\u001b[1;33m(\u001b[0m\u001b[0mkeyword\u001b[0m\u001b[1;33m)\u001b[0m\u001b[1;33m\u001b[0m\u001b[1;33m\u001b[0m\u001b[0m\n\u001b[0m",
      "\u001b[1;32m<ipython-input-10-ed589d1d747b>\u001b[0m in \u001b[0;36mfetch_and_display_image\u001b[1;34m(keyword)\u001b[0m\n\u001b[0;32m     16\u001b[0m \u001b[1;33m\u001b[0m\u001b[0m\n\u001b[0;32m     17\u001b[0m     \u001b[1;31m# Get the download directory path\u001b[0m\u001b[1;33m\u001b[0m\u001b[1;33m\u001b[0m\u001b[1;33m\u001b[0m\u001b[0m\n\u001b[1;32m---> 18\u001b[1;33m     \u001b[0mdownload_dir\u001b[0m \u001b[1;33m=\u001b[0m \u001b[0mresult\u001b[0m\u001b[1;33m[\u001b[0m\u001b[1;36m0\u001b[0m\u001b[1;33m]\u001b[0m\u001b[1;33m[\u001b[0m\u001b[0mkeyword\u001b[0m\u001b[1;33m]\u001b[0m\u001b[1;33m[\u001b[0m\u001b[1;36m0\u001b[0m\u001b[1;33m]\u001b[0m\u001b[1;33m\u001b[0m\u001b[1;33m\u001b[0m\u001b[0m\n\u001b[0m\u001b[0;32m     19\u001b[0m \u001b[1;33m\u001b[0m\u001b[0m\n\u001b[0;32m     20\u001b[0m     \u001b[1;31m# List files in the download directory\u001b[0m\u001b[1;33m\u001b[0m\u001b[1;33m\u001b[0m\u001b[1;33m\u001b[0m\u001b[0m\n",
      "\u001b[1;31mIndexError\u001b[0m: list index out of range"
     ]
    }
   ],
   "source": [
    "from google_images_download import google_images_download\n",
    "import os\n",
    "\n",
    "def fetch_and_display_image(keyword):\n",
    "    response = google_images_download.googleimagesdownload()\n",
    "\n",
    "    # Define search parameters\n",
    "    search_params = {\n",
    "        \"keywords\": keyword,\n",
    "        \"limit\": 1,  # Limit to 1 image\n",
    "        \"print_urls\": True,\n",
    "    }\n",
    "\n",
    "    # Perform the Google Images search\n",
    "    result = response.download(search_params)\n",
    "\n",
    "    # Get the download directory path\n",
    "    download_dir = result[0][keyword][0]\n",
    "\n",
    "    # List files in the download directory\n",
    "    files = os.listdir(download_dir)\n",
    "\n",
    "    # Find the first image file\n",
    "    first_image_path = None\n",
    "    for file in files:\n",
    "        if file.lower().endswith(('.jpg', '.jpeg', '.png', '.gif', '.bmp', '.webp')):\n",
    "            first_image_path = os.path.join(download_dir, file)\n",
    "            break\n",
    "\n",
    "    if first_image_path:\n",
    "        print(\"Downloaded image:\", first_image_path)\n",
    "\n",
    "        # Display the downloaded image (optional)\n",
    "        from PIL import Image\n",
    "        img = Image.open(first_image_path)\n",
    "        img.show()\n",
    "    else:\n",
    "        print(\"No images found for the given keyword.\")\n",
    "\n",
    "if __name__ == \"__main__\":\n",
    "    keyword = input(\"Enter a keyword to search for an image: \")\n",
    "    fetch_and_display_image(keyword)\n"
   ]
  },
  {
   "cell_type": "code",
   "execution_count": 11,
   "id": "66fe6d96",
   "metadata": {},
   "outputs": [
    {
     "name": "stdout",
     "output_type": "stream",
     "text": [
      "Enter a keyword to search for an image: cat\n",
      "\n",
      "Item no.: 1 --> Item name = cat\n",
      "Evaluating...\n",
      "Starting Download...\n",
      "\n",
      "Errors: 0\n",
      "\n"
     ]
    },
    {
     "ename": "TypeError",
     "evalue": "listdir: path should be string, bytes, os.PathLike or None, not list",
     "output_type": "error",
     "traceback": [
      "\u001b[1;31m---------------------------------------------------------------------------\u001b[0m",
      "\u001b[1;31mTypeError\u001b[0m                                 Traceback (most recent call last)",
      "\u001b[1;32m<ipython-input-11-0fa09a0591f7>\u001b[0m in \u001b[0;36m<module>\u001b[1;34m\u001b[0m\n\u001b[0;32m     39\u001b[0m \u001b[1;32mif\u001b[0m \u001b[0m__name__\u001b[0m \u001b[1;33m==\u001b[0m \u001b[1;34m\"__main__\"\u001b[0m\u001b[1;33m:\u001b[0m\u001b[1;33m\u001b[0m\u001b[1;33m\u001b[0m\u001b[0m\n\u001b[0;32m     40\u001b[0m     \u001b[0mkeyword\u001b[0m \u001b[1;33m=\u001b[0m \u001b[0minput\u001b[0m\u001b[1;33m(\u001b[0m\u001b[1;34m\"Enter a keyword to search for an image: \"\u001b[0m\u001b[1;33m)\u001b[0m\u001b[1;33m\u001b[0m\u001b[1;33m\u001b[0m\u001b[0m\n\u001b[1;32m---> 41\u001b[1;33m     \u001b[0mfetch_and_display_image\u001b[0m\u001b[1;33m(\u001b[0m\u001b[0mkeyword\u001b[0m\u001b[1;33m)\u001b[0m\u001b[1;33m\u001b[0m\u001b[1;33m\u001b[0m\u001b[0m\n\u001b[0m",
      "\u001b[1;32m<ipython-input-11-0fa09a0591f7>\u001b[0m in \u001b[0;36mfetch_and_display_image\u001b[1;34m(keyword)\u001b[0m\n\u001b[0;32m     20\u001b[0m \u001b[1;33m\u001b[0m\u001b[0m\n\u001b[0;32m     21\u001b[0m     \u001b[1;31m# List files in the download directory\u001b[0m\u001b[1;33m\u001b[0m\u001b[1;33m\u001b[0m\u001b[1;33m\u001b[0m\u001b[0m\n\u001b[1;32m---> 22\u001b[1;33m     \u001b[0mfiles\u001b[0m \u001b[1;33m=\u001b[0m \u001b[0mos\u001b[0m\u001b[1;33m.\u001b[0m\u001b[0mlistdir\u001b[0m\u001b[1;33m(\u001b[0m\u001b[0mdownload_dir\u001b[0m\u001b[1;33m)\u001b[0m\u001b[1;33m\u001b[0m\u001b[1;33m\u001b[0m\u001b[0m\n\u001b[0m\u001b[0;32m     23\u001b[0m \u001b[1;33m\u001b[0m\u001b[0m\n\u001b[0;32m     24\u001b[0m     \u001b[1;31m# Find the first image file\u001b[0m\u001b[1;33m\u001b[0m\u001b[1;33m\u001b[0m\u001b[1;33m\u001b[0m\u001b[0m\n",
      "\u001b[1;31mTypeError\u001b[0m: listdir: path should be string, bytes, os.PathLike or None, not list"
     ]
    }
   ],
   "source": [
    "from google_images_download import google_images_download\n",
    "import os\n",
    "from IPython.display import Image, display\n",
    "\n",
    "def fetch_and_display_image(keyword):\n",
    "    response = google_images_download.googleimagesdownload()\n",
    "\n",
    "    # Define search parameters\n",
    "    search_params = {\n",
    "        \"keywords\": keyword,\n",
    "        \"limit\": 1,  # Limit to 1 image\n",
    "        \"print_urls\": True,\n",
    "    }\n",
    "\n",
    "    # Perform the Google Images search\n",
    "    result = response.download(search_params)\n",
    "\n",
    "    # Get the download directory path from the result dictionary\n",
    "    download_dir = result[0][keyword]\n",
    "\n",
    "    # List files in the download directory\n",
    "    files = os.listdir(download_dir)\n",
    "\n",
    "    # Find the first image file\n",
    "    first_image_path = None\n",
    "    for file in files:\n",
    "        if file.lower().endswith(('.jpg', '.jpeg', '.png', '.gif', '.bmp', '.webp')):\n",
    "            first_image_path = os.path.join(download_dir, file)\n",
    "            break\n",
    "\n",
    "    if first_image_path:\n",
    "        print(\"Downloaded image:\", first_image_path)\n",
    "\n",
    "        # Display the downloaded image in the Jupyter Notebook\n",
    "        display(Image(filename=first_image_path))\n",
    "    else:\n",
    "        print(\"No images found for the given keyword.\")\n",
    "\n",
    "if __name__ == \"__main__\":\n",
    "    keyword = input(\"Enter a keyword to search for an image: \")\n",
    "    fetch_and_display_image(keyword)\n"
   ]
  },
  {
   "cell_type": "code",
   "execution_count": 12,
   "id": "9b39f379",
   "metadata": {},
   "outputs": [
    {
     "name": "stdout",
     "output_type": "stream",
     "text": [
      "Enter a keyword to search for an image: cat\n",
      "\n",
      "Item no.: 1 --> Item name = cat\n",
      "Evaluating...\n",
      "Starting Download...\n",
      "\n",
      "Errors: 0\n",
      "\n"
     ]
    },
    {
     "ename": "IndexError",
     "evalue": "list index out of range",
     "output_type": "error",
     "traceback": [
      "\u001b[1;31m---------------------------------------------------------------------------\u001b[0m",
      "\u001b[1;31mIndexError\u001b[0m                                Traceback (most recent call last)",
      "\u001b[1;32m<ipython-input-12-0fdc63006d1c>\u001b[0m in \u001b[0;36m<module>\u001b[1;34m\u001b[0m\n\u001b[0;32m     39\u001b[0m \u001b[1;32mif\u001b[0m \u001b[0m__name__\u001b[0m \u001b[1;33m==\u001b[0m \u001b[1;34m\"__main__\"\u001b[0m\u001b[1;33m:\u001b[0m\u001b[1;33m\u001b[0m\u001b[1;33m\u001b[0m\u001b[0m\n\u001b[0;32m     40\u001b[0m     \u001b[0mkeyword\u001b[0m \u001b[1;33m=\u001b[0m \u001b[0minput\u001b[0m\u001b[1;33m(\u001b[0m\u001b[1;34m\"Enter a keyword to search for an image: \"\u001b[0m\u001b[1;33m)\u001b[0m\u001b[1;33m\u001b[0m\u001b[1;33m\u001b[0m\u001b[0m\n\u001b[1;32m---> 41\u001b[1;33m     \u001b[0mfetch_and_display_image\u001b[0m\u001b[1;33m(\u001b[0m\u001b[0mkeyword\u001b[0m\u001b[1;33m)\u001b[0m\u001b[1;33m\u001b[0m\u001b[1;33m\u001b[0m\u001b[0m\n\u001b[0m",
      "\u001b[1;32m<ipython-input-12-0fdc63006d1c>\u001b[0m in \u001b[0;36mfetch_and_display_image\u001b[1;34m(keyword)\u001b[0m\n\u001b[0;32m     17\u001b[0m \u001b[1;33m\u001b[0m\u001b[0m\n\u001b[0;32m     18\u001b[0m     \u001b[1;31m# Get the download directory path from the result dictionary\u001b[0m\u001b[1;33m\u001b[0m\u001b[1;33m\u001b[0m\u001b[1;33m\u001b[0m\u001b[0m\n\u001b[1;32m---> 19\u001b[1;33m     \u001b[0mdownload_dir\u001b[0m \u001b[1;33m=\u001b[0m \u001b[0mresult\u001b[0m\u001b[1;33m[\u001b[0m\u001b[1;36m0\u001b[0m\u001b[1;33m]\u001b[0m\u001b[1;33m[\u001b[0m\u001b[0mkeyword\u001b[0m\u001b[1;33m]\u001b[0m\u001b[1;33m[\u001b[0m\u001b[1;36m0\u001b[0m\u001b[1;33m]\u001b[0m\u001b[1;33m\u001b[0m\u001b[1;33m\u001b[0m\u001b[0m\n\u001b[0m\u001b[0;32m     20\u001b[0m \u001b[1;33m\u001b[0m\u001b[0m\n\u001b[0;32m     21\u001b[0m     \u001b[1;31m# List files in the download directory\u001b[0m\u001b[1;33m\u001b[0m\u001b[1;33m\u001b[0m\u001b[1;33m\u001b[0m\u001b[0m\n",
      "\u001b[1;31mIndexError\u001b[0m: list index out of range"
     ]
    }
   ],
   "source": [
    "from google_images_download import google_images_download\n",
    "import os\n",
    "from IPython.display import Image, display\n",
    "\n",
    "def fetch_and_display_image(keyword):\n",
    "    response = google_images_download.googleimagesdownload()\n",
    "\n",
    "    # Define search parameters\n",
    "    search_params = {\n",
    "        \"keywords\": keyword,\n",
    "        \"limit\": 1,  # Limit to 1 image\n",
    "        \"print_urls\": True,\n",
    "    }\n",
    "\n",
    "    # Perform the Google Images search\n",
    "    result = response.download(search_params)\n",
    "\n",
    "    # Get the download directory path from the result dictionary\n",
    "    download_dir = result[0][keyword][0]\n",
    "\n",
    "    # List files in the download directory\n",
    "    files = os.listdir(download_dir)\n",
    "\n",
    "    # Find the first image file\n",
    "    first_image_path = None\n",
    "    for file in files:\n",
    "        if file.lower().endswith(('.jpg', '.jpeg', '.png', '.gif', '.bmp', '.webp')):\n",
    "            first_image_path = os.path.join(download_dir, file)\n",
    "            break\n",
    "\n",
    "    if first_image_path:\n",
    "        print(\"Downloaded image:\", first_image_path)\n",
    "\n",
    "        # Display the downloaded image in the Jupyter Notebook\n",
    "        display(Image(filename=first_image_path))\n",
    "    else:\n",
    "        print(\"No images found for the given keyword.\")\n",
    "\n",
    "if __name__ == \"__main__\":\n",
    "    keyword = input(\"Enter a keyword to search for an image: \")\n",
    "    fetch_and_display_image(keyword)\n"
   ]
  },
  {
   "cell_type": "code",
   "execution_count": 13,
   "id": "d65d47c6",
   "metadata": {},
   "outputs": [
    {
     "name": "stdout",
     "output_type": "stream",
     "text": [
      "Enter a keyword to search for an image: cat\n"
     ]
    },
    {
     "ename": "TypeError",
     "evalue": "search() got an unexpected keyword argument 'q'",
     "output_type": "error",
     "traceback": [
      "\u001b[1;31m---------------------------------------------------------------------------\u001b[0m",
      "\u001b[1;31mTypeError\u001b[0m                                 Traceback (most recent call last)",
      "\u001b[1;32m<ipython-input-13-aa3cc11294f2>\u001b[0m in \u001b[0;36m<module>\u001b[1;34m\u001b[0m\n\u001b[0;32m     35\u001b[0m \u001b[1;32mif\u001b[0m \u001b[0m__name__\u001b[0m \u001b[1;33m==\u001b[0m \u001b[1;34m\"__main__\"\u001b[0m\u001b[1;33m:\u001b[0m\u001b[1;33m\u001b[0m\u001b[1;33m\u001b[0m\u001b[0m\n\u001b[0;32m     36\u001b[0m     \u001b[0mkeyword\u001b[0m \u001b[1;33m=\u001b[0m \u001b[0minput\u001b[0m\u001b[1;33m(\u001b[0m\u001b[1;34m\"Enter a keyword to search for an image: \"\u001b[0m\u001b[1;33m)\u001b[0m\u001b[1;33m\u001b[0m\u001b[1;33m\u001b[0m\u001b[0m\n\u001b[1;32m---> 37\u001b[1;33m     \u001b[0mfetch_and_display_image\u001b[0m\u001b[1;33m(\u001b[0m\u001b[0mkeyword\u001b[0m\u001b[1;33m)\u001b[0m\u001b[1;33m\u001b[0m\u001b[1;33m\u001b[0m\u001b[0m\n\u001b[0m",
      "\u001b[1;32m<ipython-input-13-aa3cc11294f2>\u001b[0m in \u001b[0;36mfetch_and_display_image\u001b[1;34m(keyword)\u001b[0m\n\u001b[0;32m     13\u001b[0m \u001b[1;33m\u001b[0m\u001b[0m\n\u001b[0;32m     14\u001b[0m     \u001b[1;31m# Perform the Google Images search\u001b[0m\u001b[1;33m\u001b[0m\u001b[1;33m\u001b[0m\u001b[1;33m\u001b[0m\u001b[0m\n\u001b[1;32m---> 15\u001b[1;33m     \u001b[0msearch_results\u001b[0m \u001b[1;33m=\u001b[0m \u001b[0msearch\u001b[0m\u001b[1;33m(\u001b[0m\u001b[1;33m**\u001b[0m\u001b[0msearch_params\u001b[0m\u001b[1;33m)\u001b[0m\u001b[1;33m\u001b[0m\u001b[1;33m\u001b[0m\u001b[0m\n\u001b[0m\u001b[0;32m     16\u001b[0m \u001b[1;33m\u001b[0m\u001b[0m\n\u001b[0;32m     17\u001b[0m     \u001b[1;31m# Check if any search results were found\u001b[0m\u001b[1;33m\u001b[0m\u001b[1;33m\u001b[0m\u001b[1;33m\u001b[0m\u001b[0m\n",
      "\u001b[1;31mTypeError\u001b[0m: search() got an unexpected keyword argument 'q'"
     ]
    }
   ],
   "source": [
    "from googlesearch import search\n",
    "import requests\n",
    "from PIL import Image\n",
    "from io import BytesIO\n",
    "\n",
    "def fetch_and_display_image(keyword):\n",
    "    # Define search parameters\n",
    "    search_params = {\n",
    "        \"q\": keyword + \" image\",\n",
    "        \"tbm\": \"isch\",\n",
    "        \"num\": 1,  # Limit to 1 image\n",
    "    }\n",
    "\n",
    "    # Perform the Google Images search\n",
    "    search_results = search(**search_params)\n",
    "\n",
    "    # Check if any search results were found\n",
    "    if not search_results:\n",
    "        print(\"No images found for the given keyword.\")\n",
    "        return\n",
    "\n",
    "    # Get the URL of the first image result\n",
    "    first_img_url = next(iter(search_results), None)\n",
    "\n",
    "    if first_img_url:\n",
    "        # Send an HTTP GET request to the image URL\n",
    "        img_response = requests.get(first_img_url)\n",
    "\n",
    "        # Open the image using Pillow\n",
    "        img = Image.open(BytesIO(img_response.content))\n",
    "        img.show()\n",
    "    else:\n",
    "        print(\"No images found for the given keyword.\")\n",
    "\n",
    "if __name__ == \"__main__\":\n",
    "    keyword = input(\"Enter a keyword to search for an image: \")\n",
    "    fetch_and_display_image(keyword)\n"
   ]
  },
  {
   "cell_type": "code",
   "execution_count": 14,
   "id": "677c6710",
   "metadata": {},
   "outputs": [
    {
     "name": "stdout",
     "output_type": "stream",
     "text": [
      "Enter a keyword to search for an image: cat\n",
      "\n",
      "Item no.: 1 --> Item name = cat\n",
      "Evaluating...\n",
      "Starting Download...\n",
      "\n",
      "Errors: 0\n",
      "\n"
     ]
    },
    {
     "ename": "TypeError",
     "evalue": "listdir: path should be string, bytes, os.PathLike or None, not list",
     "output_type": "error",
     "traceback": [
      "\u001b[1;31m---------------------------------------------------------------------------\u001b[0m",
      "\u001b[1;31mTypeError\u001b[0m                                 Traceback (most recent call last)",
      "\u001b[1;32m<ipython-input-14-5083a948b5ba>\u001b[0m in \u001b[0;36m<module>\u001b[1;34m\u001b[0m\n\u001b[0;32m     38\u001b[0m \u001b[1;32mif\u001b[0m \u001b[0m__name__\u001b[0m \u001b[1;33m==\u001b[0m \u001b[1;34m\"__main__\"\u001b[0m\u001b[1;33m:\u001b[0m\u001b[1;33m\u001b[0m\u001b[1;33m\u001b[0m\u001b[0m\n\u001b[0;32m     39\u001b[0m     \u001b[0mkeyword\u001b[0m \u001b[1;33m=\u001b[0m \u001b[0minput\u001b[0m\u001b[1;33m(\u001b[0m\u001b[1;34m\"Enter a keyword to search for an image: \"\u001b[0m\u001b[1;33m)\u001b[0m\u001b[1;33m\u001b[0m\u001b[1;33m\u001b[0m\u001b[0m\n\u001b[1;32m---> 40\u001b[1;33m     \u001b[0mfetch_and_display_image\u001b[0m\u001b[1;33m(\u001b[0m\u001b[0mkeyword\u001b[0m\u001b[1;33m)\u001b[0m\u001b[1;33m\u001b[0m\u001b[1;33m\u001b[0m\u001b[0m\n\u001b[0m",
      "\u001b[1;32m<ipython-input-14-5083a948b5ba>\u001b[0m in \u001b[0;36mfetch_and_display_image\u001b[1;34m(keyword)\u001b[0m\n\u001b[0;32m     19\u001b[0m \u001b[1;33m\u001b[0m\u001b[0m\n\u001b[0;32m     20\u001b[0m     \u001b[1;31m# List files in the download directory\u001b[0m\u001b[1;33m\u001b[0m\u001b[1;33m\u001b[0m\u001b[1;33m\u001b[0m\u001b[0m\n\u001b[1;32m---> 21\u001b[1;33m     \u001b[0mfiles\u001b[0m \u001b[1;33m=\u001b[0m \u001b[0mos\u001b[0m\u001b[1;33m.\u001b[0m\u001b[0mlistdir\u001b[0m\u001b[1;33m(\u001b[0m\u001b[0mdownload_dir\u001b[0m\u001b[1;33m)\u001b[0m\u001b[1;33m\u001b[0m\u001b[1;33m\u001b[0m\u001b[0m\n\u001b[0m\u001b[0;32m     22\u001b[0m \u001b[1;33m\u001b[0m\u001b[0m\n\u001b[0;32m     23\u001b[0m     \u001b[1;31m# Find the first image file\u001b[0m\u001b[1;33m\u001b[0m\u001b[1;33m\u001b[0m\u001b[1;33m\u001b[0m\u001b[0m\n",
      "\u001b[1;31mTypeError\u001b[0m: listdir: path should be string, bytes, os.PathLike or None, not list"
     ]
    }
   ],
   "source": [
    "from google_images_download import google_images_download\n",
    "from IPython.display import Image, display\n",
    "\n",
    "def fetch_and_display_image(keyword):\n",
    "    response = google_images_download.googleimagesdownload()\n",
    "\n",
    "    # Define search parameters\n",
    "    search_params = {\n",
    "        \"keywords\": keyword,\n",
    "        \"limit\": 1,  # Limit to 1 image\n",
    "        \"print_urls\": True,\n",
    "    }\n",
    "\n",
    "    # Perform the Google Images search\n",
    "    result = response.download(search_params)\n",
    "\n",
    "    # Get the download directory path from the result dictionary\n",
    "    download_dir = result[0][keyword]\n",
    "\n",
    "    # List files in the download directory\n",
    "    files = os.listdir(download_dir)\n",
    "\n",
    "    # Find the first image file\n",
    "    first_image_path = None\n",
    "    for file in files:\n",
    "        if file.lower().endswith(('.jpg', '.jpeg', '.png', '.gif', '.bmp', '.webp')):\n",
    "            first_image_path = os.path.join(download_dir, file)\n",
    "            break\n",
    "\n",
    "    if first_image_path:\n",
    "        print(\"Downloaded image:\", first_image_path)\n",
    "\n",
    "        # Display the downloaded image in the Jupyter Notebook\n",
    "        display(Image(filename=first_image_path))\n",
    "    else:\n",
    "        print(\"No images found for the given keyword.\")\n",
    "\n",
    "if __name__ == \"__main__\":\n",
    "    keyword = input(\"Enter a keyword to search for an image: \")\n",
    "    fetch_and_display_image(keyword)\n"
   ]
  },
  {
   "cell_type": "code",
   "execution_count": 17,
   "id": "0ca4c3c0",
   "metadata": {},
   "outputs": [
    {
     "data": {
      "text/html": [
       "<img src=\"https://www.google.com/search?q=google+images&client=opera&hs=Mx&sca_esv=568491074&tbm=isch&sxsrf=AM9HkKnClBnrrGjrCKv8aPPUv22zWVPUGw:1695729289326&source=lnms&sa=X&ved=2ahUKEwiIr7Pvm8iBAxVeg4kEHXDTD2AQ_AUoAXoECAMQAw&biw=1534&bih=698&dpr=1.25#imgrc=kt-unKn59IVgPM\"/>"
      ],
      "text/plain": [
       "<IPython.core.display.Image object>"
      ]
     },
     "execution_count": 17,
     "metadata": {},
     "output_type": "execute_result"
    }
   ],
   "source": [
    "from IPython.display import Image\n",
    "\n",
    "# Replace 'image_url' with the URL of the image you want to display\n",
    "image_url = 'https://www.google.com/search?q=google+images&client=opera&hs=Mx&sca_esv=568491074&tbm=isch&sxsrf=AM9HkKnClBnrrGjrCKv8aPPUv22zWVPUGw:1695729289326&source=lnms&sa=X&ved=2ahUKEwiIr7Pvm8iBAxVeg4kEHXDTD2AQ_AUoAXoECAMQAw&biw=1534&bih=698&dpr=1.25#imgrc=kt-unKn59IVgPM'\n",
    "\n",
    "# Display the image\n",
    "Image(url=image_url)\n"
   ]
  },
  {
   "cell_type": "code",
   "execution_count": 18,
   "id": "9fecf33b",
   "metadata": {},
   "outputs": [
    {
     "data": {
      "text/html": [
       "<img src=\"/images/branding/searchlogo/1x/googlelogo_desk_heirloom_color_150x55dp.gif\"/>"
      ],
      "text/plain": [
       "<IPython.core.display.Image object>"
      ]
     },
     "metadata": {},
     "output_type": "display_data"
    }
   ],
   "source": [
    "import requests\n",
    "from bs4 import BeautifulSoup\n",
    "from IPython.display import Image, display\n",
    "\n",
    "# URL of the Google Images search result page\n",
    "search_url = \"https://www.google.com/search?q=google+images&client=opera&hs=Mx&sca_esv=568491074&tbm=isch&sxsrf=AM9HkKnClBnrrGjrCKv8aPPUv22zWVPUGw:1695729289326&source=lnms&sa=X&ved=2ahUKEwiIr7Pvm8iBAxVeg4kEHXDTD2AQ_AUoAXoECAMQAw&biw=1534&bih=698&dpr=1.25#imgrc=TOBEnYpozstN3M\"\n",
    "\n",
    "# Send an HTTP GET request to the search URL\n",
    "response = requests.get(search_url)\n",
    "\n",
    "# Parse the HTML content of the page\n",
    "soup = BeautifulSoup(response.text, 'html.parser')\n",
    "\n",
    "# Find the first image element in the search results\n",
    "image_element = soup.find('img')\n",
    "\n",
    "if image_element:\n",
    "    # Extract the URL of the image\n",
    "    image_url = image_element['src']\n",
    "\n",
    "    # Display the image in the Jupyter Notebook\n",
    "    display(Image(url=image_url))\n",
    "else:\n",
    "    print(\"No image found in the search results.\")\n"
   ]
  },
  {
   "cell_type": "code",
   "execution_count": 21,
   "id": "6c0c1a0e",
   "metadata": {},
   "outputs": [],
   "source": [
    "import requests\n",
    "from PIL import Image"
   ]
  },
  {
   "cell_type": "code",
   "execution_count": 22,
   "id": "2967dae4",
   "metadata": {},
   "outputs": [],
   "source": [
    "def importingPIC(url):\n",
    "    image_data = requests.get(url,stream = True).raw\n",
    "    display(Image.open(image_data))\n",
    "    \n",
    "    "
   ]
  },
  {
   "cell_type": "code",
   "execution_count": 25,
   "id": "c7ead955",
   "metadata": {},
   "outputs": [
    {
     "ename": "UnidentifiedImageError",
     "evalue": "cannot identify image file <_io.BytesIO object at 0x000001EA956E5270>",
     "output_type": "error",
     "traceback": [
      "\u001b[1;31m---------------------------------------------------------------------------\u001b[0m",
      "\u001b[1;31mUnidentifiedImageError\u001b[0m                    Traceback (most recent call last)",
      "\u001b[1;32m<ipython-input-25-d71f83a97354>\u001b[0m in \u001b[0;36m<module>\u001b[1;34m\u001b[0m\n\u001b[0;32m      1\u001b[0m \u001b[0murl\u001b[0m \u001b[1;33m=\u001b[0m \u001b[1;34m'https://pixabay.com/photos/chain-security-metal-iron-3481377/'\u001b[0m\u001b[1;33m\u001b[0m\u001b[1;33m\u001b[0m\u001b[0m\n\u001b[1;32m----> 2\u001b[1;33m \u001b[0mimportingPIC\u001b[0m\u001b[1;33m(\u001b[0m\u001b[0murl\u001b[0m\u001b[1;33m)\u001b[0m\u001b[1;33m\u001b[0m\u001b[1;33m\u001b[0m\u001b[0m\n\u001b[0m",
      "\u001b[1;32m<ipython-input-22-2dfc3677dfa3>\u001b[0m in \u001b[0;36mimportingPIC\u001b[1;34m(url)\u001b[0m\n\u001b[0;32m      1\u001b[0m \u001b[1;32mdef\u001b[0m \u001b[0mimportingPIC\u001b[0m\u001b[1;33m(\u001b[0m\u001b[0murl\u001b[0m\u001b[1;33m)\u001b[0m\u001b[1;33m:\u001b[0m\u001b[1;33m\u001b[0m\u001b[1;33m\u001b[0m\u001b[0m\n\u001b[0;32m      2\u001b[0m     \u001b[0mimage_data\u001b[0m \u001b[1;33m=\u001b[0m \u001b[0mrequests\u001b[0m\u001b[1;33m.\u001b[0m\u001b[0mget\u001b[0m\u001b[1;33m(\u001b[0m\u001b[0murl\u001b[0m\u001b[1;33m,\u001b[0m\u001b[0mstream\u001b[0m \u001b[1;33m=\u001b[0m \u001b[1;32mTrue\u001b[0m\u001b[1;33m)\u001b[0m\u001b[1;33m.\u001b[0m\u001b[0mraw\u001b[0m\u001b[1;33m\u001b[0m\u001b[1;33m\u001b[0m\u001b[0m\n\u001b[1;32m----> 3\u001b[1;33m     \u001b[0mdisplay\u001b[0m\u001b[1;33m(\u001b[0m\u001b[0mImage\u001b[0m\u001b[1;33m.\u001b[0m\u001b[0mopen\u001b[0m\u001b[1;33m(\u001b[0m\u001b[0mimage_data\u001b[0m\u001b[1;33m)\u001b[0m\u001b[1;33m)\u001b[0m\u001b[1;33m\u001b[0m\u001b[1;33m\u001b[0m\u001b[0m\n\u001b[0m\u001b[0;32m      4\u001b[0m \u001b[1;33m\u001b[0m\u001b[0m\n\u001b[0;32m      5\u001b[0m \u001b[1;33m\u001b[0m\u001b[0m\n",
      "\u001b[1;32m~\\anaconda3\\lib\\site-packages\\PIL\\Image.py\u001b[0m in \u001b[0;36mopen\u001b[1;34m(fp, mode, formats)\u001b[0m\n\u001b[0;32m   2965\u001b[0m     \u001b[1;32mfor\u001b[0m \u001b[0mmessage\u001b[0m \u001b[1;32min\u001b[0m \u001b[0maccept_warnings\u001b[0m\u001b[1;33m:\u001b[0m\u001b[1;33m\u001b[0m\u001b[1;33m\u001b[0m\u001b[0m\n\u001b[0;32m   2966\u001b[0m         \u001b[0mwarnings\u001b[0m\u001b[1;33m.\u001b[0m\u001b[0mwarn\u001b[0m\u001b[1;33m(\u001b[0m\u001b[0mmessage\u001b[0m\u001b[1;33m)\u001b[0m\u001b[1;33m\u001b[0m\u001b[1;33m\u001b[0m\u001b[0m\n\u001b[1;32m-> 2967\u001b[1;33m     raise UnidentifiedImageError(\n\u001b[0m\u001b[0;32m   2968\u001b[0m         \u001b[1;34m\"cannot identify image file %r\"\u001b[0m \u001b[1;33m%\u001b[0m \u001b[1;33m(\u001b[0m\u001b[0mfilename\u001b[0m \u001b[1;32mif\u001b[0m \u001b[0mfilename\u001b[0m \u001b[1;32melse\u001b[0m \u001b[0mfp\u001b[0m\u001b[1;33m)\u001b[0m\u001b[1;33m\u001b[0m\u001b[1;33m\u001b[0m\u001b[0m\n\u001b[0;32m   2969\u001b[0m     )\n",
      "\u001b[1;31mUnidentifiedImageError\u001b[0m: cannot identify image file <_io.BytesIO object at 0x000001EA956E5270>"
     ]
    }
   ],
   "source": [
    "url = 'https://pixabay.com/photos/chain-security-metal-iron-3481377/'\n",
    "importingPIC(url)"
   ]
  },
  {
   "cell_type": "code",
   "execution_count": null,
   "id": "bc534b05",
   "metadata": {},
   "outputs": [],
   "source": []
  },
  {
   "cell_type": "code",
   "execution_count": 30,
   "id": "57e562b8",
   "metadata": {},
   "outputs": [
    {
     "name": "stdout",
     "output_type": "stream",
     "text": [
      "Error: cannot identify image file <_io.BytesIO object at 0x000001EA9400CF90>\n"
     ]
    }
   ],
   "source": [
    "import requests\n",
    "from PIL import Image\n",
    "from IPython.display import display\n",
    "\n",
    "def display_image_from_url(url):\n",
    "    try:\n",
    "        # Send an HTTP GET request to the image URL\n",
    "        response = requests.get(url, stream=True)\n",
    "        response.raise_for_status()  # Check for any request errors\n",
    "\n",
    "        # Open and display the image using Pillow and IPython.display\n",
    "        img = Image.open(response.raw)\n",
    "        display(img)\n",
    "    except Exception as e:\n",
    "        print(f\"Error: {e}\")\n",
    "\n",
    "# Example direct image URL (replace with your desired image URL)\n",
    "image_url = 'https://en.wikipedia.org/wiki/Google_logo#/media/File:Google_Logo_(1998).png'\n",
    "\n",
    "# Display the image\n",
    "display_image_from_url(image_url)\n"
   ]
  },
  {
   "cell_type": "code",
   "execution_count": 52,
   "id": "d560b07d",
   "metadata": {},
   "outputs": [],
   "source": [
    "import tkinter as tk\n",
    "from tkinter import PhotoImage\n",
    "\n",
    "def show_popup(title, image_path):\n",
    "    # Create a new tkinter window for the popup\n",
    "    popup_window = tk.Toplevel()\n",
    "    popup_window.title(title)\n",
    "\n",
    "    # Load and display the image in the popup\n",
    "    image = PhotoImage(file=image_path)\n",
    "    label = tk.Label(popup_window, image=image)\n",
    "    label.pack()\n",
    "\n",
    "    # Run the popup window\n",
    "    popup_window.mainloop()\n",
    "\n",
    "# Example usage:\n",
    "popup_title = \"Hellow YOGI\"\n",
    "image_path = \"C:\\\\Users\\\\User\\\\Downloads\\\\ram.png\"  # Replace with the path to your image file\n",
    "show_popup(popup_title, image_path)\n"
   ]
  },
  {
   "cell_type": "code",
   "execution_count": 36,
   "id": "6f44b181",
   "metadata": {},
   "outputs": [
    {
     "ename": "UnidentifiedImageError",
     "evalue": "cannot identify image file <_io.BytesIO object at 0x000001EA9576DA40>",
     "output_type": "error",
     "traceback": [
      "\u001b[1;31m---------------------------------------------------------------------------\u001b[0m",
      "\u001b[1;31mUnidentifiedImageError\u001b[0m                    Traceback (most recent call last)",
      "\u001b[1;32m<ipython-input-36-e1ba94e9a7a8>\u001b[0m in \u001b[0;36m<module>\u001b[1;34m\u001b[0m\n\u001b[0;32m     35\u001b[0m \u001b[0mpopup_title\u001b[0m \u001b[1;33m=\u001b[0m \u001b[1;34m\"My Popup\"\u001b[0m\u001b[1;33m\u001b[0m\u001b[1;33m\u001b[0m\u001b[0m\n\u001b[0;32m     36\u001b[0m \u001b[0mimage_url\u001b[0m \u001b[1;33m=\u001b[0m \u001b[1;34m\"https://en.wikipedia.org/wiki/Google_logo#/media/File:Google_Logo_(1998).png\"\u001b[0m  \u001b[1;31m# Replace with the URL of the image you want to display\u001b[0m\u001b[1;33m\u001b[0m\u001b[1;33m\u001b[0m\u001b[0m\n\u001b[1;32m---> 37\u001b[1;33m \u001b[0mshow_popup\u001b[0m\u001b[1;33m(\u001b[0m\u001b[0mpopup_title\u001b[0m\u001b[1;33m,\u001b[0m \u001b[0mimage_url\u001b[0m\u001b[1;33m)\u001b[0m\u001b[1;33m\u001b[0m\u001b[1;33m\u001b[0m\u001b[0m\n\u001b[0m",
      "\u001b[1;32m<ipython-input-36-e1ba94e9a7a8>\u001b[0m in \u001b[0;36mshow_popup\u001b[1;34m(title, image_url)\u001b[0m\n\u001b[0;32m     16\u001b[0m         \u001b[1;31m# Read the image data and create a PIL Image\u001b[0m\u001b[1;33m\u001b[0m\u001b[1;33m\u001b[0m\u001b[1;33m\u001b[0m\u001b[0m\n\u001b[0;32m     17\u001b[0m         \u001b[0mimage_data\u001b[0m \u001b[1;33m=\u001b[0m \u001b[0mBytesIO\u001b[0m\u001b[1;33m(\u001b[0m\u001b[0mresponse\u001b[0m\u001b[1;33m.\u001b[0m\u001b[0mcontent\u001b[0m\u001b[1;33m)\u001b[0m\u001b[1;33m\u001b[0m\u001b[1;33m\u001b[0m\u001b[0m\n\u001b[1;32m---> 18\u001b[1;33m         \u001b[0mimg\u001b[0m \u001b[1;33m=\u001b[0m \u001b[0mImage\u001b[0m\u001b[1;33m.\u001b[0m\u001b[0mopen\u001b[0m\u001b[1;33m(\u001b[0m\u001b[0mimage_data\u001b[0m\u001b[1;33m)\u001b[0m\u001b[1;33m\u001b[0m\u001b[1;33m\u001b[0m\u001b[0m\n\u001b[0m\u001b[0;32m     19\u001b[0m \u001b[1;33m\u001b[0m\u001b[0m\n\u001b[0;32m     20\u001b[0m         \u001b[1;31m# Convert the PIL Image to a PhotoImage to display it in tkinter\u001b[0m\u001b[1;33m\u001b[0m\u001b[1;33m\u001b[0m\u001b[1;33m\u001b[0m\u001b[0m\n",
      "\u001b[1;32m~\\anaconda3\\lib\\site-packages\\PIL\\Image.py\u001b[0m in \u001b[0;36mopen\u001b[1;34m(fp, mode, formats)\u001b[0m\n\u001b[0;32m   2965\u001b[0m     \u001b[1;32mfor\u001b[0m \u001b[0mmessage\u001b[0m \u001b[1;32min\u001b[0m \u001b[0maccept_warnings\u001b[0m\u001b[1;33m:\u001b[0m\u001b[1;33m\u001b[0m\u001b[1;33m\u001b[0m\u001b[0m\n\u001b[0;32m   2966\u001b[0m         \u001b[0mwarnings\u001b[0m\u001b[1;33m.\u001b[0m\u001b[0mwarn\u001b[0m\u001b[1;33m(\u001b[0m\u001b[0mmessage\u001b[0m\u001b[1;33m)\u001b[0m\u001b[1;33m\u001b[0m\u001b[1;33m\u001b[0m\u001b[0m\n\u001b[1;32m-> 2967\u001b[1;33m     raise UnidentifiedImageError(\n\u001b[0m\u001b[0;32m   2968\u001b[0m         \u001b[1;34m\"cannot identify image file %r\"\u001b[0m \u001b[1;33m%\u001b[0m \u001b[1;33m(\u001b[0m\u001b[0mfilename\u001b[0m \u001b[1;32mif\u001b[0m \u001b[0mfilename\u001b[0m \u001b[1;32melse\u001b[0m \u001b[0mfp\u001b[0m\u001b[1;33m)\u001b[0m\u001b[1;33m\u001b[0m\u001b[1;33m\u001b[0m\u001b[0m\n\u001b[0;32m   2969\u001b[0m     )\n",
      "\u001b[1;31mUnidentifiedImageError\u001b[0m: cannot identify image file <_io.BytesIO object at 0x000001EA9576DA40>"
     ]
    }
   ],
   "source": [
    "import tkinter as tk\n",
    "from tkinter import PhotoImage\n",
    "import requests\n",
    "from PIL import Image, ImageTk\n",
    "from io import BytesIO\n",
    "\n",
    "def show_popup(title, image_url):\n",
    "    # Create a new tkinter window for the popup\n",
    "    popup_window = tk.Toplevel()\n",
    "    popup_window.title(title)\n",
    "\n",
    "    # Send an HTTP GET request to the image URL\n",
    "    response = requests.get(image_url)\n",
    "\n",
    "    if response.status_code == 200:\n",
    "        # Read the image data and create a PIL Image\n",
    "        image_data = BytesIO(response.content)\n",
    "        img = Image.open(image_data)\n",
    "\n",
    "        # Convert the PIL Image to a PhotoImage to display it in tkinter\n",
    "        photo = ImageTk.PhotoImage(img)\n",
    "\n",
    "        # Create a Label to display the image\n",
    "        label = tk.Label(popup_window, image=photo)\n",
    "        label.image = photo\n",
    "        label.pack()\n",
    "    else:\n",
    "        label = tk.Label(popup_window, text=\"Image not found or couldn't be loaded.\")\n",
    "        label.pack()\n",
    "\n",
    "    # Run the popup window\n",
    "    popup_window.mainloop()\n",
    "\n",
    "# Example usage:\n",
    "popup_title = \"My Popup\"\n",
    "image_url = \"https://en.wikipedia.org/wiki/Google_logo#/media/File:Google_Logo_(1998).png\"  # Replace with the URL of the image you want to display\n",
    "show_popup(popup_title, image_url)\n"
   ]
  },
  {
   "cell_type": "code",
   "execution_count": 49,
   "id": "d4adaf8a",
   "metadata": {},
   "outputs": [
    {
     "ename": "AttributeError",
     "evalue": "module 'numpy' has no attribute 'typeDict'",
     "output_type": "error",
     "traceback": [
      "\u001b[1;31m---------------------------------------------------------------------------\u001b[0m",
      "\u001b[1;31mAttributeError\u001b[0m                            Traceback (most recent call last)",
      "\u001b[1;32m<ipython-input-49-6b88ba6489a0>\u001b[0m in \u001b[0;36m<module>\u001b[1;34m\u001b[0m\n\u001b[0;32m      1\u001b[0m \u001b[1;32mfrom\u001b[0m \u001b[0mwarnings\u001b[0m \u001b[1;32mimport\u001b[0m \u001b[0mfilterwarnings\u001b[0m\u001b[1;33m\u001b[0m\u001b[1;33m\u001b[0m\u001b[0m\n\u001b[1;32m----> 2\u001b[1;33m \u001b[1;32mimport\u001b[0m \u001b[0mtensorflow\u001b[0m \u001b[1;32mas\u001b[0m \u001b[0mtf\u001b[0m\u001b[1;33m\u001b[0m\u001b[1;33m\u001b[0m\u001b[0m\n\u001b[0m\u001b[0;32m      3\u001b[0m \u001b[1;32mfrom\u001b[0m \u001b[0mtensorflow\u001b[0m \u001b[1;32mimport\u001b[0m \u001b[0mio\u001b[0m\u001b[1;33m\u001b[0m\u001b[1;33m\u001b[0m\u001b[0m\n\u001b[0;32m      4\u001b[0m \u001b[1;32mfrom\u001b[0m \u001b[0mtensorflow\u001b[0m \u001b[1;32mimport\u001b[0m \u001b[0mimage\u001b[0m\u001b[1;33m\u001b[0m\u001b[1;33m\u001b[0m\u001b[0m\n\u001b[0;32m      5\u001b[0m \u001b[1;32mfrom\u001b[0m \u001b[0mmatplotlib\u001b[0m \u001b[1;32mimport\u001b[0m \u001b[0mpyplot\u001b[0m \u001b[1;32mas\u001b[0m \u001b[0mplt\u001b[0m\u001b[1;33m\u001b[0m\u001b[1;33m\u001b[0m\u001b[0m\n",
      "\u001b[1;32m~\\anaconda3\\lib\\site-packages\\tensorflow\\__init__.py\u001b[0m in \u001b[0;36m<module>\u001b[1;34m\u001b[0m\n\u001b[0;32m     36\u001b[0m \u001b[1;32mimport\u001b[0m \u001b[0mtyping\u001b[0m \u001b[1;32mas\u001b[0m \u001b[0m_typing\u001b[0m\u001b[1;33m\u001b[0m\u001b[1;33m\u001b[0m\u001b[0m\n\u001b[0;32m     37\u001b[0m \u001b[1;33m\u001b[0m\u001b[0m\n\u001b[1;32m---> 38\u001b[1;33m \u001b[1;32mfrom\u001b[0m \u001b[0mtensorflow\u001b[0m\u001b[1;33m.\u001b[0m\u001b[0mpython\u001b[0m\u001b[1;33m.\u001b[0m\u001b[0mtools\u001b[0m \u001b[1;32mimport\u001b[0m \u001b[0mmodule_util\u001b[0m \u001b[1;32mas\u001b[0m \u001b[0m_module_util\u001b[0m\u001b[1;33m\u001b[0m\u001b[1;33m\u001b[0m\u001b[0m\n\u001b[0m\u001b[0;32m     39\u001b[0m \u001b[1;32mfrom\u001b[0m \u001b[0mtensorflow\u001b[0m\u001b[1;33m.\u001b[0m\u001b[0mpython\u001b[0m\u001b[1;33m.\u001b[0m\u001b[0mutil\u001b[0m\u001b[1;33m.\u001b[0m\u001b[0mlazy_loader\u001b[0m \u001b[1;32mimport\u001b[0m \u001b[0mLazyLoader\u001b[0m \u001b[1;32mas\u001b[0m \u001b[0m_LazyLoader\u001b[0m\u001b[1;33m\u001b[0m\u001b[1;33m\u001b[0m\u001b[0m\n\u001b[0;32m     40\u001b[0m \u001b[1;33m\u001b[0m\u001b[0m\n",
      "\u001b[1;32m~\\anaconda3\\lib\\site-packages\\tensorflow\\python\\__init__.py\u001b[0m in \u001b[0;36m<module>\u001b[1;34m\u001b[0m\n\u001b[0;32m     43\u001b[0m \u001b[1;32mfrom\u001b[0m \u001b[0mtensorflow\u001b[0m\u001b[1;33m.\u001b[0m\u001b[0mpython\u001b[0m \u001b[1;32mimport\u001b[0m \u001b[0mdistribute\u001b[0m\u001b[1;33m\u001b[0m\u001b[1;33m\u001b[0m\u001b[0m\n\u001b[0;32m     44\u001b[0m \u001b[1;31m# from tensorflow.python import keras\u001b[0m\u001b[1;33m\u001b[0m\u001b[1;33m\u001b[0m\u001b[1;33m\u001b[0m\u001b[0m\n\u001b[1;32m---> 45\u001b[1;33m \u001b[1;32mfrom\u001b[0m \u001b[0mtensorflow\u001b[0m\u001b[1;33m.\u001b[0m\u001b[0mpython\u001b[0m\u001b[1;33m.\u001b[0m\u001b[0mfeature_column\u001b[0m \u001b[1;32mimport\u001b[0m \u001b[0mfeature_column_lib\u001b[0m \u001b[1;32mas\u001b[0m \u001b[0mfeature_column\u001b[0m\u001b[1;33m\u001b[0m\u001b[1;33m\u001b[0m\u001b[0m\n\u001b[0m\u001b[0;32m     46\u001b[0m \u001b[1;31m# from tensorflow.python.layers import layers\u001b[0m\u001b[1;33m\u001b[0m\u001b[1;33m\u001b[0m\u001b[1;33m\u001b[0m\u001b[0m\n\u001b[0;32m     47\u001b[0m \u001b[1;32mfrom\u001b[0m \u001b[0mtensorflow\u001b[0m\u001b[1;33m.\u001b[0m\u001b[0mpython\u001b[0m\u001b[1;33m.\u001b[0m\u001b[0mmodule\u001b[0m \u001b[1;32mimport\u001b[0m \u001b[0mmodule\u001b[0m\u001b[1;33m\u001b[0m\u001b[1;33m\u001b[0m\u001b[0m\n",
      "\u001b[1;32m~\\anaconda3\\lib\\site-packages\\tensorflow\\python\\feature_column\\feature_column_lib.py\u001b[0m in \u001b[0;36m<module>\u001b[1;34m\u001b[0m\n\u001b[0;32m     16\u001b[0m \u001b[1;33m\u001b[0m\u001b[0m\n\u001b[0;32m     17\u001b[0m \u001b[1;31m# pylint: disable=unused-import,line-too-long,wildcard-import,g-bad-import-order\u001b[0m\u001b[1;33m\u001b[0m\u001b[1;33m\u001b[0m\u001b[1;33m\u001b[0m\u001b[0m\n\u001b[1;32m---> 18\u001b[1;33m \u001b[1;32mfrom\u001b[0m \u001b[0mtensorflow\u001b[0m\u001b[1;33m.\u001b[0m\u001b[0mpython\u001b[0m\u001b[1;33m.\u001b[0m\u001b[0mfeature_column\u001b[0m\u001b[1;33m.\u001b[0m\u001b[0mfeature_column\u001b[0m \u001b[1;32mimport\u001b[0m \u001b[1;33m*\u001b[0m\u001b[1;33m\u001b[0m\u001b[1;33m\u001b[0m\u001b[0m\n\u001b[0m\u001b[0;32m     19\u001b[0m \u001b[1;32mfrom\u001b[0m \u001b[0mtensorflow\u001b[0m\u001b[1;33m.\u001b[0m\u001b[0mpython\u001b[0m\u001b[1;33m.\u001b[0m\u001b[0mfeature_column\u001b[0m\u001b[1;33m.\u001b[0m\u001b[0mfeature_column_v2\u001b[0m \u001b[1;32mimport\u001b[0m \u001b[1;33m*\u001b[0m\u001b[1;33m\u001b[0m\u001b[1;33m\u001b[0m\u001b[0m\n\u001b[0;32m     20\u001b[0m \u001b[1;32mfrom\u001b[0m \u001b[0mtensorflow\u001b[0m\u001b[1;33m.\u001b[0m\u001b[0mpython\u001b[0m\u001b[1;33m.\u001b[0m\u001b[0mfeature_column\u001b[0m\u001b[1;33m.\u001b[0m\u001b[0msequence_feature_column\u001b[0m \u001b[1;32mimport\u001b[0m \u001b[1;33m*\u001b[0m\u001b[1;33m\u001b[0m\u001b[1;33m\u001b[0m\u001b[0m\n",
      "\u001b[1;32m~\\anaconda3\\lib\\site-packages\\tensorflow\\python\\feature_column\\feature_column.py\u001b[0m in \u001b[0;36m<module>\u001b[1;34m\u001b[0m\n\u001b[0;32m    141\u001b[0m \u001b[1;32mfrom\u001b[0m \u001b[0mtensorflow\u001b[0m\u001b[1;33m.\u001b[0m\u001b[0mpython\u001b[0m\u001b[1;33m.\u001b[0m\u001b[0mframework\u001b[0m \u001b[1;32mimport\u001b[0m \u001b[0msparse_tensor\u001b[0m \u001b[1;32mas\u001b[0m \u001b[0msparse_tensor_lib\u001b[0m\u001b[1;33m\u001b[0m\u001b[1;33m\u001b[0m\u001b[0m\n\u001b[0;32m    142\u001b[0m \u001b[1;32mfrom\u001b[0m \u001b[0mtensorflow\u001b[0m\u001b[1;33m.\u001b[0m\u001b[0mpython\u001b[0m\u001b[1;33m.\u001b[0m\u001b[0mframework\u001b[0m \u001b[1;32mimport\u001b[0m \u001b[0mtensor_shape\u001b[0m\u001b[1;33m\u001b[0m\u001b[1;33m\u001b[0m\u001b[0m\n\u001b[1;32m--> 143\u001b[1;33m \u001b[1;32mfrom\u001b[0m \u001b[0mtensorflow\u001b[0m\u001b[1;33m.\u001b[0m\u001b[0mpython\u001b[0m\u001b[1;33m.\u001b[0m\u001b[0mlayers\u001b[0m \u001b[1;32mimport\u001b[0m \u001b[0mbase\u001b[0m\u001b[1;33m\u001b[0m\u001b[1;33m\u001b[0m\u001b[0m\n\u001b[0m\u001b[0;32m    144\u001b[0m \u001b[1;32mfrom\u001b[0m \u001b[0mtensorflow\u001b[0m\u001b[1;33m.\u001b[0m\u001b[0mpython\u001b[0m\u001b[1;33m.\u001b[0m\u001b[0mops\u001b[0m \u001b[1;32mimport\u001b[0m \u001b[0marray_ops\u001b[0m\u001b[1;33m\u001b[0m\u001b[1;33m\u001b[0m\u001b[0m\n\u001b[0;32m    145\u001b[0m \u001b[1;32mfrom\u001b[0m \u001b[0mtensorflow\u001b[0m\u001b[1;33m.\u001b[0m\u001b[0mpython\u001b[0m\u001b[1;33m.\u001b[0m\u001b[0mops\u001b[0m \u001b[1;32mimport\u001b[0m \u001b[0marray_ops_stack\u001b[0m\u001b[1;33m\u001b[0m\u001b[1;33m\u001b[0m\u001b[0m\n",
      "\u001b[1;32m~\\anaconda3\\lib\\site-packages\\tensorflow\\python\\layers\\base.py\u001b[0m in \u001b[0;36m<module>\u001b[1;34m\u001b[0m\n\u001b[0;32m     14\u001b[0m \u001b[1;31m# =============================================================================\u001b[0m\u001b[1;33m\u001b[0m\u001b[1;33m\u001b[0m\u001b[1;33m\u001b[0m\u001b[0m\n\u001b[0;32m     15\u001b[0m \u001b[1;34m\"\"\"Contains the base Layer class, from which all layers inherit.\"\"\"\u001b[0m\u001b[1;33m\u001b[0m\u001b[1;33m\u001b[0m\u001b[0m\n\u001b[1;32m---> 16\u001b[1;33m \u001b[1;32mfrom\u001b[0m \u001b[0mtensorflow\u001b[0m\u001b[1;33m.\u001b[0m\u001b[0mpython\u001b[0m\u001b[1;33m.\u001b[0m\u001b[0mkeras\u001b[0m\u001b[1;33m.\u001b[0m\u001b[0mlegacy_tf_layers\u001b[0m \u001b[1;32mimport\u001b[0m \u001b[0mbase\u001b[0m\u001b[1;33m\u001b[0m\u001b[1;33m\u001b[0m\u001b[0m\n\u001b[0m\u001b[0;32m     17\u001b[0m \u001b[1;33m\u001b[0m\u001b[0m\n\u001b[0;32m     18\u001b[0m \u001b[0mInputSpec\u001b[0m \u001b[1;33m=\u001b[0m \u001b[0mbase\u001b[0m\u001b[1;33m.\u001b[0m\u001b[0mInputSpec\u001b[0m\u001b[1;33m\u001b[0m\u001b[1;33m\u001b[0m\u001b[0m\n",
      "\u001b[1;32m~\\anaconda3\\lib\\site-packages\\tensorflow\\python\\keras\\__init__.py\u001b[0m in \u001b[0;36m<module>\u001b[1;34m\u001b[0m\n\u001b[0;32m     23\u001b[0m \u001b[1;33m\u001b[0m\u001b[0m\n\u001b[0;32m     24\u001b[0m \u001b[1;31m# See b/110718070#comment18 for more details about this import.\u001b[0m\u001b[1;33m\u001b[0m\u001b[1;33m\u001b[0m\u001b[1;33m\u001b[0m\u001b[0m\n\u001b[1;32m---> 25\u001b[1;33m \u001b[1;32mfrom\u001b[0m \u001b[0mtensorflow\u001b[0m\u001b[1;33m.\u001b[0m\u001b[0mpython\u001b[0m\u001b[1;33m.\u001b[0m\u001b[0mkeras\u001b[0m \u001b[1;32mimport\u001b[0m \u001b[0mmodels\u001b[0m\u001b[1;33m\u001b[0m\u001b[1;33m\u001b[0m\u001b[0m\n\u001b[0m\u001b[0;32m     26\u001b[0m \u001b[1;33m\u001b[0m\u001b[0m\n\u001b[0;32m     27\u001b[0m \u001b[1;32mfrom\u001b[0m \u001b[0mtensorflow\u001b[0m\u001b[1;33m.\u001b[0m\u001b[0mpython\u001b[0m\u001b[1;33m.\u001b[0m\u001b[0mkeras\u001b[0m\u001b[1;33m.\u001b[0m\u001b[0mengine\u001b[0m\u001b[1;33m.\u001b[0m\u001b[0minput_layer\u001b[0m \u001b[1;32mimport\u001b[0m \u001b[0mInput\u001b[0m\u001b[1;33m\u001b[0m\u001b[1;33m\u001b[0m\u001b[0m\n",
      "\u001b[1;32m~\\anaconda3\\lib\\site-packages\\tensorflow\\python\\keras\\models.py\u001b[0m in \u001b[0;36m<module>\u001b[1;34m\u001b[0m\n\u001b[0;32m     20\u001b[0m \u001b[1;32mfrom\u001b[0m \u001b[0mtensorflow\u001b[0m\u001b[1;33m.\u001b[0m\u001b[0mpython\u001b[0m\u001b[1;33m.\u001b[0m\u001b[0mkeras\u001b[0m \u001b[1;32mimport\u001b[0m \u001b[0mmetrics\u001b[0m \u001b[1;32mas\u001b[0m \u001b[0mmetrics_module\u001b[0m\u001b[1;33m\u001b[0m\u001b[1;33m\u001b[0m\u001b[0m\n\u001b[0;32m     21\u001b[0m \u001b[1;32mfrom\u001b[0m \u001b[0mtensorflow\u001b[0m\u001b[1;33m.\u001b[0m\u001b[0mpython\u001b[0m\u001b[1;33m.\u001b[0m\u001b[0mkeras\u001b[0m \u001b[1;32mimport\u001b[0m \u001b[0moptimizer_v1\u001b[0m\u001b[1;33m\u001b[0m\u001b[1;33m\u001b[0m\u001b[0m\n\u001b[1;32m---> 22\u001b[1;33m \u001b[1;32mfrom\u001b[0m \u001b[0mtensorflow\u001b[0m\u001b[1;33m.\u001b[0m\u001b[0mpython\u001b[0m\u001b[1;33m.\u001b[0m\u001b[0mkeras\u001b[0m\u001b[1;33m.\u001b[0m\u001b[0mengine\u001b[0m \u001b[1;32mimport\u001b[0m \u001b[0mfunctional\u001b[0m\u001b[1;33m\u001b[0m\u001b[1;33m\u001b[0m\u001b[0m\n\u001b[0m\u001b[0;32m     23\u001b[0m \u001b[1;32mfrom\u001b[0m \u001b[0mtensorflow\u001b[0m\u001b[1;33m.\u001b[0m\u001b[0mpython\u001b[0m\u001b[1;33m.\u001b[0m\u001b[0mkeras\u001b[0m\u001b[1;33m.\u001b[0m\u001b[0mengine\u001b[0m \u001b[1;32mimport\u001b[0m \u001b[0msequential\u001b[0m\u001b[1;33m\u001b[0m\u001b[1;33m\u001b[0m\u001b[0m\n\u001b[0;32m     24\u001b[0m \u001b[1;32mfrom\u001b[0m \u001b[0mtensorflow\u001b[0m\u001b[1;33m.\u001b[0m\u001b[0mpython\u001b[0m\u001b[1;33m.\u001b[0m\u001b[0mkeras\u001b[0m\u001b[1;33m.\u001b[0m\u001b[0mengine\u001b[0m \u001b[1;32mimport\u001b[0m \u001b[0mtraining\u001b[0m\u001b[1;33m\u001b[0m\u001b[1;33m\u001b[0m\u001b[0m\n",
      "\u001b[1;32m~\\anaconda3\\lib\\site-packages\\tensorflow\\python\\keras\\engine\\functional.py\u001b[0m in \u001b[0;36m<module>\u001b[1;34m\u001b[0m\n\u001b[0;32m     30\u001b[0m \u001b[1;32mfrom\u001b[0m \u001b[0mtensorflow\u001b[0m\u001b[1;33m.\u001b[0m\u001b[0mpython\u001b[0m\u001b[1;33m.\u001b[0m\u001b[0mkeras\u001b[0m\u001b[1;33m.\u001b[0m\u001b[0mengine\u001b[0m \u001b[1;32mimport\u001b[0m \u001b[0minput_spec\u001b[0m\u001b[1;33m\u001b[0m\u001b[1;33m\u001b[0m\u001b[0m\n\u001b[0;32m     31\u001b[0m \u001b[1;32mfrom\u001b[0m \u001b[0mtensorflow\u001b[0m\u001b[1;33m.\u001b[0m\u001b[0mpython\u001b[0m\u001b[1;33m.\u001b[0m\u001b[0mkeras\u001b[0m\u001b[1;33m.\u001b[0m\u001b[0mengine\u001b[0m \u001b[1;32mimport\u001b[0m \u001b[0mnode\u001b[0m \u001b[1;32mas\u001b[0m \u001b[0mnode_module\u001b[0m\u001b[1;33m\u001b[0m\u001b[1;33m\u001b[0m\u001b[0m\n\u001b[1;32m---> 32\u001b[1;33m \u001b[1;32mfrom\u001b[0m \u001b[0mtensorflow\u001b[0m\u001b[1;33m.\u001b[0m\u001b[0mpython\u001b[0m\u001b[1;33m.\u001b[0m\u001b[0mkeras\u001b[0m\u001b[1;33m.\u001b[0m\u001b[0mengine\u001b[0m \u001b[1;32mimport\u001b[0m \u001b[0mtraining\u001b[0m \u001b[1;32mas\u001b[0m \u001b[0mtraining_lib\u001b[0m\u001b[1;33m\u001b[0m\u001b[1;33m\u001b[0m\u001b[0m\n\u001b[0m\u001b[0;32m     33\u001b[0m \u001b[1;32mfrom\u001b[0m \u001b[0mtensorflow\u001b[0m\u001b[1;33m.\u001b[0m\u001b[0mpython\u001b[0m\u001b[1;33m.\u001b[0m\u001b[0mkeras\u001b[0m\u001b[1;33m.\u001b[0m\u001b[0mengine\u001b[0m \u001b[1;32mimport\u001b[0m \u001b[0mtraining_utils\u001b[0m\u001b[1;33m\u001b[0m\u001b[1;33m\u001b[0m\u001b[0m\n\u001b[0;32m     34\u001b[0m \u001b[1;32mfrom\u001b[0m \u001b[0mtensorflow\u001b[0m\u001b[1;33m.\u001b[0m\u001b[0mpython\u001b[0m\u001b[1;33m.\u001b[0m\u001b[0mkeras\u001b[0m\u001b[1;33m.\u001b[0m\u001b[0msaving\u001b[0m\u001b[1;33m.\u001b[0m\u001b[0msaved_model\u001b[0m \u001b[1;32mimport\u001b[0m \u001b[0mnetwork_serialization\u001b[0m\u001b[1;33m\u001b[0m\u001b[1;33m\u001b[0m\u001b[0m\n",
      "\u001b[1;32m~\\anaconda3\\lib\\site-packages\\tensorflow\\python\\keras\\engine\\training.py\u001b[0m in \u001b[0;36m<module>\u001b[1;34m\u001b[0m\n\u001b[0;32m     51\u001b[0m \u001b[1;32mfrom\u001b[0m \u001b[0mtensorflow\u001b[0m\u001b[1;33m.\u001b[0m\u001b[0mpython\u001b[0m\u001b[1;33m.\u001b[0m\u001b[0mkeras\u001b[0m\u001b[1;33m.\u001b[0m\u001b[0mmixed_precision\u001b[0m \u001b[1;32mimport\u001b[0m \u001b[0mloss_scale_optimizer\u001b[0m \u001b[1;32mas\u001b[0m \u001b[0mlso\u001b[0m\u001b[1;33m\u001b[0m\u001b[1;33m\u001b[0m\u001b[0m\n\u001b[0;32m     52\u001b[0m \u001b[1;32mfrom\u001b[0m \u001b[0mtensorflow\u001b[0m\u001b[1;33m.\u001b[0m\u001b[0mpython\u001b[0m\u001b[1;33m.\u001b[0m\u001b[0mkeras\u001b[0m\u001b[1;33m.\u001b[0m\u001b[0mmixed_precision\u001b[0m \u001b[1;32mimport\u001b[0m \u001b[0mpolicy\u001b[0m\u001b[1;33m\u001b[0m\u001b[1;33m\u001b[0m\u001b[0m\n\u001b[1;32m---> 53\u001b[1;33m \u001b[1;32mfrom\u001b[0m \u001b[0mtensorflow\u001b[0m\u001b[1;33m.\u001b[0m\u001b[0mpython\u001b[0m\u001b[1;33m.\u001b[0m\u001b[0mkeras\u001b[0m\u001b[1;33m.\u001b[0m\u001b[0msaving\u001b[0m \u001b[1;32mimport\u001b[0m \u001b[0mhdf5_format\u001b[0m\u001b[1;33m\u001b[0m\u001b[1;33m\u001b[0m\u001b[0m\n\u001b[0m\u001b[0;32m     54\u001b[0m \u001b[1;32mfrom\u001b[0m \u001b[0mtensorflow\u001b[0m\u001b[1;33m.\u001b[0m\u001b[0mpython\u001b[0m\u001b[1;33m.\u001b[0m\u001b[0mkeras\u001b[0m\u001b[1;33m.\u001b[0m\u001b[0msaving\u001b[0m \u001b[1;32mimport\u001b[0m \u001b[0msave\u001b[0m\u001b[1;33m\u001b[0m\u001b[1;33m\u001b[0m\u001b[0m\n\u001b[0;32m     55\u001b[0m \u001b[1;32mfrom\u001b[0m \u001b[0mtensorflow\u001b[0m\u001b[1;33m.\u001b[0m\u001b[0mpython\u001b[0m\u001b[1;33m.\u001b[0m\u001b[0mkeras\u001b[0m\u001b[1;33m.\u001b[0m\u001b[0msaving\u001b[0m \u001b[1;32mimport\u001b[0m \u001b[0msaving_utils\u001b[0m\u001b[1;33m\u001b[0m\u001b[1;33m\u001b[0m\u001b[0m\n",
      "\u001b[1;32m~\\anaconda3\\lib\\site-packages\\tensorflow\\python\\keras\\saving\\hdf5_format.py\u001b[0m in \u001b[0;36m<module>\u001b[1;34m\u001b[0m\n\u001b[0;32m     35\u001b[0m \u001b[1;31m# pylint: disable=g-import-not-at-top\u001b[0m\u001b[1;33m\u001b[0m\u001b[1;33m\u001b[0m\u001b[1;33m\u001b[0m\u001b[0m\n\u001b[0;32m     36\u001b[0m \u001b[1;32mtry\u001b[0m\u001b[1;33m:\u001b[0m\u001b[1;33m\u001b[0m\u001b[1;33m\u001b[0m\u001b[0m\n\u001b[1;32m---> 37\u001b[1;33m   \u001b[1;32mimport\u001b[0m \u001b[0mh5py\u001b[0m\u001b[1;33m\u001b[0m\u001b[1;33m\u001b[0m\u001b[0m\n\u001b[0m\u001b[0;32m     38\u001b[0m   \u001b[0mHDF5_OBJECT_HEADER_LIMIT\u001b[0m \u001b[1;33m=\u001b[0m \u001b[1;36m64512\u001b[0m\u001b[1;33m\u001b[0m\u001b[1;33m\u001b[0m\u001b[0m\n\u001b[0;32m     39\u001b[0m \u001b[1;32mexcept\u001b[0m \u001b[0mImportError\u001b[0m\u001b[1;33m:\u001b[0m\u001b[1;33m\u001b[0m\u001b[1;33m\u001b[0m\u001b[0m\n",
      "\u001b[1;32m~\\anaconda3\\lib\\site-packages\\h5py\\__init__.py\u001b[0m in \u001b[0;36m<module>\u001b[1;34m\u001b[0m\n\u001b[0;32m     44\u001b[0m \u001b[0m_errors\u001b[0m\u001b[1;33m.\u001b[0m\u001b[0msilence_errors\u001b[0m\u001b[1;33m(\u001b[0m\u001b[1;33m)\u001b[0m\u001b[1;33m\u001b[0m\u001b[1;33m\u001b[0m\u001b[0m\n\u001b[0;32m     45\u001b[0m \u001b[1;33m\u001b[0m\u001b[0m\n\u001b[1;32m---> 46\u001b[1;33m \u001b[1;32mfrom\u001b[0m \u001b[1;33m.\u001b[0m\u001b[0m_conv\u001b[0m \u001b[1;32mimport\u001b[0m \u001b[0mregister_converters\u001b[0m \u001b[1;32mas\u001b[0m \u001b[0m_register_converters\u001b[0m\u001b[1;33m\u001b[0m\u001b[1;33m\u001b[0m\u001b[0m\n\u001b[0m\u001b[0;32m     47\u001b[0m \u001b[0m_register_converters\u001b[0m\u001b[1;33m(\u001b[0m\u001b[1;33m)\u001b[0m\u001b[1;33m\u001b[0m\u001b[1;33m\u001b[0m\u001b[0m\n\u001b[0;32m     48\u001b[0m \u001b[1;33m\u001b[0m\u001b[0m\n",
      "\u001b[1;32mh5py\\h5t.pxd\u001b[0m in \u001b[0;36minit h5py._conv\u001b[1;34m()\u001b[0m\n",
      "\u001b[1;32mh5py\\h5t.pyx\u001b[0m in \u001b[0;36minit h5py.h5t\u001b[1;34m()\u001b[0m\n",
      "\u001b[1;32m~\\anaconda3\\lib\\site-packages\\numpy\\__init__.py\u001b[0m in \u001b[0;36m__getattr__\u001b[1;34m(attr)\u001b[0m\n\u001b[0;32m    318\u001b[0m             \u001b[1;32mreturn\u001b[0m \u001b[0mTester\u001b[0m\u001b[1;33m\u001b[0m\u001b[1;33m\u001b[0m\u001b[0m\n\u001b[0;32m    319\u001b[0m \u001b[1;33m\u001b[0m\u001b[0m\n\u001b[1;32m--> 320\u001b[1;33m         raise AttributeError(\"module {!r} has no attribute \"\n\u001b[0m\u001b[0;32m    321\u001b[0m                              \"{!r}\".format(__name__, attr))\n\u001b[0;32m    322\u001b[0m \u001b[1;33m\u001b[0m\u001b[0m\n",
      "\u001b[1;31mAttributeError\u001b[0m: module 'numpy' has no attribute 'typeDict'"
     ]
    }
   ],
   "source": [
    "from warnings import filterwarnings\n",
    "import tensorflow as tf\n",
    "from tensorflow import io\n",
    "from tensorflow import image\n",
    "from matplotlib import pyplot as plt\n",
    "\n",
    "filterwarnings(\"ignore\") \n",
    "tf_img = io.read_file(\"C:\\\\Users\\\\User\\\\Downloads\\\\image(14).png\")\n",
    "tf_img = image.decode_png(tf_img, channels=3)\n",
    "print(tf_img.dtype)\n",
    "plt.imshow(tf_img)\n",
    "plt.show()"
   ]
  },
  {
   "cell_type": "code",
   "execution_count": null,
   "id": "b3609a2c",
   "metadata": {},
   "outputs": [],
   "source": []
  },
  {
   "cell_type": "code",
   "execution_count": 38,
   "id": "c9d23087",
   "metadata": {},
   "outputs": [
    {
     "name": "stdout",
     "output_type": "stream",
     "text": [
      "Collecting tensorflow\n",
      "  Obtaining dependency information for tensorflow from https://files.pythonhosted.org/packages/5b/6f/8b125d126d54061c0be610b135aaf2f8960f55c2e185ac32445e4a5012d5/tensorflow-2.13.0-cp38-cp38-win_amd64.whl.metadata\n",
      "  Downloading tensorflow-2.13.0-cp38-cp38-win_amd64.whl.metadata (2.6 kB)\n",
      "Collecting tensorflow-intel==2.13.0 (from tensorflow)\n",
      "  Obtaining dependency information for tensorflow-intel==2.13.0 from https://files.pythonhosted.org/packages/38/ba/dd4d998a852451e98dc009ecb208bbb0eeb0c8252dc35b7c4e1050762b36/tensorflow_intel-2.13.0-cp38-cp38-win_amd64.whl.metadata\n",
      "  Downloading tensorflow_intel-2.13.0-cp38-cp38-win_amd64.whl.metadata (4.1 kB)\n",
      "Collecting absl-py>=1.0.0 (from tensorflow-intel==2.13.0->tensorflow)\n",
      "  Obtaining dependency information for absl-py>=1.0.0 from https://files.pythonhosted.org/packages/01/e4/dc0a1dcc4e74e08d7abedab278c795eef54a224363bb18f5692f416d834f/absl_py-2.0.0-py3-none-any.whl.metadata\n",
      "  Downloading absl_py-2.0.0-py3-none-any.whl.metadata (2.3 kB)\n",
      "Collecting astunparse>=1.6.0 (from tensorflow-intel==2.13.0->tensorflow)\n",
      "  Downloading astunparse-1.6.3-py2.py3-none-any.whl (12 kB)\n",
      "Collecting flatbuffers>=23.1.21 (from tensorflow-intel==2.13.0->tensorflow)\n",
      "  Obtaining dependency information for flatbuffers>=23.1.21 from https://files.pythonhosted.org/packages/6f/12/d5c79ee252793ffe845d58a913197bfa02ae9a0b5c9bc3dc4b58d477b9e7/flatbuffers-23.5.26-py2.py3-none-any.whl.metadata\n",
      "  Downloading flatbuffers-23.5.26-py2.py3-none-any.whl.metadata (850 bytes)\n",
      "Collecting gast<=0.4.0,>=0.2.1 (from tensorflow-intel==2.13.0->tensorflow)\n",
      "  Downloading gast-0.4.0-py3-none-any.whl (9.8 kB)\n",
      "Collecting google-pasta>=0.1.1 (from tensorflow-intel==2.13.0->tensorflow)\n",
      "  Downloading google_pasta-0.2.0-py3-none-any.whl (57 kB)\n",
      "     -------------------------------------- 57.5/57.5 kB 429.4 kB/s eta 0:00:00\n",
      "Requirement already satisfied: h5py>=2.9.0 in c:\\users\\user\\anaconda3\\lib\\site-packages (from tensorflow-intel==2.13.0->tensorflow) (2.10.0)\n",
      "Collecting libclang>=13.0.0 (from tensorflow-intel==2.13.0->tensorflow)\n",
      "  Obtaining dependency information for libclang>=13.0.0 from https://files.pythonhosted.org/packages/02/8c/dc970bc00867fe290e8c8a7befa1635af716a9ebdfe3fb9dce0ca4b522ce/libclang-16.0.6-py2.py3-none-win_amd64.whl.metadata\n",
      "  Downloading libclang-16.0.6-py2.py3-none-win_amd64.whl.metadata (5.3 kB)\n",
      "Collecting numpy<=1.24.3,>=1.22 (from tensorflow-intel==2.13.0->tensorflow)\n",
      "  Downloading numpy-1.24.3-cp38-cp38-win_amd64.whl (14.9 MB)\n",
      "     ---------------------------------------- 14.9/14.9 MB 2.0 MB/s eta 0:00:00\n",
      "Collecting opt-einsum>=2.3.2 (from tensorflow-intel==2.13.0->tensorflow)\n",
      "  Downloading opt_einsum-3.3.0-py3-none-any.whl (65 kB)\n",
      "     ---------------------------------------- 65.5/65.5 kB 3.7 MB/s eta 0:00:00\n",
      "Requirement already satisfied: packaging in c:\\users\\user\\anaconda3\\lib\\site-packages (from tensorflow-intel==2.13.0->tensorflow) (20.9)\n",
      "Note: you may need to restart the kernel to use updated packages.\n",
      "Collecting protobuf!=4.21.0,!=4.21.1,!=4.21.2,!=4.21.3,!=4.21.4,!=4.21.5,<5.0.0dev,>=3.20.3 (from tensorflow-intel==2.13.0->tensorflow)\n",
      "  Obtaining dependency information for protobuf!=4.21.0,!=4.21.1,!=4.21.2,!=4.21.3,!=4.21.4,!=4.21.5,<5.0.0dev,>=3.20.3 from https://files.pythonhosted.org/packages/cb/c3/b35c3b6d02d6bc5e60cbc7fd6bf9aedea30943f2b26bed27062dbd02913e/protobuf-4.24.3-cp38-cp38-win_amd64.whl.metadata\n",
      "  Downloading protobuf-4.24.3-cp38-cp38-win_amd64.whl.metadata (540 bytes)"
     ]
    },
    {
     "name": "stderr",
     "output_type": "stream",
     "text": [
      "DEPRECATION: pyodbc 4.0.0-unsupported has a non-standard version number. pip 23.3 will enforce this behaviour change. A possible replacement is to upgrade to a newer version of pyodbc or contact the author to suggest that they release a version with a conforming version number. Discussion can be found at https://github.com/pypa/pip/issues/12063\n",
      "ERROR: pip's dependency resolver does not currently take into account all the packages that are installed. This behaviour is the source of the following dependency conflicts.\n",
      "scipy 1.6.2 requires numpy<1.23.0,>=1.16.5, but you have numpy 1.24.3 which is incompatible.\n"
     ]
    },
    {
     "name": "stdout",
     "output_type": "stream",
     "text": [
      "\n",
      "Requirement already satisfied: setuptools in c:\\users\\user\\anaconda3\\lib\\site-packages (from tensorflow-intel==2.13.0->tensorflow) (52.0.0.post20210125)\n",
      "Requirement already satisfied: six>=1.12.0 in c:\\users\\user\\anaconda3\\lib\\site-packages (from tensorflow-intel==2.13.0->tensorflow) (1.15.0)\n",
      "Collecting termcolor>=1.1.0 (from tensorflow-intel==2.13.0->tensorflow)\n",
      "  Downloading termcolor-2.3.0-py3-none-any.whl (6.9 kB)\n",
      "Requirement already satisfied: typing-extensions<4.6.0,>=3.6.6 in c:\\users\\user\\anaconda3\\lib\\site-packages (from tensorflow-intel==2.13.0->tensorflow) (3.7.4.3)\n",
      "Requirement already satisfied: wrapt>=1.11.0 in c:\\users\\user\\anaconda3\\lib\\site-packages (from tensorflow-intel==2.13.0->tensorflow) (1.12.1)\n",
      "Collecting grpcio<2.0,>=1.24.3 (from tensorflow-intel==2.13.0->tensorflow)\n",
      "  Obtaining dependency information for grpcio<2.0,>=1.24.3 from https://files.pythonhosted.org/packages/a3/c6/db1f2cab8b3c052340f39a4c8bf89386bf4c8cc0ec69a51596d653c48d53/grpcio-1.58.0-cp38-cp38-win_amd64.whl.metadata\n",
      "  Downloading grpcio-1.58.0-cp38-cp38-win_amd64.whl.metadata (4.1 kB)\n",
      "Collecting tensorboard<2.14,>=2.13 (from tensorflow-intel==2.13.0->tensorflow)\n",
      "  Downloading tensorboard-2.13.0-py3-none-any.whl (5.6 MB)\n",
      "     ---------------------------------------- 5.6/5.6 MB 2.5 MB/s eta 0:00:00\n",
      "Collecting tensorflow-estimator<2.14,>=2.13.0 (from tensorflow-intel==2.13.0->tensorflow)\n",
      "  Obtaining dependency information for tensorflow-estimator<2.14,>=2.13.0 from https://files.pythonhosted.org/packages/72/5c/c318268d96791c6222ad7df1651bbd1b2409139afeb6f468c0f327177016/tensorflow_estimator-2.13.0-py2.py3-none-any.whl.metadata\n",
      "  Downloading tensorflow_estimator-2.13.0-py2.py3-none-any.whl.metadata (1.3 kB)\n",
      "Collecting keras<2.14,>=2.13.1 (from tensorflow-intel==2.13.0->tensorflow)\n",
      "  Obtaining dependency information for keras<2.14,>=2.13.1 from https://files.pythonhosted.org/packages/2e/f3/19da7511b45e80216cbbd9467137b2d28919c58ba1ccb971435cb631e470/keras-2.13.1-py3-none-any.whl.metadata\n",
      "  Downloading keras-2.13.1-py3-none-any.whl.metadata (2.4 kB)\n",
      "Collecting tensorflow-io-gcs-filesystem>=0.23.1 (from tensorflow-intel==2.13.0->tensorflow)\n",
      "  Downloading tensorflow_io_gcs_filesystem-0.31.0-cp38-cp38-win_amd64.whl (1.5 MB)\n",
      "     ---------------------------------------- 1.5/1.5 MB 2.2 MB/s eta 0:00:00\n",
      "Requirement already satisfied: wheel<1.0,>=0.23.0 in c:\\users\\user\\anaconda3\\lib\\site-packages (from astunparse>=1.6.0->tensorflow-intel==2.13.0->tensorflow) (0.36.2)\n",
      "Collecting google-auth<3,>=1.6.3 (from tensorboard<2.14,>=2.13->tensorflow-intel==2.13.0->tensorflow)\n",
      "  Obtaining dependency information for google-auth<3,>=1.6.3 from https://files.pythonhosted.org/packages/9d/44/5a992cb9d7bf8aaae73bc5adaf721ad08731c9d00c1c17999a8691404b0c/google_auth-2.23.0-py2.py3-none-any.whl.metadata\n",
      "  Downloading google_auth-2.23.0-py2.py3-none-any.whl.metadata (4.2 kB)\n",
      "Collecting google-auth-oauthlib<1.1,>=0.5 (from tensorboard<2.14,>=2.13->tensorflow-intel==2.13.0->tensorflow)\n",
      "  Downloading google_auth_oauthlib-1.0.0-py2.py3-none-any.whl (18 kB)\n",
      "Collecting markdown>=2.6.8 (from tensorboard<2.14,>=2.13->tensorflow-intel==2.13.0->tensorflow)\n",
      "  Obtaining dependency information for markdown>=2.6.8 from https://files.pythonhosted.org/packages/1a/b5/228c1cdcfe138f1a8e01ab1b54284c8b83735476cb22b6ba251656ed13ad/Markdown-3.4.4-py3-none-any.whl.metadata\n",
      "  Downloading Markdown-3.4.4-py3-none-any.whl.metadata (6.9 kB)\n",
      "Requirement already satisfied: requests<3,>=2.21.0 in c:\\users\\user\\anaconda3\\lib\\site-packages (from tensorboard<2.14,>=2.13->tensorflow-intel==2.13.0->tensorflow) (2.25.1)\n",
      "Collecting tensorboard-data-server<0.8.0,>=0.7.0 (from tensorboard<2.14,>=2.13->tensorflow-intel==2.13.0->tensorflow)\n",
      "  Obtaining dependency information for tensorboard-data-server<0.8.0,>=0.7.0 from https://files.pythonhosted.org/packages/da/61/6e9ff8258422d287eec718872fb71e05324356722ab658c8afda25f51539/tensorboard_data_server-0.7.1-py3-none-any.whl.metadata\n",
      "  Downloading tensorboard_data_server-0.7.1-py3-none-any.whl.metadata (1.1 kB)\n",
      "Requirement already satisfied: werkzeug>=1.0.1 in c:\\users\\user\\anaconda3\\lib\\site-packages (from tensorboard<2.14,>=2.13->tensorflow-intel==2.13.0->tensorflow) (1.0.1)\n",
      "Requirement already satisfied: pyparsing>=2.0.2 in c:\\users\\user\\anaconda3\\lib\\site-packages (from packaging->tensorflow-intel==2.13.0->tensorflow) (2.4.7)\n",
      "Collecting cachetools<6.0,>=2.0.0 (from google-auth<3,>=1.6.3->tensorboard<2.14,>=2.13->tensorflow-intel==2.13.0->tensorflow)\n",
      "  Obtaining dependency information for cachetools<6.0,>=2.0.0 from https://files.pythonhosted.org/packages/a9/c9/c8a7710f2cedcb1db9224fdd4d8307c9e48cbddc46c18b515fefc0f1abbe/cachetools-5.3.1-py3-none-any.whl.metadata\n",
      "  Downloading cachetools-5.3.1-py3-none-any.whl.metadata (5.2 kB)\n",
      "Collecting pyasn1-modules>=0.2.1 (from google-auth<3,>=1.6.3->tensorboard<2.14,>=2.13->tensorflow-intel==2.13.0->tensorflow)\n",
      "  Downloading pyasn1_modules-0.3.0-py2.py3-none-any.whl (181 kB)\n",
      "     -------------------------------------- 181.3/181.3 kB 2.2 MB/s eta 0:00:00\n",
      "Collecting rsa<5,>=3.1.4 (from google-auth<3,>=1.6.3->tensorboard<2.14,>=2.13->tensorflow-intel==2.13.0->tensorflow)\n",
      "  Using cached rsa-4.9-py3-none-any.whl (34 kB)\n",
      "Requirement already satisfied: urllib3<2.0 in c:\\users\\user\\anaconda3\\lib\\site-packages (from google-auth<3,>=1.6.3->tensorboard<2.14,>=2.13->tensorflow-intel==2.13.0->tensorflow) (1.26.4)\n",
      "Collecting requests-oauthlib>=0.7.0 (from google-auth-oauthlib<1.1,>=0.5->tensorboard<2.14,>=2.13->tensorflow-intel==2.13.0->tensorflow)\n",
      "  Downloading requests_oauthlib-1.3.1-py2.py3-none-any.whl (23 kB)\n",
      "Collecting importlib-metadata>=4.4 (from markdown>=2.6.8->tensorboard<2.14,>=2.13->tensorflow-intel==2.13.0->tensorflow)\n",
      "  Obtaining dependency information for importlib-metadata>=4.4 from https://files.pythonhosted.org/packages/cc/37/db7ba97e676af155f5fcb1a35466f446eadc9104e25b83366e8088c9c926/importlib_metadata-6.8.0-py3-none-any.whl.metadata\n",
      "  Downloading importlib_metadata-6.8.0-py3-none-any.whl.metadata (5.1 kB)\n",
      "Requirement already satisfied: chardet<5,>=3.0.2 in c:\\users\\user\\anaconda3\\lib\\site-packages (from requests<3,>=2.21.0->tensorboard<2.14,>=2.13->tensorflow-intel==2.13.0->tensorflow) (4.0.0)\n",
      "Requirement already satisfied: idna<3,>=2.5 in c:\\users\\user\\anaconda3\\lib\\site-packages (from requests<3,>=2.21.0->tensorboard<2.14,>=2.13->tensorflow-intel==2.13.0->tensorflow) (2.10)\n",
      "Requirement already satisfied: certifi>=2017.4.17 in c:\\users\\user\\anaconda3\\lib\\site-packages (from requests<3,>=2.21.0->tensorboard<2.14,>=2.13->tensorflow-intel==2.13.0->tensorflow) (2023.7.22)\n",
      "Requirement already satisfied: zipp>=0.5 in c:\\users\\user\\anaconda3\\lib\\site-packages (from importlib-metadata>=4.4->markdown>=2.6.8->tensorboard<2.14,>=2.13->tensorflow-intel==2.13.0->tensorflow) (3.4.1)\n",
      "Collecting pyasn1<0.6.0,>=0.4.6 (from pyasn1-modules>=0.2.1->google-auth<3,>=1.6.3->tensorboard<2.14,>=2.13->tensorflow-intel==2.13.0->tensorflow)\n",
      "  Downloading pyasn1-0.5.0-py2.py3-none-any.whl (83 kB)\n",
      "     ---------------------------------------- 83.9/83.9 kB 2.4 MB/s eta 0:00:00\n",
      "Collecting oauthlib>=3.0.0 (from requests-oauthlib>=0.7.0->google-auth-oauthlib<1.1,>=0.5->tensorboard<2.14,>=2.13->tensorflow-intel==2.13.0->tensorflow)\n",
      "  Downloading oauthlib-3.2.2-py3-none-any.whl (151 kB)\n",
      "     -------------------------------------- 151.7/151.7 kB 3.0 MB/s eta 0:00:00\n",
      "Downloading tensorflow-2.13.0-cp38-cp38-win_amd64.whl (1.9 kB)\n",
      "Downloading tensorflow_intel-2.13.0-cp38-cp38-win_amd64.whl (276.5 MB)\n",
      "   ---------------------------------------- 276.5/276.5 MB 2.1 MB/s eta 0:00:00\n",
      "Downloading absl_py-2.0.0-py3-none-any.whl (130 kB)\n",
      "   ---------------------------------------- 130.2/130.2 kB 1.9 MB/s eta 0:00:00\n",
      "Downloading flatbuffers-23.5.26-py2.py3-none-any.whl (26 kB)\n",
      "Downloading grpcio-1.58.0-cp38-cp38-win_amd64.whl (4.3 MB)\n",
      "   ---------------------------------------- 4.3/4.3 MB 3.2 MB/s eta 0:00:00\n",
      "Downloading keras-2.13.1-py3-none-any.whl (1.7 MB)\n",
      "   ---------------------------------------- 1.7/1.7 MB 3.6 MB/s eta 0:00:00\n",
      "Downloading libclang-16.0.6-py2.py3-none-win_amd64.whl (24.4 MB)\n",
      "   ---------------------------------------- 24.4/24.4 MB 3.1 MB/s eta 0:00:00\n",
      "Downloading protobuf-4.24.3-cp38-cp38-win_amd64.whl (430 kB)\n",
      "   ---------------------------------------- 430.5/430.5 kB 1.9 MB/s eta 0:00:00\n",
      "Downloading tensorflow_estimator-2.13.0-py2.py3-none-any.whl (440 kB)\n",
      "   ---------------------------------------- 440.8/440.8 kB 2.3 MB/s eta 0:00:00\n",
      "Downloading google_auth-2.23.0-py2.py3-none-any.whl (181 kB)\n",
      "   ---------------------------------------- 181.4/181.4 kB 1.8 MB/s eta 0:00:00\n",
      "Downloading Markdown-3.4.4-py3-none-any.whl (94 kB)\n",
      "   ---------------------------------------- 94.2/94.2 kB 1.4 MB/s eta 0:00:00\n",
      "Downloading tensorboard_data_server-0.7.1-py3-none-any.whl (2.4 kB)\n",
      "Downloading cachetools-5.3.1-py3-none-any.whl (9.3 kB)\n",
      "Downloading importlib_metadata-6.8.0-py3-none-any.whl (22 kB)\n",
      "Installing collected packages: libclang, flatbuffers, termcolor, tensorflow-io-gcs-filesystem, tensorflow-estimator, tensorboard-data-server, pyasn1, protobuf, oauthlib, numpy, keras, importlib-metadata, grpcio, google-pasta, gast, cachetools, astunparse, absl-py, rsa, requests-oauthlib, pyasn1-modules, opt-einsum, markdown, google-auth, google-auth-oauthlib, tensorboard, tensorflow-intel, tensorflow\n",
      "  Attempting uninstall: numpy\n",
      "    Found existing installation: numpy 1.20.1\n",
      "    Uninstalling numpy-1.20.1:\n",
      "      Successfully uninstalled numpy-1.20.1\n",
      "  Attempting uninstall: importlib-metadata\n",
      "    Found existing installation: importlib-metadata 3.10.0\n",
      "    Uninstalling importlib-metadata-3.10.0:\n",
      "      Successfully uninstalled importlib-metadata-3.10.0\n",
      "Successfully installed absl-py-2.0.0 astunparse-1.6.3 cachetools-5.3.1 flatbuffers-23.5.26 gast-0.4.0 google-auth-2.23.0 google-auth-oauthlib-1.0.0 google-pasta-0.2.0 grpcio-1.58.0 importlib-metadata-6.8.0 keras-2.13.1 libclang-16.0.6 markdown-3.4.4 numpy-1.24.3 oauthlib-3.2.2 opt-einsum-3.3.0 protobuf-4.24.3 pyasn1-0.5.0 pyasn1-modules-0.3.0 requests-oauthlib-1.3.1 rsa-4.9 tensorboard-2.13.0 tensorboard-data-server-0.7.1 tensorflow-2.13.0 tensorflow-estimator-2.13.0 tensorflow-intel-2.13.0 tensorflow-io-gcs-filesystem-0.31.0 termcolor-2.3.0\n"
     ]
    }
   ],
   "source": [
    "pip install tensorflow"
   ]
  },
  {
   "cell_type": "code",
   "execution_count": 40,
   "id": "c839d27e",
   "metadata": {},
   "outputs": [
    {
     "ename": "FileNotFoundError",
     "evalue": "[Errno 2] No such file or directory: 'sheep.png'",
     "output_type": "error",
     "traceback": [
      "\u001b[1;31m---------------------------------------------------------------------------\u001b[0m",
      "\u001b[1;31mFileNotFoundError\u001b[0m                         Traceback (most recent call last)",
      "\u001b[1;32m<ipython-input-40-cb19d0589194>\u001b[0m in \u001b[0;36m<module>\u001b[1;34m\u001b[0m\n\u001b[0;32m      1\u001b[0m \u001b[1;32mfrom\u001b[0m \u001b[0mPIL\u001b[0m \u001b[1;32mimport\u001b[0m \u001b[0mImage\u001b[0m\u001b[1;33m\u001b[0m\u001b[1;33m\u001b[0m\u001b[0m\n\u001b[1;32m----> 2\u001b[1;33m \u001b[0mimg\u001b[0m \u001b[1;33m=\u001b[0m \u001b[0mImage\u001b[0m\u001b[1;33m.\u001b[0m\u001b[0mopen\u001b[0m\u001b[1;33m(\u001b[0m\u001b[1;34m\"sheep.png\"\u001b[0m\u001b[1;33m)\u001b[0m\u001b[1;33m\u001b[0m\u001b[1;33m\u001b[0m\u001b[0m\n\u001b[0m\u001b[0;32m      3\u001b[0m \u001b[0mimg\u001b[0m\u001b[1;33m.\u001b[0m\u001b[0mshow\u001b[0m\u001b[1;33m(\u001b[0m\u001b[1;33m)\u001b[0m\u001b[1;33m\u001b[0m\u001b[1;33m\u001b[0m\u001b[0m\n",
      "\u001b[1;32m~\\anaconda3\\lib\\site-packages\\PIL\\Image.py\u001b[0m in \u001b[0;36mopen\u001b[1;34m(fp, mode, formats)\u001b[0m\n\u001b[0;32m   2910\u001b[0m \u001b[1;33m\u001b[0m\u001b[0m\n\u001b[0;32m   2911\u001b[0m     \u001b[1;32mif\u001b[0m \u001b[0mfilename\u001b[0m\u001b[1;33m:\u001b[0m\u001b[1;33m\u001b[0m\u001b[1;33m\u001b[0m\u001b[0m\n\u001b[1;32m-> 2912\u001b[1;33m         \u001b[0mfp\u001b[0m \u001b[1;33m=\u001b[0m \u001b[0mbuiltins\u001b[0m\u001b[1;33m.\u001b[0m\u001b[0mopen\u001b[0m\u001b[1;33m(\u001b[0m\u001b[0mfilename\u001b[0m\u001b[1;33m,\u001b[0m \u001b[1;34m\"rb\"\u001b[0m\u001b[1;33m)\u001b[0m\u001b[1;33m\u001b[0m\u001b[1;33m\u001b[0m\u001b[0m\n\u001b[0m\u001b[0;32m   2913\u001b[0m         \u001b[0mexclusive_fp\u001b[0m \u001b[1;33m=\u001b[0m \u001b[1;32mTrue\u001b[0m\u001b[1;33m\u001b[0m\u001b[1;33m\u001b[0m\u001b[0m\n\u001b[0;32m   2914\u001b[0m \u001b[1;33m\u001b[0m\u001b[0m\n",
      "\u001b[1;31mFileNotFoundError\u001b[0m: [Errno 2] No such file or directory: 'sheep.png'"
     ]
    }
   ],
   "source": [
    "from PIL import Image\n",
    "img = Image.open(\"sheep.png\")\n",
    "img.show()"
   ]
  },
  {
   "cell_type": "code",
   "execution_count": 41,
   "id": "4e7a4908",
   "metadata": {},
   "outputs": [
    {
     "name": "stderr",
     "output_type": "stream",
     "text": [
      "The chromedriver version (114.0.5735.90) detected in PATH at C:\\Users\\User\\Downloads\\chromedriver_win32\\chromedriver.exe might not be compatible with the detected chrome version (116.0.5845.188); currently, chromedriver 116.0.5845.96 is recommended for chrome 116.*, so it is advised to delete the driver in PATH and retry\n"
     ]
    },
    {
     "ename": "SessionNotCreatedException",
     "evalue": "Message: session not created: This version of ChromeDriver only supports Chrome version 114\nCurrent browser version is 116.0.5845.188 with binary path C:\\Program Files\\Google\\Chrome\\Application\\chrome.exe\nStacktrace:\nBacktrace:\n\tGetHandleVerifier [0x00C4A813+48355]\n\t(No symbol) [0x00BDC4B1]\n\t(No symbol) [0x00AE5358]\n\t(No symbol) [0x00B061AC]\n\t(No symbol) [0x00B01EF3]\n\t(No symbol) [0x00B00579]\n\t(No symbol) [0x00B30C55]\n\t(No symbol) [0x00B3093C]\n\t(No symbol) [0x00B2A536]\n\t(No symbol) [0x00B082DC]\n\t(No symbol) [0x00B093DD]\n\tGetHandleVerifier [0x00EAAABD+2539405]\n\tGetHandleVerifier [0x00EEA78F+2800735]\n\tGetHandleVerifier [0x00EE456C+2775612]\n\tGetHandleVerifier [0x00CD51E0+616112]\n\t(No symbol) [0x00BE5F8C]\n\t(No symbol) [0x00BE2328]\n\t(No symbol) [0x00BE240B]\n\t(No symbol) [0x00BD4FF7]\n\tBaseThreadInitThunk [0x77107BA9+25]\n\tRtlInitializeExceptionChain [0x77DFB79B+107]\n\tRtlClearBits [0x77DFB71F+191]\n",
     "output_type": "error",
     "traceback": [
      "\u001b[1;31m---------------------------------------------------------------------------\u001b[0m",
      "\u001b[1;31mSessionNotCreatedException\u001b[0m                Traceback (most recent call last)",
      "\u001b[1;32m<ipython-input-41-9f3eb423e8f6>\u001b[0m in \u001b[0;36m<module>\u001b[1;34m\u001b[0m\n\u001b[0;32m      3\u001b[0m \u001b[1;32mfrom\u001b[0m \u001b[0mselenium\u001b[0m \u001b[1;32mimport\u001b[0m \u001b[0mwebdriver\u001b[0m\u001b[1;33m\u001b[0m\u001b[1;33m\u001b[0m\u001b[0m\n\u001b[0;32m      4\u001b[0m \u001b[1;33m\u001b[0m\u001b[0m\n\u001b[1;32m----> 5\u001b[1;33m \u001b[0mdriver\u001b[0m \u001b[1;33m=\u001b[0m \u001b[0mwebdriver\u001b[0m\u001b[1;33m.\u001b[0m\u001b[0mChrome\u001b[0m\u001b[1;33m(\u001b[0m\u001b[1;33m)\u001b[0m\u001b[1;33m\u001b[0m\u001b[1;33m\u001b[0m\u001b[0m\n\u001b[0m\u001b[0;32m      6\u001b[0m \u001b[0mdriver\u001b[0m\u001b[1;33m.\u001b[0m\u001b[0mget\u001b[0m\u001b[1;33m(\u001b[0m\u001b[1;34m\"https://www.ebay.com/sch/i.html?_from=R40&_trksid=p2334524.m570.l1313&_nkw=laptop&_sacat=0&LH_TitleDesc=0&_osacat=0&_odkw=laptop\"\u001b[0m\u001b[1;33m)\u001b[0m\u001b[1;33m\u001b[0m\u001b[1;33m\u001b[0m\u001b[0m\n\u001b[0;32m      7\u001b[0m \u001b[0mresults\u001b[0m \u001b[1;33m=\u001b[0m \u001b[1;33m[\u001b[0m\u001b[1;33m]\u001b[0m\u001b[1;33m\u001b[0m\u001b[1;33m\u001b[0m\u001b[0m\n",
      "\u001b[1;32m~\\anaconda3\\lib\\site-packages\\selenium\\webdriver\\chrome\\webdriver.py\u001b[0m in \u001b[0;36m__init__\u001b[1;34m(self, options, service, keep_alive)\u001b[0m\n\u001b[0;32m     43\u001b[0m         \u001b[0moptions\u001b[0m \u001b[1;33m=\u001b[0m \u001b[0moptions\u001b[0m \u001b[1;32mif\u001b[0m \u001b[0moptions\u001b[0m \u001b[1;32melse\u001b[0m \u001b[0mOptions\u001b[0m\u001b[1;33m(\u001b[0m\u001b[1;33m)\u001b[0m\u001b[1;33m\u001b[0m\u001b[1;33m\u001b[0m\u001b[0m\n\u001b[0;32m     44\u001b[0m \u001b[1;33m\u001b[0m\u001b[0m\n\u001b[1;32m---> 45\u001b[1;33m         super().__init__(\n\u001b[0m\u001b[0;32m     46\u001b[0m             \u001b[0mDesiredCapabilities\u001b[0m\u001b[1;33m.\u001b[0m\u001b[0mCHROME\u001b[0m\u001b[1;33m[\u001b[0m\u001b[1;34m\"browserName\"\u001b[0m\u001b[1;33m]\u001b[0m\u001b[1;33m,\u001b[0m\u001b[1;33m\u001b[0m\u001b[1;33m\u001b[0m\u001b[0m\n\u001b[0;32m     47\u001b[0m             \u001b[1;34m\"goog\"\u001b[0m\u001b[1;33m,\u001b[0m\u001b[1;33m\u001b[0m\u001b[1;33m\u001b[0m\u001b[0m\n",
      "\u001b[1;32m~\\anaconda3\\lib\\site-packages\\selenium\\webdriver\\chromium\\webdriver.py\u001b[0m in \u001b[0;36m__init__\u001b[1;34m(self, browser_name, vendor_prefix, options, service, keep_alive)\u001b[0m\n\u001b[0;32m     54\u001b[0m \u001b[1;33m\u001b[0m\u001b[0m\n\u001b[0;32m     55\u001b[0m         \u001b[1;32mtry\u001b[0m\u001b[1;33m:\u001b[0m\u001b[1;33m\u001b[0m\u001b[1;33m\u001b[0m\u001b[0m\n\u001b[1;32m---> 56\u001b[1;33m             super().__init__(\n\u001b[0m\u001b[0;32m     57\u001b[0m                 command_executor=ChromiumRemoteConnection(\n\u001b[0;32m     58\u001b[0m                     \u001b[0mremote_server_addr\u001b[0m\u001b[1;33m=\u001b[0m\u001b[0mself\u001b[0m\u001b[1;33m.\u001b[0m\u001b[0mservice\u001b[0m\u001b[1;33m.\u001b[0m\u001b[0mservice_url\u001b[0m\u001b[1;33m,\u001b[0m\u001b[1;33m\u001b[0m\u001b[1;33m\u001b[0m\u001b[0m\n",
      "\u001b[1;32m~\\anaconda3\\lib\\site-packages\\selenium\\webdriver\\remote\\webdriver.py\u001b[0m in \u001b[0;36m__init__\u001b[1;34m(self, command_executor, keep_alive, file_detector, options)\u001b[0m\n\u001b[0;32m    203\u001b[0m         \u001b[0mself\u001b[0m\u001b[1;33m.\u001b[0m\u001b[0m_authenticator_id\u001b[0m \u001b[1;33m=\u001b[0m \u001b[1;32mNone\u001b[0m\u001b[1;33m\u001b[0m\u001b[1;33m\u001b[0m\u001b[0m\n\u001b[0;32m    204\u001b[0m         \u001b[0mself\u001b[0m\u001b[1;33m.\u001b[0m\u001b[0mstart_client\u001b[0m\u001b[1;33m(\u001b[0m\u001b[1;33m)\u001b[0m\u001b[1;33m\u001b[0m\u001b[1;33m\u001b[0m\u001b[0m\n\u001b[1;32m--> 205\u001b[1;33m         \u001b[0mself\u001b[0m\u001b[1;33m.\u001b[0m\u001b[0mstart_session\u001b[0m\u001b[1;33m(\u001b[0m\u001b[0mcapabilities\u001b[0m\u001b[1;33m)\u001b[0m\u001b[1;33m\u001b[0m\u001b[1;33m\u001b[0m\u001b[0m\n\u001b[0m\u001b[0;32m    206\u001b[0m \u001b[1;33m\u001b[0m\u001b[0m\n\u001b[0;32m    207\u001b[0m     \u001b[1;32mdef\u001b[0m \u001b[0m__repr__\u001b[0m\u001b[1;33m(\u001b[0m\u001b[0mself\u001b[0m\u001b[1;33m)\u001b[0m\u001b[1;33m:\u001b[0m\u001b[1;33m\u001b[0m\u001b[1;33m\u001b[0m\u001b[0m\n",
      "\u001b[1;32m~\\anaconda3\\lib\\site-packages\\selenium\\webdriver\\remote\\webdriver.py\u001b[0m in \u001b[0;36mstart_session\u001b[1;34m(self, capabilities)\u001b[0m\n\u001b[0;32m    287\u001b[0m \u001b[1;33m\u001b[0m\u001b[0m\n\u001b[0;32m    288\u001b[0m         \u001b[0mcaps\u001b[0m \u001b[1;33m=\u001b[0m \u001b[0m_create_caps\u001b[0m\u001b[1;33m(\u001b[0m\u001b[0mcapabilities\u001b[0m\u001b[1;33m)\u001b[0m\u001b[1;33m\u001b[0m\u001b[1;33m\u001b[0m\u001b[0m\n\u001b[1;32m--> 289\u001b[1;33m         \u001b[0mresponse\u001b[0m \u001b[1;33m=\u001b[0m \u001b[0mself\u001b[0m\u001b[1;33m.\u001b[0m\u001b[0mexecute\u001b[0m\u001b[1;33m(\u001b[0m\u001b[0mCommand\u001b[0m\u001b[1;33m.\u001b[0m\u001b[0mNEW_SESSION\u001b[0m\u001b[1;33m,\u001b[0m \u001b[0mcaps\u001b[0m\u001b[1;33m)\u001b[0m\u001b[1;33m[\u001b[0m\u001b[1;34m\"value\"\u001b[0m\u001b[1;33m]\u001b[0m\u001b[1;33m\u001b[0m\u001b[1;33m\u001b[0m\u001b[0m\n\u001b[0m\u001b[0;32m    290\u001b[0m         \u001b[0mself\u001b[0m\u001b[1;33m.\u001b[0m\u001b[0msession_id\u001b[0m \u001b[1;33m=\u001b[0m \u001b[0mresponse\u001b[0m\u001b[1;33m.\u001b[0m\u001b[0mget\u001b[0m\u001b[1;33m(\u001b[0m\u001b[1;34m\"sessionId\"\u001b[0m\u001b[1;33m)\u001b[0m\u001b[1;33m\u001b[0m\u001b[1;33m\u001b[0m\u001b[0m\n\u001b[0;32m    291\u001b[0m         \u001b[0mself\u001b[0m\u001b[1;33m.\u001b[0m\u001b[0mcaps\u001b[0m \u001b[1;33m=\u001b[0m \u001b[0mresponse\u001b[0m\u001b[1;33m.\u001b[0m\u001b[0mget\u001b[0m\u001b[1;33m(\u001b[0m\u001b[1;34m\"capabilities\"\u001b[0m\u001b[1;33m)\u001b[0m\u001b[1;33m\u001b[0m\u001b[1;33m\u001b[0m\u001b[0m\n",
      "\u001b[1;32m~\\anaconda3\\lib\\site-packages\\selenium\\webdriver\\remote\\webdriver.py\u001b[0m in \u001b[0;36mexecute\u001b[1;34m(self, driver_command, params)\u001b[0m\n\u001b[0;32m    342\u001b[0m         \u001b[0mresponse\u001b[0m \u001b[1;33m=\u001b[0m \u001b[0mself\u001b[0m\u001b[1;33m.\u001b[0m\u001b[0mcommand_executor\u001b[0m\u001b[1;33m.\u001b[0m\u001b[0mexecute\u001b[0m\u001b[1;33m(\u001b[0m\u001b[0mdriver_command\u001b[0m\u001b[1;33m,\u001b[0m \u001b[0mparams\u001b[0m\u001b[1;33m)\u001b[0m\u001b[1;33m\u001b[0m\u001b[1;33m\u001b[0m\u001b[0m\n\u001b[0;32m    343\u001b[0m         \u001b[1;32mif\u001b[0m \u001b[0mresponse\u001b[0m\u001b[1;33m:\u001b[0m\u001b[1;33m\u001b[0m\u001b[1;33m\u001b[0m\u001b[0m\n\u001b[1;32m--> 344\u001b[1;33m             \u001b[0mself\u001b[0m\u001b[1;33m.\u001b[0m\u001b[0merror_handler\u001b[0m\u001b[1;33m.\u001b[0m\u001b[0mcheck_response\u001b[0m\u001b[1;33m(\u001b[0m\u001b[0mresponse\u001b[0m\u001b[1;33m)\u001b[0m\u001b[1;33m\u001b[0m\u001b[1;33m\u001b[0m\u001b[0m\n\u001b[0m\u001b[0;32m    345\u001b[0m             \u001b[0mresponse\u001b[0m\u001b[1;33m[\u001b[0m\u001b[1;34m\"value\"\u001b[0m\u001b[1;33m]\u001b[0m \u001b[1;33m=\u001b[0m \u001b[0mself\u001b[0m\u001b[1;33m.\u001b[0m\u001b[0m_unwrap_value\u001b[0m\u001b[1;33m(\u001b[0m\u001b[0mresponse\u001b[0m\u001b[1;33m.\u001b[0m\u001b[0mget\u001b[0m\u001b[1;33m(\u001b[0m\u001b[1;34m\"value\"\u001b[0m\u001b[1;33m,\u001b[0m \u001b[1;32mNone\u001b[0m\u001b[1;33m)\u001b[0m\u001b[1;33m)\u001b[0m\u001b[1;33m\u001b[0m\u001b[1;33m\u001b[0m\u001b[0m\n\u001b[0;32m    346\u001b[0m             \u001b[1;32mreturn\u001b[0m \u001b[0mresponse\u001b[0m\u001b[1;33m\u001b[0m\u001b[1;33m\u001b[0m\u001b[0m\n",
      "\u001b[1;32m~\\anaconda3\\lib\\site-packages\\selenium\\webdriver\\remote\\errorhandler.py\u001b[0m in \u001b[0;36mcheck_response\u001b[1;34m(self, response)\u001b[0m\n\u001b[0;32m    227\u001b[0m                 \u001b[0malert_text\u001b[0m \u001b[1;33m=\u001b[0m \u001b[0mvalue\u001b[0m\u001b[1;33m[\u001b[0m\u001b[1;34m\"alert\"\u001b[0m\u001b[1;33m]\u001b[0m\u001b[1;33m.\u001b[0m\u001b[0mget\u001b[0m\u001b[1;33m(\u001b[0m\u001b[1;34m\"text\"\u001b[0m\u001b[1;33m)\u001b[0m\u001b[1;33m\u001b[0m\u001b[1;33m\u001b[0m\u001b[0m\n\u001b[0;32m    228\u001b[0m             \u001b[1;32mraise\u001b[0m \u001b[0mexception_class\u001b[0m\u001b[1;33m(\u001b[0m\u001b[0mmessage\u001b[0m\u001b[1;33m,\u001b[0m \u001b[0mscreen\u001b[0m\u001b[1;33m,\u001b[0m \u001b[0mstacktrace\u001b[0m\u001b[1;33m,\u001b[0m \u001b[0malert_text\u001b[0m\u001b[1;33m)\u001b[0m  \u001b[1;31m# type: ignore[call-arg]  # mypy is not smart enough here\u001b[0m\u001b[1;33m\u001b[0m\u001b[1;33m\u001b[0m\u001b[0m\n\u001b[1;32m--> 229\u001b[1;33m         \u001b[1;32mraise\u001b[0m \u001b[0mexception_class\u001b[0m\u001b[1;33m(\u001b[0m\u001b[0mmessage\u001b[0m\u001b[1;33m,\u001b[0m \u001b[0mscreen\u001b[0m\u001b[1;33m,\u001b[0m \u001b[0mstacktrace\u001b[0m\u001b[1;33m)\u001b[0m\u001b[1;33m\u001b[0m\u001b[1;33m\u001b[0m\u001b[0m\n\u001b[0m",
      "\u001b[1;31mSessionNotCreatedException\u001b[0m: Message: session not created: This version of ChromeDriver only supports Chrome version 114\nCurrent browser version is 116.0.5845.188 with binary path C:\\Program Files\\Google\\Chrome\\Application\\chrome.exe\nStacktrace:\nBacktrace:\n\tGetHandleVerifier [0x00C4A813+48355]\n\t(No symbol) [0x00BDC4B1]\n\t(No symbol) [0x00AE5358]\n\t(No symbol) [0x00B061AC]\n\t(No symbol) [0x00B01EF3]\n\t(No symbol) [0x00B00579]\n\t(No symbol) [0x00B30C55]\n\t(No symbol) [0x00B3093C]\n\t(No symbol) [0x00B2A536]\n\t(No symbol) [0x00B082DC]\n\t(No symbol) [0x00B093DD]\n\tGetHandleVerifier [0x00EAAABD+2539405]\n\tGetHandleVerifier [0x00EEA78F+2800735]\n\tGetHandleVerifier [0x00EE456C+2775612]\n\tGetHandleVerifier [0x00CD51E0+616112]\n\t(No symbol) [0x00BE5F8C]\n\t(No symbol) [0x00BE2328]\n\t(No symbol) [0x00BE240B]\n\t(No symbol) [0x00BD4FF7]\n\tBaseThreadInitThunk [0x77107BA9+25]\n\tRtlInitializeExceptionChain [0x77DFB79B+107]\n\tRtlClearBits [0x77DFB71F+191]\n"
     ]
    }
   ],
   "source": [
    "import pandas as pd\n",
    "from bs4 import BeautifulSoup\n",
    "from selenium import webdriver\n",
    "\n",
    "driver = webdriver.Chrome()\n",
    "driver.get(\"https://www.ebay.com/sch/i.html?_from=R40&_trksid=p2334524.m570.l1313&_nkw=laptop&_sacat=0&LH_TitleDesc=0&_osacat=0&_odkw=laptop\")\n",
    "results = []\n",
    "content = driver.page_source\n",
    "soup = BeautifulSoup(content)\n",
    "\n",
    "\n",
    "def parse_image_urls(classes, location, source):\n",
    "    for a in soup.findAll(attrs={\"class\": classes}):\n",
    "        name = a.find(location)\n",
    "        if name not in results:\n",
    "            results.append(name.get(source))\n",
    "\n",
    "\n",
    "parse_image_urls(\"s-item__image-wrapper image-treatment\", \"img\", \"src\")\n"
   ]
  },
  {
   "cell_type": "code",
   "execution_count": 42,
   "id": "e162fc62",
   "metadata": {},
   "outputs": [
    {
     "name": "stderr",
     "output_type": "stream",
     "text": [
      "The chromedriver version (114.0.5735.90) detected in PATH at C:\\Users\\User\\Downloads\\chromedriver_win32\\chromedriver.exe might not be compatible with the detected chrome version (116.0.5845.188); currently, chromedriver 116.0.5845.96 is recommended for chrome 116.*, so it is advised to delete the driver in PATH and retry\n"
     ]
    },
    {
     "ename": "SessionNotCreatedException",
     "evalue": "Message: session not created: This version of ChromeDriver only supports Chrome version 114\nCurrent browser version is 116.0.5845.188 with binary path C:\\Program Files\\Google\\Chrome\\Application\\chrome.exe\nStacktrace:\nBacktrace:\n\tGetHandleVerifier [0x00C4A813+48355]\n\t(No symbol) [0x00BDC4B1]\n\t(No symbol) [0x00AE5358]\n\t(No symbol) [0x00B061AC]\n\t(No symbol) [0x00B01EF3]\n\t(No symbol) [0x00B00579]\n\t(No symbol) [0x00B30C55]\n\t(No symbol) [0x00B3093C]\n\t(No symbol) [0x00B2A536]\n\t(No symbol) [0x00B082DC]\n\t(No symbol) [0x00B093DD]\n\tGetHandleVerifier [0x00EAAABD+2539405]\n\tGetHandleVerifier [0x00EEA78F+2800735]\n\tGetHandleVerifier [0x00EE456C+2775612]\n\tGetHandleVerifier [0x00CD51E0+616112]\n\t(No symbol) [0x00BE5F8C]\n\t(No symbol) [0x00BE2328]\n\t(No symbol) [0x00BE240B]\n\t(No symbol) [0x00BD4FF7]\n\tBaseThreadInitThunk [0x77107BA9+25]\n\tRtlInitializeExceptionChain [0x77DFB79B+107]\n\tRtlClearBits [0x77DFB71F+191]\n",
     "output_type": "error",
     "traceback": [
      "\u001b[1;31m---------------------------------------------------------------------------\u001b[0m",
      "\u001b[1;31mSessionNotCreatedException\u001b[0m                Traceback (most recent call last)",
      "\u001b[1;32m<ipython-input-42-6e46871885a5>\u001b[0m in \u001b[0;36m<module>\u001b[1;34m\u001b[0m\n\u001b[0;32m     58\u001b[0m \u001b[1;33m\u001b[0m\u001b[0m\n\u001b[0;32m     59\u001b[0m \u001b[1;32mif\u001b[0m \u001b[0m__name__\u001b[0m \u001b[1;33m==\u001b[0m \u001b[1;34m\"__main__\"\u001b[0m\u001b[1;33m:\u001b[0m  \u001b[1;31m# Only executes if imported as a main file.\u001b[0m\u001b[1;33m\u001b[0m\u001b[1;33m\u001b[0m\u001b[0m\n\u001b[1;32m---> 60\u001b[1;33m    \u001b[0mmain\u001b[0m\u001b[1;33m(\u001b[0m\u001b[1;33m)\u001b[0m\u001b[1;33m\u001b[0m\u001b[1;33m\u001b[0m\u001b[0m\n\u001b[0m",
      "\u001b[1;32m<ipython-input-42-6e46871885a5>\u001b[0m in \u001b[0;36mmain\u001b[1;34m()\u001b[0m\n\u001b[0;32m     45\u001b[0m \u001b[1;32mdef\u001b[0m \u001b[0mmain\u001b[0m\u001b[1;33m(\u001b[0m\u001b[1;33m)\u001b[0m\u001b[1;33m:\u001b[0m\u001b[1;33m\u001b[0m\u001b[1;33m\u001b[0m\u001b[0m\n\u001b[0;32m     46\u001b[0m    \u001b[0murl\u001b[0m \u001b[1;33m=\u001b[0m \u001b[1;34m\"https://www.ebay.com/sch/i.html?_from=R40&_trksid=p2334524.m570.l1313&_nkw=laptop&_sacat=0&LH_TitleDesc=0&_osacat=0&_odkw=laptop\"\u001b[0m\u001b[1;33m\u001b[0m\u001b[1;33m\u001b[0m\u001b[0m\n\u001b[1;32m---> 47\u001b[1;33m    \u001b[0mcontent\u001b[0m \u001b[1;33m=\u001b[0m \u001b[0mget_content_from_url\u001b[0m\u001b[1;33m(\u001b[0m\u001b[0murl\u001b[0m\u001b[1;33m)\u001b[0m\u001b[1;33m\u001b[0m\u001b[1;33m\u001b[0m\u001b[0m\n\u001b[0m\u001b[0;32m     48\u001b[0m    image_urls = parse_image_urls(\n\u001b[0;32m     49\u001b[0m        \u001b[0mcontent\u001b[0m\u001b[1;33m=\u001b[0m\u001b[0mcontent\u001b[0m\u001b[1;33m,\u001b[0m \u001b[0mclasses\u001b[0m\u001b[1;33m=\u001b[0m\u001b[1;34m\"s-item__image-wrapper image-treatment\"\u001b[0m\u001b[1;33m,\u001b[0m \u001b[0mlocation\u001b[0m\u001b[1;33m=\u001b[0m\u001b[1;34m\"img\"\u001b[0m\u001b[1;33m,\u001b[0m \u001b[0msource\u001b[0m\u001b[1;33m=\u001b[0m\u001b[1;34m\"src\"\u001b[0m\u001b[1;33m,\u001b[0m\u001b[1;33m\u001b[0m\u001b[1;33m\u001b[0m\u001b[0m\n",
      "\u001b[1;32m<ipython-input-42-6e46871885a5>\u001b[0m in \u001b[0;36mget_content_from_url\u001b[1;34m(url)\u001b[0m\n\u001b[0;32m     10\u001b[0m \u001b[1;33m\u001b[0m\u001b[0m\n\u001b[0;32m     11\u001b[0m \u001b[1;32mdef\u001b[0m \u001b[0mget_content_from_url\u001b[0m\u001b[1;33m(\u001b[0m\u001b[0murl\u001b[0m\u001b[1;33m)\u001b[0m\u001b[1;33m:\u001b[0m\u001b[1;33m\u001b[0m\u001b[1;33m\u001b[0m\u001b[0m\n\u001b[1;32m---> 12\u001b[1;33m    \u001b[0mdriver\u001b[0m \u001b[1;33m=\u001b[0m \u001b[0mwebdriver\u001b[0m\u001b[1;33m.\u001b[0m\u001b[0mChrome\u001b[0m\u001b[1;33m(\u001b[0m\u001b[1;33m)\u001b[0m  \u001b[1;31m# Add \"executable_path=\" if the driver is in a custom directory.\u001b[0m\u001b[1;33m\u001b[0m\u001b[1;33m\u001b[0m\u001b[0m\n\u001b[0m\u001b[0;32m     13\u001b[0m    \u001b[0mdriver\u001b[0m\u001b[1;33m.\u001b[0m\u001b[0mget\u001b[0m\u001b[1;33m(\u001b[0m\u001b[0murl\u001b[0m\u001b[1;33m)\u001b[0m\u001b[1;33m\u001b[0m\u001b[1;33m\u001b[0m\u001b[0m\n\u001b[0;32m     14\u001b[0m    \u001b[0mdriver\u001b[0m\u001b[1;33m.\u001b[0m\u001b[0mexecute_script\u001b[0m\u001b[1;33m(\u001b[0m\u001b[1;34m\"window.scrollTo(0, document.body.scrollHeight);\"\u001b[0m\u001b[1;33m)\u001b[0m\u001b[1;33m\u001b[0m\u001b[1;33m\u001b[0m\u001b[0m\n",
      "\u001b[1;32m~\\anaconda3\\lib\\site-packages\\selenium\\webdriver\\chrome\\webdriver.py\u001b[0m in \u001b[0;36m__init__\u001b[1;34m(self, options, service, keep_alive)\u001b[0m\n\u001b[0;32m     43\u001b[0m         \u001b[0moptions\u001b[0m \u001b[1;33m=\u001b[0m \u001b[0moptions\u001b[0m \u001b[1;32mif\u001b[0m \u001b[0moptions\u001b[0m \u001b[1;32melse\u001b[0m \u001b[0mOptions\u001b[0m\u001b[1;33m(\u001b[0m\u001b[1;33m)\u001b[0m\u001b[1;33m\u001b[0m\u001b[1;33m\u001b[0m\u001b[0m\n\u001b[0;32m     44\u001b[0m \u001b[1;33m\u001b[0m\u001b[0m\n\u001b[1;32m---> 45\u001b[1;33m         super().__init__(\n\u001b[0m\u001b[0;32m     46\u001b[0m             \u001b[0mDesiredCapabilities\u001b[0m\u001b[1;33m.\u001b[0m\u001b[0mCHROME\u001b[0m\u001b[1;33m[\u001b[0m\u001b[1;34m\"browserName\"\u001b[0m\u001b[1;33m]\u001b[0m\u001b[1;33m,\u001b[0m\u001b[1;33m\u001b[0m\u001b[1;33m\u001b[0m\u001b[0m\n\u001b[0;32m     47\u001b[0m             \u001b[1;34m\"goog\"\u001b[0m\u001b[1;33m,\u001b[0m\u001b[1;33m\u001b[0m\u001b[1;33m\u001b[0m\u001b[0m\n",
      "\u001b[1;32m~\\anaconda3\\lib\\site-packages\\selenium\\webdriver\\chromium\\webdriver.py\u001b[0m in \u001b[0;36m__init__\u001b[1;34m(self, browser_name, vendor_prefix, options, service, keep_alive)\u001b[0m\n\u001b[0;32m     54\u001b[0m \u001b[1;33m\u001b[0m\u001b[0m\n\u001b[0;32m     55\u001b[0m         \u001b[1;32mtry\u001b[0m\u001b[1;33m:\u001b[0m\u001b[1;33m\u001b[0m\u001b[1;33m\u001b[0m\u001b[0m\n\u001b[1;32m---> 56\u001b[1;33m             super().__init__(\n\u001b[0m\u001b[0;32m     57\u001b[0m                 command_executor=ChromiumRemoteConnection(\n\u001b[0;32m     58\u001b[0m                     \u001b[0mremote_server_addr\u001b[0m\u001b[1;33m=\u001b[0m\u001b[0mself\u001b[0m\u001b[1;33m.\u001b[0m\u001b[0mservice\u001b[0m\u001b[1;33m.\u001b[0m\u001b[0mservice_url\u001b[0m\u001b[1;33m,\u001b[0m\u001b[1;33m\u001b[0m\u001b[1;33m\u001b[0m\u001b[0m\n",
      "\u001b[1;32m~\\anaconda3\\lib\\site-packages\\selenium\\webdriver\\remote\\webdriver.py\u001b[0m in \u001b[0;36m__init__\u001b[1;34m(self, command_executor, keep_alive, file_detector, options)\u001b[0m\n\u001b[0;32m    203\u001b[0m         \u001b[0mself\u001b[0m\u001b[1;33m.\u001b[0m\u001b[0m_authenticator_id\u001b[0m \u001b[1;33m=\u001b[0m \u001b[1;32mNone\u001b[0m\u001b[1;33m\u001b[0m\u001b[1;33m\u001b[0m\u001b[0m\n\u001b[0;32m    204\u001b[0m         \u001b[0mself\u001b[0m\u001b[1;33m.\u001b[0m\u001b[0mstart_client\u001b[0m\u001b[1;33m(\u001b[0m\u001b[1;33m)\u001b[0m\u001b[1;33m\u001b[0m\u001b[1;33m\u001b[0m\u001b[0m\n\u001b[1;32m--> 205\u001b[1;33m         \u001b[0mself\u001b[0m\u001b[1;33m.\u001b[0m\u001b[0mstart_session\u001b[0m\u001b[1;33m(\u001b[0m\u001b[0mcapabilities\u001b[0m\u001b[1;33m)\u001b[0m\u001b[1;33m\u001b[0m\u001b[1;33m\u001b[0m\u001b[0m\n\u001b[0m\u001b[0;32m    206\u001b[0m \u001b[1;33m\u001b[0m\u001b[0m\n\u001b[0;32m    207\u001b[0m     \u001b[1;32mdef\u001b[0m \u001b[0m__repr__\u001b[0m\u001b[1;33m(\u001b[0m\u001b[0mself\u001b[0m\u001b[1;33m)\u001b[0m\u001b[1;33m:\u001b[0m\u001b[1;33m\u001b[0m\u001b[1;33m\u001b[0m\u001b[0m\n",
      "\u001b[1;32m~\\anaconda3\\lib\\site-packages\\selenium\\webdriver\\remote\\webdriver.py\u001b[0m in \u001b[0;36mstart_session\u001b[1;34m(self, capabilities)\u001b[0m\n\u001b[0;32m    287\u001b[0m \u001b[1;33m\u001b[0m\u001b[0m\n\u001b[0;32m    288\u001b[0m         \u001b[0mcaps\u001b[0m \u001b[1;33m=\u001b[0m \u001b[0m_create_caps\u001b[0m\u001b[1;33m(\u001b[0m\u001b[0mcapabilities\u001b[0m\u001b[1;33m)\u001b[0m\u001b[1;33m\u001b[0m\u001b[1;33m\u001b[0m\u001b[0m\n\u001b[1;32m--> 289\u001b[1;33m         \u001b[0mresponse\u001b[0m \u001b[1;33m=\u001b[0m \u001b[0mself\u001b[0m\u001b[1;33m.\u001b[0m\u001b[0mexecute\u001b[0m\u001b[1;33m(\u001b[0m\u001b[0mCommand\u001b[0m\u001b[1;33m.\u001b[0m\u001b[0mNEW_SESSION\u001b[0m\u001b[1;33m,\u001b[0m \u001b[0mcaps\u001b[0m\u001b[1;33m)\u001b[0m\u001b[1;33m[\u001b[0m\u001b[1;34m\"value\"\u001b[0m\u001b[1;33m]\u001b[0m\u001b[1;33m\u001b[0m\u001b[1;33m\u001b[0m\u001b[0m\n\u001b[0m\u001b[0;32m    290\u001b[0m         \u001b[0mself\u001b[0m\u001b[1;33m.\u001b[0m\u001b[0msession_id\u001b[0m \u001b[1;33m=\u001b[0m \u001b[0mresponse\u001b[0m\u001b[1;33m.\u001b[0m\u001b[0mget\u001b[0m\u001b[1;33m(\u001b[0m\u001b[1;34m\"sessionId\"\u001b[0m\u001b[1;33m)\u001b[0m\u001b[1;33m\u001b[0m\u001b[1;33m\u001b[0m\u001b[0m\n\u001b[0;32m    291\u001b[0m         \u001b[0mself\u001b[0m\u001b[1;33m.\u001b[0m\u001b[0mcaps\u001b[0m \u001b[1;33m=\u001b[0m \u001b[0mresponse\u001b[0m\u001b[1;33m.\u001b[0m\u001b[0mget\u001b[0m\u001b[1;33m(\u001b[0m\u001b[1;34m\"capabilities\"\u001b[0m\u001b[1;33m)\u001b[0m\u001b[1;33m\u001b[0m\u001b[1;33m\u001b[0m\u001b[0m\n",
      "\u001b[1;32m~\\anaconda3\\lib\\site-packages\\selenium\\webdriver\\remote\\webdriver.py\u001b[0m in \u001b[0;36mexecute\u001b[1;34m(self, driver_command, params)\u001b[0m\n\u001b[0;32m    342\u001b[0m         \u001b[0mresponse\u001b[0m \u001b[1;33m=\u001b[0m \u001b[0mself\u001b[0m\u001b[1;33m.\u001b[0m\u001b[0mcommand_executor\u001b[0m\u001b[1;33m.\u001b[0m\u001b[0mexecute\u001b[0m\u001b[1;33m(\u001b[0m\u001b[0mdriver_command\u001b[0m\u001b[1;33m,\u001b[0m \u001b[0mparams\u001b[0m\u001b[1;33m)\u001b[0m\u001b[1;33m\u001b[0m\u001b[1;33m\u001b[0m\u001b[0m\n\u001b[0;32m    343\u001b[0m         \u001b[1;32mif\u001b[0m \u001b[0mresponse\u001b[0m\u001b[1;33m:\u001b[0m\u001b[1;33m\u001b[0m\u001b[1;33m\u001b[0m\u001b[0m\n\u001b[1;32m--> 344\u001b[1;33m             \u001b[0mself\u001b[0m\u001b[1;33m.\u001b[0m\u001b[0merror_handler\u001b[0m\u001b[1;33m.\u001b[0m\u001b[0mcheck_response\u001b[0m\u001b[1;33m(\u001b[0m\u001b[0mresponse\u001b[0m\u001b[1;33m)\u001b[0m\u001b[1;33m\u001b[0m\u001b[1;33m\u001b[0m\u001b[0m\n\u001b[0m\u001b[0;32m    345\u001b[0m             \u001b[0mresponse\u001b[0m\u001b[1;33m[\u001b[0m\u001b[1;34m\"value\"\u001b[0m\u001b[1;33m]\u001b[0m \u001b[1;33m=\u001b[0m \u001b[0mself\u001b[0m\u001b[1;33m.\u001b[0m\u001b[0m_unwrap_value\u001b[0m\u001b[1;33m(\u001b[0m\u001b[0mresponse\u001b[0m\u001b[1;33m.\u001b[0m\u001b[0mget\u001b[0m\u001b[1;33m(\u001b[0m\u001b[1;34m\"value\"\u001b[0m\u001b[1;33m,\u001b[0m \u001b[1;32mNone\u001b[0m\u001b[1;33m)\u001b[0m\u001b[1;33m)\u001b[0m\u001b[1;33m\u001b[0m\u001b[1;33m\u001b[0m\u001b[0m\n\u001b[0;32m    346\u001b[0m             \u001b[1;32mreturn\u001b[0m \u001b[0mresponse\u001b[0m\u001b[1;33m\u001b[0m\u001b[1;33m\u001b[0m\u001b[0m\n",
      "\u001b[1;32m~\\anaconda3\\lib\\site-packages\\selenium\\webdriver\\remote\\errorhandler.py\u001b[0m in \u001b[0;36mcheck_response\u001b[1;34m(self, response)\u001b[0m\n\u001b[0;32m    227\u001b[0m                 \u001b[0malert_text\u001b[0m \u001b[1;33m=\u001b[0m \u001b[0mvalue\u001b[0m\u001b[1;33m[\u001b[0m\u001b[1;34m\"alert\"\u001b[0m\u001b[1;33m]\u001b[0m\u001b[1;33m.\u001b[0m\u001b[0mget\u001b[0m\u001b[1;33m(\u001b[0m\u001b[1;34m\"text\"\u001b[0m\u001b[1;33m)\u001b[0m\u001b[1;33m\u001b[0m\u001b[1;33m\u001b[0m\u001b[0m\n\u001b[0;32m    228\u001b[0m             \u001b[1;32mraise\u001b[0m \u001b[0mexception_class\u001b[0m\u001b[1;33m(\u001b[0m\u001b[0mmessage\u001b[0m\u001b[1;33m,\u001b[0m \u001b[0mscreen\u001b[0m\u001b[1;33m,\u001b[0m \u001b[0mstacktrace\u001b[0m\u001b[1;33m,\u001b[0m \u001b[0malert_text\u001b[0m\u001b[1;33m)\u001b[0m  \u001b[1;31m# type: ignore[call-arg]  # mypy is not smart enough here\u001b[0m\u001b[1;33m\u001b[0m\u001b[1;33m\u001b[0m\u001b[0m\n\u001b[1;32m--> 229\u001b[1;33m         \u001b[1;32mraise\u001b[0m \u001b[0mexception_class\u001b[0m\u001b[1;33m(\u001b[0m\u001b[0mmessage\u001b[0m\u001b[1;33m,\u001b[0m \u001b[0mscreen\u001b[0m\u001b[1;33m,\u001b[0m \u001b[0mstacktrace\u001b[0m\u001b[1;33m)\u001b[0m\u001b[1;33m\u001b[0m\u001b[1;33m\u001b[0m\u001b[0m\n\u001b[0m",
      "\u001b[1;31mSessionNotCreatedException\u001b[0m: Message: session not created: This version of ChromeDriver only supports Chrome version 114\nCurrent browser version is 116.0.5845.188 with binary path C:\\Program Files\\Google\\Chrome\\Application\\chrome.exe\nStacktrace:\nBacktrace:\n\tGetHandleVerifier [0x00C4A813+48355]\n\t(No symbol) [0x00BDC4B1]\n\t(No symbol) [0x00AE5358]\n\t(No symbol) [0x00B061AC]\n\t(No symbol) [0x00B01EF3]\n\t(No symbol) [0x00B00579]\n\t(No symbol) [0x00B30C55]\n\t(No symbol) [0x00B3093C]\n\t(No symbol) [0x00B2A536]\n\t(No symbol) [0x00B082DC]\n\t(No symbol) [0x00B093DD]\n\tGetHandleVerifier [0x00EAAABD+2539405]\n\tGetHandleVerifier [0x00EEA78F+2800735]\n\tGetHandleVerifier [0x00EE456C+2775612]\n\tGetHandleVerifier [0x00CD51E0+616112]\n\t(No symbol) [0x00BE5F8C]\n\t(No symbol) [0x00BE2328]\n\t(No symbol) [0x00BE240B]\n\t(No symbol) [0x00BD4FF7]\n\tBaseThreadInitThunk [0x77107BA9+25]\n\tRtlInitializeExceptionChain [0x77DFB79B+107]\n\tRtlClearBits [0x77DFB71F+191]\n"
     ]
    }
   ],
   "source": [
    "import io\n",
    "from pathlib import Path\n",
    "import hashlib\n",
    "import pandas as pd\n",
    "import requests\n",
    "from bs4 import BeautifulSoup\n",
    "from PIL import Image\n",
    "from selenium import webdriver\n",
    "\n",
    "\n",
    "def get_content_from_url(url):\n",
    "   driver = webdriver.Chrome()  # Add \"executable_path=\" if the driver is in a custom directory.\n",
    "   driver.get(url)\n",
    "   driver.execute_script(\"window.scrollTo(0, document.body.scrollHeight);\")\n",
    "   page_content = driver.page_source\n",
    "   driver.quit()  # You don't need the browser instance for further steps.\n",
    "   return page_content\n",
    "\n",
    "\n",
    "def parse_image_urls(content, classes, location, source):\n",
    "   soup = BeautifulSoup(content)\n",
    "   results = []\n",
    "   for a in soup.findAll(attrs={\"class\": classes}):\n",
    "       name = a.find(location)\n",
    "       if name not in results:\n",
    "           results.append(name.get(source))\n",
    "   return results\n",
    "\n",
    "\n",
    "def save_urls_to_csv(image_urls):\n",
    "   df = pd.DataFrame({\"links\": image_urls})\n",
    "   df.to_csv(\"links.csv\", index=False, encoding=\"utf-8\")\n",
    "\n",
    "\n",
    "def get_and_save_image_to_file(image_url, output_dir):\n",
    "   response = requests.get(image_url, headers={\"User-agent\": \"Mozilla/5.0 (Windows NT 10.0; Win64; x64) AppleWebKit/537.36 (KHTML, like Gecko) Chrome/113.0.0.0 Safari/537.36\"})\n",
    "   image_content = response.content\n",
    "   image_file = io.BytesIO(image_content)\n",
    "   image = Image.open(image_file).convert(\"RGB\")\n",
    "   filename = hashlib.sha1(image_content).hexdigest()[:10] + \".png\"\n",
    "   file_path = output_dir / filename\n",
    "   image.save(file_path, \"PNG\", quality=80)\n",
    "\n",
    "\n",
    "def main():\n",
    "   url = \"https://www.ebay.com/sch/i.html?_from=R40&_trksid=p2334524.m570.l1313&_nkw=laptop&_sacat=0&LH_TitleDesc=0&_osacat=0&_odkw=laptop\"\n",
    "   content = get_content_from_url(url)\n",
    "   image_urls = parse_image_urls(\n",
    "       content=content, classes=\"s-item__image-wrapper image-treatment\", location=\"img\", source=\"src\",\n",
    "   )\n",
    "   save_urls_to_csv(image_urls)\n",
    "\n",
    "   for image_url in image_urls:\n",
    "       get_and_save_image_to_file(\n",
    "           image_url, output_dir=Path(\"/path/to/test\"),\n",
    "       )\n",
    "\n",
    "\n",
    "if __name__ == \"__main__\":  # Only executes if imported as a main file.\n",
    "   main()"
   ]
  },
  {
   "cell_type": "code",
   "execution_count": 43,
   "id": "08a4e3e2",
   "metadata": {},
   "outputs": [],
   "source": [
    "import requests\n",
    "from PIL import Image"
   ]
  },
  {
   "cell_type": "code",
   "execution_count": 44,
   "id": "05ae6def",
   "metadata": {},
   "outputs": [],
   "source": [
    "def importingPIC(url):\n",
    "    image_data = requests.get(url,stream = True).raw\n",
    "    display(Image.open(image_data))\n",
    "    \n",
    "    "
   ]
  },
  {
   "cell_type": "code",
   "execution_count": 54,
   "id": "616e3b0c",
   "metadata": {},
   "outputs": [
    {
     "ename": "UnidentifiedImageError",
     "evalue": "cannot identify image file <_io.BytesIO object at 0x000001EA957B6130>",
     "output_type": "error",
     "traceback": [
      "\u001b[1;31m---------------------------------------------------------------------------\u001b[0m",
      "\u001b[1;31mUnidentifiedImageError\u001b[0m                    Traceback (most recent call last)",
      "\u001b[1;32m<ipython-input-54-a1ed4204a16b>\u001b[0m in \u001b[0;36m<module>\u001b[1;34m\u001b[0m\n\u001b[0;32m      2\u001b[0m \u001b[1;34m'https://www.google.com/search?sca_esv=568517199&rlz=1C1ONGR_enIN1016IN1016&q=c%26s+wholesale+grocers&tbm=isch&source=lnms&sa=X&ved=2ahUKEwia77CFuMiBAxVEGlkFHSZcD6MQ0pQJegQIDBAB&biw=1536&bih=739&dpr=1.25#imgrc=EtmjYK8d9Y7qKM'\u001b[0m\u001b[1;33m\u001b[0m\u001b[1;33m\u001b[0m\u001b[0m\n\u001b[0;32m      3\u001b[0m \u001b[1;31m# 'https://pixabay.com/photos/chain-security-metal-iron-3481377/'\u001b[0m\u001b[1;33m\u001b[0m\u001b[1;33m\u001b[0m\u001b[1;33m\u001b[0m\u001b[0m\n\u001b[1;32m----> 4\u001b[1;33m \u001b[0mimportingPIC\u001b[0m\u001b[1;33m(\u001b[0m\u001b[0murl\u001b[0m\u001b[1;33m)\u001b[0m\u001b[1;33m\u001b[0m\u001b[1;33m\u001b[0m\u001b[0m\n\u001b[0m",
      "\u001b[1;32m<ipython-input-44-2dfc3677dfa3>\u001b[0m in \u001b[0;36mimportingPIC\u001b[1;34m(url)\u001b[0m\n\u001b[0;32m      1\u001b[0m \u001b[1;32mdef\u001b[0m \u001b[0mimportingPIC\u001b[0m\u001b[1;33m(\u001b[0m\u001b[0murl\u001b[0m\u001b[1;33m)\u001b[0m\u001b[1;33m:\u001b[0m\u001b[1;33m\u001b[0m\u001b[1;33m\u001b[0m\u001b[0m\n\u001b[0;32m      2\u001b[0m     \u001b[0mimage_data\u001b[0m \u001b[1;33m=\u001b[0m \u001b[0mrequests\u001b[0m\u001b[1;33m.\u001b[0m\u001b[0mget\u001b[0m\u001b[1;33m(\u001b[0m\u001b[0murl\u001b[0m\u001b[1;33m,\u001b[0m\u001b[0mstream\u001b[0m \u001b[1;33m=\u001b[0m \u001b[1;32mTrue\u001b[0m\u001b[1;33m)\u001b[0m\u001b[1;33m.\u001b[0m\u001b[0mraw\u001b[0m\u001b[1;33m\u001b[0m\u001b[1;33m\u001b[0m\u001b[0m\n\u001b[1;32m----> 3\u001b[1;33m     \u001b[0mdisplay\u001b[0m\u001b[1;33m(\u001b[0m\u001b[0mImage\u001b[0m\u001b[1;33m.\u001b[0m\u001b[0mopen\u001b[0m\u001b[1;33m(\u001b[0m\u001b[0mimage_data\u001b[0m\u001b[1;33m)\u001b[0m\u001b[1;33m)\u001b[0m\u001b[1;33m\u001b[0m\u001b[1;33m\u001b[0m\u001b[0m\n\u001b[0m\u001b[0;32m      4\u001b[0m \u001b[1;33m\u001b[0m\u001b[0m\n\u001b[0;32m      5\u001b[0m \u001b[1;33m\u001b[0m\u001b[0m\n",
      "\u001b[1;32m~\\anaconda3\\lib\\site-packages\\PIL\\Image.py\u001b[0m in \u001b[0;36mopen\u001b[1;34m(fp, mode, formats)\u001b[0m\n\u001b[0;32m   2965\u001b[0m     \u001b[1;32mfor\u001b[0m \u001b[0mmessage\u001b[0m \u001b[1;32min\u001b[0m \u001b[0maccept_warnings\u001b[0m\u001b[1;33m:\u001b[0m\u001b[1;33m\u001b[0m\u001b[1;33m\u001b[0m\u001b[0m\n\u001b[0;32m   2966\u001b[0m         \u001b[0mwarnings\u001b[0m\u001b[1;33m.\u001b[0m\u001b[0mwarn\u001b[0m\u001b[1;33m(\u001b[0m\u001b[0mmessage\u001b[0m\u001b[1;33m)\u001b[0m\u001b[1;33m\u001b[0m\u001b[1;33m\u001b[0m\u001b[0m\n\u001b[1;32m-> 2967\u001b[1;33m     raise UnidentifiedImageError(\n\u001b[0m\u001b[0;32m   2968\u001b[0m         \u001b[1;34m\"cannot identify image file %r\"\u001b[0m \u001b[1;33m%\u001b[0m \u001b[1;33m(\u001b[0m\u001b[0mfilename\u001b[0m \u001b[1;32mif\u001b[0m \u001b[0mfilename\u001b[0m \u001b[1;32melse\u001b[0m \u001b[0mfp\u001b[0m\u001b[1;33m)\u001b[0m\u001b[1;33m\u001b[0m\u001b[1;33m\u001b[0m\u001b[0m\n\u001b[0;32m   2969\u001b[0m     )\n",
      "\u001b[1;31mUnidentifiedImageError\u001b[0m: cannot identify image file <_io.BytesIO object at 0x000001EA957B6130>"
     ]
    }
   ],
   "source": [
    "url = 'https://i.natgeofe.com/n/548467d8-c5f1-4551-9f58-6817a8d2c45e/NationalGeographic_2572187_square.jpg\",'\n",
    "'https://www.google.com/search?sca_esv=568517199&rlz=1C1ONGR_enIN1016IN1016&q=c%26s+wholesale+grocers&tbm=isch&source=lnms&sa=X&ved=2ahUKEwia77CFuMiBAxVEGlkFHSZcD6MQ0pQJegQIDBAB&biw=1536&bih=739&dpr=1.25#imgrc=EtmjYK8d9Y7qKM'\n",
    "# 'https://pixabay.com/photos/chain-security-metal-iron-3481377/'\n",
    "importingPIC(url)"
   ]
  },
  {
   "cell_type": "code",
   "execution_count": 53,
   "id": "37f01f2b",
   "metadata": {},
   "outputs": [
    {
     "name": "stdout",
     "output_type": "stream",
     "text": [
      "Downloaded: cat\\images\n",
      "Downloaded: cat\\images\n",
      "Downloaded: cat\\images\n",
      "Downloaded: cat\\images\n",
      "Downloaded: cat\\images\n",
      "Downloaded: cat\\images\n",
      "Downloaded: cat\\images\n",
      "Downloaded: cat\\images\n",
      "Downloaded: cat\\images\n",
      "Downloaded: cat\\images\n",
      "Downloaded: cat\\images\n",
      "Downloaded: cat\\images\n",
      "Downloaded: cat\\images\n",
      "Downloaded: cat\\images\n",
      "Downloaded: cat\\images\n",
      "Downloaded: cat\\images\n",
      "Downloaded: cat\\images\n",
      "Downloaded: cat\\images\n",
      "Downloaded: cat\\images\n",
      "Downloaded: cat\\images\n",
      "Image download complete.\n"
     ]
    }
   ],
   "source": [
    "import requests\n",
    "from bs4 import BeautifulSoup\n",
    "import os\n",
    "import urllib\n",
    "\n",
    "# Define the search keyword\n",
    "search_keyword = \"cat\"\n",
    "\n",
    "# Create a directory to save the downloaded images\n",
    "if not os.path.exists(search_keyword):\n",
    "    os.makedirs(search_keyword)\n",
    "\n",
    "# Define the Google Images URL with the search query\n",
    "google_url = f\"https://www.google.com/search?q={search_keyword}&tbm=isch\"\n",
    "\n",
    "# Send an HTTP GET request to the Google Images URL\n",
    "response = requests.get(google_url)\n",
    "\n",
    "# Parse the HTML content of the page using Beautiful Soup\n",
    "soup = BeautifulSoup(response.text, 'html.parser')\n",
    "\n",
    "# Find all the image elements on the page\n",
    "img_tags = soup.find_all('img')\n",
    "\n",
    "# Download and save each image\n",
    "for img_tag in  :\n",
    "    # Get the image source URL\n",
    "    img_url = img_tag.get('src')\n",
    "\n",
    "    # Check if the image URL is not None and is an actual image link\n",
    "    if img_url and img_url.startswith('http'):\n",
    "        # Create a unique filename for each image based on the URL\n",
    "        img_name = os.path.join(search_keyword, f\"{urllib.parse.urlparse(img_url).path.split('/')[-1]}\")\n",
    "\n",
    "        # Download and save the image\n",
    "        with open(img_name, 'wb') as img_file:\n",
    "            img_file.write(requests.get(img_url).content)\n",
    "            print(f\"Downloaded: {img_name}\")\n",
    "\n",
    "print(\"Image download complete.\")\n"
   ]
  },
  {
   "cell_type": "code",
   "execution_count": 55,
   "id": "c6eeed02",
   "metadata": {},
   "outputs": [
    {
     "name": "stdout",
     "output_type": "stream",
     "text": [
      "Requirement already satisfied: requests in c:\\users\\user\\anaconda3\\lib\\site-packages (2.25.1)Note: you may need to restart the kernel to use updated packages.\n",
      "Requirement already satisfied: chardet<5,>=3.0.2 in c:\\users\\user\\anaconda3\\lib\\site-packages (from requests) (4.0.0)\n",
      "Requirement already satisfied: idna<3,>=2.5 in c:\\users\\user\\anaconda3\\lib\\site-packages (from requests) (2.10)\n",
      "Requirement already satisfied: urllib3<1.27,>=1.21.1 in c:\\users\\user\\anaconda3\\lib\\site-packages (from requests) (1.26.4)\n",
      "\n",
      "Requirement already satisfied: certifi>=2017.4.17 in c:\\users\\user\\anaconda3\\lib\\site-packages (from requests) (2023.7.22)"
     ]
    },
    {
     "name": "stderr",
     "output_type": "stream",
     "text": [
      "DEPRECATION: pyodbc 4.0.0-unsupported has a non-standard version number. pip 23.3 will enforce this behaviour change. A possible replacement is to upgrade to a newer version of pyodbc or contact the author to suggest that they release a version with a conforming version number. Discussion can be found at https://github.com/pypa/pip/issues/12063\n"
     ]
    },
    {
     "name": "stdout",
     "output_type": "stream",
     "text": [
      "\n"
     ]
    }
   ],
   "source": [
    "pip install requests"
   ]
  },
  {
   "cell_type": "code",
   "execution_count": 59,
   "id": "c0caa6f0",
   "metadata": {},
   "outputs": [
    {
     "name": "stdout",
     "output_type": "stream",
     "text": [
      "Enter a keyword to search for images: cat\n"
     ]
    },
    {
     "ename": "JSONDecodeError",
     "evalue": "Expecting value: line 1 column 1 (char 0)",
     "output_type": "error",
     "traceback": [
      "\u001b[1;31m---------------------------------------------------------------------------\u001b[0m",
      "\u001b[1;31mJSONDecodeError\u001b[0m                           Traceback (most recent call last)",
      "\u001b[1;32m<ipython-input-59-a8f6f81e2e52>\u001b[0m in \u001b[0;36m<module>\u001b[1;34m\u001b[0m\n\u001b[0;32m     25\u001b[0m \u001b[1;32mif\u001b[0m \u001b[0m__name__\u001b[0m \u001b[1;33m==\u001b[0m \u001b[1;34m'__main__'\u001b[0m\u001b[1;33m:\u001b[0m\u001b[1;33m\u001b[0m\u001b[1;33m\u001b[0m\u001b[0m\n\u001b[0;32m     26\u001b[0m     \u001b[0mkeyword\u001b[0m \u001b[1;33m=\u001b[0m \u001b[0minput\u001b[0m\u001b[1;33m(\u001b[0m\u001b[1;34m\"Enter a keyword to search for images: \"\u001b[0m\u001b[1;33m)\u001b[0m\u001b[1;33m\u001b[0m\u001b[1;33m\u001b[0m\u001b[0m\n\u001b[1;32m---> 27\u001b[1;33m     \u001b[0msearch_google_images\u001b[0m\u001b[1;33m(\u001b[0m\u001b[0mkeyword\u001b[0m\u001b[1;33m)\u001b[0m\u001b[1;33m\u001b[0m\u001b[1;33m\u001b[0m\u001b[0m\n\u001b[0m",
      "\u001b[1;32m<ipython-input-59-a8f6f81e2e52>\u001b[0m in \u001b[0;36msearch_google_images\u001b[1;34m(keyword)\u001b[0m\n\u001b[0;32m     13\u001b[0m     \u001b[1;32mif\u001b[0m \u001b[0mresponse\u001b[0m\u001b[1;33m.\u001b[0m\u001b[0mstatus_code\u001b[0m \u001b[1;33m==\u001b[0m \u001b[1;36m200\u001b[0m\u001b[1;33m:\u001b[0m\u001b[1;33m\u001b[0m\u001b[1;33m\u001b[0m\u001b[0m\n\u001b[0;32m     14\u001b[0m         \u001b[1;31m# ScraperAPI successfully fetched the search results\u001b[0m\u001b[1;33m\u001b[0m\u001b[1;33m\u001b[0m\u001b[1;33m\u001b[0m\u001b[0m\n\u001b[1;32m---> 15\u001b[1;33m         \u001b[0mdata\u001b[0m \u001b[1;33m=\u001b[0m \u001b[0mresponse\u001b[0m\u001b[1;33m.\u001b[0m\u001b[0mjson\u001b[0m\u001b[1;33m(\u001b[0m\u001b[1;33m)\u001b[0m\u001b[1;33m\u001b[0m\u001b[1;33m\u001b[0m\u001b[0m\n\u001b[0m\u001b[0;32m     16\u001b[0m         \u001b[0mprint\u001b[0m\u001b[1;33m(\u001b[0m\u001b[0mdata\u001b[0m\u001b[1;33m)\u001b[0m\u001b[1;33m\u001b[0m\u001b[1;33m\u001b[0m\u001b[0m\n\u001b[0;32m     17\u001b[0m \u001b[1;33m\u001b[0m\u001b[0m\n",
      "\u001b[1;32m~\\anaconda3\\lib\\site-packages\\requests\\models.py\u001b[0m in \u001b[0;36mjson\u001b[1;34m(self, **kwargs)\u001b[0m\n\u001b[0;32m    898\u001b[0m                     \u001b[1;31m# used.\u001b[0m\u001b[1;33m\u001b[0m\u001b[1;33m\u001b[0m\u001b[1;33m\u001b[0m\u001b[0m\n\u001b[0;32m    899\u001b[0m                     \u001b[1;32mpass\u001b[0m\u001b[1;33m\u001b[0m\u001b[1;33m\u001b[0m\u001b[0m\n\u001b[1;32m--> 900\u001b[1;33m         \u001b[1;32mreturn\u001b[0m \u001b[0mcomplexjson\u001b[0m\u001b[1;33m.\u001b[0m\u001b[0mloads\u001b[0m\u001b[1;33m(\u001b[0m\u001b[0mself\u001b[0m\u001b[1;33m.\u001b[0m\u001b[0mtext\u001b[0m\u001b[1;33m,\u001b[0m \u001b[1;33m**\u001b[0m\u001b[0mkwargs\u001b[0m\u001b[1;33m)\u001b[0m\u001b[1;33m\u001b[0m\u001b[1;33m\u001b[0m\u001b[0m\n\u001b[0m\u001b[0;32m    901\u001b[0m \u001b[1;33m\u001b[0m\u001b[0m\n\u001b[0;32m    902\u001b[0m     \u001b[1;33m@\u001b[0m\u001b[0mproperty\u001b[0m\u001b[1;33m\u001b[0m\u001b[1;33m\u001b[0m\u001b[0m\n",
      "\u001b[1;32m~\\anaconda3\\lib\\json\\__init__.py\u001b[0m in \u001b[0;36mloads\u001b[1;34m(s, cls, object_hook, parse_float, parse_int, parse_constant, object_pairs_hook, **kw)\u001b[0m\n\u001b[0;32m    355\u001b[0m             \u001b[0mparse_int\u001b[0m \u001b[1;32mis\u001b[0m \u001b[1;32mNone\u001b[0m \u001b[1;32mand\u001b[0m \u001b[0mparse_float\u001b[0m \u001b[1;32mis\u001b[0m \u001b[1;32mNone\u001b[0m \u001b[1;32mand\u001b[0m\u001b[1;33m\u001b[0m\u001b[1;33m\u001b[0m\u001b[0m\n\u001b[0;32m    356\u001b[0m             parse_constant is None and object_pairs_hook is None and not kw):\n\u001b[1;32m--> 357\u001b[1;33m         \u001b[1;32mreturn\u001b[0m \u001b[0m_default_decoder\u001b[0m\u001b[1;33m.\u001b[0m\u001b[0mdecode\u001b[0m\u001b[1;33m(\u001b[0m\u001b[0ms\u001b[0m\u001b[1;33m)\u001b[0m\u001b[1;33m\u001b[0m\u001b[1;33m\u001b[0m\u001b[0m\n\u001b[0m\u001b[0;32m    358\u001b[0m     \u001b[1;32mif\u001b[0m \u001b[0mcls\u001b[0m \u001b[1;32mis\u001b[0m \u001b[1;32mNone\u001b[0m\u001b[1;33m:\u001b[0m\u001b[1;33m\u001b[0m\u001b[1;33m\u001b[0m\u001b[0m\n\u001b[0;32m    359\u001b[0m         \u001b[0mcls\u001b[0m \u001b[1;33m=\u001b[0m \u001b[0mJSONDecoder\u001b[0m\u001b[1;33m\u001b[0m\u001b[1;33m\u001b[0m\u001b[0m\n",
      "\u001b[1;32m~\\anaconda3\\lib\\json\\decoder.py\u001b[0m in \u001b[0;36mdecode\u001b[1;34m(self, s, _w)\u001b[0m\n\u001b[0;32m    335\u001b[0m \u001b[1;33m\u001b[0m\u001b[0m\n\u001b[0;32m    336\u001b[0m         \"\"\"\n\u001b[1;32m--> 337\u001b[1;33m         \u001b[0mobj\u001b[0m\u001b[1;33m,\u001b[0m \u001b[0mend\u001b[0m \u001b[1;33m=\u001b[0m \u001b[0mself\u001b[0m\u001b[1;33m.\u001b[0m\u001b[0mraw_decode\u001b[0m\u001b[1;33m(\u001b[0m\u001b[0ms\u001b[0m\u001b[1;33m,\u001b[0m \u001b[0midx\u001b[0m\u001b[1;33m=\u001b[0m\u001b[0m_w\u001b[0m\u001b[1;33m(\u001b[0m\u001b[0ms\u001b[0m\u001b[1;33m,\u001b[0m \u001b[1;36m0\u001b[0m\u001b[1;33m)\u001b[0m\u001b[1;33m.\u001b[0m\u001b[0mend\u001b[0m\u001b[1;33m(\u001b[0m\u001b[1;33m)\u001b[0m\u001b[1;33m)\u001b[0m\u001b[1;33m\u001b[0m\u001b[1;33m\u001b[0m\u001b[0m\n\u001b[0m\u001b[0;32m    338\u001b[0m         \u001b[0mend\u001b[0m \u001b[1;33m=\u001b[0m \u001b[0m_w\u001b[0m\u001b[1;33m(\u001b[0m\u001b[0ms\u001b[0m\u001b[1;33m,\u001b[0m \u001b[0mend\u001b[0m\u001b[1;33m)\u001b[0m\u001b[1;33m.\u001b[0m\u001b[0mend\u001b[0m\u001b[1;33m(\u001b[0m\u001b[1;33m)\u001b[0m\u001b[1;33m\u001b[0m\u001b[1;33m\u001b[0m\u001b[0m\n\u001b[0;32m    339\u001b[0m         \u001b[1;32mif\u001b[0m \u001b[0mend\u001b[0m \u001b[1;33m!=\u001b[0m \u001b[0mlen\u001b[0m\u001b[1;33m(\u001b[0m\u001b[0ms\u001b[0m\u001b[1;33m)\u001b[0m\u001b[1;33m:\u001b[0m\u001b[1;33m\u001b[0m\u001b[1;33m\u001b[0m\u001b[0m\n",
      "\u001b[1;32m~\\anaconda3\\lib\\json\\decoder.py\u001b[0m in \u001b[0;36mraw_decode\u001b[1;34m(self, s, idx)\u001b[0m\n\u001b[0;32m    353\u001b[0m             \u001b[0mobj\u001b[0m\u001b[1;33m,\u001b[0m \u001b[0mend\u001b[0m \u001b[1;33m=\u001b[0m \u001b[0mself\u001b[0m\u001b[1;33m.\u001b[0m\u001b[0mscan_once\u001b[0m\u001b[1;33m(\u001b[0m\u001b[0ms\u001b[0m\u001b[1;33m,\u001b[0m \u001b[0midx\u001b[0m\u001b[1;33m)\u001b[0m\u001b[1;33m\u001b[0m\u001b[1;33m\u001b[0m\u001b[0m\n\u001b[0;32m    354\u001b[0m         \u001b[1;32mexcept\u001b[0m \u001b[0mStopIteration\u001b[0m \u001b[1;32mas\u001b[0m \u001b[0merr\u001b[0m\u001b[1;33m:\u001b[0m\u001b[1;33m\u001b[0m\u001b[1;33m\u001b[0m\u001b[0m\n\u001b[1;32m--> 355\u001b[1;33m             \u001b[1;32mraise\u001b[0m \u001b[0mJSONDecodeError\u001b[0m\u001b[1;33m(\u001b[0m\u001b[1;34m\"Expecting value\"\u001b[0m\u001b[1;33m,\u001b[0m \u001b[0ms\u001b[0m\u001b[1;33m,\u001b[0m \u001b[0merr\u001b[0m\u001b[1;33m.\u001b[0m\u001b[0mvalue\u001b[0m\u001b[1;33m)\u001b[0m \u001b[1;32mfrom\u001b[0m \u001b[1;32mNone\u001b[0m\u001b[1;33m\u001b[0m\u001b[1;33m\u001b[0m\u001b[0m\n\u001b[0m\u001b[0;32m    356\u001b[0m         \u001b[1;32mreturn\u001b[0m \u001b[0mobj\u001b[0m\u001b[1;33m,\u001b[0m \u001b[0mend\u001b[0m\u001b[1;33m\u001b[0m\u001b[1;33m\u001b[0m\u001b[0m\n",
      "\u001b[1;31mJSONDecodeError\u001b[0m: Expecting value: line 1 column 1 (char 0)"
     ]
    }
   ],
   "source": [
    "import requests\n",
    "\n",
    "# Replace 'YOUR_API_KEY' with your actual ScraperAPI API key\n",
    "API_KEY = '3e4a5dfad910d2bd76ced2ff48bdb2eb'\n",
    "\n",
    "def search_google_images(keyword):\n",
    "    base_url = 'http://api.scraperapi.com'\n",
    "    search_endpoint = '/?api_key={}&url=https://www.google.com/search?q={}&tbm=isch'.format(API_KEY, keyword)\n",
    "\n",
    "    # Make a GET request to ScraperAPI to search for images on Google Images\n",
    "    response = requests.get(base_url + search_endpoint)\n",
    "\n",
    "    if response.status_code == 200:\n",
    "        # ScraperAPI successfully fetched the search results\n",
    "        data = response.json()\n",
    "        print(data)\n",
    "\n",
    "        # Extract and display the image URLs\n",
    "        for item in data['images_results']:\n",
    "            print(item['original'])\n",
    "    else:\n",
    "        print('Error:', response.status_code)\n",
    "        print('%%%%%%%%%%%%%%%%%%%%%%%%%%%%%%%')\n",
    "\n",
    "if __name__ == '__main__':\n",
    "    keyword = input(\"Enter a keyword to search for images: \")\n",
    "    search_google_images(keyword)\n"
   ]
  },
  {
   "cell_type": "code",
   "execution_count": 60,
   "id": "7badbea3",
   "metadata": {},
   "outputs": [
    {
     "name": "stdout",
     "output_type": "stream",
     "text": [
      "{'search_metadata': {'id': '6512ee525c560614df097291', 'status': 'Success', 'json_endpoint': 'https://serpapi.com/searches/3e3278f9f0dda6a7/6512ee525c560614df097291.json', 'created_at': '2023-09-26 14:44:34 UTC', 'processed_at': '2023-09-26 14:44:34 UTC', 'google_images_url': 'https://www.google.com/search?q=Coffee&oq=Coffee&uule=w+CAIQICIdQXVzdGluLFRYLFRleGFzLFVuaXRlZCBTdGF0ZXM&hl=en&gl=us&tbm=isch', 'raw_html_file': 'https://serpapi.com/searches/3e3278f9f0dda6a7/6512ee525c560614df097291.html', 'total_time_taken': 7.6}, 'search_parameters': {'engine': 'google_images', 'q': 'Coffee', 'location_requested': 'Austin, TX, Texas, United States', 'location_used': 'Austin,TX,Texas,United States', 'google_domain': 'google.com', 'hl': 'en', 'gl': 'us', 'device': 'desktop'}, 'search_information': {'image_results_state': 'Results for exact spelling', 'menu_items': [{'position': 1, 'title': 'All', 'link': 'https://www.google.com/search?q=Coffee&source=lmns&gl=us&hl=en&sa=X&ved=2ahUKEwjosOLqwciBAxVQM1kFHeUrB3AQ0pQJKAB6BAgBEAI', 'serpapi_link': 'https://serpapi.com/search.json?device=desktop&engine=google&gl=us&google_domain=google.com&hl=en&q=Coffee'}, {'position': 2, 'title': 'Maps', 'link': 'https://maps.google.com/maps?q=Coffee&source=lmns&entry=mc&gl=us&hl=en&sa=X&ved=2ahUKEwjosOLqwciBAxVQM1kFHeUrB3AQ0pQJKAF6BAgBEAQ'}, {'position': 3, 'title': 'Shopping', 'link': 'https://www.google.com/search?q=Coffee&source=lmns&tbm=shop&gl=us&hl=en&sa=X&ved=2ahUKEwjosOLqwciBAxVQM1kFHeUrB3AQ0pQJKAJ6BAgBEAY', 'serpapi_link': 'https://serpapi.com/search.json?device=desktop&engine=google_shopping&gl=us&google_domain=google.com&hl=en&q=Coffee'}, {'position': 4, 'title': 'Images'}, {'position': 5, 'title': 'Videos', 'link': 'https://www.google.com/search?q=Coffee&source=lmns&tbm=vid&gl=us&hl=en&sa=X&ved=2ahUKEwjosOLqwciBAxVQM1kFHeUrB3AQ0pQJKAR6BAgBEAo', 'serpapi_link': 'https://serpapi.com/search.json?device=desktop&engine=google_videos&gl=us&google_domain=google.com&hl=en&q=Coffee'}, {'position': 6, 'title': 'News', 'link': 'https://www.google.com/search?q=Coffee&source=lmns&tbm=nws&gl=us&hl=en&sa=X&ved=2ahUKEwjosOLqwciBAxVQM1kFHeUrB3AQ0pQJKAB6BAgBEA0', 'serpapi_link': 'https://serpapi.com/search.json?device=desktop&engine=google&gl=us&google_domain=google.com&hl=en&q=Coffee&tbm=nws'}, {'position': 7, 'title': 'Books', 'link': 'https://www.google.com/search?q=Coffee&source=lmns&tbm=bks&gl=us&hl=en&sa=X&ved=2ahUKEwjosOLqwciBAxVQM1kFHeUrB3AQ0pQJKAF6BAgBEA4'}, {'position': 8, 'title': 'Flights', 'link': 'https://www.google.com/travel/flights?q=Coffee&source=lmns&tbm=flm&gl=us&hl=en&sa=X&ved=2ahUKEwjosOLqwciBAxVQM1kFHeUrB3AQ0pQJKAJ6BAgBEA8'}, {'position': 9, 'title': 'Finance', 'link': 'https://www.google.com/search?q=Coffee&source=lmns&tbm=fin&gl=us&hl=en&sa=X&ved=2ahUKEwjosOLqwciBAxVQM1kFHeUrB3AQ0pQJKAN6BAgBEBA'}]}, 'suggested_searches': [{'name': 'cup', 'link': 'https://www.google.com/search?q=Coffee&tbm=isch&hl=en&gl=us&chips=q:coffee,g_1:cup:IMvs4y4LC4c%3D&sa=X&ved=2ahUKEwjosOLqwciBAxVQM1kFHeUrB3AQ4lYoAHoECAEQMg', 'chips': 'q:coffee,g_1:cup:IMvs4y4LC4c%3D', 'serpapi_link': 'https://serpapi.com/search.json?chips=q%3Acoffee%2Cg_1%3Acup%3AIMvs4y4LC4c%253D&device=desktop&engine=google_images&gl=us&google_domain=google.com&hl=en&location=Austin%2C+TX%2C+Texas%2C+United+States&q=Coffee', 'thumbnail': 'https://serpapi.com/searches/6512ee525c560614df097291/images/b04666a7679113802fed9fe32a5ccbabe52e0c0ec2224a2c4af14a9679412ace.png'}, {'name': 'wallpaper', 'link': 'https://www.google.com/search?q=Coffee&tbm=isch&hl=en&gl=us&chips=q:coffee,g_1:wallpaper:ZxXEaBIJwWU%3D&sa=X&ved=2ahUKEwjosOLqwciBAxVQM1kFHeUrB3AQ4lYoAXoECAEQNA', 'chips': 'q:coffee,g_1:wallpaper:ZxXEaBIJwWU%3D', 'serpapi_link': 'https://serpapi.com/search.json?chips=q%3Acoffee%2Cg_1%3Awallpaper%3AZxXEaBIJwWU%253D&device=desktop&engine=google_images&gl=us&google_domain=google.com&hl=en&location=Austin%2C+TX%2C+Texas%2C+United+States&q=Coffee', 'thumbnail': 'https://serpapi.com/searches/6512ee525c560614df097291/images/b04666a7679113802fed9fe32a5ccbab4049497ffcc14c7dcb6dd15c294824af.jpeg'}, {'name': 'cafe', 'link': 'https://www.google.com/search?q=Coffee&tbm=isch&hl=en&gl=us&chips=q:coffee,g_1:cafe:Z3V9iDLlllY%3D&sa=X&ved=2ahUKEwjosOLqwciBAxVQM1kFHeUrB3AQ4lYoAnoECAEQNg', 'chips': 'q:coffee,g_1:cafe:Z3V9iDLlllY%3D', 'serpapi_link': 'https://serpapi.com/search.json?chips=q%3Acoffee%2Cg_1%3Acafe%3AZ3V9iDLlllY%253D&device=desktop&engine=google_images&gl=us&google_domain=google.com&hl=en&location=Austin%2C+TX%2C+Texas%2C+United+States&q=Coffee', 'thumbnail': 'https://serpapi.com/searches/6512ee525c560614df097291/images/b04666a7679113802fed9fe32a5ccbaba9d8160f312e222fb899dc5884237d09.jpeg'}, {'name': 'clip art', 'link': 'https://www.google.com/search?q=Coffee&tbm=isch&hl=en&gl=us&chips=q:coffee,g_1:clip+art:jpIPjjhbHJw%3D&sa=X&ved=2ahUKEwjosOLqwciBAxVQM1kFHeUrB3AQ4lYoA3oECAEQOA', 'chips': 'q:coffee,g_1:clip+art:jpIPjjhbHJw%3D', 'serpapi_link': 'https://serpapi.com/search.json?chips=q%3Acoffee%2Cg_1%3Aclip%2Bart%3AjpIPjjhbHJw%253D&device=desktop&engine=google_images&gl=us&google_domain=google.com&hl=en&location=Austin%2C+TX%2C+Texas%2C+United+States&q=Coffee', 'thumbnail': 'https://serpapi.com/searches/6512ee525c560614df097291/images/b04666a7679113802fed9fe32a5ccbabb5a6fda12e383899e0e55791524eafd0.jpeg'}, {'name': 'starbucks', 'link': 'https://www.google.com/search?q=Coffee&tbm=isch&hl=en&gl=us&chips=q:coffee,g_1:starbucks:YtsISm72-gI%3D&sa=X&ved=2ahUKEwjosOLqwciBAxVQM1kFHeUrB3AQ4lYoBHoECAEQOg', 'chips': 'q:coffee,g_1:starbucks:YtsISm72-gI%3D', 'serpapi_link': 'https://serpapi.com/search.json?chips=q%3Acoffee%2Cg_1%3Astarbucks%3AYtsISm72-gI%253D&device=desktop&engine=google_images&gl=us&google_domain=google.com&hl=en&location=Austin%2C+TX%2C+Texas%2C+United+States&q=Coffee', 'thumbnail': 'https://serpapi.com/searches/6512ee525c560614df097291/images/b04666a7679113802fed9fe32a5ccbabf7a2658ff05bbadf76d7630728f3fd2e.jpeg'}, {'name': 'latte', 'link': 'https://www.google.com/search?q=Coffee&tbm=isch&hl=en&gl=us&chips=q:coffee,g_1:latte:tVT7LIS2_0k%3D&sa=X&ved=2ahUKEwjosOLqwciBAxVQM1kFHeUrB3AQ4lYoBXoECAEQPA', 'chips': 'q:coffee,g_1:latte:tVT7LIS2_0k%3D', 'serpapi_link': 'https://serpapi.com/search.json?chips=q%3Acoffee%2Cg_1%3Alatte%3AtVT7LIS2_0k%253D&device=desktop&engine=google_images&gl=us&google_domain=google.com&hl=en&location=Austin%2C+TX%2C+Texas%2C+United+States&q=Coffee', 'thumbnail': 'https://serpapi.com/searches/6512ee525c560614df097291/images/b04666a7679113802fed9fe32a5ccbabf1af48279468302aadca0a92af047cbc.jpeg'}, {'name': 'morning', 'link': 'https://www.google.com/search?q=Coffee&tbm=isch&hl=en&gl=us&chips=q:coffee,g_1:morning:jAiQ-3l1l1c%3D&sa=X&ved=2ahUKEwjosOLqwciBAxVQM1kFHeUrB3AQ4lYoBnoECAEQPg', 'chips': 'q:coffee,g_1:morning:jAiQ-3l1l1c%3D', 'serpapi_link': 'https://serpapi.com/search.json?chips=q%3Acoffee%2Cg_1%3Amorning%3AjAiQ-3l1l1c%253D&device=desktop&engine=google_images&gl=us&google_domain=google.com&hl=en&location=Austin%2C+TX%2C+Texas%2C+United+States&q=Coffee', 'thumbnail': 'https://serpapi.com/searches/6512ee525c560614df097291/images/b04666a7679113802fed9fe32a5ccbabe090bd2dc40b2479b2cfe46c177699bd.jpeg'}, {'name': 'espresso', 'link': 'https://www.google.com/search?q=Coffee&tbm=isch&hl=en&gl=us&chips=q:coffee,g_1:espresso:h-66rxPn4jQ%3D&sa=X&ved=2ahUKEwjosOLqwciBAxVQM1kFHeUrB3AQ4lYoB3oECAEQQA', 'chips': 'q:coffee,g_1:espresso:h-66rxPn4jQ%3D', 'serpapi_link': 'https://serpapi.com/search.json?chips=q%3Acoffee%2Cg_1%3Aespresso%3Ah-66rxPn4jQ%253D&device=desktop&engine=google_images&gl=us&google_domain=google.com&hl=en&location=Austin%2C+TX%2C+Texas%2C+United+States&q=Coffee', 'thumbnail': 'https://serpapi.com/searches/6512ee525c560614df097291/images/b04666a7679113802fed9fe32a5ccbabe0aee33350586f8623097734aa320b61.jpeg'}, {'name': 'aesthetic', 'link': 'https://www.google.com/search?q=Coffee&tbm=isch&hl=en&gl=us&chips=q:coffee,g_1:aesthetic:bb8LqmUKLgo%3D&sa=X&ved=2ahUKEwjosOLqwciBAxVQM1kFHeUrB3AQ4lYoCHoECAEQQg', 'chips': 'q:coffee,g_1:aesthetic:bb8LqmUKLgo%3D', 'serpapi_link': 'https://serpapi.com/search.json?chips=q%3Acoffee%2Cg_1%3Aaesthetic%3Abb8LqmUKLgo%253D&device=desktop&engine=google_images&gl=us&google_domain=google.com&hl=en&location=Austin%2C+TX%2C+Texas%2C+United+States&q=Coffee', 'thumbnail': 'https://serpapi.com/searches/6512ee525c560614df097291/images/b04666a7679113802fed9fe32a5ccbabc846d058f2b15d10659a8f3eff6b86de.jpeg'}, {'name': 'tea', 'link': 'https://www.google.com/search?q=Coffee&tbm=isch&hl=en&gl=us&chips=q:coffee,g_1:tea:gXqFWBkyxJ0%3D&sa=X&ved=2ahUKEwjosOLqwciBAxVQM1kFHeUrB3AQ4lYoCXoECAEQRA', 'chips': 'q:coffee,g_1:tea:gXqFWBkyxJ0%3D', 'serpapi_link': 'https://serpapi.com/search.json?chips=q%3Acoffee%2Cg_1%3Atea%3AgXqFWBkyxJ0%253D&device=desktop&engine=google_images&gl=us&google_domain=google.com&hl=en&location=Austin%2C+TX%2C+Texas%2C+United+States&q=Coffee', 'thumbnail': 'https://serpapi.com/searches/6512ee525c560614df097291/images/b04666a7679113802fed9fe32a5ccbab251774d702b8951ae07b1c0adb8b9ecb.jpeg'}, {'name': 'good morning', 'link': 'https://www.google.com/search?q=Coffee&tbm=isch&hl=en&gl=us&chips=q:coffee,g_1:good+morning:RCnOuL4Xqj8%3D&sa=X&ved=2ahUKEwjosOLqwciBAxVQM1kFHeUrB3AQ4lYoCnoECAEQRg', 'chips': 'q:coffee,g_1:good+morning:RCnOuL4Xqj8%3D', 'serpapi_link': 'https://serpapi.com/search.json?chips=q%3Acoffee%2Cg_1%3Agood%2Bmorning%3ARCnOuL4Xqj8%253D&device=desktop&engine=google_images&gl=us&google_domain=google.com&hl=en&location=Austin%2C+TX%2C+Texas%2C+United+States&q=Coffee', 'thumbnail': 'https://serpapi.com/searches/6512ee525c560614df097291/images/b04666a7679113802fed9fe32a5ccbab352eadf7f0cde284b2299e10b693c945.jpeg'}, {'name': 'cappuccino', 'link': 'https://www.google.com/search?q=Coffee&tbm=isch&hl=en&gl=us&chips=q:coffee,g_1:cappuccino:nGw8h8-cmzY%3D&sa=X&ved=2ahUKEwjosOLqwciBAxVQM1kFHeUrB3AQ4lYoC3oECAEQSA', 'chips': 'q:coffee,g_1:cappuccino:nGw8h8-cmzY%3D', 'serpapi_link': 'https://serpapi.com/search.json?chips=q%3Acoffee%2Cg_1%3Acappuccino%3AnGw8h8-cmzY%253D&device=desktop&engine=google_images&gl=us&google_domain=google.com&hl=en&location=Austin%2C+TX%2C+Texas%2C+United+States&q=Coffee', 'thumbnail': 'https://serpapi.com/searches/6512ee525c560614df097291/images/b04666a7679113802fed9fe32a5ccbaba12b62bd028be45d1973116b9d3e6cef.jpeg'}, {'name': 'love', 'link': 'https://www.google.com/search?q=Coffee&tbm=isch&hl=en&gl=us&chips=q:coffee,g_1:love:8A_Trisa2Dg%3D&sa=X&ved=2ahUKEwjosOLqwciBAxVQM1kFHeUrB3AQ4lYoDHoECAEQSg', 'chips': 'q:coffee,g_1:love:8A_Trisa2Dg%3D', 'serpapi_link': 'https://serpapi.com/search.json?chips=q%3Acoffee%2Cg_1%3Alove%3A8A_Trisa2Dg%253D&device=desktop&engine=google_images&gl=us&google_domain=google.com&hl=en&location=Austin%2C+TX%2C+Texas%2C+United+States&q=Coffee', 'thumbnail': 'https://encrypted-tbn0.gstatic.com/images?q=tbn:ANd9GcRw-lpo_C8S5xKt12XfJXivKNOWn3qHmWQ87gYWVhRIPu2gaKeKEg66B-o&usqp=CAU'}, {'name': 'logo', 'link': 'https://www.google.com/search?q=Coffee&tbm=isch&hl=en&gl=us&chips=q:coffee,g_1:logo:5JRxqbBtBsA%3D&sa=X&ved=2ahUKEwjosOLqwciBAxVQM1kFHeUrB3AQ4lYoDXoECAEQTA', 'chips': 'q:coffee,g_1:logo:5JRxqbBtBsA%3D', 'serpapi_link': 'https://serpapi.com/search.json?chips=q%3Acoffee%2Cg_1%3Alogo%3A5JRxqbBtBsA%253D&device=desktop&engine=google_images&gl=us&google_domain=google.com&hl=en&location=Austin%2C+TX%2C+Texas%2C+United+States&q=Coffee', 'thumbnail': 'https://encrypted-tbn0.gstatic.com/images?q=tbn:ANd9GcTOHQUEG0vZzZlRodOhO59HbARO1agwaZO1cICc3vr21M1igBewhNsYaCo&usqp=CAU'}, {'name': 'cute', 'link': 'https://www.google.com/search?q=Coffee&tbm=isch&hl=en&gl=us&chips=q:coffee,g_1:cute:HP9xtousJQg%3D&sa=X&ved=2ahUKEwjosOLqwciBAxVQM1kFHeUrB3AQ4lYoDnoECAEQTg', 'chips': 'q:coffee,g_1:cute:HP9xtousJQg%3D', 'serpapi_link': 'https://serpapi.com/search.json?chips=q%3Acoffee%2Cg_1%3Acute%3AHP9xtousJQg%253D&device=desktop&engine=google_images&gl=us&google_domain=google.com&hl=en&location=Austin%2C+TX%2C+Texas%2C+United+States&q=Coffee', 'thumbnail': 'https://encrypted-tbn0.gstatic.com/images?q=tbn:ANd9GcSOFPUetgRWPamGZCRTBg9jt_vVKHJQOe9Kz3LRxsJu1jsFsrc2h-ZMbPI&usqp=CAU'}, {'name': 'transparent', 'link': 'https://www.google.com/search?q=Coffee&tbm=isch&hl=en&gl=us&chips=q:coffee,g_1:transparent:ChwSMHUdFZY%3D&sa=X&ved=2ahUKEwjosOLqwciBAxVQM1kFHeUrB3AQ4lYoD3oECAEQUA', 'chips': 'q:coffee,g_1:transparent:ChwSMHUdFZY%3D', 'serpapi_link': 'https://serpapi.com/search.json?chips=q%3Acoffee%2Cg_1%3Atransparent%3AChwSMHUdFZY%253D&device=desktop&engine=google_images&gl=us&google_domain=google.com&hl=en&location=Austin%2C+TX%2C+Texas%2C+United+States&q=Coffee', 'thumbnail': 'https://encrypted-tbn0.gstatic.com/images?q=tbn:ANd9GcTMjX13zlkhvaQFyZfOjwZpMGsbY9yxnmomq3Tlnuvz5PTimhNv8Wji8Zw&usqp=CAU'}, {'name': 'iced', 'link': 'https://www.google.com/search?q=Coffee&tbm=isch&hl=en&gl=us&chips=q:coffee,g_1:iced:oj6DET9VPyU%3D&sa=X&ved=2ahUKEwjosOLqwciBAxVQM1kFHeUrB3AQ4lYoEHoECAEQUg', 'chips': 'q:coffee,g_1:iced:oj6DET9VPyU%3D', 'serpapi_link': 'https://serpapi.com/search.json?chips=q%3Acoffee%2Cg_1%3Aiced%3Aoj6DET9VPyU%253D&device=desktop&engine=google_images&gl=us&google_domain=google.com&hl=en&location=Austin%2C+TX%2C+Texas%2C+United+States&q=Coffee', 'thumbnail': 'https://encrypted-tbn0.gstatic.com/images?q=tbn:ANd9GcStmDf8Mx7rgn2K27_HLZQ_VhhO-QypBSYNEyIqWRlMp7uEqH9EEdMKAJc&usqp=CAU'}, {'name': 'animated', 'link': 'https://www.google.com/search?q=Coffee&tbm=isch&hl=en&gl=us&chips=q:coffee,g_1:animated:CYIvjC1ViEc%3D&sa=X&ved=2ahUKEwjosOLqwciBAxVQM1kFHeUrB3AQ4lYoEXoECAEQVA', 'chips': 'q:coffee,g_1:animated:CYIvjC1ViEc%3D', 'serpapi_link': 'https://serpapi.com/search.json?chips=q%3Acoffee%2Cg_1%3Aanimated%3ACYIvjC1ViEc%253D&device=desktop&engine=google_images&gl=us&google_domain=google.com&hl=en&location=Austin%2C+TX%2C+Texas%2C+United+States&q=Coffee', 'thumbnail': 'https://encrypted-tbn0.gstatic.com/images?q=tbn:ANd9GcQuvhNzJ9ODwRpJKhMf6G7zjcTKC39x7uXdSncYty-05zKx_3X37OThx8A&usqp=CAU'}, {'name': 'drawing', 'link': 'https://www.google.com/search?q=Coffee&tbm=isch&hl=en&gl=us&chips=q:coffee,g_1:drawing:AZ2pq_RMJ_w%3D&sa=X&ved=2ahUKEwjosOLqwciBAxVQM1kFHeUrB3AQ4lYoEnoECAEQVg', 'chips': 'q:coffee,g_1:drawing:AZ2pq_RMJ_w%3D', 'serpapi_link': 'https://serpapi.com/search.json?chips=q%3Acoffee%2Cg_1%3Adrawing%3AAZ2pq_RMJ_w%253D&device=desktop&engine=google_images&gl=us&google_domain=google.com&hl=en&location=Austin%2C+TX%2C+Texas%2C+United+States&q=Coffee', 'thumbnail': 'https://encrypted-tbn0.gstatic.com/images?q=tbn:ANd9GcRGVKHfnAxjtCV4isVaMqlC4Ceu6cghpyYHqgEMKaxshzNksApdn4z4v1c&usqp=CAU'}, {'name': 'vector', 'link': 'https://www.google.com/search?q=Coffee&tbm=isch&hl=en&gl=us&chips=q:coffee,g_1:vector:O52tfHiUylY%3D&sa=X&ved=2ahUKEwjosOLqwciBAxVQM1kFHeUrB3AQ4lYoE3oECAEQWA', 'chips': 'q:coffee,g_1:vector:O52tfHiUylY%3D', 'serpapi_link': 'https://serpapi.com/search.json?chips=q%3Acoffee%2Cg_1%3Avector%3AO52tfHiUylY%253D&device=desktop&engine=google_images&gl=us&google_domain=google.com&hl=en&location=Austin%2C+TX%2C+Texas%2C+United+States&q=Coffee', 'thumbnail': 'https://encrypted-tbn0.gstatic.com/images?q=tbn:ANd9GcRe9bh0ZZ_RnEZYBPRlzsedIeH6eJ8Sh49Nt5LeFcVbgJ05r_KTTttjqkc&usqp=CAU'}, {'name': 'menu', 'link': 'https://www.google.com/search?q=Coffee&tbm=isch&hl=en&gl=us&chips=q:coffee,g_1:menu:OMJAymBOHgk%3D&sa=X&ved=2ahUKEwjosOLqwciBAxVQM1kFHeUrB3AQ4lYoFHoECAEQWg', 'chips': 'q:coffee,g_1:menu:OMJAymBOHgk%3D', 'serpapi_link': 'https://serpapi.com/search.json?chips=q%3Acoffee%2Cg_1%3Amenu%3AOMJAymBOHgk%253D&device=desktop&engine=google_images&gl=us&google_domain=google.com&hl=en&location=Austin%2C+TX%2C+Texas%2C+United+States&q=Coffee', 'thumbnail': 'https://encrypted-tbn0.gstatic.com/images?q=tbn:ANd9GcSQQ9Twgo9_41uR4iwmxNW3mg33ntGvlNSpv95RFHyH2K8Q4aOrqWQfY9w&usqp=CAU'}, {'name': 'mocha', 'link': 'https://www.google.com/search?q=Coffee&tbm=isch&hl=en&gl=us&chips=q:coffee,g_1:mocha:ZYyVJTYTuUs%3D&sa=X&ved=2ahUKEwjosOLqwciBAxVQM1kFHeUrB3AQ4lYoFXoECAEQXA', 'chips': 'q:coffee,g_1:mocha:ZYyVJTYTuUs%3D', 'serpapi_link': 'https://serpapi.com/search.json?chips=q%3Acoffee%2Cg_1%3Amocha%3AZYyVJTYTuUs%253D&device=desktop&engine=google_images&gl=us&google_domain=google.com&hl=en&location=Austin%2C+TX%2C+Texas%2C+United+States&q=Coffee', 'thumbnail': 'https://encrypted-tbn0.gstatic.com/images?q=tbn:ANd9GcSKDHoA--HWAtGKzTvm8wjZSFBi_k8zwVdIfzgmh8clOdheR_6YaRdeCys&usqp=CAU'}, {'name': 'beautiful', 'link': 'https://www.google.com/search?q=Coffee&tbm=isch&hl=en&gl=us&chips=q:coffee,g_1:beautiful:967jIfXJ2ys%3D&sa=X&ved=2ahUKEwjosOLqwciBAxVQM1kFHeUrB3AQ4lYoFnoECAEQXg', 'chips': 'q:coffee,g_1:beautiful:967jIfXJ2ys%3D', 'serpapi_link': 'https://serpapi.com/search.json?chips=q%3Acoffee%2Cg_1%3Abeautiful%3A967jIfXJ2ys%253D&device=desktop&engine=google_images&gl=us&google_domain=google.com&hl=en&location=Austin%2C+TX%2C+Texas%2C+United+States&q=Coffee', 'thumbnail': 'https://encrypted-tbn0.gstatic.com/images?q=tbn:ANd9GcSQB4emVmRt0yCJLNIRdhiTZKNsCoLtOND2C4w5e-VCyiiTflC0L2x_Ml0&usqp=CAU'}, {'name': 'bean', 'link': 'https://www.google.com/search?q=Coffee&tbm=isch&hl=en&gl=us&chips=q:coffee,g_1:bean:5ChmTR_mEqU%3D&sa=X&ved=2ahUKEwjosOLqwciBAxVQM1kFHeUrB3AQ4lYoF3oECAEQYA', 'chips': 'q:coffee,g_1:bean:5ChmTR_mEqU%3D', 'serpapi_link': 'https://serpapi.com/search.json?chips=q%3Acoffee%2Cg_1%3Abean%3A5ChmTR_mEqU%253D&device=desktop&engine=google_images&gl=us&google_domain=google.com&hl=en&location=Austin%2C+TX%2C+Texas%2C+United+States&q=Coffee', 'thumbnail': 'https://encrypted-tbn0.gstatic.com/images?q=tbn:ANd9GcRBpUAku_FMGJl4ZCxpcKNXYLcCsgPm8ui0o6If9cGEsJOLv77U7CBSxMs&usqp=CAU'}, {'name': 'design', 'link': 'https://www.google.com/search?q=Coffee&tbm=isch&hl=en&gl=us&chips=q:coffee,g_1:design:yytfYN4Itvo%3D&sa=X&ved=2ahUKEwjosOLqwciBAxVQM1kFHeUrB3AQ4lYoGHoECAEQYg', 'chips': 'q:coffee,g_1:design:yytfYN4Itvo%3D', 'serpapi_link': 'https://serpapi.com/search.json?chips=q%3Acoffee%2Cg_1%3Adesign%3AyytfYN4Itvo%253D&device=desktop&engine=google_images&gl=us&google_domain=google.com&hl=en&location=Austin%2C+TX%2C+Texas%2C+United+States&q=Coffee', 'thumbnail': 'https://encrypted-tbn0.gstatic.com/images?q=tbn:ANd9GcQvBeeeRzFx8YD84fxnDr2YH4QWiL_GWEuNbR5YuSAoDPI2-y8_czQCP2Y&usqp=CAU'}, {'name': 'photography', 'link': 'https://www.google.com/search?q=Coffee&tbm=isch&hl=en&gl=us&chips=q:coffee,g_1:photography:uPEpZq0EQ3U%3D&sa=X&ved=2ahUKEwjosOLqwciBAxVQM1kFHeUrB3AQ4lYoGXoECAEQZA', 'chips': 'q:coffee,g_1:photography:uPEpZq0EQ3U%3D', 'serpapi_link': 'https://serpapi.com/search.json?chips=q%3Acoffee%2Cg_1%3Aphotography%3AuPEpZq0EQ3U%253D&device=desktop&engine=google_images&gl=us&google_domain=google.com&hl=en&location=Austin%2C+TX%2C+Texas%2C+United+States&q=Coffee', 'thumbnail': 'https://encrypted-tbn0.gstatic.com/images?q=tbn:ANd9GcSufHJQbtWgAeBS_mILdhCvU5_E7pZUDax_-TY2Z2oknNCzkcA9RwPQyZs&usqp=CAU'}, {'name': 'caramel', 'link': 'https://www.google.com/search?q=Coffee&tbm=isch&hl=en&gl=us&chips=q:coffee,g_1:caramel:K4NvvNrlLvk%3D&sa=X&ved=2ahUKEwjosOLqwciBAxVQM1kFHeUrB3AQ4lYoGnoECAEQZg', 'chips': 'q:coffee,g_1:caramel:K4NvvNrlLvk%3D', 'serpapi_link': 'https://serpapi.com/search.json?chips=q%3Acoffee%2Cg_1%3Acaramel%3AK4NvvNrlLvk%253D&device=desktop&engine=google_images&gl=us&google_domain=google.com&hl=en&location=Austin%2C+TX%2C+Texas%2C+United+States&q=Coffee', 'thumbnail': 'https://encrypted-tbn0.gstatic.com/images?q=tbn:ANd9GcSSK0gN4rQ_u1Te_pKjXQqxCMiD8TICh1tIpY-OGNyBRl-qxrVnBL-wipk&usqp=CAU'}, {'name': 'heart', 'link': 'https://www.google.com/search?q=Coffee&tbm=isch&hl=en&gl=us&chips=q:coffee,g_1:heart:9cPp_v0zq40%3D&sa=X&ved=2ahUKEwjosOLqwciBAxVQM1kFHeUrB3AQ4lYoG3oECAEQaA', 'chips': 'q:coffee,g_1:heart:9cPp_v0zq40%3D', 'serpapi_link': 'https://serpapi.com/search.json?chips=q%3Acoffee%2Cg_1%3Aheart%3A9cPp_v0zq40%253D&device=desktop&engine=google_images&gl=us&google_domain=google.com&hl=en&location=Austin%2C+TX%2C+Texas%2C+United+States&q=Coffee', 'thumbnail': 'https://encrypted-tbn0.gstatic.com/images?q=tbn:ANd9GcQHBTARU_VvkOcQ0LZ16ZsBhm5p8Xn649EpY1BzN712prlDQr9owMBPaCM&usqp=CAU'}, {'name': 'romantic', 'link': 'https://www.google.com/search?q=Coffee&tbm=isch&hl=en&gl=us&chips=q:coffee,g_1:romantic:mhNHbPeINwg%3D&sa=X&ved=2ahUKEwjosOLqwciBAxVQM1kFHeUrB3AQ4lYoHHoECAEQag', 'chips': 'q:coffee,g_1:romantic:mhNHbPeINwg%3D', 'serpapi_link': 'https://serpapi.com/search.json?chips=q%3Acoffee%2Cg_1%3Aromantic%3AmhNHbPeINwg%253D&device=desktop&engine=google_images&gl=us&google_domain=google.com&hl=en&location=Austin%2C+TX%2C+Texas%2C+United+States&q=Coffee', 'thumbnail': 'https://encrypted-tbn0.gstatic.com/images?q=tbn:ANd9GcQ5PeIv6qGA3uw_J-zIBvak-5QVMijzs128DY-j0ntJ97mSnJUGJva8yV8&usqp=CAU'}, {'name': 'breakfast', 'link': 'https://www.google.com/search?q=Coffee&tbm=isch&hl=en&gl=us&chips=q:coffee,g_1:breakfast:XKPIJowBMBE%3D&sa=X&ved=2ahUKEwjosOLqwciBAxVQM1kFHeUrB3AQ4lYoHXoECAEQbA', 'chips': 'q:coffee,g_1:breakfast:XKPIJowBMBE%3D', 'serpapi_link': 'https://serpapi.com/search.json?chips=q%3Acoffee%2Cg_1%3Abreakfast%3AXKPIJowBMBE%253D&device=desktop&engine=google_images&gl=us&google_domain=google.com&hl=en&location=Austin%2C+TX%2C+Texas%2C+United+States&q=Coffee', 'thumbnail': 'https://encrypted-tbn0.gstatic.com/images?q=tbn:ANd9GcQnGqVUUiYXEtl1UdgGKyH8TFu7NjTxY65yIvJvFDBRihnXFN11wjLAjsY&usqp=CAU'}], 'images_results': [{'position': 1, 'thumbnail': 'https://serpapi.com/searches/6512ee525c560614df097291/images/4ba605213f1d282e50c9b4cc611f4d1b6321f219cd17c8405590bf3d41a26d75.jpeg', 'related_content_id': 'RExvdkQ4Z0t5UmdqcE1cIixcIlU2b0pNbkYtZWVWVEFN', 'serpapi_related_content_link': 'https://serpapi.com/search.json?engine=google_images_related_content&gl=us&hl=en&q=Coffee&related_content_id=RExvdkQ4Z0t5UmdqcE1cIixcIlU2b0pNbkYtZWVWVEFN', 'source': 'Wikipedia', 'source_logo': 'https://serpapi.com/searches/6512ee525c560614df097291/images/4ba605213f1d282e50c9b4cc611f4d1b5b7ded566b04cd86d59ffdfeb3e14fe5.png', 'title': 'Coffee - Wikipedia', 'link': 'https://en.wikipedia.org/wiki/Coffee', 'tag': 'Recipe', 'original': 'https://upload.wikimedia.org/wikipedia/commons/thumb/e/e4/Latte_and_dark_coffee.jpg/640px-Latte_and_dark_coffee.jpg', 'original_width': 640, 'original_height': 400, 'is_product': False}, {'position': 2, 'thumbnail': 'https://serpapi.com/searches/6512ee525c560614df097291/images/4ba605213f1d282e16615b72bd0f4d35d05e09a7fcc16e98b9ee510ffb785c44.jpeg', 'related_content_id': 'RjVUMzdBYzVoVkJqRU1cIixcImFjbFNYbmtid0NTRHFN', 'serpapi_related_content_link': 'https://serpapi.com/search.json?engine=google_images_related_content&gl=us&hl=en&q=Coffee&related_content_id=RjVUMzdBYzVoVkJqRU1cIixcImFjbFNYbmtid0NTRHFN', 'source': 'Neuroscience News', 'source_logo': 'https://serpapi.com/searches/6512ee525c560614df097291/images/4ba605213f1d282e16615b72bd0f4d35482d4a204a79301364fc54c20d077142.png', 'title': 'Beyond Caffeine: How the Coffee Experience Enhances Brain Readiness -  Neuroscience News', 'link': 'https://neurosciencenews.com/coffee-readiness-caffeine-23543/', 'original': 'https://neurosciencenews.com/files/2023/06/coffee-brain-caffeine-neuroscincces.jpg', 'original_width': 1200, 'original_height': 800, 'is_product': False}, {'position': 3, 'thumbnail': 'https://serpapi.com/searches/6512ee525c560614df097291/images/4ba605213f1d282e56ff1ebe40f44d6ee3e2c89a6dd61069aaf5a1dc1c8a804c.jpeg', 'related_content_id': 'RnpSQWkzSnFPdlllSU1cIixcIlIyUTVQZ2VrZEdZTW1N', 'serpapi_related_content_link': 'https://serpapi.com/search.json?engine=google_images_related_content&gl=us&hl=en&q=Coffee&related_content_id=RnpSQWkzSnFPdlllSU1cIixcIlIyUTVQZ2VrZEdZTW1N', 'source': 'Insanely Good Recipes', 'source_logo': 'https://serpapi.com/searches/6512ee525c560614df097291/images/4ba605213f1d282e56ff1ebe40f44d6e975a20fda27c21bbb9dac70687c04bc7.png', 'title': 'What to Eat with Coffee (Morning, Noon, or Night) - Insanely Good', 'link': 'https://insanelygoodrecipes.com/what-to-eat-with-coffee/', 'tag': 'Recipe', 'original': 'https://insanelygoodrecipes.com/wp-content/uploads/2020/07/Cup-Of-Creamy-Coffee-500x375.png', 'original_width': 500, 'original_height': 375, 'is_product': False}, {'position': 4, 'thumbnail': 'https://serpapi.com/searches/6512ee525c560614df097291/images/4ba605213f1d282e6d08e697d0ebc45d8a1804a98cf3b16ff2c7002b91439f97.jpeg', 'related_content_id': 'ZTF4QVJOV1M0djBOZE1cIixcInhXd2phRkhUZF9mQklN', 'serpapi_related_content_link': 'https://serpapi.com/search.json?engine=google_images_related_content&gl=us&hl=en&q=Coffee&related_content_id=ZTF4QVJOV1M0djBOZE1cIixcInhXd2phRkhUZF9mQklN', 'source': 'Tasting Table', 'source_logo': 'https://serpapi.com/searches/6512ee525c560614df097291/images/4ba605213f1d282e6d08e697d0ebc45d0e63cf623b2737cd4dc1b3424e9e70d3.png', 'title': '35 Different Types Of Coffee Explained', 'link': 'https://www.tastingtable.com/794355/different-types-of-coffee-explained/', 'original': 'https://www.tastingtable.com/img/gallery/20-different-types-of-coffee-explained/l-intro-1659544996.jpg', 'original_width': 1600, 'original_height': 900, 'is_product': False}, {'position': 5, 'thumbnail': 'https://serpapi.com/searches/6512ee525c560614df097291/images/4ba605213f1d282e90747199d6c929d444bf52f5ce3dbeb3d81d0226e1d7debb.jpeg', 'related_content_id': 'WUlFT19KYm9tRzFoLU1cIixcIjVsZk40bjJuWklNemtN', 'serpapi_related_content_link': 'https://serpapi.com/search.json?engine=google_images_related_content&gl=us&hl=en&q=Coffee&related_content_id=WUlFT19KYm9tRzFoLU1cIixcIjVsZk40bjJuWklNemtN', 'source': 'BBC Good Food', 'source_logo': 'https://serpapi.com/searches/6512ee525c560614df097291/images/4ba605213f1d282e90747199d6c929d4a49ac1eaa71f5c8797ebc07b3617e3c1.png', 'title': 'Coffee recipes | BBC Good Food', 'link': 'https://www.bbcgoodfood.com/recipes/collection/coffee-recipes', 'tag': 'Recipe', 'original': 'https://images.immediate.co.uk/production/volatile/sites/30/2020/08/flat-white-3402c4f.jpg?quality=90&resize=500,454', 'original_width': 500, 'original_height': 454, 'is_product': False}, {'position': 6, 'thumbnail': 'https://serpapi.com/searches/6512ee525c560614df097291/images/4ba605213f1d282eb1512e06d83a89bc32fa9f19855ac68ac69710686483326d.jpeg', 'related_content_id': 'OEdWaGExRzhMbUh2ME1cIixcIk1LZjJSTlY1MHRuQVFN', 'serpapi_related_content_link': 'https://serpapi.com/search.json?engine=google_images_related_content&gl=us&hl=en&q=Coffee&related_content_id=OEdWaGExRzhMbUh2ME1cIixcIk1LZjJSTlY1MHRuQVFN', 'source': 'Wikipedia', 'source_logo': 'https://serpapi.com/searches/6512ee525c560614df097291/images/4ba605213f1d282eb1512e06d83a89bc9d3e8abca6ac6abc9d828759f90b1a53.png', 'title': 'Coffee bean - Wikipedia', 'link': 'https://en.wikipedia.org/wiki/Coffee_bean', 'tag': 'Recipe', 'original': 'https://upload.wikimedia.org/wikipedia/commons/thumb/c/c5/Roasted_coffee_beans.jpg/640px-Roasted_coffee_beans.jpg', 'original_width': 640, 'original_height': 480, 'is_product': False}, {'position': 7, 'thumbnail': 'https://serpapi.com/searches/6512ee525c560614df097291/images/4ba605213f1d282e4c302f03687306a03b2259bb81df856d71f3c3cf88f9a261.jpeg', 'related_content_id': 'ekhVSWxWWGhISy1Nck1cIixcIkw0VzRiTzNraGZMLV9N', 'serpapi_related_content_link': 'https://serpapi.com/search.json?engine=google_images_related_content&gl=us&hl=en&q=Coffee&related_content_id=ekhVSWxWWGhISy1Nck1cIixcIkw0VzRiTzNraGZMLV9N', 'source': 'NBC News', 'source_logo': 'https://serpapi.com/searches/6512ee525c560614df097291/images/4ba605213f1d282e4c302f03687306a00f176b189c9bc5cecc9c9c8741271b31.png', 'title': 'How to tap into the health benefits of coffee', 'link': 'https://www.nbcnews.com/better/lifestyle/how-tap-health-benefits-coffee-ncna1096031', 'original': 'https://media-cldnry.s-nbcnews.com/image/upload/t_fit-1500w,f_auto,q_auto:best/newscms/2019_33/2203981/171026-better-coffee-boost-se-329p.jpg', 'original_width': 1500, 'original_height': 998, 'is_product': False}, {'position': 8, 'thumbnail': 'https://serpapi.com/searches/6512ee525c560614df097291/images/4ba605213f1d282ea4f75aae574317605daabdfb8d8af60624848a8986640d0a.jpeg', 'related_content_id': 'aEtSci0yV081TVJ2Rk1cIixcInl3aU1CYkFsM0xRcW5N', 'serpapi_related_content_link': 'https://serpapi.com/search.json?engine=google_images_related_content&gl=us&hl=en&q=Coffee&related_content_id=aEtSci0yV081TVJ2Rk1cIixcInl3aU1CYkFsM0xRcW5N', 'source': 'CNN', 'source_logo': 'https://serpapi.com/searches/6512ee525c560614df097291/images/4ba605213f1d282ea4f75aae57431760750789ccbf0e3e6a1c6cf830bee1d0a2.png', 'title': 'Is coffee healthy? | CNN', 'link': 'https://www.cnn.com/2017/09/29/health/coffee-healthy-food-drayer/index.html', 'original': 'https://media.cnn.com/api/v1/images/stellar/prod/150929101049-black-coffee-stock.jpg?q=x_3,y_1231,h_1684,w_2993,c_crop/h_720,w_1280', 'original_width': 1280, 'original_height': 720, 'is_product': False}, {'position': 9, 'thumbnail': 'https://serpapi.com/searches/6512ee525c560614df097291/images/4ba605213f1d282edf8e7ec9a54d8ea074c74032c28d4146fc8ac53ac5cb9903.jpeg', 'related_content_id': 'OU0xWDJFRHhzWU5UWk1cIixcIk8wcDJtOEhfdDdFNm5N', 'serpapi_related_content_link': 'https://serpapi.com/search.json?engine=google_images_related_content&gl=us&hl=en&q=Coffee&related_content_id=OU0xWDJFRHhzWU5UWk1cIixcIk8wcDJtOEhfdDdFNm5N', 'source': 'Tasting Table', 'source_logo': 'https://serpapi.com/searches/6512ee525c560614df097291/images/4ba605213f1d282edf8e7ec9a54d8ea0baacfe1d48232c27b663fc5da82555de.png', 'title': '31 Coffee Brands, Ranked From Worst To Best', 'link': 'https://www.tastingtable.com/718678/coffee-brands-ranked-from-worst-to-best/', 'original': 'https://www.tastingtable.com/img/gallery/coffee-brands-ranked-from-worst-to-best/l-intro-1645231221.jpg', 'original_width': 1600, 'original_height': 900, 'is_product': False}, {'position': 10, 'thumbnail': 'https://serpapi.com/searches/6512ee525c560614df097291/images/4ba605213f1d282e8f997c279049628805ca9442f0df085c41ec35dc505772d4.jpeg', 'related_content_id': 'bDcyNFJ1UktFT2ZhVk1cIixcIktaZzFTaEFuRWc0Zi1N', 'serpapi_related_content_link': 'https://serpapi.com/search.json?engine=google_images_related_content&gl=us&hl=en&q=Coffee&related_content_id=bDcyNFJ1UktFT2ZhVk1cIixcIktaZzFTaEFuRWc0Zi1N', 'source': 'A Couple Cooks', 'source_logo': 'https://serpapi.com/searches/6512ee525c560614df097291/images/4ba605213f1d282e8f997c279049628813826ae312c3fde29d414be26ddea33a.png', 'title': '25 Great Coffee Drinks (with Recipes!) – A Couple Cooks', 'link': 'https://www.acouplecooks.com/coffee-drinks/', 'tag': 'Recipe', 'original': 'https://www.acouplecooks.com/wp-content/uploads/2021/08/Cafe-Au-Lait-001s.jpg', 'original_width': 783, 'original_height': 783, 'is_product': False}, {'position': 11, 'thumbnail': 'https://serpapi.com/searches/6512ee525c560614df097291/images/4ba605213f1d282e16615b72bd0f4d358692cf028b0881bbcdcfa5f7a57abbad.jpeg', 'related_content_id': 'OVBKcXhNVHA0Wks2VE1cIixcInRqNk5IU2REZkVWaEpN', 'serpapi_related_content_link': 'https://serpapi.com/search.json?engine=google_images_related_content&gl=us&hl=en&q=Coffee&related_content_id=OVBKcXhNVHA0Wks2VE1cIixcInRqNk5IU2REZkVWaEpN', 'source': 'Harvard Health', 'source_logo': 'https://serpapi.com/searches/6512ee525c560614df097291/images/4ba605213f1d282e16615b72bd0f4d352b736bc579f9994369553f74c7db6088.png', 'title': 'The latest scoop on the health benefits of coffee - Harvard Health', 'link': 'https://www.health.harvard.edu/blog/the-latest-scoop-on-the-health-benefits-of-coffee-2017092512429', 'original': 'https://domf5oio6qrcr.cloudfront.net/medialibrary/9263/bigstock-Coffee-Cup-Cup-Of-Coffee-1375146.jpg', 'original_width': 3008, 'original_height': 2000, 'is_product': False}, {'position': 12, 'thumbnail': 'https://serpapi.com/searches/6512ee525c560614df097291/images/4ba605213f1d282e16615b72bd0f4d350739ea1ed7323e4ef8473d9a8ac8e23e.jpeg', 'related_content_id': 'bWJUMEdFek1vYjJCM01cIixcIjZaUEdKZmFVc2QxcF9N', 'serpapi_related_content_link': 'https://serpapi.com/search.json?engine=google_images_related_content&gl=us&hl=en&q=Coffee&related_content_id=bWJUMEdFek1vYjJCM01cIixcIjZaUEdKZmFVc2QxcF9N', 'source': 'Kahlua', 'source_logo': 'https://serpapi.com/searches/6512ee525c560614df097291/images/4ba605213f1d282e16615b72bd0f4d3580c70ea26f0d7ea7c363caf77125efa8.png', 'title': 'Kahlúa Coffee Drink Recipe – Kahlúa', 'link': 'https://www.kahlua.com/en-us/drinks/kahlua-coffee/', 'tag': 'Recipe', 'original': 'https://images.absolutdrinks.com/drink-images/Raw/Kahlua/8317f0a2-a13e-4eeb-954a-ae1d603537a6.jpg', 'original_width': 1211, 'original_height': 1211, 'is_product': False}, {'position': 13, 'thumbnail': 'https://serpapi.com/searches/6512ee525c560614df097291/images/4ba605213f1d282e16615b72bd0f4d352bb58e942c3723b77bf9e9ac151e3166.jpeg', 'related_content_id': 'aTd4WVlDVWxMcFRaYk1cIixcIjEtWUxKU0xSVXktc1BN', 'serpapi_related_content_link': 'https://serpapi.com/search.json?engine=google_images_related_content&gl=us&hl=en&q=Coffee&related_content_id=aTd4WVlDVWxMcFRaYk1cIixcIjEtWUxKU0xSVXktc1BN', 'source': 'EatingWell', 'source_logo': 'https://serpapi.com/searches/6512ee525c560614df097291/images/4ba605213f1d282e16615b72bd0f4d35541ac281d7c0f03824c83296f7a34396.png', 'title': 'Is Coffee Good for You? Benefits & Risks, According to an RD', 'link': 'https://www.eatingwell.com/article/8069479/is-coffee-good-for-you/', 'original': 'https://www.eatingwell.com/thmb/wBKeO_wzc97ngtNFph1c2Y0wHfE=/1500x0/filters:no_upscale():max_bytes(150000):strip_icc()/What-Happens-To-Your-Body-When-You-Drink-Coffee-Every-Day-2000-ead0e982c03b4a50a4e115f145069b8b.jpg', 'original_width': 1500, 'original_height': 1001, 'is_product': False}, {'position': 14, 'thumbnail': 'https://serpapi.com/searches/6512ee525c560614df097291/images/4ba605213f1d282e16615b72bd0f4d35a4a117eac14630e876b094916cbd7516.jpeg', 'related_content_id': 'YVprTTFBVWpPWHhZRU1cIixcIk9fRFZrazVOZXU3YndN', 'serpapi_related_content_link': 'https://serpapi.com/search.json?engine=google_images_related_content&gl=us&hl=en&q=Coffee&related_content_id=YVprTTFBVWpPWHhZRU1cIixcIk9fRFZrazVOZXU3YndN', 'source': 'BetterUp', 'source_logo': 'https://serpapi.com/searches/6512ee525c560614df097291/images/4ba605213f1d282e16615b72bd0f4d35d0a4d6a769a06332496a1486e5d6ac25.png', 'title': 'The Best Time to Drink Coffee and Why', 'link': 'https://www.betterup.com/blog/best-time-to-drink-coffee', 'original': 'https://www.betterup.com/hubfs/coffee-cup-from-top-view.jpg', 'original_width': 1920, 'original_height': 2880, 'is_product': False}, {'position': 15, 'thumbnail': 'https://serpapi.com/searches/6512ee525c560614df097291/images/4ba605213f1d282e16615b72bd0f4d3530ba8314c1a8f39c0ff0f2cc3715e638.jpeg', 'related_content_id': 'TlhxRFRBOTJBVHU1ZU1cIixcImt6bWRHVmg4eHUyUnNN', 'serpapi_related_content_link': 'https://serpapi.com/search.json?engine=google_images_related_content&gl=us&hl=en&q=Coffee&related_content_id=TlhxRFRBOTJBVHU1ZU1cIixcImt6bWRHVmg4eHUyUnNN', 'source': 'Medical News Today', 'source_logo': 'https://serpapi.com/searches/6512ee525c560614df097291/images/4ba605213f1d282e16615b72bd0f4d35d81c80b78e5b93681dc226fb7fd04435.png', 'title': 'Coffee health benefits: Diabetes, heart health, liver cancer, and more', 'link': 'https://www.medicalnewstoday.com/articles/270202', 'original': 'https://post.medicalnewstoday.com/wp-content/uploads/sites/3/2020/02/270202_2200-800x1200.jpg', 'original_width': 800, 'original_height': 1200, 'is_product': False}, {'position': 16, 'thumbnail': 'https://serpapi.com/searches/6512ee525c560614df097291/images/4ba605213f1d282e16615b72bd0f4d352ea9c645488b691c7a3daf9b0f37ed4d.jpeg', 'related_content_id': 'aEhzRmNnb2FxUEFpNE1cIixcIlpvNUp2Y1RRdWk5UXpN', 'serpapi_related_content_link': 'https://serpapi.com/search.json?engine=google_images_related_content&gl=us&hl=en&q=Coffee&related_content_id=aEhzRmNnb2FxUEFpNE1cIixcIlpvNUp2Y1RRdWk5UXpN', 'source': 'NY Post', 'source_logo': 'https://serpapi.com/searches/6512ee525c560614df097291/images/4ba605213f1d282e16615b72bd0f4d35e2b61515c9cd559b8e78aed6e5e967c5.png', 'title': 'People should drink less coffee to combat climate change, study says', 'link': 'https://nypost.com/2023/01/19/people-should-drink-less-coffee-to-combat-climate-change-study-says/', 'original': 'https://nypost.com/wp-content/uploads/sites/2/2023/01/coffee.jpg', 'original_width': 2000, 'original_height': 1333, 'is_product': False}, {'position': 17, 'thumbnail': 'https://serpapi.com/searches/6512ee525c560614df097291/images/4ba605213f1d282e16615b72bd0f4d355ed6087c08c36e7680e44fca453a618e.jpeg', 'related_content_id': 'VlE2b2ZGcU4zcWw0Vk1cIixcIkxlX3NobFRvWjJfejdN', 'serpapi_related_content_link': 'https://serpapi.com/search.json?engine=google_images_related_content&gl=us&hl=en&q=Coffee&related_content_id=VlE2b2ZGcU4zcWw0Vk1cIixcIkxlX3NobFRvWjJfejdN', 'source': 'Rush University Medical Center', 'source_logo': 'https://serpapi.com/searches/6512ee525c560614df097291/images/4ba605213f1d282e16615b72bd0f4d357c0745671a9419e643a33b6809b638dc.png', 'title': 'Health Benefits of Coffee | RUSH', 'link': 'https://www.rush.edu/news/health-benefits-coffee', 'original': 'https://www.rush.edu/sites/default/files/media-images/Coffee_OpenGraph.png', 'original_width': 1200, 'original_height': 630, 'is_product': False}, {'position': 18, 'thumbnail': 'https://serpapi.com/searches/6512ee525c560614df097291/images/4ba605213f1d282e16615b72bd0f4d3559af892de1185cedabe4aa4737d668da.jpeg', 'related_content_id': 'Tk9MbkU2LTY3b2VUek1cIixcIlpiX0xYRzZJalZCTU9N', 'serpapi_related_content_link': 'https://serpapi.com/search.json?engine=google_images_related_content&gl=us&hl=en&q=Coffee&related_content_id=Tk9MbkU2LTY3b2VUek1cIixcIlpiX0xYRzZJalZCTU9N', 'source': 'A Couple Cooks', 'source_logo': 'https://serpapi.com/searches/6512ee525c560614df097291/images/4ba605213f1d282e16615b72bd0f4d35d8643547eaf5542322b3336cb25c35d1.png', 'title': '15 Great Espresso Drinks – A Couple Cooks', 'link': 'https://www.acouplecooks.com/espresso-drinks/', 'tag': 'Recipe', 'original': 'https://www.acouplecooks.com/wp-content/uploads/2020/09/Latte-Art-066s.jpg', 'original_width': 799, 'original_height': 799, 'is_product': False}, {'position': 19, 'thumbnail': 'https://serpapi.com/searches/6512ee525c560614df097291/images/4ba605213f1d282e16615b72bd0f4d350d8b23408712b226e7a31647937421a8.jpeg', 'related_content_id': 'akw3UGxtcVEwTlQ0Yk1cIixcIm0wdTBYR29qYnNzcV9N', 'serpapi_related_content_link': 'https://serpapi.com/search.json?engine=google_images_related_content&gl=us&hl=en&q=Coffee&related_content_id=akw3UGxtcVEwTlQ0Yk1cIixcIm0wdTBYR29qYnNzcV9N', 'source': 'Medical News Today', 'source_logo': 'https://serpapi.com/searches/6512ee525c560614df097291/images/4ba605213f1d282e16615b72bd0f4d350d9e681ae48419f8c94a0375c6d6882d.png', 'title': 'How coffee protects the brain', 'link': 'https://www.medicalnewstoday.com/articles/323594', 'original': 'https://post.medicalnewstoday.com/wp-content/uploads/sites/3/2020/02/323594_2200-1200x628.jpg', 'original_width': 1200, 'original_height': 628, 'is_product': False}, {'position': 20, 'thumbnail': 'https://serpapi.com/searches/6512ee525c560614df097291/images/4ba605213f1d282e16615b72bd0f4d3585659eb20c5eaffabfa218525f8ce139.jpeg', 'related_content_id': 'OHR3TXV0Zy1TZVZ1dk1cIixcInFFV1pocDhrQzZXa1FN', 'serpapi_related_content_link': 'https://serpapi.com/search.json?engine=google_images_related_content&gl=us&hl=en&q=Coffee&related_content_id=OHR3TXV0Zy1TZVZ1dk1cIixcInFFV1pocDhrQzZXa1FN', 'source': \"Dassana's Veg Recipes\", 'source_logo': 'https://serpapi.com/searches/6512ee525c560614df097291/images/4ba605213f1d282e16615b72bd0f4d352b1a00a65a743b3148332814566023e4.png', 'title': 'Hot Coffee | Beaten Coffee (Cafe Style)', 'link': 'https://www.vegrecipesofindia.com/hot-coffee-recipe-cafe-style/', 'tag': 'Recipe', 'original': 'https://www.vegrecipesofindia.com/wp-content/uploads/2018/02/cafe-style-hot-coffee-recipe-1.jpg', 'original_width': 606, 'original_height': 606, 'is_product': False}, {'position': 21, 'thumbnail': 'https://encrypted-tbn0.gstatic.com/images?q=tbn:ANd9GcS48K0M2Cy-rmM76kTxXt84ZFisBG45xWR0wQ&usqp=CAU', 'related_content_id': 'NURoOHNtMjYxeW9qR01cIixcInZmTmZpT2haSjEwc2ZN', 'serpapi_related_content_link': 'https://serpapi.com/search.json?engine=google_images_related_content&gl=us&hl=en&q=Coffee&related_content_id=NURoOHNtMjYxeW9qR01cIixcInZmTmZpT2haSjEwc2ZN', 'source': 'Fertility Family', 'source_logo': 'https://encrypted-tbn2.gstatic.com/faviconV2?url=https://fertilityfamily.co.uk&client=VFE&size=16&type=FAVICON&fallback_opts=TYPE,SIZE,URL&nfrp=2', 'title': 'Is Coffee Bad for People With PCOS? | Fertility Family', 'link': 'https://www.fertilityfamily.co.uk/blog/is-coffee-bad-for-people-with-pcos/', 'original': 'https://fertilityfamily.b-cdn.net/wp-content/uploads/2023/01/PCOS-and-coffee-scaled.jpg', 'original_width': 2560, 'original_height': 1707, 'is_product': False}, {'position': 22, 'thumbnail': 'https://encrypted-tbn0.gstatic.com/images?q=tbn:ANd9GcTA66T9grj_qmC9AVvyvEfi3UxRBFg_7-Y4Dg&usqp=CAU', 'related_content_id': 'WVpGd091clFaNC1kOU1cIixcInZzMjRtdVlwTUhIUkRN', 'serpapi_related_content_link': 'https://serpapi.com/search.json?engine=google_images_related_content&gl=us&hl=en&q=Coffee&related_content_id=WVpGd091clFaNC1kOU1cIixcInZzMjRtdVlwTUhIUkRN', 'source': 'Taste of Home', 'source_logo': 'https://encrypted-tbn2.gstatic.com/faviconV2?url=https://tasteofhome.com&client=VFE&size=16&type=FAVICON&fallback_opts=TYPE,SIZE,URL&nfrp=2', 'title': \"Espresso vs. Coffee: Let's Settle the Confusion\", 'link': 'https://www.tasteofhome.com/article/espresso-vs-coffee/', 'original': 'https://www.tasteofhome.com/wp-content/uploads/2023/02/TOH-coffee-vs-espresso-GettyImages-1413384122-JVedit.jpg', 'original_width': 2400, 'original_height': 1600, 'is_product': False}, {'position': 23, 'thumbnail': 'https://encrypted-tbn0.gstatic.com/images?q=tbn:ANd9GcTE0xjQGuxeeuZsu6e2RdnDlySyc_uz_SH1XA&usqp=CAU', 'related_content_id': 'SF9ER0tqdHVPRURiOU1cIixcInhsaGdqMlFLYjNxc3BN', 'serpapi_related_content_link': 'https://serpapi.com/search.json?engine=google_images_related_content&gl=us&hl=en&q=Coffee&related_content_id=SF9ER0tqdHVPRURiOU1cIixcInhsaGdqMlFLYjNxc3BN', 'source': 'BBC', 'source_logo': 'https://encrypted-tbn2.gstatic.com/faviconV2?url=https://bbc.com&client=VFE&size=16&type=FAVICON&fallback_opts=TYPE,SIZE,URL&nfrp=2', 'title': 'Are decaffeinated coffee alternatives better for health? - BBC Future', 'link': 'https://www.bbc.com/future/article/20220506-are-decaffeinated-coffee-alternatives-better-for-health', 'original': 'https://ychef.files.bbci.co.uk/976x549/p0c51g1j.jpg', 'original_width': 976, 'original_height': 549, 'is_product': False}, {'position': 24, 'thumbnail': 'https://encrypted-tbn0.gstatic.com/images?q=tbn:ANd9GcRgy-yXh4viMw10ixNsbmVkZf5iN9Za_gYWwA&usqp=CAU', 'related_content_id': 'd1JITWxyVjlnODg2Tk1cIixcIkZZelludE5DQjFrWUNN', 'serpapi_related_content_link': 'https://serpapi.com/search.json?engine=google_images_related_content&gl=us&hl=en&q=Coffee&related_content_id=d1JITWxyVjlnODg2Tk1cIixcIkZZelludE5DQjFrWUNN', 'source': 'Taste of Home', 'source_logo': 'https://encrypted-tbn2.gstatic.com/faviconV2?url=https://tasteofhome.com&client=VFE&size=16&type=FAVICON&fallback_opts=TYPE,SIZE,URL&nfrp=2', 'title': 'The Ultimate Guide to Different Types of Coffee and Coffee Makers', 'link': 'https://www.tasteofhome.com/article/types-of-coffee/', 'original': 'https://www.tasteofhome.com/wp-content/uploads/2020/02/Types-of-Coffee-Drinks_1200X1200.jpg', 'original_width': 1600, 'original_height': 1600, 'is_product': False}, {'position': 25, 'thumbnail': 'https://encrypted-tbn0.gstatic.com/images?q=tbn:ANd9GcSTeQu2f_5Y1z8Tu-xsA9X8oSD18xyingfMXA&usqp=CAU', 'related_content_id': 'b0hvbFE1eVlldzFqck1cIixcImE2WXQzdjZpcldBVXVN', 'serpapi_related_content_link': 'https://serpapi.com/search.json?engine=google_images_related_content&gl=us&hl=en&q=Coffee&related_content_id=b0hvbFE1eVlldzFqck1cIixcImE2WXQzdjZpcldBVXVN', 'source': 'TED Ideas', 'source_logo': 'https://encrypted-tbn2.gstatic.com/faviconV2?url=https://ideas.ted.com&client=VFE&size=16&type=FAVICON&fallback_opts=TYPE,SIZE,URL&nfrp=2', 'title': \"Wonder about the impact of your daily cup of coffee on the planet? Here's  the bitter truth |\", 'link': 'https://ideas.ted.com/truth-about-coffee-impact-on-environment-planet/', 'original': 'https://ideas.ted.com/wp-content/uploads/sites/3/2022/07/FINAL_Coffee.jpg', 'original_width': 2000, 'original_height': 1200, 'is_product': False}, {'position': 26, 'thumbnail': 'https://encrypted-tbn0.gstatic.com/images?q=tbn:ANd9GcScOR-Y6WYJHGp5J9CUJ7QElxwsUJaHJChFNA&usqp=CAU', 'related_content_id': 'aWpaQ0pIYXQ1dEJaYk1cIixcImd0Q3FTOTZja0JWbkVN', 'serpapi_related_content_link': 'https://serpapi.com/search.json?engine=google_images_related_content&gl=us&hl=en&q=Coffee&related_content_id=aWpaQ0pIYXQ1dEJaYk1cIixcImd0Q3FTOTZja0JWbkVN', 'source': 'Prevention', 'source_logo': 'https://encrypted-tbn2.gstatic.com/faviconV2?url=https://prevention.com&client=VFE&size=16&type=FAVICON&fallback_opts=TYPE,SIZE,URL&nfrp=2', 'title': 'Your Morning Coffee May Have a Placebo Effect, Research Finds', 'link': 'https://www.prevention.com/food-nutrition/a44372240/drinking-coffee-placebo-effect-study/', 'tag': '1:52', 'original': 'https://hips.hearstapps.com/hmg-prod/images/someone-hands-holding-a-mug-of-black-coffee-before-royalty-free-image-1687962548.jpg?crop=1xw:0.82762xh;center,top&resize=1200:*', 'original_width': 1200, 'original_height': 675, 'is_product': False}, {'position': 27, 'thumbnail': 'https://encrypted-tbn0.gstatic.com/images?q=tbn:ANd9GcT1Y4ZsODvw9rINOliAZlp2EfwK0Te1_ivByg&usqp=CAU', 'related_content_id': 'dHQycUdwdFpkX1B4Yk1cIixcIno0LS1KbWF2VXJoRXZN', 'serpapi_related_content_link': 'https://serpapi.com/search.json?engine=google_images_related_content&gl=us&hl=en&q=Coffee&related_content_id=dHQycUdwdFpkX1B4Yk1cIixcIno0LS1KbWF2VXJoRXZN', 'source': 'Healthline', 'source_logo': 'https://encrypted-tbn2.gstatic.com/faviconV2?url=https://healthline.com&client=VFE&size=16&type=FAVICON&fallback_opts=TYPE,SIZE,URL&nfrp=2', 'title': 'Coffee and Antioxidants: Everything You Need to Know', 'link': 'https://www.healthline.com/nutrition/coffee-worlds-biggest-source-of-antioxidants', 'original': 'https://media.post.rvohealth.io/wp-content/uploads/2020/08/coffee-worlds-biggest-source-of-antioxidants-1296x728-feature_0-800x728.jpg', 'original_width': 800, 'original_height': 728, 'is_product': False}, {'position': 28, 'thumbnail': 'https://encrypted-tbn0.gstatic.com/images?q=tbn:ANd9GcST7TPp-yLg7qFfIHxykdO74BFX6tKTst8YTw&usqp=CAU', 'related_content_id': 'd1BZVnlmUWNDTmNvOU1cIixcIi1iT21RbTdJMVdUbFhN', 'serpapi_related_content_link': 'https://serpapi.com/search.json?engine=google_images_related_content&gl=us&hl=en&q=Coffee&related_content_id=d1BZVnlmUWNDTmNvOU1cIixcIi1iT21RbTdJMVdUbFhN', 'source': 'A Sassy Spoon', 'source_logo': 'https://encrypted-tbn2.gstatic.com/faviconV2?url=https://asassyspoon.com&client=VFE&size=16&type=FAVICON&fallback_opts=TYPE,SIZE,URL&nfrp=2', 'title': 'How To Make Cuban Coffee (Café Cubano) - A Sassy Spoon', 'link': 'https://asassyspoon.com/how-to-make-cuban-coffee/', 'tag': 'Recipe', 'original': 'https://asassyspoon.com/wp-content/uploads/cafe-cubano-cuban-coffee-recipe-a-sassy-spoon-4.jpg', 'original_width': 1000, 'original_height': 1500, 'is_product': False}, {'position': 29, 'thumbnail': 'https://encrypted-tbn0.gstatic.com/images?q=tbn:ANd9GcRoc-sVy_miriZnkw7WDwh9c1Zs0DOTGVo7CA&usqp=CAU', 'related_content_id': 'WXQzMVpkN3NyVGJsWU1cIixcInl3aU1CYkFsM0xRcW5N', 'serpapi_related_content_link': 'https://serpapi.com/search.json?engine=google_images_related_content&gl=us&hl=en&q=Coffee&related_content_id=WXQzMVpkN3NyVGJsWU1cIixcInl3aU1CYkFsM0xRcW5N', 'source': 'CNN', 'source_logo': 'https://encrypted-tbn2.gstatic.com/faviconV2?url=https://cnn.com&client=VFE&size=16&type=FAVICON&fallback_opts=TYPE,SIZE,URL&nfrp=2', 'title': 'Is coffee healthy? | CNN', 'link': 'https://www.cnn.com/2017/09/29/health/coffee-healthy-food-drayer/index.html', 'original': 'https://media.cnn.com/api/v1/images/stellar/prod/150929101049-black-coffee-stock.jpg?q=w_3000,h_3074,x_0,y_0,c_fill', 'original_width': 3000, 'original_height': 3074, 'is_product': False}, {'position': 30, 'thumbnail': 'https://encrypted-tbn0.gstatic.com/images?q=tbn:ANd9GcQFih0K2kEa0G41x-XzJskUPUWlrp9tZj4nZQ&usqp=CAU', 'related_content_id': 'OV9mSEJGY2hHRWgtbU1cIixcIjF2R1hnb19GbEhsYnpN', 'serpapi_related_content_link': 'https://serpapi.com/search.json?engine=google_images_related_content&gl=us&hl=en&q=Coffee&related_content_id=OV9mSEJGY2hHRWgtbU1cIixcIjF2R1hnb19GbEhsYnpN', 'source': 'www.starbucks.com', 'source_logo': 'https://encrypted-tbn2.gstatic.com/faviconV2?url=https://starbucks.com&client=VFE&size=16&type=FAVICON&fallback_opts=TYPE,SIZE,URL&nfrp=2', 'title': 'Starbucks Coffee Company', 'link': 'https://www.starbucks.com/', 'original': 'https://content-prod-live.cert.starbucks.com/binary/v2/asset/137-85701.jpg', 'original_width': 1440, 'original_height': 1250, 'is_product': False}, {'position': 31, 'thumbnail': 'https://encrypted-tbn0.gstatic.com/images?q=tbn:ANd9GcTzXnsSlRtxGTq3GLhvguQNC-OMu88u_KCZ6Q&usqp=CAU', 'related_content_id': 'XzVKQzV0RUhvaHpQYk1cIixcIkJyOF9EelhuQ21RSE1N', 'serpapi_related_content_link': 'https://serpapi.com/search.json?engine=google_images_related_content&gl=us&hl=en&q=Coffee&related_content_id=XzVKQzV0RUhvaHpQYk1cIixcIkJyOF9EelhuQ21RSE1N', 'source': 'Picture it... | Chemistry - WordPress.com', 'source_logo': 'https://encrypted-tbn2.gstatic.com/faviconV2?url=https://chempics.wordpress.com&client=VFE&size=16&type=FAVICON&fallback_opts=TYPE,SIZE,URL&nfrp=2', 'title': \"How is global warming affecting coffee's quality and yields? | Picture it...\", 'link': 'https://chempics.wordpress.com/2022/02/15/how-global-warming-is-affecting-coffees-quality-and-yields/', 'original': 'https://chempics.files.wordpress.com/2022/02/pexels-chevanon-photography-312418.jpg', 'original_width': 4016, 'original_height': 6016, 'is_product': False}, {'position': 32, 'thumbnail': 'https://encrypted-tbn0.gstatic.com/images?q=tbn:ANd9GcSe_EWm1AJS-iBr9C6uGj5MO04E9h3Qhlj-Xw&usqp=CAU', 'related_content_id': 'TWw3Q1FzNU9oTE83NE1cIixcImNBRVZiYkV0eURjZGRN', 'serpapi_related_content_link': 'https://serpapi.com/search.json?engine=google_images_related_content&gl=us&hl=en&q=Coffee&related_content_id=TWw3Q1FzNU9oTE83NE1cIixcImNBRVZiYkV0eURjZGRN', 'source': 'Pexels', 'source_logo': 'https://encrypted-tbn2.gstatic.com/faviconV2?url=https://pexels.com&client=VFE&size=16&type=FAVICON&fallback_opts=TYPE,SIZE,URL&nfrp=2', 'title': '30,000+ Best Coffee Photos · 100% Free Download · Pexels Stock Photos', 'link': 'https://www.pexels.com/search/coffee/', 'original': 'https://images.pexels.com/photos/1695052/pexels-photo-1695052.jpeg?cs=srgb&dl=pexels-igor-haritanovich-1695052.jpg&fm=jpg', 'original_width': 6123, 'original_height': 4082, 'is_product': False}, {'position': 33, 'thumbnail': 'https://encrypted-tbn0.gstatic.com/images?q=tbn:ANd9GcSpYDoMzzfzE_xTrjVhqZ_xar7DbNnIjInXTA&usqp=CAU', 'related_content_id': 'N2R2dGJJUWJjOEQyYk1cIixcImxXQWpid0RhelNsNl9N', 'serpapi_related_content_link': 'https://serpapi.com/search.json?engine=google_images_related_content&gl=us&hl=en&q=Coffee&related_content_id=N2R2dGJJUWJjOEQyYk1cIixcImxXQWpid0RhelNsNl9N', 'source': 'ET Retail', 'source_logo': 'https://encrypted-tbn2.gstatic.com/faviconV2?url=https://retail.economictimes.indiatimes.com&client=VFE&size=16&type=FAVICON&fallback_opts=TYPE,SIZE,URL&nfrp=2', 'title': \"International coffee day 2022: How's the coffee market brewing for  tea-loving India?, ET Retail\", 'link': 'https://retail.economictimes.indiatimes.com/news/food-entertainment/food-services/international-coffee-day-2022-hows-the-coffee-market-brewing-for-tea-loving-india/94574753', 'original': 'https://etimg.etb2bimg.com/photo/94574823.cms', 'original_width': 1254, 'original_height': 837, 'is_product': False}, {'position': 34, 'thumbnail': 'https://encrypted-tbn0.gstatic.com/images?q=tbn:ANd9GcQEUKwd8g4RotEsuO-ir3kBxUsPX00GTk8VKw&usqp=CAU', 'related_content_id': 'Vk9fUkx2V3BGQzlsUk1cIixcIjRDWTJRRU9QQWVhVkRN', 'serpapi_related_content_link': 'https://serpapi.com/search.json?engine=google_images_related_content&gl=us&hl=en&q=Coffee&related_content_id=Vk9fUkx2V3BGQzlsUk1cIixcIjRDWTJRRU9QQWVhVkRN', 'source': 'The Guardian', 'source_logo': 'https://encrypted-tbn2.gstatic.com/faviconV2?url=https://theguardian.com&client=VFE&size=16&type=FAVICON&fallback_opts=TYPE,SIZE,URL&nfrp=2', 'title': 'I was drinking coffee for all the wrong reasons, so I swapped it for a  gratitude journal | Sussie Anie | The Guardian', 'link': 'https://www.theguardian.com/commentisfree/2023/jul/31/drinking-coffee-why-i-quit', 'original': 'https://i.guim.co.uk/img/media/6e6df4c8f8641f798678905e47b13d48d29ceae4/276_633_3639_2184/master/3639.jpg?width=1200&height=1200&quality=85&auto=format&fit=crop&s=e4ed3c65432928a98ad257aff6ee09f3', 'original_width': 1200, 'original_height': 1200, 'is_product': False}, {'position': 35, 'thumbnail': 'https://encrypted-tbn0.gstatic.com/images?q=tbn:ANd9GcSIyRvfpYUd5cT0TvQLVsacCjdKreS6B3Od1A&usqp=CAU', 'related_content_id': 'WWFnNjU4QldnamdZSU1cIixcImNBRVZiYkV0eURjZGRN', 'serpapi_related_content_link': 'https://serpapi.com/search.json?engine=google_images_related_content&gl=us&hl=en&q=Coffee&related_content_id=WWFnNjU4QldnamdZSU1cIixcImNBRVZiYkV0eURjZGRN', 'source': 'Pexels', 'source_logo': 'https://encrypted-tbn2.gstatic.com/faviconV2?url=https://pexels.com&client=VFE&size=16&type=FAVICON&fallback_opts=TYPE,SIZE,URL&nfrp=2', 'title': '30,000+ Best Coffee Photos · 100% Free Download · Pexels Stock Photos', 'link': 'https://www.pexels.com/search/coffee/', 'original': 'https://images.pexels.com/photos/2396220/pexels-photo-2396220.jpeg?auto=compress&cs=tinysrgb&dpr=1&w=500', 'original_width': 500, 'original_height': 750, 'is_product': False}, {'position': 36, 'thumbnail': 'https://encrypted-tbn0.gstatic.com/images?q=tbn:ANd9GcS6E06lV1CUCjb5mXN_zqhIqfGA5GmJ5mLxsg&usqp=CAU', 'related_content_id': 'OElZRXFZOENwTGJlbU1cIixcIjF2R1hnb19GbEhsYnpN', 'serpapi_related_content_link': 'https://serpapi.com/search.json?engine=google_images_related_content&gl=us&hl=en&q=Coffee&related_content_id=OElZRXFZOENwTGJlbU1cIixcIjF2R1hnb19GbEhsYnpN', 'source': 'www.starbucks.com', 'source_logo': 'https://encrypted-tbn2.gstatic.com/faviconV2?url=https://starbucks.com&client=VFE&size=16&type=FAVICON&fallback_opts=TYPE,SIZE,URL&nfrp=2', 'title': 'Starbucks Coffee Company', 'link': 'https://www.starbucks.com/', 'original': 'https://content-prod-live.cert.starbucks.com/binary/v2/asset/137-85559.jpg', 'original_width': 1440, 'original_height': 1250, 'is_product': False}, {'position': 37, 'thumbnail': 'https://encrypted-tbn0.gstatic.com/images?q=tbn:ANd9GcQ5xk00ukys5Rvu-Nqcia2dYwdmgucBmTJO6A&usqp=CAU', 'related_content_id': 'UmFpWUkwMFItS1pwUE1cIixcImtKeWE4MWRabFY3SmFN', 'serpapi_related_content_link': 'https://serpapi.com/search.json?engine=google_images_related_content&gl=us&hl=en&q=Coffee&related_content_id=UmFpWUkwMFItS1pwUE1cIixcImtKeWE4MWRabFY3SmFN', 'source': 'Starbucks ® coffee', 'source_logo': 'https://encrypted-tbn2.gstatic.com/faviconV2?url=https://starbucksathome.com&client=VFE&size=16&type=FAVICON&fallback_opts=TYPE,SIZE,URL&nfrp=2', 'title': 'Dark Roast Instant Coffee | Tin | Starbucks® at Home', 'link': 'https://www.starbucksathome.com/products/starbucks-dark-roast-premium-instant-coffees', 'original': 'https://www.starbucksathome.com/sites/default/files/styles/nutrition_instruction_image/public/2021-04/BlackCoffee_LongShadow_0_1_0%20%281%29.png?itok=wkv8XBvk', 'original_width': 644, 'original_height': 540, 'is_product': False}, {'position': 38, 'thumbnail': 'https://encrypted-tbn0.gstatic.com/images?q=tbn:ANd9GcSA0agCqlheomR6W7XY9JeS7agmfHSBqrgUqQ&usqp=CAU', 'related_content_id': 'Mm50MW51SGk4ZmUtOE1cIixcIlRqWm1FQ2lVUlNORWtN', 'serpapi_related_content_link': 'https://serpapi.com/search.json?engine=google_images_related_content&gl=us&hl=en&q=Coffee&related_content_id=Mm50MW51SGk4ZmUtOE1cIixcIlRqWm1FQ2lVUlNORWtN', 'source': 'Verywell Health', 'source_logo': 'https://encrypted-tbn2.gstatic.com/faviconV2?url=https://verywellhealth.com&client=VFE&size=16&type=FAVICON&fallback_opts=TYPE,SIZE,URL&nfrp=2', 'title': 'Is Coffee Gluten-Free? (Not Always!)', 'link': 'https://www.verywellhealth.com/does-coffee-contain-gluten-562352', 'original': 'https://www.verywellhealth.com/thmb/enqdlurt-cfzp1sidBVkJDnfOLQ=/1500x0/filters:no_upscale():max_bytes(150000):strip_icc()/Coffee-OleksiyMaksymenko-58c5600c5f9b58af5cc7c009.jpg', 'original_width': 1500, 'original_height': 1125, 'is_product': False}, {'position': 39, 'thumbnail': 'https://encrypted-tbn0.gstatic.com/images?q=tbn:ANd9GcS221UrDRgjuKdBvuom-YR-vxn3cvzj6X8cAg&usqp=CAU', 'related_content_id': 'QXNXbU5OSGVhVTBkWU1cIixcIlo0dDVyVjQtWXBvamdN', 'serpapi_related_content_link': 'https://serpapi.com/search.json?engine=google_images_related_content&gl=us&hl=en&q=Coffee&related_content_id=QXNXbU5OSGVhVTBkWU1cIixcIlo0dDVyVjQtWXBvamdN', 'source': 'Feel Good Foodie', 'source_logo': 'https://encrypted-tbn2.gstatic.com/faviconV2?url=https://feelgoodfoodie.net&client=VFE&size=16&type=FAVICON&fallback_opts=TYPE,SIZE,URL&nfrp=2', 'title': 'Coconut Oil Coffee {Easy Recipe!} - FeelGoodFoodie', 'link': 'https://feelgoodfoodie.net/recipe/coconut-oil-coffee/', 'tag': 'Recipe', 'original': 'https://feelgoodfoodie.net/wp-content/uploads/2018/05/coconut-oil-coffee-9.jpg', 'original_width': 1200, 'original_height': 1800, 'is_product': False}, {'position': 40, 'thumbnail': 'https://encrypted-tbn0.gstatic.com/images?q=tbn:ANd9GcSNVeADipml0Jaz2BDLZ9eAa21S4Ri6QEdIbw&usqp=CAU', 'related_content_id': 'bzYxRUlkbzVzXzZQU01cIixcIndjc0Z1Nmw5NVdPSmJN', 'serpapi_related_content_link': 'https://serpapi.com/search.json?engine=google_images_related_content&gl=us&hl=en&q=Coffee&related_content_id=bzYxRUlkbzVzXzZQU01cIixcIndjc0Z1Nmw5NVdPSmJN', 'source': 'Food & Wine', 'source_logo': 'https://encrypted-tbn2.gstatic.com/faviconV2?url=https://foodandwine.com&client=VFE&size=16&type=FAVICON&fallback_opts=TYPE,SIZE,URL&nfrp=2', 'title': 'Coffee 101', 'link': 'https://www.foodandwine.com/coffee', 'original': 'https://www.foodandwine.com/thmb/pApE3fcSoaNI2qb4afOPHv0XZDE=/532x368/filters:no_upscale():max_bytes(150000):strip_icc()/Partners-Cortado-FT-BLOG0523-7e4f50be961e4a6490fdfa5a34d6e0f5.jpg', 'original_width': 532, 'original_height': 368, 'is_product': False}, {'position': 41, 'thumbnail': 'https://encrypted-tbn0.gstatic.com/images?q=tbn:ANd9GcTwRZVwq2GrWsHgUSyGoAVHDuV-3mMiKWTpRQ&usqp=CAU', 'related_content_id': 'VVJWYmVMUFJ0QTBNc01cIixcInd3TUhDZmZNbEhtbXZN', 'serpapi_related_content_link': 'https://serpapi.com/search.json?engine=google_images_related_content&gl=us&hl=en&q=Coffee&related_content_id=VVJWYmVMUFJ0QTBNc01cIixcInd3TUhDZmZNbEhtbXZN', 'source': 'Salon', 'source_logo': 'https://encrypted-tbn2.gstatic.com/faviconV2?url=https://salon.com&client=VFE&size=16&type=FAVICON&fallback_opts=TYPE,SIZE,URL&nfrp=2', 'title': 'Skip the trip to Starbucks and make simple, better frappé coffee from the  comfort of your own home | Salon.com', 'link': 'https://www.salon.com/2023/07/01/skip-the-trip-to-starbucks-and-make-simple-better-frapp-coffee-from-the-comfort-of-your-own-home/', 'original': 'https://mediaproxy.salon.com/width/1200/https://media.salon.com/2023/06/coffee_with_whipped_cream_spoon_and_milk_pitcher_583972478.jpg', 'original_width': 1200, 'original_height': 800, 'is_product': False}, {'position': 42, 'thumbnail': 'https://encrypted-tbn0.gstatic.com/images?q=tbn:ANd9GcTMs4QpfcoGVQolkgehyVjA9blSSn-Rsy-EDw&usqp=CAU', 'related_content_id': 'aDBFODlFc25GSFhsNU1cIixcIm9zYmd4WHV0aDBxXzVN', 'serpapi_related_content_link': 'https://serpapi.com/search.json?engine=google_images_related_content&gl=us&hl=en&q=Coffee&related_content_id=aDBFODlFc25GSFhsNU1cIixcIm9zYmd4WHV0aDBxXzVN', 'source': 'The Independent', 'source_logo': 'https://encrypted-tbn2.gstatic.com/faviconV2?url=https://independent.co.uk&client=VFE&size=16&type=FAVICON&fallback_opts=TYPE,SIZE,URL&nfrp=2', 'title': 'Coffee can help you lose weight, according to a nutritionist | The  Independent | The Independent', 'link': 'https://www.independent.co.uk/life-style/food-and-drink/coffee-weight-loss-healthy-nutritional-value-fat-burn-diet-metabolism-a8296946.html', 'original': 'https://static.independent.co.uk/s3fs-public/thumbnails/image/2018/04/09/20/istock-157528129.jpg?width=1200&height=900&fit=crop', 'original_width': 1200, 'original_height': 900, 'is_product': False}, {'position': 43, 'thumbnail': 'https://encrypted-tbn0.gstatic.com/images?q=tbn:ANd9GcQjBVdGTiHBDBLlGlgWaM7FRC6jB6lXmr4Lqg&usqp=CAU', 'related_content_id': 'bWl3WF9xVXA3LWZHSE1cIixcInNmdi05U2RRdVZmUUNN', 'serpapi_related_content_link': 'https://serpapi.com/search.json?engine=google_images_related_content&gl=us&hl=en&q=Coffee&related_content_id=bWl3WF9xVXA3LWZHSE1cIixcInNmdi05U2RRdVZmUUNN', 'source': 'British GQ', 'source_logo': 'https://encrypted-tbn2.gstatic.com/faviconV2?url=https://gq-magazine.co.uk&client=VFE&size=16&type=FAVICON&fallback_opts=TYPE,SIZE,URL&nfrp=2', 'title': 'How to make barista-worthy coffee at home | British GQ', 'link': 'https://www.gq-magazine.co.uk/food-drink/article/how-to-make-coffee-at-home', 'original': 'https://media.gq-magazine.co.uk/photos/5e8352568714920008e10d5b/4:3/w_1440,h_1080,c_limit/20200331-coffee-05.jpg', 'original_width': 1440, 'original_height': 1080, 'is_product': False}, {'position': 44, 'thumbnail': 'https://encrypted-tbn0.gstatic.com/images?q=tbn:ANd9GcSQUje6JY0Olr81Fjag2CsUuIu7_9C68-V5Cw&usqp=CAU', 'related_content_id': 'Q2toeWZlcDVuTU1Qak1cIixcIm9SNGlwMm1oVmVlLV9N', 'serpapi_related_content_link': 'https://serpapi.com/search.json?engine=google_images_related_content&gl=us&hl=en&q=Coffee&related_content_id=Q2toeWZlcDVuTU1Qak1cIixcIm9SNGlwMm1oVmVlLV9N', 'source': 'Americaware', 'source_logo': 'https://encrypted-tbn2.gstatic.com/faviconV2?url=https://americaware.com&client=VFE&size=16&type=FAVICON&fallback_opts=TYPE,SIZE,URL&nfrp=2', 'title': 'How Much Caffeine is in Coffee - Americaware', 'link': 'https://americaware.com/coffee-culture/how-much-caffeine-is-in-coffee/', 'original': 'https://americaware.com/wp-content/uploads/2021/06/CoffeeCup_Burlap2.jpg', 'original_width': 736, 'original_height': 520, 'is_product': False}, {'position': 45, 'thumbnail': 'https://encrypted-tbn0.gstatic.com/images?q=tbn:ANd9GcTv6FG0mM499sPkqbdSm0yQLXe6v8Zg8kptjw&usqp=CAU', 'related_content_id': 'ZEUzdFBWYnhSNUdKRU1cIixcIk1NcktvcWtpclFEX1NN', 'serpapi_related_content_link': 'https://serpapi.com/search.json?engine=google_images_related_content&gl=us&hl=en&q=Coffee&related_content_id=ZEUzdFBWYnhSNUdKRU1cIixcIk1NcktvcWtpclFEX1NN', 'source': 'Medium', 'source_logo': 'https://encrypted-tbn2.gstatic.com/faviconV2?url=https://medium.com&client=VFE&size=16&type=FAVICON&fallback_opts=TYPE,SIZE,URL&nfrp=2', 'title': 'The Latest Time You Should Drink Coffee, According to Science | by Melissa  Chu | Mission.org | Medium', 'link': 'https://medium.com/the-mission/the-latest-time-you-should-drink-coffee-according-to-science-8c1db17bca21', 'original': 'https://miro.medium.com/v2/resize:fit:1200/1*ZajEMv2yEHjwYlNOHmtNfg.jpeg', 'original_width': 1200, 'original_height': 801, 'is_product': False}, {'position': 46, 'thumbnail': 'https://encrypted-tbn0.gstatic.com/images?q=tbn:ANd9GcQ1Kv1D3cipqADBgSt--wyD6etljfUwih82RQ&usqp=CAU', 'related_content_id': 'SVNJY1h2UHA1dFlwUU1cIixcInRaNjRXSE12cExQYldN', 'serpapi_related_content_link': 'https://serpapi.com/search.json?engine=google_images_related_content&gl=us&hl=en&q=Coffee&related_content_id=SVNJY1h2UHA1dFlwUU1cIixcInRaNjRXSE12cExQYldN', 'source': 'westrockcoffee.com', 'source_logo': 'https://encrypted-tbn2.gstatic.com/faviconV2?url=https://westrockcoffee.com&client=VFE&size=16&type=FAVICON&fallback_opts=TYPE,SIZE,URL&nfrp=2', 'title': 'Westrock Coffee Company | Brand Behind the Brands', 'link': 'https://westrockcoffee.com/', 'original': 'https://westrockcoffee.com/cdn/shop/files/hot-coffee-products.jpg?v=1678294872&width=550', 'original_width': 550, 'original_height': 550, 'is_product': False}, {'position': 47, 'thumbnail': 'https://encrypted-tbn0.gstatic.com/images?q=tbn:ANd9GcTUF8-af1jOH3cOI7jJ-JJvvBsX-uVtmaaeXQ&usqp=CAU', 'related_content_id': 'b1VlRGt1TTNLY0RwSU1cIixcIkJDanpubzZ6UDZ4SHFN', 'serpapi_related_content_link': 'https://serpapi.com/search.json?engine=google_images_related_content&gl=us&hl=en&q=Coffee&related_content_id=b1VlRGt1TTNLY0RwSU1cIixcIkJDanpubzZ6UDZ4SHFN', 'source': 'www.peets.com', 'source_logo': 'https://encrypted-tbn2.gstatic.com/faviconV2?url=https://peets.com&client=VFE&size=16&type=FAVICON&fallback_opts=TYPE,SIZE,URL&nfrp=2', 'title': \"The Original Craft Coffee | Peet's Coffee\", 'link': 'https://www.peets.com/', 'original': 'https://peets-shop.imgix.net/products/BBC-M_2.png?v=1645118975&auto=format,compress', 'original_width': 1266, 'original_height': 1492, 'is_product': False}, {'position': 48, 'thumbnail': 'https://encrypted-tbn0.gstatic.com/images?q=tbn:ANd9GcSL73HHPH3hwUVTAVCotdt4S0F53FW2hI17OQ&usqp=CAU', 'related_content_id': 'UGhvMzNHQUlMeXRINU1cIixcIjc1RUJTcnBVWi1NeWJN', 'serpapi_related_content_link': 'https://serpapi.com/search.json?engine=google_images_related_content&gl=us&hl=en&q=Coffee&related_content_id=UGhvMzNHQUlMeXRINU1cIixcIjc1RUJTcnBVWi1NeWJN', 'source': 'Food & Wine', 'source_logo': 'https://encrypted-tbn2.gstatic.com/faviconV2?url=https://foodandwine.com&client=VFE&size=16&type=FAVICON&fallback_opts=TYPE,SIZE,URL&nfrp=2', 'title': 'Deals and Free Drinks on National Coffee Day 2022', 'link': 'https://www.foodandwine.com/news/national-coffee-day-deals-free-drinks-2022', 'original': 'https://www.foodandwine.com/thmb/XvsfbRhDtuj6EVljqQoCvHN23Fg=/1500x0/filters:no_upscale():max_bytes(150000):strip_icc()/National-Coffee-Day-Deals-FT-BLOG0922-2000-6d488b0957d64ff3a3a1ae8017a9d5e4.jpg', 'original_width': 1500, 'original_height': 1001, 'is_product': False}, {'position': 49, 'thumbnail': 'https://encrypted-tbn0.gstatic.com/images?q=tbn:ANd9GcTHRok7d4l-jjHMJTPkBq5RGtQyxBtsBXZwWw&usqp=CAU', 'related_content_id': 'ajd6THgwVm5jbHR5Uk1cIixcIjdHSThFaGQyOFVvM1RN', 'serpapi_related_content_link': 'https://serpapi.com/search.json?engine=google_images_related_content&gl=us&hl=en&q=Coffee&related_content_id=ajd6THgwVm5jbHR5Uk1cIixcIjdHSThFaGQyOFVvM1RN', 'source': 'Ambitious Kitchen', 'source_logo': 'https://encrypted-tbn2.gstatic.com/faviconV2?url=https://ambitiouskitchen.com&client=VFE&size=16&type=FAVICON&fallback_opts=TYPE,SIZE,URL&nfrp=2', 'title': 'Good Morning Coffee Smoothie | Ambitious Kitchen', 'link': 'https://www.ambitiouskitchen.com/good-morning-coffee-smoothie/', 'tag': 'Recipe', 'original': 'https://www.ambitiouskitchen.com/wp-content/uploads/2019/07/Good-Morning-Coffee-Lovers-Smoothie-4-725x725-1.jpg', 'original_width': 725, 'original_height': 725, 'is_product': False}, {'position': 50, 'thumbnail': 'https://encrypted-tbn0.gstatic.com/images?q=tbn:ANd9GcS0lLqdl8QrgDAoQRVRTBxpvBq-jIXsnR4ArQ&usqp=CAU', 'related_content_id': 'dVVXX3RNa2VxSEZtbk1cIixcImo1OEFQNTdQZjNOdkhN', 'serpapi_related_content_link': 'https://serpapi.com/search.json?engine=google_images_related_content&gl=us&hl=en&q=Coffee&related_content_id=dVVXX3RNa2VxSEZtbk1cIixcImo1OEFQNTdQZjNOdkhN', 'source': \"McDonald's\", 'source_logo': 'https://encrypted-tbn2.gstatic.com/faviconV2?url=https://mcdonalds.com&client=VFE&size=16&type=FAVICON&fallback_opts=TYPE,SIZE,URL&nfrp=2', 'title': \"White Coffee - Regular | McDonald's UK\", 'link': 'https://www.mcdonalds.com/gb/en-gb/product/white-coffee-regular.html', 'tag': 'Recipe', 'original': 'https://s7d1.scene7.com/is/image/mcdonalds/mcdonalds-White-Coffee-Reg-v2:1-3-product-tile-desktop?wid=829&hei=515&dpr=off', 'original_width': 829, 'original_height': 515, 'is_product': False}, {'position': 51, 'thumbnail': 'https://encrypted-tbn0.gstatic.com/images?q=tbn:ANd9GcRWDZU7hgqAsmR9wel7rIfvLFaZu420ak_oRg&usqp=CAU', 'related_content_id': 'Z2JwS2Z5NHp2QWhZX01cIixcInk1V0QzdDNwVFRmWmxN', 'serpapi_related_content_link': 'https://serpapi.com/search.json?engine=google_images_related_content&gl=us&hl=en&q=Coffee&related_content_id=Z2JwS2Z5NHp2QWhZX01cIixcInk1V0QzdDNwVFRmWmxN', 'source': 'The Spruce Eats', 'source_logo': 'https://encrypted-tbn2.gstatic.com/faviconV2?url=https://thespruceeats.com&client=VFE&size=16&type=FAVICON&fallback_opts=TYPE,SIZE,URL&nfrp=2', 'title': 'Cuban Coffee (Cafecito) Recipe', 'link': 'https://www.thespruceeats.com/cuban-coffee-4796807', 'tag': 'Recipe', 'original': 'https://www.thespruceeats.com/thmb/6PsJC26AGdKsO1DsBfwaZ3dyO6w=/1500x0/filters:no_upscale():max_bytes(150000):strip_icc()/SES-cuban-coffee-4796807-hero-01-d7eb7e7987984a5690b290c69dc3c0db.jpg', 'original_width': 1500, 'original_height': 1000, 'is_product': False}, {'position': 52, 'thumbnail': 'https://encrypted-tbn0.gstatic.com/images?q=tbn:ANd9GcRw3JYJ4YUlBkJOATkXBrsvMXbYnBfgrLY-cw&usqp=CAU', 'related_content_id': 'N1hzS3pBZ29ZWkNQRE1cIixcIjBKLTFJUFhEZUtucDFN', 'serpapi_related_content_link': 'https://serpapi.com/search.json?engine=google_images_related_content&gl=us&hl=en&q=Coffee&related_content_id=N1hzS3pBZ29ZWkNQRE1cIixcIjBKLTFJUFhEZUtucDFN', 'source': 'Dallas Morning News', 'source_logo': 'https://encrypted-tbn2.gstatic.com/faviconV2?url=https://dallasnews.com&client=VFE&size=16&type=FAVICON&fallback_opts=TYPE,SIZE,URL&nfrp=2', 'title': \"5 new coffee shops in East Dallas' Lakewood neighborhood\", 'link': 'https://www.dallasnews.com/food/restaurant-news/2023/08/23/5-new-coffee-shops-in-east-dallas-lakewood-neighborhood/', 'original': 'https://www.dallasnews.com/resizer/t5w0-W0GorqBFuac04PsxeBmCnI=/arc-anglerfish-arc2-prod-dmn/public/JUCTFRJJZSXEQ5D5HOCJPQ5RAI.jpg', 'original_width': 1024, 'original_height': 683, 'is_product': False}, {'position': 53, 'thumbnail': 'https://encrypted-tbn0.gstatic.com/images?q=tbn:ANd9GcRaigW2rFEOlkRWs9PhL1FjiSZcVZFirSYY3g&usqp=CAU', 'related_content_id': 'OVVod0J0YjE2SjY2Sk1cIixcIjFBTWlTSkxCQnQ1alZN', 'serpapi_related_content_link': 'https://serpapi.com/search.json?engine=google_images_related_content&gl=us&hl=en&q=Coffee&related_content_id=OVVod0J0YjE2SjY2Sk1cIixcIjFBTWlTSkxCQnQ1alZN', 'source': 'The Telegraph', 'source_logo': 'https://encrypted-tbn2.gstatic.com/faviconV2?url=https://telegraph.co.uk&client=VFE&size=16&type=FAVICON&fallback_opts=TYPE,SIZE,URL&nfrp=2', 'title': 'Why your morning coffee is facing extinction', 'link': 'https://www.telegraph.co.uk/food-and-drink/drinks/why-your-morning-coffee-is-facing-extinction/', 'original': 'https://www.telegraph.co.uk/content/dam/food-and-drink/2023/05/29/TELEMMGLPICT000337617171_16853717575030_trans_NvBQzQNjv4BqkpiJeVDsZjp9WOGE8mxc1VRMJHJKjJBXGfGDoBWMTj4.jpeg', 'original_width': 2005, 'original_height': 1254, 'is_product': False}, {'position': 54, 'thumbnail': 'https://encrypted-tbn0.gstatic.com/images?q=tbn:ANd9GcRZDIhfX35bbcMvLLv5bIQFMxjTcYMNdwG_SQ&usqp=CAU', 'related_content_id': 'cDN3b1FSRjJRUW5lUU1cIixcIlVRdDdSVnFOem5xX3VN', 'serpapi_related_content_link': 'https://serpapi.com/search.json?engine=google_images_related_content&gl=us&hl=en&q=Coffee&related_content_id=cDN3b1FSRjJRUW5lUU1cIixcIlVRdDdSVnFOem5xX3VN', 'source': 'YourBigSky.com', 'source_logo': 'https://encrypted-tbn2.gstatic.com/faviconV2?url=https://yourbigsky.com&client=VFE&size=16&type=FAVICON&fallback_opts=TYPE,SIZE,URL&nfrp=2', 'title': 'Are there health benefits in coffee? | YourBigSky.com', 'link': 'https://www.yourbigsky.com/local-news-2/are-there-health-benefits-in-coffee/', 'original': 'https://www.yourbigsky.com/wp-content/uploads/sites/101/2022/05/coffee-1.jpg', 'original_width': 4500, 'original_height': 3000, 'is_product': False}, {'position': 55, 'thumbnail': 'https://encrypted-tbn0.gstatic.com/images?q=tbn:ANd9GcQ429EoiaETLOFKhW_xc4K-8vY29yUjKvAfTQ&usqp=CAU', 'related_content_id': 'ZExuQ3lzTHVpRHY5cE1cIixcInBndVJEdUFsaTlOZDhN', 'serpapi_related_content_link': 'https://serpapi.com/search.json?engine=google_images_related_content&gl=us&hl=en&q=Coffee&related_content_id=ZExuQ3lzTHVpRHY5cE1cIixcInBndVJEdUFsaTlOZDhN', 'source': 'A Couple Cooks', 'source_logo': 'https://encrypted-tbn2.gstatic.com/faviconV2?url=https://acouplecooks.com&client=VFE&size=16&type=FAVICON&fallback_opts=TYPE,SIZE,URL&nfrp=2', 'title': 'Cortado Coffee – A Couple Cooks', 'link': 'https://www.acouplecooks.com/cortado/', 'tag': 'Recipe', 'original': 'https://www.acouplecooks.com/wp-content/uploads/2021/08/Cortado-004s.jpg', 'original_width': 799, 'original_height': 799, 'is_product': False}, {'position': 56, 'thumbnail': 'https://encrypted-tbn0.gstatic.com/images?q=tbn:ANd9GcTJyeBxBJfxLFOiuoDap5nX1aNRhJB_fYPD4Q&usqp=CAU', 'related_content_id': 'Q3hhYnEtV1FXdXN1eE1cIixcIkZuVmRjM0hKdVVLQ2pN', 'serpapi_related_content_link': 'https://serpapi.com/search.json?engine=google_images_related_content&gl=us&hl=en&q=Coffee&related_content_id=Q3hhYnEtV1FXdXN1eE1cIixcIkZuVmRjM0hKdVVLQ2pN', 'source': 'Eater SF', 'source_logo': 'https://encrypted-tbn2.gstatic.com/faviconV2?url=https://sf.eater.com&client=VFE&size=16&type=FAVICON&fallback_opts=TYPE,SIZE,URL&nfrp=2', 'title': '15 Quintessential San Francisco Coffee Shops', 'link': 'https://sf.eater.com/maps/best-coffee-shops-san-francisco', 'original': 'https://cdn.vox-cdn.com/thumbor/0spbbgyWxgwuWpk8QOCZi2Ym3Kk=/0x0:1599x1066/1200x900/filters:focal(673x406:927x660)/cdn.vox-cdn.com/uploads/chorus_image/image/63217666/i_qNz6LTF_X3.97.jpg', 'original_width': 1200, 'original_height': 900, 'is_product': False}, {'position': 57, 'thumbnail': 'https://encrypted-tbn0.gstatic.com/images?q=tbn:ANd9GcQGTR6lg-ne7wFOMmYziDyATyuxZaoJDX4xSA&usqp=CAU', 'related_content_id': 'cHU2b25EVU42TERTek1cIixcIjZCY0dpOXIySkNzUlFN', 'serpapi_related_content_link': 'https://serpapi.com/search.json?engine=google_images_related_content&gl=us&hl=en&q=Coffee&related_content_id=cHU2b25EVU42TERTek1cIixcIjZCY0dpOXIySkNzUlFN', 'source': 'CNBC', 'source_logo': 'https://encrypted-tbn2.gstatic.com/faviconV2?url=https://cnbc.com&client=VFE&size=16&type=FAVICON&fallback_opts=TYPE,SIZE,URL&nfrp=2', 'title': 'Starbucks launches olive oil-infused coffee, plans U.S. debut', 'link': 'https://www.cnbc.com/2023/02/21/starbucks-olive-oil-infused-coffee.html', 'original': 'https://image.cnbcfm.com/api/v1/image/107196626-1676655593333-Starbucks_Oleato_-_Core_Beverages.jpg?v=1679490001&w=1920&h=1080', 'original_width': 1920, 'original_height': 1080, 'is_product': False}, {'position': 58, 'thumbnail': 'https://encrypted-tbn0.gstatic.com/images?q=tbn:ANd9GcS7YYvzR4pFgVuB-5XZwqMqo34V_mhiiXyb4Q&usqp=CAU', 'related_content_id': 'N1YzY204QnRGc0RtYU1cIixcIkZnQTI3TlNnRzVIdTNN', 'serpapi_related_content_link': 'https://serpapi.com/search.json?engine=google_images_related_content&gl=us&hl=en&q=Coffee&related_content_id=N1YzY204QnRGc0RtYU1cIixcIkZnQTI3TlNnRzVIdTNN', 'source': 'Food Network', 'source_logo': 'https://encrypted-tbn2.gstatic.com/faviconV2?url=https://foodnetwork.com&client=VFE&size=16&type=FAVICON&fallback_opts=TYPE,SIZE,URL&nfrp=2', 'title': 'Coffee-to-Water Ratio | Recipes, Dinners and Easy Meal Ideas | Food Network', 'link': 'https://www.foodnetwork.com/recipes/articles/coffee-water-ratio', 'original': 'https://food.fnr.sndimg.com/content/dam/images/food/fullset/2019/7/30/0/FN_coffee-cup-stock-getty_s6x4.jpg.rend.hgtvcom.1280.1280.suffix/1564517252380.jpeg', 'original_width': 1280, 'original_height': 1280, 'is_product': False}, {'position': 59, 'thumbnail': 'https://encrypted-tbn0.gstatic.com/images?q=tbn:ANd9GcTbltbf6JkhFkLYve3WsDQzpNY3DnmxDQt1kQ&usqp=CAU', 'related_content_id': 'czd5MFZvSU53MHRIck1cIixcIm9EenEtOHNOa19BVE9N', 'serpapi_related_content_link': 'https://serpapi.com/search.json?engine=google_images_related_content&gl=us&hl=en&q=Coffee&related_content_id=czd5MFZvSU53MHRIck1cIixcIm9EenEtOHNOa19BVE9N', 'source': 'Allrecipes', 'source_logo': 'https://encrypted-tbn2.gstatic.com/faviconV2?url=https://allrecipes.com&client=VFE&size=16&type=FAVICON&fallback_opts=TYPE,SIZE,URL&nfrp=2', 'title': 'Coffee Jelly Recipe', 'link': 'https://www.allrecipes.com/recipe/214724/coffee-jelly/', 'tag': 'Recipe', 'original': 'https://www.allrecipes.com/thmb/BrKfFmQde8hXb3KbVMynHK1DYNM=/1500x0/filters:no_upscale():max_bytes(150000):strip_icc()/JF_214724_CoffeeJelly_3x2_14658-aa343bd53dca453db682c3201aaf8e80.jpg', 'original_width': 1500, 'original_height': 1125, 'is_product': False}, {'position': 60, 'thumbnail': 'https://encrypted-tbn0.gstatic.com/images?q=tbn:ANd9GcQ9lvdO-taEu_CcXAQbP_8bFkBKzVdNTWLoGA&usqp=CAU', 'related_content_id': 'YWtxd3FKZi13dGFPeU1cIixcInZoSGc1bXBzNmJqY0lN', 'serpapi_related_content_link': 'https://serpapi.com/search.json?engine=google_images_related_content&gl=us&hl=en&q=Coffee&related_content_id=YWtxd3FKZi13dGFPeU1cIixcInZoSGc1bXBzNmJqY0lN', 'source': 'Wholesome Yum', 'source_logo': 'https://encrypted-tbn2.gstatic.com/faviconV2?url=https://wholesomeyum.com&client=VFE&size=16&type=FAVICON&fallback_opts=TYPE,SIZE,URL&nfrp=2', 'title': 'Bulletproof Coffee (Keto Coffee Recipe, 2 Min!) - Wholesome Yum', 'link': 'https://www.wholesomeyum.com/recipes/keto-butter-coffee-recipe-with-mct-oil/', 'tag': 'Recipe', 'original': 'https://www.wholesomeyum.com/wp-content/uploads/2017/09/wholesomeyum-Keto-Bulletproof-Coffee-Recipe-7-500x375.jpg', 'original_width': 500, 'original_height': 375, 'is_product': False}, {'position': 61, 'thumbnail': 'https://encrypted-tbn0.gstatic.com/images?q=tbn:ANd9GcTwNAmhVvoHLdhNcyCNQM8_mOCxKKUu3MXhWQ&usqp=CAU', 'related_content_id': 'Q09lekpvNEI4SkxFVU1cIixcInBLQUpneV9ZMVJOVzZN', 'serpapi_related_content_link': 'https://serpapi.com/search.json?engine=google_images_related_content&gl=us&hl=en&q=Coffee&related_content_id=Q09lekpvNEI4SkxFVU1cIixcInBLQUpneV9ZMVJOVzZN', 'source': 'Prevention', 'source_logo': 'https://encrypted-tbn2.gstatic.com/faviconV2?url=https://prevention.com&client=VFE&size=16&type=FAVICON&fallback_opts=TYPE,SIZE,URL&nfrp=2', 'title': 'Coffee and Lemon for Weight Loss? Experts Explain if It Works', 'link': 'https://www.prevention.com/weight-loss/a45223633/coffee-and-lemon-weight-loss/', 'tag': '2:16', 'original': 'https://hips.hearstapps.com/hmg-prod/images/coffee-with-lemon-on-gray-wooden-background-table-royalty-free-image-1695223028.jpg', 'original_width': 3872, 'original_height': 2592, 'is_product': False}, {'position': 62, 'thumbnail': 'https://encrypted-tbn0.gstatic.com/images?q=tbn:ANd9GcTUmKhdNIlPZC_J4AmpvtVcfpI585dnMauBAA&usqp=CAU', 'related_content_id': 'NGRKWDhyYTNDbEVMeE1cIixcIkFwcXNEZ1pmblRVMF9N', 'serpapi_related_content_link': 'https://serpapi.com/search.json?engine=google_images_related_content&gl=us&hl=en&q=Coffee&related_content_id=NGRKWDhyYTNDbEVMeE1cIixcIkFwcXNEZ1pmblRVMF9N', 'source': \"Dassana's Veg Recipes\", 'source_logo': 'https://encrypted-tbn2.gstatic.com/faviconV2?url=https://vegrecipesofindia.com&client=VFE&size=16&type=FAVICON&fallback_opts=TYPE,SIZE,URL&nfrp=2', 'title': \"Filter Coffee | How to make Filter Coffee » Dassana's Veg Recipes\", 'link': 'https://www.vegrecipesofindia.com/filter-coffee-recipe/', 'tag': 'Recipe', 'original': 'https://www.vegrecipesofindia.com/wp-content/uploads/2016/09/filter-coffee-recipe-1-500x375.jpg', 'original_width': 500, 'original_height': 375, 'is_product': False}, {'position': 63, 'thumbnail': 'https://encrypted-tbn0.gstatic.com/images?q=tbn:ANd9GcQh4s-FJhLqxH2Iu99xUeJKS4S8zZ_WOzgtqQ&usqp=CAU', 'related_content_id': 'aWNJS0VvMFF5ZmpHT01cIixcIks0eDVKY0xuWGViTXFN', 'serpapi_related_content_link': 'https://serpapi.com/search.json?engine=google_images_related_content&gl=us&hl=en&q=Coffee&related_content_id=aWNJS0VvMFF5ZmpHT01cIixcIks0eDVKY0xuWGViTXFN', 'source': 'Eater NY', 'source_logo': 'https://encrypted-tbn2.gstatic.com/faviconV2?url=https://ny.eater.com&client=VFE&size=16&type=FAVICON&fallback_opts=TYPE,SIZE,URL&nfrp=2', 'title': '15 Essential New York City Coffee Shops', 'link': 'https://ny.eater.com/maps/best-cafe-coffee-shop-new-york-city-brooklyn-queens', 'original': 'https://cdn.vox-cdn.com/thumbor/5066TU4YHZU0lw1vJy3FEIOsMVM=/532x315:2048x1073/fit-in/1200x600/cdn.vox-cdn.com/uploads/chorus_asset/file/22650949/Arabica_DUMBO_Hot_Drink_and_View2.jpg', 'original_width': 1200, 'original_height': 600, 'is_product': False}, {'position': 64, 'thumbnail': 'https://encrypted-tbn0.gstatic.com/images?q=tbn:ANd9GcTlIajKYKikLoI8X2llT7dh81h2GplR7NytvA&usqp=CAU', 'related_content_id': 'TEUxeG8yZTgxaUR0Y01cIixcIkJFNE1VdzAyTFFNcEtN', 'serpapi_related_content_link': 'https://serpapi.com/search.json?engine=google_images_related_content&gl=us&hl=en&q=Coffee&related_content_id=TEUxeG8yZTgxaUR0Y01cIixcIkJFNE1VdzAyTFFNcEtN', 'source': 'Splenda', 'source_logo': 'https://encrypted-tbn2.gstatic.com/faviconV2?url=https://splenda.com&client=VFE&size=16&type=FAVICON&fallback_opts=TYPE,SIZE,URL&nfrp=2', 'title': 'Coffee Frappe Recipe | Zero Calorie Sweetener & Sugar Substitute | Splenda  Sweeteners', 'link': 'https://www.splenda.com/recipe/coffee-frappe/', 'tag': 'Recipe', 'original': 'https://www.splenda.com/wp-content/themes/bistrotheme/assets/recipe-images/coffee-frappe.jpg', 'original_width': 2000, 'original_height': 1000, 'is_product': False}, {'position': 65, 'thumbnail': 'https://encrypted-tbn0.gstatic.com/images?q=tbn:ANd9GcRh4NRxwgeC6ndJ7BCjdNhYp-J-6rv4T9hf7A&usqp=CAU', 'related_content_id': 'YTFZNGlvN21vQlI4TE1cIixcIjliQUZxMVEtekc1cFNN', 'serpapi_related_content_link': 'https://serpapi.com/search.json?engine=google_images_related_content&gl=us&hl=en&q=Coffee&related_content_id=YTFZNGlvN21vQlI4TE1cIixcIjliQUZxMVEtekc1cFNN', 'source': 'OSF HealthCare', 'source_logo': 'https://encrypted-tbn2.gstatic.com/faviconV2?url=https://osfhealthcare.org&client=VFE&size=16&type=FAVICON&fallback_opts=TYPE,SIZE,URL&nfrp=2', 'title': 'Coffee craze: the good and bad of coffee | OSF HealthCare', 'link': 'https://www.osfhealthcare.org/blog/coffee-craze-the-good-and-bad-of-coffee/', 'original': 'https://www.osfhealthcare.org/blog/wp-content/uploads/2022/04/shutterstock_2147822373-1.jpg', 'original_width': 1000, 'original_height': 622, 'is_product': False}, {'position': 66, 'thumbnail': 'https://encrypted-tbn0.gstatic.com/images?q=tbn:ANd9GcSN11_7jIDyTbEr0goQdjCqbNnAV1p6sbKf-w&usqp=CAU', 'related_content_id': 'QnpMbktkVWxkcEpDck1cIixcImJBbjEzY3QyeWtlWjVN', 'serpapi_related_content_link': 'https://serpapi.com/search.json?engine=google_images_related_content&gl=us&hl=en&q=Coffee&related_content_id=QnpMbktkVWxkcEpDck1cIixcImJBbjEzY3QyeWtlWjVN', 'source': 'MyRecipes', 'source_logo': 'https://encrypted-tbn2.gstatic.com/faviconV2?url=https://myrecipes.com&client=VFE&size=16&type=FAVICON&fallback_opts=TYPE,SIZE,URL&nfrp=2', 'title': 'Why Is Coffee Called Java? | MyRecipes', 'link': 'https://www.myrecipes.com/extracrispy/why-is-coffee-called-java', 'original': 'https://imagesvc.meredithcorp.io/v3/mm/image?q=60&c=sc&poi=face&w=2000&h=1000&url=https%3A%2F%2Fstatic.onecms.io%2Fwp-content%2Fuploads%2Fsites%2F19%2F2018%2F02%2F13%2Ffield-image-gettyimages-604221729-2000.jpg', 'original_width': 2000, 'original_height': 997, 'is_product': False}, {'position': 67, 'thumbnail': 'https://encrypted-tbn0.gstatic.com/images?q=tbn:ANd9GcSPf8-u0Ns6ZujSIiiYqVxwUUtqWX261125-Q&usqp=CAU', 'related_content_id': 'SGIxMFFkTnplMVBBM01cIixcIlF1T0w0c1hpdDVlNmRN', 'serpapi_related_content_link': 'https://serpapi.com/search.json?engine=google_images_related_content&gl=us&hl=en&q=Coffee&related_content_id=SGIxMFFkTnplMVBBM01cIixcIlF1T0w0c1hpdDVlNmRN', 'source': 'www.paramountcoffee.com', 'source_logo': 'https://encrypted-tbn2.gstatic.com/faviconV2?url=https://paramountcoffee.com&client=VFE&size=16&type=FAVICON&fallback_opts=TYPE,SIZE,URL&nfrp=2', 'title': 'Paramount Coffee - Roasting the Finest Coffee | Paramount Coffee', 'link': 'https://www.paramountcoffee.com/', 'original': 'https://paramountcoffee.com/pub/media/weltpixel/owlcarouselslider/images/b/a/banner3_1.jpg', 'original_width': 2560, 'original_height': 1706, 'is_product': False}, {'position': 68, 'thumbnail': 'https://encrypted-tbn0.gstatic.com/images?q=tbn:ANd9GcQzr6ZhjIkvpGi2BB02IwNlkGesGHfHE9l20w&usqp=CAU', 'related_content_id': 'YjJ5cFNBeDZLRzNqTU1cIixcIlh4Rms1YnhZd3AxRU1N', 'serpapi_related_content_link': 'https://serpapi.com/search.json?engine=google_images_related_content&gl=us&hl=en&q=Coffee&related_content_id=YjJ5cFNBeDZLRzNqTU1cIixcIlh4Rms1YnhZd3AxRU1N', 'source': 'AeroPress', 'source_logo': 'https://encrypted-tbn2.gstatic.com/faviconV2?url=https://aeropress.com&client=VFE&size=16&type=FAVICON&fallback_opts=TYPE,SIZE,URL&nfrp=2', 'title': 'Cuban Coffee - The Ultimate Cuban Coffee Recipe', 'link': 'https://aeropress.com/blogs/aeropress-recipes/cuban-coffee', 'tag': 'Recipe', 'original': 'https://aeropress.com/cdn/shop/articles/Cuban-coffee-cup-on-wooden-table_960x.jpg?v=1677542138', 'original_width': 960, 'original_height': 650, 'is_product': False}, {'position': 69, 'thumbnail': 'https://encrypted-tbn0.gstatic.com/images?q=tbn:ANd9GcRpErgvgifaWvVVsqYwJaatJb2xHCMKopBAcQ&usqp=CAU', 'related_content_id': 'WmVDQ1JUSVhfOW9yYU1cIixcIndmTW9JVDVPWVh5MzRN', 'serpapi_related_content_link': 'https://serpapi.com/search.json?engine=google_images_related_content&gl=us&hl=en&q=Coffee&related_content_id=WmVDQ1JUSVhfOW9yYU1cIixcIndmTW9JVDVPWVh5MzRN', 'source': 'The Spruce Eats', 'source_logo': 'https://encrypted-tbn2.gstatic.com/faviconV2?url=https://thespruceeats.com&client=VFE&size=16&type=FAVICON&fallback_opts=TYPE,SIZE,URL&nfrp=2', 'title': 'Turkish Coffee Recipe', 'link': 'https://www.thespruceeats.com/turkish-coffee-recipe-2355497', 'tag': 'Recipe', 'original': 'https://www.thespruceeats.com/thmb/LaB68uETOxcTJ0zwOVAcJv0fExA=/1500x0/filters:no_upscale():max_bytes(150000):strip_icc()/turkish-coffee-recipe-2355497-hero-02-b14bd83fe6114322af9d8040801e8391.jpg', 'original_width': 1500, 'original_height': 1000, 'is_product': False}, {'position': 70, 'thumbnail': 'https://encrypted-tbn0.gstatic.com/images?q=tbn:ANd9GcS80TyllJdXBqm9B_smiVSdPrQFlQcfroVbNA&usqp=CAU', 'related_content_id': 'NWE4c2lyNEFjMUVGZE1cIixcIk5aTTFDb0gtS3FHcXhN', 'serpapi_related_content_link': 'https://serpapi.com/search.json?engine=google_images_related_content&gl=us&hl=en&q=Coffee&related_content_id=NWE4c2lyNEFjMUVGZE1cIixcIk5aTTFDb0gtS3FHcXhN', 'source': 'The Dinner Bite', 'source_logo': 'https://encrypted-tbn2.gstatic.com/faviconV2?url=https://thedinnerbite.com&client=VFE&size=16&type=FAVICON&fallback_opts=TYPE,SIZE,URL&nfrp=2', 'title': 'Iced Coffee with Condensed Milk - The Dinner Bite', 'link': 'https://www.thedinnerbite.com/iced-coffee-with-condensed-milk/', 'tag': 'Recipe', 'original': 'https://www.thedinnerbite.com/wp-content/uploads/2021/04/iced-vietenames-coffee-img-5006-500x500.jpg', 'original_width': 500, 'original_height': 500, 'is_product': False}, {'position': 71, 'thumbnail': 'https://encrypted-tbn0.gstatic.com/images?q=tbn:ANd9GcQ8jNpOdCf4_JNAhPjzwMfOzHznHXH4Ilq4hw&usqp=CAU', 'related_content_id': 'ZVEweC1ndG1ZNEloRU1cIixcIkFNUy1ZVG5sSHllWlpN', 'serpapi_related_content_link': 'https://serpapi.com/search.json?engine=google_images_related_content&gl=us&hl=en&q=Coffee&related_content_id=ZVEweC1ndG1ZNEloRU1cIixcIkFNUy1ZVG5sSHllWlpN', 'source': 'The Woks of Life', 'source_logo': 'https://encrypted-tbn2.gstatic.com/faviconV2?url=https://thewoksoflife.com&client=VFE&size=16&type=FAVICON&fallback_opts=TYPE,SIZE,URL&nfrp=2', 'title': 'How to Make Vietnamese Coffee - The Woks of Life', 'link': 'https://thewoksoflife.com/how-to-make-vietnamese-coffee/', 'tag': 'Recipe', 'original': 'https://thewoksoflife.com/wp-content/uploads/2017/12/vietnamese-coffee-7.jpg', 'original_width': 600, 'original_height': 813, 'is_product': False}, {'position': 72, 'thumbnail': 'https://encrypted-tbn0.gstatic.com/images?q=tbn:ANd9GcRrGkvIBvamRvw8QX8mwOQLariXJrWxN9pAaA&usqp=CAU', 'related_content_id': 'ZE41ZUl1Z0JkZi0yQU1cIixcIkFsQXFMUW03ellfdFNN', 'serpapi_related_content_link': 'https://serpapi.com/search.json?engine=google_images_related_content&gl=us&hl=en&q=Coffee&related_content_id=ZE41ZUl1Z0JkZi0yQU1cIixcIkFsQXFMUW03ellfdFNN', 'source': 'The Bethel Collegian - Bethel College', 'source_logo': 'https://encrypted-tbn2.gstatic.com/faviconV2?url=https://collegian.bethelks.edu&client=VFE&size=16&type=FAVICON&fallback_opts=TYPE,SIZE,URL&nfrp=2', 'title': 'Must-try local coffee shops, ranked - by Becca Schlosser', 'link': 'https://collegian.bethelks.edu/p/must-try-local-coffee-shops-ranked', 'original': 'https://images.unsplash.com/photo-1509042239860-f550ce710b93?crop=entropy&cs=tinysrgb&fit=max&fm=jpg&ixid=MnwzMDAzMzh8MHwxfHNlYXJjaHwyfHxjb2ZmZWV8ZW58MHx8fHwxNjc1MTgxNzk2&ixlib=rb-4.0.3&q=80&w=1080', 'original_width': 1080, 'original_height': 1620, 'is_product': False}, {'position': 73, 'thumbnail': 'https://encrypted-tbn0.gstatic.com/images?q=tbn:ANd9GcQBK_d5Pv9LuYUNOn1cwktZVrItPkuhE3OGYw&usqp=CAU', 'related_content_id': 'VWRBM0d4Z2dBY3AtSU1cIixcImt5T1VYNE00V0pyZDNN', 'serpapi_related_content_link': 'https://serpapi.com/search.json?engine=google_images_related_content&gl=us&hl=en&q=Coffee&related_content_id=VWRBM0d4Z2dBY3AtSU1cIixcImt5T1VYNE00V0pyZDNN', 'source': 'Esquires Coffee', 'source_logo': 'https://encrypted-tbn2.gstatic.com/faviconV2?url=https://esquirescoffee.co.uk&client=VFE&size=16&type=FAVICON&fallback_opts=TYPE,SIZE,URL&nfrp=2', 'title': 'Decaf Vs Regular Coffee: Which is Better? | Esquires Coffee', 'link': 'https://esquirescoffee.co.uk/news/decaf-vs-regular-coffee/', 'original': 'https://esquirescoffee.co.uk/wp-content/uploads/2022/08/decaf-vs-reg-coffee-scaled.jpg', 'original_width': 2560, 'original_height': 1707, 'is_product': False}, {'position': 74, 'thumbnail': 'https://encrypted-tbn0.gstatic.com/images?q=tbn:ANd9GcSwnAUHKYQCcN8nItEZfHiow3ie5RAXcGmTrA&usqp=CAU', 'related_content_id': 'czRZQWx5NWpZWFg5Qk1cIixcIktOSTg2ZTlEcVE1VGRN', 'serpapi_related_content_link': 'https://serpapi.com/search.json?engine=google_images_related_content&gl=us&hl=en&q=Coffee&related_content_id=czRZQWx5NWpZWFg5Qk1cIixcIktOSTg2ZTlEcVE1VGRN', 'source': 'Starbucks', 'source_logo': 'https://encrypted-tbn2.gstatic.com/faviconV2?url=https://starbucks.com&client=VFE&size=16&type=FAVICON&fallback_opts=TYPE,SIZE,URL&nfrp=2', 'title': 'The Best Coffee from Starbucks Coffee: Starbucks Coffee Company', 'link': 'https://www.starbucks.com/coffee/', 'original': 'https://content-prod-live.cert.starbucks.com/binary/v2/asset/137-78073.jpg', 'original_width': 5000, 'original_height': 3111, 'is_product': False}, {'position': 75, 'thumbnail': 'https://encrypted-tbn0.gstatic.com/images?q=tbn:ANd9GcTc3YcgkuuGZygIlrOzpv5XTs_JBg-lB7nMPA&usqp=CAU', 'related_content_id': 'RkZUQXlZV0lsYTNGdU1cIixcIl9mbDZLZG93ZWZRbEZN', 'serpapi_related_content_link': 'https://serpapi.com/search.json?engine=google_images_related_content&gl=us&hl=en&q=Coffee&related_content_id=RkZUQXlZV0lsYTNGdU1cIixcIl9mbDZLZG93ZWZRbEZN', 'source': 'Allrecipes', 'source_logo': 'https://encrypted-tbn2.gstatic.com/faviconV2?url=https://allrecipes.com&client=VFE&size=16&type=FAVICON&fallback_opts=TYPE,SIZE,URL&nfrp=2', 'title': 'Different Types of Coffee, Roasts, and Drinks', 'link': 'https://www.allrecipes.com/article/types-of-coffee/', 'original': 'https://www.allrecipes.com/thmb/gk1cHP21-syS3M_dz1cr6DWxhfE=/1500x0/filters:no_upscale():max_bytes(150000):strip_icc()/GettyImages-1165807395-2000-28ea3eaf72f34ddaa97d9a54ca0c6025.jpg', 'original_width': 1500, 'original_height': 913, 'is_product': False}, {'position': 76, 'thumbnail': 'https://encrypted-tbn0.gstatic.com/images?q=tbn:ANd9GcSV5gFIXGc50GI0woVTt3-wyCZa8BxT1jBouw&usqp=CAU', 'related_content_id': 'd0hQbHBVNS1mMDRWNU1cIixcInlXclZLN1dRQVFLcDBN', 'serpapi_related_content_link': 'https://serpapi.com/search.json?engine=google_images_related_content&gl=us&hl=en&q=Coffee&related_content_id=d0hQbHBVNS1mMDRWNU1cIixcInlXclZLN1dRQVFLcDBN', 'source': 'Delish', 'source_logo': 'https://encrypted-tbn2.gstatic.com/faviconV2?url=https://delish.com&client=VFE&size=16&type=FAVICON&fallback_opts=TYPE,SIZE,URL&nfrp=2', 'title': 'Best Dalgona Coffee Recipe - How To Make Dalgona Coffee At Home', 'link': 'https://www.delish.com/cooking/recipe-ideas/a32072159/dalgona-coffee-recipe/', 'tag': '1:21', 'original': 'https://hips.hearstapps.com/hmg-prod/images/del030121chapter4openeredited-001-1614368530.jpg?crop=1xw:0.7377049180327869xh;center,top', 'original_width': 2000, 'original_height': 1125, 'is_product': False}, {'position': 77, 'thumbnail': 'https://encrypted-tbn0.gstatic.com/images?q=tbn:ANd9GcS0D9ESJVMQ8JL1vZW4ntqapkxDkV2UuZ_ZMQ&usqp=CAU', 'related_content_id': 'TEtGVUhfRmY4R0Y0Z01cIixcInhxX2VBMTJnbWh2ZUZN', 'serpapi_related_content_link': 'https://serpapi.com/search.json?engine=google_images_related_content&gl=us&hl=en&q=Coffee&related_content_id=TEtGVUhfRmY4R0Y0Z01cIixcInhxX2VBMTJnbWh2ZUZN', 'source': 'Food Network', 'source_logo': 'https://encrypted-tbn2.gstatic.com/faviconV2?url=https://foodnetwork.com&client=VFE&size=16&type=FAVICON&fallback_opts=TYPE,SIZE,URL&nfrp=2', 'title': 'How Much Caffeine Is In a Cup of Coffee? | Cooking School | Food Network', 'link': 'https://www.foodnetwork.com/how-to/packages/food-network-essentials/how-much-caffeine-in-a-cup-of-coffee', 'original': 'https://food.fnr.sndimg.com/content/dam/images/food/fullset/2022/03/30/ovehead-cup-of-coffee-with-milk.jpg.rend.hgtvcom.616.462.suffix/1648675206726.jpeg', 'original_width': 616, 'original_height': 462, 'is_product': False}, {'position': 78, 'thumbnail': 'https://encrypted-tbn0.gstatic.com/images?q=tbn:ANd9GcQmzh6BkQ3EDWjIMn-UKnc_SU3Fo-8A6LRGFA&usqp=CAU', 'related_content_id': 'eXcxcDZEWGd0QVFpQU1cIixcIlp1aDBuQkZHbklLZXNN', 'serpapi_related_content_link': 'https://serpapi.com/search.json?engine=google_images_related_content&gl=us&hl=en&q=Coffee&related_content_id=eXcxcDZEWGd0QVFpQU1cIixcIlp1aDBuQkZHbklLZXNN', 'source': 'Simply Recipes', 'source_logo': 'https://encrypted-tbn2.gstatic.com/faviconV2?url=https://simplyrecipes.com&client=VFE&size=16&type=FAVICON&fallback_opts=TYPE,SIZE,URL&nfrp=2', 'title': 'How To Make French Press Coffee', 'link': 'https://www.simplyrecipes.com/how-to-make-french-press-coffee-7091083', 'tag': 'Recipe', 'original': 'https://www.simplyrecipes.com/thmb/-1_A4n4o2opYoMKlZhhUHzWbaOY=/1500x0/filters:no_upscale():max_bytes(150000):strip_icc()/Simply-Recipes-French-Press-Coffee-LEAD-01-8191c118bd70497b8c6d95e1046470e5.jpg', 'original_width': 1500, 'original_height': 2250, 'is_product': False}, {'position': 79, 'thumbnail': 'https://encrypted-tbn0.gstatic.com/images?q=tbn:ANd9GcQSNw7oOeCCCIv_D1ok78I61XqgUl1ZU_S2DA&usqp=CAU', 'related_content_id': 'QjZMV1Q5aE10dG0tZU1cIixcIi03SnVMNUZTMFQ3VThN', 'serpapi_related_content_link': 'https://serpapi.com/search.json?engine=google_images_related_content&gl=us&hl=en&q=Coffee&related_content_id=QjZMV1Q5aE10dG0tZU1cIixcIi03SnVMNUZTMFQ3VThN', 'source': 'Food & Wine', 'source_logo': 'https://encrypted-tbn2.gstatic.com/faviconV2?url=https://foodandwine.com&client=VFE&size=16&type=FAVICON&fallback_opts=TYPE,SIZE,URL&nfrp=2', 'title': 'What Is a Latte?', 'link': 'https://www.foodandwine.com/how-to-make-a-latte-7096050', 'original': 'https://www.foodandwine.com/thmb/CCe2JUHfjCQ44L0YTbCu97ukUzA=/1500x0/filters:no_upscale():max_bytes(150000):strip_icc()/Partners-Latte-FT-BLOG0523-09569880de524fe487831d95184495cc.jpg', 'original_width': 1500, 'original_height': 1000, 'is_product': False}, {'position': 80, 'thumbnail': 'https://encrypted-tbn0.gstatic.com/images?q=tbn:ANd9GcTv4ETa_KAWzToVaXofQ2u1l0Lwi161PKBlPA&usqp=CAU', 'related_content_id': 'Z3NySHYwWjdVdGRRMk1cIixcIm8wREs2OU5iZVFMQzhN', 'serpapi_related_content_link': 'https://serpapi.com/search.json?engine=google_images_related_content&gl=us&hl=en&q=Coffee&related_content_id=Z3NySHYwWjdVdGRRMk1cIixcIm8wREs2OU5iZVFMQzhN', 'source': 'Food Insight', 'source_logo': 'https://encrypted-tbn2.gstatic.com/faviconV2?url=https://foodinsight.org&client=VFE&size=16&type=FAVICON&fallback_opts=TYPE,SIZE,URL&nfrp=2', 'title': 'Coffee Here, Coffee There, Coffee Drinks Everywhere – Food Insight', 'link': 'https://foodinsight.org/coffee-here-coffee-there-coffee-drinks-everywhere/', 'original': 'https://foodinsight.org/wp-content/uploads/2016/10/coffee-based-drinks.jpg', 'original_width': 1024, 'original_height': 570, 'is_product': False}, {'position': 81, 'thumbnail': 'https://encrypted-tbn0.gstatic.com/images?q=tbn:ANd9GcRu36uUQwxIq6sbvl8eHoOF7EeHyAgWJ-XsMg&usqp=CAU', 'related_content_id': 'eTJUQ2lDNHgyRlAtak1cIixcIlR0SVY0V0E1Vk5kdTNN', 'serpapi_related_content_link': 'https://serpapi.com/search.json?engine=google_images_related_content&gl=us&hl=en&q=Coffee&related_content_id=eTJUQ2lDNHgyRlAtak1cIixcIlR0SVY0V0E1Vk5kdTNN', 'source': 'bluebottlecoffee.com', 'source_logo': 'https://encrypted-tbn2.gstatic.com/faviconV2?url=https://bluebottlecoffee.com&client=VFE&size=16&type=FAVICON&fallback_opts=TYPE,SIZE,URL&nfrp=2', 'title': 'Whole Bean Coffee | Blue Bottle Coffee', 'link': 'https://bluebottlecoffee.com/', 'original': 'http://res.cloudinary.com/hbhhv9rz9/image/upload/v1665775114/Seoul-Ceramic-Mug-Square_cym0nq.jpg', 'original_width': 1000, 'original_height': 1000, 'is_product': False}, {'position': 82, 'thumbnail': 'https://encrypted-tbn0.gstatic.com/images?q=tbn:ANd9GcR-Ammc5RIPfFgPG31JtmEVyGTR5j825txdhA&usqp=CAU', 'related_content_id': 'aDk3TENiRnhuTmRnY01cIixcIlloNWhvd21CQ3lFQUhN', 'serpapi_related_content_link': 'https://serpapi.com/search.json?engine=google_images_related_content&gl=us&hl=en&q=Coffee&related_content_id=aDk3TENiRnhuTmRnY01cIixcIlloNWhvd21CQ3lFQUhN', 'source': 'Isabel Eats', 'source_logo': 'https://encrypted-tbn2.gstatic.com/faviconV2?url=https://isabeleats.com&client=VFE&size=16&type=FAVICON&fallback_opts=TYPE,SIZE,URL&nfrp=2', 'title': 'Café de Olla {Traditional Mexican Coffee} - Isabel Eats', 'link': 'https://www.isabeleats.com/cafe-de-olla/', 'tag': 'Recipe', 'original': 'https://www.isabeleats.com/wp-content/uploads/2020/06/cafe-de-olla-small-5.jpg', 'original_width': 1200, 'original_height': 1800, 'is_product': False}, {'position': 83, 'thumbnail': 'https://encrypted-tbn0.gstatic.com/images?q=tbn:ANd9GcTcVM1DYxuuBBBKQTAnX_AB13Q453SAFr_kQw&usqp=CAU', 'related_content_id': 'YVI0aUdwTTI1S3c5bk1cIixcIlZ3eE1ZQ1JXWGdoZ01N', 'serpapi_related_content_link': 'https://serpapi.com/search.json?engine=google_images_related_content&gl=us&hl=en&q=Coffee&related_content_id=YVI0aUdwTTI1S3c5bk1cIixcIlZ3eE1ZQ1JXWGdoZ01N', 'source': 'Epicurious', 'source_logo': 'https://encrypted-tbn2.gstatic.com/faviconV2?url=https://epicurious.com&client=VFE&size=16&type=FAVICON&fallback_opts=TYPE,SIZE,URL&nfrp=2', 'title': 'The Coffee Lingo You Need to Find Your New Favorite Beans | Epicurious', 'link': 'https://www.epicurious.com/expert-advice/coffee-bean-terms', 'original': 'https://assets.epicurious.com/photos/63e54a0664e14d52936a2937/3:2/w_4998,h_3332,c_limit/CoffeeSubscriptions_IG_V1_030922_6350_V1_final.jpg', 'original_width': 4998, 'original_height': 3332, 'is_product': False}, {'position': 84, 'thumbnail': 'https://encrypted-tbn0.gstatic.com/images?q=tbn:ANd9GcRYRVp4BV5nw6JWVmnaySAfFGn_bGXpxsaLrg&usqp=CAU', 'related_content_id': 'QkZfQzZ1dlNNbkFlRk1cIixcIm1tODdtVThsMVZ3NmpN', 'serpapi_related_content_link': 'https://serpapi.com/search.json?engine=google_images_related_content&gl=us&hl=en&q=Coffee&related_content_id=QkZfQzZ1dlNNbkFlRk1cIixcIm1tODdtVThsMVZ3NmpN', 'source': 'Bake with Shivesh', 'source_logo': 'https://encrypted-tbn2.gstatic.com/faviconV2?url=https://bakewithshivesh.com&client=VFE&size=16&type=FAVICON&fallback_opts=TYPE,SIZE,URL&nfrp=2', 'title': '3 CAFE STYLE HOT COFFEES AT HOME - Bake with Shivesh', 'link': 'https://bakewithshivesh.com/3-cafe-style-hot-coffees-at-home/', 'tag': 'Recipe', 'original': 'https://bakewithshivesh.com/wp-content/uploads/2022/01/IMG_4991-scaled.jpg', 'original_width': 2048, 'original_height': 2560, 'is_product': False}, {'position': 85, 'thumbnail': 'https://encrypted-tbn0.gstatic.com/images?q=tbn:ANd9GcQ6XMWAATE-MXpVUBavCyMmzcuQbeyg3WJdtQ&usqp=CAU', 'related_content_id': 'ZzBVb2NweWxTT3gtZk1cIixcIk9uZVRzRzE1Y1F1MHRN', 'serpapi_related_content_link': 'https://serpapi.com/search.json?engine=google_images_related_content&gl=us&hl=en&q=Coffee&related_content_id=ZzBVb2NweWxTT3gtZk1cIixcIk9uZVRzRzE1Y1F1MHRN', 'source': 'The Cookie Rookie', 'source_logo': 'https://encrypted-tbn2.gstatic.com/faviconV2?url=https://thecookierookie.com&client=VFE&size=16&type=FAVICON&fallback_opts=TYPE,SIZE,URL&nfrp=2', 'title': 'Bulletproof Coffee How to Recipe - The Cookie Rookie®', 'link': 'https://www.thecookierookie.com/bulletproof-coffee-recipe/', 'tag': 'Recipe', 'original': 'https://www.thecookierookie.com/wp-content/uploads/2018/07/bulletproof-coffee-recipe-5-of-9-500x375.jpg', 'original_width': 500, 'original_height': 375, 'is_product': False}, {'position': 86, 'thumbnail': 'https://encrypted-tbn0.gstatic.com/images?q=tbn:ANd9GcS5svLwjbu8bEi3nxOnpnV5_vDWY-QpjPOI8A&usqp=CAU', 'related_content_id': 'THcwYkw4VlA2d2NiYU1cIixcIkQ2c2RwSzdLSXNDZkJN', 'serpapi_related_content_link': 'https://serpapi.com/search.json?engine=google_images_related_content&gl=us&hl=en&q=Coffee&related_content_id=THcwYkw4VlA2d2NiYU1cIixcIkQ2c2RwSzdLSXNDZkJN', 'source': 'cometeer.com', 'source_logo': 'https://encrypted-tbn2.gstatic.com/faviconV2?url=https://cometeer.com&client=VFE&size=16&type=FAVICON&fallback_opts=TYPE,SIZE,URL&nfrp=2', 'title': \"Earth's First Hyper Fresh Coffee Capsules - Cometeer\", 'link': 'https://cometeer.com/', 'original': 'https://cdn.sanity.io/images/824g53x8/production/20a8630c4a0ade81e456df1984d4e54ff8634d0a-7438x7438.png?auto=format&w=700&q=70&fm=png&h=700', 'original_width': 700, 'original_height': 700, 'is_product': False}, {'position': 87, 'thumbnail': 'https://encrypted-tbn0.gstatic.com/images?q=tbn:ANd9GcQ1Y0G9zlog3xS1mobz-3NGlDbNnDXNtDMGrg&usqp=CAU', 'related_content_id': 'a2pnM1VwLWtfWUxHVE1cIixcIjdSeERNWEZRekw4U3dN', 'serpapi_related_content_link': 'https://serpapi.com/search.json?engine=google_images_related_content&gl=us&hl=en&q=Coffee&related_content_id=a2pnM1VwLWtfWUxHVE1cIixcIjdSeERNWEZRekw4U3dN', 'source': 'NutritionFacts.org', 'source_logo': 'https://encrypted-tbn2.gstatic.com/faviconV2?url=https://nutritionfacts.org&client=VFE&size=16&type=FAVICON&fallback_opts=TYPE,SIZE,URL&nfrp=2', 'title': 'coffee | Health Topics | NutritionFacts.org', 'link': 'https://nutritionfacts.org/topics/coffee/', 'original': 'https://nutritionfacts.org/app/uploads/2022/06/coffee.jpg', 'original_width': 500, 'original_height': 500, 'is_product': False}, {'position': 88, 'thumbnail': 'https://encrypted-tbn0.gstatic.com/images?q=tbn:ANd9GcSqrb93v-Kx_YJnZANXJcRhUSCsuH3HiOfoGQ&usqp=CAU', 'related_content_id': 'NkxaOFNvQnpFSThGQU1cIixcIk5vMnJKd3NnbERvRHNN', 'serpapi_related_content_link': 'https://serpapi.com/search.json?engine=google_images_related_content&gl=us&hl=en&q=Coffee&related_content_id=NkxaOFNvQnpFSThGQU1cIixcIk5vMnJKd3NnbERvRHNN', 'source': 'The Spruce Eats', 'source_logo': 'https://encrypted-tbn2.gstatic.com/faviconV2?url=https://thespruceeats.com&client=VFE&size=16&type=FAVICON&fallback_opts=TYPE,SIZE,URL&nfrp=2', 'title': 'How to Make the Perfect Cappuccino Recipe', 'link': 'https://www.thespruceeats.com/how-to-make-cappuccinos-766116', 'tag': 'Recipe', 'original': 'https://www.thespruceeats.com/thmb/oUxhx54zsjVWfPlrgedJU0MZ-y0=/1500x0/filters:no_upscale():max_bytes(150000):strip_icc()/how-to-make-cappuccinos-766116-hero-01-a754d567739b4ee0b209305138ecb996.jpg', 'original_width': 1500, 'original_height': 1000, 'is_product': False}, {'position': 89, 'thumbnail': 'https://encrypted-tbn0.gstatic.com/images?q=tbn:ANd9GcTHmKm--uxzvFRHfIk-1SBm0ZM_4m-QOhgWTw&usqp=CAU', 'related_content_id': 'TnQxcUdQUHRMXy1CMU1cIixcInAwOVJxeWNfR2dqSzBN', 'serpapi_related_content_link': 'https://serpapi.com/search.json?engine=google_images_related_content&gl=us&hl=en&q=Coffee&related_content_id=TnQxcUdQUHRMXy1CMU1cIixcInAwOVJxeWNfR2dqSzBN', 'source': 'Homegrounds', 'source_logo': 'https://encrypted-tbn2.gstatic.com/faviconV2?url=https://homegrounds.co&client=VFE&size=16&type=FAVICON&fallback_opts=TYPE,SIZE,URL&nfrp=2', 'title': 'How to Make Greek Coffee (a simple recipe + cultural tips)', 'link': 'https://www.homegrounds.co/uk/how-to-make-greek-coffee/', 'tag': 'Recipe', 'original': 'https://www.homegrounds.co/wp-content/uploads/2023/04/GREEK_COFFEE.jpg', 'original_width': 819, 'original_height': 675, 'is_product': False}, {'position': 90, 'thumbnail': 'https://encrypted-tbn0.gstatic.com/images?q=tbn:ANd9GcR_FEdm_KYGsChtVCCDSbO59817YNNKO1weWg&usqp=CAU', 'related_content_id': 'aVEyX3Zseno4dldadE1cIixcIk1lNTJxZVVHR09LN29N', 'serpapi_related_content_link': 'https://serpapi.com/search.json?engine=google_images_related_content&gl=us&hl=en&q=Coffee&related_content_id=aVEyX3Zseno4dldadE1cIixcIk1lNTJxZVVHR09LN29N', 'source': 'The New York Times', 'source_logo': 'https://encrypted-tbn2.gstatic.com/faviconV2?url=https://nytimes.com&client=VFE&size=16&type=FAVICON&fallback_opts=TYPE,SIZE,URL&nfrp=2', 'title': 'Is It Bad to Drink Coffee on an Empty Stomach? - The New York Times', 'link': 'https://www.nytimes.com/2023/01/17/well/eat/coffee-empty-stomach.html', 'original': 'https://static01.nyt.com/images/2023/01/24/multimedia/17ASKWELL-COFFEE-STOMACH2-mkqt/17ASKWELL-COFFEE-STOMACH2-mkqt-superJumbo.jpg', 'original_width': 1536, 'original_height': 2048, 'is_product': False}, {'position': 91, 'thumbnail': 'https://encrypted-tbn0.gstatic.com/images?q=tbn:ANd9GcREIt1PV64T3bAnUb6FmKJq_G79AST_0wKutw&usqp=CAU', 'related_content_id': 'Z01yb3o2UUlFTFhkdU1cIixcIm8tU3FRb1FjNENWc25N', 'serpapi_related_content_link': 'https://serpapi.com/search.json?engine=google_images_related_content&gl=us&hl=en&q=Coffee&related_content_id=Z01yb3o2UUlFTFhkdU1cIixcIm8tU3FRb1FjNENWc25N', 'source': 'A Couple Cooks', 'source_logo': 'https://encrypted-tbn2.gstatic.com/faviconV2?url=https://acouplecooks.com&client=VFE&size=16&type=FAVICON&fallback_opts=TYPE,SIZE,URL&nfrp=2', 'title': 'How to Make a Latte (Cafe Latte) – A Couple Cooks', 'link': 'https://www.acouplecooks.com/how-to-make-a-latte/', 'tag': 'Recipe', 'original': 'https://www.acouplecooks.com/wp-content/uploads/2020/09/Latte-Art-067s.jpg', 'original_width': 775, 'original_height': 775, 'is_product': False}, {'position': 92, 'thumbnail': 'https://encrypted-tbn0.gstatic.com/images?q=tbn:ANd9GcTyLgl6_k1L9K1R_gzL-svQa7qhZHJyZySlHw&usqp=CAU', 'related_content_id': 'd1FGb0pBUHpsU00tOU1cIixcIkdqWDQ2OEJZMXJmMU1N', 'serpapi_related_content_link': 'https://serpapi.com/search.json?engine=google_images_related_content&gl=us&hl=en&q=Coffee&related_content_id=d1FGb0pBUHpsU00tOU1cIixcIkdqWDQ2OEJZMXJmMU1N', 'source': 'Healthline', 'source_logo': 'https://encrypted-tbn2.gstatic.com/faviconV2?url=https://healthline.com&client=VFE&size=16&type=FAVICON&fallback_opts=TYPE,SIZE,URL&nfrp=2', 'title': 'Black Coffee: Benefits, Nutrition, and More', 'link': 'https://www.healthline.com/nutrition/black-coffee', 'original': 'https://media.post.rvohealth.io/wp-content/uploads/2021/10/benefits-drinking-black-coffee-cups-1200x628-facebook-1200x628.jpg', 'original_width': 1200, 'original_height': 628, 'is_product': False}, {'position': 93, 'thumbnail': 'https://encrypted-tbn0.gstatic.com/images?q=tbn:ANd9GcQGY7USdI-ZJQnseRf7mV0WHBSQz07M4ghP2w&usqp=CAU', 'related_content_id': 'LWE1clpMSUk3Y19NRE1cIixcIlZzNS0tWnhwa3pvbVpN', 'serpapi_related_content_link': 'https://serpapi.com/search.json?engine=google_images_related_content&gl=us&hl=en&q=Coffee&related_content_id=LWE1clpMSUk3Y19NRE1cIixcIlZzNS0tWnhwa3pvbVpN', 'source': 'Cooking Classy', 'source_logo': 'https://encrypted-tbn2.gstatic.com/faviconV2?url=https://cookingclassy.com&client=VFE&size=16&type=FAVICON&fallback_opts=TYPE,SIZE,URL&nfrp=2', 'title': 'Iced Coffee - Cooking Classy', 'link': 'https://www.cookingclassy.com/iced-coffee/', 'tag': 'Recipe', 'original': 'https://www.cookingclassy.com/wp-content/uploads/2022/07/iced-coffee-05.jpg', 'original_width': 1200, 'original_height': 1800, 'is_product': False}, {'position': 94, 'thumbnail': 'https://encrypted-tbn0.gstatic.com/images?q=tbn:ANd9GcSGtHLABKLTjp-USO1rPPfy4T57wYPqlv7kMw&usqp=CAU', 'related_content_id': 'MzdKeTUxbzB2OVZKdE1cIixcIjJTaUxMTjhldGhvNkFN', 'serpapi_related_content_link': 'https://serpapi.com/search.json?engine=google_images_related_content&gl=us&hl=en&q=Coffee&related_content_id=MzdKeTUxbzB2OVZKdE1cIixcIjJTaUxMTjhldGhvNkFN', 'source': 'The Pioneer Woman', 'source_logo': 'https://encrypted-tbn2.gstatic.com/faviconV2?url=https://thepioneerwoman.com&client=VFE&size=16&type=FAVICON&fallback_opts=TYPE,SIZE,URL&nfrp=2', 'title': 'Best Iced Coffee Recipe - How to Make Perfect Iced Coffee at Home', 'link': 'https://www.thepioneerwoman.com/food-cooking/recipes/a11061/perfect-iced-coffee/', 'tag': 'Recipe', 'original': 'https://hips.hearstapps.com/hmg-prod/images/iced-coffee-1597680350.jpg?crop=1xw:0.6543868153174988xh;center,top', 'original_width': 2400, 'original_height': 1350, 'is_product': False}, {'position': 95, 'thumbnail': 'https://encrypted-tbn0.gstatic.com/images?q=tbn:ANd9GcQeGOfMiOYjvTNlk6x6VgLopCQ4ezw-LzlHOQ&usqp=CAU', 'related_content_id': 'MmY4T3I0RzFJUmQyOE1cIixcInZUeVBkVlBZMTNDMzRN', 'serpapi_related_content_link': 'https://serpapi.com/search.json?engine=google_images_related_content&gl=us&hl=en&q=Coffee&related_content_id=MmY4T3I0RzFJUmQyOE1cIixcInZUeVBkVlBZMTNDMzRN', 'source': 'BBC', 'source_logo': 'https://encrypted-tbn2.gstatic.com/faviconV2?url=https://bbc.com&client=VFE&size=16&type=FAVICON&fallback_opts=TYPE,SIZE,URL&nfrp=2', 'title': 'Starbucks launches olive oil coffee drinks in Italy - BBC News', 'link': 'https://www.bbc.com/news/business-64727626', 'original': 'https://ichef.bbci.co.uk/news/976/cpsprodpb/D2B4/production/_128704935_20230221-starbucks-oleato-golden-cold-foam-handoff.jpg', 'original_width': 976, 'original_height': 549, 'is_product': False}, {'position': 96, 'thumbnail': 'https://encrypted-tbn0.gstatic.com/images?q=tbn:ANd9GcQTgXdu_A9RgmhERKJQPWgR7jtFRmNv5b-nFw&usqp=CAU', 'related_content_id': 'ZVhpZ2RYNWxYcjM0MU1cIixcIkxhNnNwMmlzMDJFN3hN', 'serpapi_related_content_link': 'https://serpapi.com/search.json?engine=google_images_related_content&gl=us&hl=en&q=Coffee&related_content_id=ZVhpZ2RYNWxYcjM0MU1cIixcIkxhNnNwMmlzMDJFN3hN', 'source': 'PBS', 'source_logo': 'https://encrypted-tbn2.gstatic.com/faviconV2?url=https://pbs.org&client=VFE&size=16&type=FAVICON&fallback_opts=TYPE,SIZE,URL&nfrp=2', 'title': 'History of Coffee | The History Kitchen | PBS Food', 'link': 'https://www.pbs.org/food/the-history-kitchen/history-coffee/', 'original': 'https://www.pbs.org/food/wp-content/blogs.dir/2/files/2013/04/history-coffee640x360.jpg', 'original_width': 640, 'original_height': 360, 'is_product': False}, {'position': 97, 'thumbnail': 'https://encrypted-tbn0.gstatic.com/images?q=tbn:ANd9GcSX_ltUJgHAX85fTaZrqagXRH9U-EtJBMBNfw&usqp=CAU', 'related_content_id': 'UVp0bTZCLTdWNEZ1U01cIixcIjZ0TDBUSXRSTUpla1dN', 'serpapi_related_content_link': 'https://serpapi.com/search.json?engine=google_images_related_content&gl=us&hl=en&q=Coffee&related_content_id=UVp0bTZCLTdWNEZ1U01cIixcIjZ0TDBUSXRSTUpla1dN', 'source': \"Reader's Digest\", 'source_logo': 'https://encrypted-tbn2.gstatic.com/faviconV2?url=https://rd.com&client=VFE&size=16&type=FAVICON&fallback_opts=TYPE,SIZE,URL&nfrp=2', 'title': 'How Much Caffeine Is in a Cup a Coffee: By Chains and Brewing Methods |  Trusted Since 1922', 'link': 'https://www.rd.com/article/how-much-caffeine-is-in-coffee/', 'original': 'https://www.rd.com/wp-content/uploads/2022/03/GettyImages-626920549.jpg?fit=700%2C1024', 'original_width': 700, 'original_height': 473, 'is_product': False}, {'position': 98, 'thumbnail': 'https://encrypted-tbn0.gstatic.com/images?q=tbn:ANd9GcT_tf1Bkwt-S-ly9YWrwRwsDqPaeuFSOsDwGg&usqp=CAU', 'related_content_id': 'bXB0N21lWlVtUnVmVE1cIixcIkhZejZxVlJxbDFrbEZN', 'serpapi_related_content_link': 'https://serpapi.com/search.json?engine=google_images_related_content&gl=us&hl=en&q=Coffee&related_content_id=bXB0N21lWlVtUnVmVE1cIixcIkhZejZxVlJxbDFrbEZN', 'source': 'With Spice', 'source_logo': 'https://encrypted-tbn2.gstatic.com/faviconV2?url=https://withspice.com&client=VFE&size=16&type=FAVICON&fallback_opts=TYPE,SIZE,URL&nfrp=2', 'title': 'spanish coffee recipe | With Spice', 'link': 'https://www.withspice.com/blog/spanish-coffee/', 'tag': 'Recipe', 'original': 'https://www.withspice.com/wp-content/uploads/2022/02/spanish-coffee-with-dark-rum.jpg', 'original_width': 1000, 'original_height': 1500, 'is_product': False}, {'position': 99, 'thumbnail': 'https://encrypted-tbn0.gstatic.com/images?q=tbn:ANd9GcSpTDToHx9VL8x8cXALhySYSeAFpsWfwGPrfA&usqp=CAU', 'related_content_id': 'QWtEakk5dnlsYWF1Tk1cIixcIkNwYnpWblpqdm9rd0tN', 'serpapi_related_content_link': 'https://serpapi.com/search.json?engine=google_images_related_content&gl=us&hl=en&q=Coffee&related_content_id=QWtEakk5dnlsYWF1Tk1cIixcIkNwYnpWblpqdm9rd0tN', 'source': 'SouthSoundTalk', 'source_logo': 'https://encrypted-tbn2.gstatic.com/faviconV2?url=https://southsoundtalk.com&client=VFE&size=16&type=FAVICON&fallback_opts=TYPE,SIZE,URL&nfrp=2', 'title': 'Where to Sip Some Delicious Coffee in Tacoma - SouthSoundTalk', 'link': 'https://www.southsoundtalk.com/2019/11/25/where-to-sip-some-delicious-coffee-in-tacoma/', 'original': 'https://www.southsoundtalk.com/wp-content/uploads/2019/11/Coffee-ander-Latte-e1573143205948.jpg', 'original_width': 1485, 'original_height': 1165, 'is_product': False}, {'position': 100, 'thumbnail': 'https://encrypted-tbn0.gstatic.com/images?q=tbn:ANd9GcQfV4EIjJUN4SRorMHDc55dGfJneohJwSfeaw&usqp=CAU', 'related_content_id': 'WDczaHRqUnBhR0hqQU1cIixcIlJJVDlZMVpWeGh3b3JN', 'serpapi_related_content_link': 'https://serpapi.com/search.json?engine=google_images_related_content&gl=us&hl=en&q=Coffee&related_content_id=WDczaHRqUnBhR0hqQU1cIixcIlJJVDlZMVpWeGh3b3JN', 'source': 'UCLA Health', 'source_logo': 'https://encrypted-tbn2.gstatic.com/faviconV2?url=https://uclahealth.org&client=VFE&size=16&type=FAVICON&fallback_opts=TYPE,SIZE,URL&nfrp=2', 'title': 'Should you switch to mushroom coffee? | UCLA Health', 'link': 'https://www.uclahealth.org/news/should-you-switch-mushroom-coffee', 'original': 'https://www.uclahealth.org/sites/default/files/styles/landscape_3x2_016000_640x427/public/images/c8/green-cup-and-mushrooms.jpg?f=5dc6346c&itok=KURD-nwV', 'original_width': 640, 'original_height': 427, 'is_product': False}], 'related_searches': [{'link': 'https://www.google.com/search?q=cup+coffee&tbm=isch&hl=en&gl=us&sa=X&ved=2ahUKEwjosOLqwciBAxVQM1kFHeUrB3AQrNwCKAB6BQgBEKsB', 'serpapi_link': 'https://serpapi.com/search.json?device=desktop&engine=google_images&gl=us&google_domain=google.com&hl=en&location=Austin%2C+TX%2C+Texas%2C+United+States&q=cup+coffee', 'query': 'cup coffee', 'highlighted_words': ['cup'], 'thumbnail': 'https://encrypted-tbn0.gstatic.com/images?q=tbn:ANd9GcTF9Vqu3XCsIjSdoiHdUrhZrbWU28TDy16DG1FBu5kbMeDx4IP3UohNW6k&usqp=CAU'}, {'link': 'https://www.google.com/search?q=cafe+coffee&tbm=isch&hl=en&gl=us&sa=X&ved=2ahUKEwjosOLqwciBAxVQM1kFHeUrB3AQrNwCKAB6BQgBEK0B', 'serpapi_link': 'https://serpapi.com/search.json?device=desktop&engine=google_images&gl=us&google_domain=google.com&hl=en&location=Austin%2C+TX%2C+Texas%2C+United+States&q=cafe+coffee', 'query': 'cafe coffee', 'highlighted_words': ['cafe'], 'thumbnail': 'https://encrypted-tbn0.gstatic.com/images?q=tbn:ANd9GcS_yAM1D3rhGwOB4nISsvlQg7zuQHUEqdaFjWqg8NHmPo6DyqTIkkck0v8&usqp=CAU'}, {'link': 'https://www.google.com/search?q=wallpaper+coffee&tbm=isch&hl=en&gl=us&sa=X&ved=2ahUKEwjosOLqwciBAxVQM1kFHeUrB3AQrNwCKAB6BQgBEK8B', 'serpapi_link': 'https://serpapi.com/search.json?device=desktop&engine=google_images&gl=us&google_domain=google.com&hl=en&location=Austin%2C+TX%2C+Texas%2C+United+States&q=wallpaper+coffee', 'query': 'wallpaper coffee', 'highlighted_words': ['wallpaper'], 'thumbnail': 'https://encrypted-tbn0.gstatic.com/images?q=tbn:ANd9GcTERIsAh3c4OIeTZu49nPSjPUxh3hYGIe3_KL0udALGjySmrhhUd9OwGH0&usqp=CAU'}, {'link': 'https://www.google.com/search?q=clip+art+coffee&tbm=isch&hl=en&gl=us&sa=X&ved=2ahUKEwjosOLqwciBAxVQM1kFHeUrB3AQrNwCKAB6BQgBEOYB', 'serpapi_link': 'https://serpapi.com/search.json?device=desktop&engine=google_images&gl=us&google_domain=google.com&hl=en&location=Austin%2C+TX%2C+Texas%2C+United+States&q=clip+art+coffee', 'query': 'clip art coffee', 'highlighted_words': ['clip art'], 'thumbnail': 'https://encrypted-tbn0.gstatic.com/images?q=tbn:ANd9GcSUZ1eGjBc0IwJ_uwhgb9plx-tkTeiE3obZmoQJVrKWGL63DQcAYktP360&usqp=CAU'}, {'link': 'https://www.google.com/search?q=coffee+to+go&tbm=isch&hl=en&gl=us&sa=X&ved=2ahUKEwjosOLqwciBAxVQM1kFHeUrB3AQrNwCKAB6BQgBEOgB', 'serpapi_link': 'https://serpapi.com/search.json?device=desktop&engine=google_images&gl=us&google_domain=google.com&hl=en&location=Austin%2C+TX%2C+Texas%2C+United+States&q=coffee+to+go', 'query': 'coffee to go', 'highlighted_words': ['to go'], 'thumbnail': 'https://encrypted-tbn0.gstatic.com/images?q=tbn:ANd9GcQwoGGc0QeVHjuExXIOk_eKXB29rfiNetynuTXCSpdzJnTWrunDc4qApM8&usqp=CAU'}, {'link': 'https://www.google.com/search?q=latte+coffee&tbm=isch&hl=en&gl=us&sa=X&ved=2ahUKEwjosOLqwciBAxVQM1kFHeUrB3AQrNwCKAB6BQgBEOoB', 'serpapi_link': 'https://serpapi.com/search.json?device=desktop&engine=google_images&gl=us&google_domain=google.com&hl=en&location=Austin%2C+TX%2C+Texas%2C+United+States&q=latte+coffee', 'query': 'latte coffee', 'highlighted_words': ['latte'], 'thumbnail': 'https://encrypted-tbn0.gstatic.com/images?q=tbn:ANd9GcTPquBw7rMVXNH-UpCYsNV1b9NDctZOFeqSrib-l789cDFRdRaQ2wsSTzM&usqp=CAU'}, {'link': 'https://www.google.com/search?q=starbucks+coffee&tbm=isch&hl=en&gl=us&sa=X&ved=2ahUKEwjosOLqwciBAxVQM1kFHeUrB3AQrNwCKAB6BQgBEKsC', 'serpapi_link': 'https://serpapi.com/search.json?device=desktop&engine=google_images&gl=us&google_domain=google.com&hl=en&location=Austin%2C+TX%2C+Texas%2C+United+States&q=starbucks+coffee', 'query': 'starbucks coffee', 'highlighted_words': ['starbucks'], 'thumbnail': 'https://encrypted-tbn0.gstatic.com/images?q=tbn:ANd9GcQ9vTkVOmK5C6RLw1Xz6kXkW062F2h5D5nhTt4hrTomzBIfGxvJbsmizPo&usqp=CAU'}, {'link': 'https://www.google.com/search?q=coffee+nescafe&tbm=isch&hl=en&gl=us&sa=X&ved=2ahUKEwjosOLqwciBAxVQM1kFHeUrB3AQrNwCKAB6BQgBEK0C', 'serpapi_link': 'https://serpapi.com/search.json?device=desktop&engine=google_images&gl=us&google_domain=google.com&hl=en&location=Austin%2C+TX%2C+Texas%2C+United+States&q=coffee+nescafe', 'query': 'coffee nescafe', 'highlighted_words': ['nescafe'], 'thumbnail': 'https://encrypted-tbn0.gstatic.com/images?q=tbn:ANd9GcSEYJI3raCTuI_IKjdqDdAuSeZALFAN7TyuqNrnbaZKIjFyJu4RzLpNNCM&usqp=CAU'}, {'link': 'https://www.google.com/search?q=love+coffee&tbm=isch&hl=en&gl=us&sa=X&ved=2ahUKEwjosOLqwciBAxVQM1kFHeUrB3AQrNwCKAB6BQgBEK8C', 'serpapi_link': 'https://serpapi.com/search.json?device=desktop&engine=google_images&gl=us&google_domain=google.com&hl=en&location=Austin%2C+TX%2C+Texas%2C+United+States&q=love+coffee', 'query': 'love coffee', 'highlighted_words': ['love'], 'thumbnail': 'https://encrypted-tbn0.gstatic.com/images?q=tbn:ANd9GcSRFQtv8u52TQCiyxZsCysTsBcwJBL4bLKSK-wXs3YvNatD9ZFBMf7v1bg&usqp=CAU'}, {'link': 'https://www.google.com/search?q=coffee+beans&tbm=isch&hl=en&gl=us&sa=X&ved=2ahUKEwjosOLqwciBAxVQM1kFHeUrB3AQrNwCKAB6BQgBEO0C', 'serpapi_link': 'https://serpapi.com/search.json?device=desktop&engine=google_images&gl=us&google_domain=google.com&hl=en&location=Austin%2C+TX%2C+Texas%2C+United+States&q=coffee+beans', 'query': 'coffee beans', 'highlighted_words': ['beans'], 'thumbnail': 'https://encrypted-tbn0.gstatic.com/images?q=tbn:ANd9GcRBpUAku_FMGJl4ZCxpcKNXYLcCsgPm8ui0o6If9cGEsJOLv77U7CBSxMs&usqp=CAU'}, {'link': 'https://www.google.com/search?q=coffee+at+home&tbm=isch&hl=en&gl=us&sa=X&ved=2ahUKEwjosOLqwciBAxVQM1kFHeUrB3AQrNwCKAB6BQgBEO8C', 'serpapi_link': 'https://serpapi.com/search.json?device=desktop&engine=google_images&gl=us&google_domain=google.com&hl=en&location=Austin%2C+TX%2C+Texas%2C+United+States&q=coffee+at+home', 'query': 'coffee at home', 'highlighted_words': ['at home'], 'thumbnail': 'https://encrypted-tbn0.gstatic.com/images?q=tbn:ANd9GcSggAKRCYgvL1AgRm2VqywJ9Ef7sCjHI8NcZtkvAqB4emBqIjsZnq63XL4&usqp=CAU'}, {'link': 'https://www.google.com/search?q=iced+coffee&tbm=isch&hl=en&gl=us&sa=X&ved=2ahUKEwjosOLqwciBAxVQM1kFHeUrB3AQrNwCKAB6BQgBEPEC', 'serpapi_link': 'https://serpapi.com/search.json?device=desktop&engine=google_images&gl=us&google_domain=google.com&hl=en&location=Austin%2C+TX%2C+Texas%2C+United+States&q=iced+coffee', 'query': 'iced coffee', 'highlighted_words': ['iced'], 'thumbnail': 'https://encrypted-tbn0.gstatic.com/images?q=tbn:ANd9GcStmDf8Mx7rgn2K27_HLZQ_VhhO-QypBSYNEyIqWRlMp7uEqH9EEdMKAJc&usqp=CAU'}]}\n"
     ]
    }
   ],
   "source": [
    "import requests\n",
    "\n",
    "# Define the URL\n",
    "url = \"https://serpapi.com/search.json?engine=google_images&q=Coffee&location=Austin,+TX,+Texas,+United+States\"\n",
    "\n",
    "# Make a GET request to the URL\n",
    "response = requests.get(url)\n",
    "\n",
    "# Check if the request was successful (status code 200)\n",
    "if response.status_code == 200:\n",
    "    # Print the response content (JSON data in this case)\n",
    "    print(response.json())\n",
    "else:\n",
    "    print(f\"Request failed with status code {response.status_code}\")\n"
   ]
  },
  {
   "cell_type": "code",
   "execution_count": 61,
   "id": "f041900d",
   "metadata": {},
   "outputs": [
    {
     "name": "stdout",
     "output_type": "stream",
     "text": [
      "Note: you may need to restart the kernel to use updated packages.\n"
     ]
    },
    {
     "name": "stderr",
     "output_type": "stream",
     "text": [
      "ERROR: Could not find a version that satisfies the requirement serpapi (from versions: none)\n",
      "ERROR: No matching distribution found for serpapi\n"
     ]
    }
   ],
   "source": [
    "pip install serpapi\n"
   ]
  },
  {
   "cell_type": "code",
   "execution_count": 2,
   "id": "a049bcbe",
   "metadata": {},
   "outputs": [],
   "source": [
    "import requests\n",
    "\n",
    "api_key = \"ba797fc52e10f7a81d2ad3c8bf5eeb83d91607bccdbfa5e76a1b848adf7b3468\"\n",
    "serpapi_url = f\"https://serpapi.com/search.json?engine=google_images&q=Coffee&location=Austin,+TX,+Texas,+United+States&api_key={api_key}\"\n",
    "\n",
    "response = requests.get(serpapi_url)\n",
    "data = response.json()\n"
   ]
  },
  {
   "cell_type": "code",
   "execution_count": 3,
   "id": "aa42c3b4",
   "metadata": {},
   "outputs": [
    {
     "name": "stdout",
     "output_type": "stream",
     "text": [
      "Thumbnail URL: https://serpapi.com/searches/6512f27534ff95d849fd8625/images/4ba605213f1d282e50c9b4cc611f4d1b6321f219cd17c8405590bf3d41a26d75.jpeg\n",
      "Original Image URL: https://upload.wikimedia.org/wikipedia/commons/thumb/e/e4/Latte_and_dark_coffee.jpg/640px-Latte_and_dark_coffee.jpg\n"
     ]
    }
   ],
   "source": [
    "if 'images_results' in data:\n",
    "    first_image = data['images_results'][0]\n",
    "    thumbnail_url = first_image['thumbnail']\n",
    "    original_url = first_image['original']\n",
    "\n",
    "    print(\"Thumbnail URL:\", thumbnail_url)\n",
    "    print(\"Original Image URL:\", original_url)\n",
    "else:\n",
    "    print(\"No image results found.\")\n"
   ]
  },
  {
   "cell_type": "code",
   "execution_count": 5,
   "id": "9c32feed",
   "metadata": {},
   "outputs": [
    {
     "ename": "SyntaxError",
     "evalue": "unexpected EOF while parsing (<ipython-input-5-4da78d5073b8>, line 33)",
     "output_type": "error",
     "traceback": [
      "\u001b[1;36m  File \u001b[1;32m\"<ipython-input-5-4da78d5073b8>\"\u001b[1;36m, line \u001b[1;32m33\u001b[0m\n\u001b[1;33m    messagebox.showinfo(\"Original Image\", \"Click OK to view the original image\")\u001b[0m\n\u001b[1;37m                                                                                ^\u001b[0m\n\u001b[1;31mSyntaxError\u001b[0m\u001b[1;31m:\u001b[0m unexpected EOF while parsing\n"
     ]
    }
   ],
   "source": [
    "import requests\n",
    "import tkinter as tk\n",
    "from tkinter import ttk\n",
    "from tkinter import PhotoImage\n",
    "from tkinter import messagebox\n",
    "\n",
    "# Define your SerpAPI key\n",
    "api_key = \"ba797fc52e10f7a81d2ad3c8bf5eeb83d91607bccdbfa5e76a1b848adf7b3468\"\n",
    "\n",
    "# Create a function to perform the image search and display the results\n",
    "def perform_image_search():\n",
    "    query = entry.get()\n",
    "    location = location_combobox.get()\n",
    "\n",
    "    # Build the SerpAPI URL\n",
    "    serpapi_url = f\"https://serpapi.com/search.json?engine=google_images&q={query}&location={location}&api_key={api_key}\"\n",
    "\n",
    "    try:\n",
    "        response = requests.get(serpapi_url)\n",
    "        data = response.json()\n",
    "\n",
    "        if 'images_results' in data:\n",
    "            first_image = data['images_results'][0]\n",
    "            thumbnail_url = first_image['thumbnail']\n",
    "            original_url = first_image['original']\n",
    "\n",
    "            # Display the thumbnail\n",
    "            thumbnail_image = PhotoImage(file=thumbnail_url)\n",
    "            thumbnail_label.config(image=thumbnail_image)\n",
    "            thumbnail_label.image = thumbnail_image\n",
    "\n",
    "            # Display the original image in a popup\n",
    "            messagebox.showinfo(\"Original Image\", \"Click OK to view the original image\")\n"
   ]
  }
 ],
 "metadata": {
  "kernelspec": {
   "display_name": "Python 3",
   "language": "python",
   "name": "python3"
  },
  "language_info": {
   "codemirror_mode": {
    "name": "ipython",
    "version": 3
   },
   "file_extension": ".py",
   "mimetype": "text/x-python",
   "name": "python",
   "nbconvert_exporter": "python",
   "pygments_lexer": "ipython3",
   "version": "3.8.8"
  }
 },
 "nbformat": 4,
 "nbformat_minor": 5
}
