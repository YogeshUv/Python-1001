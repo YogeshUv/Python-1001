{
 "cells": [
  {
   "cell_type": "code",
   "execution_count": 1,
   "id": "b975a2ef",
   "metadata": {},
   "outputs": [
    {
     "data": {
      "text/plain": [
       "18"
      ]
     },
     "execution_count": 1,
     "metadata": {},
     "output_type": "execute_result"
    }
   ],
   "source": [
    "returns = 18\n",
    "returns"
   ]
  },
  {
   "cell_type": "code",
   "execution_count": 2,
   "id": "7027ed3e",
   "metadata": {},
   "outputs": [
    {
     "name": "stdout",
     "output_type": "stream",
     "text": [
      "the capital 1000 gives you 180.0\n",
      "the capital 10000 gives you 1800.0\n",
      "the capital 40000 gives you 7200.0\n",
      "the capital 50000 gives you 9000.0\n",
      "the capital 100000 gives you 18000.0\n",
      "the capital 200000 gives you 36000.0\n",
      "the capital 300000 gives you 54000.0\n",
      "the capital 400000 gives you 72000.0\n",
      "the capital 500000 gives you 90000.0\n"
     ]
    }
   ],
   "source": [
    "lp = [1000,10000,40000,50000,100000,200000,300000,400000,500000]\n",
    "for i in lp:\n",
    "    profit = i* ((returns/100))\n",
    "    print(f'the capital {i} gives you {profit}')\n"
   ]
  },
  {
   "cell_type": "code",
   "execution_count": 17,
   "id": "c79b6782",
   "metadata": {},
   "outputs": [],
   "source": [
    "def AddisinoduBombe(Bombe):\n",
    "    if Bombe == 1:\n",
    "        print('all Bombes are opened')\n",
    "    else:\n",
    "        print(f'the Bombe opened is {Bombe}')\n",
    "        AddisinoduBombe(Bombe-1)\n",
    "        \n",
    "        \n",
    "        "
   ]
  },
  {
   "cell_type": "code",
   "execution_count": 18,
   "id": "5691bda5",
   "metadata": {},
   "outputs": [
    {
     "name": "stdout",
     "output_type": "stream",
     "text": [
      "the Bombe opened is 3\n",
      "the Bombe opened is 2\n",
      "all Bombes are opened\n"
     ]
    }
   ],
   "source": [
    "a = AddisinoduBombe(3)\n",
    "a"
   ]
  }
 ],
 "metadata": {
  "kernelspec": {
   "display_name": "Python 3",
   "language": "python",
   "name": "python3"
  },
  "language_info": {
   "codemirror_mode": {
    "name": "ipython",
    "version": 3
   },
   "file_extension": ".py",
   "mimetype": "text/x-python",
   "name": "python",
   "nbconvert_exporter": "python",
   "pygments_lexer": "ipython3",
   "version": "3.8.8"
  }
 },
 "nbformat": 4,
 "nbformat_minor": 5
}
