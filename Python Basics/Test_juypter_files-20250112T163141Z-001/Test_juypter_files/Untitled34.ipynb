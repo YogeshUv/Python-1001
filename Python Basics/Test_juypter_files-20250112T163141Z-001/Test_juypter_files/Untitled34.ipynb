{
 "cells": [
  {
   "cell_type": "code",
   "execution_count": null,
   "id": "e6b15cc8",
   "metadata": {},
   "outputs": [],
   "source": [
    "P = 25000  # Monthly deposit\n",
    "n = 12     # Number of months\n",
    "r = 7      # Annual interest rate\n",
    "\n",
    "monthly_interest_rate = r / (12 * 100)\n",
    "total_amount = 0\n",
    "total_interest = 0\n",
    "print(f\"{'Month':<10}{'Principal':<15}{'Interest':<15}{'Total Amount':<15}\")\n",
    "\n",
    "for month in range(1, n + 1):\n",
    "    interest = P * monthly_interest_rate\n",
    "    principal_payment = P\n",
    "    total_payment = principal_payment + interest\n",
    "\n",
    "    P += interest  # Add interest to the next month's principal\n",
    "    total_interest += interest\n",
    "    total_amount += total_payment\n",
    "    print('      ',total_interest)\n",
    "#     total_interest += total_interest\n",
    "#     print(f\"{month:<10}{principal_payment:.2f}'      '{interest:.2f}'       '{total_payment:.2f}\")\n",
    "print(total_interest)\n",
    "# print(f\"\\nTotal Maturity Amount after {n} months: {total_amount:.2f}\")\n"
   ]
  },
  {
   "cell_type": "code",
   "execution_count": null,
   "id": "7e53a017",
   "metadata": {},
   "outputs": [],
   "source": [
    "  str = \"\"\"145.83333333333334\n",
    "       292.5173611111111\n",
    "       440.0570457175926\n",
    "       588.4573784842786\n",
    "       737.7233798587703\n",
    "       887.8600995746131\n",
    "       1038.8726168221317\n",
    "       1190.7660404202609\n",
    "       1343.545508989379\n",
    "       1497.2161911251503\n",
    "       1651.7832855733805\n",
    "       1807.2520214058918 \"\"\" \n",
    "str = str.split()\n",
    "# Convert strings to floats and calculate the sum\n",
    "numbers_as_floats = [float(number) for number in str]\n",
    "total_sum = sum(numbers_as_floats)\n",
    "\n",
    "print(f\"Sum of the list: {total_sum:.2f}\")"
   ]
  },
  {
   "cell_type": "code",
   "execution_count": null,
   "id": "701787b4",
   "metadata": {},
   "outputs": [],
   "source": [
    "P = 25000  # Monthly deposit\n",
    "n = 12     # Number of months\n",
    "r = 7      # Annual interest rate\n",
    "\n",
    "monthly_interest_rate = r / (12 * 100)\n",
    "total_interest = 0  # Variable to track the total interest\n",
    "\n",
    "for month in range(1, n + 1):\n",
    "    interest = P * monthly_interest_rate\n",
    "    total_interest += interest  # Accumulate the interest for each month\n",
    "    P = P + total_interest  # Update the principal with compounded interest for the next month\n",
    "\n",
    "print(f\"Total Interest Earned: {total_interest:.2f}\")\n"
   ]
  },
  {
   "cell_type": "code",
   "execution_count": 5,
   "id": "5712bcee",
   "metadata": {},
   "outputs": [
    {
     "data": {
      "text/plain": [
       "6205949.932683549"
      ]
     },
     "execution_count": 5,
     "metadata": {},
     "output_type": "execute_result"
    }
   ],
   "source": [
    "# A = P(1+r/n) ^ nt.\n",
    "P = 25000\n",
    "r = 7\n",
    "n = 12\n",
    "t = 1\n",
    "\n",
    "A = P*(1 + r/n) ** n*t\n",
    "A"
   ]
  }
 ],
 "metadata": {
  "kernelspec": {
   "display_name": "Python 3",
   "language": "python",
   "name": "python3"
  },
  "language_info": {
   "codemirror_mode": {
    "name": "ipython",
    "version": 3
   },
   "file_extension": ".py",
   "mimetype": "text/x-python",
   "name": "python",
   "nbconvert_exporter": "python",
   "pygments_lexer": "ipython3",
   "version": "3.8.8"
  }
 },
 "nbformat": 4,
 "nbformat_minor": 5
}
