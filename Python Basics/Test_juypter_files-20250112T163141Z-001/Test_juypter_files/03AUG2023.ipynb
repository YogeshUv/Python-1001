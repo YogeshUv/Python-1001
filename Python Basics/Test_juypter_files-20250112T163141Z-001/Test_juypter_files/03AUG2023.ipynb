{
 "cells": [
  {
   "cell_type": "markdown",
   "id": "fdb8f9f4",
   "metadata": {},
   "source": [
    "Class room questions-1: \n",
    "1. Ask the user to enter a number. Print out the square of the number,  but use the sep optional argument to print it out in a full sentence that ends in a period.  \n",
    " Sample output is shown below. \n",
    " Enter a number: 5 \n",
    " The square of 5 is 25. \n"
   ]
  },
  {
   "cell_type": "code",
   "execution_count": 10,
   "id": "86b15e64",
   "metadata": {},
   "outputs": [
    {
     "name": "stdout",
     "output_type": "stream",
     "text": [
      "Enter a number : 5\n",
      "The square of 5 is 25 .\n"
     ]
    }
   ],
   "source": [
    "num = int(input('Enter a number : '))\n",
    "sqr = num * num\n",
    "#print(f'the square of {num} is {sqr}.')\n",
    "print(\"The square of\", num, \"is\", sqr, \".\", sep = \" \")"
   ]
  },
  {
   "cell_type": "markdown",
   "id": "864f99ab",
   "metadata": {},
   "source": [
    "2. Ask the user to enter a number x. Use the sep optional argument to  print out x, 2x, 3x, 4x, and 5x, each separated by three dashes, like  below. \n",
    " Enter a number: 7 \n",
    " 7---14---21---28---35 \n"
   ]
  },
  {
   "cell_type": "code",
   "execution_count": 13,
   "id": "28651026",
   "metadata": {},
   "outputs": [
    {
     "name": "stdout",
     "output_type": "stream",
     "text": [
      "Enter a number7\n",
      "7---14---21---28---35\n"
     ]
    }
   ],
   "source": [
    "x = int(input('Enter a number'))\n",
    "print(x,2*x,3*x,4*x,5*x, sep = '---')"
   ]
  },
  {
   "cell_type": "markdown",
   "id": "912e5189",
   "metadata": {},
   "source": [
    "3. Write a program that asks the user for a weight in kilograms and  converts it to pounds. There are 2.2 pounds in a kilogram. \n"
   ]
  },
  {
   "cell_type": "code",
   "execution_count": 20,
   "id": "faad1aec",
   "metadata": {},
   "outputs": [
    {
     "name": "stdout",
     "output_type": "stream",
     "text": [
      "Enter the weight in Kilograms4.25555\n"
     ]
    },
    {
     "data": {
      "text/plain": [
       "9.36"
      ]
     },
     "execution_count": 20,
     "metadata": {},
     "output_type": "execute_result"
    }
   ],
   "source": [
    "kgs = input('Enter the weight in Kilograms : ')\n",
    "#kgs = int(kgs)\n",
    "kgs = float(kgs)\n",
    "pounds = 2.2 * kgs\n",
    "round(pounds,2)"
   ]
  },
  {
   "cell_type": "markdown",
   "id": "83f6dc27",
   "metadata": {},
   "source": [
    "4. Write a program that asks the user to enter three numbers (use three separate input statements).Create variables called total and averagethat hold the sum and average of the three numbers and print out the values of total and average."
   ]
  },
  {
   "cell_type": "code",
   "execution_count": 21,
   "id": "494c6014",
   "metadata": {},
   "outputs": [
    {
     "name": "stdout",
     "output_type": "stream",
     "text": [
      "enter first num 5\n",
      "enter sec num 7\n",
      "enter third num 3\n",
      "the sum of 3 numbers is 15 and the average is 5.0\n"
     ]
    }
   ],
   "source": [
    "a = input('enter first num ')\n",
    "b = input('enter sec num ')\n",
    "c = input('enter third num ')\n",
    "total = int(a) + int(b) + int(c)\n",
    "average = total / 3\n",
    "print(f'the sum of 3 numbers is {total} and the average is {average}')"
   ]
  },
  {
   "cell_type": "markdown",
   "id": "2d86a03c",
   "metadata": {},
   "source": [
    "5. A lot of cell phones have tip calculators. Write one. Ask the user for  the price of the meal and the percent tip they want to leave. Then  print both the tip amount and the total bill with the tip included. "
   ]
  },
  {
   "cell_type": "code",
   "execution_count": 23,
   "id": "e0936040",
   "metadata": {},
   "outputs": [
    {
     "name": "stdout",
     "output_type": "stream",
     "text": [
      "Enter the bill amount : 80\n",
      "Enter the tip percentage : 5\n",
      "the bill amount is 80.0 and the percentage tip is 5.0 %, so the amount payable is 84.0 $.\n"
     ]
    }
   ],
   "source": [
    "bill = float(input('Enter the bill amount : '))\n",
    "tip = float(input('Enter the tip percentage : '))\n",
    "amount = bill * (1 + tip/100) \n",
    "print(f'the bill amount is {bill} and the percentage tip is {tip} %, so the amount payable is {amount} $.')"
   ]
  },
  {
   "cell_type": "markdown",
   "id": "d79a861b",
   "metadata": {},
   "source": [
    "Write Python Program for the following:\n",
    "1. Ramesh’s basic salary is input through the keyboard. His dearness allowance is 40% of\n",
    "basic salary, and house rent allowance is 20% of basic salary. Write a program to\n",
    "calculate his gross salary.\n",
    " "
   ]
  },
  {
   "cell_type": "code",
   "execution_count": null,
   "id": "d64430f5",
   "metadata": {},
   "outputs": [],
   "source": []
  },
  {
   "cell_type": "markdown",
   "id": "3e059089",
   "metadata": {},
   "source": [
    "2. The distance between two cities (in km.) is input through the keyboard. Write a program\n",
    "to convert and print this distance in meters, feet, inches and centimeters.\n"
   ]
  },
  {
   "cell_type": "code",
   "execution_count": null,
   "id": "40672348",
   "metadata": {},
   "outputs": [],
   "source": []
  },
  {
   "cell_type": "markdown",
   "id": "54a9e5c9",
   "metadata": {},
   "source": [
    "3. If the marks obtained by a student in five different subjects are input through the\n",
    "keyboard, find out the aggregate marks and percentage marks obtained by the student.\n",
    "Assume that the maximum marks that can be obtained by a student in each subject is\n",
    "100.\n"
   ]
  },
  {
   "cell_type": "code",
   "execution_count": null,
   "id": "2081d9d2",
   "metadata": {},
   "outputs": [],
   "source": [
    " "
   ]
  },
  {
   "cell_type": "code",
   "execution_count": null,
   "id": "0c8192a3",
   "metadata": {},
   "outputs": [],
   "source": [
    "4. Temperature of a city in Fahrenheit degrees is input through the keyboard. Write a\n",
    "program to convert this temperature into Centigrade degrees.\n"
   ]
  },
  {
   "cell_type": "code",
   "execution_count": null,
   "id": "d79f1fae",
   "metadata": {},
   "outputs": [],
   "source": []
  },
  {
   "cell_type": "code",
   "execution_count": null,
   "id": "08323d4b",
   "metadata": {},
   "outputs": [],
   "source": [
    "5. The length & breadth of a rectangle and radius of a circle are input through the\n",
    "keyboard. Write a program to calculate the area & perimeter of the rectangle, and the\n",
    "area & circumference of the circle.\n"
   ]
  },
  {
   "cell_type": "code",
   "execution_count": null,
   "id": "c84bea6e",
   "metadata": {},
   "outputs": [],
   "source": []
  },
  {
   "cell_type": "code",
   "execution_count": null,
   "id": "2675a743",
   "metadata": {},
   "outputs": [],
   "source": [
    "6. Two numbers are input through the keyboard into two locations C and D. Write a\n",
    "program to interchange the contents of C and D.\n"
   ]
  },
  {
   "cell_type": "code",
   "execution_count": null,
   "id": "1c4e37c1",
   "metadata": {},
   "outputs": [],
   "source": []
  },
  {
   "cell_type": "code",
   "execution_count": null,
   "id": "84f137eb",
   "metadata": {},
   "outputs": [],
   "source": [
    "7. If a five-digit number is input through the keyboard, write a program to reverse the\n",
    "number.\n"
   ]
  },
  {
   "cell_type": "code",
   "execution_count": null,
   "id": "ea3b743d",
   "metadata": {},
   "outputs": [],
   "source": []
  },
  {
   "cell_type": "code",
   "execution_count": null,
   "id": "17065403",
   "metadata": {},
   "outputs": [],
   "source": [
    "8. If a four-digit number is input through the keyboard, write a program to obtain the sum of\n",
    "the first and last digit of this number.\n"
   ]
  },
  {
   "cell_type": "code",
   "execution_count": null,
   "id": "bd7f0585",
   "metadata": {},
   "outputs": [],
   "source": []
  },
  {
   "cell_type": "code",
   "execution_count": null,
   "id": "23ef7512",
   "metadata": {},
   "outputs": [],
   "source": [
    "9. In a town, the percentage of men is 52. The percentage of total literacy is 48. If total\n",
    "percentage of literate men is 35 of the total population, write a program to find the total\n",
    "number of illiterate men and women if the population of the town is 80,000.\n"
   ]
  },
  {
   "cell_type": "code",
   "execution_count": null,
   "id": "5aba0c67",
   "metadata": {},
   "outputs": [],
   "source": []
  },
  {
   "cell_type": "code",
   "execution_count": null,
   "id": "5f8f014a",
   "metadata": {},
   "outputs": [],
   "source": [
    "10. A cashier has currency notes of denominations 10, 50 and 100. If the amount to be\n",
    "withdrawn is input through the keyboard in hundreds, find the total number of currency\n",
    "notes of each denomination the cashier will have to give to the withdrawer."
   ]
  },
  {
   "cell_type": "code",
   "execution_count": null,
   "id": "61940409",
   "metadata": {},
   "outputs": [],
   "source": []
  }
 ],
 "metadata": {
  "kernelspec": {
   "display_name": "Python 3",
   "language": "python",
   "name": "python3"
  },
  "language_info": {
   "codemirror_mode": {
    "name": "ipython",
    "version": 3
   },
   "file_extension": ".py",
   "mimetype": "text/x-python",
   "name": "python",
   "nbconvert_exporter": "python",
   "pygments_lexer": "ipython3",
   "version": "3.8.8"
  }
 },
 "nbformat": 4,
 "nbformat_minor": 5
}
