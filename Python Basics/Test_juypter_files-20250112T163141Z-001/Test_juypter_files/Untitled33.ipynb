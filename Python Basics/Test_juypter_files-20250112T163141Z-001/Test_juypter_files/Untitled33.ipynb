{
 "cells": [
  {
   "cell_type": "code",
   "execution_count": 2,
   "id": "39de7f05",
   "metadata": {},
   "outputs": [
    {
     "name": "stdout",
     "output_type": "stream",
     "text": [
      "Welcome to the FD/RD Calculator\n",
      "Enter 'FD' for Fixed Deposit or 'RD' for Recurring Deposit: RD\n",
      "Enter the principal amount: 25000\n",
      "Enter the annual interest rate (in percentage): 7\n",
      "Enter the tenure (in years): 1\n",
      "Enter the monthly deposit amount: 25000\n",
      "The maturity amount for Recurring Deposit is: 102655.76\n"
     ]
    }
   ],
   "source": [
    "def calculate_fd_maturity(principal, interest_rate, tenure):\n",
    "    # Formula for calculating maturity amount for Fixed Deposit\n",
    "    maturity_amount = principal * (1 + (interest_rate / 100))**tenure\n",
    "    return maturity_amount\n",
    "\n",
    "def calculate_rd_maturity(monthly_deposit, interest_rate, tenure):\n",
    "    # Formula for calculating maturity amount for Recurring Deposit\n",
    "    maturity_amount = monthly_deposit * (((1 + (interest_rate / 400))**(4 * tenure)) - 1) / (interest_rate / 400)\n",
    "    return maturity_amount\n",
    "\n",
    "def main():\n",
    "    print(\"Welcome to the FD/RD Calculator\")\n",
    "\n",
    "    # Get user input for FD or RD\n",
    "    deposit_type = input(\"Enter 'FD' for Fixed Deposit or 'RD' for Recurring Deposit: \").upper()\n",
    "\n",
    "    # Get common input parameters\n",
    "    principal = float(input(\"Enter the principal amount: \"))\n",
    "    interest_rate = float(input(\"Enter the annual interest rate (in percentage): \"))\n",
    "    tenure = int(input(\"Enter the tenure (in years): \"))\n",
    "\n",
    "    if deposit_type == 'FD':\n",
    "        maturity_amount = calculate_fd_maturity(principal, interest_rate, tenure)\n",
    "        print(f\"The maturity amount for Fixed Deposit is: {maturity_amount:.2f}\")\n",
    "    elif deposit_type == 'RD':\n",
    "        monthly_deposit = float(input(\"Enter the monthly deposit amount: \"))\n",
    "        maturity_amount = calculate_rd_maturity(monthly_deposit, interest_rate, tenure)\n",
    "        print(f\"The maturity amount for Recurring Deposit is: {maturity_amount:.2f}\")\n",
    "    else:\n",
    "        print(\"Invalid deposit type. Please enter 'FD' or 'RD'.\")\n",
    "\n",
    "if __name__ == \"__main__\":\n",
    "    main()\n"
   ]
  },
  {
   "cell_type": "code",
   "execution_count": 15,
   "id": "cc77493e",
   "metadata": {},
   "outputs": [
    {
     "name": "stdout",
     "output_type": "stream",
     "text": [
      "0  25000\n",
      "1  50145.83333333333\n",
      "2  75291.66666666666\n",
      "3  100437.49999999999\n",
      "4  125583.33333333331\n",
      "5  150729.16666666666\n",
      "6  175875.0\n",
      "7  201020.83333333334\n",
      "8  226166.6666666667\n",
      "9  251312.50000000003\n",
      "10  276458.3333333334\n",
      "11  301604.1666666667\n"
     ]
    },
    {
     "data": {
      "text/plain": [
       "326750.0"
      ]
     },
     "execution_count": 15,
     "metadata": {},
     "output_type": "execute_result"
    }
   ],
   "source": [
    "P = 25000\n",
    "month = 12\n",
    "r = 7\n",
    "returns = 25000\n",
    "for i in range (month):\n",
    "    print(i,'',returns)\n",
    "    monthly_return = amount + amount*(per/12)/100\n",
    "    returns +=monthly_return\n",
    "returns"
   ]
  },
  {
   "cell_type": "code",
   "execution_count": 16,
   "id": "83584629",
   "metadata": {},
   "outputs": [
    {
     "data": {
      "text/plain": [
       "311375.0"
      ]
     },
     "execution_count": 16,
     "metadata": {},
     "output_type": "execute_result"
    }
   ],
   "source": [
    "P = 25000\n",
    "n = 12\n",
    "r = 7\n",
    "\n",
    "total = P*n +(P*13/2*7/100)\n",
    "total"
   ]
  },
  {
   "cell_type": "code",
   "execution_count": 20,
   "id": "4568688e",
   "metadata": {},
   "outputs": [
    {
     "name": "stdout",
     "output_type": "stream",
     "text": [
      "Month     Principal      Interest       Total Amount   \n",
      "1         ' '25000.00' '145.83'  '25145.83\n",
      "2         ' '25145.83' '146.68'  '25292.52\n",
      "3         ' '25292.52' '147.54'  '25440.06\n",
      "4         ' '25440.06' '148.40'  '25588.46\n",
      "5         ' '25588.46' '149.27'  '25737.72\n",
      "6         ' '25737.72' '150.14'  '25887.86\n",
      "7         ' '25887.86' '151.01'  '26038.87\n",
      "8         ' '26038.87' '151.89'  '26190.77\n",
      "9         ' '26190.77' '152.78'  '26343.55\n",
      "10        ' '26343.55' '153.67'  '26497.22\n",
      "11        ' '26497.22' '154.57'  '26651.78\n",
      "12        ' '26651.78' '155.47'  '26807.25\n",
      "\n",
      "Total Maturity Amount after 12 months: 311621.88\n"
     ]
    }
   ],
   "source": [
    "P = 25000  # Monthly deposit\n",
    "n = 12     # Number of months\n",
    "r = 7      # Annual interest rate\n",
    "\n",
    "monthly_interest_rate = r / (12 * 100)\n",
    "total_amount = 0\n",
    "\n",
    "print(f\"{'Month':<10}{'Principal':<15}{'Interest':<15}{'Total Amount':<15}\")\n",
    "\n",
    "for month in range(1, n + 1):\n",
    "    interest = P * monthly_interest_rate\n",
    "    principal_payment = P\n",
    "    total_payment = principal_payment + interest\n",
    "\n",
    "    P += interest  # Add interest to the next month's principal\n",
    "\n",
    "    total_amount += total_payment\n",
    "\n",
    "    print(f\"{month:<10}' '{principal_payment:.2f}' '{interest:.2f}'  '{total_payment:.2f}\")\n",
    "\n",
    "print(f\"\\nTotal Maturity Amount after {n} months: {total_amount:.2f}\")\n"
   ]
  },
  {
   "cell_type": "code",
   "execution_count": 21,
   "id": "6027d5e3",
   "metadata": {},
   "outputs": [
    {
     "name": "stdout",
     "output_type": "stream",
     "text": [
      "Month     Principal      Interest       Total Amount   \n",
      "1         25000.00145.8325145.83\n",
      "2         25145.83146.6825292.52\n",
      "3         25292.52147.5425440.06\n",
      "4         25440.06148.4025588.46\n",
      "5         25588.46149.2725737.72\n",
      "6         25737.72150.1425887.86\n",
      "7         25887.86151.0126038.87\n",
      "8         26038.87151.8926190.77\n",
      "9         26190.77152.7826343.55\n",
      "10        26343.55153.6726497.22\n",
      "11        26497.22154.5726651.78\n",
      "12        26651.78155.4726807.25\n",
      "\n",
      "Total Maturity Amount after 12 months: 311621.88\n",
      "Total Interest Earned: 1807.25\n"
     ]
    }
   ],
   "source": [
    "P = 25000  # Monthly deposit\n",
    "n = 12     # Number of months\n",
    "r = 7      # Annual interest rate\n",
    "\n",
    "monthly_interest_rate = r / (12 * 100)\n",
    "total_amount = 0\n",
    "total_interest = 0  # Variable to track the total interest\n",
    "\n",
    "print(f\"{'Month':<10}{'Principal':<15}{'Interest':<15}{'Total Amount':<15}\")\n",
    "\n",
    "for month in range(1, n + 1):\n",
    "    interest = P * monthly_interest_rate\n",
    "    principal_payment = P\n",
    "    total_payment = principal_payment + interest\n",
    "\n",
    "    P += interest  # Add interest to the next month's principal\n",
    "\n",
    "    total_amount += total_payment\n",
    "    total_interest += interest  # Accumulate the interest for each month\n",
    "\n",
    "    print(f\"{month:<10}{principal_payment:.2f}{interest:.2f}{total_payment:.2f}\")\n",
    "\n",
    "print(f\"\\nTotal Maturity Amount after {n} months: {total_amount:.2f}\")\n",
    "print(f\"Total Interest Earned: {total_interest:.2f}\")\n"
   ]
  },
  {
   "cell_type": "code",
   "execution_count": 17,
   "id": "334a5df7",
   "metadata": {},
   "outputs": [
    {
     "name": "stdout",
     "output_type": "stream",
     "text": [
      "Month     Principal      Interest       Total Amount   \n",
      "1         2083.33145.832229.17\n",
      "2         1909.72133.682043.40\n",
      "3         1750.58122.541873.12\n",
      "4         1604.70112.331717.03\n",
      "5         1470.97102.971573.94\n",
      "6         1348.3994.391442.78\n",
      "7         1236.0386.521322.55\n",
      "8         1133.0279.311212.33\n",
      "9         1038.6072.701111.31\n",
      "10        952.0566.641018.70\n",
      "11        872.7261.09933.81\n",
      "12        799.9956.00855.99\n",
      "\n",
      "Total Maturity Amount after 12 months: 17334.12\n"
     ]
    }
   ],
   "source": [
    "P = 25000\n",
    "n = 12\n",
    "r = 7\n",
    "\n",
    "monthly_interest_rate = r / (12 * 100)\n",
    "total_amount = 0\n",
    "\n",
    "print(f\"{'Month':<10}{'Principal':<15}{'Interest':<15}{'Total Amount':<15}\")\n",
    "\n",
    "for month in range(1, n + 1):\n",
    "    interest = P * monthly_interest_rate\n",
    "    principal_payment = P / n\n",
    "    total_payment = principal_payment + interest\n",
    "\n",
    "    P -= principal_payment  # Reduce the remaining principal for the next iteration\n",
    "\n",
    "    total_amount += total_payment\n",
    "\n",
    "    print(f\"{month:<10}{principal_payment:.2f}{interest:.2f}{total_payment:.2f}\")\n",
    "\n",
    "print(f\"\\nTotal Maturity Amount after {n} months: {total_amount:.2f}\")\n"
   ]
  },
  {
   "cell_type": "code",
   "execution_count": 18,
   "id": "45c87e9b",
   "metadata": {
    "scrolled": true
   },
   "outputs": [
    {
     "name": "stdout",
     "output_type": "stream",
     "text": [
      "Month     Principal      Interest       Total Amount   \n",
      "1         2083.33145.832229.17\n",
      "2         1909.72133.682043.40\n",
      "3         1750.58122.541873.12\n",
      "4         1604.70112.331717.03\n",
      "5         1470.97102.971573.94\n",
      "6         1348.3994.391442.78\n",
      "7         1236.0386.521322.55\n",
      "8         1133.0279.311212.33\n",
      "9         1038.6072.701111.31\n",
      "10        952.0566.641018.70\n",
      "11        872.7261.09933.81\n",
      "12        799.9956.00855.99\n",
      "\n",
      "Total Maturity Amount after 12 months: 26134.01\n"
     ]
    }
   ],
   "source": [
    "P = 25000\n",
    "n = 12\n",
    "r = 7\n",
    "\n",
    "monthly_interest_rate = r / (12 * 100)\n",
    "total_amount = 0\n",
    "\n",
    "print(f\"{'Month':<10}{'Principal':<15}{'Interest':<15}{'Total Amount':<15}\")\n",
    "\n",
    "for month in range(1, n + 1):\n",
    "    interest = P * monthly_interest_rate\n",
    "    principal_payment = P / n\n",
    "    total_payment = principal_payment + interest\n",
    "\n",
    "    P -= principal_payment  # Reduce the remaining principal for the next iteration\n",
    "\n",
    "    total_amount += total_payment\n",
    "\n",
    "    print(f\"{month:<10}{principal_payment:.2f}{interest:.2f}{total_payment:.2f}\")\n",
    "\n",
    "print(f\"\\nTotal Maturity Amount after {n} months: {total_amount + P:.2f}\")\n"
   ]
  },
  {
   "cell_type": "code",
   "execution_count": 23,
   "id": "6335aad3",
   "metadata": {},
   "outputs": [
    {
     "name": "stdout",
     "output_type": "stream",
     "text": [
      "Month     Principal      Interest       Total Amount   Cumulative Interest \n",
      "1         25000.00145.8325145.83145.83\n",
      "2         25145.83146.6825292.52292.52\n",
      "3         25292.52147.5425440.06440.06\n",
      "4         25440.06148.4025588.46588.46\n",
      "5         25588.46149.2725737.72737.72\n",
      "6         25737.72150.1425887.86887.86\n",
      "7         25887.86151.0126038.871038.87\n",
      "8         26038.87151.8926190.771190.77\n",
      "9         26190.77152.7826343.551343.55\n",
      "10        26343.55153.6726497.221497.22\n",
      "11        26497.22154.5726651.781651.78\n",
      "12        26651.78155.4726807.251807.25\n",
      "\n",
      "Total Maturity Amount after 12 months: 311621.88\n",
      "Total Interest Earned: 1807.25\n"
     ]
    }
   ],
   "source": [
    "P = 25000  # Monthly deposit\n",
    "n = 12     # Number of months\n",
    "r = 7      # Annual interest rate\n",
    "\n",
    "monthly_interest_rate = r / (12 * 100)\n",
    "total_amount = 0\n",
    "total_interest = 0  # Variable to track the total interest\n",
    "\n",
    "print(f\"{'Month':<10}{'Principal':<15}{'Interest':<15}{'Total Amount':<15}{'Cumulative Interest':<20}\")\n",
    "\n",
    "for month in range(1, n + 1):\n",
    "    interest = P * monthly_interest_rate\n",
    "    principal_payment = P\n",
    "    total_payment = principal_payment + interest\n",
    "\n",
    "    P += interest  # Add interest to the next month's principal\n",
    "\n",
    "    total_amount += total_payment\n",
    "    total_interest += interest  # Accumulate the interest for each month\n",
    "\n",
    "    print(f\"{month:<10}{principal_payment:.2f}{interest:.2f}{total_payment:.2f}{total_interest:.2f}\")\n",
    "\n",
    "print(f\"\\nTotal Maturity Amount after {n} months: {total_amount:.2f}\")\n",
    "print(f\"Total Interest Earned: {total_interest:.2f}\")\n"
   ]
  },
  {
   "cell_type": "code",
   "execution_count": 3,
   "id": "73471344",
   "metadata": {},
   "outputs": [
    {
     "name": "stdout",
     "output_type": "stream",
     "text": [
      "Month     Principal      Interest       Total Amount   Cumulative Interest \n",
      "1         25000.00145.8325145.83145.83\n",
      "2         50000.00291.6750291.67437.50\n",
      "3         100000.00583.33100583.331020.83\n",
      "4         200000.001166.67201166.672187.50\n",
      "5         400000.002333.33402333.334520.83\n",
      "6         800000.004666.67804666.679187.50\n",
      "7         1600000.009333.331609333.3318520.83\n",
      "8         3200000.0018666.673218666.6737187.50\n",
      "9         6400000.0037333.336437333.3374520.83\n",
      "10        12800000.0074666.6712874666.67149187.50\n",
      "11        25600000.00149333.3325749333.33298520.83\n",
      "12        51200000.00298666.6751498666.67597187.50\n",
      "\n",
      "Total Maturity Amount after 12 months: 102972187.50\n",
      "Total Interest Earned: 597187.50\n"
     ]
    }
   ],
   "source": [
    "P = 25000  # Monthly deposit\n",
    "n = 12     # Number of months\n",
    "r = 7      # Annual interest rate\n",
    "\n",
    "monthly_interest_rate = r / (12 * 100)\n",
    "total_amount = 0\n",
    "total_interest = 0  # Variable to track the total interest\n",
    "\n",
    "print(f\"{'Month':<10}{'Principal':<15}{'Interest':<15}{'Total Amount':<15}{'Cumulative Interest':<20}\")\n",
    "\n",
    "for month in range(1, n + 1):\n",
    "    interest = P * monthly_interest_rate\n",
    "    principal_payment = P\n",
    "    total_payment = principal_payment + interest\n",
    "\n",
    "    P += principal_payment  # Add the principal payment to the next month's principal\n",
    "\n",
    "    total_amount += total_payment\n",
    "    total_interest += interest  # Accumulate the interest for each month\n",
    "\n",
    "    print(f\"{month:<10}{principal_payment:.2f}{interest:.2f}{total_payment:.2f}{total_interest:.2f}\")\n",
    "\n",
    "print(f\"\\nTotal Maturity Amount after {n} months: {total_amount:.2f}\")\n",
    "print(f\"Total Interest Earned: {total_interest:.2f}\")\n"
   ]
  },
  {
   "cell_type": "code",
   "execution_count": 4,
   "id": "b3eb6550",
   "metadata": {},
   "outputs": [
    {
     "name": "stdout",
     "output_type": "stream",
     "text": [
      "Month     Principal      Interest       Total Amount   Cumulative Interest \n",
      "1         25000.00145.8325145.83145.83\n",
      "2         25000.00145.8325145.83291.67\n",
      "3         25000.00145.8325145.83437.50\n",
      "4         25000.00145.8325145.83583.33\n",
      "5         25000.00145.8325145.83729.17\n",
      "6         25000.00145.8325145.83875.00\n",
      "7         25000.00145.8325145.831020.83\n",
      "8         25000.00145.8325145.831166.67\n",
      "9         25000.00145.8325145.831312.50\n",
      "10        25000.00145.8325145.831458.33\n",
      "11        25000.00145.8325145.831604.17\n",
      "12        25000.00145.8325145.831750.00\n",
      "\n",
      "Total Maturity Amount after 12 months: 301750.00\n",
      "Total Interest Earned: 1750.00\n"
     ]
    }
   ],
   "source": [
    "P = 25000  # Monthly deposit\n",
    "n = 12     # Number of months\n",
    "r = 7      # Annual interest rate\n",
    "\n",
    "monthly_interest_rate = r / (12 * 100)\n",
    "total_amount = 0\n",
    "total_interest = 0  # Variable to track the total interest\n",
    "\n",
    "print(f\"{'Month':<10}{'Principal':<15}{'Interest':<15}{'Total Amount':<15}{'Cumulative Interest':<20}\")\n",
    "\n",
    "for month in range(1, n + 1):\n",
    "    interest = P * monthly_interest_rate\n",
    "    principal_payment = P\n",
    "    total_payment = principal_payment + interest\n",
    "\n",
    "    total_amount += total_payment\n",
    "    total_interest += interest  # Accumulate the interest for each month\n",
    "\n",
    "    print(f\"{month:<10}{principal_payment:.2f}{interest:.2f}{total_payment:.2f}{total_interest:.2f}\")\n",
    "\n",
    "print(f\"\\nTotal Maturity Amount after {n} months: {total_amount:.2f}\")\n",
    "print(f\"Total Interest Earned: {total_interest:.2f}\")\n"
   ]
  },
  {
   "cell_type": "code",
   "execution_count": 5,
   "id": "de98accc",
   "metadata": {},
   "outputs": [
    {
     "name": "stdout",
     "output_type": "stream",
     "text": [
      "Month     Principal      Interest       Total Amount   Cumulative Interest \n",
      "1         25000.00145.8325145.83145.83\n",
      "2         25000.00145.8325145.83291.67\n",
      "3         25000.00145.8325145.83437.50\n",
      "4         25000.00145.8325145.83583.33\n",
      "5         25000.00145.8325145.83729.17\n",
      "6         25000.00145.8325145.83875.00\n",
      "7         25000.00145.8325145.831020.83\n",
      "8         25000.00145.8325145.831166.67\n",
      "9         25000.00145.8325145.831312.50\n",
      "10        25000.00145.8325145.831458.33\n",
      "11        25000.00145.8325145.831604.17\n",
      "12        25000.00145.8325145.831750.00\n",
      "\n",
      "Total Maturity Amount after 12 months: 301750.00\n",
      "Total Interest Earned: 1750.00\n"
     ]
    }
   ],
   "source": [
    "P = 25000  # Monthly deposit\n",
    "n = 12     # Number of months\n",
    "r = 7      # Annual interest rate\n",
    "\n",
    "monthly_interest_rate = r / (12 * 100)\n",
    "total_amount = 0\n",
    "total_interest = 0  # Variable to track the total interest\n",
    "\n",
    "print(f\"{'Month':<10}{'Principal':<15}{'Interest':<15}{'Total Amount':<15}{'Cumulative Interest':<20}\")\n",
    "\n",
    "for month in range(1, n + 1):\n",
    "    interest = P * monthly_interest_rate\n",
    "    principal_payment = P\n",
    "    total_payment = principal_payment + interest\n",
    "\n",
    "    total_amount += total_payment\n",
    "    total_interest += interest  # Accumulate the interest for each month\n",
    "\n",
    "    print(f\"{month:<10}{principal_payment:.2f}{interest:.2f}{total_payment:.2f}{total_interest:.2f}\")\n",
    "\n",
    "print(f\"\\nTotal Maturity Amount after {n} months: {total_amount:.2f}\")\n",
    "print(f\"Total Interest Earned: {total_interest:.2f}\")\n"
   ]
  },
  {
   "cell_type": "code",
   "execution_count": 6,
   "id": "def7b6e6",
   "metadata": {},
   "outputs": [
    {
     "name": "stdout",
     "output_type": "stream",
     "text": [
      "Month     Principal      Interest       Total Amount   Cumulative Interest \n",
      "1         25000.00145.8325145.83145.83\n",
      "2         25145.83146.6825438.35292.52\n",
      "3         25438.35148.3925879.26440.91\n",
      "4         25879.26150.9626471.13591.87\n",
      "5         26471.13154.4127217.41746.28\n",
      "6         27217.41158.7728122.47905.05\n",
      "7         28122.47164.0529191.571069.10\n",
      "8         29191.57170.2830430.951239.39\n",
      "9         30430.95177.5131847.851416.90\n",
      "10        31847.85185.7833450.531602.68\n",
      "11        33450.53195.1335248.341797.81\n",
      "12        35248.34205.6237251.762003.42\n",
      "\n",
      "Total Maturity Amount after 12 months: 0.00\n",
      "Total Interest Earned: 2003.42\n"
     ]
    }
   ],
   "source": [
    "P = 25000  # Monthly deposit\n",
    "n = 12     # Number of months\n",
    "r = 7      # Annual interest rate\n",
    "\n",
    "monthly_interest_rate = r / (12 * 100)\n",
    "total_amount = 0\n",
    "total_interest = 0  # Variable to track the total interest\n",
    "\n",
    "print(f\"{'Month':<10}{'Principal':<15}{'Interest':<15}{'Total Amount':<15}{'Cumulative Interest':<20}\")\n",
    "\n",
    "for month in range(1, n + 1):\n",
    "    interest = P * monthly_interest_rate\n",
    "    total_interest += interest  # Accumulate the interest for each month\n",
    "    total_payment = P + total_interest  # Calculate total payment with compounded interest\n",
    "\n",
    "    print(f\"{month:<10}{P:.2f}{interest:.2f}{total_payment:.2f}{total_interest:.2f}\")\n",
    "\n",
    "    P = total_payment  # Update the principal with compounded interest for the next month\n",
    "\n",
    "print(f\"\\nTotal Maturity Amount after {n} months: {total_amount:.2f}\")\n",
    "print(f\"Total Interest Earned: {total_interest:.2f}\")\n"
   ]
  }
 ],
 "metadata": {
  "kernelspec": {
   "display_name": "Python 3",
   "language": "python",
   "name": "python3"
  },
  "language_info": {
   "codemirror_mode": {
    "name": "ipython",
    "version": 3
   },
   "file_extension": ".py",
   "mimetype": "text/x-python",
   "name": "python",
   "nbconvert_exporter": "python",
   "pygments_lexer": "ipython3",
   "version": "3.8.8"
  }
 },
 "nbformat": 4,
 "nbformat_minor": 5
}
