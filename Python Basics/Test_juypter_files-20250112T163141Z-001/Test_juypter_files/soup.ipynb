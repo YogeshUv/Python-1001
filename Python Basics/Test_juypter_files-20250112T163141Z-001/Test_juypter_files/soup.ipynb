{
 "cells": [
  {
   "cell_type": "code",
   "execution_count": 3,
   "id": "d060ce41",
   "metadata": {},
   "outputs": [
    {
     "name": "stdout",
     "output_type": "stream",
     "text": [
      "[]\n"
     ]
    }
   ],
   "source": [
    "import requests\n",
    "from bs4 import BeautifulSoup\n",
    "\n",
    "def scrape_titles(url):\n",
    "    response = requests.get(url)\n",
    "    soup = BeautifulSoup(response.text, 'html.parser')\n",
    "    titles = [title.text for title in soup.find_all('h2')]\n",
    "    return titles\n",
    "\n",
    "# Example usage\n",
    "website_url = 'https://chartink.com'\n",
    "article_titles = scrape_titles(website_url)\n",
    "print(article_titles)"
   ]
  },
  {
   "cell_type": "code",
   "execution_count": 4,
   "id": "8b8ce9a8",
   "metadata": {},
   "outputs": [
    {
     "name": "stdout",
     "output_type": "stream",
     "text": [
      "{'userId': 1, 'id': 1, 'title': 'delectus aut autem', 'completed': False}\n"
     ]
    }
   ],
   "source": [
    "import requests\n",
    "\n",
    "def fetch_data_from_api(api_url):\n",
    "    response = requests.get(api_url)\n",
    "    if response.status_code == 200:\n",
    "        return response.json()\n",
    "    else:\n",
    "        return None\n",
    "\n",
    "# Example usage\n",
    "api_url = 'https://jsonplaceholder.typicode.com/todos/1'\n",
    "api_data = fetch_data_from_api(api_url)\n",
    "print(api_data)\n"
   ]
  }
 ],
 "metadata": {
  "kernelspec": {
   "display_name": "Python 3",
   "language": "python",
   "name": "python3"
  },
  "language_info": {
   "codemirror_mode": {
    "name": "ipython",
    "version": 3
   },
   "file_extension": ".py",
   "mimetype": "text/x-python",
   "name": "python",
   "nbconvert_exporter": "python",
   "pygments_lexer": "ipython3",
   "version": "3.8.8"
  }
 },
 "nbformat": 4,
 "nbformat_minor": 5
}
