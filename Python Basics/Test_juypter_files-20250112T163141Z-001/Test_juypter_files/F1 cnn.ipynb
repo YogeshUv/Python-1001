{
 "cells": [
  {
   "cell_type": "code",
   "execution_count": 4,
   "id": "3c9e18cb",
   "metadata": {},
   "outputs": [],
   "source": [
    "import cx_Oracle\n",
    "import pandas as pd\n",
    "source_conn = cx_Oracle.connect(\n",
    "    user=\"apps\",\n",
    "    password=\"apps\",\n",
    "    dsn=\"edp4-scan.cswg.com:1521/EBSF1_USR\"\n",
    ")"
   ]
  },
  {
   "cell_type": "code",
   "execution_count": 2,
   "id": "3c15c85e",
   "metadata": {},
   "outputs": [],
   "source": [
    "query = \"\"\"select distinct ship_to_site_use_id from APPS.RA_CUSTOMER_TRX_ALL where ship_to_site_use_id is not null\n",
    "\"\"\""
   ]
  },
  {
   "cell_type": "code",
   "execution_count": 6,
   "id": "cd5fc206",
   "metadata": {},
   "outputs": [
    {
     "name": "stdout",
     "output_type": "stream",
     "text": [
      "Wall time: 1min 24s\n"
     ]
    },
    {
     "data": {
      "text/html": [
       "<div>\n",
       "<style scoped>\n",
       "    .dataframe tbody tr th:only-of-type {\n",
       "        vertical-align: middle;\n",
       "    }\n",
       "\n",
       "    .dataframe tbody tr th {\n",
       "        vertical-align: top;\n",
       "    }\n",
       "\n",
       "    .dataframe thead th {\n",
       "        text-align: right;\n",
       "    }\n",
       "</style>\n",
       "<table border=\"1\" class=\"dataframe\">\n",
       "  <thead>\n",
       "    <tr style=\"text-align: right;\">\n",
       "      <th></th>\n",
       "      <th>SHIP_TO_SITE_USE_ID</th>\n",
       "    </tr>\n",
       "  </thead>\n",
       "  <tbody>\n",
       "    <tr>\n",
       "      <th>0</th>\n",
       "      <td>118414</td>\n",
       "    </tr>\n",
       "    <tr>\n",
       "      <th>1</th>\n",
       "      <td>17766</td>\n",
       "    </tr>\n",
       "    <tr>\n",
       "      <th>2</th>\n",
       "      <td>18273</td>\n",
       "    </tr>\n",
       "    <tr>\n",
       "      <th>3</th>\n",
       "      <td>18391</td>\n",
       "    </tr>\n",
       "    <tr>\n",
       "      <th>4</th>\n",
       "      <td>18437</td>\n",
       "    </tr>\n",
       "    <tr>\n",
       "      <th>...</th>\n",
       "      <td>...</td>\n",
       "    </tr>\n",
       "    <tr>\n",
       "      <th>24441</th>\n",
       "      <td>120839</td>\n",
       "    </tr>\n",
       "    <tr>\n",
       "      <th>24442</th>\n",
       "      <td>122104</td>\n",
       "    </tr>\n",
       "    <tr>\n",
       "      <th>24443</th>\n",
       "      <td>122396</td>\n",
       "    </tr>\n",
       "    <tr>\n",
       "      <th>24444</th>\n",
       "      <td>48689</td>\n",
       "    </tr>\n",
       "    <tr>\n",
       "      <th>24445</th>\n",
       "      <td>88658</td>\n",
       "    </tr>\n",
       "  </tbody>\n",
       "</table>\n",
       "<p>24446 rows × 1 columns</p>\n",
       "</div>"
      ],
      "text/plain": [
       "       SHIP_TO_SITE_USE_ID\n",
       "0                   118414\n",
       "1                    17766\n",
       "2                    18273\n",
       "3                    18391\n",
       "4                    18437\n",
       "...                    ...\n",
       "24441               120839\n",
       "24442               122104\n",
       "24443               122396\n",
       "24444                48689\n",
       "24445                88658\n",
       "\n",
       "[24446 rows x 1 columns]"
      ]
     },
     "execution_count": 6,
     "metadata": {},
     "output_type": "execute_result"
    }
   ],
   "source": [
    "%%time\n",
    "df= pd.read_sql_query(query, source_conn)\n",
    "df"
   ]
  },
  {
   "cell_type": "code",
   "execution_count": 10,
   "id": "3fa9ac9d",
   "metadata": {},
   "outputs": [
    {
     "ename": "DatabaseError",
     "evalue": "DPI-1010: not connected",
     "output_type": "error",
     "traceback": [
      "\u001b[1;31m---------------------------------------------------------------------------\u001b[0m",
      "\u001b[1;31mDatabaseError\u001b[0m                             Traceback (most recent call last)",
      "\u001b[1;32m<timed exec>\u001b[0m in \u001b[0;36m<module>\u001b[1;34m\u001b[0m\n",
      "\u001b[1;31mDatabaseError\u001b[0m: DPI-1080: connection was closed by ORA-3113",
      "\nDuring handling of the above exception, another exception occurred:\n",
      "\u001b[1;31mDatabaseError\u001b[0m                             Traceback (most recent call last)",
      "\u001b[1;32m<timed exec>\u001b[0m in \u001b[0;36m<module>\u001b[1;34m\u001b[0m\n",
      "\u001b[1;31mDatabaseError\u001b[0m: DPI-1010: not connected"
     ]
    }
   ],
   "source": [
    "%%time\n",
    "# Initialize a variable to store the total count of updated rows\n",
    "total_updated_rows = 0\n",
    "# Iterate through unique ship_to_site_id values in the DataFrame\n",
    "for ship_to_site_id in df['SHIP_TO_SITE_USE_ID'].unique():\n",
    "    # Construct and execute the SQL update statement for each ship_to_site_id\n",
    "    update_query = f\"\"\"\n",
    "        UPDATE xxfin.xxar_customer_master a\n",
    "        SET a.last_bill_date = (SELECT MAX(TRX_DATE) FROM APPS.RA_CUSTOMER_TRX_ALL b WHERE b.SHIP_TO_SITE_USE_ID = {ship_to_site_id})\n",
    "        WHERE a.SHIP_TO_SITE_USE_ID = {ship_to_site_id}\n",
    "    \"\"\"\n",
    "\n",
    "    \n",
    "    # Create a cursor and execute the update statement\n",
    "    with source_conn.cursor() as cursor:\n",
    "        cursor.execute(update_query)\n",
    "    \n",
    "    # Commit the changes to the database\n",
    "#     connection.commit()\n",
    "        updated_rows = cursor.rowcount\n",
    "        total_updated_rows += updated_rows\n",
    "\n",
    "        # Print the count for the current iteration\n",
    "#         print(f\"Updated {updated_rows} rows for ship_to_site_id: {ship_to_site_id}\")\n",
    "\n",
    "        # Print the total count of updated rows\n",
    "print(f\"Total updated rows: {total_updated_rows}\")\n",
    "# Close the database connection\n",
    "connection.close()"
   ]
  }
 ],
 "metadata": {
  "kernelspec": {
   "display_name": "Python 3",
   "language": "python",
   "name": "python3"
  },
  "language_info": {
   "codemirror_mode": {
    "name": "ipython",
    "version": 3
   },
   "file_extension": ".py",
   "mimetype": "text/x-python",
   "name": "python",
   "nbconvert_exporter": "python",
   "pygments_lexer": "ipython3",
   "version": "3.8.8"
  }
 },
 "nbformat": 4,
 "nbformat_minor": 5
}
