{
 "cells": [
  {
   "cell_type": "code",
   "execution_count": null,
   "id": "9edaf385",
   "metadata": {},
   "outputs": [],
   "source": [
    "import pandas as pd\n",
    "import xml.etree.ElementTree as ET\n",
    "import psycopg2\n",
    "from datetime import datetime\n",
    "import re\n",
    "import cx_Oracle\n",
    "# Database connection parameters\n",
    "db_params = {\n",
    "    \"host\": \"gc-ue4-psql-cspo-dev01.nonprod.gcp.cswg.com\",\n",
    "    \"database\": \"CSPODB\",\n",
    "    \"port\": 5432,\n",
    "    \"user\": \"cspoms\",\n",
    "    \"password\": \"cspoms\",\n",
    "    \"sslmode\": \"verify-ca\",\n",
    "    \"sslcert\": \"D:\\\\W\\\\RELEX\\\\RELEX\\\\CSPOMS_DEV_Conn\\\\client-cert.pem\",\n",
    "    \"sslkey\": \"D:\\\\W\\\\RELEX\\\\RELEX\\\\CSPOMS_DEV_Conn\\\\client-key.pem\",\n",
    "    \"sslrootcert\": \"D:\\\\W\\\\RELEX\\\\RELEX\\\\CSPOMS_DEV_Conn\\\\server-ca.pem\"\n",
    "}\n",
    "\n",
    "post_conn = psycopg2.connect(**db_params)\n",
    "post_cur = post_conn.cursor()\n"
   ]
  },
  {
   "cell_type": "code",
   "execution_count": null,
   "id": "389fc333",
   "metadata": {},
   "outputs": [],
   "source": []
  }
 ],
 "metadata": {
  "kernelspec": {
   "display_name": "Python 3",
   "language": "python",
   "name": "python3"
  },
  "language_info": {
   "codemirror_mode": {
    "name": "ipython",
    "version": 3
   },
   "file_extension": ".py",
   "mimetype": "text/x-python",
   "name": "python",
   "nbconvert_exporter": "python",
   "pygments_lexer": "ipython3",
   "version": "3.8.8"
  }
 },
 "nbformat": 4,
 "nbformat_minor": 5
}
