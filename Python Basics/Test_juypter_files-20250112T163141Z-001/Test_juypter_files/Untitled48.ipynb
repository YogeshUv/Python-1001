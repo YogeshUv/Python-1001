{
 "cells": [
  {
   "cell_type": "code",
   "execution_count": 22,
   "id": "87b0d71f",
   "metadata": {},
   "outputs": [
    {
     "name": "stdout",
     "output_type": "stream",
     "text": [
      "Y 89\n",
      "Z 90\n",
      "a 97\n",
      "b 98\n",
      "c 99\n"
     ]
    }
   ],
   "source": [
    "x = 'X'\n",
    "ord(x)\n",
    "\n",
    "for i in range(ord(x)+1,ord(x)+6):\n",
    "    if i > 90 and i <97:\n",
    "        print(chr(i+6),i+6)\n",
    "    else:\n",
    "        print(chr(i),i)"
   ]
  }
 ],
 "metadata": {
  "kernelspec": {
   "display_name": "Python 3",
   "language": "python",
   "name": "python3"
  },
  "language_info": {
   "codemirror_mode": {
    "name": "ipython",
    "version": 3
   },
   "file_extension": ".py",
   "mimetype": "text/x-python",
   "name": "python",
   "nbconvert_exporter": "python",
   "pygments_lexer": "ipython3",
   "version": "3.8.8"
  }
 },
 "nbformat": 4,
 "nbformat_minor": 5
}
