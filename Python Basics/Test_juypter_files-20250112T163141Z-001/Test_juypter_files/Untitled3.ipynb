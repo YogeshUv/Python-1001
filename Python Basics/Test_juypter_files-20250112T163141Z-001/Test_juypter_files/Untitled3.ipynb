{
 "cells": [
  {
   "cell_type": "code",
   "execution_count": 1,
   "id": "f65bce19",
   "metadata": {},
   "outputs": [
    {
     "name": "stdout",
     "output_type": "stream",
     "text": [
      "-----------------------------\n",
      "Value of i=1\n",
      "-----------------------------\n",
      "\tValue of j=1\n",
      "\tValue of j=2\n",
      "\tValue of j=3\n",
      "I am coming out of inner loop\n",
      "-----------------------------\n",
      "Value of i=2\n",
      "-----------------------------\n",
      "\tValue of j=1\n",
      "\tValue of j=2\n",
      "\tValue of j=3\n",
      "I am coming out of inner loop\n",
      "-----------------------------\n",
      "Value of i=3\n",
      "-----------------------------\n",
      "\tValue of j=1\n",
      "\tValue of j=2\n",
      "\tValue of j=3\n",
      "I am coming out of inner loop\n",
      "-----------------------------\n",
      "Value of i=4\n",
      "-----------------------------\n",
      "\tValue of j=1\n",
      "\tValue of j=2\n",
      "\tValue of j=3\n",
      "I am coming out of inner loop\n",
      "-----------------------------\n",
      "Value of i=5\n",
      "-----------------------------\n",
      "\tValue of j=1\n",
      "\tValue of j=2\n",
      "\tValue of j=3\n",
      "I am coming out of inner loop\n",
      "I am coming out of outer loop\n"
     ]
    }
   ],
   "source": [
    "#InnerLoopEx1.py--for loop in for loop\n",
    "for i in range(1,6):\n",
    "    print(\"-----------------------------\")\n",
    "    print(\"Value of i={}\".format(i))\n",
    "    print(\"-----------------------------\")\n",
    "    for j in range(1,4):\n",
    "        print(\"\\tValue of j={}\".format(j))\n",
    "    else:\n",
    "        print(\"I am coming out of inner loop\")\n",
    "else:\n",
    "    print(\"I am coming out of outer loop\")\n",
    "\n"
   ]
  }
 ],
 "metadata": {
  "kernelspec": {
   "display_name": "Python 3",
   "language": "python",
   "name": "python3"
  },
  "language_info": {
   "codemirror_mode": {
    "name": "ipython",
    "version": 3
   },
   "file_extension": ".py",
   "mimetype": "text/x-python",
   "name": "python",
   "nbconvert_exporter": "python",
   "pygments_lexer": "ipython3",
   "version": "3.8.8"
  }
 },
 "nbformat": 4,
 "nbformat_minor": 5
}
