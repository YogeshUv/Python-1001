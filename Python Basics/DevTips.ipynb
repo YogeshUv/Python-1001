{
 "cells": [
  {
   "cell_type": "code",
   "execution_count": 1,
   "metadata": {},
   "outputs": [
    {
     "data": {
      "text/plain": [
       "[1, 2, 3]"
      ]
     },
     "execution_count": 1,
     "metadata": {},
     "output_type": "execute_result"
    }
   ],
   "source": [
    "listobj = [1,2,3]\n",
    "listobj"
   ]
  },
  {
   "cell_type": "code",
   "execution_count": 5,
   "metadata": {},
   "outputs": [
    {
     "name": "stdout",
     "output_type": "stream",
     "text": [
      "['__add__', '__class__', '__class_getitem__', '__contains__', '__delattr__', '__delitem__', '__dir__', '__doc__', '__eq__', '__format__', '__ge__', '__getattribute__', '__getitem__', '__getstate__', '__gt__', '__hash__', '__iadd__', '__imul__', '__init__', '__init_subclass__', '__iter__', '__le__', '__len__', '__lt__', '__mul__', '__ne__', '__new__', '__reduce__', '__reduce_ex__', '__repr__', '__reversed__', '__rmul__', '__setattr__', '__setitem__', '__sizeof__', '__str__', '__subclasshook__', 'append', 'clear', 'copy', 'count', 'extend', 'index', 'insert', 'pop', 'remove', 'reverse', 'sort']\n"
     ]
    }
   ],
   "source": [
    "print(dir(listobj))"
   ]
  },
  {
   "cell_type": "code",
   "execution_count": 7,
   "metadata": {},
   "outputs": [
    {
     "name": "stdout",
     "output_type": "stream",
     "text": [
      "(self, index=-1, /)\n"
     ]
    }
   ],
   "source": [
    "import inspect\n",
    "print(inspect.signature(list.pop))  # Outputs: (self, object)\n"
   ]
  },
  {
   "cell_type": "code",
   "execution_count": 9,
   "metadata": {},
   "outputs": [
    {
     "ename": "TypeError",
     "evalue": "module, class, method, function, traceback, frame, or code object was expected, got builtin_function_or_method",
     "output_type": "error",
     "traceback": [
      "\u001b[1;31m---------------------------------------------------------------------------\u001b[0m",
      "\u001b[1;31mTypeError\u001b[0m                                 Traceback (most recent call last)",
      "Cell \u001b[1;32mIn[9], line 2\u001b[0m\n\u001b[0;32m      1\u001b[0m \u001b[38;5;28;01mimport\u001b[39;00m \u001b[38;5;21;01minspect\u001b[39;00m\n\u001b[1;32m----> 2\u001b[0m \u001b[38;5;28mprint\u001b[39m(inspect\u001b[38;5;241m.\u001b[39mgetsource(\u001b[38;5;28msorted\u001b[39m))\n",
      "File \u001b[1;32mc:\\Users\\raksh\\anaconda3\\Lib\\inspect.py:1262\u001b[0m, in \u001b[0;36mgetsource\u001b[1;34m(object)\u001b[0m\n\u001b[0;32m   1256\u001b[0m \u001b[38;5;28;01mdef\u001b[39;00m \u001b[38;5;21mgetsource\u001b[39m(\u001b[38;5;28mobject\u001b[39m):\n\u001b[0;32m   1257\u001b[0m \u001b[38;5;250m    \u001b[39m\u001b[38;5;124;03m\"\"\"Return the text of the source code for an object.\u001b[39;00m\n\u001b[0;32m   1258\u001b[0m \n\u001b[0;32m   1259\u001b[0m \u001b[38;5;124;03m    The argument may be a module, class, method, function, traceback, frame,\u001b[39;00m\n\u001b[0;32m   1260\u001b[0m \u001b[38;5;124;03m    or code object.  The source code is returned as a single string.  An\u001b[39;00m\n\u001b[0;32m   1261\u001b[0m \u001b[38;5;124;03m    OSError is raised if the source code cannot be retrieved.\"\"\"\u001b[39;00m\n\u001b[1;32m-> 1262\u001b[0m     lines, lnum \u001b[38;5;241m=\u001b[39m getsourcelines(\u001b[38;5;28mobject\u001b[39m)\n\u001b[0;32m   1263\u001b[0m     \u001b[38;5;28;01mreturn\u001b[39;00m \u001b[38;5;124m'\u001b[39m\u001b[38;5;124m'\u001b[39m\u001b[38;5;241m.\u001b[39mjoin(lines)\n",
      "File \u001b[1;32mc:\\Users\\raksh\\anaconda3\\Lib\\inspect.py:1244\u001b[0m, in \u001b[0;36mgetsourcelines\u001b[1;34m(object)\u001b[0m\n\u001b[0;32m   1236\u001b[0m \u001b[38;5;250m\u001b[39m\u001b[38;5;124;03m\"\"\"Return a list of source lines and starting line number for an object.\u001b[39;00m\n\u001b[0;32m   1237\u001b[0m \n\u001b[0;32m   1238\u001b[0m \u001b[38;5;124;03mThe argument may be a module, class, method, function, traceback, frame,\u001b[39;00m\n\u001b[1;32m   (...)\u001b[0m\n\u001b[0;32m   1241\u001b[0m \u001b[38;5;124;03moriginal source file the first line of code was found.  An OSError is\u001b[39;00m\n\u001b[0;32m   1242\u001b[0m \u001b[38;5;124;03mraised if the source code cannot be retrieved.\"\"\"\u001b[39;00m\n\u001b[0;32m   1243\u001b[0m \u001b[38;5;28mobject\u001b[39m \u001b[38;5;241m=\u001b[39m unwrap(\u001b[38;5;28mobject\u001b[39m)\n\u001b[1;32m-> 1244\u001b[0m lines, lnum \u001b[38;5;241m=\u001b[39m findsource(\u001b[38;5;28mobject\u001b[39m)\n\u001b[0;32m   1246\u001b[0m \u001b[38;5;28;01mif\u001b[39;00m istraceback(\u001b[38;5;28mobject\u001b[39m):\n\u001b[0;32m   1247\u001b[0m     \u001b[38;5;28mobject\u001b[39m \u001b[38;5;241m=\u001b[39m \u001b[38;5;28mobject\u001b[39m\u001b[38;5;241m.\u001b[39mtb_frame\n",
      "File \u001b[1;32mc:\\Users\\raksh\\anaconda3\\Lib\\inspect.py:1063\u001b[0m, in \u001b[0;36mfindsource\u001b[1;34m(object)\u001b[0m\n\u001b[0;32m   1055\u001b[0m \u001b[38;5;28;01mdef\u001b[39;00m \u001b[38;5;21mfindsource\u001b[39m(\u001b[38;5;28mobject\u001b[39m):\n\u001b[0;32m   1056\u001b[0m \u001b[38;5;250m    \u001b[39m\u001b[38;5;124;03m\"\"\"Return the entire source file and starting line number for an object.\u001b[39;00m\n\u001b[0;32m   1057\u001b[0m \n\u001b[0;32m   1058\u001b[0m \u001b[38;5;124;03m    The argument may be a module, class, method, function, traceback, frame,\u001b[39;00m\n\u001b[0;32m   1059\u001b[0m \u001b[38;5;124;03m    or code object.  The source code is returned as a list of all the lines\u001b[39;00m\n\u001b[0;32m   1060\u001b[0m \u001b[38;5;124;03m    in the file and the line number indexes a line in that list.  An OSError\u001b[39;00m\n\u001b[0;32m   1061\u001b[0m \u001b[38;5;124;03m    is raised if the source code cannot be retrieved.\"\"\"\u001b[39;00m\n\u001b[1;32m-> 1063\u001b[0m     file \u001b[38;5;241m=\u001b[39m getsourcefile(\u001b[38;5;28mobject\u001b[39m)\n\u001b[0;32m   1064\u001b[0m     \u001b[38;5;28;01mif\u001b[39;00m file:\n\u001b[0;32m   1065\u001b[0m         \u001b[38;5;66;03m# Invalidate cache if needed.\u001b[39;00m\n\u001b[0;32m   1066\u001b[0m         linecache\u001b[38;5;241m.\u001b[39mcheckcache(file)\n",
      "File \u001b[1;32mc:\\Users\\raksh\\anaconda3\\Lib\\inspect.py:940\u001b[0m, in \u001b[0;36mgetsourcefile\u001b[1;34m(object)\u001b[0m\n\u001b[0;32m    936\u001b[0m \u001b[38;5;28;01mdef\u001b[39;00m \u001b[38;5;21mgetsourcefile\u001b[39m(\u001b[38;5;28mobject\u001b[39m):\n\u001b[0;32m    937\u001b[0m \u001b[38;5;250m    \u001b[39m\u001b[38;5;124;03m\"\"\"Return the filename that can be used to locate an object's source.\u001b[39;00m\n\u001b[0;32m    938\u001b[0m \u001b[38;5;124;03m    Return None if no way can be identified to get the source.\u001b[39;00m\n\u001b[0;32m    939\u001b[0m \u001b[38;5;124;03m    \"\"\"\u001b[39;00m\n\u001b[1;32m--> 940\u001b[0m     filename \u001b[38;5;241m=\u001b[39m getfile(\u001b[38;5;28mobject\u001b[39m)\n\u001b[0;32m    941\u001b[0m     all_bytecode_suffixes \u001b[38;5;241m=\u001b[39m importlib\u001b[38;5;241m.\u001b[39mmachinery\u001b[38;5;241m.\u001b[39mDEBUG_BYTECODE_SUFFIXES[:]\n\u001b[0;32m    942\u001b[0m     all_bytecode_suffixes \u001b[38;5;241m+\u001b[39m\u001b[38;5;241m=\u001b[39m importlib\u001b[38;5;241m.\u001b[39mmachinery\u001b[38;5;241m.\u001b[39mOPTIMIZED_BYTECODE_SUFFIXES[:]\n",
      "File \u001b[1;32mc:\\Users\\raksh\\anaconda3\\Lib\\inspect.py:920\u001b[0m, in \u001b[0;36mgetfile\u001b[1;34m(object)\u001b[0m\n\u001b[0;32m    918\u001b[0m \u001b[38;5;28;01mif\u001b[39;00m iscode(\u001b[38;5;28mobject\u001b[39m):\n\u001b[0;32m    919\u001b[0m     \u001b[38;5;28;01mreturn\u001b[39;00m \u001b[38;5;28mobject\u001b[39m\u001b[38;5;241m.\u001b[39mco_filename\n\u001b[1;32m--> 920\u001b[0m \u001b[38;5;28;01mraise\u001b[39;00m \u001b[38;5;167;01mTypeError\u001b[39;00m(\u001b[38;5;124m'\u001b[39m\u001b[38;5;124mmodule, class, method, function, traceback, frame, or \u001b[39m\u001b[38;5;124m'\u001b[39m\n\u001b[0;32m    921\u001b[0m                 \u001b[38;5;124m'\u001b[39m\u001b[38;5;124mcode object was expected, got \u001b[39m\u001b[38;5;132;01m{}\u001b[39;00m\u001b[38;5;124m'\u001b[39m\u001b[38;5;241m.\u001b[39mformat(\n\u001b[0;32m    922\u001b[0m                 \u001b[38;5;28mtype\u001b[39m(\u001b[38;5;28mobject\u001b[39m)\u001b[38;5;241m.\u001b[39m\u001b[38;5;18m__name__\u001b[39m))\n",
      "\u001b[1;31mTypeError\u001b[0m: module, class, method, function, traceback, frame, or code object was expected, got builtin_function_or_method"
     ]
    }
   ],
   "source": [
    "import inspect\n",
    "print(inspect.getsource(sorted))  # Works for Python functions\n"
   ]
  },
  {
   "cell_type": "code",
   "execution_count": 10,
   "metadata": {},
   "outputs": [
    {
     "name": "stdout",
     "output_type": "stream",
     "text": [
      "Dunder Methods: ['__add__', '__class__', '__class_getitem__', '__contains__', '__delattr__', '__delitem__', '__dir__', '__doc__', '__eq__', '__format__', '__ge__', '__getattribute__', '__getitem__', '__getstate__', '__gt__', '__hash__', '__iadd__', '__imul__', '__init__', '__init_subclass__', '__iter__', '__le__', '__len__', '__lt__', '__mul__', '__ne__', '__new__', '__reduce__', '__reduce_ex__', '__repr__', '__reversed__', '__rmul__', '__setattr__', '__setitem__', '__sizeof__', '__str__', '__subclasshook__']\n",
      "Regular Methods: ['append', 'clear', 'copy', 'count', 'extend', 'index', 'insert', 'pop', 'remove', 'reverse', 'sort']\n"
     ]
    }
   ],
   "source": [
    "obj = [1, 2, 3]\n",
    "methods = dir(obj)\n",
    "dunder = [m for m in methods if m.startswith('__') and m.endswith('__')]\n",
    "regular = [m for m in methods if not m.startswith('__')]\n",
    "print(\"Dunder Methods:\", dunder)\n",
    "print(\"Regular Methods:\", regular)\n"
   ]
  },
  {
   "cell_type": "code",
   "execution_count": 34,
   "metadata": {},
   "outputs": [
    {
     "name": "stdout",
     "output_type": "stream",
     "text": [
      "37 append\n",
      "38 clear\n",
      "39 copy\n",
      "40 count\n",
      "41 extend\n",
      "42 index\n",
      "43 insert\n",
      "44 pop\n",
      "45 remove\n",
      "46 reverse\n",
      "47 sort\n"
     ]
    }
   ],
   "source": [
    "for idx,i in enumerate(methods):\n",
    "    if i not in (dunder):\n",
    "        print(idx,i)\n"
   ]
  },
  {
   "cell_type": "code",
   "execution_count": 35,
   "metadata": {},
   "outputs": [
    {
     "name": "stdout",
     "output_type": "stream",
     "text": [
      "0.024118000001180917\n"
     ]
    }
   ],
   "source": [
    "import timeit\n",
    "print(timeit.timeit(\"x = [i for i in range(1000)]\", number=1000))\n"
   ]
  },
  {
   "cell_type": "code",
   "execution_count": null,
   "metadata": {},
   "outputs": [
    {
     "name": "stdout",
     "output_type": "stream",
     "text": [
      "--Call--\n",
      "> \u001b[1;32mc:\\users\\raksh\\anaconda3\\lib\\site-packages\\ipython\\core\\displayhook.py\u001b[0m(258)\u001b[0;36m__call__\u001b[1;34m()\u001b[0m\n",
      "\u001b[1;32m    256 \u001b[1;33m        \u001b[0msys\u001b[0m\u001b[1;33m.\u001b[0m\u001b[0mstdout\u001b[0m\u001b[1;33m.\u001b[0m\u001b[0mflush\u001b[0m\u001b[1;33m(\u001b[0m\u001b[1;33m)\u001b[0m\u001b[1;33m\u001b[0m\u001b[1;33m\u001b[0m\u001b[0m\n",
      "\u001b[0m\u001b[1;32m    257 \u001b[1;33m\u001b[1;33m\u001b[0m\u001b[0m\n",
      "\u001b[0m\u001b[1;32m--> 258 \u001b[1;33m    \u001b[1;32mdef\u001b[0m \u001b[0m__call__\u001b[0m\u001b[1;33m(\u001b[0m\u001b[0mself\u001b[0m\u001b[1;33m,\u001b[0m \u001b[0mresult\u001b[0m\u001b[1;33m=\u001b[0m\u001b[1;32mNone\u001b[0m\u001b[1;33m)\u001b[0m\u001b[1;33m:\u001b[0m\u001b[1;33m\u001b[0m\u001b[1;33m\u001b[0m\u001b[0m\n",
      "\u001b[0m\u001b[1;32m    259 \u001b[1;33m        \"\"\"Printing with history cache management.\n",
      "\u001b[0m\u001b[1;32m    260 \u001b[1;33m\u001b[1;33m\u001b[0m\u001b[0m\n",
      "\u001b[0m\n"
     ]
    }
   ],
   "source": [
    "import pdb\n",
    "pdb.set_trace()  # Insert this line where you want to start debugging\n"
   ]
  },
  {
   "cell_type": "code",
   "execution_count": 3,
   "metadata": {},
   "outputs": [
    {
     "name": "stdout",
     "output_type": "stream",
     "text": [
      "{'key1': [1, 2, 3], 'key2': {'nested_key': 'value'}}\n"
     ]
    }
   ],
   "source": [
    "import pprint\n",
    "data = {'key1': [1, 2, 3],\n",
    "         'key2': {'nested_key':\n",
    "                   'value'}}\n",
    "pprint.pprint(data)\n"
   ]
  },
  {
   "cell_type": "code",
   "execution_count": 11,
   "metadata": {},
   "outputs": [
    {
     "name": "stdout",
     "output_type": "stream",
     "text": [
      "136\n"
     ]
    }
   ],
   "source": [
    "import sys\n",
    "my_list = [1, 2, 3,'a',900,-8.88,0,100,100]\n",
    "print(sys.getsizeof(my_list))  # Outputs memory size in bytes\n"
   ]
  },
  {
   "cell_type": "code",
   "execution_count": null,
   "metadata": {},
   "outputs": [
    {
     "name": "stdout",
     "output_type": "stream",
     "text": [
      "\n",
      "Welcome to Python 3.11's help utility!\n",
      "\n",
      "If this is your first time using Python, you should definitely check out\n",
      "the tutorial on the internet at https://docs.python.org/3.11/tutorial/.\n",
      "\n",
      "Enter the name of any module, keyword, or topic to get help on writing\n",
      "Python programs and using Python modules.  To quit this help utility and\n",
      "return to the interpreter, just type \"quit\".\n",
      "\n",
      "To get a list of available modules, keywords, symbols, or topics, type\n",
      "\"modules\", \"keywords\", \"symbols\", or \"topics\".  Each module also comes\n",
      "with a one-line summary of what it does; to list the modules whose name\n",
      "or summary contain a given string such as \"spam\", type \"modules spam\".\n",
      "\n"
     ]
    }
   ],
   "source": [
    "help()  # Launches interactive help in the terminal\n"
   ]
  },
  {
   "cell_type": "code",
   "execution_count": 1,
   "metadata": {},
   "outputs": [
    {
     "name": "stdout",
     "output_type": "stream",
     "text": [
      "\n",
      "Please wait a moment while I gather a list of all available modules...\n",
      "\n"
     ]
    },
    {
     "name": "stderr",
     "output_type": "stream",
     "text": [
      "WARNING: AstropyDeprecationWarning: The private astropy._erfa module has been made into its own package, pyerfa, which is a dependency of astropy and can be imported directly using \"import erfa\" [astropy._erfa]\n",
      "c:\\Users\\raksh\\anaconda3\\Lib\\site-packages\\paramiko\\transport.py:219: CryptographyDeprecationWarning: Blowfish has been deprecated\n",
      "  \"class\": algorithms.Blowfish,\n",
      "c:\\Users\\raksh\\anaconda3\\Lib\\site-packages\\nltk\\twitter\\__init__.py:20: UserWarning: The twython library has not been installed. Some functionality from the twitter package will not be available.\n",
      "  warnings.warn(\n",
      "c:\\Users\\raksh\\anaconda3\\Lib\\pkgutil.py:92: NumbaPendingDeprecationWarning: \u001b[1mThe 'pycc' module is pending deprecation. Replacement technology is being developed.\n",
      "\n",
      "Pending Deprecation in Numba 0.57.0. For more information please see: https://numba.readthedocs.io/en/stable/reference/deprecation.html#deprecation-of-the-numba-pycc-module\u001b[0m\n",
      "  __import__(info.name)\n",
      "c:\\Users\\raksh\\anaconda3\\Lib\\pkgutil.py:92: UserWarning: The numpy.array_api submodule is still experimental. See NEP 47.\n",
      "  __import__(info.name)\n",
      "c:\\Users\\raksh\\anaconda3\\Lib\\site-packages\\_distutils_hack\\__init__.py:33: UserWarning: Setuptools is replacing distutils.\n",
      "  warnings.warn(\"Setuptools is replacing distutils.\")\n",
      "No QCoreApplication instance found. Application patches not applied. You have to call load_stylesheet function after instantiation of QApplication to take effect. \n",
      "None of PyTorch, TensorFlow >= 2.0, or Flax have been found. Models won't be available and only tokenizers, configuration and file/data utilities can be used.\n",
      "c:\\Users\\raksh\\anaconda3\\Lib\\pkgutil.py:107: VisibleDeprecationWarning:\n",
      "\n",
      "zmq.eventloop.minitornado is deprecated in pyzmq 14.0 and will be removed.\n",
      "    Install tornado itself to use zmq with the tornado IOLoop.\n",
      "    \n",
      "\n"
     ]
    },
    {
     "name": "stdout",
     "output_type": "stream",
     "text": [
      "IPython             concurrent          mdurl               smtplib\n",
      "OpenSSL             conda               menuinst            snappy\n",
      "PIL                 conda_build         mimetypes           sndhdr\n",
      "PyQt5               conda_content_trust mistune             sniffio\n",
      "TBB                 conda_env           mkl                 snowballstemmer\n",
      "__future__          conda_index         mkl_fft             socket\n",
      "__hello__           conda_libmamba_solver mmap                socketserver\n",
      "__phello__          conda_pack          mmapfile            socks\n",
      "_abc                conda_package_handling mmsystem            sockshandler\n",
      "_aix_support        conda_package_streaming modulefinder        sortedcontainers\n",
      "_argon2_cffi_bindings conda_token         more_itertools      soupsieve\n",
      "_ast                conda_verify        mpmath              sphinx\n",
      "_asyncio            configparser        msgpack             spyder\n",
      "_bisect             constantly          msilib              spyder_kernels\n",
      "_black_version      contextlib          msvcrt              sqlalchemy\n",
      "_blake2             contextvars         multidict           sqlite3\n",
      "_bootsubprocess     contourpy           multipledispatch    sre_compile\n",
      "_bz2                cookiecutter        multiprocess        sre_constants\n",
      "_cffi_backend       copy                multiprocessing     sre_parse\n",
      "_codecs             copyreg             munkres             ssl\n",
      "_codecs_cn          cpuinfo             mypy_extensions     sspi\n",
      "_codecs_hk          crypt               nacl                sspicon\n",
      "_codecs_iso2022     cryptography        navigator_updater   stack_data\n",
      "_codecs_jp          cssselect           nbclassic           stat\n",
      "_codecs_kr          csv                 nbclient            statistics\n",
      "_codecs_tw          ctypes              nbconvert           statsmodels\n",
      "_collections        curl                nbformat            string\n",
      "_collections_abc    curses              nest_asyncio        stringprep\n",
      "_compat_pickle      cwp                 netbios             struct\n",
      "_compression        cycler              netrc               subprocess\n",
      "_contextvars        cytoolz             networkx            sunau\n",
      "_csv                daal4py             nltk                sympy\n",
      "_ctypes             dask                nntplib             symtable\n",
      "_ctypes_test        dataclasses         notebook            sys\n",
      "_datetime           datasets            notebook_shim       sysconfig\n",
      "_decimal            datashader          nt                  tables\n",
      "_distutils_hack     datashape           ntpath              tabnanny\n",
      "_elementtree        datetime            ntsecuritycon       tabulate\n",
      "_functools          dateutil            nturl2path          tarfile\n",
      "_hashlib            dbi                 numba               tbb\n",
      "_heapq              dbm                 numbergen           tblib\n",
      "_imp                dde                 numbers             telnetlib\n",
      "_io                 debugpy             numexpr             tempfile\n",
      "_json               decimal             numpy               tenacity\n",
      "_locale             decorator           numpydoc            terminado\n",
      "_lsprof             defusedxml          odbc                test\n",
      "_lzma               diff_match_patch    onedal              test_pycosat\n",
      "_markupbase         difflib             opcode              text_unidecode\n",
      "_md5                dill                openpyxl            textdistance\n",
      "_msi                dis                 operator            textwrap\n",
      "_multibytecodec     distributed         optparse            this\n",
      "_multiprocess       distutils           os                  threading\n",
      "_multiprocessing    docstring_to_markdown packaging           threadpoolctl\n",
      "_nsis               doctest             pandas              three_merge\n",
      "_opcode             docutils            pandocfilters       tifffile\n",
      "_operator           dotenv              panel               time\n",
      "_osx_support        email               param               timeit\n",
      "_overlapped         encodings           paramiko            timer\n",
      "_pickle             ensurepip           parsel              tinycss2\n",
      "_plotly_future_     entrypoints         parso               tkinter\n",
      "_plotly_utils       enum                partd               tldextract\n",
      "_py_abc             erfa                past                tlz\n",
      "_pydecimal          errno               pathlib             token\n",
      "_pyio               et_xmlfile          pathspec            tokenize\n",
      "_pyrsistent_version executing           patsy               tokenizers\n",
      "_pytest             fastjsonschema      pdb                 toml\n",
      "_queue              faulthandler        pep8                tomlkit\n",
      "_random             filecmp             perfmon             tomllib\n",
      "_sha1               fileinput           pexpect             toolz\n",
      "_sha256             filelock            pickle              tornado\n",
      "_sha3               flake8              pickleshare         tqdm\n",
      "_sha512             flask               pickletools         trace\n",
      "_signal             fnmatch             pip                 traceback\n",
      "_sitebuiltins       fontTools           pipes               tracemalloc\n",
      "_socket             fractions           pkce                traitlets\n",
      "_sqlite3            frozenlist          pkg_resources       transformers\n",
      "_sre                fsspec              pkginfo             tty\n",
      "_ssl                ftplib              pkgutil             turtle\n",
      "_stat               functools           platform            turtledemo\n",
      "_statistics         future              platformdirs        twisted\n",
      "_string             gc                  plistlib            types\n",
      "_strptime           genericpath         plotly              typing\n",
      "_struct             gensim              pluggy              typing_extensions\n",
      "_symtable           getopt              ply                 tzdata\n",
      "_system_path        getpass             poplib              uc_micro\n",
      "_testbuffer         gettext             posixpath           ujson\n",
      "_testcapi           glob                poyo                unicodedata\n",
      "_testconsole        glob2               pprint              unidecode\n",
      "_testimportmultiple graphlib            profile             unittest\n",
      "_testinternalcapi   greenlet            prometheus_client   urllib\n",
      "_testmultiphase     gzip                prompt_toolkit      urllib3\n",
      "_thread             h5py                protego             uu\n",
      "_threading_local    hashlib             pstats              uuid\n",
      "_tkinter            heapdict            psutil              venv\n",
      "_tokenize           heapq               pty                 w3lib\n",
      "_tracemalloc        hmac                ptyprocess          warnings\n",
      "_typing             holoviews           pure_eval           watchdog\n",
      "_uuid               html                pvectorc            wave\n",
      "_warnings           http                py                  wcwidth\n",
      "_weakref            huggingface_hub     py_compile          weakref\n",
      "_weakrefset         hvplot              pyarrow             webbrowser\n",
      "_win32sysloader     hyperlink           pyasn1              webencodings\n",
      "_winapi             idlelib             pyasn1_modules      websocket\n",
      "_winxptheme         idna                pyclbr              werkzeug\n",
      "_xxsubinterpreters  imagecodecs         pycodestyle         whatthepatch\n",
      "_yaml               imageio             pycosat             wheel\n",
      "_zoneinfo           imagesize           pycparser           widgetsnbextension\n",
      "abc                 imaplib             pyct                win2kras\n",
      "adodbapi            imblearn            pycurl              win32api\n",
      "afxres              imghdr              pydantic            win32clipboard\n",
      "aifc                imp                 pydispatch          win32com\n",
      "aiobotocore         importlib           pydoc               win32con\n",
      "aiofiles            importlib_metadata  pydoc_data          win32console\n",
      "aiohttp             incremental         pydocstyle          win32cred\n",
      "aioitertools        inflection          pyexpat             win32crypt\n",
      "aiosignal           iniconfig           pyflakes            win32cryptcon\n",
      "aiosqlite           inspect             pygments            win32ctypes\n",
      "alabaster           intake              pylab               win32event\n",
      "anaconda_anon_usage intervaltree        pylint              win32evtlog\n",
      "anaconda_catalogs   io                  pylint_venv         win32evtlogutil\n",
      "anaconda_cloud_auth ipaddress           pyls_spyder         win32file\n",
      "anaconda_navigator  ipykernel           pylsp               win32gui\n",
      "anaconda_project    ipykernel_launcher  pylsp_black         win32gui_struct\n",
      "antigravity         ipython_genutils    pylsp_jsonrpc       win32help\n",
      "anyio               ipywidgets          pyodbc              win32inet\n",
      "appdirs             isapi               pyparsing           win32inetcon\n",
      "argon2              isort               pyrsistent          win32job\n",
      "argparse            isympy              pytest              win32lz\n",
      "array               itemadapter         pythoncom           win32net\n",
      "arrow               itemloaders         pythonjsonlogger    win32netcon\n",
      "ast                 itertools           pytoolconfig        win32pdh\n",
      "astroid             itsdangerous        pytz                win32pdhquery\n",
      "astropy             jedi                pyviz_comms         win32pdhutil\n",
      "asttokens           jellyfish           pywin               win32pipe\n",
      "async_timeout       jinja2              pywin32_bootstrap   win32print\n",
      "asynchat            jinja2_time         pywin32_testutil    win32process\n",
      "asyncio             jmespath            pywintypes          win32profile\n",
      "asyncore            joblib              pywt                win32ras\n",
      "atexit              json                qdarkstyle          win32rcparser\n",
      "atomicwrites        json5               qstylizer           win32security\n",
      "attr                jsonpatch           qtawesome           win32service\n",
      "attrs               jsonpointer         qtconsole           win32serviceutil\n",
      "audioop             jsonschema          qtpy                win32timezone\n",
      "automat             jupyter             queue               win32trace\n",
      "autopep8            jupyter_client      queuelib            win32traceutil\n",
      "babel               jupyter_console     quopri              win32transaction\n",
      "backcall            jupyter_core        random              win32ts\n",
      "backports           jupyter_events      rasutil             win32ui\n",
      "base64              jupyter_server      re                  win32uiole\n",
      "bcrypt              jupyter_server_fileid regcheck            win32verstamp\n",
      "bdb                 jupyter_server_ydoc regex               win32wnet\n",
      "binaryornot         jupyter_ydoc        regutil             win_inet_pton\n",
      "binascii            jupyterlab          repo_cli            winerror\n",
      "binstar_client      jupyterlab_plotly   reprlib             winioctlcon\n",
      "bisect              jupyterlab_pygments requests            winnt\n",
      "black               jupyterlab_server   requests_file       winperf\n",
      "blackd              jupyterlab_widgets  requests_toolbelt   winpty\n",
      "bleach              jwt                 responses           winreg\n",
      "blib2to3            kaleido             rfc3339_validator   winsound\n",
      "bokeh               keyring             rfc3986_validator   winxpgui\n",
      "boltons             keyword             rlcompleter         winxptheme\n",
      "botocore            kiwisolver          rope                wrapt\n",
      "bottleneck          lazy_loader         rtree               wsgiref\n",
      "brotli              lazy_object_proxy   ruamel_yaml         xarray\n",
      "bs4                 lib2to3             runpy               xdrlib\n",
      "builtins            libarchive          s3fs                xlwings\n",
      "bz2                 libfuturize         safetensors         xml\n",
      "cProfile            libmambapy          sched               xmlrpc\n",
      "calendar            libpasteurize       scipy               xxhash\n",
      "certifi             lief                scrapy              xxlimited\n",
      "cffi                linecache           seaborn             xxlimited_35\n",
      "cgi                 linkify_it          secrets             xxsubtype\n",
      "cgitb               llvmlite            select              xyzservices\n",
      "chardet             lmdb                selectors           y_py\n",
      "charset_normalizer  locale              send2trash          yaml\n",
      "chunk               locket              service_identity    yapf\n",
      "click               logging             servicemanager      yapftests\n",
      "cloudpickle         lxml                setuptools          yarl\n",
      "clyent              lz4                 shelve              ypy_websocket\n",
      "cmath               lzma                shlex               zict\n",
      "cmd                 mailbox             shutil              zipapp\n",
      "code                mailcap             signal              zipfile\n",
      "codecs              markdown            sipbuild            zipimport\n",
      "codeop              markdown_it         site                zipp\n",
      "collections         markupsafe          six                 zlib\n",
      "colorama            marshal             skimage             zmq\n",
      "colorcet            math                sklearn             zoneinfo\n",
      "colorsys            matplotlib          sklearnex           zope\n",
      "comm                matplotlib_inline   slugify             zstandard\n",
      "commctrl            mccabe              smart_open          \n",
      "compileall          mdit_py_plugins     smtpd               \n",
      "\n",
      "Enter any module name to get more help.  Or, type \"modules spam\" to search\n",
      "for modules whose name or summary contain the string \"spam\".\n",
      "\n"
     ]
    }
   ],
   "source": [
    "help('modules')"
   ]
  },
  {
   "cell_type": "code",
   "execution_count": 2,
   "metadata": {},
   "outputs": [
    {
     "name": "stdout",
     "output_type": "stream",
     "text": [
      "\n",
      "Here is a list of the Python keywords.  Enter any keyword to get more help.\n",
      "\n",
      "False               class               from                or\n",
      "None                continue            global              pass\n",
      "True                def                 if                  raise\n",
      "and                 del                 import              return\n",
      "as                  elif                in                  try\n",
      "assert              else                is                  while\n",
      "async               except              lambda              with\n",
      "await               finally             nonlocal            yield\n",
      "break               for                 not                 \n",
      "\n"
     ]
    }
   ],
   "source": [
    "help('keywords')"
   ]
  },
  {
   "cell_type": "code",
   "execution_count": 3,
   "metadata": {},
   "outputs": [
    {
     "name": "stdout",
     "output_type": "stream",
     "text": [
      "Coroutines\n",
      "**********\n",
      "\n",
      "New in version 3.5.\n",
      "\n",
      "\n",
      "Coroutine function definition\n",
      "=============================\n",
      "\n",
      "   async_funcdef ::= [decorators] \"async\" \"def\" funcname \"(\" [parameter_list] \")\"\n",
      "                     [\"->\" expression] \":\" suite\n",
      "\n",
      "Execution of Python coroutines can be suspended and resumed at many\n",
      "points (see *coroutine*). \"await\" expressions, \"async for\" and \"async\n",
      "with\" can only be used in the body of a coroutine function.\n",
      "\n",
      "Functions defined with \"async def\" syntax are always coroutine\n",
      "functions, even if they do not contain \"await\" or \"async\" keywords.\n",
      "\n",
      "It is a \"SyntaxError\" to use a \"yield from\" expression inside the body\n",
      "of a coroutine function.\n",
      "\n",
      "An example of a coroutine function:\n",
      "\n",
      "   async def func(param1, param2):\n",
      "       do_stuff()\n",
      "       await some_coroutine()\n",
      "\n",
      "Changed in version 3.7: \"await\" and \"async\" are now keywords;\n",
      "previously they were only treated as such inside the body of a\n",
      "coroutine function.\n",
      "\n",
      "\n",
      "The \"async for\" statement\n",
      "=========================\n",
      "\n",
      "   async_for_stmt ::= \"async\" for_stmt\n",
      "\n",
      "An *asynchronous iterable* provides an \"__aiter__\" method that\n",
      "directly returns an *asynchronous iterator*, which can call\n",
      "asynchronous code in its \"__anext__\" method.\n",
      "\n",
      "The \"async for\" statement allows convenient iteration over\n",
      "asynchronous iterables.\n",
      "\n",
      "The following code:\n",
      "\n",
      "   async for TARGET in ITER:\n",
      "       SUITE\n",
      "   else:\n",
      "       SUITE2\n",
      "\n",
      "Is semantically equivalent to:\n",
      "\n",
      "   iter = (ITER)\n",
      "   iter = type(iter).__aiter__(iter)\n",
      "   running = True\n",
      "\n",
      "   while running:\n",
      "       try:\n",
      "           TARGET = await type(iter).__anext__(iter)\n",
      "       except StopAsyncIteration:\n",
      "           running = False\n",
      "       else:\n",
      "           SUITE\n",
      "   else:\n",
      "       SUITE2\n",
      "\n",
      "See also \"__aiter__()\" and \"__anext__()\" for details.\n",
      "\n",
      "It is a \"SyntaxError\" to use an \"async for\" statement outside the body\n",
      "of a coroutine function.\n",
      "\n",
      "\n",
      "The \"async with\" statement\n",
      "==========================\n",
      "\n",
      "   async_with_stmt ::= \"async\" with_stmt\n",
      "\n",
      "An *asynchronous context manager* is a *context manager* that is able\n",
      "to suspend execution in its *enter* and *exit* methods.\n",
      "\n",
      "The following code:\n",
      "\n",
      "   async with EXPRESSION as TARGET:\n",
      "       SUITE\n",
      "\n",
      "is semantically equivalent to:\n",
      "\n",
      "   manager = (EXPRESSION)\n",
      "   aenter = type(manager).__aenter__\n",
      "   aexit = type(manager).__aexit__\n",
      "   value = await aenter(manager)\n",
      "   hit_except = False\n",
      "\n",
      "   try:\n",
      "       TARGET = value\n",
      "       SUITE\n",
      "   except:\n",
      "       hit_except = True\n",
      "       if not await aexit(manager, *sys.exc_info()):\n",
      "           raise\n",
      "   finally:\n",
      "       if not hit_except:\n",
      "           await aexit(manager, None, None, None)\n",
      "\n",
      "See also \"__aenter__()\" and \"__aexit__()\" for details.\n",
      "\n",
      "It is a \"SyntaxError\" to use an \"async with\" statement outside the\n",
      "body of a coroutine function.\n",
      "\n",
      "See also:\n",
      "\n",
      "  **PEP 492** - Coroutines with async and await syntax\n",
      "     The proposal that made coroutines a proper standalone concept in\n",
      "     Python, and added supporting syntax.\n",
      "\n",
      "-[ Footnotes ]-\n",
      "\n",
      "[1] The exception is propagated to the invocation stack unless there\n",
      "    is a \"finally\" clause which happens to raise another exception.\n",
      "    That new exception causes the old one to be lost.\n",
      "\n",
      "[2] In pattern matching, a sequence is defined as one of the\n",
      "    following:\n",
      "\n",
      "       * a class that inherits from \"collections.abc.Sequence\"\n",
      "\n",
      "       * a Python class that has been registered as\n",
      "         \"collections.abc.Sequence\"\n",
      "\n",
      "       * a builtin class that has its (CPython) \"Py_TPFLAGS_SEQUENCE\"\n",
      "         bit set\n",
      "\n",
      "       * a class that inherits from any of the above\n",
      "\n",
      "    The following standard library classes are sequences:\n",
      "\n",
      "       * \"array.array\"\n",
      "\n",
      "       * \"collections.deque\"\n",
      "\n",
      "       * \"list\"\n",
      "\n",
      "       * \"memoryview\"\n",
      "\n",
      "       * \"range\"\n",
      "\n",
      "       * \"tuple\"\n",
      "\n",
      "    Note:\n",
      "\n",
      "      Subject values of type \"str\", \"bytes\", and \"bytearray\" do not\n",
      "      match sequence patterns.\n",
      "\n",
      "[3] In pattern matching, a mapping is defined as one of the following:\n",
      "\n",
      "       * a class that inherits from \"collections.abc.Mapping\"\n",
      "\n",
      "       * a Python class that has been registered as\n",
      "         \"collections.abc.Mapping\"\n",
      "\n",
      "       * a builtin class that has its (CPython) \"Py_TPFLAGS_MAPPING\"\n",
      "         bit set\n",
      "\n",
      "       * a class that inherits from any of the above\n",
      "\n",
      "    The standard library classes \"dict\" and \"types.MappingProxyType\"\n",
      "    are mappings.\n",
      "\n",
      "[4] A string literal appearing as the first statement in the function\n",
      "    body is transformed into the function’s \"__doc__\" attribute and\n",
      "    therefore the function’s *docstring*.\n",
      "\n",
      "[5] A string literal appearing as the first statement in the class\n",
      "    body is transformed into the namespace’s \"__doc__\" item and\n",
      "    therefore the class’s *docstring*.\n",
      "\n"
     ]
    }
   ],
   "source": [
    "help('async')"
   ]
  },
  {
   "cell_type": "code",
   "execution_count": 4,
   "metadata": {},
   "outputs": [
    {
     "name": "stdout",
     "output_type": "stream",
     "text": [
      "3.11.5 | packaged by Anaconda, Inc. | (main, Sep 11 2023, 13:26:23) [MSC v.1916 64 bit (AMD64)]\n",
      "['c:\\\\Users\\\\raksh\\\\anaconda3\\\\Lib\\\\site-packages\\\\spyder\\\\plugins\\\\help\\\\utils', 'c:\\\\Users\\\\raksh\\\\OneDrive\\\\Documents\\\\GitHub\\\\Python-1001', 'c:\\\\Users\\\\raksh\\\\OneDrive\\\\Documents\\\\GitHub\\\\Python-1001\\\\Python Basics', 'c:\\\\Users\\\\raksh\\\\anaconda3\\\\python311.zip', 'c:\\\\Users\\\\raksh\\\\anaconda3\\\\DLLs', 'c:\\\\Users\\\\raksh\\\\anaconda3\\\\Lib', 'c:\\\\Users\\\\raksh\\\\anaconda3', '', 'c:\\\\Users\\\\raksh\\\\anaconda3\\\\Lib\\\\site-packages', 'c:\\\\Users\\\\raksh\\\\anaconda3\\\\Lib\\\\site-packages\\\\win32', 'c:\\\\Users\\\\raksh\\\\anaconda3\\\\Lib\\\\site-packages\\\\win32\\\\lib', 'c:\\\\Users\\\\raksh\\\\anaconda3\\\\Lib\\\\site-packages\\\\Pythonwin']\n"
     ]
    }
   ],
   "source": [
    "import sys\n",
    "print(sys.version)  # Python version\n",
    "print(sys.path)     # Module search paths\n"
   ]
  },
  {
   "cell_type": "code",
   "execution_count": 5,
   "metadata": {},
   "outputs": [
    {
     "name": "stdout",
     "output_type": "stream",
     "text": [
      "  2           0 RESUME                   0\n",
      "              2 LOAD_CONST               1 (4)\n",
      "              4 RETURN_VALUE\n"
     ]
    }
   ],
   "source": [
    "import dis\n",
    "def example(): return 2 + 2\n",
    "dis.dis(example)\n"
   ]
  },
  {
   "cell_type": "code",
   "execution_count": 6,
   "metadata": {},
   "outputs": [
    {
     "ename": "SyntaxError",
     "evalue": "invalid syntax (2491975319.py, line 1)",
     "output_type": "error",
     "traceback": [
      "\u001b[1;36m  Cell \u001b[1;32mIn[6], line 1\u001b[1;36m\u001b[0m\n\u001b[1;33m    python -m timeit -s \"import math\" \"math.sqrt(144)\"\u001b[0m\n\u001b[1;37m              ^\u001b[0m\n\u001b[1;31mSyntaxError\u001b[0m\u001b[1;31m:\u001b[0m invalid syntax\n"
     ]
    }
   ],
   "source": [
    "python -m timeit -s \"import math\" \"math.sqrt(144)\"\n"
   ]
  },
  {
   "cell_type": "code",
   "execution_count": 13,
   "metadata": {},
   "outputs": [
    {
     "data": {
      "text/plain": [
       "type"
      ]
     },
     "execution_count": 13,
     "metadata": {},
     "output_type": "execute_result"
    }
   ],
   "source": [
    "from collections import Counter\n",
    "\n",
    "type(Counter)"
   ]
  },
  {
   "cell_type": "code",
   "execution_count": 16,
   "metadata": {},
   "outputs": [
    {
     "data": {
      "text/plain": [
       "['_keep_positive',\n",
       " 'clear',\n",
       " 'copy',\n",
       " 'elements',\n",
       " 'fromkeys',\n",
       " 'get',\n",
       " 'items',\n",
       " 'keys',\n",
       " 'most_common',\n",
       " 'pop',\n",
       " 'popitem',\n",
       " 'setdefault',\n",
       " 'subtract',\n",
       " 'total',\n",
       " 'update',\n",
       " 'values']"
      ]
     },
     "execution_count": 16,
     "metadata": {},
     "output_type": "execute_result"
    }
   ],
   "source": [
    "con = dir(Counter)\n",
    "type(con)\n",
    "a = [i for i in con if not i.startswith(\"__\")]\n",
    "a"
   ]
  },
  {
   "cell_type": "code",
   "execution_count": 17,
   "metadata": {},
   "outputs": [],
   "source": [
    "from collections import Counter"
   ]
  },
  {
   "cell_type": "code",
   "execution_count": 20,
   "metadata": {},
   "outputs": [
    {
     "name": "stdout",
     "output_type": "stream",
     "text": [
      "a 3\n",
      "b 1\n",
      "c 2\n",
      "d 1\n"
     ]
    }
   ],
   "source": [
    "data = ['a','b','c','d','a','c','a']\n",
    "counter = Counter(data)\n",
    "for i,v in counter.items():\n",
    "    print(i,v)"
   ]
  },
  {
   "cell_type": "code",
   "execution_count": null,
   "metadata": {},
   "outputs": [],
   "source": [
    "import cProfile\n",
    "cProfile.run(\"sum(range(100000**2))\")"
   ]
  },
  {
   "cell_type": "code",
   "execution_count": 2,
   "metadata": {},
   "outputs": [
    {
     "name": "stdout",
     "output_type": "stream",
     "text": [
      "         4 function calls in 0.000 seconds\n",
      "\n",
      "   Ordered by: standard name\n",
      "\n",
      "   ncalls  tottime  percall  cumtime  percall filename:lineno(function)\n",
      "        1    0.000    0.000    0.000    0.000 <string>:1(<module>)\n",
      "        1    0.000    0.000    0.000    0.000 {built-in method builtins.exec}\n",
      "        1    0.000    0.000    0.000    0.000 {built-in method builtins.sum}\n",
      "        1    0.000    0.000    0.000    0.000 {method 'disable' of '_lsprof.Profiler' objects}\n",
      "\n",
      "\n"
     ]
    }
   ],
   "source": [
    "import cProfile\n",
    "cProfile.run(\"sum(range(10))\")"
   ]
  },
  {
   "cell_type": "code",
   "execution_count": 3,
   "metadata": {},
   "outputs": [
    {
     "name": "stdout",
     "output_type": "stream",
     "text": [
      "C:\\Users\\raksh\\example.txt\n",
      "False\n"
     ]
    }
   ],
   "source": [
    "from pathlib import Path\n",
    "path = Path.home() / \"example.txt\"\n",
    "print(path)\n",
    "print(path.exists())"
   ]
  },
  {
   "cell_type": "code",
   "execution_count": 55,
   "metadata": {},
   "outputs": [
    {
     "name": "stdout",
     "output_type": "stream",
     "text": [
      "Heads\n"
     ]
    }
   ],
   "source": [
    "import random\n",
    "\n",
    "if random.randint(1,2) == 1:\n",
    "    print('Heads')\n",
    "else:\n",
    "    print('Tails')"
   ]
  },
  {
   "cell_type": "code",
   "execution_count": 60,
   "metadata": {},
   "outputs": [
    {
     "name": "stdout",
     "output_type": "stream",
     "text": [
      "Yogi\n"
     ]
    }
   ],
   "source": [
    "import random\n",
    "print(random.choice(['Yogi','Rakz']))"
   ]
  },
  {
   "cell_type": "code",
   "execution_count": null,
   "metadata": {},
   "outputs": [],
   "source": [
    "def max_subarray_sum(arr):\n",
    "    # Initialize max_sum and current sum with the first element\n",
    "    max_sum = curr_sum = arr[0]  \n",
    "    # Iterate through the array starting from the second element\n",
    "    for num in arr[1:]:  \n",
    "        # Update current sum to either current element or current sum + element\n",
    "        curr_sum = max(num, curr_sum + num)  \n",
    "        # Update max_sum if current sum is greater\n",
    "        max_sum = max(max_sum, curr_sum)  \n",
    "    # Return the maximum subarray sum\n",
    "    return max_sum  \n"
   ]
  },
  {
   "cell_type": "code",
   "execution_count": null,
   "metadata": {},
   "outputs": [],
   "source": []
  },
  {
   "cell_type": "code",
   "execution_count": 68,
   "metadata": {},
   "outputs": [
    {
     "name": "stdout",
     "output_type": "stream",
     "text": [
      "You will do 9 Problems from Leetcode\n"
     ]
    }
   ],
   "source": [
    "listOfProblems = ['100Basics','DevTips','160Problems','Leetcode','Patterns','DurgaTheory']\n",
    "\n",
    "print(f'You will do {random.randint(1,10)} Problems from {random.choice(listOfProblems)}')"
   ]
  },
  {
   "cell_type": "code",
   "execution_count": 69,
   "metadata": {},
   "outputs": [
    {
     "name": "stdout",
     "output_type": "stream",
     "text": [
      "1 ('100Basics', 'DevTips', '160Problems')\n",
      "2 ('100Basics', 'DevTips', 'Leetcode')\n",
      "3 ('100Basics', 'DevTips', 'Patterns')\n",
      "4 ('100Basics', 'DevTips', 'DurgaTheory')\n",
      "5 ('100Basics', '160Problems', 'DevTips')\n",
      "6 ('100Basics', '160Problems', 'Leetcode')\n",
      "7 ('100Basics', '160Problems', 'Patterns')\n",
      "8 ('100Basics', '160Problems', 'DurgaTheory')\n",
      "9 ('100Basics', 'Leetcode', 'DevTips')\n",
      "10 ('100Basics', 'Leetcode', '160Problems')\n",
      "11 ('100Basics', 'Leetcode', 'Patterns')\n",
      "12 ('100Basics', 'Leetcode', 'DurgaTheory')\n",
      "13 ('100Basics', 'Patterns', 'DevTips')\n",
      "14 ('100Basics', 'Patterns', '160Problems')\n",
      "15 ('100Basics', 'Patterns', 'Leetcode')\n",
      "16 ('100Basics', 'Patterns', 'DurgaTheory')\n",
      "17 ('100Basics', 'DurgaTheory', 'DevTips')\n",
      "18 ('100Basics', 'DurgaTheory', '160Problems')\n",
      "19 ('100Basics', 'DurgaTheory', 'Leetcode')\n",
      "20 ('100Basics', 'DurgaTheory', 'Patterns')\n",
      "21 ('DevTips', '100Basics', '160Problems')\n",
      "22 ('DevTips', '100Basics', 'Leetcode')\n",
      "23 ('DevTips', '100Basics', 'Patterns')\n",
      "24 ('DevTips', '100Basics', 'DurgaTheory')\n",
      "25 ('DevTips', '160Problems', '100Basics')\n",
      "26 ('DevTips', '160Problems', 'Leetcode')\n",
      "27 ('DevTips', '160Problems', 'Patterns')\n",
      "28 ('DevTips', '160Problems', 'DurgaTheory')\n",
      "29 ('DevTips', 'Leetcode', '100Basics')\n",
      "30 ('DevTips', 'Leetcode', '160Problems')\n",
      "31 ('DevTips', 'Leetcode', 'Patterns')\n",
      "32 ('DevTips', 'Leetcode', 'DurgaTheory')\n",
      "33 ('DevTips', 'Patterns', '100Basics')\n",
      "34 ('DevTips', 'Patterns', '160Problems')\n",
      "35 ('DevTips', 'Patterns', 'Leetcode')\n",
      "36 ('DevTips', 'Patterns', 'DurgaTheory')\n",
      "37 ('DevTips', 'DurgaTheory', '100Basics')\n",
      "38 ('DevTips', 'DurgaTheory', '160Problems')\n",
      "39 ('DevTips', 'DurgaTheory', 'Leetcode')\n",
      "40 ('DevTips', 'DurgaTheory', 'Patterns')\n",
      "41 ('160Problems', '100Basics', 'DevTips')\n",
      "42 ('160Problems', '100Basics', 'Leetcode')\n",
      "43 ('160Problems', '100Basics', 'Patterns')\n",
      "44 ('160Problems', '100Basics', 'DurgaTheory')\n",
      "45 ('160Problems', 'DevTips', '100Basics')\n",
      "46 ('160Problems', 'DevTips', 'Leetcode')\n",
      "47 ('160Problems', 'DevTips', 'Patterns')\n",
      "48 ('160Problems', 'DevTips', 'DurgaTheory')\n",
      "49 ('160Problems', 'Leetcode', '100Basics')\n",
      "50 ('160Problems', 'Leetcode', 'DevTips')\n",
      "51 ('160Problems', 'Leetcode', 'Patterns')\n",
      "52 ('160Problems', 'Leetcode', 'DurgaTheory')\n",
      "53 ('160Problems', 'Patterns', '100Basics')\n",
      "54 ('160Problems', 'Patterns', 'DevTips')\n",
      "55 ('160Problems', 'Patterns', 'Leetcode')\n",
      "56 ('160Problems', 'Patterns', 'DurgaTheory')\n",
      "57 ('160Problems', 'DurgaTheory', '100Basics')\n",
      "58 ('160Problems', 'DurgaTheory', 'DevTips')\n",
      "59 ('160Problems', 'DurgaTheory', 'Leetcode')\n",
      "60 ('160Problems', 'DurgaTheory', 'Patterns')\n",
      "61 ('Leetcode', '100Basics', 'DevTips')\n",
      "62 ('Leetcode', '100Basics', '160Problems')\n",
      "63 ('Leetcode', '100Basics', 'Patterns')\n",
      "64 ('Leetcode', '100Basics', 'DurgaTheory')\n",
      "65 ('Leetcode', 'DevTips', '100Basics')\n",
      "66 ('Leetcode', 'DevTips', '160Problems')\n",
      "67 ('Leetcode', 'DevTips', 'Patterns')\n",
      "68 ('Leetcode', 'DevTips', 'DurgaTheory')\n",
      "69 ('Leetcode', '160Problems', '100Basics')\n",
      "70 ('Leetcode', '160Problems', 'DevTips')\n",
      "71 ('Leetcode', '160Problems', 'Patterns')\n",
      "72 ('Leetcode', '160Problems', 'DurgaTheory')\n",
      "73 ('Leetcode', 'Patterns', '100Basics')\n",
      "74 ('Leetcode', 'Patterns', 'DevTips')\n",
      "75 ('Leetcode', 'Patterns', '160Problems')\n",
      "76 ('Leetcode', 'Patterns', 'DurgaTheory')\n",
      "77 ('Leetcode', 'DurgaTheory', '100Basics')\n",
      "78 ('Leetcode', 'DurgaTheory', 'DevTips')\n",
      "79 ('Leetcode', 'DurgaTheory', '160Problems')\n",
      "80 ('Leetcode', 'DurgaTheory', 'Patterns')\n",
      "81 ('Patterns', '100Basics', 'DevTips')\n",
      "82 ('Patterns', '100Basics', '160Problems')\n",
      "83 ('Patterns', '100Basics', 'Leetcode')\n",
      "84 ('Patterns', '100Basics', 'DurgaTheory')\n",
      "85 ('Patterns', 'DevTips', '100Basics')\n",
      "86 ('Patterns', 'DevTips', '160Problems')\n",
      "87 ('Patterns', 'DevTips', 'Leetcode')\n",
      "88 ('Patterns', 'DevTips', 'DurgaTheory')\n",
      "89 ('Patterns', '160Problems', '100Basics')\n",
      "90 ('Patterns', '160Problems', 'DevTips')\n",
      "91 ('Patterns', '160Problems', 'Leetcode')\n",
      "92 ('Patterns', '160Problems', 'DurgaTheory')\n",
      "93 ('Patterns', 'Leetcode', '100Basics')\n",
      "94 ('Patterns', 'Leetcode', 'DevTips')\n",
      "95 ('Patterns', 'Leetcode', '160Problems')\n",
      "96 ('Patterns', 'Leetcode', 'DurgaTheory')\n",
      "97 ('Patterns', 'DurgaTheory', '100Basics')\n",
      "98 ('Patterns', 'DurgaTheory', 'DevTips')\n",
      "99 ('Patterns', 'DurgaTheory', '160Problems')\n",
      "100 ('Patterns', 'DurgaTheory', 'Leetcode')\n",
      "101 ('DurgaTheory', '100Basics', 'DevTips')\n",
      "102 ('DurgaTheory', '100Basics', '160Problems')\n",
      "103 ('DurgaTheory', '100Basics', 'Leetcode')\n",
      "104 ('DurgaTheory', '100Basics', 'Patterns')\n",
      "105 ('DurgaTheory', 'DevTips', '100Basics')\n",
      "106 ('DurgaTheory', 'DevTips', '160Problems')\n",
      "107 ('DurgaTheory', 'DevTips', 'Leetcode')\n",
      "108 ('DurgaTheory', 'DevTips', 'Patterns')\n",
      "109 ('DurgaTheory', '160Problems', '100Basics')\n",
      "110 ('DurgaTheory', '160Problems', 'DevTips')\n",
      "111 ('DurgaTheory', '160Problems', 'Leetcode')\n",
      "112 ('DurgaTheory', '160Problems', 'Patterns')\n",
      "113 ('DurgaTheory', 'Leetcode', '100Basics')\n",
      "114 ('DurgaTheory', 'Leetcode', 'DevTips')\n",
      "115 ('DurgaTheory', 'Leetcode', '160Problems')\n",
      "116 ('DurgaTheory', 'Leetcode', 'Patterns')\n",
      "117 ('DurgaTheory', 'Patterns', '100Basics')\n",
      "118 ('DurgaTheory', 'Patterns', 'DevTips')\n",
      "119 ('DurgaTheory', 'Patterns', '160Problems')\n",
      "120 ('DurgaTheory', 'Patterns', 'Leetcode')\n"
     ]
    }
   ],
   "source": [
    "import itertools\n",
    "for i,perm in enumerate(itertools.permutations(listOfProblems,3)):\n",
    "    print(i+1,perm)\n",
    "# len(itertools.permutations(listOfProblems,3))"
   ]
  }
 ],
 "metadata": {
  "kernelspec": {
   "display_name": "base",
   "language": "python",
   "name": "python3"
  },
  "language_info": {
   "codemirror_mode": {
    "name": "ipython",
    "version": 3
   },
   "file_extension": ".py",
   "mimetype": "text/x-python",
   "name": "python",
   "nbconvert_exporter": "python",
   "pygments_lexer": "ipython3",
   "version": "3.11.5"
  }
 },
 "nbformat": 4,
 "nbformat_minor": 2
}
