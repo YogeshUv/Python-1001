{
 "cells": [
  {
   "cell_type": "code",
   "execution_count": 1,
   "metadata": {},
   "outputs": [
    {
     "name": "stdout",
     "output_type": "stream",
     "text": [
      "Hello World\n"
     ]
    }
   ],
   "source": [
    "#1 Write a program to print the \"Hello World\"\n",
    "print('Hello World')"
   ]
  },
  {
   "cell_type": "code",
   "execution_count": 6,
   "metadata": {},
   "outputs": [
    {
     "name": "stdout",
     "output_type": "stream",
     "text": [
      "the sum of 2.0 and 5.0 is equal to 7.0\n"
     ]
    }
   ],
   "source": [
    "#2 Write a Program to do arithmetic operations\n",
    "a= float(input('Enter the \"a\" value'))\n",
    "b= float(input('Enter the \"b\" value'))\n",
    "c= a+b\n",
    "print(f'the sum of {a} and {b} is equal to {c}')"
   ]
  },
  {
   "cell_type": "code",
   "execution_count": 7,
   "metadata": {},
   "outputs": [
    {
     "name": "stdout",
     "output_type": "stream",
     "text": [
      "the area of height 5.0 and base 10.0 is equal to 25.0\n"
     ]
    }
   ],
   "source": [
    "#3 write a python program to find the area of triangle\n",
    "h= float(input('Enter the \"height\" value'))\n",
    "b= float(input('Enter the \"base\" value'))\n",
    "\n",
    "area = 0.5 * b * h\n",
    "print(f'the area of height {h} and base {b} is equal to {area}')"
   ]
  },
  {
   "cell_type": "code",
   "execution_count": 8,
   "metadata": {},
   "outputs": [
    {
     "name": "stdout",
     "output_type": "stream",
     "text": [
      "10\n",
      "5\n"
     ]
    }
   ],
   "source": [
    "#4 Write a Python program to swap two numbers\n",
    "a = 5\n",
    "b = 10\n",
    "\n",
    "temp = a\n",
    "a = b\n",
    "b = temp\n",
    "\n",
    "print(a)\n",
    "print(b)"
   ]
  },
  {
   "cell_type": "code",
   "execution_count": 20,
   "metadata": {},
   "outputs": [
    {
     "data": {
      "text/plain": [
       "5"
      ]
     },
     "execution_count": 20,
     "metadata": {},
     "output_type": "execute_result"
    }
   ],
   "source": [
    "#5 Write a program to generate random number\n",
    "import random\n",
    "random.randint(1,5)"
   ]
  },
  {
   "cell_type": "code",
   "execution_count": 38,
   "metadata": {},
   "outputs": [
    {
     "name": "stdout",
     "output_type": "stream",
     "text": [
      "    October 2025\n",
      "Mo Tu We Th Fr Sa Su\n",
      "       1  2  3  4  5\n",
      " 6  7  8  9 10 11 12\n",
      "13 14 15 16 17 18 19\n",
      "20 21 22 23 24 25 26\n",
      "27 28 29 30 31\n",
      "\n"
     ]
    }
   ],
   "source": [
    "#6 Write a program to Display calendar\n",
    "import calendar\n",
    "print(calendar.month(2025,10))"
   ]
  },
  {
   "cell_type": "code",
   "execution_count": 40,
   "metadata": {},
   "outputs": [
    {
     "data": {
      "text/plain": [
       "5"
      ]
     },
     "execution_count": 40,
     "metadata": {},
     "output_type": "execute_result"
    }
   ],
   "source": [
    "#7 Write a program to swap two variables withot temp variable\n",
    "a = 5\n",
    "b = 10\n",
    "a,b = b,a\n"
   ]
  },
  {
   "cell_type": "code",
   "execution_count": 43,
   "metadata": {},
   "outputs": [
    {
     "name": "stdout",
     "output_type": "stream",
     "text": [
      "THe number is positive\n"
     ]
    }
   ],
   "source": [
    "#8 positive negative or zero\n",
    "num = float(input('Enter the number ?'))\n",
    "if num > 0:\n",
    "    print('THe number is positive')\n",
    "elif num == 0:\n",
    "    print(\"the number is zero\")\n",
    "else:\n",
    "    print('negative')"
   ]
  },
  {
   "cell_type": "code",
   "execution_count": 46,
   "metadata": {},
   "outputs": [
    {
     "name": "stdout",
     "output_type": "stream",
     "text": [
      "odd\n"
     ]
    }
   ],
   "source": [
    "#9 odd or even \n",
    "num = float(input('Enter the number ?'))\n",
    "if num % 2==0:\n",
    "    print('even')\n",
    "else:\n",
    "    print('odd')"
   ]
  },
  {
   "cell_type": "code",
   "execution_count": 5,
   "metadata": {},
   "outputs": [
    {
     "name": "stdout",
     "output_type": "stream",
     "text": [
      "**************************************************\n",
      "13 * 1 = 13\n",
      "13 * 2 = 26\n",
      "13 * 3 = 39\n",
      "13 * 4 = 52\n",
      "13 * 5 = 65\n",
      "13 * 6 = 78\n",
      "13 * 7 = 91\n",
      "13 * 8 = 104\n",
      "13 * 9 = 117\n",
      "13 * 10 = 130\n",
      "**************************************************\n"
     ]
    }
   ],
   "source": [
    "#30 multable.py\n",
    "n = int(input(\"Enter any number:\"))\n",
    "if(n<=0):\n",
    "    print('enter valid positive number')\n",
    "else:\n",
    "    print('*'*50)\n",
    "    i = 1\n",
    "    while i<=10:\n",
    "        print(f'{n} * {i} = {n*i}')\n",
    "        i +=1\n",
    "    print('*'*50)\n"
   ]
  },
  {
   "cell_type": "code",
   "execution_count": 1,
   "metadata": {},
   "outputs": [
    {
     "name": "stdout",
     "output_type": "stream",
     "text": [
      "hi\n"
     ]
    }
   ],
   "source": [
    "print('hi')"
   ]
  },
  {
   "cell_type": "code",
   "execution_count": 14,
   "metadata": {},
   "outputs": [
    {
     "data": {
      "text/plain": [
       "321"
      ]
     },
     "execution_count": 14,
     "metadata": {},
     "output_type": "execute_result"
    }
   ],
   "source": [
    "#31 palindrome.py\n",
    "def check_palindrome(num):\n",
    "    if num<=0:\n",
    "        print('enter valid postive number')\n",
    "    else:\n",
    "        rev = 0\n",
    "        while num>0:\n",
    "            r = num % 10\n",
    "            num = num//10 \n",
    "            rev = (rev*10) + r   \n",
    "    return rev\n",
    "r = check_palindrome(123)\n",
    "r"
   ]
  },
  {
   "cell_type": "code",
   "execution_count": 9,
   "metadata": {},
   "outputs": [
    {
     "data": {
      "text/plain": [
       "0"
      ]
     },
     "execution_count": 9,
     "metadata": {},
     "output_type": "execute_result"
    }
   ],
   "source": [
    "123//10\n",
    "12//10\n",
    "1//10"
   ]
  },
  {
   "cell_type": "code",
   "execution_count": null,
   "metadata": {},
   "outputs": [],
   "source": [
    "123%10 = 3\n",
    "123//10 = 12\n",
    "\n",
    "\n"
   ]
  },
  {
   "cell_type": "code",
   "execution_count": 24,
   "metadata": {},
   "outputs": [
    {
     "name": "stdout",
     "output_type": "stream",
     "text": [
      "94\n",
      "XCIV"
     ]
    }
   ],
   "source": [
    "# 32numtoroman.py\n",
    "n = int(input('Enter a number:'))\n",
    "if n<=0:\n",
    "    print('No equivalent for roman')\n",
    "else:\n",
    "    print(n)\n",
    "    while n >= 1000:\n",
    "        print('M',end='')\n",
    "        n = n-1000\n",
    "    if n >= 900:\n",
    "        print('CM',end='')\n",
    "        n = n-900\n",
    "    if n >= 500:\n",
    "        print('D',end='')\n",
    "        n = n-500\n",
    "    if n >= 400:\n",
    "        print('CD',end='')\n",
    "        n = n-400\n",
    "    while n>=100:\n",
    "        print('C',end='')\n",
    "        n= n-100\n",
    "    if n >=90:\n",
    "        print('XC',end='')\n",
    "        n=n-90\n",
    "    if n>=50:\n",
    "        print('L',end='')\n",
    "        n= n-50\n",
    "    if n>=40:\n",
    "        print('XL',end='')\n",
    "        n= n-40\n",
    "    while n >=10:\n",
    "        print('X',end='')\n",
    "        n= n-10\n",
    "    if n>=9:\n",
    "        print('IX',end='')\n",
    "        n= n-9\n",
    "    if n >=5:\n",
    "        print('V',end='')\n",
    "        n=n-5\n",
    "    if n>=4:\n",
    "        print('IV',end='')\n",
    "        n= n-4\n",
    "    while n>=1:\n",
    "        print('I',end='')\n",
    "        n=n-1\n",
    "\n"
   ]
  },
  {
   "cell_type": "code",
   "execution_count": null,
   "metadata": {},
   "outputs": [],
   "source": [
    "M = 1000\n",
    "CM = 900\n",
    "D = 500\n",
    "CD = 400\n",
    "C = 100\n",
    "XC = 90\n",
    "L = 50\n",
    "XL = 40\n",
    "X = 10\n",
    "IX = 9\n",
    "IV = 4\n",
    "V = 5\n",
    "IV = 4"
   ]
  },
  {
   "cell_type": "code",
   "execution_count": 6,
   "metadata": {},
   "outputs": [
    {
     "name": "stdout",
     "output_type": "stream",
     "text": [
      "[1, 2, -3, -6, -7, 8]\n",
      "[-3, -6, -7]\n",
      "[1, 2, 8]\n"
     ]
    }
   ],
   "source": [
    "# 33posneglists\n",
    "numlst = input('Enter the values part from space')\n",
    "numlist = [int(val) for val in numlst.split()]\n",
    "neglist = []\n",
    "poslist = []\n",
    "for val in numlist:\n",
    "    if val <0:\n",
    "        neglist.append(val)\n",
    "    else:\n",
    "        poslist.append(val)\n",
    "print(numlist)\n",
    "print(neglist)\n",
    "print(poslist)"
   ]
  },
  {
   "cell_type": "code",
   "execution_count": 14,
   "metadata": {},
   "outputs": [
    {
     "data": {
      "text/plain": [
       "'-3-6-7'"
      ]
     },
     "execution_count": 14,
     "metadata": {},
     "output_type": "execute_result"
    }
   ],
   "source": [
    "strneg = ''.join(str(i) for i in neglist) \n",
    "strneg"
   ]
  },
  {
   "cell_type": "code",
   "execution_count": 16,
   "metadata": {},
   "outputs": [
    {
     "data": {
      "text/plain": [
       "9654"
      ]
     },
     "execution_count": 16,
     "metadata": {},
     "output_type": "execute_result"
    }
   ],
   "source": [
    "# 34 reverse.py\n",
    "org = 4569\n",
    "rev = 0\n",
    "while org > 0:\n",
    "    r = org % 10\n",
    "    org = org // 10\n",
    "    rev = rev * 10 + r\n",
    "rev\n"
   ]
  },
  {
   "cell_type": "code",
   "execution_count": 21,
   "metadata": {},
   "outputs": [
    {
     "name": "stdout",
     "output_type": "stream",
     "text": [
      "the n 1 n^2 1 n^3 1\n",
      "the n 2 n^2 4 n^3 8\n",
      "the n 3 n^2 9 n^3 27\n",
      "6 14 36\n"
     ]
    }
   ],
   "source": [
    "# 35 sqcubessum.py\n",
    "n = int(input('enter the number'))\n",
    "if n <= 0:\n",
    "    print('number invalid')\n",
    "else:\n",
    "    sumn, sqrsum, sumcub = 0,0,0\n",
    "    c = 1\n",
    "    while c <=n:\n",
    "        sumn = sumn + c \n",
    "        sqrsum = sqrsum  + (c*c)\n",
    "        sumcub = sumcub + (c**3)\n",
    "        print(f'the n {c} n^2 {c*c} n^3 {c**3}')\n",
    "        c = c+1 \n",
    "    print( sumn , sqrsum ,sumcub)"
   ]
  },
  {
   "cell_type": "code",
   "execution_count": 23,
   "metadata": {},
   "outputs": [
    {
     "name": "stdout",
     "output_type": "stream",
     "text": [
      "__________________________________________________\n",
      "Natural sum\t squares\t cubes\n",
      "__________________________________________________\n",
      " 1 1 1\n",
      " 2 4 8\n",
      " 3 9 27\n",
      " 4 16 64\n",
      " 5 25 125\n",
      "__________________________________________________\n",
      " 15 55 225\n",
      "__________________________________________________\n"
     ]
    }
   ],
   "source": [
    "n = int(input(\"Enter any number\"))\n",
    "if n <= 0:\n",
    "    print(f'{n} is invalid input')\n",
    "else:\n",
    "    print('_'*50)\n",
    "    print('Natural sum\\t squares\\t cubes')\n",
    "    print('_'*50)\n",
    "    s,ss,cs=0,0,0\n",
    "    i=1\n",
    "    while i<=n:\n",
    "        print(f' {i} {i**2} {i**3}')\n",
    "        s = s+i\n",
    "        ss = ss+i**2\n",
    "        cs = cs+i**3\n",
    "        i+=1\n",
    "    else:\n",
    "        print('_'*50)\n",
    "        print(f' {s} {ss} {cs}')\n",
    "        print('_'*50)\n"
   ]
  },
  {
   "cell_type": "code",
   "execution_count": 25,
   "metadata": {},
   "outputs": [],
   "source": [
    "#36 sumavg.py\n",
    "n = int(input('How many numbers you have'))\n",
    "if n <=0:\n",
    "    print(f'{n } enter valid number')\n",
    "else:\n",
    "    ln = []\n",
    "    for i in range(n):\n",
    "        ln.append(float(input(f'Enter the {i+1} number')))\n",
    "    \n",
    "\n"
   ]
  },
  {
   "cell_type": "code",
   "execution_count": 29,
   "metadata": {},
   "outputs": [
    {
     "data": {
      "text/plain": [
       "3.0"
      ]
     },
     "execution_count": 29,
     "metadata": {},
     "output_type": "execute_result"
    }
   ],
   "source": [
    "sum(ln)/n\n",
    "max(ln)\n",
    "min(ln)"
   ]
  },
  {
   "cell_type": "code",
   "execution_count": null,
   "metadata": {},
   "outputs": [],
   "source": [
    "#37 voter.py\n",
    "age = (int(input('enter your age')))\n",
    "if age <18 and a"
   ]
  }
 ],
 "metadata": {
  "kernelspec": {
   "display_name": "base",
   "language": "python",
   "name": "python3"
  },
  "language_info": {
   "codemirror_mode": {
    "name": "ipython",
    "version": 3
   },
   "file_extension": ".py",
   "mimetype": "text/x-python",
   "name": "python",
   "nbconvert_exporter": "python",
   "pygments_lexer": "ipython3",
   "version": "3.11.5"
  }
 },
 "nbformat": 4,
 "nbformat_minor": 2
}
