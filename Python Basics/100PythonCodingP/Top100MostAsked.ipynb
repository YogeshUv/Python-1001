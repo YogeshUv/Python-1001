{
 "cells": [
  {
   "cell_type": "markdown",
   "metadata": {},
   "source": [
    "FInd the Maximum of two numbers"
   ]
  },
  {
   "cell_type": "code",
   "execution_count": 3,
   "metadata": {},
   "outputs": [
    {
     "name": "stdout",
     "output_type": "stream",
     "text": [
      "9\n"
     ]
    }
   ],
   "source": [
    "a = 7\n",
    "b = 3\n",
    "print(max(a,b,8,9))"
   ]
  },
  {
   "cell_type": "code",
   "execution_count": 4,
   "metadata": {},
   "outputs": [
    {
     "name": "stdout",
     "output_type": "stream",
     "text": [
      "10\n"
     ]
    }
   ],
   "source": [
    "a = 5 \n",
    "b = 10 \n",
    "if a > b:\n",
    "    print(a)\n",
    "else:\n",
    "    print(b)"
   ]
  },
  {
   "cell_type": "code",
   "execution_count": 1,
   "metadata": {},
   "outputs": [
    {
     "name": "stdout",
     "output_type": "stream",
     "text": [
      "8\n"
     ]
    }
   ],
   "source": [
    "a = 7\n",
    "b = 8\n",
    "res = a if a > b else b\n",
    "print(res)"
   ]
  },
  {
   "cell_type": "markdown",
   "metadata": {},
   "source": [
    "Python Program to find the factorial of a number"
   ]
  },
  {
   "cell_type": "code",
   "execution_count": 8,
   "metadata": {},
   "outputs": [
    {
     "name": "stdout",
     "output_type": "stream",
     "text": [
      "the factorial of 5 = 120\n"
     ]
    }
   ],
   "source": [
    "# what is factorial ? 5! = 5*4*3*2*1\n",
    "def factorial(n):\n",
    "    fac = 1\n",
    "    if n < 0:\n",
    "        return -1\n",
    "    elif n == 0:\n",
    "        return fac\n",
    "    else:\n",
    "        for i in range(1,n+1):\n",
    "            fac = fac * i\n",
    "    return fac\n",
    "\n",
    "n = 5\n",
    "res = factorial(n)\n",
    "print(f'the factorial of {n} = {res}')\n"
   ]
  },
  {
   "cell_type": "code",
   "execution_count": 6,
   "metadata": {},
   "outputs": [
    {
     "name": "stdout",
     "output_type": "stream",
     "text": [
      "The factorial of 8 is 40320\n"
     ]
    }
   ],
   "source": [
    "num = 8\n",
    "factorial = 1\n",
    "\n",
    "for i in range(1,num+1):\n",
    "    factorial *=i\n",
    "\n",
    "print(f'The factorial of {num} is {factorial}')"
   ]
  },
  {
   "cell_type": "code",
   "execution_count": 7,
   "metadata": {},
   "outputs": [
    {
     "name": "stdout",
     "output_type": "stream",
     "text": [
      "Factorial of 5 is 120\n"
     ]
    }
   ],
   "source": [
    "def factorial(n):\n",
    "    return 1 if (n==1 or n==0) else n * factorial(n - 1) \n",
    "\n",
    "# Driver Code\n",
    "num = 5\n",
    "print(\"Factorial of\",num,\"is\",factorial(num))"
   ]
  },
  {
   "cell_type": "code",
   "execution_count": 15,
   "metadata": {},
   "outputs": [
    {
     "ename": "RecursionError",
     "evalue": "maximum recursion depth exceeded",
     "output_type": "error",
     "traceback": [
      "\u001b[1;31m---------------------------------------------------------------------------\u001b[0m",
      "\u001b[1;31mRecursionError\u001b[0m                            Traceback (most recent call last)",
      "Cell \u001b[1;32mIn[15], line 5\u001b[0m\n\u001b[0;32m      2\u001b[0m     \u001b[38;5;28;01mreturn\u001b[39;00m \u001b[38;5;241m1\u001b[39m \u001b[38;5;28;01mif\u001b[39;00m (n \u001b[38;5;241m==\u001b[39m \u001b[38;5;241m0\u001b[39m \u001b[38;5;129;01mand\u001b[39;00m n \u001b[38;5;241m==\u001b[39m \u001b[38;5;241m1\u001b[39m) \u001b[38;5;28;01melse\u001b[39;00m n \u001b[38;5;241m*\u001b[39m factorialr(n\u001b[38;5;241m-\u001b[39m\u001b[38;5;241m1\u001b[39m)\n\u001b[0;32m      4\u001b[0m num \u001b[38;5;241m=\u001b[39m \u001b[38;5;241m5\u001b[39m\n\u001b[1;32m----> 5\u001b[0m \u001b[38;5;28mprint\u001b[39m(factorialr(num))\n",
      "Cell \u001b[1;32mIn[15], line 2\u001b[0m, in \u001b[0;36mfactorialr\u001b[1;34m(n)\u001b[0m\n\u001b[0;32m      1\u001b[0m \u001b[38;5;28;01mdef\u001b[39;00m \u001b[38;5;21mfactorialr\u001b[39m(n):\n\u001b[1;32m----> 2\u001b[0m     \u001b[38;5;28;01mreturn\u001b[39;00m \u001b[38;5;241m1\u001b[39m \u001b[38;5;28;01mif\u001b[39;00m (n \u001b[38;5;241m==\u001b[39m \u001b[38;5;241m0\u001b[39m \u001b[38;5;129;01mand\u001b[39;00m n \u001b[38;5;241m==\u001b[39m \u001b[38;5;241m1\u001b[39m) \u001b[38;5;28;01melse\u001b[39;00m n \u001b[38;5;241m*\u001b[39m factorialr(n\u001b[38;5;241m-\u001b[39m\u001b[38;5;241m1\u001b[39m)\n",
      "Cell \u001b[1;32mIn[15], line 2\u001b[0m, in \u001b[0;36mfactorialr\u001b[1;34m(n)\u001b[0m\n\u001b[0;32m      1\u001b[0m \u001b[38;5;28;01mdef\u001b[39;00m \u001b[38;5;21mfactorialr\u001b[39m(n):\n\u001b[1;32m----> 2\u001b[0m     \u001b[38;5;28;01mreturn\u001b[39;00m \u001b[38;5;241m1\u001b[39m \u001b[38;5;28;01mif\u001b[39;00m (n \u001b[38;5;241m==\u001b[39m \u001b[38;5;241m0\u001b[39m \u001b[38;5;129;01mand\u001b[39;00m n \u001b[38;5;241m==\u001b[39m \u001b[38;5;241m1\u001b[39m) \u001b[38;5;28;01melse\u001b[39;00m n \u001b[38;5;241m*\u001b[39m factorialr(n\u001b[38;5;241m-\u001b[39m\u001b[38;5;241m1\u001b[39m)\n",
      "    \u001b[1;31m[... skipping similar frames: factorialr at line 2 (2971 times)]\u001b[0m\n",
      "Cell \u001b[1;32mIn[15], line 2\u001b[0m, in \u001b[0;36mfactorialr\u001b[1;34m(n)\u001b[0m\n\u001b[0;32m      1\u001b[0m \u001b[38;5;28;01mdef\u001b[39;00m \u001b[38;5;21mfactorialr\u001b[39m(n):\n\u001b[1;32m----> 2\u001b[0m     \u001b[38;5;28;01mreturn\u001b[39;00m \u001b[38;5;241m1\u001b[39m \u001b[38;5;28;01mif\u001b[39;00m (n \u001b[38;5;241m==\u001b[39m \u001b[38;5;241m0\u001b[39m \u001b[38;5;129;01mand\u001b[39;00m n \u001b[38;5;241m==\u001b[39m \u001b[38;5;241m1\u001b[39m) \u001b[38;5;28;01melse\u001b[39;00m n \u001b[38;5;241m*\u001b[39m factorialr(n\u001b[38;5;241m-\u001b[39m\u001b[38;5;241m1\u001b[39m)\n",
      "\u001b[1;31mRecursionError\u001b[0m: maximum recursion depth exceeded"
     ]
    }
   ],
   "source": [
    "def factorialr(n):\n",
    "    return 1 if (n == 0 and n == 1) else n * factorialr(n-1)\n",
    "\n",
    "num = 5\n",
    "print(factorialr(num))\n",
    "# The base case (n == 0 and n == 1) is always False because n cannot be both 0 and 1 at the same time. Therefore, the base condition never gets satisfied, and the recursion continues indefinitely until the maximum recursion depth is exceeded."
   ]
  },
  {
   "cell_type": "code",
   "execution_count": 17,
   "metadata": {},
   "outputs": [
    {
     "data": {
      "text/plain": [
       "720"
      ]
     },
     "execution_count": 17,
     "metadata": {},
     "output_type": "execute_result"
    }
   ],
   "source": [
    "import math\n",
    "def factorialfun(n):\n",
    "    return math.factorial(n)\n",
    "\n",
    "num = 6\n",
    "factorialfun(num)"
   ]
  },
  {
   "cell_type": "code",
   "execution_count": 28,
   "metadata": {},
   "outputs": [
    {
     "name": "stdout",
     "output_type": "stream",
     "text": [
      "<class 'list'>\n"
     ]
    },
    {
     "data": {
      "text/plain": [
       "[range(1, 6)]"
      ]
     },
     "execution_count": 28,
     "metadata": {},
     "output_type": "execute_result"
    }
   ],
   "source": [
    "import numpy\n",
    "n = 5\n",
    "lst = [range(1,6)]\n",
    "print(type(lst))\n",
    "numpy.prod(lst)\n",
    "list(lst)\n"
   ]
  },
  {
   "cell_type": "code",
   "execution_count": 19,
   "metadata": {},
   "outputs": [
    {
     "data": {
      "text/plain": [
       "120"
      ]
     },
     "execution_count": 19,
     "metadata": {},
     "output_type": "execute_result"
    }
   ],
   "source": [
    "import numpy\n",
    "n = 5\n",
    "x = numpy.prod([i for i in range(1,n+1)])\n",
    "x"
   ]
  },
  {
   "cell_type": "code",
   "execution_count": null,
   "metadata": {},
   "outputs": [
    {
     "ename": "ValueError",
     "evalue": "zero-size array to reduction operation maximum which has no identity",
     "output_type": "error",
     "traceback": [
      "\u001b[1;31m---------------------------------------------------------------------------\u001b[0m",
      "\u001b[1;31mValueError\u001b[0m                                Traceback (most recent call last)",
      "Cell \u001b[1;32mIn[31], line 1\u001b[0m\n\u001b[1;32m----> 1\u001b[0m numpy\u001b[38;5;241m.\u001b[39mmax([i\u001b[38;5;241m*\u001b[39m\u001b[38;5;241m*\u001b[39m\u001b[38;5;241m2\u001b[39m \u001b[38;5;28;01mfor\u001b[39;00m i \u001b[38;5;129;01min\u001b[39;00m \u001b[38;5;28mrange\u001b[39m(\u001b[38;5;241m1\u001b[39m,\u001b[38;5;241m9\u001b[39m,\u001b[38;5;241m-\u001b[39m\u001b[38;5;241m1\u001b[39m)])\n",
      "File \u001b[1;32m<__array_function__ internals>:200\u001b[0m, in \u001b[0;36mamax\u001b[1;34m(*args, **kwargs)\u001b[0m\n",
      "File \u001b[1;32mc:\\Users\\raksh\\anaconda3\\Lib\\site-packages\\numpy\\core\\fromnumeric.py:2820\u001b[0m, in \u001b[0;36mamax\u001b[1;34m(a, axis, out, keepdims, initial, where)\u001b[0m\n\u001b[0;32m   2703\u001b[0m \u001b[38;5;129m@array_function_dispatch\u001b[39m(_amax_dispatcher)\n\u001b[0;32m   2704\u001b[0m \u001b[38;5;28;01mdef\u001b[39;00m \u001b[38;5;21mamax\u001b[39m(a, axis\u001b[38;5;241m=\u001b[39m\u001b[38;5;28;01mNone\u001b[39;00m, out\u001b[38;5;241m=\u001b[39m\u001b[38;5;28;01mNone\u001b[39;00m, keepdims\u001b[38;5;241m=\u001b[39mnp\u001b[38;5;241m.\u001b[39m_NoValue, initial\u001b[38;5;241m=\u001b[39mnp\u001b[38;5;241m.\u001b[39m_NoValue,\n\u001b[0;32m   2705\u001b[0m          where\u001b[38;5;241m=\u001b[39mnp\u001b[38;5;241m.\u001b[39m_NoValue):\n\u001b[0;32m   2706\u001b[0m \u001b[38;5;250m    \u001b[39m\u001b[38;5;124;03m\"\"\"\u001b[39;00m\n\u001b[0;32m   2707\u001b[0m \u001b[38;5;124;03m    Return the maximum of an array or maximum along an axis.\u001b[39;00m\n\u001b[0;32m   2708\u001b[0m \n\u001b[1;32m   (...)\u001b[0m\n\u001b[0;32m   2818\u001b[0m \u001b[38;5;124;03m    5\u001b[39;00m\n\u001b[0;32m   2819\u001b[0m \u001b[38;5;124;03m    \"\"\"\u001b[39;00m\n\u001b[1;32m-> 2820\u001b[0m     \u001b[38;5;28;01mreturn\u001b[39;00m _wrapreduction(a, np\u001b[38;5;241m.\u001b[39mmaximum, \u001b[38;5;124m'\u001b[39m\u001b[38;5;124mmax\u001b[39m\u001b[38;5;124m'\u001b[39m, axis, \u001b[38;5;28;01mNone\u001b[39;00m, out,\n\u001b[0;32m   2821\u001b[0m                           keepdims\u001b[38;5;241m=\u001b[39mkeepdims, initial\u001b[38;5;241m=\u001b[39minitial, where\u001b[38;5;241m=\u001b[39mwhere)\n",
      "File \u001b[1;32mc:\\Users\\raksh\\anaconda3\\Lib\\site-packages\\numpy\\core\\fromnumeric.py:86\u001b[0m, in \u001b[0;36m_wrapreduction\u001b[1;34m(obj, ufunc, method, axis, dtype, out, **kwargs)\u001b[0m\n\u001b[0;32m     83\u001b[0m         \u001b[38;5;28;01melse\u001b[39;00m:\n\u001b[0;32m     84\u001b[0m             \u001b[38;5;28;01mreturn\u001b[39;00m reduction(axis\u001b[38;5;241m=\u001b[39maxis, out\u001b[38;5;241m=\u001b[39mout, \u001b[38;5;241m*\u001b[39m\u001b[38;5;241m*\u001b[39mpasskwargs)\n\u001b[1;32m---> 86\u001b[0m \u001b[38;5;28;01mreturn\u001b[39;00m ufunc\u001b[38;5;241m.\u001b[39mreduce(obj, axis, dtype, out, \u001b[38;5;241m*\u001b[39m\u001b[38;5;241m*\u001b[39mpasskwargs)\n",
      "\u001b[1;31mValueError\u001b[0m: zero-size array to reduction operation maximum which has no identity"
     ]
    }
   ],
   "source": [
    "numpy.max([i**2 for i in range(1,9)])"
   ]
  },
  {
   "cell_type": "markdown",
   "metadata": {},
   "source": [
    "Simple Interest"
   ]
  },
  {
   "cell_type": "code",
   "execution_count": null,
   "metadata": {},
   "outputs": [],
   "source": [
    "# Input : P = 10000\n",
    "#         R = 5\n",
    "#         T = 5\n",
    "# Output :2500.0\n",
    "# We need to find simple interest on \n",
    "# Rs. 10,000 at the rate of 5% for 5 \n",
    "# units of time."
   ]
  },
  {
   "cell_type": "code",
   "execution_count": 22,
   "metadata": {},
   "outputs": [
    {
     "name": "stdout",
     "output_type": "stream",
     "text": [
      "**************************************************\n",
      "The P = 3000.0\n",
      "The R = 7.0\n",
      "The T = 1.0\n",
      "The SI = 210.0\n",
      "**************************************************\n"
     ]
    }
   ],
   "source": [
    "P = float(input('Enter the Principal amount'))\n",
    "R = float(input('Enter the Rate of Interest'))\n",
    "T = float(input('Enter the time frame in Years'))\n",
    "\n",
    "print('*'*50)\n",
    "print('The P =',P)\n",
    "print('The R =',R)\n",
    "print('The T =',T)\n",
    "print('The SI =',(P*T*R)/100) \n",
    "print('*'*50)"
   ]
  },
  {
   "cell_type": "markdown",
   "metadata": {},
   "source": [
    "Compound Intrest"
   ]
  },
  {
   "cell_type": "code",
   "execution_count": 25,
   "metadata": {},
   "outputs": [
    {
     "data": {
      "text/plain": [
       "126824.17945625455"
      ]
     },
     "execution_count": 25,
     "metadata": {},
     "output_type": "execute_result"
    }
   ],
   "source": [
    "def compund_int(p,r,t):\n",
    "    A = p *((1 + r/100)**t)\n",
    "    return A\n",
    "\n",
    "compund_int(100000,2,12)"
   ]
  },
  {
   "cell_type": "code",
   "execution_count": 129,
   "metadata": {},
   "outputs": [
    {
     "name": "stdout",
     "output_type": "stream",
     "text": [
      "--------------------------------------------------\n",
      "| Days    |  Date      | Capital | DailyRate 2% \n",
      "--------------------------------------------------\n",
      "| Day-1   | 2025-01-15 |  1020.00 |  20.00 | 20.00 |\n",
      "--------------------------------------------------\n",
      "| Day-2   | 2025-01-16 |  1040.40 |  20.40 | 40.40 |\n",
      "--------------------------------------------------\n",
      "| Day-3   | 2025-01-17 |  1061.21 |  20.81 | 61.21 |\n",
      "--------------------------------------------------\n",
      "| Day-4   | 2025-01-18 |  1082.43 |  21.22 | 82.43 |\n",
      "--------------------------------------------------\n",
      "| Day-5   | 2025-01-19 |  1104.08 |  21.65 | 104.08 |\n",
      "--------------------------------------------------\n",
      "| Day-6   | 2025-01-20 |  1126.16 |  22.08 | 126.16 |\n",
      "--------------------------------------------------\n",
      "| Day-7   | 2025-01-21 |  1148.69 |  22.52 | 148.69 |\n",
      "--------------------------------------------------\n",
      "| Day-8   | 2025-01-22 |  1171.66 |  22.97 | 171.66 |\n",
      "--------------------------------------------------\n",
      "| Day-9   | 2025-01-23 |  1195.09 |  23.43 | 195.09 |\n",
      "--------------------------------------------------\n",
      "| Day-10  | 2025-01-24 |  1218.99 |  23.90 | 218.99 |\n",
      "--------------------------------------------------\n"
     ]
    }
   ],
   "source": [
    "# Daily Returns Calculator\n",
    "# Amount intrest = Total_Balance\n",
    "from datetime import datetime,timedelta\n",
    "def daily_compund(capital,dailyRate,days,reInvestPercent = 100,includeWeekends = False,start_date = datetime.now()):\n",
    "    print('-'*50)\n",
    "    print(f'| Days    |  Date      | Capital | DailyRate {dailyRate}% ')\n",
    "    print('-'*50)\n",
    "    returns = 0\n",
    "    totalReturns = 0\n",
    "    Amount = capital\n",
    "    for i in range(1,days+1):\n",
    "        print(f'| Day-{i} ',end=' '*(3 - len(str(i))))\n",
    "        print(f'| {(start_date + timedelta(days=1+i)).strftime(\"%Y-%m-%d\")}',end='')\n",
    "        returns = Amount * (dailyRate /100)\n",
    "        Amount = Amount +returns\n",
    "        print(f' |  {round(Amount,2):.2f} |',end='')\n",
    "        totalReturns +=returns\n",
    "        print(f'  {returns:.2f} | {totalReturns:.2f} |')\n",
    "            #   | ,dailyRate,days,reInvestPercent,includeWeekends,')\n",
    "        print('-'*50)\n",
    "daily_compund(1000,2,10)"
   ]
  },
  {
   "cell_type": "code",
   "execution_count": 77,
   "metadata": {},
   "outputs": [
    {
     "name": "stdout",
     "output_type": "stream",
     "text": [
      "0 _________\n",
      "1 _________\n",
      "2 _________\n",
      "3 _________\n",
      "4 _________\n",
      "5 _________\n",
      "6 _________\n",
      "7 _________\n",
      "8 _________\n",
      "9 _________\n",
      "10 ________\n"
     ]
    }
   ],
   "source": [
    "i = 1\n",
    "for i in range(11):\n",
    "    print(i,'_' )"
   ]
  },
  {
   "cell_type": "code",
   "execution_count": 130,
   "metadata": {},
   "outputs": [
    {
     "name": "stdout",
     "output_type": "stream",
     "text": [
      "133.0992000000001\n"
     ]
    }
   ],
   "source": [
    "# Python code\n",
    "# To find compound interest \n",
    "\n",
    "# inputs \n",
    "p= 1200 # principal amount \n",
    "t= 2\t # time \n",
    "r= 5.4 # rate \n",
    "# calculates the compound interest\n",
    "a=p*(1+(r/100))**t # formula for calculating amount \n",
    "ci=a-p # compound interest = amount - principal amount\n",
    "# printing compound interest value\n",
    "print(ci)\n"
   ]
  },
  {
   "cell_type": "code",
   "execution_count": 33,
   "metadata": {},
   "outputs": [
    {
     "name": "stdout",
     "output_type": "stream",
     "text": [
      "Compound interest is 133.0992000000001\n"
     ]
    }
   ],
   "source": [
    "def compound_interest(principal, rate, time):\n",
    "\tAmount = principal\n",
    "\tfor _ in range(time):\n",
    "\t\tAmount *= (1 + rate/100)\n",
    "\tCI = Amount - principal\n",
    "\tprint(\"Compound interest is\", CI)\n",
    "# Driver Code\n",
    "compound_interest(1200, 5.4, 2)\n"
   ]
  },
  {
   "cell_type": "code",
   "execution_count": null,
   "metadata": {},
   "outputs": [],
   "source": []
  },
  {
   "cell_type": "markdown",
   "metadata": {},
   "source": [
    "Amstrong Number"
   ]
  },
  {
   "cell_type": "code",
   "execution_count": 132,
   "metadata": {},
   "outputs": [
    {
     "name": "stdout",
     "output_type": "stream",
     "text": [
      "True\n",
      "False\n"
     ]
    }
   ],
   "source": [
    "# Python program to determine whether\n",
    "# the number is Armstrong number or not\n",
    "\n",
    "# Function to calculate x raised to \n",
    "# the power y\n",
    "def power(x, y):\n",
    "\t\n",
    "\tif y == 0:\n",
    "\t\treturn 1\n",
    "\tif y % 2 == 0:\n",
    "\t\treturn power(x, y // 2) * power(x, y // 2)\n",
    "\t\t\n",
    "\treturn x * power(x, y // 2) * power(x, y // 2)\n",
    "\n",
    "# Function to calculate order of the number\n",
    "def order(x):\n",
    "\n",
    "\t# Variable to store of the number\n",
    "\tn = 0\n",
    "\twhile (x != 0):\n",
    "\t\tn = n + 1\n",
    "\t\tx = x // 10\n",
    "\t\t\n",
    "\treturn n\n",
    "\n",
    "# Function to check whether the given \n",
    "# number is Armstrong number or not\n",
    "def isArmstrong(x):\n",
    "\t\n",
    "\tn = order(x)\n",
    "\ttemp = x\n",
    "\tsum1 = 0\n",
    "\t\n",
    "\twhile (temp != 0):\n",
    "\t\tr = temp % 10\n",
    "\t\tsum1 = sum1 + power(r, n)\n",
    "\t\ttemp = temp // 10\n",
    "\n",
    "\t# If condition satisfies\n",
    "\treturn (sum1 == x)\n",
    "\n",
    "# Driver code\n",
    "x = 153\n",
    "print(isArmstrong(x))\n",
    "\n",
    "x = 1253\n",
    "print(isArmstrong(x))\n"
   ]
  },
  {
   "cell_type": "code",
   "execution_count": 37,
   "metadata": {},
   "outputs": [
    {
     "data": {
      "text/plain": [
       "0"
      ]
     },
     "execution_count": 38,
     "metadata": {},
     "output_type": "execute_result"
    }
   ],
   "source": [
    "5//10"
   ]
  },
  {
   "cell_type": "code",
   "execution_count": 133,
   "metadata": {},
   "outputs": [
    {
     "name": "stdout",
     "output_type": "stream",
     "text": [
      "The given number 153 is armstrong number\n"
     ]
    }
   ],
   "source": [
    "# python 3 program\n",
    "# to check whether the given number is armstrong or not\n",
    "# without using power function\n",
    "\n",
    "n = 153 # or n=int(input()) -> taking input from user\n",
    "s = n # assigning input value to the s variable\n",
    "b = len(str(n))\n",
    "sum1 = 0\n",
    "while n != 0:\n",
    "\tr = n % 10\n",
    "\tsum1 = sum1+(r**b)\n",
    "\tn = n//10\n",
    "if s == sum1:\n",
    "\tprint(\"The given number\", s, \"is armstrong number\")\n",
    "else:\n",
    "\tprint(\"The given number\", s, \"is not armstrong number\")\n",
    "\n"
   ]
  },
  {
   "cell_type": "code",
   "execution_count": 135,
   "metadata": {},
   "outputs": [
    {
     "name": "stdout",
     "output_type": "stream",
     "text": [
      "True\n"
     ]
    }
   ],
   "source": [
    "def is_armstrong(num):\n",
    "\tnum_str = str(num)\n",
    "\tn = len(num_str)\n",
    "\tsum = 0\n",
    "\tfor digit in num_str:\n",
    "\t\tsum += int(digit)**n\n",
    "\tif sum == num:\n",
    "\t\treturn True\n",
    "\telse:\n",
    "\t\treturn False\n",
    "num=153\n",
    "print(is_armstrong(num))\n"
   ]
  },
  {
   "cell_type": "code",
   "execution_count": 136,
   "metadata": {},
   "outputs": [
    {
     "name": "stdout",
     "output_type": "stream",
     "text": [
      "1634 is an Armstrong number.\n",
      "120 is not an Armstrong number.\n"
     ]
    }
   ],
   "source": [
    "import math\n",
    "\n",
    "def isArmstrong(num):\n",
    "\tn = num\n",
    "\tnumDigits = 0\n",
    "\tsum = 0\n",
    "\t\n",
    "\t# Find number of digits in num\n",
    "\twhile n > 0:\n",
    "\t\tn //= 10\n",
    "\t\tnumDigits += 1\n",
    "\t\n",
    "\tn = num\n",
    "\t\n",
    "\t# Calculate sum of digits raised to the power of numDigits\n",
    "\twhile n > 0:\n",
    "\t\tdigit = n % 10\n",
    "\t\tsum += math.pow(digit, numDigits)\n",
    "\t\tn //= 10\n",
    "\t\n",
    "\t# Check if num is Armstrong number or not\n",
    "\tif sum == num:\n",
    "\t\treturn True\n",
    "\treturn False\n",
    "\n",
    "# Example 1\n",
    "num1 = 1634\n",
    "if isArmstrong(num1):\n",
    "\tprint(num1, \"is an Armstrong number.\")\n",
    "else:\n",
    "\tprint(num1, \"is not an Armstrong number.\")\n",
    "\n",
    "# Example 2\n",
    "num2 = 120\n",
    "if isArmstrong(num2):\n",
    "\tprint(num2, \"is an Armstrong number.\")\n",
    "else:\n",
    "\tprint(num2, \"is not an Armstrong number.\")\n"
   ]
  },
  {
   "cell_type": "markdown",
   "metadata": {},
   "source": [
    "Python Program to Find Sum of Array\n"
   ]
  },
  {
   "cell_type": "code",
   "execution_count": 138,
   "metadata": {},
   "outputs": [
    {
     "name": "stdout",
     "output_type": "stream",
     "text": [
      "Sum of the array is  34\n"
     ]
    }
   ],
   "source": [
    "# Python 3 code to find sum\n",
    "# of elements in given array\n",
    "\n",
    "\n",
    "def _sum(arr):\n",
    "\n",
    "\t# initialize a variable\n",
    "\t# to store the sum\n",
    "\t# while iterating through\n",
    "\t# the array later\n",
    "\tsum = 0\n",
    "\n",
    "\t# iterate through the array\n",
    "\t# and add each element to the sum variable\n",
    "\t# one at a time\n",
    "\tfor i in arr:\n",
    "\t\tsum = sum + i\n",
    "\n",
    "\treturn(sum)\n",
    "\n",
    "\n",
    "# main function\n",
    "if __name__ == \"__main__\":\n",
    "\t# input values to list\n",
    "\tarr = [12, 3, 4, 15]\n",
    "\n",
    "\t# calculating length of array\n",
    "\tn = len(arr)\n",
    "\t# calling function ans store the sum in ans\n",
    "\tans = _sum(arr)\n",
    "\t# display sum\n",
    "\tprint('Sum of the array is ', ans)\n"
   ]
  },
  {
   "cell_type": "code",
   "execution_count": null,
   "metadata": {},
   "outputs": [],
   "source": [
    "# Python 3 code to find sum\n",
    "# of elements in given array\n",
    "\n",
    "# input values to list\n",
    "arr = [12, 3, 4, 15]\n",
    "\n",
    "# sum() is an inbuilt function in python that adds\n",
    "# all the elements in list,set and tuples and returns\n",
    "# the value\n",
    "ans = sum(arr)\n",
    "\n",
    "# display sum\n",
    "print('Sum of the array is ', ans)\n"
   ]
  },
  {
   "cell_type": "code",
   "execution_count": 140,
   "metadata": {},
   "outputs": [
    {
     "name": "stdout",
     "output_type": "stream",
     "text": [
      "Sum of the array is  34\n"
     ]
    }
   ],
   "source": [
    "from functools import reduce\n",
    "# Python 3 code to find sum\n",
    "# of elements in given array\n",
    "\n",
    "\n",
    "def _sum(arr):\n",
    "\n",
    "\t# iterate over array\n",
    "\t# using reduce and get \n",
    "\t# sum on accumulator\n",
    "\tsum  = reduce(lambda a,b :a + b,arr)\n",
    "\n",
    "\treturn(sum)\n",
    "\n",
    "\n",
    "# driver function\n",
    "arr = []\n",
    "# input values to list\n",
    "arr = [12, 3, 4, 15]\n",
    "\n",
    "# calculating length of array\n",
    "n = len(arr)\n",
    "\n",
    "ans = _sum(arr)\n",
    "\n",
    "# display sum\n",
    "print('Sum of the array is ', ans)\n"
   ]
  },
  {
   "cell_type": "markdown",
   "metadata": {},
   "source": [
    "Python Program to Find Largest Element in an Array\n"
   ]
  },
  {
   "cell_type": "code",
   "execution_count": 141,
   "metadata": {},
   "outputs": [
    {
     "name": "stdout",
     "output_type": "stream",
     "text": [
      "Largest in given array  9808\n"
     ]
    }
   ],
   "source": [
    "# Python3 program to find maximum\n",
    "# in arr[] of size n\n",
    "\n",
    "# python function to find maximum\n",
    "# in arr[] of size n\n",
    "\n",
    "\n",
    "def largest(arr, n):\n",
    "\n",
    "\t# Initialize maximum element\n",
    "\tmax = arr[0]\n",
    "\n",
    "\t# Traverse array elements from second\n",
    "\t# and compare every element with\n",
    "\t# current max\n",
    "\tfor i in range(1, n):\n",
    "\t\tif arr[i] > max:\n",
    "\t\t\tmax = arr[i]\n",
    "\treturn max\n",
    "\n",
    "\n",
    "# Driver Code\n",
    "arr = [10, 324, 45, 90, 9808]\n",
    "n = len(arr)\n",
    "Ans = largest(arr, n)\n",
    "print(\"Largest in given array \", Ans)\n"
   ]
  },
  {
   "cell_type": "code",
   "execution_count": 142,
   "metadata": {},
   "outputs": [
    {
     "name": "stdout",
     "output_type": "stream",
     "text": [
      "Largest in given array  9808\n"
     ]
    }
   ],
   "source": [
    "# Python3 program to find maximum\n",
    "# in arr[] of size n\n",
    "def largest(arr, n):\n",
    "\tans = max(arr)\n",
    "\treturn ans;\n",
    "\n",
    "# Driver code\n",
    "if __name__ == '__main__':\n",
    "\tarr = [10, 324, 45, 90, 9808]\n",
    "\tn = len(arr)\n",
    "\tprint (\"Largest in given array \", largest(arr, n))\n"
   ]
  },
  {
   "cell_type": "code",
   "execution_count": 143,
   "metadata": {},
   "outputs": [
    {
     "name": "stdout",
     "output_type": "stream",
     "text": [
      "Largest in given array  9808\n"
     ]
    }
   ],
   "source": [
    "# Python3 program to find maximum\n",
    "# in arr[] of size n\n",
    "\n",
    "def largest(arr, n):\n",
    "\n",
    "\t# Sort the array\n",
    "\tarr.sort()\n",
    "\n",
    "\t# The last element of the\n",
    "\t# array is the largest element\n",
    "\treturn arr[n-1]\n",
    "\t# or return arr[-1]\n",
    "\n",
    "# Driver Code\n",
    "arr = [10, 324, 45, 90, 9808]\n",
    "n = len(arr)\n",
    "Ans = largest(arr, n)\n",
    "print(\"Largest in given array \", Ans)\n"
   ]
  },
  {
   "cell_type": "code",
   "execution_count": 144,
   "metadata": {},
   "outputs": [
    {
     "name": "stdout",
     "output_type": "stream",
     "text": [
      "Largest in given array  9808\n"
     ]
    }
   ],
   "source": [
    "# Python3 program to find maximum\n",
    "# in arr[] of size n\n",
    "from functools import reduce\n",
    "\n",
    "\n",
    "def largest(arr):\n",
    "\n",
    "\t# Sort the array\n",
    "\tans = reduce(max, arr)\n",
    "\n",
    "\treturn ans\n",
    "\t# or returning largest value\n",
    "\n",
    "\n",
    "# Driver Code\n",
    "arr = [10, 324, 45, 90, 9808]\n",
    "n = len(arr)\n",
    "Ans = largest(arr)\n",
    "print(\"Largest in given array \", Ans)\n"
   ]
  },
  {
   "cell_type": "code",
   "execution_count": 146,
   "metadata": {},
   "outputs": [
    {
     "name": "stdout",
     "output_type": "stream",
     "text": [
      "The given array is: [2, 1, 7, 3, 0]\n",
      "The biggest number in the given array is: 7\n"
     ]
    }
   ],
   "source": [
    "# python program to find large number in the given array\n",
    "import operator\n",
    "# Initializing the list\n",
    "arr = [2, 1, 7, 3, 0]\n",
    "max=0\n",
    "\n",
    "# printing the original list\n",
    "print('The given array is:', arr)\n",
    "\n",
    "#checking for large element\n",
    "for i in arr:\n",
    "    if operator.gt(i,max):\n",
    "        max=i\n",
    "\n",
    "# printing the large number in the array\n",
    "print('The biggest number in the given array is:', max)\n"
   ]
  },
  {
   "cell_type": "code",
   "execution_count": null,
   "metadata": {},
   "outputs": [],
   "source": [
    "array = [10, 5, 20, 8, 15]\n",
    "\n",
    "largest_element = max(array, key=lambda x: x)\n",
    "print(\"Largest element in the array:\", largest_element)\n"
   ]
  },
  {
   "cell_type": "markdown",
   "metadata": {},
   "source": [
    "Python Program for Array Rotation\n"
   ]
  },
  {
   "cell_type": "code",
   "execution_count": null,
   "metadata": {},
   "outputs": [],
   "source": [
    "# Python Program for Array Rotation\n",
    "# Input arr[] = [1, 2, 3, 4, 5, 6, 7, 8], d = 1, size = 8\n",
    "\n",
    "\n",
    "# 1) Reverse the entire list by swapping first and last numbers\n",
    "\n",
    "\n",
    "#    i.e start=0, end=size-1\n",
    "\n",
    "\n",
    "# 2) Partition the first subarray and reverse the first subarray, by swapping first and last numbers.\n",
    "\n",
    "\n",
    "#    i.e start=0, end=size-d-1\n",
    "\n",
    "\n",
    "# 3) Partition the second subarray and reverse the second subarray, by swapping first and last numbers.\n",
    "\n",
    "\n",
    "#    i.e start=size-d, end=size-1\n",
    "\n"
   ]
  },
  {
   "cell_type": "code",
   "execution_count": 147,
   "metadata": {},
   "outputs": [
    {
     "name": "stdout",
     "output_type": "stream",
     "text": [
      "Original array: [1, 2, 3, 4, 5, 6, 7, 8]\n",
      "Rotated array:  [2, 3, 4, 5, 6, 7, 8, 1]\n"
     ]
    }
   ],
   "source": [
    "# Python program to left-rotate the given array\n",
    "\n",
    "# Function reverse the given array\n",
    "# by swapping first and last numbers.\n",
    "\n",
    "\n",
    "def reverse(start, end, arr):\n",
    "\n",
    "\t# No of iterations needed for reversing the list\n",
    "\tno_of_reverse = end-start+1\n",
    "\n",
    "\t# By incrementing count value swapping \n",
    "\t# of first and last elements is done.\n",
    "\tcount = 0\n",
    "\twhile((no_of_reverse)//2 != count):\n",
    "\t\tarr[start+count], arr[end-count] = arr[end-count], arr[start+count]\n",
    "\t\tcount += 1\n",
    "\treturn arr\n",
    "\n",
    "# Function takes array, length of\n",
    "# array and no of rotations as input\n",
    "\n",
    "\n",
    "def left_rotate_array(arr, size, d):\n",
    "\n",
    "\t# Reverse the Entire List\n",
    "\tstart = 0\n",
    "\tend = size-1\n",
    "\tarr = reverse(start, end, arr)\n",
    "\n",
    "\t# Divide array into twosub-array\n",
    "\t# based on no of rotations.\n",
    "\t# Divide First sub-array\n",
    "\t# Reverse the First sub-array\n",
    "\tstart = 0\n",
    "\tend = size-d-1\n",
    "\tarr = reverse(start, end, arr)\n",
    "\n",
    "\t# Divide Second sub-array\n",
    "\t# Reverse the Second sub-array\n",
    "\tstart = size-d\n",
    "\tend = size-1\n",
    "\tarr = reverse(start, end, arr)\n",
    "\treturn arr\n",
    "\n",
    "\n",
    "arr = [1, 2, 3, 4, 5, 6, 7, 8]\n",
    "size = 8\n",
    "d = 1\n",
    "print('Original array:', arr)\n",
    "\n",
    "# Finding all the symmetric rotation number\n",
    "if(d <= size):\n",
    "\tprint('Rotated array: ', left_rotate_array(arr, size, d))\n",
    "else:\n",
    "\td = d % size\n",
    "\tprint('Rotated array: ', left_rotate_array(arr, size, d))\n",
    "\n"
   ]
  },
  {
   "cell_type": "code",
   "execution_count": 148,
   "metadata": {},
   "outputs": [
    {
     "name": "stdout",
     "output_type": "stream",
     "text": [
      "Array after left rotation is:  [3, 4, 5, 6, 7, 1, 2]\n"
     ]
    }
   ],
   "source": [
    "# function to rotate array by d elements using temp array\n",
    "def rotateArray(arr, n, d):\n",
    "\ttemp = []\n",
    "\ti = 0\n",
    "\twhile (i < d):\n",
    "\t\ttemp.append(arr[i])\n",
    "\t\ti = i + 1\n",
    "\ti = 0\n",
    "\twhile (d < n):\n",
    "\t\tarr[i] = arr[d]\n",
    "\t\ti = i + 1\n",
    "\t\td = d + 1\n",
    "\tarr[:] = arr[: i] + temp\n",
    "\treturn arr\n",
    "\n",
    "\n",
    "# Driver function to test above function\n",
    "arr = [1, 2, 3, 4, 5, 6, 7]\n",
    "print(\"Array after left rotation is: \", end=' ')\n",
    "print(rotateArray(arr, len(arr), 2))\n"
   ]
  },
  {
   "cell_type": "code",
   "execution_count": null,
   "metadata": {},
   "outputs": [],
   "source": [
    "# function to rotate array by d elements using temp array\n",
    "def rotateArray(arr, n, d):\n",
    "\ttemp = []\n",
    "\ti = 0\n",
    "\twhile (i < d):\n",
    "\t\ttemp.append(arr[i])\n",
    "\t\ti = i + 1\n",
    "\ti = 0\n",
    "\twhile (d < n):\n",
    "\t\tarr[i] = arr[d]\n",
    "\t\ti = i + 1\n",
    "\t\td = d + 1\n",
    "\tarr[:] = arr[: i] + temp\n",
    "\treturn arr\n",
    "\n",
    "\n",
    "# Driver function to test above function\n",
    "arr = [1, 2, 3, 4, 5, 6, 7]\n",
    "print(\"Array after left rotation is: \", end=' ')\n",
    "print(rotateArray(arr, len(arr), 2))\n"
   ]
  },
  {
   "cell_type": "code",
   "execution_count": 149,
   "metadata": {},
   "outputs": [
    {
     "name": "stdout",
     "output_type": "stream",
     "text": [
      "3 4 5 6 7 1 2 "
     ]
    }
   ],
   "source": [
    "#Function to left rotate arr[] of size n by d*/\n",
    "def leftRotate(arr, d, n):\n",
    "\tfor i in range(d):\n",
    "\t\tleftRotatebyOne(arr, n)\n",
    "\n",
    "#Function to left Rotate arr[] of size n by 1*/ \n",
    "def leftRotatebyOne(arr, n):\n",
    "\ttemp = arr[0]\n",
    "\tfor i in range(n-1):\n",
    "\t\tarr[i] = arr[i+1]\n",
    "\tarr[n-1] = temp\n",
    "\t\t\n",
    "\n",
    "# utility function to print an array */\n",
    "def printArray(arr,size):\n",
    "\tfor i in range(size):\n",
    "\t\tprint (\"%d\"% arr[i],end=\" \")\n",
    "\n",
    "\n",
    "# Driver program to test above functions */\n",
    "arr = [1, 2, 3, 4, 5, 6, 7]\n",
    "leftRotate(arr, 2, 7)\n",
    "printArray(arr, 7)\n",
    "\n",
    "# This code is contributed by Shreyanshi Arun\n"
   ]
  },
  {
   "cell_type": "code",
   "execution_count": 150,
   "metadata": {},
   "outputs": [
    {
     "name": "stdout",
     "output_type": "stream",
     "text": [
      "3 4 5 6 7 1 2 "
     ]
    }
   ],
   "source": [
    "# Function to left rotate arr[] of size n by d\n",
    "def leftRotate(arr, d, n):\n",
    "\tfor i in range(gcd(d, n)):\n",
    "\n",
    "\t\t# move i-th values of blocks\n",
    "\t\ttemp = arr[i]\n",
    "\t\tj = i\n",
    "\t\twhile 1:\n",
    "\t\t\tk = j + d\n",
    "\t\t\tif k >= n:\n",
    "\t\t\t\tk = k - n\n",
    "\t\t\tif k == i:\n",
    "\t\t\t\tbreak\n",
    "\t\t\tarr[j] = arr[k]\n",
    "\t\t\tj = k\n",
    "\t\tarr[j] = temp\n",
    "\n",
    "# UTILITY FUNCTIONS\n",
    "# function to print an array\n",
    "\n",
    "\n",
    "def printArray(arr, size):\n",
    "\tfor i in range(size):\n",
    "\t\tprint(\"%d\" % arr[i], end=\" \")\n",
    "\n",
    "# Function to get gcd of a and b\n",
    "\n",
    "\n",
    "def gcd(a, b):\n",
    "\tif b == 0:\n",
    "\t\treturn a\n",
    "\telse:\n",
    "\t\treturn gcd(b, a % b)\n",
    "\n",
    "\n",
    "# Driver program to test above functions\n",
    "arr = [1, 2, 3, 4, 5, 6, 7]\n",
    "leftRotate(arr, 2, 7)\n",
    "printArray(arr, 7)\n"
   ]
  },
  {
   "cell_type": "code",
   "execution_count": 152,
   "metadata": {},
   "outputs": [
    {
     "name": "stdout",
     "output_type": "stream",
     "text": [
      "[1, 2, 3, 4, 5, 6]\n",
      "Rotated list is\n",
      "[3, 4, 5, 6, 1, 2]\n"
     ]
    }
   ],
   "source": [
    "# Python program using the List \n",
    "# slicing approach to rotate the array\n",
    "def rotateList(arr,d,n):\n",
    "    arr[:]=arr[d:n]+arr[0:d]\n",
    "    return arr\n",
    "# Driver function to test above function \n",
    "arr = [1, 2, 3, 4, 5, 6] \n",
    "print(arr) \n",
    "print(\"Rotated list is\") \n",
    "print(rotateList(arr,2,len(arr))) \n",
    "\n",
    "# this code is contributed by virusbuddah\n"
   ]
  },
  {
   "cell_type": "code",
   "execution_count": null,
   "metadata": {},
   "outputs": [],
   "source": []
  },
  {
   "cell_type": "code",
   "execution_count": null,
   "metadata": {},
   "outputs": [],
   "source": []
  },
  {
   "cell_type": "code",
   "execution_count": null,
   "metadata": {},
   "outputs": [],
   "source": []
  },
  {
   "cell_type": "code",
   "execution_count": null,
   "metadata": {},
   "outputs": [],
   "source": []
  },
  {
   "cell_type": "code",
   "execution_count": null,
   "metadata": {},
   "outputs": [],
   "source": []
  },
  {
   "cell_type": "code",
   "execution_count": 137,
   "metadata": {},
   "outputs": [
    {
     "name": "stdout",
     "output_type": "stream",
     "text": [
      "153 is an Armstrong number\n"
     ]
    }
   ],
   "source": [
    "def is_armstrong_number(number):\n",
    "\treturn sum(int(digit)**len(str(number)) for digit in str(number)) == number\n",
    "\n",
    "\n",
    "# Example usage:\n",
    "num = 153\n",
    "if is_armstrong_number(num):\n",
    "\tprint(f\"{num} is an Armstrong number\")\n",
    "else:\n",
    "\tprint(f\"{num} is not an Armstrong number\")\n"
   ]
  },
  {
   "cell_type": "markdown",
   "metadata": {},
   "source": [
    "Two Pointers"
   ]
  },
  {
   "cell_type": "markdown",
   "metadata": {},
   "source": [
    "1. Remove Duplicates from Sorted Array\n",
    "Problem: Given a sorted array, remove duplicates in-place such that each element appears only once."
   ]
  },
  {
   "cell_type": "code",
   "execution_count": null,
   "metadata": {},
   "outputs": [],
   "source": [
    "#Two Pointers\n",
    "def remove_duplicates(nums):\n",
    "    if not nums:\n",
    "        return 0\n",
    "    left = 0\n",
    "    for right in range(1, len(nums)):\n",
    "        if nums[right] != nums[left]:\n",
    "            left += 1\n",
    "            nums[left] = nums[right]\n",
    "    return left + 1\n",
    "\n",
    "# Example\n",
    "nums = [1, 1, 2, 2, 3]\n",
    "length = remove_duplicates(nums)\n",
    "print(nums[:length])  # Output: [1, 2, 3]\n",
    "\n"
   ]
  },
  {
   "cell_type": "markdown",
   "metadata": {},
   "source": [
    "2. Two Sum in a Sorted Array\n",
    "Problem: Find two numbers in a sorted array that add up to a specific target."
   ]
  },
  {
   "cell_type": "code",
   "execution_count": null,
   "metadata": {},
   "outputs": [],
   "source": [
    "def two_sum(nums, target):\n",
    "    left, right = 0, len(nums) - 1\n",
    "    while left < right:\n",
    "        current_sum = nums[left] + nums[right]\n",
    "        if current_sum == target:\n",
    "            return [left, right]\n",
    "        elif current_sum < target:\n",
    "            left += 1\n",
    "        else:\n",
    "            right -= 1\n",
    "    return []\n",
    "\n",
    "# Example\n",
    "nums = [2, 3, 4, 5, 7]\n",
    "target = 8\n",
    "print(two_sum(nums, target))  # Output: [1, 3]\n"
   ]
  },
  {
   "cell_type": "markdown",
   "metadata": {},
   "source": [
    "3. Valid Palindrome\n",
    "Problem: Check if a string is a valid palindrome, considering only alphanumeric characters."
   ]
  },
  {
   "cell_type": "code",
   "execution_count": null,
   "metadata": {},
   "outputs": [],
   "source": [
    "def is_palindrome(s):\n",
    "    left, right = 0, len(s) - 1\n",
    "    while left < right:\n",
    "        while left < right and not s[left].isalnum():\n",
    "            left += 1\n",
    "        while left < right and not s[right].isalnum():\n",
    "            right -= 1\n",
    "        if s[left].lower() != s[right].lower():\n",
    "            return False\n",
    "        left += 1\n",
    "        right -= 1\n",
    "    return True\n",
    "\n",
    "# Example\n",
    "s = \"A man, a plan, a canal: Panama\"\n",
    "print(is_palindrome(s))  # Output: True\n"
   ]
  },
  {
   "cell_type": "markdown",
   "metadata": {},
   "source": [
    "4. Merge Two Sorted Arrays\n",
    "Problem: Merge two sorted arrays into one sorted array."
   ]
  },
  {
   "cell_type": "code",
   "execution_count": null,
   "metadata": {},
   "outputs": [],
   "source": [
    "def merge_arrays(nums1, nums2):\n",
    "    result = []\n",
    "    i, j = 0, 0\n",
    "    while i < len(nums1) and j < len(nums2):\n",
    "        print(result)\n",
    "        if nums1[i] < nums2[j]:\n",
    "            result.append(nums1[i])\n",
    "            i += 1\n",
    "            print('i',i)\n",
    "        else:\n",
    "            result.append(nums2[j])\n",
    "            j += 1\n",
    "            print('j',j)\n",
    "    result.extend(nums1[i:]) # what ever after len till which its iterated\n",
    "    result.extend(nums2[j:])\n",
    "    return result\n",
    "\n",
    "# Example\n",
    "nums1 = [1, 3, 7]\n",
    "nums2 = [2, 4, 6]\n",
    "print(merge_arrays(nums1, nums2))  # Output: [1, 2, 3, 4, 5, 6]"
   ]
  },
  {
   "cell_type": "markdown",
   "metadata": {},
   "source": [
    "5. Container with Most Water\n",
    "\n",
    "Problem: Find two lines that together with the x-axis form a container, such that it contains the most water.\n"
   ]
  },
  {
   "cell_type": "code",
   "execution_count": null,
   "metadata": {},
   "outputs": [],
   "source": [
    "\n",
    "def max_area(height):\n",
    "    left, right = 0, len(height) - 1\n",
    "    max_water = 0\n",
    "    while left < right:\n",
    "        print(max_water,left,':=',height[left],height[right],'=:',right)\n",
    "        max_water = max(max_water, (right - left) * min(height[left], height[right]))\n",
    "        if height[left] < height[right]:\n",
    "            left += 1\n",
    "        else:\n",
    "            right -= 1\n",
    "    return max_water\n",
    "\n",
    "# Example\n",
    "height = [1, 8, 6, 2, 5, 4, 8, 3, 7]\n",
    "print(max_area(height))  # Output: 49"
   ]
  },
  {
   "cell_type": "code",
   "execution_count": null,
   "metadata": {},
   "outputs": [],
   "source": [
    "# Python Program for Legendre’s Conjecture\n",
    "# It says that there is always one prime number between any two consecutive natural number\\\n",
    "    \n",
    "#     (n = 1, 2, 3, 4, 5, …) square. This is called Legendre’s Conjecture.\n",
    "#       Conjecture: A conjecture is a proposition or conclusion based upon incomplete information to which no proof has been found i.e it has not been proved or disproved.\n",
    "\n",
    "# Mathematically, there is always one prime p in the range n^2        to (n + 1)^2        where n is any natural number. for examples- 2 and 3 are the primes in the range 1^2        to 2^2        .\n",
    "#  5 and 7 are the primes in the range 2^2        to 3^2        . 11 and 13 are the primes in the range 3^2        to 4^2        .\n",
    "#  17 and 19 are the primes in the range 4^2        to 5^2        .\n",
    "\n",
    "# Python program to verify Legendre's Conjecture \n",
    "# for a given n \n",
    "\n",
    "import math \n",
    "\n",
    "def isprime( n ): \n",
    "\t\n",
    "\ti = 2\n",
    "\tfor i in range (2, int((math.sqrt(n)+1))): \n",
    "\t\tif n%i == 0: \n",
    "\t\t\treturn False\n",
    "\treturn True\n",
    "\t\n",
    "def LegendreConjecture( n ): \n",
    "\tprint ( \"Primes in the range \", n*n \n",
    "\t\t\t, \" and \", (n+1)*(n+1) \n",
    "\t\t\t, \" are:\" ) \n",
    "\t\t\t\n",
    "\t\n",
    "\tfor i in range (n*n, (((n+1)*(n+1))+1)): \n",
    "\t\tif(isprime(i)): \n",
    "\t\t\tprint (i) \n",
    "\t\t\t\n",
    "n = 50\n",
    "LegendreConjecture(n) \n",
    "\n",
    "\n"
   ]
  },
  {
   "cell_type": "code",
   "execution_count": null,
   "metadata": {},
   "outputs": [],
   "source": [
    "import sympy\n",
    "\n",
    "def LegendreConjecture(n):\n",
    "\t# Find all prime numbers in the given range\n",
    "\tprimes = list(sympy.primerange(n*n, (n+1)*(n+1)))\n",
    "\t\n",
    "\t# Print the prime numbers\n",
    "\tprint(f\"Primes in the range {n*n} and {(n+1)*(n+1)} are:\\n\")\n",
    "\tfor i in range(len(primes)):\n",
    "\t    print(primes[i])\n",
    "\t\n",
    "n = 50\n",
    "LegendreConjecture(n)\n",
    "\n"
   ]
  },
  {
   "cell_type": "markdown",
   "metadata": {},
   "source": [
    "Arrays"
   ]
  },
  {
   "cell_type": "code",
   "execution_count": null,
   "metadata": {},
   "outputs": [],
   "source": [
    "#1 Find the missing number in an array\n",
    "def find_missing_number(arr, n):\n",
    "    total = n * (n + 1) // 2\n",
    "    return total - sum(arr)\n",
    "\n",
    "find_missing_number([1,2,3,4,6],4)\n"
   ]
  },
  {
   "cell_type": "code",
   "execution_count": null,
   "metadata": {},
   "outputs": [],
   "source": [
    "#2 Using hashing so can find whats not in the set\n",
    "def find_missing_number(arr, n):\n",
    "    numbers = set(arr)\n",
    "    for i in range(1, n + 1):\n",
    "        if i not in numbers:\n",
    "            return i\n",
    "find_missing_number([1,2,3,4],5)"
   ]
  },
  {
   "cell_type": "code",
   "execution_count": null,
   "metadata": {},
   "outputs": [],
   "source": [
    "#3 sorting and looping through each to check which index is missing\n",
    "def find_missing_number(arr, n):\n",
    "    arr.sort()\n",
    "    for i in range(n):\n",
    "        if arr[i] != i + 1:\n",
    "            return i + 1\n",
    "    return n + 1\n",
    "find_missing_number([1,2,3,4,5],5)"
   ]
  },
  {
   "cell_type": "code",
   "execution_count": null,
   "metadata": {},
   "outputs": [],
   "source": [
    "# Binary Search (for sorted arrays)\n",
    "# Approach: If the array is sorted, use binary search to find the missing number.\n",
    "# Time Complexity: \n",
    "# 𝑂(log 𝑛 )\n",
    "# O(log n)\n",
    "# Space Complexity: \n",
    "# O(1)\n",
    "\n",
    "def find_missing_number(arr, n):\n",
    "    left, right = 0, n - 1\n",
    "    while left <= right:\n",
    "        mid = (left + right) // 2\n",
    "        if arr[mid] == mid + 1:\n",
    "            left = mid + 1\n",
    "        else:\n",
    "            right = mid - 1\n",
    "    return left + 1\n",
    "\n",
    "find_missing_number([1,2,3,5],5)"
   ]
  },
  {
   "cell_type": "code",
   "execution_count": null,
   "metadata": {},
   "outputs": [],
   "source": [
    "\n",
    "Find the largest and smallest elements in an array.\n"
   ]
  },
  {
   "cell_type": "code",
   "execution_count": null,
   "metadata": {},
   "outputs": [],
   "source": [
    "Sort an array of 0s, 1s, and 2s without using extra space or sorting algorithm.\n"
   ]
  },
  {
   "cell_type": "code",
   "execution_count": null,
   "metadata": {},
   "outputs": [],
   "source": [
    "Find the duplicate number in an array.\n"
   ]
  },
  {
   "cell_type": "code",
   "execution_count": null,
   "metadata": {},
   "outputs": [],
   "source": [
    "Merge two sorted arrays without using extra space.\n"
   ]
  },
  {
   "cell_type": "code",
   "execution_count": null,
   "metadata": {},
   "outputs": [],
   "source": [
    "Kadane’s algorithm for the maximum subarray sum.\n"
   ]
  },
  {
   "cell_type": "code",
   "execution_count": null,
   "metadata": {},
   "outputs": [],
   "source": [
    "Find the intersection of two arrays.\n"
   ]
  },
  {
   "cell_type": "code",
   "execution_count": null,
   "metadata": {},
   "outputs": [],
   "source": [
    "Find the union of two arrays.\n"
   ]
  },
  {
   "cell_type": "code",
   "execution_count": null,
   "metadata": {},
   "outputs": [],
   "source": [
    "Find the equilibrium index of an array.\n"
   ]
  },
  {
   "cell_type": "code",
   "execution_count": null,
   "metadata": {},
   "outputs": [],
   "source": [
    "Rearrange an array so that arr[i] becomes arr[arr[i]] with O(1) extra space.\n"
   ]
  },
  {
   "cell_type": "code",
   "execution_count": null,
   "metadata": {},
   "outputs": [],
   "source": [
    "Find the length of the longest subarray with a given sum.\n"
   ]
  },
  {
   "cell_type": "code",
   "execution_count": null,
   "metadata": {},
   "outputs": [],
   "source": [
    "Rotate an array by k steps.\n"
   ]
  },
  {
   "cell_type": "code",
   "execution_count": null,
   "metadata": {},
   "outputs": [],
   "source": [
    "Find the pair with a given sum in a sorted and rotated array.\n"
   ]
  },
  {
   "cell_type": "code",
   "execution_count": null,
   "metadata": {},
   "outputs": [],
   "source": [
    "Trapping Rain Water problem.\n"
   ]
  },
  {
   "cell_type": "code",
   "execution_count": null,
   "metadata": {},
   "outputs": [],
   "source": [
    "Find the maximum product subarray.\n"
   ]
  },
  {
   "cell_type": "code",
   "execution_count": null,
   "metadata": {},
   "outputs": [],
   "source": [
    "Rearrange an array in alternating positive and negative items with O(1) extra space.\n"
   ]
  },
  {
   "cell_type": "code",
   "execution_count": null,
   "metadata": {},
   "outputs": [],
   "source": [
    "Find all subarrays with zero sum.\n",
    "Find the number of subarrays having a given XOR.\n",
    "Find the contiguous subarray with the maximum XOR.\n",
    "Find the minimum length subarray with the given sum.\n",
    "Find the first repeating element in an array.\n",
    "Find the number of pairs with a given difference.\n",
    "Count inversions in an array.\n",
    "Rearrange an array to maximize the minimum difference between any two adjacent elements.\n",
    "Find all the leaders in an array.\n",
    "Find the majority element in an array (element appearing more than n/2 times).\n",
    "Find the elements that appear more than n/k times in an array.\n",
    "Check if a subarray with a 0 sum exists.\n",
    "Find the longest consecutive subsequence in an array.\n",
    "Find the first missing positive integer.\n",
    "Implement a max heap/min heap.\n",
    "Find the minimum swaps required to sort an array.\n",
    "Find the minimum jumps to reach the end of the array.\n",
    "Find the smallest subarray with all occurrences of a most frequent element.\n",
    "Rearrange an array such that every second element is greater than its left and right elements.\n",
    "Find the maximum sum of i * arr[i] after rotations.\n",
    "Check if the array is a valid mountain array.\n",
    "Find the kth smallest element in an unsorted array.\n",
    "Find the subarray with the maximum sum under a given limit.\n",
    "Implement a circular queue using an array.\n",
    "Find the second largest element in an array.\n",
    "Rearrange an array in increasing-decreasing order.\n",
    "Calculate the product of all elements except the current one without using division.\n",
    "Find all pairs with a product equal to a given number.\n",
    "Check if two arrays are equal or not.\n",
    "Rearrange an array to maximize adjacent differences.\n",
    "Find the longest increasing subsequence.\n",
    "Find the smallest missing number in a sorted array.\n",
    "Partition an array into two subarrays with equal sum.\n",
    "Find the smallest element in a rotated sorted array."
   ]
  },
  {
   "cell_type": "code",
   "execution_count": null,
   "metadata": {},
   "outputs": [],
   "source": []
  },
  {
   "cell_type": "markdown",
   "metadata": {},
   "source": [
    "String"
   ]
  },
  {
   "cell_type": "code",
   "execution_count": null,
   "metadata": {},
   "outputs": [],
   "source": [
    "Reverse a string.\n",
    "Check if a string is a palindrome.\n",
    "Find the longest palindromic substring.\n",
    "Find the first non-repeating character in a string.\n",
    "Implement strstr() function.\n",
    "Check if two strings are anagrams of each other.\n",
    "Find the longest common prefix among a set of strings.\n",
    "Implement the atoi() function.\n",
    "Count the number of occurrences of a given character in a string.\n",
    "Replace all spaces in a string with %20.\n",
    "Check if a string is a rotation of another string.\n",
    "Check if a string contains only digits.\n",
    "Convert a string to uppercase/lowercase without using built-in functions.\n",
    "Remove all duplicates from a string.\n",
    "Find all permutations of a string.\n",
    "Check if a string is a valid shuffle of two other strings.\n",
    "Implement a function to check if a string has all unique characters.\n",
    "Reverse the order of words in a given string.\n",
    "Check if a string follows the given pattern.\n",
    "Find the minimum window in a string containing all characters of another string.\n",
    "Implement a basic calculator to evaluate a simple expression string.\n",
    "Count and say problem.\n",
    "Convert a given number to a Roman numeral.\n",
    "Implement a function to convert a Roman numeral to an integer.\n",
    "Remove adjacent duplicates from a string.\n",
    "Find the longest substring without repeating characters.\n",
    "Implement a function to split a string into words.\n",
    "Find the edit distance between two strings.\n",
    "Check if two strings are one edit distance apart.\n",
    "Compress a string using the counts of repeated characters.\n",
    "Find the shortest palindrome by adding characters in front.\n",
    "Check if a string is a subsequence of another string.\n",
    "Implement a wildcard pattern matching algorithm.\n",
    "Convert a string into zigzag pattern on a given number of rows.\n",
    "Check if a string contains all binary codes of size K.\n",
    "Check if a string can be converted to another by swapping characters.\n",
    "Find the longest repeating character replacement in a string.\n",
    "Find the minimum number of swaps required to balance a string.\n",
    "Find the number of ways to decode a string.\n",
    "Find the longest substring with at most two distinct characters.\n",
    "Check if a string is valid (parentheses validation).\n",
    "Find the smallest substring that contains all unique characters of another string.\n",
    "Find all anagrams of a string in another string.\n",
    "Check if two strings are k-anagrams.\n",
    "Count the number of substrings with exactly k distinct characters.\n",
    "Implement the KMP pattern matching algorithm.\n",
    "Check if a string can be divided into two parts with equal vowels and consonants.\n",
    "Check if a string contains a palindrome as a subsequence.\n",
    "Find the minimum insertions to form a palindrome from a string.\n",
    "Implement a function to check if two strings are isomorphic."
   ]
  },
  {
   "cell_type": "code",
   "execution_count": 61,
   "metadata": {},
   "outputs": [
    {
     "name": "stdout",
     "output_type": "stream",
     "text": [
      "True\n",
      "True\n",
      "[]\n",
      "False\n",
      "[]\n",
      "False\n",
      "True\n",
      "True\n",
      "True\n"
     ]
    }
   ],
   "source": [
    "def balanced_parenthesis(s):\n",
    "    stack = []\n",
    "    braces_dict = {'(':')','{':'}','[':']'}\n",
    "    for i in s:\n",
    "        if i in braces_dict.keys():\n",
    "            stack.append(i)\n",
    "        elif i in braces_dict.values():\n",
    "            if stack:\n",
    "                if not braces_dict[stack.pop()] == i: \n",
    "                    print(stack)\n",
    "                    return False\n",
    "            else:\n",
    "                print(stack)\n",
    "                return False\n",
    "    if stack:\n",
    "        print(stack)\n",
    "        return False\n",
    "    else:\n",
    "        return True\n",
    "\n",
    "\n",
    "test_cases = [\n",
    "    \"{[]()}\",     # True - simple balanced case\n",
    "    \"[[]]\",       # True - nested balanced case\n",
    "    \"[[]][}[]\",    # False - incomplete closing\n",
    "    \"][\",         # False - wrong order\n",
    "    \"[[{[]}]]\",     # True - multiple nested\n",
    "    \"\",           # True - empty string\n",
    "    \"[[][]]{([])}\"      # True - complex balanced case\n",
    "]\n",
    "\n",
    "\n",
    "for i in test_cases:\n",
    "    print(balanced_parenthesis(i))"
   ]
  },
  {
   "cell_type": "code",
   "execution_count": 127,
   "metadata": {},
   "outputs": [
    {
     "data": {
      "text/plain": [
       "[{'fruits': 'apple', 'colors': 'red', 'price': 1},\n",
       " {'fruits': 'banana', 'colors': 'yellow', 'price': 0.5},\n",
       " {'fruits': 'cherry', 'colors': 'red', 'price': 2}]"
      ]
     },
     "execution_count": 127,
     "metadata": {},
     "output_type": "execute_result"
    }
   ],
   "source": [
    "\"\"\"\n",
    "    Group values from different keys based on their positions in lists.\n",
    "    Example:\n",
    "    Input = {\n",
    "        'fruits': ['apple', 'banana', 'cherry'],\n",
    "        'colors': ['red', 'yellow', 'red'],\n",
    "        'price': [1, 0.5, 2]\n",
    "    }\n",
    "    Output = [\n",
    "        {'fruit': 'apple', 'color': 'red', 'price': 1},\n",
    "        {'fruit': 'banana', 'color': 'yellow', 'price': 0.5},\n",
    "        {'fruit': 'cherry', 'color': 'red', 'price': 2}\n",
    "    ]\n",
    "    \"\"\"\n",
    "Input = {\n",
    "        'fruits': ['apple', 'banana', 'cherry'],\n",
    "        'colors': ['red', 'yellow', 'red'],\n",
    "        'price': [1, 0.5, 2]\n",
    "    }\n",
    "Output = []\n",
    "\n",
    "keys = list(Input.keys())\n",
    "values = list(Input.values())\n",
    "n = len(values[0])\n",
    "for i in range(n):\n",
    "    item = {}\n",
    "    for idx,key in enumerate(keys):\n",
    "        item[key] = values[idx][i]\n",
    "    Output.append(item)\n",
    "\n",
    "\n",
    "Output"
   ]
  },
  {
   "cell_type": "code",
   "execution_count": null,
   "metadata": {},
   "outputs": [
    {
     "name": "stdout",
     "output_type": "stream",
     "text": [
      "10\n",
      "30\n",
      "60\n"
     ]
    },
    {
     "data": {
      "text/plain": [
       "60"
      ]
     },
     "metadata": {},
     "output_type": "display_data"
    }
   ],
   "source": [
    "# 8. Sum All Values\n",
    "# Write a Python program to calculate the sum of all values in a dictionary.\n",
    "# Example Input: {'a': 10, 'b': 20, 'c': 30}\n",
    "# Example Output: 60\n",
    "s = 0\n",
    "dict1 = {'a': 10, 'b': 20, 'c': 30}\n",
    "for k,v in dict1.items():\n",
    "    s = s + v\n",
    "    print(s)\n",
    "s\n",
    "\n"
   ]
  },
  {
   "cell_type": "code",
   "execution_count": 88,
   "metadata": {},
   "outputs": [
    {
     "data": {
      "text/plain": [
       "[{'fruit': 'apple'}, {'fruit': 'red'}, {'fruit': 1}]"
      ]
     },
     "execution_count": 88,
     "metadata": {},
     "output_type": "execute_result"
    }
   ],
   "source": [
    "Output"
   ]
  },
  {
   "cell_type": "code",
   "execution_count": 123,
   "metadata": {},
   "outputs": [
    {
     "name": "stdout",
     "output_type": "stream",
     "text": [
      "\n",
      "Test Case 1:\n",
      "Input: {'fruits': ['apple', 'banana', 'cherry'], 'colors': ['red', 'yellow', 'red'], 'price': [1, 0.5, 2]}\n",
      "[['apple', 'banana', 'cherry'], ['red', 'yellow', 'red'], [1, 0.5, 2]]\n",
      "Output: [{'fruits': 'apple', 'colors': 'red', 'price': 1}, {'fruits': 'banana', 'colors': 'yellow', 'price': 0.5}, {'fruits': 'cherry', 'colors': 'red', 'price': 2}]\n",
      "\n",
      "Test Case 2:\n",
      "Input: {'cities': ['New York', 'London', 'Tokyo'], 'population': [8.4, 9.0, 37.4], 'continent': ['NA', 'EU', 'AS'], 'visited': [True, True, False]}\n",
      "[['New York', 'London', 'Tokyo'], [8.4, 9.0, 37.4], ['NA', 'EU', 'AS'], [True, True, False]]\n",
      "Output: [{'cities': 'New York', 'population': 8.4, 'continent': 'NA', 'visited': True}, {'cities': 'London', 'population': 9.0, 'continent': 'EU', 'visited': True}, {'cities': 'Tokyo', 'population': 37.4, 'continent': 'AS', 'visited': False}]\n",
      "\n",
      "Test Case 3:\n",
      "Input: {'grades': ['A', 'B', 'A', 'C'], 'scores': [95, 85, 92, 75], 'pass': [True, True, True, True]}\n",
      "[['A', 'B', 'A', 'C'], [95, 85, 92, 75], [True, True, True, True]]\n",
      "Output: [{'grades': 'A', 'scores': 95, 'pass': True}, {'grades': 'B', 'scores': 85, 'pass': True}, {'grades': 'A', 'scores': 92, 'pass': True}, {'grades': 'C', 'scores': 75, 'pass': True}]\n"
     ]
    }
   ],
   "source": [
    "def find_related_values(data: dict) -> list:\n",
    "    \"\"\"\n",
    "    Group values from different keys based on their positions in lists\n",
    "    without using the original keys.\n",
    "    \n",
    "    Example:\n",
    "    Input = {\n",
    "        'fruits': ['apple', 'banana', 'cherry'],\n",
    "        'colors': ['red', 'yellow', 'red'],\n",
    "        'price': [1, 0.5, 2]\n",
    "    }\n",
    "    Output = [\n",
    "        {'fruit': 'apple', 'color': 'red', 'price': 1},\n",
    "        {'fruit': 'banana', 'color': 'yellow', 'price': 0.5},\n",
    "        {'fruit': 'cherry', 'color': 'red', 'price': 2}\n",
    "    ]\n",
    "    \"\"\"\n",
    "    # Get all values lists\n",
    "    values_lists = list(data.values())\n",
    "    # Get all keys for constructing result\n",
    "    keys = list(data.keys())\n",
    "    print(values_lists)\n",
    "    # Get the length of any list (assuming all lists are of same length)\n",
    "    n = len(values_lists[0])\n",
    "    # Create result by grouping values at same indices\n",
    "    result = []\n",
    "    for i in range(n):\n",
    "        item = {}\n",
    "        for key_idx, key in enumerate(keys):\n",
    "            item[key] = values_lists[key_idx][i]\n",
    "        result.append(item)\n",
    "    return result\n",
    "\n",
    "# Test cases\n",
    "test_cases = [\n",
    "    {\n",
    "        'fruits': ['apple', 'banana', 'cherry'],\n",
    "        'colors': ['red', 'yellow', 'red'],\n",
    "        'price': [1, 0.5, 2]\n",
    "    },\n",
    "    {\n",
    "        'cities': ['New York', 'London', 'Tokyo'],\n",
    "        'population': [8.4, 9.0, 37.4],\n",
    "        'continent': ['NA', 'EU', 'AS'],\n",
    "        'visited': [True, True, False]\n",
    "    },\n",
    "    {\n",
    "        'grades': ['A', 'B', 'A', 'C'],\n",
    "        'scores': [95, 85, 92, 75],\n",
    "        'pass': [True, True, True, True]\n",
    "    }\n",
    "]\n",
    "\n",
    "# Test the function\n",
    "for idx, test in enumerate(test_cases, 1):\n",
    "    print(f\"\\nTest Case {idx}:\")\n",
    "    print(\"Input:\", test)\n",
    "    print(\"Output:\", find_related_values(test))\n"
   ]
  },
  {
   "cell_type": "code",
   "execution_count": 133,
   "metadata": {},
   "outputs": [
    {
     "name": "stdout",
     "output_type": "stream",
     "text": [
      "['Python']\n",
      "['Python']\n",
      "['Python']\n",
      "['Java', 'Python']\n",
      "['Python']\n"
     ]
    }
   ],
   "source": [
    "def func(list_items=None):\n",
    "    if list_items is None:\n",
    "        list_items = []\n",
    "    list_items.append('Python')\n",
    "    return list_items\n",
    "\n",
    "print(func())\n",
    "print(func())\n",
    "print(func())\n",
    "print(func(['Java']))\n",
    "print(func())\n"
   ]
  },
  {
   "cell_type": "code",
   "execution_count": 130,
   "metadata": {},
   "outputs": [
    {
     "data": {
      "text/plain": [
       "[{'grades': 'A', 'scores': 95, 'pass': True},\n",
       " {'grades': 'B', 'scores': 85, 'pass': True},\n",
       " {'grades': 'A', 'scores': 92, 'pass': True},\n",
       " {'grades': 'C', 'scores': 75, 'pass': True}]"
      ]
     },
     "execution_count": 130,
     "metadata": {},
     "output_type": "execute_result"
    }
   ],
   "source": [
    "def data_format(data:dict) -> list:\n",
    "    keys = list(data.keys())\n",
    "    values = list(data.values())\n",
    "    n = len(values[0])\n",
    "    result_lst = []\n",
    "    for i in range(n):\n",
    "        item = {}\n",
    "        for idx, key in enumerate(keys):\n",
    "            item[key] = values[idx][i]\n",
    "        result_lst.append(item)\n",
    "    \n",
    "    return result_lst\n",
    "\n",
    "\n",
    "Input = {\n",
    "        'grades': ['A', 'B', 'A', 'C'],\n",
    "        'scores': [95, 85, 92, 75],\n",
    "        'pass': [True, True, True, True]\n",
    "    }\n",
    "\n",
    "data_format(Input)\n"
   ]
  },
  {
   "cell_type": "code",
   "execution_count": 139,
   "metadata": {},
   "outputs": [
    {
     "data": {
      "text/plain": [
       "{'a': 1, 'b': 12, 'c': 23, 'd': 30}"
      ]
     },
     "execution_count": 139,
     "metadata": {},
     "output_type": "execute_result"
    }
   ],
   "source": [
    "dictionary1 = {\"a\": 1, \"b\": 2, \"c\": 3}\n",
    "dictionary2 = {\"b\": 10, \"c\": 20, \"d\": 30}\n",
    "output ={}\n",
    "for key in dictionary1.keys():\n",
    "    output[key] = dictionary1[key]\n",
    "for key in dictionary2.keys():\n",
    "    if key in dictionary1:\n",
    "        output[key] = dictionary1[key] + dictionary2[key]\n",
    "    else:\n",
    "        output[key] = dictionary2[key]\n",
    "output"
   ]
  }
 ],
 "metadata": {
  "kernelspec": {
   "display_name": "base",
   "language": "python",
   "name": "python3"
  },
  "language_info": {
   "codemirror_mode": {
    "name": "ipython",
    "version": 3
   },
   "file_extension": ".py",
   "mimetype": "text/x-python",
   "name": "python",
   "nbconvert_exporter": "python",
   "pygments_lexer": "ipython3",
   "version": "3.11.5"
  }
 },
 "nbformat": 4,
 "nbformat_minor": 2
}
