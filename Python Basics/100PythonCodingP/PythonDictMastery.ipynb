{
 "cells": [
  {
   "cell_type": "code",
   "execution_count": 2,
   "metadata": {},
   "outputs": [
    {
     "data": {
      "text/plain": [
       "dict"
      ]
     },
     "execution_count": 2,
     "metadata": {},
     "output_type": "execute_result"
    }
   ],
   "source": [
    "a = {'key':'value'}\n",
    "type(a)\n"
   ]
  },
  {
   "cell_type": "code",
   "execution_count": 6,
   "metadata": {},
   "outputs": [
    {
     "name": "stdout",
     "output_type": "stream",
     "text": [
      "<class 'dict'>\n"
     ]
    },
    {
     "data": {
      "text/plain": [
       "dict"
      ]
     },
     "execution_count": 6,
     "metadata": {},
     "output_type": "execute_result"
    }
   ],
   "source": [
    "b = {\"name\":\"Yogesh\",\"age\":27}\n",
    "print(type(b))\n",
    "type(b)\n"
   ]
  },
  {
   "cell_type": "code",
   "execution_count": 8,
   "metadata": {},
   "outputs": [
    {
     "name": "stdout",
     "output_type": "stream",
     "text": [
      "a\n",
      "1\n",
      "b\n",
      "2\n",
      "c\n",
      "3\n",
      "d\n",
      "4\n"
     ]
    }
   ],
   "source": [
    "c = {\"a\":\"1\",\"b\":\"2\",\"c\":\"3\",\"d\":\"4\"}\n",
    "for i,v in c.items():\n",
    "    print(i)\n",
    "    print(v)"
   ]
  },
  {
   "cell_type": "code",
   "execution_count": 22,
   "metadata": {},
   "outputs": [
    {
     "name": "stdout",
     "output_type": "stream",
     "text": [
      "found in dict 2\n"
     ]
    }
   ],
   "source": [
    "key = 'b'\n",
    "for char in c.keys():\n",
    "    if char == key:\n",
    "        print(f'found in dict {c[char]}')\n",
    "        break\n",
    "else:\n",
    "    print('not found in dict')\n",
    "    "
   ]
  },
  {
   "cell_type": "code",
   "execution_count": 33,
   "metadata": {},
   "outputs": [
    {
     "name": "stdout",
     "output_type": "stream",
     "text": [
      "4\n",
      "5\n",
      "6\n",
      "7\n"
     ]
    },
    {
     "data": {
      "text/plain": [
       "{'a': 3, 'b': 4, 'c': 5, 'd': 6}"
      ]
     },
     "execution_count": 33,
     "metadata": {},
     "output_type": "execute_result"
    }
   ],
   "source": [
    "d = {}\n",
    "for i,v in c.items():\n",
    "    d[i] =int(c[i]) + 1\n",
    "    print(int(v)+1)\n",
    "c"
   ]
  },
  {
   "cell_type": "code",
   "execution_count": 36,
   "metadata": {},
   "outputs": [
    {
     "data": {
      "text/plain": [
       "{'a': 4, 'b': 5, 'c': 6, 'd': 7, 'e': 10}"
      ]
     },
     "execution_count": 36,
     "metadata": {},
     "output_type": "execute_result"
    }
   ],
   "source": [
    "d['e'] = 10\n",
    "d"
   ]
  },
  {
   "cell_type": "code",
   "execution_count": 39,
   "metadata": {},
   "outputs": [
    {
     "data": {
      "text/plain": [
       "{'a': 4, 'b': 5, 'c': 6, 'd': 7, 'e': 10, 'z': 0}"
      ]
     },
     "execution_count": 39,
     "metadata": {},
     "output_type": "execute_result"
    }
   ],
   "source": [
    "c['z'] = 0\n",
    "c"
   ]
  },
  {
   "cell_type": "code",
   "execution_count": 40,
   "metadata": {},
   "outputs": [
    {
     "data": {
      "text/plain": [
       "{'a': 4, 'b': 5, 'c': 6, 'd': 7, 'e': 10, 'z': 0}"
      ]
     },
     "execution_count": 40,
     "metadata": {},
     "output_type": "execute_result"
    }
   ],
   "source": [
    "c.update(d)\n",
    "c"
   ]
  },
  {
   "cell_type": "code",
   "execution_count": 42,
   "metadata": {},
   "outputs": [
    {
     "data": {
      "text/plain": [
       "0"
      ]
     },
     "execution_count": 42,
     "metadata": {},
     "output_type": "execute_result"
    }
   ],
   "source": [
    "c.get('z')"
   ]
  },
  {
   "cell_type": "code",
   "execution_count": 44,
   "metadata": {},
   "outputs": [
    {
     "data": {
      "text/plain": [
       "6"
      ]
     },
     "execution_count": 44,
     "metadata": {},
     "output_type": "execute_result"
    }
   ],
   "source": [
    "v"
   ]
  },
  {
   "cell_type": "code",
   "execution_count": 45,
   "metadata": {},
   "outputs": [
    {
     "data": {
      "text/plain": [
       "{4: 'a', 5: 'b', 6: 'c', 7: 'd', 10: 'e', 0: 'z'}"
      ]
     },
     "execution_count": 45,
     "metadata": {},
     "output_type": "execute_result"
    }
   ],
   "source": [
    "reverse_dict = {}\n",
    "for k,v in c.items():\n",
    "    reverse_dict[v] = k\n",
    "reverse_dict"
   ]
  },
  {
   "cell_type": "code",
   "execution_count": 46,
   "metadata": {},
   "outputs": [
    {
     "data": {
      "text/plain": [
       "{1: 1, 2: 4, 3: 9, 4: 16, 5: 25}"
      ]
     },
     "execution_count": 46,
     "metadata": {},
     "output_type": "execute_result"
    }
   ],
   "source": [
    "{i:i**2 for i in range(1,6)}"
   ]
  },
  {
   "cell_type": "code",
   "execution_count": 48,
   "metadata": {},
   "outputs": [
    {
     "name": "stdout",
     "output_type": "stream",
     "text": [
      "20\n"
     ]
    }
   ],
   "source": [
    "# {'a': 10, 'b': 20, 'c': 30}, Key: 'b'\n",
    "dict1 = {'a': 10, 'b': 20, 'c': 30}\n",
    "valb = dict1['b']\n",
    "print(valb)"
   ]
  },
  {
   "cell_type": "code",
   "execution_count": 50,
   "metadata": {},
   "outputs": [
    {
     "data": {
      "text/plain": [
       "{'a': 10, 'b': 20, 'c': 30}"
      ]
     },
     "execution_count": 50,
     "metadata": {},
     "output_type": "execute_result"
    }
   ],
   "source": [
    "dict1['c'] = 30\n",
    "dict1"
   ]
  },
  {
   "cell_type": "code",
   "execution_count": 51,
   "metadata": {},
   "outputs": [
    {
     "data": {
      "text/plain": [
       "20"
      ]
     },
     "execution_count": 51,
     "metadata": {},
     "output_type": "execute_result"
    }
   ],
   "source": [
    "dict1['b'] if 'b' in dict1 else 'Key not found'"
   ]
  },
  {
   "cell_type": "code",
   "execution_count": 52,
   "metadata": {},
   "outputs": [
    {
     "data": {
      "text/plain": [
       "{'a': 10, 'c': 30}"
      ]
     },
     "execution_count": 52,
     "metadata": {},
     "output_type": "execute_result"
    }
   ],
   "source": [
    "del dict1['b']\n",
    "dict1"
   ]
  },
  {
   "cell_type": "code",
   "execution_count": 60,
   "metadata": {},
   "outputs": [
    {
     "data": {
      "text/plain": [
       "('c', 30)"
      ]
     },
     "execution_count": 60,
     "metadata": {},
     "output_type": "execute_result"
    }
   ],
   "source": [
    "dict1.popitem()"
   ]
  },
  {
   "cell_type": "code",
   "execution_count": 61,
   "metadata": {},
   "outputs": [
    {
     "data": {
      "text/plain": [
       "{}"
      ]
     },
     "execution_count": 61,
     "metadata": {},
     "output_type": "execute_result"
    }
   ],
   "source": [
    "dict1"
   ]
  },
  {
   "cell_type": "code",
   "execution_count": 62,
   "metadata": {},
   "outputs": [],
   "source": [
    "dict2 = {'name': 'John', 'age': 25}"
   ]
  },
  {
   "cell_type": "code",
   "execution_count": 64,
   "metadata": {},
   "outputs": [
    {
     "name": "stdout",
     "output_type": "stream",
     "text": [
      "Key: name, Value: John\n",
      "Key: age, Value: 25\n"
     ]
    }
   ],
   "source": [
    "for k,v in dict2.items():\n",
    "    print(f'Key: {k}, Value: {v}')"
   ]
  },
  {
   "cell_type": "code",
   "execution_count": 72,
   "metadata": {},
   "outputs": [
    {
     "data": {
      "text/plain": [
       "\"dict3['z']\""
      ]
     },
     "execution_count": 72,
     "metadata": {},
     "output_type": "execute_result"
    }
   ],
   "source": [
    "# 6. Check for Key in Dictionary\n",
    "# Write a program to check if a specific key exists in a dictionary.\n",
    "# Example Input: {'x': 1, 'y': 2}, Key: 'z'\n",
    "# Example Output: Key not found\n",
    "\n",
    "dict3 = {'x': 1, 'y': 2}\n",
    "'Key not found' if 'z' in dict3.keys() else \"dict3['z']\"\n"
   ]
  },
  {
   "cell_type": "code",
   "execution_count": 75,
   "metadata": {},
   "outputs": [
    {
     "data": {
      "text/plain": [
       "{'a': 1, 'b': 2, 'c': 3, 'd': 4}"
      ]
     },
     "execution_count": 75,
     "metadata": {},
     "output_type": "execute_result"
    }
   ],
   "source": [
    "# 7. Merge Two Dictionaries\n",
    "# Write a program to merge two dictionaries into one.\n",
    "# Example Input: {'a': 1, 'b': 2} and {'c': 3, 'd': 4}\n",
    "# Example Output: {'a': 1, 'b': 2, 'c': 3, 'd': 4}\n",
    "\n",
    "dict1 = {'a': 1, 'b': 2}\n",
    "dict2 = {'c': 3, 'd': 4}\n",
    "dict3 = dict1 | dict2\n",
    "dict3\n"
   ]
  },
  {
   "cell_type": "code",
   "execution_count": 86,
   "metadata": {},
   "outputs": [
    {
     "name": "stdout",
     "output_type": "stream",
     "text": [
      "10\n",
      "30\n",
      "60\n"
     ]
    },
    {
     "data": {
      "text/plain": [
       "60"
      ]
     },
     "execution_count": 86,
     "metadata": {},
     "output_type": "execute_result"
    }
   ],
   "source": [
    "# 8. Sum All Values\n",
    "# Write a Python program to calculate the sum of all values in a dictionary.\n",
    "# Example Input: {'a': 10, 'b': 20, 'c': 30}\n",
    "# Example Output: 60\n",
    "s = 0\n",
    "dict1 = {'a': 10, 'b': 20, 'c': 30}\n",
    "for k,v in dict1.items():\n",
    "    s = s + v\n",
    "    print(s)\n",
    "s\n",
    "\n"
   ]
  },
  {
   "cell_type": "code",
   "execution_count": 101,
   "metadata": {},
   "outputs": [],
   "source": [
    "# 9. Find the Maximum and Minimum Value\n",
    "# Write a program to find the maximum and minimum values in a dictionary.\n",
    "# Example Input: {'a': 5, 'b': 2, 'c': 9}\n",
    "# Example Output:\n",
    "# Maximum: 9\n",
    "# Minimum: 2\n",
    "\n",
    "\n",
    "mx,mn = float('-inf'),float('inf')\n",
    "for v in dict1.values():\n",
    "    mx = max(mx,v)\n",
    "    mn = min(mn,v)"
   ]
  },
  {
   "cell_type": "code",
   "execution_count": 100,
   "metadata": {},
   "outputs": [
    {
     "name": "stdout",
     "output_type": "stream",
     "text": [
      "{'h': 1, 'e': 1, 'l': 2, 'o': 1}\n"
     ]
    }
   ],
   "source": [
    "# 10. Count the Frequency of Elements\n",
    "# Write a program to count the frequency of characters in a string using a dictionary.\n",
    "# Example Input: \"hello\"\n",
    "# Example Output: {'h': 1, 'e': 1, 'l': 2, 'o': 1}\n",
    "def count_char(s):\n",
    "    counter = {}\n",
    "    for i in s:\n",
    "        if i in counter:\n",
    "            counter[i] = counter[i] +1\n",
    "        else:\n",
    "            counter[i] = 1\n",
    "    return counter\n",
    "\n",
    "str = 'hello'\n",
    "cnt = count_char(str)\n",
    "print(cnt)"
   ]
  },
  {
   "cell_type": "code",
   "execution_count": 105,
   "metadata": {},
   "outputs": [
    {
     "data": {
      "text/plain": [
       "{'name': 'John', 'age': 25}"
      ]
     },
     "execution_count": 105,
     "metadata": {},
     "output_type": "execute_result"
    }
   ],
   "source": [
    "# 11. Dictionary from Two Lists\n",
    "# Create a dictionary from two lists: one for keys and one for values.\n",
    "# Example Input: Keys: ['name', 'age'], Values: ['John', 25]\n",
    "# Example Output: {'name': 'John', 'age': 25}\n",
    "lstk = ['name', 'age']\n",
    "lstv = ['John', 25]\n",
    "dict(zip(lstk,lstv))"
   ]
  },
  {
   "cell_type": "code",
   "execution_count": 108,
   "metadata": {},
   "outputs": [
    {
     "name": "stdout",
     "output_type": "stream",
     "text": [
      "{'a': 10, 'b': 20, 'c': 30}\n"
     ]
    },
    {
     "data": {
      "text/plain": [
       "{10: 'a', 20: 'b', 30: 'c'}"
      ]
     },
     "execution_count": 108,
     "metadata": {},
     "output_type": "execute_result"
    }
   ],
   "source": [
    "# 12. Reverse a Dictionary\n",
    "# Write a program to reverse the keys and values in a dictionary (assume values are unique).\n",
    "# Example Input: {'a': 1, 'b': 2, 'c': 3}\n",
    "# Example Output: {1: 'a', 2: 'b', 3: 'c'}\n",
    "print(dict1)\n",
    "dictr = {v:k for k,v in dict1.items()}\n",
    "dictr"
   ]
  },
  {
   "cell_type": "code",
   "execution_count": 110,
   "metadata": {},
   "outputs": [
    {
     "data": {
      "text/plain": [
       "['b']"
      ]
     },
     "execution_count": 110,
     "metadata": {},
     "output_type": "execute_result"
    }
   ],
   "source": [
    "# 13. Find Common Keys\n",
    "# Write a program to find the common keys between two dictionaries.\n",
    "# Example Input: \n",
    "d1 = {'a': 1, 'b': 2}\n",
    "d2 = {'b': 3, 'c': 4}\n",
    "# Example Output: ['b']\n",
    "[k for k in d1.keys() if k in d2]"
   ]
  },
  {
   "cell_type": "code",
   "execution_count": 112,
   "metadata": {},
   "outputs": [
    {
     "name": "stdout",
     "output_type": "stream",
     "text": [
      "['b']\n"
     ]
    }
   ],
   "source": [
    "dict1 = {'a': 1, 'b': 2}\n",
    "dict2 = {'b': 3, 'c': 4}\n",
    "\n",
    "# Convert dictionary keys to sets and find the intersection\n",
    "common_keys = list(set(dict1.keys()) & set(dict2.keys()))\n",
    "print(common_keys)  # Output: ['b']\n"
   ]
  },
  {
   "cell_type": "code",
   "execution_count": 113,
   "metadata": {},
   "outputs": [
    {
     "name": "stdout",
     "output_type": "stream",
     "text": [
      "['b']\n"
     ]
    }
   ],
   "source": [
    "dict1 = {'a': 1, 'b': 2}\n",
    "dict2 = {'b': 3, 'c': 4}\n",
    "\n",
    "# Iterate through the keys of one dictionary and check for presence in the other\n",
    "common_keys = [key for key in dict1 if key in dict2]\n",
    "print(common_keys)  # Output: ['b']\n"
   ]
  },
  {
   "cell_type": "code",
   "execution_count": 114,
   "metadata": {},
   "outputs": [
    {
     "name": "stdout",
     "output_type": "stream",
     "text": [
      "['b']\n"
     ]
    }
   ],
   "source": [
    "dict1 = {'a': 1, 'b': 2}\n",
    "dict2 = {'b': 3, 'c': 4}\n",
    "\n",
    "# Use dictionary view objects to find common keys\n",
    "common_keys = list(dict1.keys() & dict2.keys())\n",
    "print(common_keys)  # Output: ['b']\n"
   ]
  },
  {
   "cell_type": "code",
   "execution_count": 115,
   "metadata": {},
   "outputs": [
    {
     "name": "stdout",
     "output_type": "stream",
     "text": [
      "['b']\n"
     ]
    }
   ],
   "source": [
    "dict1 = {'a': 1, 'b': 2}\n",
    "dict2 = {'b': 3, 'c': 4}\n",
    "\n",
    "# Filter common keys using a lambda function\n",
    "common_keys = list(filter(lambda k: k in dict2, dict1))\n",
    "print(common_keys)  # Output: ['b']\n"
   ]
  },
  {
   "cell_type": "code",
   "execution_count": 120,
   "metadata": {},
   "outputs": [
    {
     "name": "stdout",
     "output_type": "stream",
     "text": [
      "['b']\n"
     ]
    }
   ],
   "source": [
    "dict1 = {'a': 1, 'b': 2}\n",
    "dict2 = {'b': 3, 'c': 4}\n",
    "\n",
    "# Initialize an empty list for common keys\n",
    "common_keys = []\n",
    "for key in dict1:\n",
    "    if key in dict2:\n",
    "        common_keys.append(key)\n",
    "print(common_keys)  # Output: ['b']\n"
   ]
  },
  {
   "cell_type": "code",
   "execution_count": 109,
   "metadata": {},
   "outputs": [
    {
     "data": {
      "text/plain": [
       "{'a': 15, 'c': 25}"
      ]
     },
     "execution_count": 109,
     "metadata": {},
     "output_type": "execute_result"
    }
   ],
   "source": [
    "# 14. Filter Dictionary\n",
    "# Write a program to filter out key-value pairs where the value is less than 10.\n",
    "# Example Input: {'a': 15, 'b': 5, 'c': 25}\n",
    "# Example Output: {'a': 15, 'c': 25}\n",
    "dict1 = {'a': 15, 'b': 5, 'c': 25}\n",
    "{k:v for k,v in dict1.items() if v > 10}"
   ]
  },
  {
   "cell_type": "code",
   "execution_count": 125,
   "metadata": {},
   "outputs": [
    {
     "name": "stdout",
     "output_type": "stream",
     "text": [
      "{'b': {'c': 42}}\n",
      "{'c': 42}\n",
      "42\n"
     ]
    },
    {
     "data": {
      "text/plain": [
       "42"
      ]
     },
     "execution_count": 125,
     "metadata": {},
     "output_type": "execute_result"
    }
   ],
   "source": [
    "# 15. Nested Dictionary Access\n",
    "# Given a nested dictionary, write a program to access a value using a sequence of keys.\n",
    "# Example Input: {'a': {'b': {'c': 42}}}, Keys: ['a', 'b', 'c']\n",
    "# Example Output: 42\n",
    "d3 = {'a': {'b': {'c': 42}}}\n",
    "keys = ['a', 'b', 'c']\n",
    "for k in keys:\n",
    "    d3 = d3[k]\n",
    "    print(d3)\n",
    "    cv = d3\n",
    "cv"
   ]
  },
  {
   "cell_type": "code",
   "execution_count": 131,
   "metadata": {},
   "outputs": [
    {
     "data": {
      "text/plain": [
       "{'c': 5, 'b': 10, 'a': 11}"
      ]
     },
     "execution_count": 131,
     "metadata": {},
     "output_type": "execute_result"
    }
   ],
   "source": [
    "my_dict = {'a': 11, 'b': 10, 'c': 5}\n",
    "\n",
    "# Find key with the maximum value\n",
    "max_key = sorted(my_dict, key=my_dict.get)\n",
    "res = {i :my_dict[i] for i in max_key}\n",
    "res"
   ]
  }
 ],
 "metadata": {
  "kernelspec": {
   "display_name": "base",
   "language": "python",
   "name": "python3"
  },
  "language_info": {
   "codemirror_mode": {
    "name": "ipython",
    "version": 3
   },
   "file_extension": ".py",
   "mimetype": "text/x-python",
   "name": "python",
   "nbconvert_exporter": "python",
   "pygments_lexer": "ipython3",
   "version": "3.11.5"
  }
 },
 "nbformat": 4,
 "nbformat_minor": 2
}
