{
 "cells": [
  {
   "cell_type": "code",
   "execution_count": null,
   "metadata": {
    "colab": {
     "base_uri": "https://localhost:8080/"
    },
    "executionInfo": {
     "elapsed": 5514,
     "status": "ok",
     "timestamp": 1707158044557,
     "user": {
      "displayName": "Yogesh KS",
      "userId": "07687895109534174207"
     },
     "user_tz": -330
    },
    "id": "0ijZzG2jQUmq",
    "outputId": "fec72586-e93a-4fe3-e29b-3a3a677c67dd"
   },
   "outputs": [
    {
     "name": "stdout",
     "output_type": "stream",
     "text": [
      "Thread 1: 0\n",
      "Thread 2: A\n",
      "Thread 1: 1\n",
      "Thread 2: B\n",
      "Thread 1: 2\n",
      "Thread 2: C\n",
      "Thread 1: 3\n",
      "Thread 2: D\n",
      "Thread 1: 4\n",
      "Thread 2: E\n",
      "Both threads have finished.\n"
     ]
    }
   ],
   "source": []
  },
  {
   "cell_type": "code",
   "execution_count": null,
   "metadata": {
    "id": "HMKMNzmZky9p"
   },
   "outputs": [],
   "source": []
  },
  {
   "cell_type": "code",
   "execution_count": null,
   "metadata": {
    "colab": {
     "base_uri": "https://localhost:8080/",
     "height": 35
    },
    "executionInfo": {
     "elapsed": 4,
     "status": "ok",
     "timestamp": 1707981817399,
     "user": {
      "displayName": "Yogesh KS",
      "userId": "07687895109534174207"
     },
     "user_tz": -330
    },
    "id": "J5fl5bRhpTHD",
    "outputId": "35f46d0b-23ce-470c-bc2e-02e1cb44f395"
   },
   "outputs": [
    {
     "data": {
      "application/vnd.google.colaboratory.intrinsic+json": {
       "type": "string"
      },
      "text/plain": [
       "'HSEGOY'"
      ]
     },
     "execution_count": 3,
     "metadata": {},
     "output_type": "execute_result"
    }
   ],
   "source": [
    "s = 'Yogesh'\n",
    "s[::-1].upper()"
   ]
  },
  {
   "cell_type": "code",
   "execution_count": null,
   "metadata": {
    "colab": {
     "base_uri": "https://localhost:8080/",
     "height": 35
    },
    "executionInfo": {
     "elapsed": 573,
     "status": "ok",
     "timestamp": 1707981903166,
     "user": {
      "displayName": "Yogesh KS",
      "userId": "07687895109534174207"
     },
     "user_tz": -330
    },
    "id": "ujkV_X2xpl0r",
    "outputId": "5d09803a-89e6-45e7-d789-600c1c9f0a59"
   },
   "outputs": [
    {
     "data": {
      "application/vnd.google.colaboratory.intrinsic+json": {
       "type": "string"
      },
      "text/plain": [
       "'hsegoY'"
      ]
     },
     "execution_count": 5,
     "metadata": {},
     "output_type": "execute_result"
    }
   ],
   "source": [
    "def reverse_str(s):\n",
    "  return s[::-1]\n",
    "\n",
    "reverse_str('Yogesh')"
   ]
  },
  {
   "cell_type": "code",
   "execution_count": null,
   "metadata": {
    "colab": {
     "base_uri": "https://localhost:8080/"
    },
    "executionInfo": {
     "elapsed": 2,
     "status": "ok",
     "timestamp": 1707982130230,
     "user": {
      "displayName": "Yogesh KS",
      "userId": "07687895109534174207"
     },
     "user_tz": -330
    },
    "id": "0ZdGjyD-p6FC",
    "outputId": "119a2c8f-eaf5-4e25-ab4a-4552e947c387"
   },
   "outputs": [
    {
     "data": {
      "text/plain": [
       "[0, 1, 1, 2, 3, 5, 8, 13, 21, 34]"
      ]
     },
     "execution_count": 9,
     "metadata": {},
     "output_type": "execute_result"
    }
   ],
   "source": [
    "def fibonacci(n):\n",
    "  seq = [0,1]\n",
    "  while len(seq) < n:\n",
    "    seq.append(seq[-1] + seq[-2])\n",
    "  return seq\n",
    "fibonacci(10)"
   ]
  },
  {
   "cell_type": "code",
   "execution_count": null,
   "metadata": {
    "colab": {
     "base_uri": "https://localhost:8080/"
    },
    "executionInfo": {
     "elapsed": 4,
     "status": "ok",
     "timestamp": 1707159000468,
     "user": {
      "displayName": "Yogesh KS",
      "userId": "07687895109534174207"
     },
     "user_tz": -330
    },
    "id": "w-emTWZgmgDA",
    "outputId": "c92f70d0-64cd-4bfd-a4fc-2b3bb816e87d"
   },
   "outputs": [
    {
     "name": "stdout",
     "output_type": "stream",
     "text": [
      "[0.         1.57079633 3.14159265]\n",
      "Sine: [0.0000000e+00 1.0000000e+00 1.2246468e-16]\n",
      "Cosine: [ 1.000000e+00  6.123234e-17 -1.000000e+00]\n",
      "Tangent: [ 0.00000000e+00  1.63312394e+16 -1.22464680e-16]\n"
     ]
    }
   ],
   "source": [
    "import numpy as np\n",
    "\n",
    "# Create an array of angles in radians\n",
    "angles = np.array([0, np.pi/2, np.pi])\n",
    "print(angles)\n",
    "# Sine function\n",
    "result_sin = np.sin(angles)\n",
    "print(\"Sine:\", result_sin)\n",
    "\n",
    "# Cosine function\n",
    "result_cos = np.cos(angles)\n",
    "print(\"Cosine:\", result_cos)\n",
    "\n",
    "# Tangent function\n",
    "result_tan = np.tan(angles)\n",
    "print(\"Tangent:\", result_tan)\n"
   ]
  },
  {
   "cell_type": "code",
   "execution_count": null,
   "metadata": {
    "colab": {
     "base_uri": "https://localhost:8080/",
     "height": 425
    },
    "executionInfo": {
     "elapsed": 1940,
     "status": "error",
     "timestamp": 1707153288177,
     "user": {
      "displayName": "Yogesh KS",
      "userId": "07687895109534174207"
     },
     "user_tz": -330
    },
    "id": "J9mefWQfQjD5",
    "outputId": "96c244e5-dee7-4810-b4cd-cc88f3966e3d"
   },
   "outputs": [
    {
     "ename": "SMTPAuthenticationError",
     "evalue": "(534, b'5.7.9 Application-specific password required. For more information, go to\\n5.7.9  https://support.google.com/mail/?p=InvalidSecondFactor jv12-20020a170903058c00b001d6f091ca04sm111786plb.13 - gsmtp')",
     "output_type": "error",
     "traceback": [
      "\u001b[0;31m---------------------------------------------------------------------------\u001b[0m",
      "\u001b[0;31mSMTPAuthenticationError\u001b[0m                   Traceback (most recent call last)",
      "\u001b[0;32m<ipython-input-2-dff2ab0d20a0>\u001b[0m in \u001b[0;36m<cell line: 22>\u001b[0;34m()\u001b[0m\n\u001b[1;32m     23\u001b[0m     \u001b[0mserver\u001b[0m\u001b[0;34m.\u001b[0m\u001b[0mstarttls\u001b[0m\u001b[0;34m(\u001b[0m\u001b[0;34m)\u001b[0m\u001b[0;34m\u001b[0m\u001b[0;34m\u001b[0m\u001b[0m\n\u001b[1;32m     24\u001b[0m     \u001b[0;31m# Login to the sender's email account\u001b[0m\u001b[0;34m\u001b[0m\u001b[0;34m\u001b[0m\u001b[0m\n\u001b[0;32m---> 25\u001b[0;31m     \u001b[0mserver\u001b[0m\u001b[0;34m.\u001b[0m\u001b[0mlogin\u001b[0m\u001b[0;34m(\u001b[0m\u001b[0msender_email\u001b[0m\u001b[0;34m,\u001b[0m \u001b[0msender_password\u001b[0m\u001b[0;34m)\u001b[0m\u001b[0;34m\u001b[0m\u001b[0;34m\u001b[0m\u001b[0m\n\u001b[0m\u001b[1;32m     26\u001b[0m     \u001b[0;31m# Send the email\u001b[0m\u001b[0;34m\u001b[0m\u001b[0;34m\u001b[0m\u001b[0m\n\u001b[1;32m     27\u001b[0m     \u001b[0mserver\u001b[0m\u001b[0;34m.\u001b[0m\u001b[0msendmail\u001b[0m\u001b[0;34m(\u001b[0m\u001b[0msender_email\u001b[0m\u001b[0;34m,\u001b[0m \u001b[0mrecipient_email\u001b[0m\u001b[0;34m,\u001b[0m \u001b[0mmessage\u001b[0m\u001b[0;34m.\u001b[0m\u001b[0mas_string\u001b[0m\u001b[0;34m(\u001b[0m\u001b[0;34m)\u001b[0m\u001b[0;34m)\u001b[0m\u001b[0;34m\u001b[0m\u001b[0;34m\u001b[0m\u001b[0m\n",
      "\u001b[0;32m/usr/lib/python3.10/smtplib.py\u001b[0m in \u001b[0;36mlogin\u001b[0;34m(self, user, password, initial_response_ok)\u001b[0m\n\u001b[1;32m    748\u001b[0m \u001b[0;34m\u001b[0m\u001b[0m\n\u001b[1;32m    749\u001b[0m         \u001b[0;31m# We could not login successfully.  Return result of last attempt.\u001b[0m\u001b[0;34m\u001b[0m\u001b[0;34m\u001b[0m\u001b[0m\n\u001b[0;32m--> 750\u001b[0;31m         \u001b[0;32mraise\u001b[0m \u001b[0mlast_exception\u001b[0m\u001b[0;34m\u001b[0m\u001b[0;34m\u001b[0m\u001b[0m\n\u001b[0m\u001b[1;32m    751\u001b[0m \u001b[0;34m\u001b[0m\u001b[0m\n\u001b[1;32m    752\u001b[0m     \u001b[0;32mdef\u001b[0m \u001b[0mstarttls\u001b[0m\u001b[0;34m(\u001b[0m\u001b[0mself\u001b[0m\u001b[0;34m,\u001b[0m \u001b[0mkeyfile\u001b[0m\u001b[0;34m=\u001b[0m\u001b[0;32mNone\u001b[0m\u001b[0;34m,\u001b[0m \u001b[0mcertfile\u001b[0m\u001b[0;34m=\u001b[0m\u001b[0;32mNone\u001b[0m\u001b[0;34m,\u001b[0m \u001b[0mcontext\u001b[0m\u001b[0;34m=\u001b[0m\u001b[0;32mNone\u001b[0m\u001b[0;34m)\u001b[0m\u001b[0;34m:\u001b[0m\u001b[0;34m\u001b[0m\u001b[0;34m\u001b[0m\u001b[0m\n",
      "\u001b[0;32m/usr/lib/python3.10/smtplib.py\u001b[0m in \u001b[0;36mlogin\u001b[0;34m(self, user, password, initial_response_ok)\u001b[0m\n\u001b[1;32m    737\u001b[0m             \u001b[0mmethod_name\u001b[0m \u001b[0;34m=\u001b[0m \u001b[0;34m'auth_'\u001b[0m \u001b[0;34m+\u001b[0m \u001b[0mauthmethod\u001b[0m\u001b[0;34m.\u001b[0m\u001b[0mlower\u001b[0m\u001b[0;34m(\u001b[0m\u001b[0;34m)\u001b[0m\u001b[0;34m.\u001b[0m\u001b[0mreplace\u001b[0m\u001b[0;34m(\u001b[0m\u001b[0;34m'-'\u001b[0m\u001b[0;34m,\u001b[0m \u001b[0;34m'_'\u001b[0m\u001b[0;34m)\u001b[0m\u001b[0;34m\u001b[0m\u001b[0;34m\u001b[0m\u001b[0m\n\u001b[1;32m    738\u001b[0m             \u001b[0;32mtry\u001b[0m\u001b[0;34m:\u001b[0m\u001b[0;34m\u001b[0m\u001b[0;34m\u001b[0m\u001b[0m\n\u001b[0;32m--> 739\u001b[0;31m                 (code, resp) = self.auth(\n\u001b[0m\u001b[1;32m    740\u001b[0m                     \u001b[0mauthmethod\u001b[0m\u001b[0;34m,\u001b[0m \u001b[0mgetattr\u001b[0m\u001b[0;34m(\u001b[0m\u001b[0mself\u001b[0m\u001b[0;34m,\u001b[0m \u001b[0mmethod_name\u001b[0m\u001b[0;34m)\u001b[0m\u001b[0;34m,\u001b[0m\u001b[0;34m\u001b[0m\u001b[0;34m\u001b[0m\u001b[0m\n\u001b[1;32m    741\u001b[0m                     initial_response_ok=initial_response_ok)\n",
      "\u001b[0;32m/usr/lib/python3.10/smtplib.py\u001b[0m in \u001b[0;36mauth\u001b[0;34m(self, mechanism, authobject, initial_response_ok)\u001b[0m\n\u001b[1;32m    660\u001b[0m         \u001b[0;32mif\u001b[0m \u001b[0mcode\u001b[0m \u001b[0;32min\u001b[0m \u001b[0;34m(\u001b[0m\u001b[0;36m235\u001b[0m\u001b[0;34m,\u001b[0m \u001b[0;36m503\u001b[0m\u001b[0;34m)\u001b[0m\u001b[0;34m:\u001b[0m\u001b[0;34m\u001b[0m\u001b[0;34m\u001b[0m\u001b[0m\n\u001b[1;32m    661\u001b[0m             \u001b[0;32mreturn\u001b[0m \u001b[0;34m(\u001b[0m\u001b[0mcode\u001b[0m\u001b[0;34m,\u001b[0m \u001b[0mresp\u001b[0m\u001b[0;34m)\u001b[0m\u001b[0;34m\u001b[0m\u001b[0;34m\u001b[0m\u001b[0m\n\u001b[0;32m--> 662\u001b[0;31m         \u001b[0;32mraise\u001b[0m \u001b[0mSMTPAuthenticationError\u001b[0m\u001b[0;34m(\u001b[0m\u001b[0mcode\u001b[0m\u001b[0;34m,\u001b[0m \u001b[0mresp\u001b[0m\u001b[0;34m)\u001b[0m\u001b[0;34m\u001b[0m\u001b[0;34m\u001b[0m\u001b[0m\n\u001b[0m\u001b[1;32m    663\u001b[0m \u001b[0;34m\u001b[0m\u001b[0m\n\u001b[1;32m    664\u001b[0m     \u001b[0;32mdef\u001b[0m \u001b[0mauth_cram_md5\u001b[0m\u001b[0;34m(\u001b[0m\u001b[0mself\u001b[0m\u001b[0;34m,\u001b[0m \u001b[0mchallenge\u001b[0m\u001b[0;34m=\u001b[0m\u001b[0;32mNone\u001b[0m\u001b[0;34m)\u001b[0m\u001b[0;34m:\u001b[0m\u001b[0;34m\u001b[0m\u001b[0;34m\u001b[0m\u001b[0m\n",
      "\u001b[0;31mSMTPAuthenticationError\u001b[0m: (534, b'5.7.9 Application-specific password required. For more information, go to\\n5.7.9  https://support.google.com/mail/?p=InvalidSecondFactor jv12-20020a170903058c00b001d6f091ca04sm111786plb.13 - gsmtp')"
     ]
    }
   ],
   "source": [
    "import smtplib\n",
    "from email.mime.text import MIMEText\n",
    "\n",
    "# Sender's email credentials\n",
    "sender_email = \"yogeshfullstackdeveloper@gmail.com\"\n",
    "sender_password = \"Anamcara@300796\"\n",
    "\n",
    "# Recipient's email address\n",
    "recipient_email = \"rakshitartr@gmail.com\"\n",
    "\n",
    "# Email content\n",
    "subject = \"Hello from Yogesh!\"\n",
    "body = \"This is a test email sent from Python while learning.\"\n",
    "\n",
    "# Create MIMEText object\n",
    "message = MIMEText(body)\n",
    "message[\"Subject\"] = subject\n",
    "message[\"From\"] = sender_email\n",
    "message[\"To\"] = recipient_email\n",
    "\n",
    "# Establish a connection to the SMTP server\n",
    "with smtplib.SMTP(\"smtp.gmail.com\", 587) as server:\n",
    "    server.starttls()\n",
    "    # Login to the sender's email account\n",
    "    server.login(sender_email, sender_password)\n",
    "    # Send the email\n",
    "    server.sendmail(sender_email, recipient_email, message.as_string())\n"
   ]
  },
  {
   "cell_type": "code",
   "execution_count": null,
   "metadata": {
    "colab": {
     "base_uri": "https://localhost:8080/"
    },
    "executionInfo": {
     "elapsed": 14352,
     "status": "ok",
     "timestamp": 1707153392999,
     "user": {
      "displayName": "Yogesh KS",
      "userId": "07687895109534174207"
     },
     "user_tz": -330
    },
    "id": "AXQnmn42RTry",
    "outputId": "96efeeae-d207-4815-89fb-5ae5c4a6c9a8"
   },
   "outputs": [
    {
     "name": "stdout",
     "output_type": "stream",
     "text": [
      "Requirement already satisfied: google-auth in /usr/local/lib/python3.10/dist-packages (2.17.3)\n",
      "Requirement already satisfied: cachetools<6.0,>=2.0.0 in /usr/local/lib/python3.10/dist-packages (from google-auth) (5.3.2)\n",
      "Requirement already satisfied: pyasn1-modules>=0.2.1 in /usr/local/lib/python3.10/dist-packages (from google-auth) (0.3.0)\n",
      "Requirement already satisfied: six>=1.9.0 in /usr/local/lib/python3.10/dist-packages (from google-auth) (1.16.0)\n",
      "Requirement already satisfied: rsa<5,>=3.1.4 in /usr/local/lib/python3.10/dist-packages (from google-auth) (4.9)\n",
      "Requirement already satisfied: pyasn1<0.6.0,>=0.4.6 in /usr/local/lib/python3.10/dist-packages (from pyasn1-modules>=0.2.1->google-auth) (0.5.1)\n",
      "Requirement already satisfied: google-auth-oauthlib in /usr/local/lib/python3.10/dist-packages (1.2.0)\n",
      "Requirement already satisfied: google-auth>=2.15.0 in /usr/local/lib/python3.10/dist-packages (from google-auth-oauthlib) (2.17.3)\n",
      "Requirement already satisfied: requests-oauthlib>=0.7.0 in /usr/local/lib/python3.10/dist-packages (from google-auth-oauthlib) (1.3.1)\n",
      "Requirement already satisfied: cachetools<6.0,>=2.0.0 in /usr/local/lib/python3.10/dist-packages (from google-auth>=2.15.0->google-auth-oauthlib) (5.3.2)\n",
      "Requirement already satisfied: pyasn1-modules>=0.2.1 in /usr/local/lib/python3.10/dist-packages (from google-auth>=2.15.0->google-auth-oauthlib) (0.3.0)\n",
      "Requirement already satisfied: six>=1.9.0 in /usr/local/lib/python3.10/dist-packages (from google-auth>=2.15.0->google-auth-oauthlib) (1.16.0)\n",
      "Requirement already satisfied: rsa<5,>=3.1.4 in /usr/local/lib/python3.10/dist-packages (from google-auth>=2.15.0->google-auth-oauthlib) (4.9)\n",
      "Requirement already satisfied: oauthlib>=3.0.0 in /usr/local/lib/python3.10/dist-packages (from requests-oauthlib>=0.7.0->google-auth-oauthlib) (3.2.2)\n",
      "Requirement already satisfied: requests>=2.0.0 in /usr/local/lib/python3.10/dist-packages (from requests-oauthlib>=0.7.0->google-auth-oauthlib) (2.31.0)\n",
      "Requirement already satisfied: pyasn1<0.6.0,>=0.4.6 in /usr/local/lib/python3.10/dist-packages (from pyasn1-modules>=0.2.1->google-auth>=2.15.0->google-auth-oauthlib) (0.5.1)\n",
      "Requirement already satisfied: charset-normalizer<4,>=2 in /usr/local/lib/python3.10/dist-packages (from requests>=2.0.0->requests-oauthlib>=0.7.0->google-auth-oauthlib) (3.3.2)\n",
      "Requirement already satisfied: idna<4,>=2.5 in /usr/local/lib/python3.10/dist-packages (from requests>=2.0.0->requests-oauthlib>=0.7.0->google-auth-oauthlib) (3.6)\n",
      "Requirement already satisfied: urllib3<3,>=1.21.1 in /usr/local/lib/python3.10/dist-packages (from requests>=2.0.0->requests-oauthlib>=0.7.0->google-auth-oauthlib) (2.0.7)\n",
      "Requirement already satisfied: certifi>=2017.4.17 in /usr/local/lib/python3.10/dist-packages (from requests>=2.0.0->requests-oauthlib>=0.7.0->google-auth-oauthlib) (2023.11.17)\n"
     ]
    }
   ],
   "source": [
    "!pip install google-auth\n",
    "!pip install google-auth-oauthlib"
   ]
  },
  {
   "cell_type": "code",
   "execution_count": null,
   "metadata": {
    "id": "EQZHN8DbRV1L"
   },
   "outputs": [],
   "source": [
    "import smtplib\n",
    "from email.mime.text import MIMEText\n",
    "from google.oauth2 import service_account"
   ]
  },
  {
   "cell_type": "code",
   "execution_count": null,
   "metadata": {
    "colab": {
     "base_uri": "https://localhost:8080/",
     "height": 407
    },
    "executionInfo": {
     "elapsed": 582,
     "status": "error",
     "timestamp": 1707153402283,
     "user": {
      "displayName": "Yogesh KS",
      "userId": "07687895109534174207"
     },
     "user_tz": -330
    },
    "id": "dNWobNKKRY3g",
    "outputId": "3f3eb46d-0c32-47ac-dcbd-e2c27a96a0c7"
   },
   "outputs": [
    {
     "ename": "FileNotFoundError",
     "evalue": "[Errno 2] No such file or directory: 'path/to/credentials.json'",
     "output_type": "error",
     "traceback": [
      "\u001b[0;31m---------------------------------------------------------------------------\u001b[0m",
      "\u001b[0;31mFileNotFoundError\u001b[0m                         Traceback (most recent call last)",
      "\u001b[0;32m<ipython-input-5-880ea9e84168>\u001b[0m in \u001b[0;36m<cell line: 2>\u001b[0;34m()\u001b[0m\n\u001b[1;32m      1\u001b[0m \u001b[0;31m# Load the service account credentials from a JSON file\u001b[0m\u001b[0;34m\u001b[0m\u001b[0;34m\u001b[0m\u001b[0m\n\u001b[0;32m----> 2\u001b[0;31m credentials = service_account.Credentials.from_service_account_file(\n\u001b[0m\u001b[1;32m      3\u001b[0m     \u001b[0;34m\"path/to/credentials.json\"\u001b[0m\u001b[0;34m\u001b[0m\u001b[0;34m\u001b[0m\u001b[0m\n\u001b[1;32m      4\u001b[0m )\n\u001b[1;32m      5\u001b[0m \u001b[0;34m\u001b[0m\u001b[0m\n",
      "\u001b[0;32m/usr/local/lib/python3.10/dist-packages/google/oauth2/service_account.py\u001b[0m in \u001b[0;36mfrom_service_account_file\u001b[0;34m(cls, filename, **kwargs)\u001b[0m\n\u001b[1;32m    239\u001b[0m                 \u001b[0mcredentials\u001b[0m\u001b[0;34m.\u001b[0m\u001b[0;34m\u001b[0m\u001b[0;34m\u001b[0m\u001b[0m\n\u001b[1;32m    240\u001b[0m         \"\"\"\n\u001b[0;32m--> 241\u001b[0;31m         info, signer = _service_account_info.from_filename(\n\u001b[0m\u001b[1;32m    242\u001b[0m             \u001b[0mfilename\u001b[0m\u001b[0;34m,\u001b[0m \u001b[0mrequire\u001b[0m\u001b[0;34m=\u001b[0m\u001b[0;34m[\u001b[0m\u001b[0;34m\"client_email\"\u001b[0m\u001b[0;34m,\u001b[0m \u001b[0;34m\"token_uri\"\u001b[0m\u001b[0;34m]\u001b[0m\u001b[0;34m\u001b[0m\u001b[0;34m\u001b[0m\u001b[0m\n\u001b[1;32m    243\u001b[0m         )\n",
      "\u001b[0;32m/usr/local/lib/python3.10/dist-packages/google/auth/_service_account_info.py\u001b[0m in \u001b[0;36mfrom_filename\u001b[0;34m(filename, require, use_rsa_signer)\u001b[0m\n\u001b[1;32m     78\u001b[0m             \u001b[0minfo\u001b[0m \u001b[0;32mand\u001b[0m \u001b[0ma\u001b[0m \u001b[0msigner\u001b[0m \u001b[0minstance\u001b[0m\u001b[0;34m.\u001b[0m\u001b[0;34m\u001b[0m\u001b[0;34m\u001b[0m\u001b[0m\n\u001b[1;32m     79\u001b[0m     \"\"\"\n\u001b[0;32m---> 80\u001b[0;31m     \u001b[0;32mwith\u001b[0m \u001b[0mio\u001b[0m\u001b[0;34m.\u001b[0m\u001b[0mopen\u001b[0m\u001b[0;34m(\u001b[0m\u001b[0mfilename\u001b[0m\u001b[0;34m,\u001b[0m \u001b[0;34m\"r\"\u001b[0m\u001b[0;34m,\u001b[0m \u001b[0mencoding\u001b[0m\u001b[0;34m=\u001b[0m\u001b[0;34m\"utf-8\"\u001b[0m\u001b[0;34m)\u001b[0m \u001b[0;32mas\u001b[0m \u001b[0mjson_file\u001b[0m\u001b[0;34m:\u001b[0m\u001b[0;34m\u001b[0m\u001b[0;34m\u001b[0m\u001b[0m\n\u001b[0m\u001b[1;32m     81\u001b[0m         \u001b[0mdata\u001b[0m \u001b[0;34m=\u001b[0m \u001b[0mjson\u001b[0m\u001b[0;34m.\u001b[0m\u001b[0mload\u001b[0m\u001b[0;34m(\u001b[0m\u001b[0mjson_file\u001b[0m\u001b[0;34m)\u001b[0m\u001b[0;34m\u001b[0m\u001b[0;34m\u001b[0m\u001b[0m\n\u001b[1;32m     82\u001b[0m         \u001b[0;32mreturn\u001b[0m \u001b[0mdata\u001b[0m\u001b[0;34m,\u001b[0m \u001b[0mfrom_dict\u001b[0m\u001b[0;34m(\u001b[0m\u001b[0mdata\u001b[0m\u001b[0;34m,\u001b[0m \u001b[0mrequire\u001b[0m\u001b[0;34m=\u001b[0m\u001b[0mrequire\u001b[0m\u001b[0;34m,\u001b[0m \u001b[0muse_rsa_signer\u001b[0m\u001b[0;34m=\u001b[0m\u001b[0muse_rsa_signer\u001b[0m\u001b[0;34m)\u001b[0m\u001b[0;34m\u001b[0m\u001b[0;34m\u001b[0m\u001b[0m\n",
      "\u001b[0;31mFileNotFoundError\u001b[0m: [Errno 2] No such file or directory: 'path/to/credentials.json'"
     ]
    }
   ],
   "source": [
    "# Load the service account credentials from a JSON file\n",
    "credentials = service_account.Credentials.from_service_account_file(\n",
    "    \"path/to/credentials.json\"\n",
    ")\n",
    "\n",
    "# Create a secure connection to the SMTP server\n",
    "server = smtplib.SMTP(\"smtp.gmail.com\", 587)\n",
    "server.starttls()\n",
    "\n",
    "# Authenticate using the service account credentials\n",
    "server.login(credentials.service_account_email, credentials.service_account_file.get(\"private_key\"))"
   ]
  },
  {
   "cell_type": "code",
   "execution_count": null,
   "metadata": {
    "id": "mPt5VwP9RdE5"
   },
   "outputs": [],
   "source": [
    "# Create the email message\n",
    "message = MIMEText(body, \"plain\")\n",
    "message[\"Subject\"] = subject\n",
    "message[\"From\"] = sender_email\n",
    "message[\"To\"] = recipient_email\n",
    "\n",
    "# Send the email\n",
    "server.sendmail(sender_email, recipient_email, message.as_string())"
   ]
  },
  {
   "cell_type": "code",
   "execution_count": null,
   "metadata": {
    "colab": {
     "base_uri": "https://localhost:8080/"
    },
    "executionInfo": {
     "elapsed": 7,
     "status": "ok",
     "timestamp": 1709022201349,
     "user": {
      "displayName": "Yogesh KS",
      "userId": "07687895109534174207"
     },
     "user_tz": -330
    },
    "id": "7rTXPTCQk0j3",
    "outputId": "b634ba68-ad5f-4b3e-c837-399e3df59d41"
   },
   "outputs": [
    {
     "name": "stdout",
     "output_type": "stream",
     "text": [
      "Hello workers\n",
      "None\n"
     ]
    }
   ],
   "source": [
    "class Office:\n",
    "  def __init__(self,name, age):\n",
    "    self.name = name\n",
    "    self.age = age\n",
    "  def greet(self):\n",
    "    print('Hello')\n",
    "class Employee(Office):\n",
    "\n",
    "  def greet(self):\n",
    "   print('Hello Employee')\n",
    "\n",
    "\n",
    "class workers(Office):\n",
    "\n",
    "  def greet(self):\n",
    "    print('Hello workers')\n",
    "\n",
    "class contracters(Office):\n",
    "\n",
    "  def greet(self):\n",
    "    print('Hello contracters')\n",
    "\n",
    "\n",
    "x1 = Office('Yogi', 27)\n",
    "x2 = workers('Yogi', 27)\n",
    "print(x2.greet())"
   ]
  },
  {
   "cell_type": "code",
   "execution_count": null,
   "metadata": {
    "colab": {
     "base_uri": "https://localhost:8080/"
    },
    "executionInfo": {
     "elapsed": 488,
     "status": "ok",
     "timestamp": 1709022219913,
     "user": {
      "displayName": "Yogesh KS",
      "userId": "07687895109534174207"
     },
     "user_tz": -330
    },
    "id": "3J8ABxZaqF-x",
    "outputId": "f736a3dc-a4f4-47d3-d418-e849eb267ec4"
   },
   "outputs": [
    {
     "name": "stdout",
     "output_type": "stream",
     "text": [
      "Hello\n",
      "None\n"
     ]
    }
   ],
   "source": [
    "class Office:\n",
    "    def __init__(self, name, age):\n",
    "        self.name = name\n",
    "        self.age = age\n",
    "\n",
    "    def greet(self):\n",
    "        print('Hello')\n",
    "\n",
    "class Employee(Office):\n",
    "    def greet(self):\n",
    "        print('Hello Employee')\n",
    "\n",
    "class workers(Office):\n",
    "    def greet(self):\n",
    "        print('Hello workers')\n",
    "\n",
    "class contracters(Office):\n",
    "    def greet(self):\n",
    "        print('Hello contracters')\n",
    "\n",
    "x1 = Office('Yogi', 27)\n",
    "x2 = workers('Yogi', 27)\n",
    "print(x1.greet())\n"
   ]
  },
  {
   "cell_type": "code",
   "execution_count": null,
   "metadata": {
    "colab": {
     "base_uri": "https://localhost:8080/"
    },
    "executionInfo": {
     "elapsed": 466,
     "status": "ok",
     "timestamp": 1709023462148,
     "user": {
      "displayName": "Yogesh KS",
      "userId": "07687895109534174207"
     },
     "user_tz": -330
    },
    "id": "CCmbv6tZvAab",
    "outputId": "d8f183a5-99b0-4c45-fdd8-37de12c648b5"
   },
   "outputs": [
    {
     "name": "stdout",
     "output_type": "stream",
     "text": [
      "['_Processor', '_WIN32_CLIENT_RELEASES', '_WIN32_SERVER_RELEASES', '__builtins__', '__cached__', '__copyright__', '__doc__', '__file__', '__loader__', '__name__', '__package__', '__spec__', '__version__', '_comparable_version', '_component_re', '_default_architecture', '_follow_symlinks', '_get_machine_win32', '_ironpython26_sys_version_parser', '_ironpython_sys_version_parser', '_java_getprop', '_libc_search', '_mac_ver_xml', '_node', '_norm_version', '_os_release_cache', '_os_release_candidates', '_os_release_line', '_os_release_unescape', '_parse_os_release', '_platform', '_platform_cache', '_pypy_sys_version_parser', '_sys_version', '_sys_version_cache', '_sys_version_parser', '_syscmd_file', '_syscmd_ver', '_uname_cache', '_unknown_as_blank', '_ver_output', '_ver_stages', 'architecture', 'collections', 'freedesktop_os_release', 'functools', 'itertools', 'java_ver', 'libc_ver', 'mac_ver', 'machine', 'node', 'os', 'platform', 'processor', 'python_branch', 'python_build', 'python_compiler', 'python_implementation', 'python_revision', 'python_version', 'python_version_tuple', 're', 'release', 'subprocess', 'sys', 'system', 'system_alias', 'uname', 'uname_result', 'version', 'win32_edition', 'win32_is_iot', 'win32_ver']\n",
      "<module 'os' from '/usr/lib/python3.10/os.py'>\n"
     ]
    }
   ],
   "source": [
    "import platform as p\n",
    "\n",
    "x = dir(p)\n",
    "print(x)\n",
    "print(p.os)"
   ]
  },
  {
   "cell_type": "code",
   "execution_count": 13,
   "metadata": {
    "colab": {
     "base_uri": "https://localhost:8080/"
    },
    "executionInfo": {
     "elapsed": 445,
     "status": "ok",
     "timestamp": 1709041912943,
     "user": {
      "displayName": "Yogesh KS",
      "userId": "07687895109534174207"
     },
     "user_tz": -330
    },
    "id": "__94het2yyp2",
    "outputId": "24293997-3101-477b-d7ae-09e7eb66397a"
   },
   "outputs": [
    {
     "name": "stdout",
     "output_type": "stream",
     "text": [
      "print(\"A\", x.strftime(\"%A\")) #: A\n",
      "print(\"a\", x.strftime(\"%a\")) #: a\n",
      "print(\"C\", x.strftime(\"%C\")) #: C\n",
      "print(\"c\", x.strftime(\"%c\")) #: c\n",
      "print(\"E\", x.strftime(\"%E\")) #: E\n",
      "print(\"e\", x.strftime(\"%e\")) #: e\n",
      "print(\"G\", x.strftime(\"%G\")) #: G\n",
      "print(\"g\", x.strftime(\"%g\")) #: g\n",
      "print(\"I\", x.strftime(\"%I\")) #: I\n",
      "print(\"i\", x.strftime(\"%i\")) #: i\n",
      "print(\"K\", x.strftime(\"%K\")) #: K\n",
      "print(\"k\", x.strftime(\"%k\")) #: k\n",
      "print(\"M\", x.strftime(\"%M\")) #: M\n",
      "print(\"m\", x.strftime(\"%m\")) #: m\n",
      "print(\"O\", x.strftime(\"%O\")) #: O\n",
      "print(\"o\", x.strftime(\"%o\")) #: o\n",
      "print(\"Q\", x.strftime(\"%Q\")) #: Q\n",
      "print(\"q\", x.strftime(\"%q\")) #: q\n",
      "print(\"S\", x.strftime(\"%S\")) #: S\n",
      "print(\"s\", x.strftime(\"%s\")) #: s\n",
      "print(\"U\", x.strftime(\"%U\")) #: U\n",
      "print(\"u\", x.strftime(\"%u\")) #: u\n",
      "print(\"W\", x.strftime(\"%W\")) #: W\n",
      "print(\"w\", x.strftime(\"%w\")) #: w\n",
      "print(\"Y\", x.strftime(\"%Y\")) #: Y\n",
      "print(\"y\", x.strftime(\"%y\")) #: y\n"
     ]
    }
   ],
   "source": [
    "# Print ASCII characters and their values\n",
    "for char in range(ord('A'), ord('Z')+1):\n",
    "    print(f'print(\"{chr(char)}\",x.strftime(\"%{chr(char)}\")) #: {chr(char)}')\n",
    "\n",
    "\n",
    "for char in range(ord('a'), ord('z')+1):\n",
    "    print(f'print(\"{chr(char)}\",x.strftime(\"%{chr(char)}\")) #: {chr(char)}')\n"
   ]
  },
  {
   "cell_type": "code",
   "execution_count": 14,
   "metadata": {
    "colab": {
     "base_uri": "https://localhost:8080/"
    },
    "executionInfo": {
     "elapsed": 461,
     "status": "ok",
     "timestamp": 1709041926887,
     "user": {
      "displayName": "Yogesh KS",
      "userId": "07687895109534174207"
     },
     "user_tz": -330
    },
    "id": "wNAL8_vP1jM3",
    "outputId": "2c44a636-cf92-4822-e598-dcb454d749fc"
   },
   "outputs": [
    {
     "name": "stdout",
     "output_type": "stream",
     "text": [
      "print(\"A\", x.strftime(\"%A\")) #: A\n",
      "print(\"a\", x.strftime(\"%a\")) #: a\n",
      "print(\"C\", x.strftime(\"%C\")) #: C\n",
      "print(\"c\", x.strftime(\"%c\")) #: c\n",
      "print(\"E\", x.strftime(\"%E\")) #: E\n",
      "print(\"e\", x.strftime(\"%e\")) #: e\n",
      "print(\"G\", x.strftime(\"%G\")) #: G\n",
      "print(\"g\", x.strftime(\"%g\")) #: g\n",
      "print(\"I\", x.strftime(\"%I\")) #: I\n",
      "print(\"i\", x.strftime(\"%i\")) #: i\n",
      "print(\"K\", x.strftime(\"%K\")) #: K\n",
      "print(\"k\", x.strftime(\"%k\")) #: k\n",
      "print(\"M\", x.strftime(\"%M\")) #: M\n",
      "print(\"m\", x.strftime(\"%m\")) #: m\n",
      "print(\"O\", x.strftime(\"%O\")) #: O\n",
      "print(\"o\", x.strftime(\"%o\")) #: o\n",
      "print(\"Q\", x.strftime(\"%Q\")) #: Q\n",
      "print(\"q\", x.strftime(\"%q\")) #: q\n",
      "print(\"S\", x.strftime(\"%S\")) #: S\n",
      "print(\"s\", x.strftime(\"%s\")) #: s\n",
      "print(\"U\", x.strftime(\"%U\")) #: U\n",
      "print(\"u\", x.strftime(\"%u\")) #: u\n",
      "print(\"W\", x.strftime(\"%W\")) #: W\n",
      "print(\"w\", x.strftime(\"%w\")) #: w\n",
      "print(\"Y\", x.strftime(\"%Y\")) #: Y\n",
      "print(\"y\", x.strftime(\"%y\")) #: y\n"
     ]
    }
   ],
   "source": [
    "import datetime\n",
    "\n",
    "x = datetime.datetime.now()\n",
    "\n",
    "# Print alternative ASCII characters and their values\n",
    "for char_upper, char_lower in zip(range(ord('A'), ord('Z')+1, 2), range(ord('a'), ord('z')+1, 2)):\n",
    "    print(f'print(\"{chr(char_upper)}\", x.strftime(\"%{chr(char_upper)}\")) #: {chr(char_upper)}')\n",
    "    print(f'print(\"{chr(char_lower)}\", x.strftime(\"%{chr(char_lower)}\")) #: {chr(char_lower)}')\n"
   ]
  },
  {
   "cell_type": "code",
   "execution_count": 15,
   "metadata": {
    "colab": {
     "base_uri": "https://localhost:8080/"
    },
    "executionInfo": {
     "elapsed": 416,
     "status": "ok",
     "timestamp": 1709042027912,
     "user": {
      "displayName": "Yogesh KS",
      "userId": "07687895109534174207"
     },
     "user_tz": -330
    },
    "id": "l9nMw49P18Bz",
    "outputId": "bc3e75d3-ea75-4ace-c309-d3b109bda98c"
   },
   "outputs": [
    {
     "name": "stdout",
     "output_type": "stream",
     "text": [
      "print(\"A\", x.strftime(\"%A\")) #: A\n",
      "print(\"a\", x.strftime(\"%a\")) #: a\n",
      "print(\"B\", x.strftime(\"%B\")) #: B\n",
      "print(\"b\", x.strftime(\"%b\")) #: b\n",
      "print(\"C\", x.strftime(\"%C\")) #: C\n",
      "print(\"c\", x.strftime(\"%c\")) #: c\n",
      "print(\"D\", x.strftime(\"%D\")) #: D\n",
      "print(\"d\", x.strftime(\"%d\")) #: d\n",
      "print(\"E\", x.strftime(\"%E\")) #: E\n",
      "print(\"e\", x.strftime(\"%e\")) #: e\n",
      "print(\"F\", x.strftime(\"%F\")) #: F\n",
      "print(\"f\", x.strftime(\"%f\")) #: f\n",
      "print(\"G\", x.strftime(\"%G\")) #: G\n",
      "print(\"g\", x.strftime(\"%g\")) #: g\n",
      "print(\"H\", x.strftime(\"%H\")) #: H\n",
      "print(\"h\", x.strftime(\"%h\")) #: h\n",
      "print(\"I\", x.strftime(\"%I\")) #: I\n",
      "print(\"i\", x.strftime(\"%i\")) #: i\n",
      "print(\"J\", x.strftime(\"%J\")) #: J\n",
      "print(\"j\", x.strftime(\"%j\")) #: j\n",
      "print(\"K\", x.strftime(\"%K\")) #: K\n",
      "print(\"k\", x.strftime(\"%k\")) #: k\n",
      "print(\"L\", x.strftime(\"%L\")) #: L\n",
      "print(\"l\", x.strftime(\"%l\")) #: l\n",
      "print(\"M\", x.strftime(\"%M\")) #: M\n",
      "print(\"m\", x.strftime(\"%m\")) #: m\n",
      "print(\"N\", x.strftime(\"%N\")) #: N\n",
      "print(\"n\", x.strftime(\"%n\")) #: n\n",
      "print(\"O\", x.strftime(\"%O\")) #: O\n",
      "print(\"o\", x.strftime(\"%o\")) #: o\n",
      "print(\"P\", x.strftime(\"%P\")) #: P\n",
      "print(\"p\", x.strftime(\"%p\")) #: p\n",
      "print(\"Q\", x.strftime(\"%Q\")) #: Q\n",
      "print(\"q\", x.strftime(\"%q\")) #: q\n",
      "print(\"R\", x.strftime(\"%R\")) #: R\n",
      "print(\"r\", x.strftime(\"%r\")) #: r\n",
      "print(\"S\", x.strftime(\"%S\")) #: S\n",
      "print(\"s\", x.strftime(\"%s\")) #: s\n",
      "print(\"T\", x.strftime(\"%T\")) #: T\n",
      "print(\"t\", x.strftime(\"%t\")) #: t\n",
      "print(\"U\", x.strftime(\"%U\")) #: U\n",
      "print(\"u\", x.strftime(\"%u\")) #: u\n",
      "print(\"V\", x.strftime(\"%V\")) #: V\n",
      "print(\"v\", x.strftime(\"%v\")) #: v\n",
      "print(\"W\", x.strftime(\"%W\")) #: W\n",
      "print(\"w\", x.strftime(\"%w\")) #: w\n",
      "print(\"X\", x.strftime(\"%X\")) #: X\n",
      "print(\"x\", x.strftime(\"%x\")) #: x\n",
      "print(\"Y\", x.strftime(\"%Y\")) #: Y\n",
      "print(\"y\", x.strftime(\"%y\")) #: y\n",
      "print(\"Z\", x.strftime(\"%Z\")) #: Z\n",
      "print(\"z\", x.strftime(\"%z\")) #: z\n"
     ]
    }
   ],
   "source": [
    "import datetime\n",
    "\n",
    "x = datetime.datetime.now()\n",
    "\n",
    "# Print all ASCII characters and their values\n",
    "for char_upper, char_lower in zip(range(ord('A'), ord('Z')+1), range(ord('a'), ord('z')+1)):\n",
    "    print(f'print(\"{chr(char_upper)}, {x.strftime(chr(char_upper)}: {chr(char_upper)}')\n",
    "    print(f'print(\"{chr(char_lower)}, {x.strftime(chr(char_lower)}: {chr(char_lower)}')\n"
   ]
  }
 ],
 "metadata": {
  "colab": {
   "authorship_tag": "ABX9TyPe/ekfB0k8qfQhK4WQhR9S",
   "provenance": []
  },
  "kernelspec": {
   "display_name": ".conda",
   "language": "python",
   "name": "python3"
  },
  "language_info": {
   "name": "python",
   "version": "3.10.14"
  }
 },
 "nbformat": 4,
 "nbformat_minor": 0
}
